{
 "cells": [
  {
   "cell_type": "markdown",
   "id": "712d51dd-dffa-4a04-9870-544f88ef4800",
   "metadata": {},
   "source": [
    "# 모듈은 파이썬 파일이다.\n",
    "## 확장자가 .py 여야 한다."
   ]
  },
  {
   "cell_type": "code",
   "execution_count": 2,
   "id": "ebe643fe-7d03-4022-ad8b-0337964c7aca",
   "metadata": {},
   "outputs": [
    {
     "ename": "IndentationError",
     "evalue": "expected an indented block after 'if' statement on line 21 (first.py, line 34)",
     "output_type": "error",
     "traceback": [
      "Traceback \u001b[36m(most recent call last)\u001b[39m:\n",
      "  File \u001b[92m~\\miniconda3\\envs\\hipython\\Lib\\site-packages\\IPython\\core\\interactiveshell.py:3667\u001b[39m in \u001b[95mrun_code\u001b[39m\n    exec(code_obj, self.user_global_ns, self.user_ns)\n",
      "\u001b[36m  \u001b[39m\u001b[36mCell\u001b[39m\u001b[36m \u001b[39m\u001b[32mIn[2]\u001b[39m\u001b[32m, line 1\u001b[39m\n\u001b[31m    \u001b[39m\u001b[31mimport first\u001b[39m\n",
      "  \u001b[36mFile \u001b[39m\u001b[32mC:\\mysrc\\first.py:34\u001b[39m\n\u001b[31m    \u001b[39m\n    ^\n\u001b[31mIndentationError\u001b[39m\u001b[31m:\u001b[39m expected an indented block after 'if' statement on line 21\n"
     ]
    }
   ],
   "source": [
    "import first\n",
    "first.my_func()\n",
    "first.my_func1()"
   ]
  },
  {
   "cell_type": "code",
   "execution_count": 1,
   "id": "fdc51f08-f180-46e6-9aa8-69803c46e711",
   "metadata": {},
   "outputs": [
    {
     "ename": "IndentationError",
     "evalue": "expected an indented block after 'if' statement on line 21 (first.py, line 34)",
     "output_type": "error",
     "traceback": [
      "Traceback \u001b[36m(most recent call last)\u001b[39m:\n",
      "  File \u001b[92m~\\miniconda3\\envs\\hipython\\Lib\\site-packages\\IPython\\core\\interactiveshell.py:3667\u001b[39m in \u001b[95mrun_code\u001b[39m\n    exec(code_obj, self.user_global_ns, self.user_ns)\n",
      "\u001b[36m  \u001b[39m\u001b[36mCell\u001b[39m\u001b[36m \u001b[39m\u001b[32mIn[1]\u001b[39m\u001b[32m, line 1\u001b[39m\n\u001b[31m    \u001b[39m\u001b[31mimport first as fr\u001b[39m\n",
      "  \u001b[36mFile \u001b[39m\u001b[32mC:\\mysrc\\first.py:34\u001b[39m\n\u001b[31m    \u001b[39m\n    ^\n\u001b[31mIndentationError\u001b[39m\u001b[31m:\u001b[39m expected an indented block after 'if' statement on line 21\n"
     ]
    }
   ],
   "source": [
    "import first as fr\n",
    "fr.my_func()"
   ]
  },
  {
   "cell_type": "code",
   "execution_count": 9,
   "id": "f432e629-0eb6-46ba-b80e-2fa66bde95ee",
   "metadata": {},
   "outputs": [
    {
     "name": "stdout",
     "output_type": "stream",
     "text": [
      "2nd hello\n"
     ]
    }
   ],
   "source": [
    "import first as fr\n",
    "fr.my_func1()"
   ]
  },
  {
   "cell_type": "code",
   "execution_count": 10,
   "id": "7d72ff21-f18d-4128-a2aa-8bd1005f5fe6",
   "metadata": {},
   "outputs": [
    {
     "name": "stdout",
     "output_type": "stream",
     "text": [
      "3rd hello\n"
     ]
    }
   ],
   "source": [
    "import first as fr\n",
    "fr.my_func2()"
   ]
  },
  {
   "cell_type": "code",
   "execution_count": 1,
   "id": "49e2e99c-0562-47a7-8366-505376f87d10",
   "metadata": {},
   "outputs": [
    {
     "ename": "IndentationError",
     "evalue": "expected an indented block after 'if' statement on line 21 (first.py, line 34)",
     "output_type": "error",
     "traceback": [
      "Traceback \u001b[36m(most recent call last)\u001b[39m:\n",
      "  File \u001b[92m~\\miniconda3\\envs\\hipython\\Lib\\site-packages\\IPython\\core\\interactiveshell.py:3667\u001b[39m in \u001b[95mrun_code\u001b[39m\n    exec(code_obj, self.user_global_ns, self.user_ns)\n",
      "\u001b[36m  \u001b[39m\u001b[36mCell\u001b[39m\u001b[36m \u001b[39m\u001b[32mIn[1]\u001b[39m\u001b[32m, line 1\u001b[39m\n\u001b[31m    \u001b[39m\u001b[31mfrom first import my_func\u001b[39m\n",
      "  \u001b[36mFile \u001b[39m\u001b[32mC:\\mysrc\\first.py:34\u001b[39m\n\u001b[31m    \u001b[39m\n    ^\n\u001b[31mIndentationError\u001b[39m\u001b[31m:\u001b[39m expected an indented block after 'if' statement on line 21\n"
     ]
    }
   ],
   "source": [
    "from first import my_func\n",
    "my_func()"
   ]
  },
  {
   "cell_type": "code",
   "execution_count": 2,
   "id": "af847b67-dead-46cd-b013-d0cc7b9979a4",
   "metadata": {},
   "outputs": [
    {
     "data": {
      "text/plain": [
       "['__annotations__',\n",
       " '__builtins__',\n",
       " '__call__',\n",
       " '__class__',\n",
       " '__closure__',\n",
       " '__code__',\n",
       " '__defaults__',\n",
       " '__delattr__',\n",
       " '__dict__',\n",
       " '__dir__',\n",
       " '__doc__',\n",
       " '__eq__',\n",
       " '__format__',\n",
       " '__ge__',\n",
       " '__get__',\n",
       " '__getattribute__',\n",
       " '__getstate__',\n",
       " '__globals__',\n",
       " '__gt__',\n",
       " '__hash__',\n",
       " '__init__',\n",
       " '__init_subclass__',\n",
       " '__kwdefaults__',\n",
       " '__le__',\n",
       " '__lt__',\n",
       " '__module__',\n",
       " '__name__',\n",
       " '__ne__',\n",
       " '__new__',\n",
       " '__qualname__',\n",
       " '__reduce__',\n",
       " '__reduce_ex__',\n",
       " '__repr__',\n",
       " '__setattr__',\n",
       " '__sizeof__',\n",
       " '__str__',\n",
       " '__subclasshook__',\n",
       " '__type_params__']"
      ]
     },
     "execution_count": 2,
     "metadata": {},
     "output_type": "execute_result"
    }
   ],
   "source": [
    "dir(my_func)"
   ]
  },
  {
   "cell_type": "code",
   "execution_count": 3,
   "id": "233e1639-846b-489c-82cd-a3db1135215d",
   "metadata": {},
   "outputs": [
    {
     "name": "stdout",
     "output_type": "stream",
     "text": [
      "first module 입니다.\n",
      "the end ...\n",
      "hello\n"
     ]
    }
   ],
   "source": [
    "import my_first_package.second"
   ]
  },
  {
   "cell_type": "markdown",
   "id": "445c9681-8813-4b93-beb2-9f5e9273a0ce",
   "metadata": {},
   "source": [
    "# 모듈의 실행 vs 모듈의 import 구분\n",
    "\n",
    "- 모듈 단독 실행시에만 호출되는 코드\n",
    "- `if__name__` == `__main__`:   \n",
    "  실행함수   \n",
    "else :</br>\n",
    "\n",
    "  변수 설정   \n",
    "\n",
    "- import 할 때는 실행되지 않는다."
   ]
  },
  {
   "cell_type": "markdown",
   "id": "83b58a49-f760-4178-b550-4bccc1a4f063",
   "metadata": {},
   "source": [
    "# 패키지 : 모듈의 묶음\n",
    "\n",
    "윈도우, 리눅스 : 디텔토리 / 폴더\n",
    "import 폴더명. 모듈명"
   ]
  },
  {
   "cell_type": "code",
   "execution_count": 1,
   "id": "e6ad5f13-7979-421a-bd0b-e8145887660f",
   "metadata": {},
   "outputs": [
    {
     "name": "stderr",
     "output_type": "stream",
     "text": [
      "UsageError: %%writefile is a cell magic, but the cell body is empty.\n"
     ]
    }
   ],
   "source": [
    "%%writefile my_first_package.magic_calc.basic_ops.py"
   ]
  },
  {
   "cell_type": "code",
   "execution_count": 2,
   "id": "d3f16f98-2e62-40aa-b5df-8f06f7b76e6d",
   "metadata": {},
   "outputs": [
    {
     "ename": "ModuleNotFoundError",
     "evalue": "No module named 'magic_calc'",
     "output_type": "error",
     "traceback": [
      "\u001b[31m---------------------------------------------------------------------------\u001b[39m",
      "\u001b[31mModuleNotFoundError\u001b[39m                       Traceback (most recent call last)",
      "\u001b[36mCell\u001b[39m\u001b[36m \u001b[39m\u001b[32mIn[2]\u001b[39m\u001b[32m, line 2\u001b[39m\n\u001b[32m      1\u001b[39m \u001b[38;5;66;03m#방법1\u001b[39;00m\n\u001b[32m----> \u001b[39m\u001b[32m2\u001b[39m \u001b[38;5;28;01mimport\u001b[39;00m\u001b[38;5;250m \u001b[39m\u001b[34;01mmagic_calc\u001b[39;00m\n\u001b[32m      4\u001b[39m result_add = magic_calc.basic_ops.add(\u001b[32m10\u001b[39m,\u001b[32m5\u001b[39m)\n\u001b[32m      5\u001b[39m \u001b[38;5;28mprint\u001b[39m(result_add)\n",
      "\u001b[31mModuleNotFoundError\u001b[39m: No module named 'magic_calc'"
     ]
    }
   ],
   "source": [
    "#방법1\n",
    "import magic_calc\n",
    "\n",
    "result_add = magic_calc.basic_ops.add(10,5)\n",
    "print(result_add)"
   ]
  },
  {
   "cell_type": "code",
   "execution_count": null,
   "id": "ddab6e6d-428f-4187-8d92-7a3a38a20805",
   "metadata": {},
   "outputs": [],
   "source": []
  },
  {
   "cell_type": "code",
   "execution_count": null,
   "id": "4c7d64bc-30a2-4556-9746-c264dde9c249",
   "metadata": {},
   "outputs": [],
   "source": []
  }
 ],
 "metadata": {
  "kernelspec": {
   "display_name": "Python 3 (ipykernel)",
   "language": "python",
   "name": "python3"
  },
  "language_info": {
   "codemirror_mode": {
    "name": "ipython",
    "version": 3
   },
   "file_extension": ".py",
   "mimetype": "text/x-python",
   "name": "python",
   "nbconvert_exporter": "python",
   "pygments_lexer": "ipython3",
   "version": "3.12.9"
  }
 },
 "nbformat": 4,
 "nbformat_minor": 5
}
