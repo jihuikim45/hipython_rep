{
 "cells": [
  {
   "cell_type": "markdown",
   "id": "9bf523cf-40b3-4ef4-955e-200975d1bfcb",
   "metadata": {},
   "source": [
    "# 파이썬으로 객체지향 프로그래밍 OOP\n",
    "\n",
    "Object Oriented Programming\n",
    "\n",
    "파이썬으로 만드는 응용프로그램\n",
    "\n",
    "- 변수: 전역, 지역\n",
    "- 함수: 기능 구현하는 도구\n",
    "- 모듈: 함수의 모음, 변수의 모음 > .py\n",
    "- CRUD의 구현 : Create, Read, Update, Delete\n",
    "- 클래스: 변수와 함수를 하나로 묶어주는 구조의 개념   \n",
    "모듈보다 더 작게 만들 수 있음\n",
    "- 객체: 클래스를 이용해서 다수의 객체를 생성\n",
    "- 객체지향 프로그램: 객체를 이용하는 프로그래밍"
   ]
  },
  {
   "cell_type": "markdown",
   "id": "b9aa99d3-aa27-45a7-8bc0-99bc206ee076",
   "metadata": {},
   "source": [
    "## 객체를 만드는 법\n",
    "\n",
    "1. 클래스 만들기\n",
    "2. 클래스를 이용해 객체를 생성\n",
    "3. 객체의 함수 : 메서드를 호출"
   ]
  },
  {
   "cell_type": "code",
   "execution_count": 26,
   "id": "95515ce0-f979-4094-921e-4c091aae7081",
   "metadata": {},
   "outputs": [],
   "source": [
    "class Bicycle():\n",
    "    #속성추가 : 생성자\n",
    "    def __init__(self, color, wheelsize=20):\n",
    "        self.color = color\n",
    "        self.wheelsize = wheelsize\n",
    "        \n",
    "    # def __init__(self, color):\n",
    "    #     self.color = color    \n",
    "        \n",
    "    def move(self):\n",
    "        print(f'{self.color}{self.wheelsize} 자전거가 지나갑니다.')"
   ]
  },
  {
   "cell_type": "code",
   "execution_count": 27,
   "id": "7cf247a9-6d02-4e67-9316-5cf3e3cc5172",
   "metadata": {},
   "outputs": [
    {
     "name": "stdout",
     "output_type": "stream",
     "text": [
      "white20 자전거가 지나갑니다.\n",
      "red20 자전거가 지나갑니다.\n",
      "puple20 자전거가 지나갑니다.\n"
     ]
    }
   ],
   "source": [
    "bi = Bicycle('white')\n",
    "bi_1 = Bicycle('red')\n",
    "bi_2 = Bicycle('puple')\n",
    "bi.move() #객체 메서드를 호출\n",
    "bi_1.move()\n",
    "bi_2.move()"
   ]
  },
  {
   "cell_type": "code",
   "execution_count": 13,
   "id": "e94e7b12-eae5-44ab-b7c5-a97850740d96",
   "metadata": {},
   "outputs": [
    {
     "data": {
      "text/plain": [
       "(__main__.Bicycle, __main__.Bicycle, __main__.Bicycle)"
      ]
     },
     "execution_count": 13,
     "metadata": {},
     "output_type": "execute_result"
    }
   ],
   "source": [
    "type(bi),type(bi_1),type(bi_2)"
   ]
  },
  {
   "cell_type": "code",
   "execution_count": 14,
   "id": "4d40865e-158f-4639-a492-2696c41548b4",
   "metadata": {
    "collapsed": true,
    "jupyter": {
     "outputs_hidden": true
    },
    "scrolled": true
   },
   "outputs": [
    {
     "data": {
      "text/plain": [
       "['__class__',\n",
       " '__delattr__',\n",
       " '__dict__',\n",
       " '__dir__',\n",
       " '__doc__',\n",
       " '__eq__',\n",
       " '__format__',\n",
       " '__ge__',\n",
       " '__getattribute__',\n",
       " '__getstate__',\n",
       " '__gt__',\n",
       " '__hash__',\n",
       " '__init__',\n",
       " '__init_subclass__',\n",
       " '__le__',\n",
       " '__lt__',\n",
       " '__module__',\n",
       " '__ne__',\n",
       " '__new__',\n",
       " '__reduce__',\n",
       " '__reduce_ex__',\n",
       " '__repr__',\n",
       " '__setattr__',\n",
       " '__sizeof__',\n",
       " '__str__',\n",
       " '__subclasshook__',\n",
       " '__weakref__',\n",
       " 'color',\n",
       " 'move',\n",
       " 'wheelsize']"
      ]
     },
     "execution_count": 14,
     "metadata": {},
     "output_type": "execute_result"
    }
   ],
   "source": [
    "dir(bi)"
   ]
  },
  {
   "cell_type": "code",
   "execution_count": 32,
   "id": "d64ed8be-21b2-4558-ab90-35b0398d6b2f",
   "metadata": {},
   "outputs": [],
   "source": [
    "class student:\n",
    "    def __init__(self, name, age):\n",
    "        self.name = name\n",
    "        self.age = age\n",
    "\n",
    "    def introduce(self):\n",
    "        print(f\"안녕하세요! 제 이름은 {self.name}이고, 나이는 {self.age}살 입니다.\")\n",
    "        "
   ]
  },
  {
   "cell_type": "code",
   "execution_count": 33,
   "id": "ebbde73e-88fa-4227-8e79-6ccd8d4cb2d1",
   "metadata": {},
   "outputs": [
    {
     "name": "stdout",
     "output_type": "stream",
     "text": [
      "안녕하세요! 제 이름은 지희이고, 나이는 25살 입니다.\n"
     ]
    }
   ],
   "source": [
    "stu = student('지희', 25)\n",
    "stu.introduce()"
   ]
  },
  {
   "cell_type": "markdown",
   "id": "d966c241-27b3-44ba-9593-30faba72d30f",
   "metadata": {},
   "source": [
    "# 클래스의 속성 - 변수\n",
    "\n",
    "1. 인스턴스 변수\n",
    "2. 클래스 변수"
   ]
  },
  {
   "cell_type": "code",
   "execution_count": 35,
   "id": "f7f2328d-bacb-4121-98c9-52774774fe60",
   "metadata": {},
   "outputs": [],
   "source": [
    "class Car():\n",
    "    #클래스 변수\n",
    "    instance_cnt = 0\n",
    "\n",
    "    def __init__(self, size):\n",
    "        self.size = size\n",
    "        Car.instance_cnt += 1\n",
    "        print(f\"자동차가 {Car.instance_cnt}대 생성되었습니다.\")\n",
    "\n",
    "    def move(self):\n",
    "        print(f\"{self.size}의 자동차가 움직입니다.\")\n",
    "    "
   ]
  },
  {
   "cell_type": "code",
   "execution_count": 36,
   "id": "94b8326f-2ced-4482-8a1d-bf275d8faac6",
   "metadata": {
    "collapsed": true,
    "jupyter": {
     "outputs_hidden": true,
     "source_hidden": true
    }
   },
   "outputs": [
    {
     "name": "stdout",
     "output_type": "stream",
     "text": [
      "자동차가 1대 생성되었습니다.\n",
      "자동차가 2대 생성되었습니다.\n",
      "자동차가 3대 생성되었습니다.\n",
      "2000의 자동차가 움직입니다.\n",
      "1500의 자동차가 움직입니다.\n",
      "3000의 자동차가 움직입니다.\n"
     ]
    }
   ],
   "source": [
    "c1 = Car(2000)\n",
    "c2 = Car(1500)\n",
    "c3 = Car(3000)\n",
    "\n",
    "c1.move()\n",
    "c2.move()\n",
    "c3.move()\n"
   ]
  },
  {
   "cell_type": "code",
   "execution_count": null,
   "id": "3ea44dc5-7675-42be-99ac-c072c5d93b66",
   "metadata": {},
   "outputs": [],
   "source": [
    "class Student:\n",
    "    school = \"파이썬 스쿨\"  # 클래스 변수\n",
    "    \n",
    "    def __init__(self, name):\n",
    "        self.name = name  # 인스턴스 변수\n",
    "\n"
   ]
  },
  {
   "cell_type": "code",
   "execution_count": 37,
   "id": "07011760-7826-4657-a6c0-200272530e59",
   "metadata": {},
   "outputs": [],
   "source": [
    "class Student:\n",
    "    school = \"파이썬 스쿨\"\n",
    "\n",
    "    def __init__(self, name):\n",
    "        self.name = name\n",
    "\n"
   ]
  },
  {
   "cell_type": "code",
   "execution_count": 38,
   "id": "93dd21fc-4ce1-4f83-8910-ddf0423551fe",
   "metadata": {},
   "outputs": [
    {
     "name": "stdout",
     "output_type": "stream",
     "text": [
      "지희\n",
      "기영\n",
      "파이썬 스쿨\n"
     ]
    }
   ],
   "source": [
    "s1 = Student(\"지희\")\n",
    "s2 = Student(\"기영\")\n",
    "\n",
    "print(s1. name)\n",
    "print(s2. name)\n",
    "print(Student.school)"
   ]
  },
  {
   "cell_type": "markdown",
   "id": "e5f7c6bb-9a39-45a9-b2f9-d54640ac3b3e",
   "metadata": {},
   "source": [
    "# 메서드\n",
    "1. 인스턴스 메서드 : self\n",
    "2. 스태틱(정적) 메서드 : @staticmethod\n",
    "3. 클래스 메서드 : @classmethod"
   ]
  },
  {
   "cell_type": "code",
   "execution_count": 40,
   "id": "b9925b3b-a205-4271-88ba-f616356b5f0e",
   "metadata": {},
   "outputs": [],
   "source": [
    "class Calculator:\n",
    "    def __init__(self, x, y):    #instane method\n",
    "        self.x = x\n",
    "        self.y = y\n",
    "\n",
    "    def add(self):\n",
    "        return self.x + self.y     #instane method\n",
    "\n",
    "    def multiply(self):\n",
    "        return self.x * self.y     #instane method\n"
   ]
  },
  {
   "cell_type": "code",
   "execution_count": 42,
   "id": "ddecddc0-6ecc-48a7-856d-33645128e0f3",
   "metadata": {},
   "outputs": [
    {
     "data": {
      "text/plain": [
       "12"
      ]
     },
     "execution_count": 42,
     "metadata": {},
     "output_type": "execute_result"
    }
   ],
   "source": [
    "calc = Calculator(3,4)  #__init__() 생성자 함수를 자동으로 호출\n",
    "calc.add()   #instance method의 호출 > 객체의 참조.메서드()\n",
    "calc.multiply()"
   ]
  },
  {
   "cell_type": "code",
   "execution_count": 58,
   "id": "7acbbec9-6a84-4bde-ad5a-4815f083d7ad",
   "metadata": {},
   "outputs": [],
   "source": [
    "class Car():\n",
    "    instance_cnt = 0 #클래스 속성\n",
    "    \n",
    "    def __init__(self, size):\n",
    "        self.size = size\n",
    "        Car.instance_cnt += 1\n",
    "        print(f\"자동차가 {Car.instance_cnt}대 생성되었습니다.\")\n",
    "        \n",
    "    def auto_cruise(self): #instance method\n",
    "        print('자율주행중')\n",
    "\n",
    "    @staticmethod\n",
    "    def check_type(code): #static method (매개변수받아사용)\n",
    "        if code > 20 : \n",
    "            print('전기자동차')\n",
    "\n",
    "        elif 10 < code < 20:\n",
    "            print('가솔린자동차')\n",
    "\n",
    "        else:\n",
    "            print('디젤자동차')\n",
    "\n",
    "    @classmethod\n",
    "    def count_instance(cls):    #class method\n",
    "        print(f\"자동차 대수 : {cls.instance_cnt}\")"
   ]
  },
  {
   "cell_type": "code",
   "execution_count": 59,
   "id": "c774e72a-08fa-4d8b-b9bc-08e2d2518f9e",
   "metadata": {
    "jupyter": {
     "source_hidden": true
    }
   },
   "outputs": [
    {
     "name": "stdout",
     "output_type": "stream",
     "text": [
      "자동차가 1대 생성되었습니다.\n",
      "전기자동차\n"
     ]
    }
   ],
   "source": [
    "c1 = Car(2000)\n",
    "Car.check_type(25)"
   ]
  },
  {
   "cell_type": "code",
   "execution_count": 60,
   "id": "42afe1f6-6798-491a-a2d8-b58ab1374aa7",
   "metadata": {
    "jupyter": {
     "source_hidden": true
    }
   },
   "outputs": [
    {
     "name": "stdout",
     "output_type": "stream",
     "text": [
      "자동차 대수 : 1\n"
     ]
    }
   ],
   "source": [
    "Car.count_instance()"
   ]
  },
  {
   "cell_type": "code",
   "execution_count": 15,
   "id": "10117ed2-d8fb-487b-80f2-f58b24d9d1e4",
   "metadata": {},
   "outputs": [],
   "source": [
    "Student = [\n",
    "               {'num':'1','name':'김철수','kor':90,'eng':80,'math':85,'total':0,'avg':0.0,'order':0 },\n",
    "               {'num':'2','name':'박제동','kor':90,'eng':85,'math':90,'total':0,'avg':0.0,'order':0 },\n",
    "               {'num':'3','name':'홍길동','kor':80,'eng':80,'math':80,'total':0,'avg':0.0,'order':0 }\n",
    "           ]"
   ]
  },
  {
   "cell_type": "markdown",
   "id": "f68a0933-48cd-4f0a-be32-e75e00963259",
   "metadata": {},
   "source": [
    "# 성적 클래스"
   ]
  },
  {
   "cell_type": "code",
   "execution_count": 160,
   "id": "0b5938e7-7421-45ad-9c7a-ef9a5ce233e3",
   "metadata": {},
   "outputs": [],
   "source": [
    "import random"
   ]
  },
  {
   "cell_type": "code",
   "execution_count": 161,
   "id": "7ce0c9d8-bfc8-4bae-b219-5b11b3552e68",
   "metadata": {},
   "outputs": [],
   "source": [
    "class Student():\n",
    "    def __init__(self, num, name, kor, eng, math):\n",
    "        self.num = num\n",
    "        self.name = name\n",
    "        self.kor = kor\n",
    "        self.eng = eng\n",
    "        self.math = math\n",
    "        self.total = 0\n",
    "        self.avg = 0\n",
    "        self.order = 0\n",
    "\n",
    "    #학생 객체의 정보출력, instance method - self가 필요\n",
    "    def s_info(self):\n",
    "        print(f'{self.num},{self.name},{self.kor},{self.eng},{self.math},{self.total}')\n",
    "\n",
    "\n",
    "    #학생 객체의 총점\n",
    "    def calc_total(self):\n",
    "        self.total = self.kor + self.eng + self.math\n",
    "        self.avg = self.total / 3\n",
    "\n",
    "\n",
    "    # 학생 객체의 등수 계산\n",
    "    def set_order(self, order):\n",
    "        self.order = order\n",
    "\n",
    "    #Object 상속 받은 메서드 재정의 overriding\n",
    "    def __str__(self):\n",
    "        return f'{self.num}.{self.name} : {self.order} 등'\n",
    "\n",
    "    #학생 성적표\n",
    "    def print_score(self):\n",
    "        print(f'{self.name}: {self.avg:.2f}')\n",
    "        "
   ]
  },
  {
   "cell_type": "code",
   "execution_count": 162,
   "id": "ed6f2ce3-d16e-4f1a-a49c-a8ce3ec99ca1",
   "metadata": {},
   "outputs": [],
   "source": [
    "class Classroom():\n",
    "    def __init__(self, student_list):\n",
    "        self.students = self.gen_student_data(student_list)\n",
    "        self.name=''\n",
    "        \n",
    "\n",
    "    def set_name(self, class_name):\n",
    "        self.name = class_name\n",
    "\n",
    "    #클래스의 학생 목록의 생성\n",
    "    def gen_student_data(self, stu_list):   #instance method\n",
    "        students = []\n",
    "        for i, s_name in enumerate(stu_list, start=1):\n",
    "            #print(i, s_name)\n",
    "            s = Student(i, s_name, \n",
    "                        random.randint(50,100),\n",
    "                        random.randint(50,100),\n",
    "                        random.randint(50,100))\n",
    "            \n",
    "            s.calc_total()\n",
    "            #s.s_info()\n",
    "            \n",
    "            students.append(s)\n",
    "\n",
    "        return students\n",
    "\n",
    "    #학급의 학생 순위를 계산해서 학생 객체에 설정\n",
    "    def calc_order(self):\n",
    "        self.students.sort(key=lambda s: s.total, reverse=True)\n",
    "\n",
    "        for rank, student in enumerate(self.students, start=1):\n",
    "            student.order = rank\n",
    "        \n",
    "        # for student in self.students:\n",
    "        #     rank = 1\n",
    "        #     for other in self.students:\n",
    "        #         if other.total > student.total:\n",
    "        #             rank += 1\n",
    "        #     student.order = rank\n",
    "\n",
    "        # 순위 결과 확인용 출력 (선택 사항)\n",
    "        #for s in self.students:\n",
    "            \n",
    "            #print(f\"{s.name}의 순위: {s.order}\")\n",
    "\n",
    "\n",
    "    def print_student_score(self):\n",
    "        for student in self.students:\n",
    "            print(student)\n",
    "\n",
    "\n",
    "    #학급정보 리턴 함수 __str__\n",
    "    def __str__(self):\n",
    "        return f'학급명:{self.name}'\n",
    "\n",
    "    #학급성적표\n",
    "    #국어평균, 수학평균, 영어평균, 전체평균, 학생수\n",
    "    def print_class_score(self):\n",
    "        print(f'우리 학급은 {self.name} 입니다.')\n",
    "        \n",
    "        print(f'이번 우리 클래스의 전체 평균은 {sum(s.total for s in self.students)/len(self.students):.2f} 입니다.')\n",
    "        print(f'우리 학급은 총 {len(self.students)}명입니다.\\n')\n",
    "\n",
    "    def print_ordered_class_member(self):\n",
    "        s_students = sorted(self.students, key=lambda s:s.order)\n",
    "        \n",
    "        for s in s_students:\n",
    "            print(s.print_score())\n",
    "        \n",
    "    #Student()\n"
   ]
  },
  {
   "cell_type": "code",
   "execution_count": 163,
   "id": "250d03b3-35dd-42e4-9e23-6cc85b1cbc7c",
   "metadata": {},
   "outputs": [
    {
     "name": "stdout",
     "output_type": "stream",
     "text": [
      "1.전철원 : 1 등\n",
      "4.정혜영 : 2 등\n",
      "3.유연경 : 3 등\n",
      "2.박정은 : 4 등\n",
      "5.최지윤 : 1 등\n",
      "2.황세윤 : 2 등\n",
      "3.김지희 : 3 등\n",
      "1.김민준 : 4 등\n",
      "4.백지현 : 5 등\n",
      "****************************************\n",
      "우리 학급은 WN7 입니다.\n",
      "이번 우리 클래스의 전체 평균은 226.00 입니다.\n",
      "우리 학급은 총 4명입니다.\n",
      "\n",
      "전철원: 88.67\n",
      "None\n",
      "정혜영: 73.00\n",
      "None\n",
      "유연경: 71.00\n",
      "None\n",
      "박정은: 68.67\n",
      "None\n",
      "****************************************\n",
      "우리 학급은 software camp 입니다.\n",
      "이번 우리 클래스의 전체 평균은 223.80 입니다.\n",
      "우리 학급은 총 5명입니다.\n",
      "\n",
      "최지윤: 80.33\n",
      "None\n",
      "황세윤: 75.33\n",
      "None\n",
      "김지희: 73.33\n",
      "None\n",
      "김민준: 73.00\n",
      "None\n",
      "백지현: 71.00\n",
      "None\n"
     ]
    }
   ],
   "source": [
    "#main process\n",
    "a_class_stu = ['전철원', '박정은', '유연경', '정혜영']\n",
    "b_class_stu = ['김민준', '황세윤', '김지희', '백지현' , '최지윤']\n",
    "\n",
    "a_class = Classroom(a_class_stu)\n",
    "b_class = Classroom(b_class_stu)\n",
    "\n",
    "a_class.calc_order()\n",
    "a_class.print_student_score()\n",
    "a_class.set_name('WN7')\n",
    "\n",
    "#print(a_class)\n",
    "b_class.calc_order()\n",
    "b_class.print_student_score()\n",
    "b_class.set_name('software camp')\n",
    "\n",
    "print('*'*40)\n",
    "a_class.print_class_score()\n",
    "a_class.print_ordered_class_member()\n",
    "\n",
    "print('*'*40)\n",
    "b_class.print_class_score()\n",
    "b_class.print_ordered_class_member()"
   ]
  },
  {
   "cell_type": "markdown",
   "id": "60babfcd-a62e-4d4c-801c-5f22b9de5abb",
   "metadata": {},
   "source": [
    "# 객체와 클래스를 사용하는 이유\n",
    "\n",
    "1. 코드 작성화 관리가 편하다\n",
    "2. 규모가 크 ㄴ프로그램(라이브러리)에서 사용한다\n",
    "3. 유사한 객체가 많은 프로그램에서 사용한다(ex.게임)\n",
    "\n",
    "# 객체 지향의 특징\n",
    "- 캡슐화 encapsulation\n",
    "- 상속 inheritance\n",
    "- 다형성 polymorphism"
   ]
  },
  {
   "cell_type": "code",
   "execution_count": 164,
   "id": "adf42b9d-4039-4da1-9378-48e7e3aa70e2",
   "metadata": {},
   "outputs": [],
   "source": [
    "class MyClass():\n",
    "    def __init__(self):\n",
    "        self.var1 = 10 #public\n",
    "        self._var2 = 20 #protected\n",
    "        self.__var3 = 30 #private"
   ]
  },
  {
   "cell_type": "code",
   "execution_count": 165,
   "id": "4182ffe6-a251-4948-a17c-0c490c130b16",
   "metadata": {},
   "outputs": [
    {
     "data": {
      "text/plain": [
       "10"
      ]
     },
     "execution_count": 165,
     "metadata": {},
     "output_type": "execute_result"
    }
   ],
   "source": [
    "c1 = MyClass()\n",
    "c1.var1"
   ]
  },
  {
   "cell_type": "code",
   "execution_count": 168,
   "id": "6732d75f-8513-48d7-8120-a80f2c6fa7d0",
   "metadata": {},
   "outputs": [
    {
     "data": {
      "text/plain": [
       "30"
      ]
     },
     "execution_count": 168,
     "metadata": {},
     "output_type": "execute_result"
    }
   ],
   "source": [
    "c1._var2 = 30\n",
    "c1._var2"
   ]
  },
  {
   "cell_type": "code",
   "execution_count": 169,
   "id": "e66d8855-a645-467e-a9b7-ab9d5f3d0e19",
   "metadata": {},
   "outputs": [
    {
     "data": {
      "text/plain": [
       "['_MyClass__var3',\n",
       " '__class__',\n",
       " '__delattr__',\n",
       " '__dict__',\n",
       " '__dir__',\n",
       " '__doc__',\n",
       " '__eq__',\n",
       " '__format__',\n",
       " '__ge__',\n",
       " '__getattribute__',\n",
       " '__getstate__',\n",
       " '__gt__',\n",
       " '__hash__',\n",
       " '__init__',\n",
       " '__init_subclass__',\n",
       " '__le__',\n",
       " '__lt__',\n",
       " '__module__',\n",
       " '__ne__',\n",
       " '__new__',\n",
       " '__reduce__',\n",
       " '__reduce_ex__',\n",
       " '__repr__',\n",
       " '__setattr__',\n",
       " '__sizeof__',\n",
       " '__str__',\n",
       " '__subclasshook__',\n",
       " '__weakref__',\n",
       " '_var2',\n",
       " 'var1',\n",
       " 'var2']"
      ]
     },
     "execution_count": 169,
     "metadata": {},
     "output_type": "execute_result"
    }
   ],
   "source": [
    "dir(c1)"
   ]
  },
  {
   "cell_type": "code",
   "execution_count": 170,
   "id": "c92f6a0f-04aa-4496-a060-48c4a8af7a6a",
   "metadata": {},
   "outputs": [
    {
     "ename": "AttributeError",
     "evalue": "'MyClass' object has no attribute '__var3'",
     "output_type": "error",
     "traceback": [
      "\u001b[31m---------------------------------------------------------------------------\u001b[39m",
      "\u001b[31mAttributeError\u001b[39m                            Traceback (most recent call last)",
      "\u001b[36mCell\u001b[39m\u001b[36m \u001b[39m\u001b[32mIn[170]\u001b[39m\u001b[32m, line 1\u001b[39m\n\u001b[32m----> \u001b[39m\u001b[32m1\u001b[39m c1.__var3\n",
      "\u001b[31mAttributeError\u001b[39m: 'MyClass' object has no attribute '__var3'"
     ]
    }
   ],
   "source": [
    "c1.__var3"
   ]
  },
  {
   "cell_type": "code",
   "execution_count": 171,
   "id": "1820fc9e-89fe-4d9c-8ef8-d668f00c4816",
   "metadata": {},
   "outputs": [
    {
     "data": {
      "text/plain": [
       "30"
      ]
     },
     "execution_count": 171,
     "metadata": {},
     "output_type": "execute_result"
    }
   ],
   "source": [
    "c1._MyClass__var3 #맹글린"
   ]
  },
  {
   "cell_type": "code",
   "execution_count": 172,
   "id": "93599634-5718-4e27-817c-3ee6712236ae",
   "metadata": {
    "collapsed": true,
    "jupyter": {
     "outputs_hidden": true
    }
   },
   "outputs": [
    {
     "data": {
      "text/plain": [
       "['__class__',\n",
       " '__delattr__',\n",
       " '__dict__',\n",
       " '__dir__',\n",
       " '__doc__',\n",
       " '__eq__',\n",
       " '__format__',\n",
       " '__ge__',\n",
       " '__getattribute__',\n",
       " '__getstate__',\n",
       " '__gt__',\n",
       " '__hash__',\n",
       " '__init__',\n",
       " '__init_subclass__',\n",
       " '__le__',\n",
       " '__lt__',\n",
       " '__module__',\n",
       " '__ne__',\n",
       " '__new__',\n",
       " '__reduce__',\n",
       " '__reduce_ex__',\n",
       " '__repr__',\n",
       " '__setattr__',\n",
       " '__sizeof__',\n",
       " '__str__',\n",
       " '__subclasshook__',\n",
       " '__weakref__']"
      ]
     },
     "execution_count": 172,
     "metadata": {},
     "output_type": "execute_result"
    }
   ],
   "source": [
    "dir(MyClass)"
   ]
  },
  {
   "cell_type": "markdown",
   "id": "b59176c4-8a95-4b2e-909f-9079991f37fb",
   "metadata": {},
   "source": [
    "## 상속"
   ]
  },
  {
   "cell_type": "code",
   "execution_count": 175,
   "id": "0a53c4e0-ccde-4719-b182-4763d5ad0395",
   "metadata": {},
   "outputs": [],
   "source": [
    "class calculator():\n",
    "    def __init__(self, x,y):\n",
    "        self.x = x\n",
    "        self.y = y\n",
    "\n",
    "    def add(self):\n",
    "        return self.x + self.y "
   ]
  },
  {
   "cell_type": "code",
   "execution_count": 192,
   "id": "223c8984-0445-47f1-88f6-a1a27187def7",
   "metadata": {},
   "outputs": [],
   "source": [
    "#자식 클래스\n",
    "class AdvancedCalculator(calculator):    \n",
    "\n",
    "    #상속 받은 기능 재사용\n",
    "    #def __init__(self, x,y):\n",
    "\n",
    "    #자식이 추가한 기능\n",
    "    def divide(self):\n",
    "        if self.y == 0:\n",
    "            return '0으로 나누기 금지'\n",
    "        return self.x / self.y\n",
    "\n",
    "    def mul(self):\n",
    "        if self.x == 0:\n",
    "            return '0으로 곱하기 금지'\n",
    "        return self.x * self.y\n",
    "\n",
    "    def sub(self):\n",
    "        return self.x - self.y\n",
    "\n",
    "    \n",
    "\n",
    "    #상속받은 기능의 재정의\n",
    "    def add(self): #overriding\n",
    "        print('advanced calculator입니다.')\n",
    "        return super().add()"
   ]
  },
  {
   "cell_type": "code",
   "execution_count": 194,
   "id": "02e01e62-4b7b-4d30-98e3-325adc234791",
   "metadata": {},
   "outputs": [
    {
     "name": "stdout",
     "output_type": "stream",
     "text": [
      "6.0\n",
      "150\n",
      "25\n",
      "advanced calculator입니다.\n",
      "35\n"
     ]
    }
   ],
   "source": [
    "acalc = AdvancedCalculator(30, 5)\n",
    "print(acalc.divide())\n",
    "print(acalc.mul())\n",
    "print(acalc.sub())\n",
    "print(acalc.add())"
   ]
  },
  {
   "cell_type": "code",
   "execution_count": 180,
   "id": "ee84e2ce-fa03-4693-aa68-ec82527b8e46",
   "metadata": {},
   "outputs": [
    {
     "data": {
      "text/plain": [
       "['__class__',\n",
       " '__delattr__',\n",
       " '__dict__',\n",
       " '__dir__',\n",
       " '__doc__',\n",
       " '__eq__',\n",
       " '__format__',\n",
       " '__ge__',\n",
       " '__getattribute__',\n",
       " '__getstate__',\n",
       " '__gt__',\n",
       " '__hash__',\n",
       " '__init__',\n",
       " '__init_subclass__',\n",
       " '__le__',\n",
       " '__lt__',\n",
       " '__module__',\n",
       " '__ne__',\n",
       " '__new__',\n",
       " '__reduce__',\n",
       " '__reduce_ex__',\n",
       " '__repr__',\n",
       " '__setattr__',\n",
       " '__sizeof__',\n",
       " '__str__',\n",
       " '__subclasshook__',\n",
       " '__weakref__',\n",
       " 'add',\n",
       " 'divide',\n",
       " 'x',\n",
       " 'y']"
      ]
     },
     "execution_count": 180,
     "metadata": {},
     "output_type": "execute_result"
    }
   ],
   "source": [
    "dir(acalc)"
   ]
  },
  {
   "cell_type": "code",
   "execution_count": null,
   "id": "377d13af-1f24-41af-a47d-ad8a5e27546b",
   "metadata": {},
   "outputs": [],
   "source": []
  },
  {
   "cell_type": "code",
   "execution_count": null,
   "id": "39843211-880d-4099-97b4-bdc99e8728dd",
   "metadata": {},
   "outputs": [],
   "source": []
  },
  {
   "cell_type": "markdown",
   "id": "2f66ebfe-aebf-4326-a34f-557b51e9037b",
   "metadata": {},
   "source": []
  }
 ],
 "metadata": {
  "kernelspec": {
   "display_name": "Python 3 (ipykernel)",
   "language": "python",
   "name": "python3"
  },
  "language_info": {
   "codemirror_mode": {
    "name": "ipython",
    "version": 3
   },
   "file_extension": ".py",
   "mimetype": "text/x-python",
   "name": "python",
   "nbconvert_exporter": "python",
   "pygments_lexer": "ipython3",
   "version": "3.12.9"
  }
 },
 "nbformat": 4,
 "nbformat_minor": 5
}
