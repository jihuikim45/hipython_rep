{
 "cells": [
  {
   "cell_type": "code",
   "execution_count": null,
   "id": "7e078ac8",
   "metadata": {},
   "outputs": [],
   "source": []
  },
  {
   "cell_type": "markdown",
   "id": "967e146b",
   "metadata": {},
   "source": [
    "# defaultdict"
   ]
  },
  {
   "cell_type": "code",
   "execution_count": null,
   "id": "e2d355d8-3e89-4509-9b90-f3afef1ca36e",
   "metadata": {},
   "outputs": [],
   "source": [
    "from collections import defaultdict\n"
   ]
  },
  {
   "cell_type": "code",
   "execution_count": 4,
   "id": "f1aba73c",
   "metadata": {},
   "outputs": [
    {
     "name": "stdout",
     "output_type": "stream",
     "text": [
      "defaultdict(<class 'int'>, {'a': 1, 'b': 0, 'c': 2})\n"
     ]
    }
   ],
   "source": [
    "dd = defaultdict(int)\n",
    "dd['a'] = 1\n",
    "dd['b']\n",
    "dd['c'] = 2\n",
    "print(dd)"
   ]
  },
  {
   "cell_type": "code",
   "execution_count": 5,
   "id": "dd76e82a",
   "metadata": {},
   "outputs": [
    {
     "data": {
      "text/plain": [
       "[('alice', 90), ('bob', 80), ('chalie', 70), ('alice', 80)]"
      ]
     },
     "execution_count": 5,
     "metadata": {},
     "output_type": "execute_result"
    }
   ],
   "source": [
    "scores = [('alice', 90), ('bob', 80), ('chalie', 70), ('alice', 80)]\n",
    "scores"
   ]
  },
  {
   "cell_type": "code",
   "execution_count": 16,
   "id": "e90ef672",
   "metadata": {},
   "outputs": [
    {
     "data": {
      "text/plain": [
       "{'alice': [90, 80], 'bob': [80], 'chalie': [70]}"
      ]
     },
     "execution_count": 16,
     "metadata": {},
     "output_type": "execute_result"
    }
   ],
   "source": [
    "grouped = defaultdict(list)\n",
    "for name, score in scores:\n",
    "    grouped[name].append(score)\n",
    "    \n",
    "    \n",
    "dict(grouped)"
   ]
  },
  {
   "cell_type": "code",
   "execution_count": 12,
   "id": "87649e12",
   "metadata": {},
   "outputs": [
    {
     "data": {
      "text/plain": [
       "{'b': 1, 'a': 3, 'n': 2}"
      ]
     },
     "execution_count": 12,
     "metadata": {},
     "output_type": "execute_result"
    }
   ],
   "source": [
    "s = 'banana'\n",
    "cnt = defaultdict(int)\n",
    "\n",
    "for char in s:\n",
    "    cnt[char] += 1\n",
    "dict(cnt)"
   ]
  },
  {
   "cell_type": "markdown",
   "id": "04193297",
   "metadata": {},
   "source": [
    "# counter"
   ]
  },
  {
   "cell_type": "markdown",
   "id": "7eb953b4",
   "metadata": {},
   "source": [
    "counter"
   ]
  },
  {
   "cell_type": "code",
   "execution_count": 2,
   "id": "c8115d88",
   "metadata": {},
   "outputs": [
    {
     "data": {
      "text/plain": [
       "Counter({2: 3, 3: 2, 0: 1, 1: 1, 4: 1})"
      ]
     },
     "execution_count": 2,
     "metadata": {},
     "output_type": "execute_result"
    }
   ],
   "source": [
    "from collections import Counter\n",
    "\n",
    "list1 = [0,1,2,3,4,2,2,3]\n",
    "\n",
    "cnt = Counter(list1)\n",
    "cnt"
   ]
  },
  {
   "cell_type": "code",
   "execution_count": 3,
   "id": "2147f61c",
   "metadata": {},
   "outputs": [
    {
     "data": {
      "text/plain": [
       "[(2, 3), (3, 2)]"
      ]
     },
     "execution_count": 3,
     "metadata": {},
     "output_type": "execute_result"
    }
   ],
   "source": [
    "cnt.most_common(2)"
   ]
  },
  {
   "cell_type": "markdown",
   "id": "e5d6379e",
   "metadata": {},
   "source": [
    "# extend()\n",
    "\n",
    "extend() : 리스트에 풀어서 붙인다.   \n",
    "append() : 리스트에 1개씩 추가"
   ]
  },
  {
   "cell_type": "code",
   "execution_count": 4,
   "id": "97c355c6",
   "metadata": {},
   "outputs": [
    {
     "data": {
      "text/plain": [
       "[0, 1, 2, 3, 4, 2, 2, 3, [10, 11], 10, 11]"
      ]
     },
     "execution_count": 4,
     "metadata": {},
     "output_type": "execute_result"
    }
   ],
   "source": [
    "list1 = [0,1,2,3,4,2,2,3]\n",
    "list1.append([10, 11])\n",
    "list1.extend([10, 11])\n",
    "list1"
   ]
  },
  {
   "cell_type": "code",
   "execution_count": null,
   "id": "a6408665",
   "metadata": {},
   "outputs": [],
   "source": []
  },
  {
   "cell_type": "code",
   "execution_count": null,
   "id": "c6817366",
   "metadata": {},
   "outputs": [],
   "source": []
  },
  {
   "cell_type": "code",
   "execution_count": null,
   "id": "efc3713a",
   "metadata": {},
   "outputs": [],
   "source": []
  }
 ],
 "metadata": {
  "kernelspec": {
   "display_name": "hipython",
   "language": "python",
   "name": "python3"
  },
  "language_info": {
   "codemirror_mode": {
    "name": "ipython",
    "version": 3
   },
   "file_extension": ".py",
   "mimetype": "text/x-python",
   "name": "python",
   "nbconvert_exporter": "python",
   "pygments_lexer": "ipython3",
   "version": "3.12.9"
  }
 },
 "nbformat": 4,
 "nbformat_minor": 5
}
