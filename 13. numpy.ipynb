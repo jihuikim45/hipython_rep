{
 "cells": [
  {
   "cell_type": "code",
   "execution_count": 3,
   "id": "edbfa282",
   "metadata": {},
   "outputs": [
    {
     "data": {
      "text/plain": [
       "[[120, 135, 150, 145], [100, 110, 140, 130], [90, 100, 95, 105]]"
      ]
     },
     "execution_count": 3,
     "metadata": {},
     "output_type": "execute_result"
    }
   ],
   "source": [
    "import numpy as np\n",
    "\n",
    "data = [[120, 135, 150, 145],  # 제품A\n",
    "    [100, 110, 140, 130],  # 제품B\n",
    "    [90, 100, 95, 105]]\n",
    "\n",
    "data"
   ]
  },
  {
   "cell_type": "code",
   "execution_count": 4,
   "id": "7db6ee81",
   "metadata": {},
   "outputs": [
    {
     "data": {
      "text/plain": [
       "array([[120, 135, 150, 145],\n",
       "       [100, 110, 140, 130],\n",
       "       [ 90, 100,  95, 105]])"
      ]
     },
     "execution_count": 4,
     "metadata": {},
     "output_type": "execute_result"
    }
   ],
   "source": [
    "np.array(data)"
   ]
  },
  {
   "cell_type": "code",
   "execution_count": null,
   "id": "b4673ad0",
   "metadata": {},
   "outputs": [
    {
     "data": {
      "text/plain": [
       "array([550, 480, 390])"
      ]
     },
     "execution_count": 5,
     "metadata": {},
     "output_type": "execute_result"
    }
   ],
   "source": [
    "sales_data = np.array(data)\n",
    "np.sum(sales_data, axis=1) #총 판매량"
   ]
  },
  {
   "cell_type": "code",
   "execution_count": null,
   "id": "750cc4cc",
   "metadata": {},
   "outputs": [
    {
     "data": {
      "text/plain": [
       "array([7650, 8500, 9575, 9425])"
      ]
     },
     "execution_count": 7,
     "metadata": {},
     "output_type": "execute_result"
    }
   ],
   "source": [
    "profit_per_unit = np.array([20,30,25])\n",
    "total_sales = np.dot(profit_per_unit, sales_data)\n",
    "total_sales #총판매금액"
   ]
  },
  {
   "cell_type": "markdown",
   "id": "a20e53d8",
   "metadata": {},
   "source": [
    "# 넘파이의 사용\n",
    "\n",
    "1. 데이터 분석 프로젝트: 수치형 데이터의 요약, 통계, 시각화\n",
    "2. 이미지 처리 프로젝트: 이미지 분석\n",
    "3. 게임, 시뮬레이션 프로그램: 수치시뮬레이션 등을 구현\n",
    "4. 머신러닝 / 딥러닝 모델 프로젝트: 금융데이터, 의료데이터, 실험데이터, 센서데이터터"
   ]
  },
  {
   "cell_type": "markdown",
   "id": "3caaff89",
   "metadata": {},
   "source": [
    "# 이미지 처리\n"
   ]
  },
  {
   "cell_type": "code",
   "execution_count": null,
   "id": "cd149871",
   "metadata": {},
   "outputs": [],
   "source": [
    "from PIL import Image\n",
    "img = Image.open('dog.jpg').convert('L')\n",
    "img_ary = np.array(img)\n",
    "new_img = np.clip(img_ary+10, 0, 255).astype(np.uint8)\n",
    "Image.fromarray(new_img).save('new_sample.jpg')"
   ]
  },
  {
   "cell_type": "code",
   "execution_count": 18,
   "id": "55dc5dad",
   "metadata": {},
   "outputs": [],
   "source": [
    "inverted = 255 - img_ary\n",
    "Image.fromarray(inverted).save('new_sample1.jpg')"
   ]
  },
  {
   "cell_type": "markdown",
   "id": "963a0eff",
   "metadata": {},
   "source": [
    "# 데이터 시뮬레이션\n"
   ]
  },
  {
   "cell_type": "code",
   "execution_count": null,
   "id": "1cf95ff2",
   "metadata": {},
   "outputs": [],
   "source": [
    "1차원 배열의 랜덤 시뮬레이션"
   ]
  },
  {
   "cell_type": "code",
   "execution_count": 20,
   "id": "b9ca5948",
   "metadata": {},
   "outputs": [
    {
     "data": {
      "text/plain": [
       "[<matplotlib.lines.Line2D at 0x1e94347afc0>]"
      ]
     },
     "execution_count": 20,
     "metadata": {},
     "output_type": "execute_result"
    },
    {
     "data": {
      "image/png": "[encoded data removed]",
      "text/plain": [
       "<Figure size 640x480 with 1 Axes>"
      ]
     },
     "metadata": {},
     "output_type": "display_data"
    }
   ],
   "source": [
    "import matplotlib.pyplot as plt\n",
    "\n",
    "n_step = 1000\n",
    "step = np.random.choice([-1, 1], size=n_step)\n",
    "walk = np.cumsum(step)\n",
    "\n",
    "plt.plot(walk)\n"
   ]
  },
  {
   "cell_type": "code",
   "execution_count": 8,
   "id": "25d031a7",
   "metadata": {},
   "outputs": [
    {
     "name": "stdout",
     "output_type": "stream",
     "text": [
      "배열의 차원: 2\n",
      "배열의 형태: (3, 3)\n",
      "배열의 크기: 9\n",
      "배열의 데이터 타입: int64\n",
      "배열 요소의 크기 8\n",
      "배열의 strides: (24, 8)\n"
     ]
    }
   ],
   "source": [
    "#배열 생성\n",
    "import numpy as np\n",
    "\n",
    "arr = np.array([[1,2,3],\n",
    "               [4,5,6],\n",
    "               [7,8,9]])\n",
    "\n",
    "#배열의 속성 확인\n",
    "print('배열의 차원:', arr.ndim)\n",
    "print('배열의 형태:', arr.shape)\n",
    "print('배열의 크기:', arr.size)\n",
    "print('배열의 데이터 타입:', arr.dtype)\n",
    "print('배열 요소의 크기', arr.itemsize)\n",
    "print('배열의 strides:', arr.strides)\n",
    "\n"
   ]
  },
  {
   "cell_type": "code",
   "execution_count": 9,
   "id": "c86fcf7f",
   "metadata": {},
   "outputs": [
    {
     "data": {
      "text/plain": [
       "list"
      ]
     },
     "execution_count": 9,
     "metadata": {},
     "output_type": "execute_result"
    }
   ],
   "source": [
    "tensor_list = [[[1, 2, 3, 4],[1, 2, 3, 4],[1, 2, 3, 4]],\n",
    "               [[1, 2, 3, 4],[1, 2, 3, 4],[1, 2, 3, 4]]]\n",
    "\n",
    "type(tensor_list)"
   ]
  },
  {
   "cell_type": "code",
   "execution_count": 10,
   "id": "a38ae54e",
   "metadata": {},
   "outputs": [
    {
     "data": {
      "text/plain": [
       "numpy.ndarray"
      ]
     },
     "execution_count": 10,
     "metadata": {},
     "output_type": "execute_result"
    }
   ],
   "source": [
    "arr1 = np.array(tensor_list)\n",
    "type(arr1)"
   ]
  },
  {
   "cell_type": "code",
   "execution_count": 16,
   "id": "10c04a93",
   "metadata": {},
   "outputs": [
    {
     "data": {
      "text/plain": [
       "(2, 3, 4)"
      ]
     },
     "execution_count": 16,
     "metadata": {},
     "output_type": "execute_result"
    }
   ],
   "source": [
    "arr1.shape"
   ]
  },
  {
   "cell_type": "code",
   "execution_count": 11,
   "id": "9f64be20",
   "metadata": {},
   "outputs": [
    {
     "data": {
      "text/plain": [
       "(2, 3, 4)"
      ]
     },
     "execution_count": 11,
     "metadata": {},
     "output_type": "execute_result"
    }
   ],
   "source": [
    "arr1.shape"
   ]
  },
  {
   "cell_type": "code",
   "execution_count": 21,
   "id": "30f6fc5b",
   "metadata": {},
   "outputs": [
    {
     "name": "stdout",
     "output_type": "stream",
     "text": [
      "배열의 차원: 2\n",
      "배열의 형태: (3, 3)\n",
      "배열의 크기: 9\n",
      "배열의 데이터 타입: int64\n",
      "배열 요소의 크기: 8\n",
      "배열의 strides: (24, 8)\n"
     ]
    },
    {
     "data": {
      "text/plain": [
       "numpy.ndarray"
      ]
     },
     "execution_count": 21,
     "metadata": {},
     "output_type": "execute_result"
    }
   ],
   "source": [
    "# 배열 생성\n",
    "\n",
    "\n",
    "arr2 = np.array([[1, 2, 3],\n",
    "                [4, 5, 6],\n",
    "                [7, 8, 9]])\n",
    "\n",
    "# 배열의 속성 확인\n",
    "print('배열의 차원:', arr2.ndim)         # 2\n",
    "print('배열의 형태:', arr2.shape)        # (3, 3)\n",
    "print('배열의 크기:', arr2.size)         # 9\n",
    "print('배열의 데이터 타입:', arr2.dtype) # int64\n",
    "print('배열 요소의 크기:', arr2.itemsize) # 8 (바이트)\n",
    "print('배열의 strides:', arr2.strides)   # (24, 8)\n",
    "type(arr2)"
   ]
  },
  {
   "cell_type": "code",
   "execution_count": 22,
   "id": "e14e9085",
   "metadata": {},
   "outputs": [
    {
     "data": {
      "text/plain": [
       "numpy.ndarray"
      ]
     },
     "execution_count": 22,
     "metadata": {},
     "output_type": "execute_result"
    }
   ],
   "source": [
    "arr3 = np.array([1,2,3]) #1차원\n",
    "type(arr3)"
   ]
  },
  {
   "cell_type": "code",
   "execution_count": 23,
   "id": "d1bbb94d",
   "metadata": {},
   "outputs": [
    {
     "data": {
      "text/plain": [
       "(dtype('int64'), dtype('int64'))"
      ]
     },
     "execution_count": 23,
     "metadata": {},
     "output_type": "execute_result"
    }
   ],
   "source": [
    "arr2.dtype, arr3.dtype,"
   ]
  },
  {
   "cell_type": "code",
   "execution_count": 24,
   "id": "e30882af",
   "metadata": {},
   "outputs": [
    {
     "data": {
      "text/plain": [
       "(2926985920304, 2926986545552)"
      ]
     },
     "execution_count": 24,
     "metadata": {},
     "output_type": "execute_result"
    }
   ],
   "source": [
    "arr4 = np.array([1,2,3])\n",
    "id(arr3), id(arr4)"
   ]
  },
  {
   "cell_type": "code",
   "execution_count": 25,
   "id": "6d71f5cc",
   "metadata": {},
   "outputs": [
    {
     "data": {
      "text/plain": [
       "(dtype('<U21'), array(['1', '2', '4', '5', '10'], dtype='<U21'))"
      ]
     },
     "execution_count": 25,
     "metadata": {},
     "output_type": "execute_result"
    }
   ],
   "source": [
    "#type 변환\n",
    "list2 = [1,2,4,'5',10]\n",
    "type(list2)\n",
    "\n",
    "t_1 = np.array(list2)\n",
    "t_1.dtype, t_1"
   ]
  },
  {
   "cell_type": "code",
   "execution_count": 26,
   "id": "ca729b2b",
   "metadata": {},
   "outputs": [],
   "source": [
    "#(dtype('<U21'), array(['1', '2', '4', '5', '10'], dtype='<U21'))\n",
    "# U21 : unicode21 "
   ]
  },
  {
   "cell_type": "code",
   "execution_count": 27,
   "id": "51eca993",
   "metadata": {},
   "outputs": [
    {
     "data": {
      "text/plain": [
       "dtype('float64')"
      ]
     },
     "execution_count": 27,
     "metadata": {},
     "output_type": "execute_result"
    }
   ],
   "source": [
    "np.array(list2, float).dtype"
   ]
  },
  {
   "cell_type": "code",
   "execution_count": null,
   "id": "e0841722",
   "metadata": {},
   "outputs": [],
   "source": []
  },
  {
   "cell_type": "markdown",
   "id": "a008cc53",
   "metadata": {},
   "source": [
    "# shape 속성"
   ]
  },
  {
   "cell_type": "code",
   "execution_count": 29,
   "id": "ee4f2014",
   "metadata": {},
   "outputs": [
    {
     "data": {
      "text/plain": [
       "((8,), 1)"
      ]
     },
     "execution_count": 29,
     "metadata": {},
     "output_type": "execute_result"
    }
   ],
   "source": [
    "list2 = [1,2,3,4,5,6,7,8]\n",
    "t_2 = np.array(list2)\n",
    "t_2.shape, t_2.ndim"
   ]
  },
  {
   "cell_type": "code",
   "execution_count": 30,
   "id": "9e99f11e",
   "metadata": {},
   "outputs": [
    {
     "data": {
      "text/plain": [
       "((3, 8), 2)"
      ]
     },
     "execution_count": 30,
     "metadata": {},
     "output_type": "execute_result"
    }
   ],
   "source": [
    "list3 = ([[1,2,3,4,5,6,7,8], [9,10,11,12,13,14,15,16], [17,18,19,20,21,22,23,24]])\n",
    "\n",
    "t_3 = np.array(list3)\n",
    "t_3.shape, t_3.ndim\n"
   ]
  },
  {
   "cell_type": "markdown",
   "id": "d3d3965e",
   "metadata": {},
   "source": [
    "# 배열의 변경"
   ]
  },
  {
   "cell_type": "code",
   "execution_count": 33,
   "id": "088400d5",
   "metadata": {},
   "outputs": [
    {
     "data": {
      "text/plain": [
       "array([[ 1,  2,  3,  4],\n",
       "       [ 5,  6,  7,  8],\n",
       "       [ 9, 10, 11, 12]])"
      ]
     },
     "execution_count": 33,
     "metadata": {},
     "output_type": "execute_result"
    }
   ],
   "source": [
    "list4 = range(1,13)\n",
    "np.array(list4).reshape(3,4)"
   ]
  },
  {
   "cell_type": "code",
   "execution_count": 34,
   "id": "ce7563d7",
   "metadata": {},
   "outputs": [
    {
     "data": {
      "text/plain": [
       "array([[ 1,  2,  3],\n",
       "       [ 4,  5,  6],\n",
       "       [ 7,  8,  9],\n",
       "       [10, 11, 12]])"
      ]
     },
     "execution_count": 34,
     "metadata": {},
     "output_type": "execute_result"
    }
   ],
   "source": [
    "list5 = range(1,13)\n",
    "np.array(list5).reshape(4,3)"
   ]
  },
  {
   "cell_type": "code",
   "execution_count": 36,
   "id": "dd7f9617",
   "metadata": {},
   "outputs": [
    {
     "data": {
      "text/plain": [
       "array([[1],\n",
       "       [2],\n",
       "       [3]])"
      ]
     },
     "execution_count": 36,
     "metadata": {},
     "output_type": "execute_result"
    }
   ],
   "source": [
    "list6 = np.array([1,2,3])\n",
    "#list6.reshape((1,3))\n",
    "list6.reshape((3,1))"
   ]
  },
  {
   "cell_type": "code",
   "execution_count": null,
   "id": "8045a081",
   "metadata": {},
   "outputs": [],
   "source": [
    "np.newaxis"
   ]
  },
  {
   "cell_type": "code",
   "execution_count": 37,
   "id": "219b4f21",
   "metadata": {},
   "outputs": [
    {
     "data": {
      "text/plain": [
       "array([[1, 2, 3]])"
      ]
     },
     "execution_count": 37,
     "metadata": {},
     "output_type": "execute_result"
    }
   ],
   "source": [
    "#list6.reshape((1,3))\n",
    "list6[np.newaxis, :]"
   ]
  },
  {
   "cell_type": "code",
   "execution_count": 38,
   "id": "f6172b45",
   "metadata": {},
   "outputs": [
    {
     "data": {
      "text/plain": [
       "array([[1],\n",
       "       [2],\n",
       "       [3]])"
      ]
     },
     "execution_count": 38,
     "metadata": {},
     "output_type": "execute_result"
    }
   ],
   "source": [
    "list6[ :, np.newaxis]"
   ]
  },
  {
   "cell_type": "markdown",
   "id": "227e2754",
   "metadata": {},
   "source": [
    "## arange()\n",
    "range(strat, end, step)"
   ]
  },
  {
   "cell_type": "code",
   "execution_count": 39,
   "id": "3a813748",
   "metadata": {},
   "outputs": [
    {
     "data": {
      "text/plain": [
       "array([0, 1, 2, 3, 4, 5, 6, 7, 8, 9])"
      ]
     },
     "execution_count": 39,
     "metadata": {},
     "output_type": "execute_result"
    }
   ],
   "source": [
    "np.arange(10)"
   ]
  },
  {
   "cell_type": "code",
   "execution_count": 40,
   "id": "177ce2ed",
   "metadata": {},
   "outputs": [
    {
     "data": {
      "text/plain": [
       "array([-5, -4, -3, -2, -1,  0,  1,  2,  3,  4])"
      ]
     },
     "execution_count": 40,
     "metadata": {},
     "output_type": "execute_result"
    }
   ],
   "source": [
    "np.arange(-5,5)"
   ]
  },
  {
   "cell_type": "code",
   "execution_count": 42,
   "id": "9ea0683c",
   "metadata": {},
   "outputs": [
    {
     "data": {
      "text/plain": [
       "array([-0.5, -0.2,  0.1,  0.4])"
      ]
     },
     "execution_count": 42,
     "metadata": {},
     "output_type": "execute_result"
    }
   ],
   "source": [
    "np.arange(-0.5 , 0.5, 0.3)"
   ]
  },
  {
   "cell_type": "code",
   "execution_count": 43,
   "id": "92db0d70",
   "metadata": {},
   "outputs": [
    {
     "data": {
      "text/plain": [
       "(2, 3)"
      ]
     },
     "execution_count": 43,
     "metadata": {},
     "output_type": "execute_result"
    }
   ],
   "source": [
    "#2, 3\n",
    "\n",
    "np.arange(1,7).reshape((2,3)).shape"
   ]
  },
  {
   "cell_type": "markdown",
   "id": "46058992",
   "metadata": {},
   "source": [
    "## 메소드 체이닝"
   ]
  },
  {
   "cell_type": "code",
   "execution_count": 47,
   "id": "5996c526",
   "metadata": {},
   "outputs": [
    {
     "data": {
      "text/plain": [
       "array([[[ 1,  2,  3,  4],\n",
       "        [ 5,  6,  7,  8],\n",
       "        [ 9, 10, 11, 12]],\n",
       "\n",
       "       [[13, 14, 15, 16],\n",
       "        [17, 18, 19, 20],\n",
       "        [21, 22, 23, 24]]])"
      ]
     },
     "execution_count": 47,
     "metadata": {},
     "output_type": "execute_result"
    }
   ],
   "source": [
    "#2,3,4\n",
    "\n",
    "np.arange(1,25).reshape((2,3,4))"
   ]
  },
  {
   "cell_type": "code",
   "execution_count": 56,
   "id": "ab3dfa94",
   "metadata": {},
   "outputs": [
    {
     "data": {
      "text/plain": [
       "array([ 1,  2,  3,  4,  5,  6,  7,  8,  9, 10, 11, 12, 13, 14, 15, 16, 17,\n",
       "       18, 19, 20, 21, 22, 23, 24])"
      ]
     },
     "execution_count": 56,
     "metadata": {},
     "output_type": "execute_result"
    }
   ],
   "source": [
    "np.arange(1,25).reshape((2,3,4)).reshape((24,))"
   ]
  },
  {
   "cell_type": "code",
   "execution_count": 57,
   "id": "8c8d1d1a",
   "metadata": {},
   "outputs": [
    {
     "data": {
      "text/plain": [
       "array([ 1,  2,  3,  4,  5,  6,  7,  8,  9, 10, 11, 12, 13, 14, 15, 16, 17,\n",
       "       18, 19, 20, 21, 22, 23, 24])"
      ]
     },
     "execution_count": 57,
     "metadata": {},
     "output_type": "execute_result"
    }
   ],
   "source": [
    "np.arange(1,25).reshape((2,3,4)).reshape(-1)"
   ]
  },
  {
   "cell_type": "code",
   "execution_count": 60,
   "id": "ad737f31",
   "metadata": {},
   "outputs": [
    {
     "name": "stdout",
     "output_type": "stream",
     "text": [
      "[1 2 3 4 5]\n"
     ]
    }
   ],
   "source": [
    "#리스트로부터 배열 생성\n",
    "arr1 = np.array([1, 2, 3, 4, 5])\n",
    "print(arr1)"
   ]
  },
  {
   "cell_type": "code",
   "execution_count": 61,
   "id": "d6de5182",
   "metadata": {},
   "outputs": [
    {
     "name": "stdout",
     "output_type": "stream",
     "text": [
      "[0. 0. 0. 0. 0.]\n"
     ]
    }
   ],
   "source": [
    "#0으로 채워진 배열 생성\n",
    "arr2 = np.zeros(5)\n",
    "print(arr2)"
   ]
  },
  {
   "cell_type": "code",
   "execution_count": 62,
   "id": "836cb906",
   "metadata": {},
   "outputs": [
    {
     "name": "stdout",
     "output_type": "stream",
     "text": [
      "[[1. 1. 1.]\n",
      " [1. 1. 1.]\n",
      " [1. 1. 1.]]\n"
     ]
    }
   ],
   "source": [
    "#1로 채워진 배열 생성\n",
    "arr3 = np.ones((3, 3))\n",
    "print(arr3)"
   ]
  },
  {
   "cell_type": "code",
   "execution_count": 59,
   "id": "80b8d24d",
   "metadata": {},
   "outputs": [
    {
     "name": "stdout",
     "output_type": "stream",
     "text": [
      "[1 3 5 7 9]\n"
     ]
    }
   ],
   "source": [
    "#1부터 10까지 2씩 증가하는 배열\n",
    "range_arr = np.arange(1, 10, 2)\n",
    "print(range_arr)"
   ]
  },
  {
   "cell_type": "code",
   "execution_count": 63,
   "id": "1067cf90",
   "metadata": {},
   "outputs": [
    {
     "name": "stdout",
     "output_type": "stream",
     "text": [
      "[  0.  25.  50.  75. 100.]\n"
     ]
    }
   ],
   "source": [
    "#0부터 100까지 5개의 숫자를 균등 간격으로 생성\n",
    "linspace_arr = np.linspace(0, 100, 5)\n",
    "print(linspace_arr)"
   ]
  },
  {
   "cell_type": "code",
   "execution_count": 64,
   "id": "5bd81281",
   "metadata": {},
   "outputs": [
    {
     "name": "stdout",
     "output_type": "stream",
     "text": [
      "[[0.98961204 0.60012309 0.74061314]\n",
      " [0.6894609  0.45039411 0.15712188]]\n"
     ]
    }
   ],
   "source": [
    "#2행 3열의 랜덤 값 배열 (0~1 사이)\n",
    "random_arr = np.random.rand(2, 3)\n",
    "print(random_arr)"
   ]
  },
  {
   "cell_type": "code",
   "execution_count": 69,
   "id": "8211be6b",
   "metadata": {},
   "outputs": [
    {
     "name": "stdout",
     "output_type": "stream",
     "text": [
      "[[1 2]\n",
      " [3 4]]\n"
     ]
    }
   ],
   "source": [
    "#2차원 배열 생성\n",
    "arr = np.array([[1,2],[3,4]])\n",
    "print(arr)"
   ]
  },
  {
   "cell_type": "code",
   "execution_count": 67,
   "id": "edffecea",
   "metadata": {},
   "outputs": [
    {
     "name": "stdout",
     "output_type": "stream",
     "text": [
      "(3, 2, 2)\n"
     ]
    }
   ],
   "source": [
    "#3차원 배열 생성\n",
    "arr_3d = np.array([[[1,2],[3,4]],[[5,6],[7,8]],[[9,10],[11,12]]])\n",
    "print(arr_3d.shape)"
   ]
  },
  {
   "cell_type": "code",
   "execution_count": 71,
   "id": "aaea2627",
   "metadata": {},
   "outputs": [
    {
     "name": "stdout",
     "output_type": "stream",
     "text": [
      "[[1. 0. 0.]\n",
      " [0. 1. 0.]\n",
      " [0. 0. 1.]]\n"
     ]
    }
   ],
   "source": [
    "# 3x3 단위행렬 생성\n",
    "identity_matrix = np.identity(3)\n",
    "print(identity_matrix)"
   ]
  },
  {
   "cell_type": "code",
   "execution_count": 72,
   "id": "b35e12b4",
   "metadata": {},
   "outputs": [
    {
     "name": "stdout",
     "output_type": "stream",
     "text": [
      "[[1 0 0]\n",
      " [0 2 0]\n",
      " [0 0 3]]\n"
     ]
    }
   ],
   "source": [
    "#대각원소가 [1,2,3]인 대각행렬 생성\n",
    "diagonal_matrix = np.diag([1,2,3])\n",
    "print(diagonal_matrix)"
   ]
  },
  {
   "cell_type": "code",
   "execution_count": null,
   "id": "a9edb275",
   "metadata": {},
   "outputs": [
    {
     "name": "stdout",
     "output_type": "stream",
     "text": [
      "[0 4 8]\n"
     ]
    }
   ],
   "source": [
    "\n",
    "a = np.arange(9).reshape(3,3)\n",
    "diagonal_matrix_value = np.diag(a)\n",
    "print(diagonal_matrix_value)"
   ]
  },
  {
   "cell_type": "code",
   "execution_count": 75,
   "id": "048937b5",
   "metadata": {},
   "outputs": [
    {
     "name": "stdout",
     "output_type": "stream",
     "text": [
      "[[1. 0. 0.]\n",
      " [0. 1. 0.]\n",
      " [0. 0. 1.]]\n"
     ]
    }
   ],
   "source": [
    "#3x3 단위행렬 생성 (N=3)\n",
    "eye_matrix = np.eye(3)\n",
    "print(eye_matrix)"
   ]
  },
  {
   "cell_type": "code",
   "execution_count": 76,
   "id": "401ae939",
   "metadata": {},
   "outputs": [
    {
     "name": "stdout",
     "output_type": "stream",
     "text": [
      "[[1. 0. 0.]\n",
      " [0. 1. 0.]\n",
      " [0. 0. 1.]\n",
      " [0. 0. 0.]]\n"
     ]
    }
   ],
   "source": [
    "#4x3 직사각형 행렬 생성 (N=4, N=3)\n",
    "rect_eye = np.eye(4,3)\n",
    "print(rect_eye)"
   ]
  },
  {
   "cell_type": "code",
   "execution_count": null,
   "id": "a9ecdefb",
   "metadata": {},
   "outputs": [
    {
     "name": "stdout",
     "output_type": "stream",
     "text": [
      "[[0. 1. 0.]\n",
      " [0. 0. 1.]\n",
      " [0. 0. 0.]]\n"
     ]
    }
   ],
   "source": [
    "#k 매개변수로 대각선 위치 조정 (k=1은 주대각선 위로 한 칸)\n",
    "shifted_eye = np.eye(3, k=1)\n",
    "print(shifted_eye)"
   ]
  },
  {
   "cell_type": "code",
   "execution_count": 79,
   "id": "a03f02bf",
   "metadata": {},
   "outputs": [
    {
     "name": "stdout",
     "output_type": "stream",
     "text": [
      "[[1 2 3]\n",
      " [4 5 6]]\n"
     ]
    }
   ],
   "source": [
    "#기존 배열\n",
    "arr = np.array([[1,2,3], [4,5,6]])\n",
    "print(arr)"
   ]
  },
  {
   "cell_type": "code",
   "execution_count": 80,
   "id": "adf84315",
   "metadata": {},
   "outputs": [
    {
     "name": "stdout",
     "output_type": "stream",
     "text": [
      "[[4607088852349433592 4603580647756676346 4604846069681397021]\n",
      " [4604385331223076705 4601785198838801132 4594828932592081148]]\n"
     ]
    }
   ],
   "source": [
    "empty_arr = np.empty_like(arr)\n",
    "print(empty_arr)"
   ]
  },
  {
   "cell_type": "code",
   "execution_count": 81,
   "id": "5df4cf37",
   "metadata": {},
   "outputs": [
    {
     "name": "stdout",
     "output_type": "stream",
     "text": [
      "[[0 0 0]\n",
      " [0 0 0]]\n"
     ]
    }
   ],
   "source": [
    "#zero_like(): 0으로 채워진 배열 생성\n",
    "zero_arr = np.zeros_like(arr)\n",
    "print(zero_arr)"
   ]
  },
  {
   "cell_type": "code",
   "execution_count": 85,
   "id": "0962be47",
   "metadata": {},
   "outputs": [
    {
     "name": "stdout",
     "output_type": "stream",
     "text": [
      "[[1 1 1]\n",
      " [1 1 1]]\n"
     ]
    }
   ],
   "source": [
    "# ones_like(): 지정된 값으로 채워진 배열 생성\n",
    "ones_arr = np.ones_like(arr)\n",
    "print(ones_arr)"
   ]
  },
  {
   "cell_type": "code",
   "execution_count": 88,
   "id": "8e21aa17",
   "metadata": {},
   "outputs": [
    {
     "name": "stdout",
     "output_type": "stream",
     "text": [
      "[[5 5 5]\n",
      " [5 5 5]]\n"
     ]
    }
   ],
   "source": [
    "#full like() : 지정된 값으로 채워진 배열 생성\n",
    "full_arr = np.full_like(arr, 5)\n",
    "print(full_arr)"
   ]
  },
  {
   "cell_type": "code",
   "execution_count": 89,
   "id": "5aebb885",
   "metadata": {},
   "outputs": [
    {
     "name": "stdout",
     "output_type": "stream",
     "text": [
      "[[0.87714979 0.30311253 0.57075378]\n",
      " [0.82108217 0.05291305 0.76290859]]\n"
     ]
    }
   ],
   "source": [
    "#0과 1사이의 균일 분포 난수\n",
    "random_uniform = np.random.rand(2,3)\n",
    "print(random_uniform)"
   ]
  },
  {
   "cell_type": "code",
   "execution_count": null,
   "id": "43ba0c0f",
   "metadata": {},
   "outputs": [
    {
     "data": {
      "text/plain": [
       "array([[6.36839143, 3.03881459, 6.49328516],\n",
       "       [3.87484627, 5.44284454, 4.94447579]])"
      ]
     },
     "execution_count": 92,
     "metadata": {},
     "output_type": "execute_result"
    }
   ],
   "source": [
    "#3과 7사이의 균일 분포 값\n",
    "np.random.uniform(3,7, size=(2,3))"
   ]
  },
  {
   "cell_type": "code",
   "execution_count": 93,
   "id": "b665846c",
   "metadata": {},
   "outputs": [
    {
     "name": "stdout",
     "output_type": "stream",
     "text": [
      "[[ 0.5781979  -0.65435384  1.81966746]\n",
      " [-0.12891892 -1.0854857  -0.79311496]]\n"
     ]
    }
   ],
   "source": [
    "#표준 정규 분포 난수\n",
    "random_normal = np.random.randn(2,3)\n",
    "print(random_normal)"
   ]
  },
  {
   "cell_type": "code",
   "execution_count": 95,
   "id": "f605550a",
   "metadata": {},
   "outputs": [
    {
     "name": "stdout",
     "output_type": "stream",
     "text": [
      "[[5 7 4]\n",
      " [1 5 8]]\n"
     ]
    }
   ],
   "source": [
    "#정수 난수 (최소값, 최대값-1, 크기)\n",
    "random_int = np.random.randint(0,10,(2,3))\n",
    "print(random_int)"
   ]
  },
  {
   "cell_type": "code",
   "execution_count": 97,
   "id": "edb5c99e",
   "metadata": {},
   "outputs": [
    {
     "name": "stdout",
     "output_type": "stream",
     "text": [
      "[0.37454012 0.95071431 0.73199394]\n"
     ]
    }
   ],
   "source": [
    "#시드 설정 = 재현 가능한 난수 생성\n",
    "np.random.seed(42)\n",
    "random_seeded = np.random.rand(3)\n",
    "print(random_seeded)"
   ]
  },
  {
   "cell_type": "code",
   "execution_count": null,
   "id": "e84796f7",
   "metadata": {},
   "outputs": [
    {
     "data": {
      "text/plain": [
       "[1, 2, 3, 4, 5, 1, 2, 3, 4, 5]"
      ]
     },
     "execution_count": 99,
     "metadata": {},
     "output_type": "execute_result"
    }
   ],
   "source": [
    "list_data = [1,2,3,4,5]\n",
    "list_data + list_data #__add__() append(), extend()"
   ]
  },
  {
   "cell_type": "code",
   "execution_count": null,
   "id": "f3752dc7",
   "metadata": {},
   "outputs": [
    {
     "data": {
      "text/plain": [
       "[1, 2, 3, 4, 5, 1, 2, 3, 4, 5]"
      ]
     },
     "execution_count": 101,
     "metadata": {},
     "output_type": "execute_result"
    }
   ],
   "source": [
    "list_data * 2  #__mul__()"
   ]
  },
  {
   "cell_type": "markdown",
   "id": "2dd0c6a5",
   "metadata": {},
   "source": [
    "## 요소별 연산 > element wise"
   ]
  },
  {
   "cell_type": "code",
   "execution_count": null,
   "id": "3cea9a1a",
   "metadata": {},
   "outputs": [
    {
     "data": {
      "text/plain": [
       "array([ 2,  4,  6,  8, 10])"
      ]
     },
     "execution_count": 104,
     "metadata": {},
     "output_type": "execute_result"
    }
   ],
   "source": [
    "a1 = np.array(list_data)\n",
    "a1*2 #사칙연산 가능 ➡️ 2의 shape이 자동으로[2,2,2,2,2]로 늘어났기 때문"
   ]
  },
  {
   "cell_type": "code",
   "execution_count": 105,
   "id": "11fd9eec",
   "metadata": {},
   "outputs": [
    {
     "data": {
      "text/plain": [
       "array([3, 4, 5, 6, 7])"
      ]
     },
     "execution_count": 105,
     "metadata": {},
     "output_type": "execute_result"
    }
   ],
   "source": [
    "a2 = np.array([2,2,2,2,2])\n",
    "a1 + a2"
   ]
  },
  {
   "cell_type": "code",
   "execution_count": null,
   "id": "4beabf5f",
   "metadata": {},
   "outputs": [],
   "source": [
    "a3 = np.array([1,2])\n",
    "\n",
    "# a1 * a3 -> error \n",
    "\n",
    "#행렬의 shape이 같아야 요소별 연산이 가능."
   ]
  },
  {
   "cell_type": "markdown",
   "id": "6daad223",
   "metadata": {},
   "source": [
    "## 브로드캐스팅\n",
    "\n",
    "크기가 다른 배열에서 작은 쪽이 큰 쪽에 맞춰 크기를 확장하는 기능\n",
    "사칙연산에 적용"
   ]
  },
  {
   "cell_type": "code",
   "execution_count": 106,
   "id": "a9f5368c",
   "metadata": {},
   "outputs": [
    {
     "data": {
      "text/plain": [
       "(array([[0],\n",
       "        [1],\n",
       "        [2]]),\n",
       " array([0, 1, 2]))"
      ]
     },
     "execution_count": 106,
     "metadata": {},
     "output_type": "execute_result"
    }
   ],
   "source": [
    "a_array = np.arange(3)\n",
    "b_array = np.arange(3)[:, np.newaxis]\n",
    "b_array, a_array"
   ]
  },
  {
   "cell_type": "code",
   "execution_count": 107,
   "id": "631a5c55",
   "metadata": {},
   "outputs": [
    {
     "data": {
      "text/plain": [
       "array([[0, 1, 2],\n",
       "       [1, 2, 3],\n",
       "       [2, 3, 4]])"
      ]
     },
     "execution_count": 107,
     "metadata": {},
     "output_type": "execute_result"
    }
   ],
   "source": [
    "a_array + b_array"
   ]
  },
  {
   "cell_type": "code",
   "execution_count": 108,
   "id": "b0d8cac8",
   "metadata": {},
   "outputs": [
    {
     "data": {
      "text/plain": [
       "array([[0, 1, 2],\n",
       "       [1, 2, 3],\n",
       "       [2, 3, 4]])"
      ]
     },
     "execution_count": 108,
     "metadata": {},
     "output_type": "execute_result"
    }
   ],
   "source": [
    "b_array + a_array"
   ]
  },
  {
   "cell_type": "code",
   "execution_count": 109,
   "id": "5dcc7aac",
   "metadata": {},
   "outputs": [
    {
     "data": {
      "text/plain": [
       "array([[0, 0, 0],\n",
       "       [0, 1, 2],\n",
       "       [0, 2, 4]])"
      ]
     },
     "execution_count": 109,
     "metadata": {},
     "output_type": "execute_result"
    }
   ],
   "source": [
    "b_array * a_array"
   ]
  },
  {
   "cell_type": "code",
   "execution_count": null,
   "id": "51a49ab0",
   "metadata": {},
   "outputs": [
    {
     "data": {
      "text/plain": [
       "array([[ 0, -1, -2],\n",
       "       [ 1,  0, -1],\n",
       "       [ 2,  1,  0]])"
      ]
     },
     "execution_count": 110,
     "metadata": {},
     "output_type": "execute_result"
    }
   ],
   "source": [
    "b_array * a_array"
   ]
  },
  {
   "cell_type": "code",
   "execution_count": 111,
   "id": "d3790d1e",
   "metadata": {},
   "outputs": [
    {
     "data": {
      "text/plain": [
       "array([[ 0,  1,  2],\n",
       "       [-1,  0,  1],\n",
       "       [-2, -1,  0]])"
      ]
     },
     "execution_count": 111,
     "metadata": {},
     "output_type": "execute_result"
    }
   ],
   "source": [
    "a_array - b_array"
   ]
  },
  {
   "cell_type": "code",
   "execution_count": 115,
   "id": "7bd76a60",
   "metadata": {},
   "outputs": [
    {
     "name": "stdout",
     "output_type": "stream",
     "text": [
      "덧셈 [ 6  8 10 12]\n",
      "뺄셈 [4 4 4 4]\n",
      "곱셈 [ 5 12 21 32]\n",
      "나눗셈 [5.         3.         2.33333333 2.        ]\n",
      "제곱 [ 1  4  9 16]\n",
      "제곱근 [1.         1.41421356 1.73205081 2.        ]\n",
      "지수 [ 2.71828183  7.3890561  20.08553692 54.59815003]\n",
      "로그 [0.         0.69314718 1.09861229 1.38629436]\n"
     ]
    }
   ],
   "source": [
    "# 기본 산술 연산 예제\n",
    "arr1 = np.array([1, 2, 3, 4])\n",
    "arr2 = np.array([5, 6, 7, 8])\n",
    "\n",
    "#덧셈\n",
    "print(\"덧셈\", arr1 + arr2)\n",
    "#뺄셈\n",
    "print(\"뺄셈\", arr2 - arr1)\n",
    "#곱셈\n",
    "print(\"곱셈\", arr1 * arr2)\n",
    "#나눗셈\n",
    "print(\"나눗셈\", arr2 / arr1)\n",
    "#제곱\n",
    "print(\"제곱\", np.square(arr1))\n",
    "#제곱근\n",
    "print(\"제곱근\", np.sqrt(arr1))\n",
    "#지수\n",
    "print(\"지수\", np.exp(arr1))\n",
    "#로그\n",
    "print(\"로그\", np.log(arr1))\n"
   ]
  },
  {
   "cell_type": "code",
   "execution_count": 116,
   "id": "d8bd1f16",
   "metadata": {},
   "outputs": [
    {
     "name": "stdout",
     "output_type": "stream",
     "text": [
      "덧셈: \n",
      " [[ 6  8]\n",
      " [10 12]]\n",
      "뺄셈: \n",
      " [[-4 -4]\n",
      " [-4 -4]]\n",
      "곱셈: \n",
      " [[ 5 12]\n",
      " [21 32]]\n",
      "나눗셈: \n",
      " [[0.2        0.33333333]\n",
      " [0.42857143 0.5       ]]\n"
     ]
    }
   ],
   "source": [
    "#shape이 같은 배열 간의 연산\n",
    "a = np.array([[1, 2],[3, 4]])\n",
    "b = np.array([[5, 6], [7, 8]])\n",
    "\n",
    "print(\"덧셈: \\n\", a+b)\n",
    "print(\"뺄셈: \\n\", a-b)\n",
    "print(\"곱셈: \\n\", a*b)\n",
    "print(\"나눗셈: \\n\", a/b)"
   ]
  },
  {
   "cell_type": "code",
   "execution_count": null,
   "id": "161a3326",
   "metadata": {},
   "outputs": [
    {
     "name": "stderr",
     "output_type": "stream",
     "text": [
      "<>:2: SyntaxWarning: list indices must be integers or slices, not tuple; perhaps you missed a comma?\n",
      "<>:2: SyntaxWarning: list indices must be integers or slices, not tuple; perhaps you missed a comma?\n",
      "C:\\Users\\LENOVO\\AppData\\Local\\Temp\\ipykernel_14424\\2816291669.py:2: SyntaxWarning: list indices must be integers or slices, not tuple; perhaps you missed a comma?\n",
      "  c = np.array([[1,2,3][4,5,6]])\n",
      "C:\\Users\\LENOVO\\AppData\\Local\\Temp\\ipykernel_14424\\2816291669.py:2: SyntaxWarning: list indices must be integers or slices, not tuple; perhaps you missed a comma?\n",
      "  c = np.array([[1,2,3][4,5,6]])\n",
      "C:\\Users\\LENOVO\\AppData\\Local\\Temp\\ipykernel_14424\\2816291669.py:2: SyntaxWarning: list indices must be integers or slices, not tuple; perhaps you missed a comma?\n",
      "  c = np.array([[1,2,3][4,5,6]])\n",
      "C:\\Users\\LENOVO\\AppData\\Local\\Temp\\ipykernel_14424\\2816291669.py:2: SyntaxWarning: list indices must be integers or slices, not tuple; perhaps you missed a comma?\n",
      "  c = np.array([[1,2,3][4,5,6]])\n",
      "C:\\Users\\LENOVO\\AppData\\Local\\Temp\\ipykernel_14424\\2816291669.py:2: SyntaxWarning: list indices must be integers or slices, not tuple; perhaps you missed a comma?\n",
      "  c = np.array([[1,2,3][4,5,6]])\n"
     ]
    },
    {
     "ename": "TypeError",
     "evalue": "list indices must be integers or slices, not tuple",
     "output_type": "error",
     "traceback": [
      "\u001b[31m---------------------------------------------------------------------------\u001b[39m",
      "\u001b[31mTypeError\u001b[39m                                 Traceback (most recent call last)",
      "\u001b[36mCell\u001b[39m\u001b[36m \u001b[39m\u001b[32mIn[118]\u001b[39m\u001b[32m, line 2\u001b[39m\n\u001b[32m      1\u001b[39m \u001b[38;5;66;03m#shape이 다른 경우 오류 발생\u001b[39;00m\n\u001b[32m----> \u001b[39m\u001b[32m2\u001b[39m c = np.array([[\u001b[32m1\u001b[39m,\u001b[32m2\u001b[39m,\u001b[32m3\u001b[39m][\u001b[32m4\u001b[39m,\u001b[32m5\u001b[39m,\u001b[32m6\u001b[39m]])\n\u001b[32m      3\u001b[39m d = np.array([[\u001b[32m1\u001b[39m,\u001b[32m2\u001b[39m],[\u001b[32m3\u001b[39m,\u001b[32m4\u001b[39m]])\n\u001b[32m      5\u001b[39m \u001b[38;5;28mprint\u001b[39m(c+d)\n",
      "\u001b[31mTypeError\u001b[39m: list indices must be integers or slices, not tuple"
     ]
    }
   ],
   "source": [
    "#shape이 다른 경우 오류 발생\n",
    "c = np.array([[1,2,3][4,5,6]])\n",
    "d = np.array([[1,2],[3,4]])\n",
    "\n",
    "print(c+d) # print(c + d)  # ValueError: operands could not be broadcast together"
   ]
  },
  {
   "cell_type": "code",
   "execution_count": 119,
   "id": "6190001a",
   "metadata": {},
   "outputs": [
    {
     "name": "stdout",
     "output_type": "stream",
     "text": [
      "같음: [ True False  True False  True]\n",
      "더 큼: [False False False  True False]\n",
      "더 작음: [False  True False False False]\n"
     ]
    }
   ],
   "source": [
    "#비교 연산 예제\n",
    "arr1 = np.array([1,2,3,4,5])\n",
    "arr2 = np.array([1,3,3,0,5])\n",
    "\n",
    "print(\"같음:\", arr1 == arr2)\n",
    "print(\"더 큼:\", arr1 > arr2)\n",
    "print(\"더 작음:\", arr1 < arr2)\n"
   ]
  },
  {
   "cell_type": "code",
   "execution_count": null,
   "id": "4a32551f",
   "metadata": {},
   "outputs": [
    {
     "name": "stdout",
     "output_type": "stream",
     "text": [
      "복합 조건: [False False  True  True False]\n"
     ]
    }
   ],
   "source": [
    "mask = (arr1 >= 3) & (arr2 <= 4)\n",
    "print(\"복합 조건:\", mask)"
   ]
  },
  {
   "cell_type": "code",
   "execution_count": 121,
   "id": "6abe3bcf",
   "metadata": {},
   "outputs": [
    {
     "name": "stdout",
     "output_type": "stream",
     "text": [
      "3보다 큰 값: [4 5]\n"
     ]
    }
   ],
   "source": [
    "#비교 결과를 이용한 필터링\n",
    "filtered = arr1[arr1 > 3]\n",
    "print(\"3보다 큰 값:\", filtered)\n"
   ]
  },
  {
   "cell_type": "code",
   "execution_count": 123,
   "id": "eb0694ae",
   "metadata": {},
   "outputs": [
    {
     "name": "stdout",
     "output_type": "stream",
     "text": [
      "요소별 덧셈: [5 7 9]\n",
      "요소별 곱셈 [ 4 10 18]\n",
      "요소별 제곱: [1 4 9]\n",
      "요소별 제곱근 [1.         1.41421356 1.73205081]\n"
     ]
    }
   ],
   "source": [
    "#요소별 연산 예제\n",
    "a = np.array([1,2,3])\n",
    "b = np.array([4,5,6])\n",
    "\n",
    "print(\"요소별 덧셈:\", a + b)\n",
    "print(\"요소별 곱셈\", a * b)\n",
    "print(\"요소별 제곱:\", np.square(a))\n",
    "print(\"요소별 제곱근\", np.sqrt(a))"
   ]
  },
  {
   "cell_type": "code",
   "execution_count": 128,
   "id": "73641d99",
   "metadata": {},
   "outputs": [
    {
     "name": "stdout",
     "output_type": "stream",
     "text": [
      "배열 * 스칼라:\n",
      "[[ 2  4  6]\n",
      " [ 8 10 12]]\n"
     ]
    }
   ],
   "source": [
    "#브로캐스팅 예제\n",
    "arr = np.array([[1,2,3],[4,5,6]])\n",
    "scalar = 2\n",
    "\n",
    "#배열과 스칼라의 연산\n",
    "print(\"배열 * 스칼라:\")\n",
    "print(arr * scalar)"
   ]
  },
  {
   "cell_type": "code",
   "execution_count": 127,
   "id": "3b7135ac",
   "metadata": {},
   "outputs": [
    {
     "name": "stdout",
     "output_type": "stream",
     "text": [
      "\n",
      "2차원 배열 + 1차원 배열:\n",
      "[[2 2 4]\n",
      " [5 5 7]]\n"
     ]
    }
   ],
   "source": [
    "#1차원 배열과 2차원 배열의 연산\n",
    "row = np.array([1,0,1])\n",
    "print(\"\\n2차원 배열 + 1차원 배열:\")\n",
    "print(arr + row)"
   ]
  },
  {
   "cell_type": "code",
   "execution_count": null,
   "id": "50e02814",
   "metadata": {},
   "outputs": [],
   "source": [
    "# 1차원 배열과 2차원 배열의 연산\n",
    "row = np.array"
   ]
  },
  {
   "cell_type": "markdown",
   "id": "fe69c105",
   "metadata": {},
   "source": [
    "## 배열의 결합, 연결\n",
    "concatenate(), vstack(), hstack()"
   ]
  },
  {
   "cell_type": "code",
   "execution_count": 129,
   "id": "ddbdc378",
   "metadata": {},
   "outputs": [
    {
     "data": {
      "text/plain": [
       "array([1, 2, 3, 4, 5, 6, 7])"
      ]
     },
     "execution_count": 129,
     "metadata": {},
     "output_type": "execute_result"
    }
   ],
   "source": [
    "v1 = np.array([1,2,3])\n",
    "v2 = np.array([4,5,6,7])\n",
    "np.concatenate([v1,v2])"
   ]
  },
  {
   "cell_type": "code",
   "execution_count": 130,
   "id": "ec2f3f6c",
   "metadata": {},
   "outputs": [
    {
     "data": {
      "text/plain": [
       "array([1, 2, 3, 4, 5, 6, 7])"
      ]
     },
     "execution_count": 130,
     "metadata": {},
     "output_type": "execute_result"
    }
   ],
   "source": [
    "np.concatenate([v1,v2], axis=0)"
   ]
  },
  {
   "cell_type": "code",
   "execution_count": 131,
   "id": "8ed9988c",
   "metadata": {},
   "outputs": [
    {
     "data": {
      "text/plain": [
       "array([[1, 2, 3, 1, 2, 3],\n",
       "       [1, 2, 3, 1, 2, 3]])"
      ]
     },
     "execution_count": 131,
     "metadata": {},
     "output_type": "execute_result"
    }
   ],
   "source": [
    "grid = np.array([[1,2,3],[1,2,3]])\n",
    "np.concatenate([grid,grid], axis=1)"
   ]
  },
  {
   "cell_type": "code",
   "execution_count": 132,
   "id": "f5ab7796",
   "metadata": {},
   "outputs": [
    {
     "data": {
      "text/plain": [
       "array([[1, 2, 3],\n",
       "       [1, 2, 3],\n",
       "       [1, 2, 3],\n",
       "       [1, 2, 3]])"
      ]
     },
     "execution_count": 132,
     "metadata": {},
     "output_type": "execute_result"
    }
   ],
   "source": [
    "grid = np.array([[1,2,3],[1,2,3]])\n",
    "np.concatenate([grid,grid], axis=0)"
   ]
  },
  {
   "cell_type": "code",
   "execution_count": 133,
   "id": "295f6504",
   "metadata": {},
   "outputs": [
    {
     "data": {
      "text/plain": [
       "array([[1, 2, 3],\n",
       "       [1, 2, 3]])"
      ]
     },
     "execution_count": 133,
     "metadata": {},
     "output_type": "execute_result"
    }
   ],
   "source": [
    "np.vstack([v1, v1])"
   ]
  },
  {
   "cell_type": "code",
   "execution_count": 134,
   "id": "29ce82ee",
   "metadata": {},
   "outputs": [
    {
     "data": {
      "text/plain": [
       "array([4, 5, 6, 7, 4, 5, 6, 7])"
      ]
     },
     "execution_count": 134,
     "metadata": {},
     "output_type": "execute_result"
    }
   ],
   "source": [
    "np.hstack([v2,v2])"
   ]
  },
  {
   "cell_type": "code",
   "execution_count": 135,
   "id": "0996fbee",
   "metadata": {},
   "outputs": [],
   "source": [
    "#2차원 배열 예제\n",
    "arr_2d = np.array([[1,2,3],[4,5,6]])"
   ]
  },
  {
   "cell_type": "code",
   "execution_count": 136,
   "id": "c1a37d20",
   "metadata": {},
   "outputs": [
    {
     "name": "stdout",
     "output_type": "stream",
     "text": [
      "[5 7 9]\n",
      "[ 6 15]\n"
     ]
    }
   ],
   "source": [
    "#axis = 0 방향 합계 (열 방향 합)\n",
    "sum_axis0 = np.sum(arr_2d, axis=0)\n",
    "sum_axis1 = np.sum(arr_2d, axis=1)\n",
    "print(sum_axis0)\n",
    "print(sum_axis1)"
   ]
  },
  {
   "cell_type": "markdown",
   "id": "0e4f7e3d",
   "metadata": {},
   "source": [
    "## 배열의 인덱싱\n",
    "\n",
    "배열[행인덱스, 열인덱스]"
   ]
  },
  {
   "cell_type": "code",
   "execution_count": 137,
   "id": "eeaf30bc",
   "metadata": {},
   "outputs": [
    {
     "data": {
      "text/plain": [
       "(np.int64(1), np.int64(5))"
      ]
     },
     "execution_count": 137,
     "metadata": {},
     "output_type": "execute_result"
    }
   ],
   "source": [
    "arr = np.array([1,2,3,4,5])\n",
    "arr[0], arr[-1]"
   ]
  },
  {
   "cell_type": "code",
   "execution_count": 138,
   "id": "1c50c5b2",
   "metadata": {},
   "outputs": [
    {
     "data": {
      "text/plain": [
       "(np.int64(2), np.int64(3))"
      ]
     },
     "execution_count": 138,
     "metadata": {},
     "output_type": "execute_result"
    }
   ],
   "source": [
    "arr_2d[0,1], arr_2d[0,-1]"
   ]
  },
  {
   "cell_type": "code",
   "execution_count": 139,
   "id": "7cf1dcf7",
   "metadata": {},
   "outputs": [
    {
     "data": {
      "text/plain": [
       "array([[1, 2, 3],\n",
       "       [4, 5, 6]])"
      ]
     },
     "execution_count": 139,
     "metadata": {},
     "output_type": "execute_result"
    }
   ],
   "source": [
    "arr_2d"
   ]
  },
  {
   "cell_type": "code",
   "execution_count": 140,
   "id": "c6b7f3d3",
   "metadata": {},
   "outputs": [
    {
     "data": {
      "text/plain": [
       "np.int64(5)"
      ]
     },
     "execution_count": 140,
     "metadata": {},
     "output_type": "execute_result"
    }
   ],
   "source": [
    "arr_2d[1,1]"
   ]
  },
  {
   "cell_type": "code",
   "execution_count": 141,
   "id": "18cffee6",
   "metadata": {},
   "outputs": [
    {
     "data": {
      "text/plain": [
       "array([[ 1,  2,  3],\n",
       "       [ 4, 10,  6]])"
      ]
     },
     "execution_count": 141,
     "metadata": {},
     "output_type": "execute_result"
    }
   ],
   "source": [
    "arr_2d[1,1] = 10\n",
    "arr_2d"
   ]
  },
  {
   "cell_type": "markdown",
   "id": "7adc0d08",
   "metadata": {},
   "source": [
    "## 슬라이싱\n",
    "- [:] 전체\n",
    "- [0:n] 0~n-1까지\n",
    "- [:5] 0~4까지 \n",
    "\n",
    "리스트와 차이점\n",
    "- 리스트 : 복사본을 리턴\n",
    "- 배열 : 원본 배열의 뷰 ➡️ 복사❌, 원본에도 영향을 미친다\n",
    "- 슬라이싱.copy()\n",
    "\n"
   ]
  },
  {
   "cell_type": "code",
   "execution_count": 143,
   "id": "b2958ebe",
   "metadata": {},
   "outputs": [
    {
     "data": {
      "text/plain": [
       "array([0, 1, 2, 3, 4, 5, 6, 7, 8, 9])"
      ]
     },
     "execution_count": 143,
     "metadata": {},
     "output_type": "execute_result"
    }
   ],
   "source": [
    "x = np.arange(10)\n",
    "x"
   ]
  },
  {
   "cell_type": "code",
   "execution_count": 144,
   "id": "f4dbfb06",
   "metadata": {},
   "outputs": [
    {
     "data": {
      "text/plain": [
       "array([0, 1, 2, 3, 4])"
      ]
     },
     "execution_count": 144,
     "metadata": {},
     "output_type": "execute_result"
    }
   ],
   "source": [
    "x[:5]"
   ]
  },
  {
   "cell_type": "code",
   "execution_count": 145,
   "id": "70f87a11",
   "metadata": {},
   "outputs": [
    {
     "data": {
      "text/plain": [
       "array([4, 5, 6])"
      ]
     },
     "execution_count": 145,
     "metadata": {},
     "output_type": "execute_result"
    }
   ],
   "source": [
    "x[4:7]"
   ]
  },
  {
   "cell_type": "code",
   "execution_count": 147,
   "id": "73d5a7b2",
   "metadata": {},
   "outputs": [
    {
     "data": {
      "text/plain": [
       "array([4, 5, 6])"
      ]
     },
     "execution_count": 147,
     "metadata": {},
     "output_type": "execute_result"
    }
   ],
   "source": [
    "new_x = x[4:7]\n",
    "new_x"
   ]
  },
  {
   "cell_type": "code",
   "execution_count": null,
   "id": "43f2a897",
   "metadata": {},
   "outputs": [
    {
     "data": {
      "text/plain": [
       "(array([100,   5,   6]),\n",
       " array([  0,   1,   2,   3, 100,   5,   6,   7,   8,   9]))"
      ]
     },
     "execution_count": 148,
     "metadata": {},
     "output_type": "execute_result"
    }
   ],
   "source": [
    "new_x[0] = 100\n",
    "new_x, x #view, 뷰의 값 변경 ➡️ 원본의 값도 변경"
   ]
  },
  {
   "cell_type": "code",
   "execution_count": 150,
   "id": "34421eb3",
   "metadata": {},
   "outputs": [
    {
     "data": {
      "text/plain": [
       "(array([200,   5,   6]),\n",
       " array([  0,   1,   2,   3, 100,   5,   6,   7,   8,   9]))"
      ]
     },
     "execution_count": 150,
     "metadata": {},
     "output_type": "execute_result"
    }
   ],
   "source": [
    "new_x1 = x[4:7].copy()\n",
    "new_x1[0] = 200\n",
    "new_x1, x"
   ]
  },
  {
   "cell_type": "code",
   "execution_count": 142,
   "id": "6b49cf3c",
   "metadata": {},
   "outputs": [
    {
     "name": "stdout",
     "output_type": "stream",
     "text": [
      "[2 3 4]\n",
      "[0 2 4]\n"
     ]
    }
   ],
   "source": [
    "#1차원 배열 슬라이싱\n",
    "arr = np.array([0,1,2,3,4,5])\n",
    "print(arr[2:5])\n",
    "print(arr[::2])"
   ]
  },
  {
   "cell_type": "code",
   "execution_count": 153,
   "id": "8b4eb307",
   "metadata": {},
   "outputs": [
    {
     "name": "stdout",
     "output_type": "stream",
     "text": [
      "[[2 3]\n",
      " [6 7]]\n"
     ]
    }
   ],
   "source": [
    "#2차원 배열 슬라이싱\n",
    "arr_2d = np.array([[1,2,3,4],\n",
    "                  [5,6,7,8],\n",
    "                  [9,10,11,12]])\n",
    "\n",
    "print(arr_2d[:2, 1:3])"
   ]
  },
  {
   "cell_type": "code",
   "execution_count": null,
   "id": "5f1e92e1",
   "metadata": {},
   "outputs": [
    {
     "name": "stdout",
     "output_type": "stream",
     "text": [
      "원본 4x4 배열:\n",
      "[[ 0  1  2  3]\n",
      " [ 4  5  6  7]\n",
      " [ 8  9 10 11]\n",
      " [12 13 14 15]]\n",
      "------------------------------\n"
     ]
    }
   ],
   "source": [
    "arr_2d = np.arange(16).reshape((4, 4))\n",
    "\n",
    "print(\"원본 4x4 배열:\")\n",
    "print(arr_2d)\n",
    "print(\"-\" * 30)"
   ]
  },
  {
   "cell_type": "code",
   "execution_count": 167,
   "id": "0ecda88c",
   "metadata": {},
   "outputs": [
    {
     "name": "stdout",
     "output_type": "stream",
     "text": [
      "[0 1 2 3]\n"
     ]
    }
   ],
   "source": [
    "\n",
    "# 첫 번째 행 전체\n",
    "print(arr_2d[0,:5])"
   ]
  },
  {
   "cell_type": "code",
   "execution_count": 169,
   "id": "2d837806",
   "metadata": {},
   "outputs": [
    {
     "name": "stdout",
     "output_type": "stream",
     "text": [
      "[ 3  7 11 15]\n"
     ]
    }
   ],
   "source": [
    "\n",
    "#마지막 열 전체\n",
    "print(arr_2d[:5, -1])"
   ]
  },
  {
   "cell_type": "code",
   "execution_count": 205,
   "id": "6625fa5e",
   "metadata": {},
   "outputs": [
    {
     "name": "stdout",
     "output_type": "stream",
     "text": [
      "[[ 0  1  2  3]\n",
      " [12 13 14 15]] [ 0  4  8 12] [ 3  7 11 15]\n"
     ]
    }
   ],
   "source": [
    "#첫 번째 행과 마지막 행만 선택, 각 행의 첫번째, 마지막 열 선택\n",
    "print(arr_2d[::3], arr_2d[:,0],arr_2d[:,-1])"
   ]
  },
  {
   "cell_type": "code",
   "execution_count": 223,
   "id": "13a38135",
   "metadata": {},
   "outputs": [
    {
     "name": "stdout",
     "output_type": "stream",
     "text": [
      "[[ 4  5  6  7]\n",
      " [12 13 14 15]]\n",
      "[[ 0  2]\n",
      " [ 4  6]\n",
      " [ 8 10]\n",
      " [12 14]]\n"
     ]
    }
   ],
   "source": [
    "# 짝수 인덱스 행(0번째, 2번째 행), 홀수 인덱스 열 선택\n",
    "print(arr_2d[1::2])\n",
    "print(arr_2d[:, [0,2]])"
   ]
  },
  {
   "cell_type": "code",
   "execution_count": 276,
   "id": "ba0f4de0",
   "metadata": {},
   "outputs": [
    {
     "name": "stdout",
     "output_type": "stream",
     "text": [
      "원본 6x6 배열:\n",
      "[[[  0   1   2   3   4   5]\n",
      "  [  6   7   8   9  10  11]\n",
      "  [ 12  13  14  15  16  17]\n",
      "  [ 18  19  20  21  22  23]\n",
      "  [ 24  25  26  27  28  29]\n",
      "  [ 30  31  32  33  34  35]]\n",
      "\n",
      " [[ 36  37  38  39  40  41]\n",
      "  [ 42  43  44  45  46  47]\n",
      "  [ 48  49  50  51  52  53]\n",
      "  [ 54  55  56  57  58  59]\n",
      "  [ 60  61  62  63  64  65]\n",
      "  [ 66  67  68  69  70  71]]\n",
      "\n",
      " [[ 72  73  74  75  76  77]\n",
      "  [ 78  79  80  81  82  83]\n",
      "  [ 84  85  86  87  88  89]\n",
      "  [ 90  91  92  93  94  95]\n",
      "  [ 96  97  98  99 100 101]\n",
      "  [102 103 104 105 106 107]]\n",
      "\n",
      " [[108 109 110 111 112 113]\n",
      "  [114 115 116 117 118 119]\n",
      "  [120 121 122 123 124 125]\n",
      "  [126 127 128 129 130 131]\n",
      "  [132 133 134 135 136 137]\n",
      "  [138 139 140 141 142 143]]]\n",
      "----------------------\n"
     ]
    }
   ],
   "source": [
    "#위의 3차원 행렬을 작성하세요\n",
    "\n",
    "\n",
    "\n",
    "\n",
    "arr_3d = np.arange(144).reshape((4,6,6))\n",
    "\n",
    "print(\"원본 6x6 배열:\")\n",
    "print(arr_3d)\n",
    "print(\"-\" * 22)"
   ]
  },
  {
   "cell_type": "code",
   "execution_count": 245,
   "id": "28cf46b0",
   "metadata": {},
   "outputs": [
    {
     "name": "stdout",
     "output_type": "stream",
     "text": [
      "[[36 37 38 39 40 41]\n",
      " [42 43 44 45 46 47]\n",
      " [48 49 50 51 52 53]\n",
      " [54 55 56 57 58 59]\n",
      " [60 61 62 63 64 65]\n",
      " [66 67 68 69 70 71]]\n"
     ]
    }
   ],
   "source": [
    "\n",
    "# 2번째 층 선택\n",
    "#arr_3d = np.arange(144).reshape((4, 6, 6))  # 3차원 배열\n",
    "print(arr_3d[1])  # 2번째 층 출력"
   ]
  },
  {
   "cell_type": "code",
   "execution_count": 274,
   "id": "0f129024",
   "metadata": {},
   "outputs": [
    {
     "name": "stdout",
     "output_type": "stream",
     "text": [
      "[ 19  55  91 127]\n"
     ]
    }
   ],
   "source": [
    "#네번째행, 두번째 열 원소 선택, 1차원 배열로 작성\n",
    "\n",
    "arr_3d[:, 3,1]\n",
    "print(result)"
   ]
  },
  {
   "cell_type": "code",
   "execution_count": 252,
   "id": "cba5da8e",
   "metadata": {},
   "outputs": [
    {
     "data": {
      "text/plain": [
       "array([[[28, 29],\n",
       "        [34, 35]],\n",
       "\n",
       "       [[64, 65],\n",
       "        [70, 71]]])"
      ]
     },
     "execution_count": 252,
     "metadata": {},
     "output_type": "execute_result"
    }
   ],
   "source": [
    "#배열의 첫 두 층, 마지막 두 행, 마지막 두 열 선택\n",
    "\n",
    "arr_3d[:2, -2:, -2: ]"
   ]
  },
  {
   "cell_type": "code",
   "execution_count": 262,
   "id": "76b30186",
   "metadata": {},
   "outputs": [
    {
     "data": {
      "text/plain": [
       "array([[  2,   8,  14,  20,  26,  32],\n",
       "       [ 74,  80,  86,  92,  98, 104]])"
      ]
     },
     "execution_count": 262,
     "metadata": {},
     "output_type": "execute_result"
    }
   ],
   "source": [
    "\n",
    "#짝수 인덱스층, 모든행의 세번째열 선택\n",
    "arr_3d[::2, :, 2]"
   ]
  },
  {
   "cell_type": "code",
   "execution_count": 272,
   "id": "5a4205ca",
   "metadata": {},
   "outputs": [
    {
     "data": {
      "text/plain": [
       "array([[ 85,  87,  89],\n",
       "       [ 91,  93,  95],\n",
       "       [ 97,  99, 101]])"
      ]
     },
     "execution_count": 272,
     "metadata": {},
     "output_type": "execute_result"
    }
   ],
   "source": [
    "#세번째 층, 두번째 행에서 네번째 행, 홀수 인덱스 열\n",
    "arr_3d[2, 2:5, 1::2]"
   ]
  },
  {
   "cell_type": "code",
   "execution_count": null,
   "id": "24d39e67",
   "metadata": {},
   "outputs": [],
   "source": []
  }
 ],
 "metadata": {
  "kernelspec": {
   "display_name": "hipython",
   "language": "python",
   "name": "python3"
  },
  "language_info": {
   "codemirror_mode": {
    "name": "ipython",
    "version": 3
   },
   "file_extension": ".py",
   "mimetype": "text/x-python",
   "name": "python",
   "nbconvert_exporter": "python",
   "pygments_lexer": "ipython3",
   "version": "3.12.9"
  }
 },
 "nbformat": 4,
 "nbformat_minor": 5
}
