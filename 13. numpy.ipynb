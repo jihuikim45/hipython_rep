{
 "cells": [
  {
   "cell_type": "code",
   "execution_count": 3,
   "id": "edbfa282",
   "metadata": {},
   "outputs": [
    {
     "data": {
      "text/plain": [
       "[[120, 135, 150, 145], [100, 110, 140, 130], [90, 100, 95, 105]]"
      ]
     },
     "execution_count": 3,
     "metadata": {},
     "output_type": "execute_result"
    }
   ],
   "source": [
    "import numpy as np\n",
    "\n",
    "data = [[120, 135, 150, 145],  # 제품A\n",
    "    [100, 110, 140, 130],  # 제품B\n",
    "    [90, 100, 95, 105]]\n",
    "\n",
    "data"
   ]
  },
  {
   "cell_type": "code",
   "execution_count": 4,
   "id": "7db6ee81",
   "metadata": {},
   "outputs": [
    {
     "data": {
      "text/plain": [
       "array([[120, 135, 150, 145],\n",
       "       [100, 110, 140, 130],\n",
       "       [ 90, 100,  95, 105]])"
      ]
     },
     "execution_count": 4,
     "metadata": {},
     "output_type": "execute_result"
    }
   ],
   "source": [
    "np.array(data)"
   ]
  },
  {
   "cell_type": "code",
   "execution_count": null,
   "id": "b4673ad0",
   "metadata": {},
   "outputs": [
    {
     "data": {
      "text/plain": [
       "array([550, 480, 390])"
      ]
     },
     "execution_count": 5,
     "metadata": {},
     "output_type": "execute_result"
    }
   ],
   "source": [
    "sales_data = np.array(data)\n",
    "np.sum(sales_data, axis=1) #총 판매량"
   ]
  },
  {
   "cell_type": "code",
   "execution_count": null,
   "id": "750cc4cc",
   "metadata": {},
   "outputs": [
    {
     "data": {
      "text/plain": [
       "array([7650, 8500, 9575, 9425])"
      ]
     },
     "execution_count": 7,
     "metadata": {},
     "output_type": "execute_result"
    }
   ],
   "source": [
    "profit_per_unit = np.array([20,30,25])\n",
    "total_sales = np.dot(profit_per_unit, sales_data)\n",
    "total_sales #총판매금액"
   ]
  },
  {
   "cell_type": "markdown",
   "id": "a20e53d8",
   "metadata": {},
   "source": [
    "# 넘파이의 사용\n",
    "\n",
    "1. 데이터 분석 프로젝트: 수치형 데이터의 요약, 통계, 시각화\n",
    "2. 이미지 처리 프로젝트: 이미지 분석\n",
    "3. 게임, 시뮬레이션 프로그램: 수치시뮬레이션 등을 구현\n",
    "4. 머신러닝 / 딥러닝 모델 프로젝트: 금융데이터, 의료데이터, 실험데이터, 센서데이터터"
   ]
  },
  {
   "cell_type": "markdown",
   "id": "3caaff89",
   "metadata": {},
   "source": [
    "# 이미지 처리\n"
   ]
  },
  {
   "cell_type": "code",
   "execution_count": null,
   "id": "cd149871",
   "metadata": {},
   "outputs": [],
   "source": [
    "from PIL import Image\n",
    "img = Image.open('dog.jpg').convert('L')\n",
    "img_ary = np.array(img)\n",
    "new_img = np.clip(img_ary+10, 0, 255).astype(np.uint8)\n",
    "Image.fromarray(new_img).save('new_sample.jpg')"
   ]
  },
  {
   "cell_type": "code",
   "execution_count": 18,
   "id": "55dc5dad",
   "metadata": {},
   "outputs": [],
   "source": [
    "inverted = 255 - img_ary\n",
    "Image.fromarray(inverted).save('new_sample1.jpg')"
   ]
  },
  {
   "cell_type": "markdown",
   "id": "963a0eff",
   "metadata": {},
   "source": [
    "# 데이터 시뮬레이션\n"
   ]
  },
  {
   "cell_type": "code",
   "execution_count": null,
   "id": "1cf95ff2",
   "metadata": {},
   "outputs": [],
   "source": [
    "1차원 배열의 랜덤 시뮬레이션"
   ]
  },
  {
   "cell_type": "code",
   "execution_count": 20,
   "id": "b9ca5948",
   "metadata": {},
   "outputs": [
    {
     "data": {
      "text/plain": [
       "[<matplotlib.lines.Line2D at 0x1e94347afc0>]"
      ]
     },
     "execution_count": 20,
     "metadata": {},
     "output_type": "execute_result"
    },
    {
     "data": {
      "image/png": "[encoded data removed]",
      "text/plain": [
       "<Figure size 640x480 with 1 Axes>"
      ]
     },
     "metadata": {},
     "output_type": "display_data"
    }
   ],
   "source": [
    "import matplotlib.pyplot as plt\n",
    "\n",
    "n_step = 1000\n",
    "step = np.random.choice([-1, 1], size=n_step)\n",
    "walk = np.cumsum(step)\n",
    "\n",
    "plt.plot(walk)\n"
   ]
  },
  {
   "cell_type": "code",
   "execution_count": 23,
   "id": "25d031a7",
   "metadata": {},
   "outputs": [
    {
     "name": "stdout",
     "output_type": "stream",
     "text": [
      "배열의 차원: 2\n",
      "배열의 형태: (3, 3)\n",
      "배열의 크기: 9\n",
      "배열의 데이터 타입: int64\n",
      "배열 요소의 크기 8\n",
      "배열의 strides: (24, 8)\n"
     ]
    }
   ],
   "source": [
    "#배열 생성\n",
    "arr = np.array([[1,2,3],\n",
    "               [4,5,6],\n",
    "               [7,8,9]])\n",
    "\n",
    "#배열의 속성 확인\n",
    "print('배열의 차원:', arr.ndim)\n",
    "print('배열의 형태:', arr.shape)\n",
    "print('배열의 크기:', arr.size)\n",
    "print('배열의 데이터 타입:', arr.dtype)\n",
    "print('배열 요소의 크기', arr.itemsize)\n",
    "print('배열의 strides:', arr.strides)\n",
    "\n"
   ]
  },
  {
   "cell_type": "code",
   "execution_count": 34,
   "id": "c86fcf7f",
   "metadata": {},
   "outputs": [
    {
     "data": {
      "text/plain": [
       "list"
      ]
     },
     "execution_count": 34,
     "metadata": {},
     "output_type": "execute_result"
    }
   ],
   "source": [
    "tensor_list = [[[1, 2, 3, 4],[1, 2, 3, 4],[1, 2, 3, 4]],\n",
    "               [[1, 2, 3, 4],[1, 2, 3, 4],[1, 2, 3, 4]]]\n",
    "\n",
    "type(tensor_list)"
   ]
  },
  {
   "cell_type": "code",
   "execution_count": 35,
   "id": "a38ae54e",
   "metadata": {},
   "outputs": [
    {
     "data": {
      "text/plain": [
       "numpy.ndarray"
      ]
     },
     "execution_count": 35,
     "metadata": {},
     "output_type": "execute_result"
    }
   ],
   "source": [
    "arr1 = np.array(tensor_list)\n",
    "type(arr1)"
   ]
  },
  {
   "cell_type": "code",
   "execution_count": 36,
   "id": "9f64be20",
   "metadata": {},
   "outputs": [
    {
     "data": {
      "text/plain": [
       "(2, 3, 4)"
      ]
     },
     "execution_count": 36,
     "metadata": {},
     "output_type": "execute_result"
    }
   ],
   "source": [
    "arr1.shape"
   ]
  },
  {
   "cell_type": "code",
   "execution_count": null,
   "id": "30f6fc5b",
   "metadata": {},
   "outputs": [],
   "source": []
  }
 ],
 "metadata": {
  "kernelspec": {
   "display_name": "hipython",
   "language": "python",
   "name": "python3"
  },
  "language_info": {
   "codemirror_mode": {
    "name": "ipython",
    "version": 3
   },
   "file_extension": ".py",
   "mimetype": "text/x-python",
   "name": "python",
   "nbconvert_exporter": "python",
   "pygments_lexer": "ipython3",
   "version": "3.12.9"
  }
 },
 "nbformat": 4,
 "nbformat_minor": 5
}
