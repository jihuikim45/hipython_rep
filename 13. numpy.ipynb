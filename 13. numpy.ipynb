{
 "cells": [
  {
   "cell_type": "code",
   "execution_count": 1,
   "id": "edbfa282",
   "metadata": {},
   "outputs": [
    {
     "data": {
      "text/plain": [
       "[[120, 135, 150, 145], [100, 110, 140, 130], [90, 100, 95, 105]]"
      ]
     },
     "execution_count": 1,
     "metadata": {},
     "output_type": "execute_result"
    }
   ],
   "source": [
    "import numpy as np\n",
    "\n",
    "data = [[120, 135, 150, 145],  # 제품A\n",
    "    [100, 110, 140, 130],  # 제품B\n",
    "    [90, 100, 95, 105]]\n",
    "\n",
    "data"
   ]
  },
  {
   "cell_type": "code",
   "execution_count": 2,
   "id": "7db6ee81",
   "metadata": {},
   "outputs": [
    {
     "data": {
      "text/plain": [
       "array([[120, 135, 150, 145],\n",
       "       [100, 110, 140, 130],\n",
       "       [ 90, 100,  95, 105]])"
      ]
     },
     "execution_count": 2,
     "metadata": {},
     "output_type": "execute_result"
    }
   ],
   "source": [
    "np.array(data)"
   ]
  },
  {
   "cell_type": "code",
   "execution_count": 3,
   "id": "b4673ad0",
   "metadata": {},
   "outputs": [
    {
     "data": {
      "text/plain": [
       "array([550, 480, 390])"
      ]
     },
     "execution_count": 3,
     "metadata": {},
     "output_type": "execute_result"
    }
   ],
   "source": [
    "sales_data = np.array(data)\n",
    "np.sum(sales_data, axis=1) #총 판매량"
   ]
  },
  {
   "cell_type": "code",
   "execution_count": 4,
   "id": "750cc4cc",
   "metadata": {},
   "outputs": [
    {
     "data": {
      "text/plain": [
       "array([7650, 8500, 9575, 9425])"
      ]
     },
     "execution_count": 4,
     "metadata": {},
     "output_type": "execute_result"
    }
   ],
   "source": [
    "profit_per_unit = np.array([20,30,25])\n",
    "total_sales = np.dot(profit_per_unit, sales_data)\n",
    "total_sales #총판매금액"
   ]
  },
  {
   "cell_type": "markdown",
   "id": "a20e53d8",
   "metadata": {},
   "source": [
    "# 넘파이의 사용\n",
    "\n",
    "1. 데이터 분석 프로젝트: 수치형 데이터의 요약, 통계, 시각화\n",
    "2. 이미지 처리 프로젝트: 이미지 분석\n",
    "3. 게임, 시뮬레이션 프로그램: 수치시뮬레이션 등을 구현\n",
    "4. 머신러닝 / 딥러닝 모델 프로젝트: 금융데이터, 의료데이터, 실험데이터, 센서데이터터"
   ]
  },
  {
   "cell_type": "markdown",
   "id": "3caaff89",
   "metadata": {},
   "source": [
    "# 이미지 처리\n"
   ]
  },
  {
   "cell_type": "code",
   "execution_count": 5,
   "id": "cd149871",
   "metadata": {},
   "outputs": [],
   "source": [
    "from PIL import Image\n",
    "img = Image.open('dog.jpg').convert('L')\n",
    "img_ary = np.array(img)\n",
    "new_img = np.clip(img_ary+10, 0, 255).astype(np.uint8)\n",
    "Image.fromarray(new_img).save('new_sample.jpg')"
   ]
  },
  {
   "cell_type": "code",
   "execution_count": 6,
   "id": "55dc5dad",
   "metadata": {},
   "outputs": [],
   "source": [
    "inverted = 255 - img_ary\n",
    "Image.fromarray(inverted).save('new_sample1.jpg')"
   ]
  },
  {
   "cell_type": "markdown",
   "id": "963a0eff",
   "metadata": {},
   "source": [
    "# 데이터 시뮬레이션\n"
   ]
  },
  {
   "cell_type": "code",
   "execution_count": 7,
   "id": "1cf95ff2",
   "metadata": {},
   "outputs": [
    {
     "ename": "SyntaxError",
     "evalue": "invalid syntax (3671422106.py, line 1)",
     "output_type": "error",
     "traceback": [
      "  \u001b[36mCell\u001b[39m\u001b[36m \u001b[39m\u001b[32mIn[7]\u001b[39m\u001b[32m, line 1\u001b[39m\n\u001b[31m    \u001b[39m\u001b[31m1차원 배열의 랜덤 시뮬레이션\u001b[39m\n     ^\n\u001b[31mSyntaxError\u001b[39m\u001b[31m:\u001b[39m invalid syntax\n"
     ]
    }
   ],
   "source": [
    "1차원 배열의 랜덤 시뮬레이션"
   ]
  },
  {
   "cell_type": "code",
   "execution_count": null,
   "id": "b9ca5948",
   "metadata": {},
   "outputs": [
    {
     "data": {
      "text/plain": [
       "[<matplotlib.lines.Line2D at 0x1e94347afc0>]"
      ]
     },
     "execution_count": 20,
     "metadata": {},
     "output_type": "execute_result"
    },
    {
     "data": {
      "image/png": "[encoded data removed]",
      "text/plain": [
       "<Figure size 640x480 with 1 Axes>"
      ]
     },
     "metadata": {},
     "output_type": "display_data"
    }
   ],
   "source": [
    "import matplotlib.pyplot as plt\n",
    "\n",
    "n_step = 1000\n",
    "step = np.random.choice([-1, 1], size=n_step)\n",
    "walk = np.cumsum(step)\n",
    "\n",
    "plt.plot(walk)\n"
   ]
  },
  {
   "cell_type": "code",
   "execution_count": null,
   "id": "25d031a7",
   "metadata": {},
   "outputs": [
    {
     "name": "stdout",
     "output_type": "stream",
     "text": [
      "배열의 차원: 2\n",
      "배열의 형태: (3, 3)\n",
      "배열의 크기: 9\n",
      "배열의 데이터 타입: int64\n",
      "배열 요소의 크기 8\n",
      "배열의 strides: (24, 8)\n"
     ]
    }
   ],
   "source": [
    "#배열 생성\n",
    "import numpy as np\n",
    "\n",
    "arr = np.array([[1,2,3],\n",
    "               [4,5,6],\n",
    "               [7,8,9]])\n",
    "\n",
    "#배열의 속성 확인\n",
    "print('배열의 차원:', arr.ndim)\n",
    "print('배열의 형태:', arr.shape)\n",
    "print('배열의 크기:', arr.size)\n",
    "print('배열의 데이터 타입:', arr.dtype)\n",
    "print('배열 요소의 크기', arr.itemsize)\n",
    "print('배열의 strides:', arr.strides)\n",
    "\n"
   ]
  },
  {
   "cell_type": "code",
   "execution_count": null,
   "id": "c86fcf7f",
   "metadata": {},
   "outputs": [
    {
     "data": {
      "text/plain": [
       "list"
      ]
     },
     "execution_count": 9,
     "metadata": {},
     "output_type": "execute_result"
    }
   ],
   "source": [
    "tensor_list = [[[1, 2, 3, 4],[1, 2, 3, 4],[1, 2, 3, 4]],\n",
    "               [[1, 2, 3, 4],[1, 2, 3, 4],[1, 2, 3, 4]]]\n",
    "\n",
    "type(tensor_list)"
   ]
  },
  {
   "cell_type": "code",
   "execution_count": null,
   "id": "a38ae54e",
   "metadata": {},
   "outputs": [
    {
     "data": {
      "text/plain": [
       "numpy.ndarray"
      ]
     },
     "execution_count": 10,
     "metadata": {},
     "output_type": "execute_result"
    }
   ],
   "source": [
    "arr1 = np.array(tensor_list)\n",
    "type(arr1)"
   ]
  },
  {
   "cell_type": "code",
   "execution_count": null,
   "id": "10c04a93",
   "metadata": {},
   "outputs": [
    {
     "data": {
      "text/plain": [
       "(2, 3, 4)"
      ]
     },
     "execution_count": 16,
     "metadata": {},
     "output_type": "execute_result"
    }
   ],
   "source": [
    "arr1.shape"
   ]
  },
  {
   "cell_type": "code",
   "execution_count": null,
   "id": "9f64be20",
   "metadata": {},
   "outputs": [
    {
     "data": {
      "text/plain": [
       "(2, 3, 4)"
      ]
     },
     "execution_count": 11,
     "metadata": {},
     "output_type": "execute_result"
    }
   ],
   "source": [
    "arr1.shape"
   ]
  },
  {
   "cell_type": "code",
   "execution_count": null,
   "id": "30f6fc5b",
   "metadata": {},
   "outputs": [
    {
     "name": "stdout",
     "output_type": "stream",
     "text": [
      "배열의 차원: 2\n",
      "배열의 형태: (3, 3)\n",
      "배열의 크기: 9\n",
      "배열의 데이터 타입: int64\n",
      "배열 요소의 크기: 8\n",
      "배열의 strides: (24, 8)\n"
     ]
    },
    {
     "data": {
      "text/plain": [
       "numpy.ndarray"
      ]
     },
     "execution_count": 21,
     "metadata": {},
     "output_type": "execute_result"
    }
   ],
   "source": [
    "# 배열 생성\n",
    "\n",
    "\n",
    "arr2 = np.array([[1, 2, 3],\n",
    "                [4, 5, 6],\n",
    "                [7, 8, 9]])\n",
    "\n",
    "# 배열의 속성 확인\n",
    "print('배열의 차원:', arr2.ndim)         # 2\n",
    "print('배열의 형태:', arr2.shape)        # (3, 3)\n",
    "print('배열의 크기:', arr2.size)         # 9\n",
    "print('배열의 데이터 타입:', arr2.dtype) # int64\n",
    "print('배열 요소의 크기:', arr2.itemsize) # 8 (바이트)\n",
    "print('배열의 strides:', arr2.strides)   # (24, 8)\n",
    "type(arr2)"
   ]
  },
  {
   "cell_type": "code",
   "execution_count": null,
   "id": "e14e9085",
   "metadata": {},
   "outputs": [
    {
     "data": {
      "text/plain": [
       "numpy.ndarray"
      ]
     },
     "execution_count": 22,
     "metadata": {},
     "output_type": "execute_result"
    }
   ],
   "source": [
    "arr3 = np.array([1,2,3]) #1차원\n",
    "type(arr3)"
   ]
  },
  {
   "cell_type": "code",
   "execution_count": null,
   "id": "d1bbb94d",
   "metadata": {},
   "outputs": [
    {
     "data": {
      "text/plain": [
       "(dtype('int64'), dtype('int64'))"
      ]
     },
     "execution_count": 23,
     "metadata": {},
     "output_type": "execute_result"
    }
   ],
   "source": [
    "arr2.dtype, arr3.dtype,"
   ]
  },
  {
   "cell_type": "code",
   "execution_count": null,
   "id": "e30882af",
   "metadata": {},
   "outputs": [
    {
     "data": {
      "text/plain": [
       "(2926985920304, 2926986545552)"
      ]
     },
     "execution_count": 24,
     "metadata": {},
     "output_type": "execute_result"
    }
   ],
   "source": [
    "arr4 = np.array([1,2,3])\n",
    "id(arr3), id(arr4)"
   ]
  },
  {
   "cell_type": "code",
   "execution_count": null,
   "id": "6d71f5cc",
   "metadata": {},
   "outputs": [
    {
     "data": {
      "text/plain": [
       "(dtype('<U21'), array(['1', '2', '4', '5', '10'], dtype='<U21'))"
      ]
     },
     "execution_count": 25,
     "metadata": {},
     "output_type": "execute_result"
    }
   ],
   "source": [
    "#type 변환\n",
    "list2 = [1,2,4,'5',10]\n",
    "type(list2)\n",
    "\n",
    "t_1 = np.array(list2)\n",
    "t_1.dtype, t_1"
   ]
  },
  {
   "cell_type": "code",
   "execution_count": null,
   "id": "ca729b2b",
   "metadata": {},
   "outputs": [],
   "source": [
    "#(dtype('<U21'), array(['1', '2', '4', '5', '10'], dtype='<U21'))\n",
    "# U21 : unicode21 "
   ]
  },
  {
   "cell_type": "code",
   "execution_count": null,
   "id": "51eca993",
   "metadata": {},
   "outputs": [
    {
     "data": {
      "text/plain": [
       "dtype('float64')"
      ]
     },
     "execution_count": 27,
     "metadata": {},
     "output_type": "execute_result"
    }
   ],
   "source": [
    "np.array(list2, float).dtype"
   ]
  },
  {
   "cell_type": "code",
   "execution_count": null,
   "id": "e0841722",
   "metadata": {},
   "outputs": [],
   "source": []
  },
  {
   "cell_type": "markdown",
   "id": "a008cc53",
   "metadata": {},
   "source": [
    "# shape 속성"
   ]
  },
  {
   "cell_type": "code",
   "execution_count": null,
   "id": "ee4f2014",
   "metadata": {},
   "outputs": [
    {
     "data": {
      "text/plain": [
       "((8,), 1)"
      ]
     },
     "execution_count": 29,
     "metadata": {},
     "output_type": "execute_result"
    }
   ],
   "source": [
    "list2 = [1,2,3,4,5,6,7,8]\n",
    "t_2 = np.array(list2)\n",
    "t_2.shape, t_2.ndim"
   ]
  },
  {
   "cell_type": "code",
   "execution_count": null,
   "id": "9e99f11e",
   "metadata": {},
   "outputs": [
    {
     "data": {
      "text/plain": [
       "((3, 8), 2)"
      ]
     },
     "execution_count": 30,
     "metadata": {},
     "output_type": "execute_result"
    }
   ],
   "source": [
    "list3 = ([[1,2,3,4,5,6,7,8], [9,10,11,12,13,14,15,16], [17,18,19,20,21,22,23,24]])\n",
    "\n",
    "t_3 = np.array(list3)\n",
    "t_3.shape, t_3.ndim\n"
   ]
  },
  {
   "cell_type": "markdown",
   "id": "d3d3965e",
   "metadata": {},
   "source": [
    "# 배열의 변경"
   ]
  },
  {
   "cell_type": "code",
   "execution_count": null,
   "id": "088400d5",
   "metadata": {},
   "outputs": [
    {
     "data": {
      "text/plain": [
       "array([[ 1,  2,  3,  4],\n",
       "       [ 5,  6,  7,  8],\n",
       "       [ 9, 10, 11, 12]])"
      ]
     },
     "execution_count": 33,
     "metadata": {},
     "output_type": "execute_result"
    }
   ],
   "source": [
    "list4 = range(1,13)\n",
    "np.array(list4).reshape(3,4)"
   ]
  },
  {
   "cell_type": "code",
   "execution_count": null,
   "id": "ce7563d7",
   "metadata": {},
   "outputs": [
    {
     "data": {
      "text/plain": [
       "array([[ 1,  2,  3],\n",
       "       [ 4,  5,  6],\n",
       "       [ 7,  8,  9],\n",
       "       [10, 11, 12]])"
      ]
     },
     "execution_count": 34,
     "metadata": {},
     "output_type": "execute_result"
    }
   ],
   "source": [
    "list5 = range(1,13)\n",
    "np.array(list5).reshape(4,3)"
   ]
  },
  {
   "cell_type": "code",
   "execution_count": null,
   "id": "dd7f9617",
   "metadata": {},
   "outputs": [
    {
     "data": {
      "text/plain": [
       "array([[1],\n",
       "       [2],\n",
       "       [3]])"
      ]
     },
     "execution_count": 36,
     "metadata": {},
     "output_type": "execute_result"
    }
   ],
   "source": [
    "list6 = np.array([1,2,3])\n",
    "#list6.reshape((1,3))\n",
    "list6.reshape((3,1))"
   ]
  },
  {
   "cell_type": "code",
   "execution_count": null,
   "id": "8045a081",
   "metadata": {},
   "outputs": [],
   "source": [
    "np.newaxis"
   ]
  },
  {
   "cell_type": "code",
   "execution_count": null,
   "id": "219b4f21",
   "metadata": {},
   "outputs": [
    {
     "data": {
      "text/plain": [
       "array([[1, 2, 3]])"
      ]
     },
     "execution_count": 37,
     "metadata": {},
     "output_type": "execute_result"
    }
   ],
   "source": [
    "#list6.reshape((1,3))\n",
    "list6[np.newaxis, :]"
   ]
  },
  {
   "cell_type": "code",
   "execution_count": null,
   "id": "f6172b45",
   "metadata": {},
   "outputs": [
    {
     "data": {
      "text/plain": [
       "array([[1],\n",
       "       [2],\n",
       "       [3]])"
      ]
     },
     "execution_count": 38,
     "metadata": {},
     "output_type": "execute_result"
    }
   ],
   "source": [
    "list6[ :, np.newaxis]"
   ]
  },
  {
   "cell_type": "markdown",
   "id": "227e2754",
   "metadata": {},
   "source": [
    "## arange()\n",
    "range(strat, end, step)"
   ]
  },
  {
   "cell_type": "code",
   "execution_count": null,
   "id": "3a813748",
   "metadata": {},
   "outputs": [
    {
     "data": {
      "text/plain": [
       "array([0, 1, 2, 3, 4, 5, 6, 7, 8, 9])"
      ]
     },
     "execution_count": 39,
     "metadata": {},
     "output_type": "execute_result"
    }
   ],
   "source": [
    "np.arange(10)"
   ]
  },
  {
   "cell_type": "code",
   "execution_count": null,
   "id": "177ce2ed",
   "metadata": {},
   "outputs": [
    {
     "data": {
      "text/plain": [
       "array([-5, -4, -3, -2, -1,  0,  1,  2,  3,  4])"
      ]
     },
     "execution_count": 40,
     "metadata": {},
     "output_type": "execute_result"
    }
   ],
   "source": [
    "np.arange(-5,5)"
   ]
  },
  {
   "cell_type": "code",
   "execution_count": null,
   "id": "9ea0683c",
   "metadata": {},
   "outputs": [
    {
     "data": {
      "text/plain": [
       "array([-0.5, -0.2,  0.1,  0.4])"
      ]
     },
     "execution_count": 42,
     "metadata": {},
     "output_type": "execute_result"
    }
   ],
   "source": [
    "np.arange(-0.5 , 0.5, 0.3)"
   ]
  },
  {
   "cell_type": "code",
   "execution_count": null,
   "id": "92db0d70",
   "metadata": {},
   "outputs": [
    {
     "data": {
      "text/plain": [
       "(2, 3)"
      ]
     },
     "execution_count": 43,
     "metadata": {},
     "output_type": "execute_result"
    }
   ],
   "source": [
    "#2, 3\n",
    "\n",
    "np.arange(1,7).reshape((2,3)).shape"
   ]
  },
  {
   "cell_type": "markdown",
   "id": "46058992",
   "metadata": {},
   "source": [
    "## 메소드 체이닝"
   ]
  },
  {
   "cell_type": "code",
   "execution_count": null,
   "id": "5996c526",
   "metadata": {},
   "outputs": [
    {
     "data": {
      "text/plain": [
       "array([[[ 1,  2,  3,  4],\n",
       "        [ 5,  6,  7,  8],\n",
       "        [ 9, 10, 11, 12]],\n",
       "\n",
       "       [[13, 14, 15, 16],\n",
       "        [17, 18, 19, 20],\n",
       "        [21, 22, 23, 24]]])"
      ]
     },
     "execution_count": 47,
     "metadata": {},
     "output_type": "execute_result"
    }
   ],
   "source": [
    "#2,3,4\n",
    "\n",
    "np.arange(1,25).reshape((2,3,4))"
   ]
  },
  {
   "cell_type": "code",
   "execution_count": null,
   "id": "ab3dfa94",
   "metadata": {},
   "outputs": [
    {
     "data": {
      "text/plain": [
       "array([ 1,  2,  3,  4,  5,  6,  7,  8,  9, 10, 11, 12, 13, 14, 15, 16, 17,\n",
       "       18, 19, 20, 21, 22, 23, 24])"
      ]
     },
     "execution_count": 56,
     "metadata": {},
     "output_type": "execute_result"
    }
   ],
   "source": [
    "np.arange(1,25).reshape((2,3,4)).reshape((24,))"
   ]
  },
  {
   "cell_type": "code",
   "execution_count": null,
   "id": "8c8d1d1a",
   "metadata": {},
   "outputs": [
    {
     "data": {
      "text/plain": [
       "array([ 1,  2,  3,  4,  5,  6,  7,  8,  9, 10, 11, 12, 13, 14, 15, 16, 17,\n",
       "       18, 19, 20, 21, 22, 23, 24])"
      ]
     },
     "execution_count": 57,
     "metadata": {},
     "output_type": "execute_result"
    }
   ],
   "source": [
    "np.arange(1,25).reshape((2,3,4)).reshape(-1)"
   ]
  },
  {
   "cell_type": "code",
   "execution_count": null,
   "id": "ad737f31",
   "metadata": {},
   "outputs": [
    {
     "name": "stdout",
     "output_type": "stream",
     "text": [
      "[1 2 3 4 5]\n"
     ]
    }
   ],
   "source": [
    "#리스트로부터 배열 생성\n",
    "arr1 = np.array([1, 2, 3, 4, 5])\n",
    "print(arr1)"
   ]
  },
  {
   "cell_type": "code",
   "execution_count": null,
   "id": "d6de5182",
   "metadata": {},
   "outputs": [
    {
     "name": "stdout",
     "output_type": "stream",
     "text": [
      "[0. 0. 0. 0. 0.]\n"
     ]
    }
   ],
   "source": [
    "#0으로 채워진 배열 생성\n",
    "arr2 = np.zeros(5)\n",
    "print(arr2)"
   ]
  },
  {
   "cell_type": "code",
   "execution_count": null,
   "id": "836cb906",
   "metadata": {},
   "outputs": [
    {
     "name": "stdout",
     "output_type": "stream",
     "text": [
      "[[1. 1. 1.]\n",
      " [1. 1. 1.]\n",
      " [1. 1. 1.]]\n"
     ]
    }
   ],
   "source": [
    "#1로 채워진 배열 생성\n",
    "arr3 = np.ones((3, 3))\n",
    "print(arr3)"
   ]
  },
  {
   "cell_type": "code",
   "execution_count": null,
   "id": "80b8d24d",
   "metadata": {},
   "outputs": [
    {
     "name": "stdout",
     "output_type": "stream",
     "text": [
      "[1 3 5 7 9]\n"
     ]
    }
   ],
   "source": [
    "#1부터 10까지 2씩 증가하는 배열\n",
    "range_arr = np.arange(1, 10, 2)\n",
    "print(range_arr)"
   ]
  },
  {
   "cell_type": "code",
   "execution_count": null,
   "id": "1067cf90",
   "metadata": {},
   "outputs": [
    {
     "name": "stdout",
     "output_type": "stream",
     "text": [
      "[  0.  25.  50.  75. 100.]\n"
     ]
    }
   ],
   "source": [
    "#0부터 100까지 5개의 숫자를 균등 간격으로 생성\n",
    "linspace_arr = np.linspace(0, 100, 5)\n",
    "print(linspace_arr)"
   ]
  },
  {
   "cell_type": "code",
   "execution_count": null,
   "id": "5bd81281",
   "metadata": {},
   "outputs": [
    {
     "name": "stdout",
     "output_type": "stream",
     "text": [
      "[[0.98961204 0.60012309 0.74061314]\n",
      " [0.6894609  0.45039411 0.15712188]]\n"
     ]
    }
   ],
   "source": [
    "#2행 3열의 랜덤 값 배열 (0~1 사이)\n",
    "random_arr = np.random.rand(2, 3)\n",
    "print(random_arr)"
   ]
  },
  {
   "cell_type": "code",
   "execution_count": null,
   "id": "8211be6b",
   "metadata": {},
   "outputs": [
    {
     "name": "stdout",
     "output_type": "stream",
     "text": [
      "[[1 2]\n",
      " [3 4]]\n"
     ]
    }
   ],
   "source": [
    "#2차원 배열 생성\n",
    "arr = np.array([[1,2],[3,4]])\n",
    "print(arr)"
   ]
  },
  {
   "cell_type": "code",
   "execution_count": null,
   "id": "edffecea",
   "metadata": {},
   "outputs": [
    {
     "name": "stdout",
     "output_type": "stream",
     "text": [
      "(3, 2, 2)\n"
     ]
    }
   ],
   "source": [
    "#3차원 배열 생성\n",
    "arr_3d = np.array([[[1,2],[3,4]],[[5,6],[7,8]],[[9,10],[11,12]]])\n",
    "print(arr_3d.shape)"
   ]
  },
  {
   "cell_type": "code",
   "execution_count": null,
   "id": "aaea2627",
   "metadata": {},
   "outputs": [
    {
     "name": "stdout",
     "output_type": "stream",
     "text": [
      "[[1. 0. 0.]\n",
      " [0. 1. 0.]\n",
      " [0. 0. 1.]]\n"
     ]
    }
   ],
   "source": [
    "# 3x3 단위행렬 생성\n",
    "identity_matrix = np.identity(3)\n",
    "print(identity_matrix)"
   ]
  },
  {
   "cell_type": "code",
   "execution_count": null,
   "id": "b35e12b4",
   "metadata": {},
   "outputs": [
    {
     "name": "stdout",
     "output_type": "stream",
     "text": [
      "[[1 0 0]\n",
      " [0 2 0]\n",
      " [0 0 3]]\n"
     ]
    }
   ],
   "source": [
    "#대각원소가 [1,2,3]인 대각행렬 생성\n",
    "diagonal_matrix = np.diag([1,2,3])\n",
    "print(diagonal_matrix)"
   ]
  },
  {
   "cell_type": "code",
   "execution_count": null,
   "id": "a9edb275",
   "metadata": {},
   "outputs": [
    {
     "name": "stdout",
     "output_type": "stream",
     "text": [
      "[0 4 8]\n"
     ]
    }
   ],
   "source": [
    "\n",
    "a = np.arange(9).reshape(3,3)\n",
    "diagonal_matrix_value = np.diag(a)\n",
    "print(diagonal_matrix_value)"
   ]
  },
  {
   "cell_type": "code",
   "execution_count": null,
   "id": "048937b5",
   "metadata": {},
   "outputs": [
    {
     "name": "stdout",
     "output_type": "stream",
     "text": [
      "[[1. 0. 0.]\n",
      " [0. 1. 0.]\n",
      " [0. 0. 1.]]\n"
     ]
    }
   ],
   "source": [
    "#3x3 단위행렬 생성 (N=3)\n",
    "eye_matrix = np.eye(3)\n",
    "print(eye_matrix)"
   ]
  },
  {
   "cell_type": "code",
   "execution_count": null,
   "id": "401ae939",
   "metadata": {},
   "outputs": [
    {
     "name": "stdout",
     "output_type": "stream",
     "text": [
      "[[1. 0. 0.]\n",
      " [0. 1. 0.]\n",
      " [0. 0. 1.]\n",
      " [0. 0. 0.]]\n"
     ]
    }
   ],
   "source": [
    "#4x3 직사각형 행렬 생성 (N=4, N=3)\n",
    "rect_eye = np.eye(4,3)\n",
    "print(rect_eye)"
   ]
  },
  {
   "cell_type": "code",
   "execution_count": null,
   "id": "a9ecdefb",
   "metadata": {},
   "outputs": [
    {
     "name": "stdout",
     "output_type": "stream",
     "text": [
      "[[0. 1. 0.]\n",
      " [0. 0. 1.]\n",
      " [0. 0. 0.]]\n"
     ]
    }
   ],
   "source": [
    "#k 매개변수로 대각선 위치 조정 (k=1은 주대각선 위로 한 칸)\n",
    "shifted_eye = np.eye(3, k=1)\n",
    "print(shifted_eye)"
   ]
  },
  {
   "cell_type": "code",
   "execution_count": null,
   "id": "a03f02bf",
   "metadata": {},
   "outputs": [
    {
     "name": "stdout",
     "output_type": "stream",
     "text": [
      "[[1 2 3]\n",
      " [4 5 6]]\n"
     ]
    }
   ],
   "source": [
    "#기존 배열\n",
    "arr = np.array([[1,2,3], [4,5,6]])\n",
    "print(arr)"
   ]
  },
  {
   "cell_type": "code",
   "execution_count": null,
   "id": "adf84315",
   "metadata": {},
   "outputs": [
    {
     "name": "stdout",
     "output_type": "stream",
     "text": [
      "[[4607088852349433592 4603580647756676346 4604846069681397021]\n",
      " [4604385331223076705 4601785198838801132 4594828932592081148]]\n"
     ]
    }
   ],
   "source": [
    "empty_arr = np.empty_like(arr)\n",
    "print(empty_arr)"
   ]
  },
  {
   "cell_type": "code",
   "execution_count": null,
   "id": "5df4cf37",
   "metadata": {},
   "outputs": [
    {
     "name": "stdout",
     "output_type": "stream",
     "text": [
      "[[0 0 0]\n",
      " [0 0 0]]\n"
     ]
    }
   ],
   "source": [
    "#zero_like(): 0으로 채워진 배열 생성\n",
    "zero_arr = np.zeros_like(arr)\n",
    "print(zero_arr)"
   ]
  },
  {
   "cell_type": "code",
   "execution_count": null,
   "id": "0962be47",
   "metadata": {},
   "outputs": [
    {
     "name": "stdout",
     "output_type": "stream",
     "text": [
      "[[1 1 1]\n",
      " [1 1 1]]\n"
     ]
    }
   ],
   "source": [
    "# ones_like(): 지정된 값으로 채워진 배열 생성\n",
    "ones_arr = np.ones_like(arr)\n",
    "print(ones_arr)"
   ]
  },
  {
   "cell_type": "code",
   "execution_count": null,
   "id": "8e21aa17",
   "metadata": {},
   "outputs": [
    {
     "name": "stdout",
     "output_type": "stream",
     "text": [
      "[[5 5 5]\n",
      " [5 5 5]]\n"
     ]
    }
   ],
   "source": [
    "#full like() : 지정된 값으로 채워진 배열 생성\n",
    "full_arr = np.full_like(arr, 5)\n",
    "print(full_arr)"
   ]
  },
  {
   "cell_type": "code",
   "execution_count": null,
   "id": "5aebb885",
   "metadata": {},
   "outputs": [
    {
     "name": "stdout",
     "output_type": "stream",
     "text": [
      "[[0.87714979 0.30311253 0.57075378]\n",
      " [0.82108217 0.05291305 0.76290859]]\n"
     ]
    }
   ],
   "source": [
    "#0과 1사이의 균일 분포 난수\n",
    "random_uniform = np.random.rand(2,3)\n",
    "print(random_uniform)"
   ]
  },
  {
   "cell_type": "code",
   "execution_count": null,
   "id": "43ba0c0f",
   "metadata": {},
   "outputs": [
    {
     "data": {
      "text/plain": [
       "array([[6.36839143, 3.03881459, 6.49328516],\n",
       "       [3.87484627, 5.44284454, 4.94447579]])"
      ]
     },
     "execution_count": 92,
     "metadata": {},
     "output_type": "execute_result"
    }
   ],
   "source": [
    "#3과 7사이의 균일 분포 값\n",
    "np.random.uniform(3,7, size=(2,3))"
   ]
  },
  {
   "cell_type": "code",
   "execution_count": null,
   "id": "b665846c",
   "metadata": {},
   "outputs": [
    {
     "name": "stdout",
     "output_type": "stream",
     "text": [
      "[[ 0.5781979  -0.65435384  1.81966746]\n",
      " [-0.12891892 -1.0854857  -0.79311496]]\n"
     ]
    }
   ],
   "source": [
    "#표준 정규 분포 난수\n",
    "random_normal = np.random.randn(2,3)\n",
    "print(random_normal)"
   ]
  },
  {
   "cell_type": "code",
   "execution_count": null,
   "id": "f605550a",
   "metadata": {},
   "outputs": [
    {
     "name": "stdout",
     "output_type": "stream",
     "text": [
      "[[5 7 4]\n",
      " [1 5 8]]\n"
     ]
    }
   ],
   "source": [
    "#정수 난수 (최소값, 최대값-1, 크기)\n",
    "random_int = np.random.randint(0,10,(2,3))\n",
    "print(random_int)"
   ]
  },
  {
   "cell_type": "code",
   "execution_count": null,
   "id": "edb5c99e",
   "metadata": {},
   "outputs": [
    {
     "name": "stdout",
     "output_type": "stream",
     "text": [
      "[0.37454012 0.95071431 0.73199394]\n"
     ]
    }
   ],
   "source": [
    "#시드 설정 = 재현 가능한 난수 생성\n",
    "np.random.seed(42)\n",
    "random_seeded = np.random.rand(3)\n",
    "print(random_seeded)"
   ]
  },
  {
   "cell_type": "code",
   "execution_count": null,
   "id": "e84796f7",
   "metadata": {},
   "outputs": [
    {
     "data": {
      "text/plain": [
       "[1, 2, 3, 4, 5, 1, 2, 3, 4, 5]"
      ]
     },
     "execution_count": 99,
     "metadata": {},
     "output_type": "execute_result"
    }
   ],
   "source": [
    "list_data = [1,2,3,4,5]\n",
    "list_data + list_data #__add__() append(), extend()"
   ]
  },
  {
   "cell_type": "code",
   "execution_count": null,
   "id": "f3752dc7",
   "metadata": {},
   "outputs": [
    {
     "data": {
      "text/plain": [
       "[1, 2, 3, 4, 5, 1, 2, 3, 4, 5]"
      ]
     },
     "execution_count": 101,
     "metadata": {},
     "output_type": "execute_result"
    }
   ],
   "source": [
    "list_data * 2  #__mul__()"
   ]
  },
  {
   "cell_type": "markdown",
   "id": "2dd0c6a5",
   "metadata": {},
   "source": [
    "## 요소별 연산 > element wise"
   ]
  },
  {
   "cell_type": "code",
   "execution_count": null,
   "id": "3cea9a1a",
   "metadata": {},
   "outputs": [
    {
     "data": {
      "text/plain": [
       "array([ 2,  4,  6,  8, 10])"
      ]
     },
     "execution_count": 104,
     "metadata": {},
     "output_type": "execute_result"
    }
   ],
   "source": [
    "a1 = np.array(list_data)\n",
    "a1*2 #사칙연산 가능 ➡️ 2의 shape이 자동으로[2,2,2,2,2]로 늘어났기 때문"
   ]
  },
  {
   "cell_type": "code",
   "execution_count": null,
   "id": "11fd9eec",
   "metadata": {},
   "outputs": [
    {
     "data": {
      "text/plain": [
       "array([3, 4, 5, 6, 7])"
      ]
     },
     "execution_count": 105,
     "metadata": {},
     "output_type": "execute_result"
    }
   ],
   "source": [
    "a2 = np.array([2,2,2,2,2])\n",
    "a1 + a2"
   ]
  },
  {
   "cell_type": "code",
   "execution_count": null,
   "id": "4beabf5f",
   "metadata": {},
   "outputs": [],
   "source": [
    "a3 = np.array([1,2])\n",
    "\n",
    "# a1 * a3 -> error \n",
    "\n",
    "#행렬의 shape이 같아야 요소별 연산이 가능."
   ]
  },
  {
   "cell_type": "markdown",
   "id": "6daad223",
   "metadata": {},
   "source": [
    "## 브로드캐스팅\n",
    "\n",
    "크기가 다른 배열에서 작은 쪽이 큰 쪽에 맞춰 크기를 확장하는 기능\n",
    "사칙연산에 적용"
   ]
  },
  {
   "cell_type": "code",
   "execution_count": null,
   "id": "a9f5368c",
   "metadata": {},
   "outputs": [
    {
     "data": {
      "text/plain": [
       "(array([[0],\n",
       "        [1],\n",
       "        [2]]),\n",
       " array([0, 1, 2]))"
      ]
     },
     "execution_count": 106,
     "metadata": {},
     "output_type": "execute_result"
    }
   ],
   "source": [
    "a_array = np.arange(3)\n",
    "b_array = np.arange(3)[:, np.newaxis]\n",
    "b_array, a_array"
   ]
  },
  {
   "cell_type": "code",
   "execution_count": null,
   "id": "631a5c55",
   "metadata": {},
   "outputs": [
    {
     "data": {
      "text/plain": [
       "array([[0, 1, 2],\n",
       "       [1, 2, 3],\n",
       "       [2, 3, 4]])"
      ]
     },
     "execution_count": 107,
     "metadata": {},
     "output_type": "execute_result"
    }
   ],
   "source": [
    "a_array + b_array"
   ]
  },
  {
   "cell_type": "code",
   "execution_count": null,
   "id": "b0d8cac8",
   "metadata": {},
   "outputs": [
    {
     "data": {
      "text/plain": [
       "array([[0, 1, 2],\n",
       "       [1, 2, 3],\n",
       "       [2, 3, 4]])"
      ]
     },
     "execution_count": 108,
     "metadata": {},
     "output_type": "execute_result"
    }
   ],
   "source": [
    "b_array + a_array"
   ]
  },
  {
   "cell_type": "code",
   "execution_count": null,
   "id": "5dcc7aac",
   "metadata": {},
   "outputs": [
    {
     "data": {
      "text/plain": [
       "array([[0, 0, 0],\n",
       "       [0, 1, 2],\n",
       "       [0, 2, 4]])"
      ]
     },
     "execution_count": 109,
     "metadata": {},
     "output_type": "execute_result"
    }
   ],
   "source": [
    "b_array * a_array"
   ]
  },
  {
   "cell_type": "code",
   "execution_count": null,
   "id": "51a49ab0",
   "metadata": {},
   "outputs": [
    {
     "data": {
      "text/plain": [
       "array([[ 0, -1, -2],\n",
       "       [ 1,  0, -1],\n",
       "       [ 2,  1,  0]])"
      ]
     },
     "execution_count": 110,
     "metadata": {},
     "output_type": "execute_result"
    }
   ],
   "source": [
    "b_array * a_array"
   ]
  },
  {
   "cell_type": "code",
   "execution_count": null,
   "id": "d3790d1e",
   "metadata": {},
   "outputs": [
    {
     "data": {
      "text/plain": [
       "array([[ 0,  1,  2],\n",
       "       [-1,  0,  1],\n",
       "       [-2, -1,  0]])"
      ]
     },
     "execution_count": 111,
     "metadata": {},
     "output_type": "execute_result"
    }
   ],
   "source": [
    "a_array - b_array"
   ]
  },
  {
   "cell_type": "code",
   "execution_count": null,
   "id": "7bd76a60",
   "metadata": {},
   "outputs": [
    {
     "name": "stdout",
     "output_type": "stream",
     "text": [
      "덧셈 [ 6  8 10 12]\n",
      "뺄셈 [4 4 4 4]\n",
      "곱셈 [ 5 12 21 32]\n",
      "나눗셈 [5.         3.         2.33333333 2.        ]\n",
      "제곱 [ 1  4  9 16]\n",
      "제곱근 [1.         1.41421356 1.73205081 2.        ]\n",
      "지수 [ 2.71828183  7.3890561  20.08553692 54.59815003]\n",
      "로그 [0.         0.69314718 1.09861229 1.38629436]\n"
     ]
    }
   ],
   "source": [
    "# 기본 산술 연산 예제\n",
    "arr1 = np.array([1, 2, 3, 4])\n",
    "arr2 = np.array([5, 6, 7, 8])\n",
    "\n",
    "#덧셈\n",
    "print(\"덧셈\", arr1 + arr2)\n",
    "#뺄셈\n",
    "print(\"뺄셈\", arr2 - arr1)\n",
    "#곱셈\n",
    "print(\"곱셈\", arr1 * arr2)\n",
    "#나눗셈\n",
    "print(\"나눗셈\", arr2 / arr1)\n",
    "#제곱\n",
    "print(\"제곱\", np.square(arr1))\n",
    "#제곱근\n",
    "print(\"제곱근\", np.sqrt(arr1))\n",
    "#지수\n",
    "print(\"지수\", np.exp(arr1))\n",
    "#로그\n",
    "print(\"로그\", np.log(arr1))\n"
   ]
  },
  {
   "cell_type": "code",
   "execution_count": null,
   "id": "d8bd1f16",
   "metadata": {},
   "outputs": [
    {
     "name": "stdout",
     "output_type": "stream",
     "text": [
      "덧셈: \n",
      " [[ 6  8]\n",
      " [10 12]]\n",
      "뺄셈: \n",
      " [[-4 -4]\n",
      " [-4 -4]]\n",
      "곱셈: \n",
      " [[ 5 12]\n",
      " [21 32]]\n",
      "나눗셈: \n",
      " [[0.2        0.33333333]\n",
      " [0.42857143 0.5       ]]\n"
     ]
    }
   ],
   "source": [
    "#shape이 같은 배열 간의 연산\n",
    "a = np.array([[1, 2],[3, 4]])\n",
    "b = np.array([[5, 6], [7, 8]])\n",
    "\n",
    "print(\"덧셈: \\n\", a+b)\n",
    "print(\"뺄셈: \\n\", a-b)\n",
    "print(\"곱셈: \\n\", a*b)\n",
    "print(\"나눗셈: \\n\", a/b)"
   ]
  },
  {
   "cell_type": "code",
   "execution_count": null,
   "id": "161a3326",
   "metadata": {},
   "outputs": [
    {
     "name": "stderr",
     "output_type": "stream",
     "text": [
      "<>:2: SyntaxWarning: list indices must be integers or slices, not tuple; perhaps you missed a comma?\n",
      "<>:2: SyntaxWarning: list indices must be integers or slices, not tuple; perhaps you missed a comma?\n",
      "C:\\Users\\LENOVO\\AppData\\Local\\Temp\\ipykernel_14424\\2816291669.py:2: SyntaxWarning: list indices must be integers or slices, not tuple; perhaps you missed a comma?\n",
      "  c = np.array([[1,2,3][4,5,6]])\n",
      "C:\\Users\\LENOVO\\AppData\\Local\\Temp\\ipykernel_14424\\2816291669.py:2: SyntaxWarning: list indices must be integers or slices, not tuple; perhaps you missed a comma?\n",
      "  c = np.array([[1,2,3][4,5,6]])\n",
      "C:\\Users\\LENOVO\\AppData\\Local\\Temp\\ipykernel_14424\\2816291669.py:2: SyntaxWarning: list indices must be integers or slices, not tuple; perhaps you missed a comma?\n",
      "  c = np.array([[1,2,3][4,5,6]])\n",
      "C:\\Users\\LENOVO\\AppData\\Local\\Temp\\ipykernel_14424\\2816291669.py:2: SyntaxWarning: list indices must be integers or slices, not tuple; perhaps you missed a comma?\n",
      "  c = np.array([[1,2,3][4,5,6]])\n",
      "C:\\Users\\LENOVO\\AppData\\Local\\Temp\\ipykernel_14424\\2816291669.py:2: SyntaxWarning: list indices must be integers or slices, not tuple; perhaps you missed a comma?\n",
      "  c = np.array([[1,2,3][4,5,6]])\n"
     ]
    },
    {
     "ename": "TypeError",
     "evalue": "list indices must be integers or slices, not tuple",
     "output_type": "error",
     "traceback": [
      "\u001b[31m---------------------------------------------------------------------------\u001b[39m",
      "\u001b[31mTypeError\u001b[39m                                 Traceback (most recent call last)",
      "\u001b[36mCell\u001b[39m\u001b[36m \u001b[39m\u001b[32mIn[118]\u001b[39m\u001b[32m, line 2\u001b[39m\n\u001b[32m      1\u001b[39m \u001b[38;5;66;03m#shape이 다른 경우 오류 발생\u001b[39;00m\n\u001b[32m----> \u001b[39m\u001b[32m2\u001b[39m c = np.array([[\u001b[32m1\u001b[39m,\u001b[32m2\u001b[39m,\u001b[32m3\u001b[39m][\u001b[32m4\u001b[39m,\u001b[32m5\u001b[39m,\u001b[32m6\u001b[39m]])\n\u001b[32m      3\u001b[39m d = np.array([[\u001b[32m1\u001b[39m,\u001b[32m2\u001b[39m],[\u001b[32m3\u001b[39m,\u001b[32m4\u001b[39m]])\n\u001b[32m      5\u001b[39m \u001b[38;5;28mprint\u001b[39m(c+d)\n",
      "\u001b[31mTypeError\u001b[39m: list indices must be integers or slices, not tuple"
     ]
    }
   ],
   "source": [
    "#shape이 다른 경우 오류 발생\n",
    "c = np.array([[1,2,3][4,5,6]])\n",
    "d = np.array([[1,2],[3,4]])\n",
    "\n",
    "print(c+d) # print(c + d)  # ValueError: operands could not be broadcast together"
   ]
  },
  {
   "cell_type": "code",
   "execution_count": null,
   "id": "6190001a",
   "metadata": {},
   "outputs": [
    {
     "name": "stdout",
     "output_type": "stream",
     "text": [
      "같음: [ True False  True False  True]\n",
      "더 큼: [False False False  True False]\n",
      "더 작음: [False  True False False False]\n"
     ]
    }
   ],
   "source": [
    "#비교 연산 예제\n",
    "arr1 = np.array([1,2,3,4,5])\n",
    "arr2 = np.array([1,3,3,0,5])\n",
    "\n",
    "print(\"같음:\", arr1 == arr2)\n",
    "print(\"더 큼:\", arr1 > arr2)\n",
    "print(\"더 작음:\", arr1 < arr2)\n"
   ]
  },
  {
   "cell_type": "code",
   "execution_count": null,
   "id": "4a32551f",
   "metadata": {},
   "outputs": [
    {
     "name": "stdout",
     "output_type": "stream",
     "text": [
      "복합 조건: [False False  True  True False]\n"
     ]
    }
   ],
   "source": [
    "mask = (arr1 >= 3) & (arr2 <= 4)\n",
    "print(\"복합 조건:\", mask)"
   ]
  },
  {
   "cell_type": "code",
   "execution_count": null,
   "id": "6abe3bcf",
   "metadata": {},
   "outputs": [
    {
     "name": "stdout",
     "output_type": "stream",
     "text": [
      "3보다 큰 값: [4 5]\n"
     ]
    }
   ],
   "source": [
    "#비교 결과를 이용한 필터링\n",
    "filtered = arr1[arr1 > 3]\n",
    "print(\"3보다 큰 값:\", filtered)\n"
   ]
  },
  {
   "cell_type": "code",
   "execution_count": null,
   "id": "eb0694ae",
   "metadata": {},
   "outputs": [
    {
     "name": "stdout",
     "output_type": "stream",
     "text": [
      "요소별 덧셈: [5 7 9]\n",
      "요소별 곱셈 [ 4 10 18]\n",
      "요소별 제곱: [1 4 9]\n",
      "요소별 제곱근 [1.         1.41421356 1.73205081]\n"
     ]
    }
   ],
   "source": [
    "#요소별 연산 예제\n",
    "a = np.array([1,2,3])\n",
    "b = np.array([4,5,6])\n",
    "\n",
    "print(\"요소별 덧셈:\", a + b)\n",
    "print(\"요소별 곱셈\", a * b)\n",
    "print(\"요소별 제곱:\", np.square(a))\n",
    "print(\"요소별 제곱근\", np.sqrt(a))"
   ]
  },
  {
   "cell_type": "code",
   "execution_count": null,
   "id": "73641d99",
   "metadata": {},
   "outputs": [
    {
     "name": "stdout",
     "output_type": "stream",
     "text": [
      "배열 * 스칼라:\n",
      "[[ 2  4  6]\n",
      " [ 8 10 12]]\n"
     ]
    }
   ],
   "source": [
    "#브로캐스팅 예제\n",
    "arr = np.array([[1,2,3],[4,5,6]])\n",
    "scalar = 2\n",
    "\n",
    "#배열과 스칼라의 연산\n",
    "print(\"배열 * 스칼라:\")\n",
    "print(arr * scalar)"
   ]
  },
  {
   "cell_type": "code",
   "execution_count": null,
   "id": "3b7135ac",
   "metadata": {},
   "outputs": [
    {
     "name": "stdout",
     "output_type": "stream",
     "text": [
      "\n",
      "2차원 배열 + 1차원 배열:\n",
      "[[2 2 4]\n",
      " [5 5 7]]\n"
     ]
    }
   ],
   "source": [
    "#1차원 배열과 2차원 배열의 연산\n",
    "row = np.array([1,0,1])\n",
    "print(\"\\n2차원 배열 + 1차원 배열:\")\n",
    "print(arr + row)"
   ]
  },
  {
   "cell_type": "code",
   "execution_count": null,
   "id": "50e02814",
   "metadata": {},
   "outputs": [],
   "source": [
    "# 1차원 배열과 2차원 배열의 연산\n",
    "row = np.array"
   ]
  },
  {
   "cell_type": "markdown",
   "id": "fe69c105",
   "metadata": {},
   "source": [
    "## 배열의 결합, 연결\n",
    "concatenate(), vstack(), hstack()"
   ]
  },
  {
   "cell_type": "code",
   "execution_count": null,
   "id": "ddbdc378",
   "metadata": {},
   "outputs": [
    {
     "data": {
      "text/plain": [
       "array([1, 2, 3, 4, 5, 6, 7])"
      ]
     },
     "execution_count": 129,
     "metadata": {},
     "output_type": "execute_result"
    }
   ],
   "source": [
    "v1 = np.array([1,2,3])\n",
    "v2 = np.array([4,5,6,7])\n",
    "np.concatenate([v1,v2])"
   ]
  },
  {
   "cell_type": "code",
   "execution_count": null,
   "id": "ec2f3f6c",
   "metadata": {},
   "outputs": [
    {
     "data": {
      "text/plain": [
       "array([1, 2, 3, 4, 5, 6, 7])"
      ]
     },
     "execution_count": 130,
     "metadata": {},
     "output_type": "execute_result"
    }
   ],
   "source": [
    "np.concatenate([v1,v2], axis=0)"
   ]
  },
  {
   "cell_type": "code",
   "execution_count": null,
   "id": "8ed9988c",
   "metadata": {},
   "outputs": [
    {
     "data": {
      "text/plain": [
       "array([[1, 2, 3, 1, 2, 3],\n",
       "       [1, 2, 3, 1, 2, 3]])"
      ]
     },
     "execution_count": 131,
     "metadata": {},
     "output_type": "execute_result"
    }
   ],
   "source": [
    "grid = np.array([[1,2,3],[1,2,3]])\n",
    "np.concatenate([grid,grid], axis=1)"
   ]
  },
  {
   "cell_type": "code",
   "execution_count": null,
   "id": "f5ab7796",
   "metadata": {},
   "outputs": [
    {
     "data": {
      "text/plain": [
       "array([[1, 2, 3],\n",
       "       [1, 2, 3],\n",
       "       [1, 2, 3],\n",
       "       [1, 2, 3]])"
      ]
     },
     "execution_count": 132,
     "metadata": {},
     "output_type": "execute_result"
    }
   ],
   "source": [
    "grid = np.array([[1,2,3],[1,2,3]])\n",
    "np.concatenate([grid,grid], axis=0)"
   ]
  },
  {
   "cell_type": "code",
   "execution_count": null,
   "id": "295f6504",
   "metadata": {},
   "outputs": [
    {
     "data": {
      "text/plain": [
       "array([[1, 2, 3],\n",
       "       [1, 2, 3]])"
      ]
     },
     "execution_count": 133,
     "metadata": {},
     "output_type": "execute_result"
    }
   ],
   "source": [
    "np.vstack([v1, v1])"
   ]
  },
  {
   "cell_type": "code",
   "execution_count": null,
   "id": "29ce82ee",
   "metadata": {},
   "outputs": [
    {
     "data": {
      "text/plain": [
       "array([4, 5, 6, 7, 4, 5, 6, 7])"
      ]
     },
     "execution_count": 134,
     "metadata": {},
     "output_type": "execute_result"
    }
   ],
   "source": [
    "np.hstack([v2,v2])"
   ]
  },
  {
   "cell_type": "code",
   "execution_count": null,
   "id": "0996fbee",
   "metadata": {},
   "outputs": [],
   "source": [
    "#2차원 배열 예제\n",
    "arr_2d = np.array([[1,2,3],[4,5,6]])"
   ]
  },
  {
   "cell_type": "code",
   "execution_count": null,
   "id": "c1a37d20",
   "metadata": {},
   "outputs": [
    {
     "name": "stdout",
     "output_type": "stream",
     "text": [
      "[5 7 9]\n",
      "[ 6 15]\n"
     ]
    }
   ],
   "source": [
    "#axis = 0 방향 합계 (열 방향 합)\n",
    "sum_axis0 = np.sum(arr_2d, axis=0)\n",
    "sum_axis1 = np.sum(arr_2d, axis=1)\n",
    "print(sum_axis0)\n",
    "print(sum_axis1)"
   ]
  },
  {
   "cell_type": "markdown",
   "id": "0e4f7e3d",
   "metadata": {},
   "source": [
    "## 배열의 인덱싱\n",
    "\n",
    "배열[행인덱스, 열인덱스]"
   ]
  },
  {
   "cell_type": "code",
   "execution_count": null,
   "id": "eeaf30bc",
   "metadata": {},
   "outputs": [
    {
     "data": {
      "text/plain": [
       "(np.int64(1), np.int64(5))"
      ]
     },
     "execution_count": 137,
     "metadata": {},
     "output_type": "execute_result"
    }
   ],
   "source": [
    "arr = np.array([1,2,3,4,5])\n",
    "arr[0], arr[-1]"
   ]
  },
  {
   "cell_type": "code",
   "execution_count": null,
   "id": "1c50c5b2",
   "metadata": {},
   "outputs": [
    {
     "data": {
      "text/plain": [
       "(np.int64(2), np.int64(3))"
      ]
     },
     "execution_count": 138,
     "metadata": {},
     "output_type": "execute_result"
    }
   ],
   "source": [
    "arr_2d[0,1], arr_2d[0,-1]"
   ]
  },
  {
   "cell_type": "code",
   "execution_count": null,
   "id": "7cf1dcf7",
   "metadata": {},
   "outputs": [
    {
     "data": {
      "text/plain": [
       "array([[1, 2, 3],\n",
       "       [4, 5, 6]])"
      ]
     },
     "execution_count": 139,
     "metadata": {},
     "output_type": "execute_result"
    }
   ],
   "source": [
    "arr_2d"
   ]
  },
  {
   "cell_type": "code",
   "execution_count": null,
   "id": "c6b7f3d3",
   "metadata": {},
   "outputs": [
    {
     "data": {
      "text/plain": [
       "np.int64(5)"
      ]
     },
     "execution_count": 140,
     "metadata": {},
     "output_type": "execute_result"
    }
   ],
   "source": [
    "arr_2d[1,1]"
   ]
  },
  {
   "cell_type": "code",
   "execution_count": null,
   "id": "18cffee6",
   "metadata": {},
   "outputs": [
    {
     "data": {
      "text/plain": [
       "array([[ 1,  2,  3],\n",
       "       [ 4, 10,  6]])"
      ]
     },
     "execution_count": 141,
     "metadata": {},
     "output_type": "execute_result"
    }
   ],
   "source": [
    "arr_2d[1,1] = 10\n",
    "arr_2d"
   ]
  },
  {
   "cell_type": "markdown",
   "id": "7adc0d08",
   "metadata": {},
   "source": [
    "## 슬라이싱\n",
    "- [:] 전체\n",
    "- [0:n] 0~n-1까지\n",
    "- [:5] 0~4까지 \n",
    "\n",
    "리스트와 차이점\n",
    "- 리스트 : 복사본을 리턴\n",
    "- 배열 : 원본 배열의 뷰 ➡️ 복사❌, 원본에도 영향을 미친다\n",
    "- 슬라이싱.copy()\n",
    "\n"
   ]
  },
  {
   "cell_type": "code",
   "execution_count": null,
   "id": "b2958ebe",
   "metadata": {},
   "outputs": [
    {
     "data": {
      "text/plain": [
       "array([0, 1, 2, 3, 4, 5, 6, 7, 8, 9])"
      ]
     },
     "execution_count": 143,
     "metadata": {},
     "output_type": "execute_result"
    }
   ],
   "source": [
    "x = np.arange(10)\n",
    "x"
   ]
  },
  {
   "cell_type": "code",
   "execution_count": null,
   "id": "f4dbfb06",
   "metadata": {},
   "outputs": [
    {
     "data": {
      "text/plain": [
       "array([0, 1, 2, 3, 4])"
      ]
     },
     "execution_count": 144,
     "metadata": {},
     "output_type": "execute_result"
    }
   ],
   "source": [
    "x[:5]"
   ]
  },
  {
   "cell_type": "code",
   "execution_count": null,
   "id": "70f87a11",
   "metadata": {},
   "outputs": [
    {
     "data": {
      "text/plain": [
       "array([4, 5, 6])"
      ]
     },
     "execution_count": 145,
     "metadata": {},
     "output_type": "execute_result"
    }
   ],
   "source": [
    "x[4:7]"
   ]
  },
  {
   "cell_type": "code",
   "execution_count": null,
   "id": "73d5a7b2",
   "metadata": {},
   "outputs": [
    {
     "data": {
      "text/plain": [
       "array([4, 5, 6])"
      ]
     },
     "execution_count": 147,
     "metadata": {},
     "output_type": "execute_result"
    }
   ],
   "source": [
    "new_x = x[4:7]\n",
    "new_x"
   ]
  },
  {
   "cell_type": "code",
   "execution_count": null,
   "id": "43f2a897",
   "metadata": {},
   "outputs": [
    {
     "data": {
      "text/plain": [
       "(array([100,   5,   6]),\n",
       " array([  0,   1,   2,   3, 100,   5,   6,   7,   8,   9]))"
      ]
     },
     "execution_count": 148,
     "metadata": {},
     "output_type": "execute_result"
    }
   ],
   "source": [
    "new_x[0] = 100\n",
    "new_x, x #view, 뷰의 값 변경 ➡️ 원본의 값도 변경"
   ]
  },
  {
   "cell_type": "code",
   "execution_count": null,
   "id": "34421eb3",
   "metadata": {},
   "outputs": [
    {
     "data": {
      "text/plain": [
       "(array([200,   5,   6]),\n",
       " array([  0,   1,   2,   3, 100,   5,   6,   7,   8,   9]))"
      ]
     },
     "execution_count": 150,
     "metadata": {},
     "output_type": "execute_result"
    }
   ],
   "source": [
    "new_x1 = x[4:7].copy()\n",
    "new_x1[0] = 200\n",
    "new_x1, x"
   ]
  },
  {
   "cell_type": "code",
   "execution_count": null,
   "id": "6b49cf3c",
   "metadata": {},
   "outputs": [
    {
     "name": "stdout",
     "output_type": "stream",
     "text": [
      "[2 3 4]\n",
      "[0 2 4]\n"
     ]
    }
   ],
   "source": [
    "#1차원 배열 슬라이싱\n",
    "arr = np.array([0,1,2,3,4,5])\n",
    "print(arr[2:5])\n",
    "print(arr[::2])"
   ]
  },
  {
   "cell_type": "code",
   "execution_count": null,
   "id": "8b4eb307",
   "metadata": {},
   "outputs": [
    {
     "name": "stdout",
     "output_type": "stream",
     "text": [
      "[[2 3]\n",
      " [6 7]]\n"
     ]
    }
   ],
   "source": [
    "#2차원 배열 슬라이싱\n",
    "arr_2d = np.array([[1,2,3,4],\n",
    "                  [5,6,7,8],\n",
    "                  [9,10,11,12]])\n",
    "\n",
    "print(arr_2d[:2, 1:3])"
   ]
  },
  {
   "cell_type": "code",
   "execution_count": 8,
   "id": "5f1e92e1",
   "metadata": {},
   "outputs": [
    {
     "name": "stdout",
     "output_type": "stream",
     "text": [
      "원본 4x4 배열:\n",
      "[[ 0  1  2  3]\n",
      " [ 4  5  6  7]\n",
      " [ 8  9 10 11]\n",
      " [12 13 14 15]]\n",
      "------------------------------\n"
     ]
    }
   ],
   "source": [
    "arr_2d = np.arange(16).reshape((4, 4))\n",
    "\n",
    "print(\"원본 4x4 배열:\")\n",
    "print(arr_2d)\n",
    "print(\"-\" * 30)"
   ]
  },
  {
   "cell_type": "code",
   "execution_count": 9,
   "id": "0ecda88c",
   "metadata": {},
   "outputs": [
    {
     "name": "stdout",
     "output_type": "stream",
     "text": [
      "[0 1 2 3]\n"
     ]
    }
   ],
   "source": [
    "\n",
    "# 첫 번째 행 전체\n",
    "print(arr_2d[0,])"
   ]
  },
  {
   "cell_type": "code",
   "execution_count": 10,
   "id": "2d837806",
   "metadata": {},
   "outputs": [
    {
     "name": "stdout",
     "output_type": "stream",
     "text": [
      "[ 3  7 11 15]\n"
     ]
    }
   ],
   "source": [
    "\n",
    "#마지막 열 전체\n",
    "print(arr_2d[:, -1])"
   ]
  },
  {
   "cell_type": "code",
   "execution_count": 16,
   "id": "6625fa5e",
   "metadata": {},
   "outputs": [
    {
     "data": {
      "text/plain": [
       "array([[ 0,  3],\n",
       "       [12, 15]])"
      ]
     },
     "execution_count": 16,
     "metadata": {},
     "output_type": "execute_result"
    }
   ],
   "source": [
    "#첫 번째 행과 마지막 행만 선택, 각 행의 첫번째, 마지막 열 선택\n",
    "arr_2d[[0,3]] [:,[0,3]]"
   ]
  },
  {
   "cell_type": "code",
   "execution_count": 22,
   "id": "13a38135",
   "metadata": {},
   "outputs": [
    {
     "data": {
      "text/plain": [
       "array([[ 1,  3],\n",
       "       [ 9, 11]])"
      ]
     },
     "execution_count": 22,
     "metadata": {},
     "output_type": "execute_result"
    }
   ],
   "source": [
    "# 짝수 인덱스 행(0번째, 2번째 행), 홀수 인덱스 열 선택\n",
    "# 연속 인덱싱 ➡️ 겹치는 부분 ➡️ 교차인덱싱\n",
    "arr_2d[::2, 1::2]"
   ]
  },
  {
   "cell_type": "code",
   "execution_count": 24,
   "id": "ba0f4de0",
   "metadata": {},
   "outputs": [
    {
     "name": "stdout",
     "output_type": "stream",
     "text": [
      "원본 6x6 배열:\n",
      "[[ 0  1  2  3  4  5]\n",
      " [ 6  7  8  9 10 11]\n",
      " [12 13 14 15 16 17]\n",
      " [18 19 20 21 22 23]\n",
      " [24 25 26 27 28 29]\n",
      " [30 31 32 33 34 35]]\n",
      "------------------------------\n"
     ]
    }
   ],
   "source": [
    "#위의 3차원 행렬을 작성하세요\n",
    "\n",
    "\n",
    "\n",
    "\n",
    "arr_3d = np.arange(36).reshape((6,6))\n",
    "\n",
    "print(\"원본 6x6 배열:\")\n",
    "print(arr_3d)\n",
    "print(\"-\" * 30)"
   ]
  },
  {
   "cell_type": "code",
   "execution_count": 26,
   "id": "4e00d362",
   "metadata": {},
   "outputs": [
    {
     "data": {
      "text/plain": [
       "(4, 6, 6)"
      ]
     },
     "execution_count": 26,
     "metadata": {},
     "output_type": "execute_result"
    }
   ],
   "source": [
    "arr_3d_new = np.stack([arr_3d, arr_3d, arr_3d, arr_3d])\n",
    "arr_3d_new.shape"
   ]
  },
  {
   "cell_type": "code",
   "execution_count": 28,
   "id": "0ccac9dd",
   "metadata": {},
   "outputs": [
    {
     "data": {
      "text/plain": [
       "array([[[ 0,  1,  2,  3,  4,  5],\n",
       "        [ 6,  7,  8,  9, 10, 11],\n",
       "        [12, 13, 14, 15, 16, 17],\n",
       "        [18, 19, 20, 21, 22, 23],\n",
       "        [24, 25, 26, 27, 28, 29],\n",
       "        [30, 31, 32, 33, 34, 35]],\n",
       "\n",
       "       [[ 1,  1,  2,  3,  4,  5],\n",
       "        [ 6,  7,  8,  9, 10, 11],\n",
       "        [12, 13, 14, 15, 16, 17],\n",
       "        [18, 19, 20, 21, 22, 23],\n",
       "        [24, 25, 26, 27, 28, 29],\n",
       "        [30, 31, 32, 33, 34, 35]],\n",
       "\n",
       "       [[ 2,  1,  2,  3,  4,  5],\n",
       "        [ 6,  7,  8,  9, 10, 11],\n",
       "        [12, 13, 14, 15, 16, 17],\n",
       "        [18, 19, 20, 21, 22, 23],\n",
       "        [24, 25, 26, 27, 28, 29],\n",
       "        [30, 31, 32, 33, 34, 35]],\n",
       "\n",
       "       [[ 3,  1,  2,  3,  4,  5],\n",
       "        [ 6,  7,  8,  9, 10, 11],\n",
       "        [12, 13, 14, 15, 16, 17],\n",
       "        [18, 19, 20, 21, 22, 23],\n",
       "        [24, 25, 26, 27, 28, 29],\n",
       "        [30, 31, 32, 33, 34, 35]]])"
      ]
     },
     "execution_count": 28,
     "metadata": {},
     "output_type": "execute_result"
    }
   ],
   "source": [
    "#각 층의 (0,0)위치의 값을 각 층의 인덱스로 설정\n",
    "\n",
    "for d_idx in range(4):\n",
    "    arr_3d_new[d_idx, 0,0] = d_idx\n",
    "arr_3d_new"
   ]
  },
  {
   "cell_type": "code",
   "execution_count": 29,
   "id": "28cf46b0",
   "metadata": {},
   "outputs": [
    {
     "name": "stdout",
     "output_type": "stream",
     "text": [
      "[[ 1  1  2  3  4  5]\n",
      " [ 6  7  8  9 10 11]\n",
      " [12 13 14 15 16 17]\n",
      " [18 19 20 21 22 23]\n",
      " [24 25 26 27 28 29]\n",
      " [30 31 32 33 34 35]]\n"
     ]
    }
   ],
   "source": [
    "\n",
    "# 2번째 층(깊이, 면) 선택\n",
    "#arr_3d = np.arange(144).reshape((4, 6, 6))  # 3차원 배열\n",
    "print(arr_3d_new[1, :, :])  # 2번째 층 출력"
   ]
  },
  {
   "cell_type": "code",
   "execution_count": 31,
   "id": "0f129024",
   "metadata": {},
   "outputs": [
    {
     "data": {
      "text/plain": [
       "array([19, 19, 19, 19])"
      ]
     },
     "execution_count": 31,
     "metadata": {},
     "output_type": "execute_result"
    }
   ],
   "source": [
    "#네번째행, 두번째 열 원소 선택, 1차원 배열로 작성\n",
    "\n",
    "arr_3d_new[:,3,1]\n"
   ]
  },
  {
   "cell_type": "code",
   "execution_count": 32,
   "id": "cba5da8e",
   "metadata": {},
   "outputs": [
    {
     "data": {
      "text/plain": [
       "array([[[28, 29],\n",
       "        [34, 35]],\n",
       "\n",
       "       [[28, 29],\n",
       "        [34, 35]]])"
      ]
     },
     "execution_count": 32,
     "metadata": {},
     "output_type": "execute_result"
    }
   ],
   "source": [
    "#배열의 첫 두 층, 마지막 두 행, 마지막 두 열 선택\n",
    "\n",
    "arr_3d_new[:2, -2:, -2: ]"
   ]
  },
  {
   "cell_type": "code",
   "execution_count": 34,
   "id": "76b30186",
   "metadata": {},
   "outputs": [
    {
     "data": {
      "text/plain": [
       "array([[ 2,  8, 14, 20, 26, 32],\n",
       "       [ 2,  8, 14, 20, 26, 32]])"
      ]
     },
     "execution_count": 34,
     "metadata": {},
     "output_type": "execute_result"
    }
   ],
   "source": [
    "\n",
    "#짝수 인덱스층, 모든행의 세번째열 선택\n",
    "arr_3d_new[::2, :, 2]"
   ]
  },
  {
   "cell_type": "code",
   "execution_count": 37,
   "id": "5a4205ca",
   "metadata": {},
   "outputs": [
    {
     "data": {
      "text/plain": [
       "array([[ 7,  9, 11],\n",
       "       [13, 15, 17],\n",
       "       [19, 21, 23]])"
      ]
     },
     "execution_count": 37,
     "metadata": {},
     "output_type": "execute_result"
    }
   ],
   "source": [
    "#세번째 층, 두번째 행에서 네번째 행, 홀수 인덱스 열\n",
    "arr_3d_new[2, 1:4, 1::2]"
   ]
  },
  {
   "cell_type": "markdown",
   "id": "8b8eef44",
   "metadata": {},
   "source": [
    "# 인덱싱 기법\n",
    "\n",
    "- **기본 인덱싱**\n",
    "\n",
    "- **불리언 인덱싱**\n",
    "1) 불리언 인덱싱   \n",
    "2) 비교연산자, 논리연산자를 이용하 마스크 행렬을 생성   \n",
    "3) 마스크 행렬을 이용한 인덱싱   \n",
    "\n",
    "- **팬시 인덱싱**\n"
   ]
  },
  {
   "cell_type": "code",
   "execution_count": null,
   "id": "9592192c",
   "metadata": {},
   "outputs": [
    {
     "data": {
      "text/plain": [
       "array([ True,  True, False, False, False])"
      ]
     },
     "execution_count": 38,
     "metadata": {},
     "output_type": "execute_result"
    }
   ],
   "source": [
    "#bool 행렬\n",
    "x = np.array([1,2,3,4,5])\n",
    "x < 3"
   ]
  },
  {
   "cell_type": "code",
   "execution_count": 39,
   "id": "f5cbf222",
   "metadata": {},
   "outputs": [
    {
     "data": {
      "text/plain": [
       "array([ True,  True, False, False, False])"
      ]
     },
     "execution_count": 39,
     "metadata": {},
     "output_type": "execute_result"
    }
   ],
   "source": [
    "np.less(x,3)"
   ]
  },
  {
   "cell_type": "code",
   "execution_count": 41,
   "id": "cb2611ae",
   "metadata": {},
   "outputs": [
    {
     "data": {
      "text/plain": [
       "array([[False, False, False],\n",
       "       [False, False,  True]])"
      ]
     },
     "execution_count": 41,
     "metadata": {},
     "output_type": "execute_result"
    }
   ],
   "source": [
    "x1 = np.array([[1,2,3],\n",
    "          [4,5,6]])\n",
    "x1.shape\n",
    "x1 > 5"
   ]
  },
  {
   "cell_type": "code",
   "execution_count": 42,
   "id": "64d2a829",
   "metadata": {},
   "outputs": [
    {
     "data": {
      "text/plain": [
       "array([[False, False, False, False],\n",
       "       [False, False,  True,  True],\n",
       "       [ True,  True,  True,  True],\n",
       "       [ True,  True,  True,  True],\n",
       "       [ True,  True,  True,  True],\n",
       "       [ True,  True,  True,  True],\n",
       "       [ True,  True,  True,  True]])"
      ]
     },
     "execution_count": 42,
     "metadata": {},
     "output_type": "execute_result"
    }
   ],
   "source": [
    "data = np.arange(28).reshape(7,4)\n",
    "data > 5"
   ]
  },
  {
   "cell_type": "code",
   "execution_count": null,
   "id": "0d9dab56",
   "metadata": {},
   "outputs": [
    {
     "data": {
      "text/plain": [
       "array([ 6,  7,  8,  9, 10, 11, 12, 13, 14, 15, 16, 17, 18, 19, 20, 21, 22,\n",
       "       23, 24, 25, 26, 27])"
      ]
     },
     "execution_count": 43,
     "metadata": {},
     "output_type": "execute_result"
    }
   ],
   "source": [
    "# 조건에 맞는 값 추출 > 1차원\n",
    "data[data > 5]"
   ]
  },
  {
   "cell_type": "code",
   "execution_count": 47,
   "id": "9eaf2d93",
   "metadata": {},
   "outputs": [
    {
     "data": {
      "text/plain": [
       "array(['Bob', 'Joe', 'Will', 'Bob', 'Will', 'Joe', 'Joe'], dtype='<U4')"
      ]
     },
     "execution_count": 47,
     "metadata": {},
     "output_type": "execute_result"
    }
   ],
   "source": [
    "name = np.array(['Bob', 'Joe', 'Will', 'Bob', 'Will', 'Joe', 'Joe'])\n",
    "name"
   ]
  },
  {
   "cell_type": "code",
   "execution_count": 48,
   "id": "7973c1a2",
   "metadata": {},
   "outputs": [
    {
     "data": {
      "text/plain": [
       "array([ True, False, False,  True, False, False, False])"
      ]
     },
     "execution_count": 48,
     "metadata": {},
     "output_type": "execute_result"
    }
   ],
   "source": [
    "name == 'Bob'"
   ]
  },
  {
   "cell_type": "code",
   "execution_count": 50,
   "id": "1af494ad",
   "metadata": {},
   "outputs": [
    {
     "data": {
      "text/plain": [
       "array([[ 0,  1,  2,  3],\n",
       "       [ 4,  5,  6,  7],\n",
       "       [ 8,  9, 10, 11],\n",
       "       [12, 13, 14, 15],\n",
       "       [16, 17, 18, 19],\n",
       "       [20, 21, 22, 23],\n",
       "       [24, 25, 26, 27]])"
      ]
     },
     "execution_count": 50,
     "metadata": {},
     "output_type": "execute_result"
    }
   ],
   "source": [
    "data"
   ]
  },
  {
   "cell_type": "code",
   "execution_count": null,
   "id": "7a4f8d63",
   "metadata": {},
   "outputs": [
    {
     "data": {
      "text/plain": [
       "array([[ 0,  1,  2,  3],\n",
       "       [12, 13, 14, 15]])"
      ]
     },
     "execution_count": 51,
     "metadata": {},
     "output_type": "execute_result"
    }
   ],
   "source": [
    "data[name=='Bob'] #bool indexing"
   ]
  },
  {
   "cell_type": "markdown",
   "id": "0d16a564",
   "metadata": {},
   "source": [
    "# 조건식의 규칙\n",
    "\n",
    "- 조건식으로 사용할 행렬의 값이 문자여도 결과만 True / False 식으로 나오면 필터가 된다.   \n",
    "- 필터로 사용할 행렬의 개수 == 원본 데이터 개수 : \"짝이 맞아야 한다\"    \n",
    "※짝이 맞지 않으면 *IndexError*가 난다.   \n",
    "- 행렬[조건식, ]  ⭕ 열은 생략할 수 있다   \n",
    "- 행렬 [, 조건식] ❌ 행은 생략할 수 없다   \n",
    "- 괄호()로 우선순위를 지정할 수 있다   \n",
    "- 복합조건: 논리함수 and, or ➡️ &, | 로 표현한다   \n",
    "- 부정연산자: != , ~ 사용 가능"
   ]
  },
  {
   "cell_type": "code",
   "execution_count": null,
   "id": "f02f2423",
   "metadata": {},
   "outputs": [
    {
     "ename": "IndexError",
     "evalue": "boolean index did not match indexed array along axis 0; size of axis is 7 but size of corresponding boolean axis is 3",
     "output_type": "error",
     "traceback": [
      "\u001b[31m---------------------------------------------------------------------------\u001b[39m",
      "\u001b[31mIndexError\u001b[39m                                Traceback (most recent call last)",
      "\u001b[36mCell\u001b[39m\u001b[36m \u001b[39m\u001b[32mIn[52]\u001b[39m\u001b[32m, line 3\u001b[39m\n\u001b[32m      1\u001b[39m name\n\u001b[32m      2\u001b[39m name1 = np.array([\u001b[33m'\u001b[39m\u001b[33mBob\u001b[39m\u001b[33m'\u001b[39m, \u001b[33m'\u001b[39m\u001b[33mJoe\u001b[39m\u001b[33m'\u001b[39m, \u001b[33m'\u001b[39m\u001b[33mWill\u001b[39m\u001b[33m'\u001b[39m])\n\u001b[32m----> \u001b[39m\u001b[32m3\u001b[39m data[name1 == \u001b[33m'\u001b[39m\u001b[33mBob\u001b[39m\u001b[33m'\u001b[39m]\n",
      "\u001b[31mIndexError\u001b[39m: boolean index did not match indexed array along axis 0; size of axis is 7 but size of corresponding boolean axis is 3"
     ]
    }
   ],
   "source": [
    "name\n",
    "name1 = np.array(['Bob', 'Joe', 'Will'])\n",
    "data[name1 == 'Bob'] #2nd array index[r,c]"
   ]
  },
  {
   "cell_type": "code",
   "execution_count": 53,
   "id": "f88661bb",
   "metadata": {},
   "outputs": [
    {
     "data": {
      "text/plain": [
       "array([[ 0,  1,  2,  3],\n",
       "       [12, 13, 14, 15]])"
      ]
     },
     "execution_count": 53,
     "metadata": {},
     "output_type": "execute_result"
    }
   ],
   "source": [
    "data[name=='Bob']"
   ]
  },
  {
   "cell_type": "code",
   "execution_count": 54,
   "id": "d43ce2d9",
   "metadata": {},
   "outputs": [
    {
     "data": {
      "text/plain": [
       "array([[ 0,  1,  2,  3],\n",
       "       [12, 13, 14, 15]])"
      ]
     },
     "execution_count": 54,
     "metadata": {},
     "output_type": "execute_result"
    }
   ],
   "source": [
    "data[name == 'Bob', :]"
   ]
  },
  {
   "cell_type": "code",
   "execution_count": 55,
   "id": "1c5a281d",
   "metadata": {},
   "outputs": [
    {
     "data": {
      "text/plain": [
       "array([ 1, 13])"
      ]
     },
     "execution_count": 55,
     "metadata": {},
     "output_type": "execute_result"
    }
   ],
   "source": [
    "data[name == 'Bob', 1]"
   ]
  },
  {
   "cell_type": "code",
   "execution_count": null,
   "id": "11026c82",
   "metadata": {},
   "outputs": [
    {
     "ename": "SyntaxError",
     "evalue": "invalid syntax (2554193265.py, line 1)",
     "output_type": "error",
     "traceback": [
      "  \u001b[36mCell\u001b[39m\u001b[36m \u001b[39m\u001b[32mIn[56]\u001b[39m\u001b[32m, line 1\u001b[39m\n\u001b[31m    \u001b[39m\u001b[31mdata[name == ,'Bob']\u001b[39m\n                 ^\n\u001b[31mSyntaxError\u001b[39m\u001b[31m:\u001b[39m invalid syntax\n"
     ]
    }
   ],
   "source": [
    "data[name == ,'Bob'] #Error"
   ]
  },
  {
   "cell_type": "code",
   "execution_count": 66,
   "id": "c274cdc2",
   "metadata": {},
   "outputs": [
    {
     "data": {
      "text/plain": [
       "array([False, False, False, False, False, False, False])"
      ]
     },
     "execution_count": 66,
     "metadata": {},
     "output_type": "execute_result"
    }
   ],
   "source": [
    "mask != (name=='Bob') | (name == 'Will')"
   ]
  },
  {
   "cell_type": "code",
   "execution_count": 67,
   "id": "40aa0aa4",
   "metadata": {},
   "outputs": [
    {
     "data": {
      "text/plain": [
       "array([[ 0,  1,  2,  3],\n",
       "       [ 8,  9, 10, 11],\n",
       "       [12, 13, 14, 15],\n",
       "       [16, 17, 18, 19]])"
      ]
     },
     "execution_count": 67,
     "metadata": {},
     "output_type": "execute_result"
    }
   ],
   "source": [
    "data[mask]"
   ]
  },
  {
   "cell_type": "code",
   "execution_count": 79,
   "id": "89edb18d",
   "metadata": {},
   "outputs": [
    {
     "name": "stdout",
     "output_type": "stream",
     "text": [
      "[10 20 40 50]\n"
     ]
    }
   ],
   "source": [
    "# np.array([10, 20, 30, 40, 50, 60])에서\n",
    "# 3의 배수가 아닌 값만 출력해보세요.\n",
    "\n",
    "# 힌트: arr % 3 != 0 조건을 불리언 배열로 만들고 인덱싱!\n",
    "\n",
    "\n",
    "d1 = np.array([10, 20, 30, 40, 50, 60])\n",
    "data1 = d1 %3 != 0 \n",
    "print(d1[data1])"
   ]
  },
  {
   "cell_type": "code",
   "execution_count": 82,
   "id": "167e7718",
   "metadata": {},
   "outputs": [
    {
     "name": "stdout",
     "output_type": "stream",
     "text": [
      "[0 5 0 7 0]\n"
     ]
    }
   ],
   "source": [
    "arr = np.array([4, 5, 6, 7, 8])\n",
    "mask = arr %2 == 0\n",
    "arr[mask] = 0\n",
    "print(arr)"
   ]
  },
  {
   "cell_type": "code",
   "execution_count": 84,
   "id": "c650cb51",
   "metadata": {},
   "outputs": [
    {
     "name": "stdout",
     "output_type": "stream",
     "text": [
      "[[-1  7 -1]\n",
      " [ 9 -1  1]\n",
      " [-1  5  3]]\n"
     ]
    }
   ],
   "source": [
    "arr2d = np.array([[4, 7, 2],\n",
    "                  [9, 6, 1],\n",
    "                  [8, 5, 3]])\n",
    "\n",
    "mask = arr2d % 2 == 0\n",
    "arr2d[mask] = -1\n",
    "print(arr2d)"
   ]
  },
  {
   "cell_type": "markdown",
   "id": "0bbf5fb1",
   "metadata": {},
   "source": [
    "## 팬시 인덱싱\n",
    "\n",
    "- 정수 리스트를 인덱스를 사용    \n",
    "- 행렬의 순서를 바꿀 수 있다."
   ]
  },
  {
   "cell_type": "code",
   "execution_count": 85,
   "id": "79e94c52",
   "metadata": {},
   "outputs": [
    {
     "data": {
      "text/plain": [
       "array([[ 0,  1,  2,  3],\n",
       "       [ 4,  5,  6,  7],\n",
       "       [ 8,  9, 10, 11],\n",
       "       [12, 13, 14, 15],\n",
       "       [16, 17, 18, 19],\n",
       "       [20, 21, 22, 23],\n",
       "       [24, 25, 26, 27]])"
      ]
     },
     "execution_count": 85,
     "metadata": {},
     "output_type": "execute_result"
    }
   ],
   "source": [
    "data"
   ]
  },
  {
   "cell_type": "code",
   "execution_count": null,
   "id": "cc2fed4d",
   "metadata": {},
   "outputs": [
    {
     "data": {
      "text/plain": [
       "array([[12, 13, 14, 15],\n",
       "       [ 0,  1,  2,  3]])"
      ]
     },
     "execution_count": 86,
     "metadata": {},
     "output_type": "execute_result"
    }
   ],
   "source": [
    "data[[3,0]]"
   ]
  },
  {
   "cell_type": "code",
   "execution_count": 87,
   "id": "122a573d",
   "metadata": {},
   "outputs": [
    {
     "data": {
      "text/plain": [
       "array([[1.11632783e-311, 1.06718180e-321, 0.00000000e+000,\n",
       "        0.00000000e+000],\n",
       "       [0.00000000e+000, 5.02034658e+175, 1.70466620e+160,\n",
       "        3.94367701e-062],\n",
       "       [4.75846969e-038, 1.47730170e+185, 2.92682069e-057,\n",
       "        1.04102338e-042],\n",
       "       [3.83819517e+151, 2.59903818e-144, 3.51151606e+151,\n",
       "        1.04918677e-153],\n",
       "       [7.69165785e+218, 5.04621343e+180, 1.04917822e-153,\n",
       "        9.08366793e+223],\n",
       "       [1.70466620e+160, 3.94367701e-062, 4.75846969e-038,\n",
       "        1.47730170e+185],\n",
       "       [1.04915248e-153, 1.94918966e-153, 1.10684741e-047,\n",
       "        2.73499523e-052],\n",
       "       [2.00334211e-052, 2.59027896e-144, 7.79952704e-143,\n",
       "        5.81186265e+294]])"
      ]
     },
     "execution_count": 87,
     "metadata": {},
     "output_type": "execute_result"
    }
   ],
   "source": [
    "arr = np.empty((8,4))\n",
    "arr"
   ]
  },
  {
   "cell_type": "code",
   "execution_count": 88,
   "id": "c4aa1d44",
   "metadata": {},
   "outputs": [
    {
     "data": {
      "text/plain": [
       "array([[0., 0., 0., 0.],\n",
       "       [1., 1., 1., 1.],\n",
       "       [2., 2., 2., 2.],\n",
       "       [3., 3., 3., 3.],\n",
       "       [4., 4., 4., 4.],\n",
       "       [5., 5., 5., 5.],\n",
       "       [6., 6., 6., 6.],\n",
       "       [7., 7., 7., 7.]])"
      ]
     },
     "execution_count": 88,
     "metadata": {},
     "output_type": "execute_result"
    }
   ],
   "source": [
    "for i in range(8):\n",
    "    arr[i] = i\n",
    "\n",
    "arr"
   ]
  },
  {
   "cell_type": "code",
   "execution_count": 89,
   "id": "a7e652ac",
   "metadata": {},
   "outputs": [
    {
     "data": {
      "text/plain": [
       "array([[3., 3., 3., 3.],\n",
       "       [5., 5., 5., 5.]])"
      ]
     },
     "execution_count": 89,
     "metadata": {},
     "output_type": "execute_result"
    }
   ],
   "source": [
    "arr[[3,5]]"
   ]
  },
  {
   "cell_type": "code",
   "execution_count": null,
   "id": "9d09502a",
   "metadata": {},
   "outputs": [],
   "source": [
    "# (1,0): 1, (5,3): 5, (7,1): 7, (2,2):2\n",
    "arr [[1,5,7,2], [0,3,1,2]]\n"
   ]
  },
  {
   "cell_type": "markdown",
   "id": "f2694d74",
   "metadata": {},
   "source": [
    "# 쇼핑몰 매출 데이터 분석을 통한 NumPy 기본 연습 문제"
   ]
  },
  {
   "cell_type": "markdown",
   "id": "21cbded6",
   "metadata": {},
   "source": [
    "## 문제 1: 매출 데이터에서 일일 평균 매출 계산하기\n",
    "- 설명: 30일 동안의 쇼핑몰 매출 데이터를 배열로 제공할 때, 일일 평균 매출을 계산하세요.   \n",
    "- 힌트: np.mean() 함수를 사용하여 배열의 평균값을 계산합니다."
   ]
  },
  {
   "cell_type": "code",
   "execution_count": 90,
   "id": "974b25cc",
   "metadata": {},
   "outputs": [],
   "source": [
    "sales_data = np.array([2200, 2350, 2500, 2750, 3000, 3100, 2700, 2600, 2900, 3200,\n",
    "                       3400, 3600, 3300, 3100, 2900, 2700, 2800, 2900, 3100, 3200,\n",
    "                       3300, 3400, 3500, 3700, 3600, 3500, 3400, 3300, 3000, 3100])"
   ]
  },
  {
   "cell_type": "code",
   "execution_count": 91,
   "id": "24379431",
   "metadata": {},
   "outputs": [
    {
     "data": {
      "text/plain": [
       "(30,)"
      ]
     },
     "execution_count": 91,
     "metadata": {},
     "output_type": "execute_result"
    }
   ],
   "source": [
    "sales_data.shape"
   ]
  },
  {
   "cell_type": "code",
   "execution_count": 94,
   "id": "86fbd4b3",
   "metadata": {},
   "outputs": [
    {
     "name": "stdout",
     "output_type": "stream",
     "text": [
      "평균 3070.0\n",
      "행렬의 합 3070.0\n"
     ]
    }
   ],
   "source": [
    "# numpy 함수\n",
    "avg_sales = np.mean(sales_data)\n",
    "print(\"평균\", avg_sales)\n",
    "\n",
    "# 행렬의 합 / 행렬의 요소수\n",
    "avg_sales1 = sales_data.sum() / sales_data.size\n",
    "print(\"행렬의 합\", avg_sales1)"
   ]
  },
  {
   "cell_type": "markdown",
   "id": "c4431af5",
   "metadata": {},
   "source": [
    "##  문제 2: 매출 데이터에서 최대 매출일과 최소 매출일 찾기\n",
    "\n",
    "- 설명: 매출 데이터에서 가장 높은 매출과 가장 낮은 매출을 기록한 날짜를 찾아보세요.   \n",
    "- 힌트: np.argmax(), np.argmin()을 사용하여 최대값, 최소값의 인덱스를 찾습니다."
   ]
  },
  {
   "cell_type": "code",
   "execution_count": 96,
   "id": "4660f366",
   "metadata": {},
   "outputs": [
    {
     "name": "stdout",
     "output_type": "stream",
     "text": [
      "최대 매출일: 24 최소 매출일: 1\n"
     ]
    }
   ],
   "source": [
    "sales_data.shape\n",
    "\n",
    "max_day, min_day = sales_data.argmax(), sales_data.argmin()\n",
    "\n",
    "print(f'최대 매출일: {max_day+1} 최소 매출일: {min_day+1}')"
   ]
  },
  {
   "cell_type": "markdown",
   "id": "90728772",
   "metadata": {},
   "source": [
    "## 문제 3: 7일 단위로 매출 합계 계산하기\n",
    "\n",
    "- 설명: 30일 매출 데이터를 7일 단위로 나누어 각 주차별 매출 합계를 계산하세요.   \n",
    "- 힌트: 배열을 슬라이싱하거나 reshape()를 사용하여 배열을 변환합니다."
   ]
  },
  {
   "cell_type": "code",
   "execution_count": 97,
   "id": "13cb1997",
   "metadata": {},
   "outputs": [
    {
     "data": {
      "text/plain": [
       "array([[2200, 2350, 2500, 2750, 3000, 3100, 2700],\n",
       "       [2600, 2900, 3200, 3400, 3600, 3300, 3100],\n",
       "       [2900, 2700, 2800, 2900, 3100, 3200, 3300],\n",
       "       [3400, 3500, 3700, 3600, 3500, 3400, 3300]])"
      ]
     },
     "execution_count": 97,
     "metadata": {},
     "output_type": "execute_result"
    }
   ],
   "source": [
    "sales_data[:28].reshape(4,7)"
   ]
  },
  {
   "cell_type": "code",
   "execution_count": 100,
   "id": "77b1c219",
   "metadata": {},
   "outputs": [
    {
     "data": {
      "text/plain": [
       "array([[2200, 2350, 2500, 2750, 3000, 3100, 2700],\n",
       "       [2600, 2900, 3200, 3400, 3600, 3300, 3100],\n",
       "       [2900, 2700, 2800, 2900, 3100, 3200, 3300],\n",
       "       [3400, 3500, 3700, 3600, 3500, 3400, 3300],\n",
       "       [3000, 3100,    0,    0,    0,    0,    0]])"
      ]
     },
     "execution_count": 100,
     "metadata": {},
     "output_type": "execute_result"
    }
   ],
   "source": [
    "weekly_data = np.pad(sales_data, (0,5), 'constant', constant_values=0).reshape(5,7)\n",
    "weekly_data"
   ]
  },
  {
   "cell_type": "code",
   "execution_count": null,
   "id": "856d6085",
   "metadata": {},
   "outputs": [
    {
     "data": {
      "text/plain": [
       "array([18600, 22100, 20900, 24400,  6100])"
      ]
     },
     "execution_count": 101,
     "metadata": {},
     "output_type": "execute_result"
    }
   ],
   "source": [
    "weekly_data.sum(axis=1) # 주별합계"
   ]
  },
  {
   "cell_type": "code",
   "execution_count": 102,
   "id": "07bf6a0e",
   "metadata": {},
   "outputs": [
    {
     "data": {
      "text/plain": [
       "array([14100, 14550, 12200, 12650, 13200, 13000, 12400])"
      ]
     },
     "execution_count": 102,
     "metadata": {},
     "output_type": "execute_result"
    }
   ],
   "source": [
    "weekly_data.sum(axis=0) #요일별합계"
   ]
  },
  {
   "cell_type": "markdown",
   "id": "3724b68d",
   "metadata": {},
   "source": [
    "## 문제 4: 매출 데이터에서 특정 조건에 맞는 매출 데이터 필터링하기\n",
    "\n",
    "- 설명: 매출이 3000 이상인 날들의 매출만 필터링하여 보여주세요.   \n",
    "- 힌트: 배열에서 조건 필터링을 사용하는 방법을 익힙니다.\n",
    "  "
   ]
  },
  {
   "cell_type": "code",
   "execution_count": 112,
   "id": "c5fab0a4",
   "metadata": {},
   "outputs": [
    {
     "data": {
      "text/plain": [
       "array([3000, 3100, 3200, 3400, 3600, 3300, 3100, 3100, 3200, 3300, 3400,\n",
       "       3500, 3700, 3600, 3500, 3400, 3300, 3000, 3100])"
      ]
     },
     "execution_count": 112,
     "metadata": {},
     "output_type": "execute_result"
    }
   ],
   "source": [
    "#filter()\n",
    "high_sales = list(filter(lambda x: x>=3000, sales_data))\n",
    "np.array(high_sales)"
   ]
  },
  {
   "cell_type": "code",
   "execution_count": null,
   "id": "e036e333",
   "metadata": {},
   "outputs": [
    {
     "data": {
      "text/plain": [
       "array([3000, 3100, 3200, 3400, 3600, 3300, 3100, 3100, 3200, 3300, 3400,\n",
       "       3500, 3700, 3600, 3500, 3400, 3300, 3000, 3100])"
      ]
     },
     "execution_count": 113,
     "metadata": {},
     "output_type": "execute_result"
    }
   ],
   "source": [
    "high_sales = sales_data[sales_data >= 3000]\n",
    "high_sales\n"
   ]
  },
  {
   "cell_type": "markdown",
   "id": "173579c6",
   "metadata": {},
   "source": [
    "## 문제 5: 특정 범위 내 매출의 평균값 계산하기\n",
    "- 설명: 매출이 2800에서 3500 사이인 날들의 평균 매출을 계산하세요.   \n",
    "- 힌트: 조건 필터링 후 np.mean()을 사용하여 계산합니다."
   ]
  },
  {
   "cell_type": "code",
   "execution_count": 118,
   "id": "1471cd17",
   "metadata": {},
   "outputs": [
    {
     "data": {
      "text/plain": [
       "array([3000, 3100, 2900, 3200, 3400, 3600, 3300, 3100, 2900, 2800, 2900,\n",
       "       3100, 3200, 3300, 3400, 3500, 3700, 3600, 3500, 3400, 3300, 3000,\n",
       "       3100])"
      ]
     },
     "execution_count": 118,
     "metadata": {},
     "output_type": "execute_result"
    }
   ],
   "source": [
    "sales_mean1 = list(filter(lambda x: x>=2800, sales_data))\n",
    "np.array(sales_mean1)"
   ]
  },
  {
   "cell_type": "code",
   "execution_count": 119,
   "id": "ca47d349",
   "metadata": {},
   "outputs": [
    {
     "data": {
      "text/plain": [
       "array([3600, 3500, 3700, 3600, 3500])"
      ]
     },
     "execution_count": 119,
     "metadata": {},
     "output_type": "execute_result"
    }
   ],
   "source": [
    "sales_mean2 = list(filter(lambda x: x>=3500, sales_data))\n",
    "np.array(sales_mean2)"
   ]
  },
  {
   "cell_type": "code",
   "execution_count": 124,
   "id": "90c4e8b3",
   "metadata": {},
   "outputs": [
    {
     "data": {
      "text/plain": [
       "array(3292.85714286)"
      ]
     },
     "execution_count": 124,
     "metadata": {},
     "output_type": "execute_result"
    }
   ],
   "source": [
    "sales_mean3 = sales_mean1 + sales_mean2\n",
    "sales_mean3_ttl = np.array(sales_mean3)\n",
    "sales_mean3_avg = np.mean(sales_mean3_ttl)\n",
    "np.array(sales_mean3_avg)"
   ]
  },
  {
   "cell_type": "code",
   "execution_count": 127,
   "id": "ff59c324",
   "metadata": {},
   "outputs": [
    {
     "data": {
      "text/plain": [
       "np.float64(3170.0)"
      ]
     },
     "execution_count": 127,
     "metadata": {},
     "output_type": "execute_result"
    }
   ],
   "source": [
    "cond = (sales_data >= 2800)&(sales_data<=3500)\n",
    "sales_data[cond].mean()"
   ]
  },
  {
   "cell_type": "markdown",
   "id": "55dada54",
   "metadata": {},
   "source": [
    "## 문제 6: 주차별 평균 계산"
   ]
  },
  {
   "cell_type": "code",
   "execution_count": 131,
   "id": "85bd2ef9",
   "metadata": {},
   "outputs": [
    {
     "data": {
      "text/plain": [
       "np.float64(2631.4285714285716)"
      ]
     },
     "execution_count": 131,
     "metadata": {},
     "output_type": "execute_result"
    }
   ],
   "source": [
    "weekly_data[:].mean()"
   ]
  },
  {
   "cell_type": "markdown",
   "id": "726b82bf",
   "metadata": {},
   "source": [
    "## 문제 7: 매출의 중앙값 median()"
   ]
  },
  {
   "cell_type": "code",
   "execution_count": 135,
   "id": "2bf83c12",
   "metadata": {},
   "outputs": [
    {
     "data": {
      "text/plain": [
       "np.float64(3200.0)"
      ]
     },
     "execution_count": 135,
     "metadata": {},
     "output_type": "execute_result"
    }
   ],
   "source": [
    "np.median(sales_mean1)"
   ]
  },
  {
   "cell_type": "markdown",
   "id": "44ed12ae",
   "metadata": {},
   "source": [
    "## 문제 8: 매출이 증가한 날, 감소한 날 카운트\n",
    "- 매출 증감 계산 : **'차이'**로 판단   \n",
    "- np.diff()  "
   ]
  },
  {
   "cell_type": "code",
   "execution_count": 142,
   "id": "5c540703",
   "metadata": {},
   "outputs": [
    {
     "name": "stdout",
     "output_type": "stream",
     "text": [
      "매출증가: 18일\n",
      "매출감소: 11일\n"
     ]
    }
   ],
   "source": [
    "diff = np.diff(sales_data)\n",
    "print(f\"매출증가: {np.sum(diff>0)}일\")\n",
    "print(f\"매출감소: {np.sum(diff<0)}일\")"
   ]
  },
  {
   "cell_type": "markdown",
   "id": "d7dd9f33",
   "metadata": {},
   "source": [
    "## 문제 9: 각 주차별로 가장 매출이 높았던 날 찾기\n",
    "- np.argmax() + axis 활용"
   ]
  },
  {
   "cell_type": "code",
   "execution_count": 148,
   "id": "82e0e232",
   "metadata": {},
   "outputs": [],
   "source": [
    "import matplotlib.pyplot as plt"
   ]
  },
  {
   "cell_type": "code",
   "execution_count": null,
   "id": "86e2f330",
   "metadata": {},
   "outputs": [
    {
     "name": "stdout",
     "output_type": "stream",
     "text": [
      "[5 4 6 2 1]\n"
     ]
    }
   ],
   "source": [
    "week_arr = np.array(weekly_data)\n",
    "week_max = np.argmax(week_arr, axis=1)\n",
    "print(week_max)"
   ]
  },
  {
   "cell_type": "code",
   "execution_count": 149,
   "id": "594e7f76",
   "metadata": {},
   "outputs": [
    {
     "data": {
      "text/plain": [
       "[<matplotlib.lines.Line2D at 0x20e2cf61640>]"
      ]
     },
     "execution_count": 149,
     "metadata": {},
     "output_type": "execute_result"
    },
    {
     "data": {
      "image/png": "[encoded data removed]",
      "text/plain": [
       "<Figure size 640x480 with 1 Axes>"
      ]
     },
     "metadata": {},
     "output_type": "display_data"
    }
   ],
   "source": [
    "w_mean = weekly_data.mean(axis=1)\n",
    "plt.plot(w_mean)"
   ]
  },
  {
   "cell_type": "code",
   "execution_count": 150,
   "id": "a2cfbeed",
   "metadata": {},
   "outputs": [
    {
     "name": "stdout",
     "output_type": "stream",
     "text": [
      "[2657.14285714 3157.14285714 2985.71428571 3485.71428571 3050.        ]\n"
     ]
    },
    {
     "data": {
      "text/plain": [
       "[<matplotlib.lines.Line2D at 0x20e2d635460>]"
      ]
     },
     "execution_count": 150,
     "metadata": {},
     "output_type": "execute_result"
    },
    {
     "data": {
      "image/png": "[encoded data removed]",
      "text/plain": [
       "<Figure size 640x480 with 1 Axes>"
      ]
     },
     "metadata": {},
     "output_type": "display_data"
    }
   ],
   "source": [
    "weekly_data_1 = weekly_data.copy().astype(float)\n",
    "weekly_data_1[weekly_data_1==0] = np.nan\n",
    "\n",
    "weekly_mean = np.nanmean(weekly_data_1, axis=1)\n",
    "print(weekly_mean)\n",
    "plt.plot(weekly_mean)"
   ]
  },
  {
   "cell_type": "code",
   "execution_count": 156,
   "id": "e5690b06",
   "metadata": {},
   "outputs": [
    {
     "name": "stdout",
     "output_type": "stream",
     "text": [
      "1주차: 토요일에 최고치 (3100)\n",
      "2주차: 금요일에 최고치 (3600)\n",
      "3주차: 일요일에 최고치 (3300)\n",
      "4주차: 수요일에 최고치 (3700)\n",
      "5주차: 화요일에 최고치 (3100)\n"
     ]
    }
   ],
   "source": [
    "#각 주차별 최고 매출 요일 출력\n",
    "\n",
    "week_arr = np.array(weekly_data)\n",
    "days = ['월', '화', '수', '목', '금', '토', '일']\n",
    "max_days = np.argmax(week_arr, axis=1)\n",
    "\n",
    "for i, day_idx in enumerate(max_days):\n",
    "    print(f\"{i+1}주차: {days[day_idx]}요일에 최고치 ({week_arr[i, day_idx]})\")"
   ]
  },
  {
   "cell_type": "code",
   "execution_count": 158,
   "id": "3c024de5",
   "metadata": {},
   "outputs": [
    {
     "name": "stdout",
     "output_type": "stream",
     "text": [
      "1주차: 월요일에 최저치 (2200)\n",
      "2주차: 월요일에 최저치 (2600)\n",
      "3주차: 화요일에 최저치 (2700)\n",
      "4주차: 일요일에 최저치 (3300)\n",
      "5주차: 수요일에 최저치 (0)\n"
     ]
    }
   ],
   "source": [
    "week_arr = np.array(weekly_data)\n",
    "days = ['월', '화', '수', '목', '금', '토', '일']\n",
    "min_days = np.argmin(week_arr, axis=1)\n",
    "\n",
    "for i, day_idx in enumerate(min_days):\n",
    "    print(f\"{i+1}주차: {days[day_idx]}요일에 최저치 ({week_arr[i, day_idx]})\")"
   ]
  },
  {
   "cell_type": "code",
   "execution_count": 162,
   "id": "961c3e4a",
   "metadata": {},
   "outputs": [
    {
     "data": {
      "text/plain": [
       "array([[2200., 2350., 2500., 2750., 3000., 3100., 2700.],\n",
       "       [2600., 2900., 3200., 3400., 3600., 3300., 3100.],\n",
       "       [2900., 2700., 2800., 2900., 3100., 3200., 3300.],\n",
       "       [3400., 3500., 3700., 3600., 3500., 3400., 3300.],\n",
       "       [3000., 3100.,   nan,   nan,   nan,   nan,   nan]])"
      ]
     },
     "execution_count": 162,
     "metadata": {},
     "output_type": "execute_result"
    }
   ],
   "source": [
    "weekly_data_1 "
   ]
  },
  {
   "cell_type": "code",
   "execution_count": 169,
   "id": "889495c7",
   "metadata": {},
   "outputs": [
    {
     "name": "stdout",
     "output_type": "stream",
     "text": [
      "[1주차] 토요일에 최고 매출: 3100만원\n",
      "[2주차] 금요일에 최고 매출: 3600만원\n",
      "[3주차] 일요일에 최고 매출: 3300만원\n",
      "[4주차] 수요일에 최고 매출: 3700만원\n",
      "[5주차] 화요일에 최고 매출: 3100만원\n"
     ]
    }
   ],
   "source": [
    "arr = np.array(weekly_data_1)\n",
    "days = ['월', '화', '수', '목', '금', '토', '일']\n",
    "\n",
    "for i in range(arr.shape[0]):\n",
    "    max_day_idx = np.nanargmax(arr[i])\n",
    "    max_sales = int(arr[i, max_day_idx])\n",
    "    print(f\"[{i+1}주차] {days[max_day_idx]}요일에 최고 매출: {max_sales}만원\")"
   ]
  },
  {
   "cell_type": "code",
   "execution_count": 172,
   "id": "c438e550",
   "metadata": {},
   "outputs": [
    {
     "name": "stdout",
     "output_type": "stream",
     "text": [
      "한 달 평균 매출 3070.0\n",
      "최대 매출일: 24 최소 매출일: 1\n",
      "주별 합계: [18600 22100 20900 24400  6100]\n",
      "요일별 합계: [14100 14550 12200 12650 13200 13000 12400]\n",
      "특정 범위 내 매출 평균값: 3170.0\n",
      "[2657.14285714 3157.14285714 2985.71428571 3485.71428571 3050.        ]\n",
      "[1주차] 토요일에 최고 매출: 3100만원\n",
      "[2주차] 금요일에 최고 매출: 3600만원\n",
      "[3주차] 일요일에 최고 매출: 3300만원\n",
      "[4주차] 수요일에 최고 매출: 3700만원\n",
      "[5주차] 화요일에 최고 매출: 3100만원\n"
     ]
    },
    {
     "data": {
      "image/png": "[encoded data removed]",
      "text/plain": [
       "<Figure size 640x480 with 1 Axes>"
      ]
     },
     "metadata": {},
     "output_type": "display_data"
    }
   ],
   "source": [
    "# 30일 동안의 매출 \n",
    "sales_data = np.array([2200, 2350, 2500, 2750, 3000, 3100, 2700, 2600, 2900, 3200,\n",
    "                       3400, 3600, 3300, 3100, 2900, 2700, 2800, 2900, 3100, 3200,\n",
    "                       3300, 3400, 3500, 3700, 3600, 3500, 3400, 3300, 3000, 3100])\n",
    "\n",
    "\n",
    "\n",
    "# 한 달 간 평균 매출\n",
    "avg_sales = np.mean(sales_data)\n",
    "print(\"한 달 평균 매출\", avg_sales)\n",
    "\n",
    "\n",
    "# 최대 매출일, 최소 매출일\n",
    "sales_data.shape\n",
    "max_day, min_day = sales_data.argmax(), sales_data.argmin()\n",
    "print(f'최대 매출일: {max_day+1} 최소 매출일: {min_day+1}')\n",
    "\n",
    "\n",
    "# 7일 단위로 매출 합계 계산\n",
    "weekly_data = np.pad(sales_data, (0,5), 'constant', constant_values=0).reshape(5,7)\n",
    "weekly_data\n",
    "\n",
    "print(\"주별 합계:\", weekly_data.sum(axis=1))\n",
    "print(\"요일별 합계:\", weekly_data.sum(axis=0))\n",
    "\n",
    "\n",
    "# 매출이 2800에서 3500 사이인 날들의 평균 매출을 계산\n",
    "cond = (sales_data >= 2800)&(sales_data<=3500)\n",
    "cond_avg = sales_data[cond].mean()\n",
    "print(\"특정 범위 내 매출 평균값:\", cond_avg)\n",
    "\n",
    "\n",
    "# matplotlib 모듈 불러오기\n",
    "import matplotlib.pyplot as plt\n",
    "\n",
    "\n",
    "\n",
    "# 7일 단위 매출 합계 계산 시 값이 0으로 들어감(매출 계산 오류 해결방안)\n",
    "# 0 ➡️ nan 으로 변경\n",
    "# matplotlib 그래프 출력\n",
    "weekly_data_1 = weekly_data.copy().astype(float)\n",
    "weekly_data_1[weekly_data_1==0] = np.nan\n",
    "\n",
    "weekly_mean = np.nanmean(weekly_data_1, axis=1)\n",
    "print(weekly_mean)\n",
    "plt.plot(weekly_mean)\n",
    "\n",
    "\n",
    "\n",
    "#각 주차별 최고 매출 요일 출력\n",
    "arr = np.array(weekly_data_1)\n",
    "days = ['월', '화', '수', '목', '금', '토', '일']\n",
    "\n",
    "for i in range(arr.shape[0]):\n",
    "    max_day_idx = np.nanargmax(arr[i])\n",
    "    max_sales = int(arr[i, max_day_idx])\n",
    "    print(f\"[{i+1}주차] {days[max_day_idx]}요일에 최고 매출: {max_sales}만원\")"
   ]
  },
  {
   "cell_type": "code",
   "execution_count": null,
   "id": "05c2a4aa",
   "metadata": {},
   "outputs": [],
   "source": []
  }
 ],
 "metadata": {
  "kernelspec": {
   "display_name": "hipython",
   "language": "python",
   "name": "python3"
  },
  "language_info": {
   "codemirror_mode": {
    "name": "ipython",
    "version": 3
   },
   "file_extension": ".py",
   "mimetype": "text/x-python",
   "name": "python",
   "nbconvert_exporter": "python",
   "pygments_lexer": "ipython3",
   "version": "3.12.9"
  }
 },
 "nbformat": 4,
 "nbformat_minor": 5
}
