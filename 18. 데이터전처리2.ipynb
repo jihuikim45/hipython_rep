{
 "cells": [
  {
   "cell_type": "code",
   "execution_count": 1,
   "id": "85b20517",
   "metadata": {},
   "outputs": [],
   "source": [
    "import pandas as pd"
   ]
  },
  {
   "cell_type": "code",
   "execution_count": 2,
   "id": "2e2077ec",
   "metadata": {},
   "outputs": [
    {
     "data": {
      "text/html": [
       "<div>\n",
       "<style scoped>\n",
       "    .dataframe tbody tr th:only-of-type {\n",
       "        vertical-align: middle;\n",
       "    }\n",
       "\n",
       "    .dataframe tbody tr th {\n",
       "        vertical-align: top;\n",
       "    }\n",
       "\n",
       "    .dataframe thead th {\n",
       "        text-align: right;\n",
       "    }\n",
       "</style>\n",
       "<table border=\"1\" class=\"dataframe\">\n",
       "  <thead>\n",
       "    <tr style=\"text-align: right;\">\n",
       "      <th></th>\n",
       "      <th>Unnamed: 0</th>\n",
       "      <th>2007</th>\n",
       "      <th>2008</th>\n",
       "      <th>2009</th>\n",
       "      <th>2010</th>\n",
       "      <th>2011</th>\n",
       "    </tr>\n",
       "  </thead>\n",
       "  <tbody>\n",
       "    <tr>\n",
       "      <th>0</th>\n",
       "      <td>China</td>\n",
       "      <td>7.71</td>\n",
       "      <td>7.95</td>\n",
       "      <td>11.96</td>\n",
       "      <td>15.84</td>\n",
       "      <td>16.33</td>\n",
       "    </tr>\n",
       "    <tr>\n",
       "      <th>1</th>\n",
       "      <td>EU</td>\n",
       "      <td>19.02</td>\n",
       "      <td>17.71</td>\n",
       "      <td>15.00</td>\n",
       "      <td>16.70</td>\n",
       "      <td>17.48</td>\n",
       "    </tr>\n",
       "    <tr>\n",
       "      <th>2</th>\n",
       "      <td>US</td>\n",
       "      <td>10.47</td>\n",
       "      <td>8.45</td>\n",
       "      <td>5.58</td>\n",
       "      <td>7.60</td>\n",
       "      <td>8.40</td>\n",
       "    </tr>\n",
       "    <tr>\n",
       "      <th>3</th>\n",
       "      <td>Japan</td>\n",
       "      <td>10.87</td>\n",
       "      <td>10.83</td>\n",
       "      <td>7.55</td>\n",
       "      <td>9.09</td>\n",
       "      <td>7.88</td>\n",
       "    </tr>\n",
       "    <tr>\n",
       "      <th>4</th>\n",
       "      <td>Korea</td>\n",
       "      <td>4.04</td>\n",
       "      <td>3.78</td>\n",
       "      <td>3.45</td>\n",
       "      <td>4.20</td>\n",
       "      <td>4.62</td>\n",
       "    </tr>\n",
       "    <tr>\n",
       "      <th>5</th>\n",
       "      <td>Mexico</td>\n",
       "      <td>2.01</td>\n",
       "      <td>2.05</td>\n",
       "      <td>1.50</td>\n",
       "      <td>2.25</td>\n",
       "      <td>2.54</td>\n",
       "    </tr>\n",
       "  </tbody>\n",
       "</table>\n",
       "</div>"
      ],
      "text/plain": [
       "  Unnamed: 0   2007   2008   2009   2010   2011\n",
       "0      China   7.71   7.95  11.96  15.84  16.33\n",
       "1         EU  19.02  17.71  15.00  16.70  17.48\n",
       "2         US  10.47   8.45   5.58   7.60   8.40\n",
       "3      Japan  10.87  10.83   7.55   9.09   7.88\n",
       "4      Korea   4.04   3.78   3.45   4.20   4.62\n",
       "5     Mexico   2.01   2.05   1.50   2.25   2.54"
      ]
     },
     "execution_count": 2,
     "metadata": {},
     "output_type": "execute_result"
    }
   ],
   "source": [
    "df = pd.read_csv('abc/data/vehicle_prod.csv')\n",
    "df"
   ]
  },
  {
   "cell_type": "code",
   "execution_count": 68,
   "id": "a71f97d7",
   "metadata": {},
   "outputs": [
    {
     "data": {
      "text/html": [
       "<div>\n",
       "<style scoped>\n",
       "    .dataframe tbody tr th:only-of-type {\n",
       "        vertical-align: middle;\n",
       "    }\n",
       "\n",
       "    .dataframe tbody tr th {\n",
       "        vertical-align: top;\n",
       "    }\n",
       "\n",
       "    .dataframe thead th {\n",
       "        text-align: right;\n",
       "    }\n",
       "</style>\n",
       "<table border=\"1\" class=\"dataframe\">\n",
       "  <thead>\n",
       "    <tr style=\"text-align: right;\">\n",
       "      <th></th>\n",
       "      <th>2007</th>\n",
       "      <th>2008</th>\n",
       "      <th>2009</th>\n",
       "      <th>2010</th>\n",
       "      <th>2011</th>\n",
       "    </tr>\n",
       "  </thead>\n",
       "  <tbody>\n",
       "    <tr>\n",
       "      <th>China</th>\n",
       "      <td>7.71</td>\n",
       "      <td>7.95</td>\n",
       "      <td>11.96</td>\n",
       "      <td>15.84</td>\n",
       "      <td>16.33</td>\n",
       "    </tr>\n",
       "    <tr>\n",
       "      <th>EU</th>\n",
       "      <td>19.02</td>\n",
       "      <td>17.71</td>\n",
       "      <td>15.00</td>\n",
       "      <td>16.70</td>\n",
       "      <td>17.48</td>\n",
       "    </tr>\n",
       "    <tr>\n",
       "      <th>US</th>\n",
       "      <td>10.47</td>\n",
       "      <td>8.45</td>\n",
       "      <td>5.58</td>\n",
       "      <td>7.60</td>\n",
       "      <td>8.40</td>\n",
       "    </tr>\n",
       "    <tr>\n",
       "      <th>Japan</th>\n",
       "      <td>10.87</td>\n",
       "      <td>10.83</td>\n",
       "      <td>7.55</td>\n",
       "      <td>9.09</td>\n",
       "      <td>7.88</td>\n",
       "    </tr>\n",
       "    <tr>\n",
       "      <th>Korea</th>\n",
       "      <td>4.04</td>\n",
       "      <td>3.78</td>\n",
       "      <td>3.45</td>\n",
       "      <td>4.20</td>\n",
       "      <td>4.62</td>\n",
       "    </tr>\n",
       "    <tr>\n",
       "      <th>Mexico</th>\n",
       "      <td>2.01</td>\n",
       "      <td>2.05</td>\n",
       "      <td>1.50</td>\n",
       "      <td>2.25</td>\n",
       "      <td>2.54</td>\n",
       "    </tr>\n",
       "  </tbody>\n",
       "</table>\n",
       "</div>"
      ],
      "text/plain": [
       "         2007   2008   2009   2010   2011\n",
       "China    7.71   7.95  11.96  15.84  16.33\n",
       "EU      19.02  17.71  15.00  16.70  17.48\n",
       "US      10.47   8.45   5.58   7.60   8.40\n",
       "Japan   10.87  10.83   7.55   9.09   7.88\n",
       "Korea    4.04   3.78   3.45   4.20   4.62\n",
       "Mexico   2.01   2.05   1.50   2.25   2.54"
      ]
     },
     "execution_count": 68,
     "metadata": {},
     "output_type": "execute_result"
    }
   ],
   "source": [
    "df1 = df.rename(columns={'Unnamed: 0':'country'})\n",
    "df1"
   ]
  },
  {
   "cell_type": "code",
   "execution_count": 71,
   "id": "692cf1c0",
   "metadata": {},
   "outputs": [
    {
     "name": "stdout",
     "output_type": "stream",
     "text": [
      "Index(['2007', '2008', '2009', '2010', '2011'], dtype='object')\n"
     ]
    }
   ],
   "source": [
    "print(df1.columns)"
   ]
  },
  {
   "cell_type": "code",
   "execution_count": 72,
   "id": "87158e53",
   "metadata": {},
   "outputs": [
    {
     "data": {
      "text/html": [
       "<div>\n",
       "<style scoped>\n",
       "    .dataframe tbody tr th:only-of-type {\n",
       "        vertical-align: middle;\n",
       "    }\n",
       "\n",
       "    .dataframe tbody tr th {\n",
       "        vertical-align: top;\n",
       "    }\n",
       "\n",
       "    .dataframe thead th {\n",
       "        text-align: right;\n",
       "    }\n",
       "</style>\n",
       "<table border=\"1\" class=\"dataframe\">\n",
       "  <thead>\n",
       "    <tr style=\"text-align: right;\">\n",
       "      <th></th>\n",
       "      <th>index</th>\n",
       "      <th>2007</th>\n",
       "      <th>2008</th>\n",
       "      <th>2009</th>\n",
       "      <th>2010</th>\n",
       "      <th>2011</th>\n",
       "    </tr>\n",
       "  </thead>\n",
       "  <tbody>\n",
       "    <tr>\n",
       "      <th>0</th>\n",
       "      <td>China</td>\n",
       "      <td>7.71</td>\n",
       "      <td>7.95</td>\n",
       "      <td>11.96</td>\n",
       "      <td>15.84</td>\n",
       "      <td>16.33</td>\n",
       "    </tr>\n",
       "    <tr>\n",
       "      <th>1</th>\n",
       "      <td>EU</td>\n",
       "      <td>19.02</td>\n",
       "      <td>17.71</td>\n",
       "      <td>15.00</td>\n",
       "      <td>16.70</td>\n",
       "      <td>17.48</td>\n",
       "    </tr>\n",
       "    <tr>\n",
       "      <th>2</th>\n",
       "      <td>US</td>\n",
       "      <td>10.47</td>\n",
       "      <td>8.45</td>\n",
       "      <td>5.58</td>\n",
       "      <td>7.60</td>\n",
       "      <td>8.40</td>\n",
       "    </tr>\n",
       "    <tr>\n",
       "      <th>3</th>\n",
       "      <td>Japan</td>\n",
       "      <td>10.87</td>\n",
       "      <td>10.83</td>\n",
       "      <td>7.55</td>\n",
       "      <td>9.09</td>\n",
       "      <td>7.88</td>\n",
       "    </tr>\n",
       "    <tr>\n",
       "      <th>4</th>\n",
       "      <td>Korea</td>\n",
       "      <td>4.04</td>\n",
       "      <td>3.78</td>\n",
       "      <td>3.45</td>\n",
       "      <td>4.20</td>\n",
       "      <td>4.62</td>\n",
       "    </tr>\n",
       "    <tr>\n",
       "      <th>5</th>\n",
       "      <td>Mexico</td>\n",
       "      <td>2.01</td>\n",
       "      <td>2.05</td>\n",
       "      <td>1.50</td>\n",
       "      <td>2.25</td>\n",
       "      <td>2.54</td>\n",
       "    </tr>\n",
       "  </tbody>\n",
       "</table>\n",
       "</div>"
      ],
      "text/plain": [
       "    index   2007   2008   2009   2010   2011\n",
       "0   China   7.71   7.95  11.96  15.84  16.33\n",
       "1      EU  19.02  17.71  15.00  16.70  17.48\n",
       "2      US  10.47   8.45   5.58   7.60   8.40\n",
       "3   Japan  10.87  10.83   7.55   9.09   7.88\n",
       "4   Korea   4.04   3.78   3.45   4.20   4.62\n",
       "5  Mexico   2.01   2.05   1.50   2.25   2.54"
      ]
     },
     "execution_count": 72,
     "metadata": {},
     "output_type": "execute_result"
    }
   ],
   "source": [
    "df1 = df1.reset_index()\n",
    "df1"
   ]
  },
  {
   "cell_type": "code",
   "execution_count": 74,
   "id": "703579d3",
   "metadata": {},
   "outputs": [
    {
     "name": "stdout",
     "output_type": "stream",
     "text": [
      "Index(['index', '2007', '2008', '2009', '2010', '2011'], dtype='object')\n"
     ]
    }
   ],
   "source": [
    "print(df1.columns)"
   ]
  },
  {
   "cell_type": "code",
   "execution_count": 77,
   "id": "c3bb7726",
   "metadata": {},
   "outputs": [
    {
     "name": "stdout",
     "output_type": "stream",
     "text": [
      "         index   2007   2008   2009   2010   2011\n",
      "country                                          \n",
      "0        China   7.71   7.95  11.96  15.84  16.33\n",
      "1           EU  19.02  17.71  15.00  16.70  17.48\n",
      "2           US  10.47   8.45   5.58   7.60   8.40\n",
      "3        Japan  10.87  10.83   7.55   9.09   7.88\n",
      "4        Korea   4.04   3.78   3.45   4.20   4.62\n"
     ]
    }
   ],
   "source": [
    "df1.index.name = 'country'\n",
    "print(df1.head())  "
   ]
  },
  {
   "cell_type": "code",
   "execution_count": 84,
   "id": "42227429",
   "metadata": {},
   "outputs": [
    {
     "name": "stdout",
     "output_type": "stream",
     "text": [
      "RangeIndex(start=0, stop=6, step=1)\n"
     ]
    }
   ],
   "source": [
    "print(df1.index)"
   ]
  },
  {
   "cell_type": "code",
   "execution_count": null,
   "id": "4e634f47",
   "metadata": {},
   "outputs": [
    {
     "data": {
      "text/plain": [
       "China      7.71\n",
       "EU        19.02\n",
       "US        10.47\n",
       "Japan     10.87\n",
       "Korea      4.04\n",
       "Mexico     2.01\n",
       "Name: 2007, dtype: float64"
      ]
     },
     "execution_count": 48,
     "metadata": {},
     "output_type": "execute_result"
    }
   ],
   "source": [
    "df['2007']"
   ]
  },
  {
   "cell_type": "code",
   "execution_count": null,
   "id": "38bcd785",
   "metadata": {},
   "outputs": [
    {
     "data": {
      "text/html": [
       "<div>\n",
       "<style scoped>\n",
       "    .dataframe tbody tr th:only-of-type {\n",
       "        vertical-align: middle;\n",
       "    }\n",
       "\n",
       "    .dataframe tbody tr th {\n",
       "        vertical-align: top;\n",
       "    }\n",
       "\n",
       "    .dataframe thead th {\n",
       "        text-align: right;\n",
       "    }\n",
       "</style>\n",
       "<table border=\"1\" class=\"dataframe\">\n",
       "  <thead>\n",
       "    <tr style=\"text-align: right;\">\n",
       "      <th></th>\n",
       "      <th>2007</th>\n",
       "    </tr>\n",
       "  </thead>\n",
       "  <tbody>\n",
       "    <tr>\n",
       "      <th>China</th>\n",
       "      <td>7.71</td>\n",
       "    </tr>\n",
       "    <tr>\n",
       "      <th>EU</th>\n",
       "      <td>19.02</td>\n",
       "    </tr>\n",
       "    <tr>\n",
       "      <th>US</th>\n",
       "      <td>10.47</td>\n",
       "    </tr>\n",
       "    <tr>\n",
       "      <th>Japan</th>\n",
       "      <td>10.87</td>\n",
       "    </tr>\n",
       "    <tr>\n",
       "      <th>Korea</th>\n",
       "      <td>4.04</td>\n",
       "    </tr>\n",
       "    <tr>\n",
       "      <th>Mexico</th>\n",
       "      <td>2.01</td>\n",
       "    </tr>\n",
       "  </tbody>\n",
       "</table>\n",
       "</div>"
      ],
      "text/plain": [
       "         2007\n",
       "China    7.71\n",
       "EU      19.02\n",
       "US      10.47\n",
       "Japan   10.87\n",
       "Korea    4.04\n",
       "Mexico   2.01"
      ]
     },
     "execution_count": 47,
     "metadata": {},
     "output_type": "execute_result"
    }
   ],
   "source": [
    "df[['2007']]"
   ]
  },
  {
   "cell_type": "code",
   "execution_count": null,
   "id": "ce721c4d",
   "metadata": {},
   "outputs": [
    {
     "data": {
      "text/plain": [
       "Index(['Unnamed: 0', '2007', '2008', '2009', '2010', '2011'], dtype='object')"
      ]
     },
     "execution_count": 20,
     "metadata": {},
     "output_type": "execute_result"
    }
   ],
   "source": [
    "df.columns"
   ]
  },
  {
   "cell_type": "code",
   "execution_count": null,
   "id": "0c6f3817",
   "metadata": {},
   "outputs": [
    {
     "data": {
      "text/plain": [
       "['Unnamed: 0', '2007', '2008', '2009', '2010', '2011']"
      ]
     },
     "execution_count": 21,
     "metadata": {},
     "output_type": "execute_result"
    }
   ],
   "source": [
    "# 컬럼을 리스트로 꺼내기\n",
    "df.columns.to_list()"
   ]
  },
  {
   "cell_type": "code",
   "execution_count": null,
   "id": "fe8f6244",
   "metadata": {},
   "outputs": [
    {
     "data": {
      "text/plain": [
       "[7.71, 19.02, 10.47, 10.87, 4.04, 2.01]"
      ]
     },
     "execution_count": 49,
     "metadata": {},
     "output_type": "execute_result"
    }
   ],
   "source": [
    "df['2007'].to_list()"
   ]
  },
  {
   "cell_type": "code",
   "execution_count": null,
   "id": "9dc20b46",
   "metadata": {},
   "outputs": [
    {
     "data": {
      "text/html": [
       "<div>\n",
       "<style scoped>\n",
       "    .dataframe tbody tr th:only-of-type {\n",
       "        vertical-align: middle;\n",
       "    }\n",
       "\n",
       "    .dataframe tbody tr th {\n",
       "        vertical-align: top;\n",
       "    }\n",
       "\n",
       "    .dataframe thead th {\n",
       "        text-align: right;\n",
       "    }\n",
       "</style>\n",
       "<table border=\"1\" class=\"dataframe\">\n",
       "  <thead>\n",
       "    <tr style=\"text-align: right;\">\n",
       "      <th></th>\n",
       "      <th>2007</th>\n",
       "      <th>2008</th>\n",
       "      <th>2009</th>\n",
       "      <th>2010</th>\n",
       "      <th>2011</th>\n",
       "    </tr>\n",
       "  </thead>\n",
       "  <tbody>\n",
       "    <tr>\n",
       "      <th>count</th>\n",
       "      <td>6.000000</td>\n",
       "      <td>6.000000</td>\n",
       "      <td>6.000000</td>\n",
       "      <td>6.000000</td>\n",
       "      <td>6.000000</td>\n",
       "    </tr>\n",
       "    <tr>\n",
       "      <th>mean</th>\n",
       "      <td>9.020000</td>\n",
       "      <td>8.461667</td>\n",
       "      <td>7.506667</td>\n",
       "      <td>9.280000</td>\n",
       "      <td>9.541667</td>\n",
       "    </tr>\n",
       "    <tr>\n",
       "      <th>std</th>\n",
       "      <td>6.019661</td>\n",
       "      <td>5.557519</td>\n",
       "      <td>5.142621</td>\n",
       "      <td>5.935921</td>\n",
       "      <td>6.105887</td>\n",
       "    </tr>\n",
       "    <tr>\n",
       "      <th>min</th>\n",
       "      <td>2.010000</td>\n",
       "      <td>2.050000</td>\n",
       "      <td>1.500000</td>\n",
       "      <td>2.250000</td>\n",
       "      <td>2.540000</td>\n",
       "    </tr>\n",
       "    <tr>\n",
       "      <th>25%</th>\n",
       "      <td>4.957500</td>\n",
       "      <td>4.822500</td>\n",
       "      <td>3.982500</td>\n",
       "      <td>5.050000</td>\n",
       "      <td>5.435000</td>\n",
       "    </tr>\n",
       "    <tr>\n",
       "      <th>50%</th>\n",
       "      <td>9.090000</td>\n",
       "      <td>8.200000</td>\n",
       "      <td>6.565000</td>\n",
       "      <td>8.345000</td>\n",
       "      <td>8.140000</td>\n",
       "    </tr>\n",
       "    <tr>\n",
       "      <th>75%</th>\n",
       "      <td>10.770000</td>\n",
       "      <td>10.235000</td>\n",
       "      <td>10.857500</td>\n",
       "      <td>14.152500</td>\n",
       "      <td>14.347500</td>\n",
       "    </tr>\n",
       "    <tr>\n",
       "      <th>max</th>\n",
       "      <td>19.020000</td>\n",
       "      <td>17.710000</td>\n",
       "      <td>15.000000</td>\n",
       "      <td>16.700000</td>\n",
       "      <td>17.480000</td>\n",
       "    </tr>\n",
       "  </tbody>\n",
       "</table>\n",
       "</div>"
      ],
      "text/plain": [
       "            2007       2008       2009       2010       2011\n",
       "count   6.000000   6.000000   6.000000   6.000000   6.000000\n",
       "mean    9.020000   8.461667   7.506667   9.280000   9.541667\n",
       "std     6.019661   5.557519   5.142621   5.935921   6.105887\n",
       "min     2.010000   2.050000   1.500000   2.250000   2.540000\n",
       "25%     4.957500   4.822500   3.982500   5.050000   5.435000\n",
       "50%     9.090000   8.200000   6.565000   8.345000   8.140000\n",
       "75%    10.770000  10.235000  10.857500  14.152500  14.347500\n",
       "max    19.020000  17.710000  15.000000  16.700000  17.480000"
      ]
     },
     "execution_count": 22,
     "metadata": {},
     "output_type": "execute_result"
    }
   ],
   "source": [
    "df.describe()"
   ]
  },
  {
   "cell_type": "code",
   "execution_count": null,
   "id": "4244650a",
   "metadata": {},
   "outputs": [
    {
     "data": {
      "text/html": [
       "<div>\n",
       "<style scoped>\n",
       "    .dataframe tbody tr th:only-of-type {\n",
       "        vertical-align: middle;\n",
       "    }\n",
       "\n",
       "    .dataframe tbody tr th {\n",
       "        vertical-align: top;\n",
       "    }\n",
       "\n",
       "    .dataframe thead th {\n",
       "        text-align: right;\n",
       "    }\n",
       "</style>\n",
       "<table border=\"1\" class=\"dataframe\">\n",
       "  <thead>\n",
       "    <tr style=\"text-align: right;\">\n",
       "      <th></th>\n",
       "      <th>2007</th>\n",
       "      <th>2008</th>\n",
       "      <th>2009</th>\n",
       "      <th>2010</th>\n",
       "      <th>2011</th>\n",
       "    </tr>\n",
       "  </thead>\n",
       "  <tbody>\n",
       "    <tr>\n",
       "      <th>2007</th>\n",
       "      <td>1.000000</td>\n",
       "      <td>0.991073</td>\n",
       "      <td>0.831447</td>\n",
       "      <td>0.769040</td>\n",
       "      <td>0.758271</td>\n",
       "    </tr>\n",
       "    <tr>\n",
       "      <th>2008</th>\n",
       "      <td>0.991073</td>\n",
       "      <td>1.000000</td>\n",
       "      <td>0.872296</td>\n",
       "      <td>0.810529</td>\n",
       "      <td>0.789512</td>\n",
       "    </tr>\n",
       "    <tr>\n",
       "      <th>2009</th>\n",
       "      <td>0.831447</td>\n",
       "      <td>0.872296</td>\n",
       "      <td>1.000000</td>\n",
       "      <td>0.988513</td>\n",
       "      <td>0.980025</td>\n",
       "    </tr>\n",
       "    <tr>\n",
       "      <th>2010</th>\n",
       "      <td>0.769040</td>\n",
       "      <td>0.810529</td>\n",
       "      <td>0.988513</td>\n",
       "      <td>1.000000</td>\n",
       "      <td>0.992667</td>\n",
       "    </tr>\n",
       "    <tr>\n",
       "      <th>2011</th>\n",
       "      <td>0.758271</td>\n",
       "      <td>0.789512</td>\n",
       "      <td>0.980025</td>\n",
       "      <td>0.992667</td>\n",
       "      <td>1.000000</td>\n",
       "    </tr>\n",
       "  </tbody>\n",
       "</table>\n",
       "</div>"
      ],
      "text/plain": [
       "          2007      2008      2009      2010      2011\n",
       "2007  1.000000  0.991073  0.831447  0.769040  0.758271\n",
       "2008  0.991073  1.000000  0.872296  0.810529  0.789512\n",
       "2009  0.831447  0.872296  1.000000  0.988513  0.980025\n",
       "2010  0.769040  0.810529  0.988513  1.000000  0.992667\n",
       "2011  0.758271  0.789512  0.980025  0.992667  1.000000"
      ]
     },
     "execution_count": 50,
     "metadata": {},
     "output_type": "execute_result"
    }
   ],
   "source": [
    "#상관분석결과\n",
    "df.corr()"
   ]
  },
  {
   "cell_type": "markdown",
   "id": "c3d6d46e",
   "metadata": {},
   "source": [
    "# 상관관계\n",
    "변수들간의 값의 변화의 유사도 \n",
    "- 음의상관: 서로 반대 방향으로 변화, 증가>감소, 감소>증가       \n",
    "- 양의상관: 서로 같은 방향으로 변화, 증가>증가, 감소>감소   "
   ]
  },
  {
   "cell_type": "markdown",
   "id": "0358e364",
   "metadata": {},
   "source": [
    "# 2007~2011년까지의 생산량을 합한 total_production 컬럼을 생성해보자"
   ]
  },
  {
   "cell_type": "code",
   "execution_count": null,
   "id": "d6f33c46",
   "metadata": {},
   "outputs": [
    {
     "data": {
      "text/html": [
       "<div>\n",
       "<style scoped>\n",
       "    .dataframe tbody tr th:only-of-type {\n",
       "        vertical-align: middle;\n",
       "    }\n",
       "\n",
       "    .dataframe tbody tr th {\n",
       "        vertical-align: top;\n",
       "    }\n",
       "\n",
       "    .dataframe thead th {\n",
       "        text-align: right;\n",
       "    }\n",
       "</style>\n",
       "<table border=\"1\" class=\"dataframe\">\n",
       "  <thead>\n",
       "    <tr style=\"text-align: right;\">\n",
       "      <th></th>\n",
       "      <th>2007</th>\n",
       "      <th>2008</th>\n",
       "      <th>2009</th>\n",
       "      <th>2010</th>\n",
       "      <th>2011</th>\n",
       "      <th>total_production</th>\n",
       "    </tr>\n",
       "  </thead>\n",
       "  <tbody>\n",
       "    <tr>\n",
       "      <th>China</th>\n",
       "      <td>7.71</td>\n",
       "      <td>7.95</td>\n",
       "      <td>11.96</td>\n",
       "      <td>15.84</td>\n",
       "      <td>16.33</td>\n",
       "      <td>59.79</td>\n",
       "    </tr>\n",
       "    <tr>\n",
       "      <th>EU</th>\n",
       "      <td>19.02</td>\n",
       "      <td>17.71</td>\n",
       "      <td>15.00</td>\n",
       "      <td>16.70</td>\n",
       "      <td>17.48</td>\n",
       "      <td>85.91</td>\n",
       "    </tr>\n",
       "    <tr>\n",
       "      <th>US</th>\n",
       "      <td>10.47</td>\n",
       "      <td>8.45</td>\n",
       "      <td>5.58</td>\n",
       "      <td>7.60</td>\n",
       "      <td>8.40</td>\n",
       "      <td>40.50</td>\n",
       "    </tr>\n",
       "    <tr>\n",
       "      <th>Japan</th>\n",
       "      <td>10.87</td>\n",
       "      <td>10.83</td>\n",
       "      <td>7.55</td>\n",
       "      <td>9.09</td>\n",
       "      <td>7.88</td>\n",
       "      <td>46.22</td>\n",
       "    </tr>\n",
       "    <tr>\n",
       "      <th>Korea</th>\n",
       "      <td>4.04</td>\n",
       "      <td>3.78</td>\n",
       "      <td>3.45</td>\n",
       "      <td>4.20</td>\n",
       "      <td>4.62</td>\n",
       "      <td>20.09</td>\n",
       "    </tr>\n",
       "    <tr>\n",
       "      <th>Mexico</th>\n",
       "      <td>2.01</td>\n",
       "      <td>2.05</td>\n",
       "      <td>1.50</td>\n",
       "      <td>2.25</td>\n",
       "      <td>2.54</td>\n",
       "      <td>10.35</td>\n",
       "    </tr>\n",
       "  </tbody>\n",
       "</table>\n",
       "</div>"
      ],
      "text/plain": [
       "         2007   2008   2009   2010   2011  total_production\n",
       "China    7.71   7.95  11.96  15.84  16.33             59.79\n",
       "EU      19.02  17.71  15.00  16.70  17.48             85.91\n",
       "US      10.47   8.45   5.58   7.60   8.40             40.50\n",
       "Japan   10.87  10.83   7.55   9.09   7.88             46.22\n",
       "Korea    4.04   3.78   3.45   4.20   4.62             20.09\n",
       "Mexico   2.01   2.05   1.50   2.25   2.54             10.35"
      ]
     },
     "execution_count": 52,
     "metadata": {},
     "output_type": "execute_result"
    }
   ],
   "source": [
    "# 2007~2011년까지의 생산량을 함한 total_production 컬럼을 생성해보자\n",
    "df['total_production'] = df.sum(axis=1, numeric_only=True)\n",
    "df"
   ]
  },
  {
   "cell_type": "code",
   "execution_count": null,
   "id": "12db5b96",
   "metadata": {},
   "outputs": [
    {
     "data": {
      "text/html": [
       "<div>\n",
       "<style scoped>\n",
       "    .dataframe tbody tr th:only-of-type {\n",
       "        vertical-align: middle;\n",
       "    }\n",
       "\n",
       "    .dataframe tbody tr th {\n",
       "        vertical-align: top;\n",
       "    }\n",
       "\n",
       "    .dataframe thead th {\n",
       "        text-align: right;\n",
       "    }\n",
       "</style>\n",
       "<table border=\"1\" class=\"dataframe\">\n",
       "  <thead>\n",
       "    <tr style=\"text-align: right;\">\n",
       "      <th></th>\n",
       "      <th>2007</th>\n",
       "      <th>2008</th>\n",
       "      <th>2009</th>\n",
       "      <th>2010</th>\n",
       "      <th>2011</th>\n",
       "      <th>total_production</th>\n",
       "    </tr>\n",
       "  </thead>\n",
       "  <tbody>\n",
       "    <tr>\n",
       "      <th>China</th>\n",
       "      <td>7.71</td>\n",
       "      <td>7.95</td>\n",
       "      <td>11.96</td>\n",
       "      <td>15.84</td>\n",
       "      <td>16.33</td>\n",
       "      <td>59.79</td>\n",
       "    </tr>\n",
       "    <tr>\n",
       "      <th>EU</th>\n",
       "      <td>19.02</td>\n",
       "      <td>17.71</td>\n",
       "      <td>15.00</td>\n",
       "      <td>16.70</td>\n",
       "      <td>17.48</td>\n",
       "      <td>85.91</td>\n",
       "    </tr>\n",
       "    <tr>\n",
       "      <th>US</th>\n",
       "      <td>10.47</td>\n",
       "      <td>8.45</td>\n",
       "      <td>5.58</td>\n",
       "      <td>7.60</td>\n",
       "      <td>8.40</td>\n",
       "      <td>40.50</td>\n",
       "    </tr>\n",
       "    <tr>\n",
       "      <th>Japan</th>\n",
       "      <td>10.87</td>\n",
       "      <td>10.83</td>\n",
       "      <td>7.55</td>\n",
       "      <td>9.09</td>\n",
       "      <td>7.88</td>\n",
       "      <td>46.22</td>\n",
       "    </tr>\n",
       "    <tr>\n",
       "      <th>Korea</th>\n",
       "      <td>4.04</td>\n",
       "      <td>3.78</td>\n",
       "      <td>3.45</td>\n",
       "      <td>4.20</td>\n",
       "      <td>4.62</td>\n",
       "      <td>20.09</td>\n",
       "    </tr>\n",
       "    <tr>\n",
       "      <th>Mexico</th>\n",
       "      <td>2.01</td>\n",
       "      <td>2.05</td>\n",
       "      <td>1.50</td>\n",
       "      <td>2.25</td>\n",
       "      <td>2.54</td>\n",
       "      <td>10.35</td>\n",
       "    </tr>\n",
       "    <tr>\n",
       "      <th>total</th>\n",
       "      <td>54.12</td>\n",
       "      <td>50.77</td>\n",
       "      <td>45.04</td>\n",
       "      <td>55.68</td>\n",
       "      <td>57.25</td>\n",
       "      <td>262.86</td>\n",
       "    </tr>\n",
       "  </tbody>\n",
       "</table>\n",
       "</div>"
      ],
      "text/plain": [
       "         2007   2008   2009   2010   2011  total_production\n",
       "China    7.71   7.95  11.96  15.84  16.33             59.79\n",
       "EU      19.02  17.71  15.00  16.70  17.48             85.91\n",
       "US      10.47   8.45   5.58   7.60   8.40             40.50\n",
       "Japan   10.87  10.83   7.55   9.09   7.88             46.22\n",
       "Korea    4.04   3.78   3.45   4.20   4.62             20.09\n",
       "Mexico   2.01   2.05   1.50   2.25   2.54             10.35\n",
       "total   54.12  50.77  45.04  55.68  57.25            262.86"
      ]
     },
     "execution_count": 53,
     "metadata": {},
     "output_type": "execute_result"
    }
   ],
   "source": [
    "#total 행으로 추가\n",
    "df.loc['total'] = df.sum(numeric_only=True)\n",
    "df"
   ]
  },
  {
   "cell_type": "code",
   "execution_count": null,
   "id": "2fbb99ae",
   "metadata": {},
   "outputs": [],
   "source": [
    "# 시리즈 생성\n",
    "month_se = pd.Series(['1월', '2월', '3월', '4월'])\n",
    "income_se = pd.Series([9500, 6200, 6050, 7000])\n",
    "expenses_se = pd.Series([5040, 2350, 2300, 4800])\n",
    "\n",
    "# 데이터프레임 생성\n",
    "store_df = pd.DataFrame({\n",
    "    '월': month_se,\n",
    "    '수입': income_se,\n",
    "    '지출': expenses_se\n",
    "})\n",
    "\n",
    "# 순수입 컬럼 추가하기\n"
   ]
  },
  {
   "cell_type": "code",
   "execution_count": null,
   "id": "0e647db4",
   "metadata": {},
   "outputs": [
    {
     "data": {
      "text/html": [
       "<div>\n",
       "<style scoped>\n",
       "    .dataframe tbody tr th:only-of-type {\n",
       "        vertical-align: middle;\n",
       "    }\n",
       "\n",
       "    .dataframe tbody tr th {\n",
       "        vertical-align: top;\n",
       "    }\n",
       "\n",
       "    .dataframe thead th {\n",
       "        text-align: right;\n",
       "    }\n",
       "</style>\n",
       "<table border=\"1\" class=\"dataframe\">\n",
       "  <thead>\n",
       "    <tr style=\"text-align: right;\">\n",
       "      <th></th>\n",
       "      <th>월</th>\n",
       "      <th>수입</th>\n",
       "      <th>지출</th>\n",
       "      <th>순수입</th>\n",
       "    </tr>\n",
       "  </thead>\n",
       "  <tbody>\n",
       "    <tr>\n",
       "      <th>0</th>\n",
       "      <td>1월</td>\n",
       "      <td>9500</td>\n",
       "      <td>5040</td>\n",
       "      <td>4460</td>\n",
       "    </tr>\n",
       "    <tr>\n",
       "      <th>1</th>\n",
       "      <td>2월</td>\n",
       "      <td>6200</td>\n",
       "      <td>2350</td>\n",
       "      <td>3850</td>\n",
       "    </tr>\n",
       "    <tr>\n",
       "      <th>2</th>\n",
       "      <td>3월</td>\n",
       "      <td>6050</td>\n",
       "      <td>2300</td>\n",
       "      <td>3750</td>\n",
       "    </tr>\n",
       "    <tr>\n",
       "      <th>3</th>\n",
       "      <td>4월</td>\n",
       "      <td>7000</td>\n",
       "      <td>4800</td>\n",
       "      <td>2200</td>\n",
       "    </tr>\n",
       "  </tbody>\n",
       "</table>\n",
       "</div>"
      ],
      "text/plain": [
       "    월    수입    지출   순수입\n",
       "0  1월  9500  5040  4460\n",
       "1  2월  6200  2350  3850\n",
       "2  3월  6050  2300  3750\n",
       "3  4월  7000  4800  2200"
      ]
     },
     "execution_count": 56,
     "metadata": {},
     "output_type": "execute_result"
    }
   ],
   "source": [
    "store_df['순수입'] = store_df['수입']-store_df['지출']\n",
    "store_df"
   ]
  },
  {
   "cell_type": "markdown",
   "id": "98e164b2",
   "metadata": {},
   "source": [
    "# 시각화\n"
   ]
  },
  {
   "cell_type": "code",
   "execution_count": null,
   "id": "10cf1b0f",
   "metadata": {},
   "outputs": [
    {
     "data": {
      "text/html": [
       "<div>\n",
       "<style scoped>\n",
       "    .dataframe tbody tr th:only-of-type {\n",
       "        vertical-align: middle;\n",
       "    }\n",
       "\n",
       "    .dataframe tbody tr th {\n",
       "        vertical-align: top;\n",
       "    }\n",
       "\n",
       "    .dataframe thead th {\n",
       "        text-align: right;\n",
       "    }\n",
       "</style>\n",
       "<table border=\"1\" class=\"dataframe\">\n",
       "  <thead>\n",
       "    <tr style=\"text-align: right;\">\n",
       "      <th></th>\n",
       "      <th>2007</th>\n",
       "      <th>2008</th>\n",
       "      <th>2009</th>\n",
       "      <th>2010</th>\n",
       "      <th>2011</th>\n",
       "    </tr>\n",
       "  </thead>\n",
       "  <tbody>\n",
       "    <tr>\n",
       "      <th>China</th>\n",
       "      <td>7.71</td>\n",
       "      <td>7.95</td>\n",
       "      <td>11.96</td>\n",
       "      <td>15.84</td>\n",
       "      <td>16.33</td>\n",
       "    </tr>\n",
       "    <tr>\n",
       "      <th>EU</th>\n",
       "      <td>19.02</td>\n",
       "      <td>17.71</td>\n",
       "      <td>15.00</td>\n",
       "      <td>16.70</td>\n",
       "      <td>17.48</td>\n",
       "    </tr>\n",
       "    <tr>\n",
       "      <th>US</th>\n",
       "      <td>10.47</td>\n",
       "      <td>8.45</td>\n",
       "      <td>5.58</td>\n",
       "      <td>7.60</td>\n",
       "      <td>8.40</td>\n",
       "    </tr>\n",
       "    <tr>\n",
       "      <th>Japan</th>\n",
       "      <td>10.87</td>\n",
       "      <td>10.83</td>\n",
       "      <td>7.55</td>\n",
       "      <td>9.09</td>\n",
       "      <td>7.88</td>\n",
       "    </tr>\n",
       "    <tr>\n",
       "      <th>Korea</th>\n",
       "      <td>4.04</td>\n",
       "      <td>3.78</td>\n",
       "      <td>3.45</td>\n",
       "      <td>4.20</td>\n",
       "      <td>4.62</td>\n",
       "    </tr>\n",
       "    <tr>\n",
       "      <th>Mexico</th>\n",
       "      <td>2.01</td>\n",
       "      <td>2.05</td>\n",
       "      <td>1.50</td>\n",
       "      <td>2.25</td>\n",
       "      <td>2.54</td>\n",
       "    </tr>\n",
       "  </tbody>\n",
       "</table>\n",
       "</div>"
      ],
      "text/plain": [
       "         2007   2008   2009   2010   2011\n",
       "China    7.71   7.95  11.96  15.84  16.33\n",
       "EU      19.02  17.71  15.00  16.70  17.48\n",
       "US      10.47   8.45   5.58   7.60   8.40\n",
       "Japan   10.87  10.83   7.55   9.09   7.88\n",
       "Korea    4.04   3.78   3.45   4.20   4.62\n",
       "Mexico   2.01   2.05   1.50   2.25   2.54"
      ]
     },
     "execution_count": 60,
     "metadata": {},
     "output_type": "execute_result"
    }
   ],
   "source": [
    "# 국가명 컬럼으로 인데스\n",
    "df = pd.read_csv('abc/data/vehicle_prod.csv', index_col=0)\n",
    "df"
   ]
  },
  {
   "cell_type": "code",
   "execution_count": null,
   "id": "8d66f417",
   "metadata": {},
   "outputs": [
    {
     "data": {
      "text/plain": [
       "<Axes: >"
      ]
     },
     "execution_count": 62,
     "metadata": {},
     "output_type": "execute_result"
    },
    {
     "data": {
      "image/png": "[encoded data removed]",
      "text/plain": [
       "<Figure size 640x480 with 1 Axes>"
      ]
     },
     "metadata": {},
     "output_type": "display_data"
    }
   ],
   "source": [
    "df.plot.line()"
   ]
  },
  {
   "cell_type": "code",
   "execution_count": null,
   "id": "0a910b66",
   "metadata": {},
   "outputs": [
    {
     "data": {
      "text/plain": [
       "<Axes: xlabel='country', ylabel='Production'>"
      ]
     },
     "execution_count": 64,
     "metadata": {},
     "output_type": "execute_result"
    },
    {
     "data": {
      "image/png": "[encoded data removed]",
      "text/plain": [
       "<Figure size 640x480 with 1 Axes>"
      ]
     },
     "metadata": {},
     "output_type": "display_data"
    }
   ],
   "source": [
    "ax = df.plot.bar()\n",
    "ax.set_xlabel('country')\n",
    "ax.set_ylabel('Production')\n",
    "ax"
   ]
  },
  {
   "cell_type": "code",
   "execution_count": null,
   "id": "5832f4db",
   "metadata": {},
   "outputs": [
    {
     "data": {
      "text/html": [
       "<div>\n",
       "<style scoped>\n",
       "    .dataframe tbody tr th:only-of-type {\n",
       "        vertical-align: middle;\n",
       "    }\n",
       "\n",
       "    .dataframe tbody tr th {\n",
       "        vertical-align: top;\n",
       "    }\n",
       "\n",
       "    .dataframe thead th {\n",
       "        text-align: right;\n",
       "    }\n",
       "</style>\n",
       "<table border=\"1\" class=\"dataframe\">\n",
       "  <thead>\n",
       "    <tr style=\"text-align: right;\">\n",
       "      <th></th>\n",
       "      <th>China</th>\n",
       "      <th>EU</th>\n",
       "      <th>US</th>\n",
       "      <th>Japan</th>\n",
       "      <th>Korea</th>\n",
       "      <th>Mexico</th>\n",
       "    </tr>\n",
       "  </thead>\n",
       "  <tbody>\n",
       "    <tr>\n",
       "      <th>2007</th>\n",
       "      <td>7.71</td>\n",
       "      <td>19.02</td>\n",
       "      <td>10.47</td>\n",
       "      <td>10.87</td>\n",
       "      <td>4.04</td>\n",
       "      <td>2.01</td>\n",
       "    </tr>\n",
       "    <tr>\n",
       "      <th>2008</th>\n",
       "      <td>7.95</td>\n",
       "      <td>17.71</td>\n",
       "      <td>8.45</td>\n",
       "      <td>10.83</td>\n",
       "      <td>3.78</td>\n",
       "      <td>2.05</td>\n",
       "    </tr>\n",
       "    <tr>\n",
       "      <th>2009</th>\n",
       "      <td>11.96</td>\n",
       "      <td>15.00</td>\n",
       "      <td>5.58</td>\n",
       "      <td>7.55</td>\n",
       "      <td>3.45</td>\n",
       "      <td>1.50</td>\n",
       "    </tr>\n",
       "    <tr>\n",
       "      <th>2010</th>\n",
       "      <td>15.84</td>\n",
       "      <td>16.70</td>\n",
       "      <td>7.60</td>\n",
       "      <td>9.09</td>\n",
       "      <td>4.20</td>\n",
       "      <td>2.25</td>\n",
       "    </tr>\n",
       "    <tr>\n",
       "      <th>2011</th>\n",
       "      <td>16.33</td>\n",
       "      <td>17.48</td>\n",
       "      <td>8.40</td>\n",
       "      <td>7.88</td>\n",
       "      <td>4.62</td>\n",
       "      <td>2.54</td>\n",
       "    </tr>\n",
       "  </tbody>\n",
       "</table>\n",
       "</div>"
      ],
      "text/plain": [
       "      China     EU     US  Japan  Korea  Mexico\n",
       "2007   7.71  19.02  10.47  10.87   4.04    2.01\n",
       "2008   7.95  17.71   8.45  10.83   3.78    2.05\n",
       "2009  11.96  15.00   5.58   7.55   3.45    1.50\n",
       "2010  15.84  16.70   7.60   9.09   4.20    2.25\n",
       "2011  16.33  17.48   8.40   7.88   4.62    2.54"
      ]
     },
     "execution_count": 65,
     "metadata": {},
     "output_type": "execute_result"
    }
   ],
   "source": [
    "df.transpose()"
   ]
  },
  {
   "cell_type": "code",
   "execution_count": null,
   "id": "fe829259",
   "metadata": {},
   "outputs": [
    {
     "data": {
      "text/html": [
       "<div>\n",
       "<style scoped>\n",
       "    .dataframe tbody tr th:only-of-type {\n",
       "        vertical-align: middle;\n",
       "    }\n",
       "\n",
       "    .dataframe tbody tr th {\n",
       "        vertical-align: top;\n",
       "    }\n",
       "\n",
       "    .dataframe thead th {\n",
       "        text-align: right;\n",
       "    }\n",
       "</style>\n",
       "<table border=\"1\" class=\"dataframe\">\n",
       "  <thead>\n",
       "    <tr style=\"text-align: right;\">\n",
       "      <th></th>\n",
       "      <th>China</th>\n",
       "      <th>EU</th>\n",
       "      <th>US</th>\n",
       "      <th>Japan</th>\n",
       "      <th>Korea</th>\n",
       "      <th>Mexico</th>\n",
       "    </tr>\n",
       "  </thead>\n",
       "  <tbody>\n",
       "    <tr>\n",
       "      <th>2007</th>\n",
       "      <td>7.71</td>\n",
       "      <td>19.02</td>\n",
       "      <td>10.47</td>\n",
       "      <td>10.87</td>\n",
       "      <td>4.04</td>\n",
       "      <td>2.01</td>\n",
       "    </tr>\n",
       "    <tr>\n",
       "      <th>2008</th>\n",
       "      <td>7.95</td>\n",
       "      <td>17.71</td>\n",
       "      <td>8.45</td>\n",
       "      <td>10.83</td>\n",
       "      <td>3.78</td>\n",
       "      <td>2.05</td>\n",
       "    </tr>\n",
       "    <tr>\n",
       "      <th>2009</th>\n",
       "      <td>11.96</td>\n",
       "      <td>15.00</td>\n",
       "      <td>5.58</td>\n",
       "      <td>7.55</td>\n",
       "      <td>3.45</td>\n",
       "      <td>1.50</td>\n",
       "    </tr>\n",
       "    <tr>\n",
       "      <th>2010</th>\n",
       "      <td>15.84</td>\n",
       "      <td>16.70</td>\n",
       "      <td>7.60</td>\n",
       "      <td>9.09</td>\n",
       "      <td>4.20</td>\n",
       "      <td>2.25</td>\n",
       "    </tr>\n",
       "    <tr>\n",
       "      <th>2011</th>\n",
       "      <td>16.33</td>\n",
       "      <td>17.48</td>\n",
       "      <td>8.40</td>\n",
       "      <td>7.88</td>\n",
       "      <td>4.62</td>\n",
       "      <td>2.54</td>\n",
       "    </tr>\n",
       "  </tbody>\n",
       "</table>\n",
       "</div>"
      ],
      "text/plain": [
       "      China     EU     US  Japan  Korea  Mexico\n",
       "2007   7.71  19.02  10.47  10.87   4.04    2.01\n",
       "2008   7.95  17.71   8.45  10.83   3.78    2.05\n",
       "2009  11.96  15.00   5.58   7.55   3.45    1.50\n",
       "2010  15.84  16.70   7.60   9.09   4.20    2.25\n",
       "2011  16.33  17.48   8.40   7.88   4.62    2.54"
      ]
     },
     "execution_count": 67,
     "metadata": {},
     "output_type": "execute_result"
    }
   ],
   "source": [
    "df.T"
   ]
  },
  {
   "cell_type": "code",
   "execution_count": null,
   "id": "7aee5b00",
   "metadata": {},
   "outputs": [
    {
     "data": {
      "text/plain": [
       "<Axes: >"
      ]
     },
     "execution_count": 68,
     "metadata": {},
     "output_type": "execute_result"
    },
    {
     "data": {
      "image/png": "[encoded data removed]",
      "text/plain": [
       "<Figure size 640x480 with 1 Axes>"
      ]
     },
     "metadata": {},
     "output_type": "display_data"
    }
   ],
   "source": [
    "df_year = df.T\n",
    "df_year.plot.line()"
   ]
  },
  {
   "cell_type": "markdown",
   "id": "6a5fbeec",
   "metadata": {},
   "source": [
    "# 결측지 np.nan, pd.NA"
   ]
  },
  {
   "cell_type": "code",
   "execution_count": null,
   "id": "ffafd78d",
   "metadata": {},
   "outputs": [
    {
     "data": {
      "text/plain": [
       "False"
      ]
     },
     "execution_count": 69,
     "metadata": {},
     "output_type": "execute_result"
    }
   ],
   "source": [
    "import numpy as np\n",
    "np.nan == 0"
   ]
  },
  {
   "cell_type": "code",
   "execution_count": null,
   "id": "f34cec70",
   "metadata": {},
   "outputs": [
    {
     "data": {
      "text/plain": [
       "[1, 2, nan, 4]"
      ]
     },
     "execution_count": 70,
     "metadata": {},
     "output_type": "execute_result"
    }
   ],
   "source": [
    "x = [1,2, np.nan, 4]\n",
    "x"
   ]
  },
  {
   "cell_type": "code",
   "execution_count": null,
   "id": "d7a41058",
   "metadata": {},
   "outputs": [
    {
     "data": {
      "text/plain": [
       "array([False, False,  True, False])"
      ]
     },
     "execution_count": 72,
     "metadata": {},
     "output_type": "execute_result"
    }
   ],
   "source": [
    "import pandas as pd\n",
    "pd.NA #NaN이라는 뜻\n",
    "pd.isna(x)"
   ]
  },
  {
   "cell_type": "code",
   "execution_count": null,
   "id": "73fad7b4",
   "metadata": {},
   "outputs": [
    {
     "data": {
      "text/plain": [
       "<NA>"
      ]
     },
     "execution_count": 73,
     "metadata": {},
     "output_type": "execute_result"
    }
   ],
   "source": [
    "pd.NA == np.nan"
   ]
  },
  {
   "cell_type": "code",
   "execution_count": null,
   "id": "c2d2b8c0",
   "metadata": {},
   "outputs": [
    {
     "data": {
      "text/plain": [
       "True"
      ]
     },
     "execution_count": 74,
     "metadata": {},
     "output_type": "execute_result"
    }
   ],
   "source": [
    "pd.isnull(np.nan)"
   ]
  },
  {
   "cell_type": "code",
   "execution_count": null,
   "id": "4377af51",
   "metadata": {},
   "outputs": [
    {
     "data": {
      "text/html": [
       "<div>\n",
       "<style scoped>\n",
       "    .dataframe tbody tr th:only-of-type {\n",
       "        vertical-align: middle;\n",
       "    }\n",
       "\n",
       "    .dataframe tbody tr th {\n",
       "        vertical-align: top;\n",
       "    }\n",
       "\n",
       "    .dataframe thead th {\n",
       "        text-align: right;\n",
       "    }\n",
       "</style>\n",
       "<table border=\"1\" class=\"dataframe\">\n",
       "  <thead>\n",
       "    <tr style=\"text-align: right;\">\n",
       "      <th></th>\n",
       "      <th>name</th>\n",
       "      <th>age</th>\n",
       "      <th>score</th>\n",
       "      <th>city</th>\n",
       "    </tr>\n",
       "  </thead>\n",
       "  <tbody>\n",
       "    <tr>\n",
       "      <th>0</th>\n",
       "      <td>Alice</td>\n",
       "      <td>25.0</td>\n",
       "      <td>90.0</td>\n",
       "      <td>Seoul</td>\n",
       "    </tr>\n",
       "    <tr>\n",
       "      <th>1</th>\n",
       "      <td>Bob</td>\n",
       "      <td>NaN</td>\n",
       "      <td>85.0</td>\n",
       "      <td>Busan</td>\n",
       "    </tr>\n",
       "    <tr>\n",
       "      <th>2</th>\n",
       "      <td>Charlie</td>\n",
       "      <td>30.0</td>\n",
       "      <td>NaN</td>\n",
       "      <td>NaN</td>\n",
       "    </tr>\n",
       "    <tr>\n",
       "      <th>3</th>\n",
       "      <td>David</td>\n",
       "      <td>22.0</td>\n",
       "      <td>88.0</td>\n",
       "      <td>Incheon</td>\n",
       "    </tr>\n",
       "    <tr>\n",
       "      <th>4</th>\n",
       "      <td>Eva</td>\n",
       "      <td>NaN</td>\n",
       "      <td>95.0</td>\n",
       "      <td>Seoul</td>\n",
       "    </tr>\n",
       "  </tbody>\n",
       "</table>\n",
       "</div>"
      ],
      "text/plain": [
       "      name   age  score     city\n",
       "0    Alice  25.0   90.0    Seoul\n",
       "1      Bob   NaN   85.0    Busan\n",
       "2  Charlie  30.0    NaN      NaN\n",
       "3    David  22.0   88.0  Incheon\n",
       "4      Eva   NaN   95.0    Seoul"
      ]
     },
     "execution_count": 75,
     "metadata": {},
     "output_type": "execute_result"
    }
   ],
   "source": [
    "import pandas as pd\n",
    "import numpy as np\n",
    "\n",
    "data = {\n",
    "    'name': ['Alice', 'Bob', 'Charlie', 'David', 'Eva'],\n",
    "    'age': [25, np.nan, 30, 22, np.nan],\n",
    "    'score': [90, 85, np.nan, 88, 95],\n",
    "    'city': ['Seoul', 'Busan', np.nan, 'Incheon', 'Seoul']\n",
    "}\n",
    "\n",
    "df = pd.DataFrame(data)\n",
    "df"
   ]
  },
  {
   "cell_type": "code",
   "execution_count": null,
   "id": "b56f85d4",
   "metadata": {},
   "outputs": [
    {
     "data": {
      "text/plain": [
       "name     0\n",
       "age      2\n",
       "score    1\n",
       "city     1\n",
       "dtype: int64"
      ]
     },
     "execution_count": 77,
     "metadata": {},
     "output_type": "execute_result"
    }
   ],
   "source": [
    "df.isnull().sum()"
   ]
  },
  {
   "cell_type": "code",
   "execution_count": null,
   "id": "5fb140a1",
   "metadata": {},
   "outputs": [
    {
     "data": {
      "text/plain": [
       "name     0\n",
       "age      2\n",
       "score    1\n",
       "city     1\n",
       "dtype: int64"
      ]
     },
     "execution_count": 80,
     "metadata": {},
     "output_type": "execute_result"
    }
   ],
   "source": [
    "df.isna().sum()"
   ]
  },
  {
   "cell_type": "code",
   "execution_count": null,
   "id": "34870822",
   "metadata": {},
   "outputs": [
    {
     "name": "stdout",
     "output_type": "stream",
     "text": [
      "<class 'pandas.core.frame.DataFrame'>\n",
      "RangeIndex: 5 entries, 0 to 4\n",
      "Data columns (total 4 columns):\n",
      " #   Column  Non-Null Count  Dtype  \n",
      "---  ------  --------------  -----  \n",
      " 0   name    5 non-null      object \n",
      " 1   age     3 non-null      float64\n",
      " 2   score   4 non-null      float64\n",
      " 3   city    4 non-null      object \n",
      "dtypes: float64(2), object(2)\n",
      "memory usage: 292.0+ bytes\n"
     ]
    }
   ],
   "source": [
    "df.info()"
   ]
  },
  {
   "cell_type": "code",
   "execution_count": null,
   "id": "7e864142",
   "metadata": {},
   "outputs": [
    {
     "data": {
      "text/html": [
       "<div>\n",
       "<style scoped>\n",
       "    .dataframe tbody tr th:only-of-type {\n",
       "        vertical-align: middle;\n",
       "    }\n",
       "\n",
       "    .dataframe tbody tr th {\n",
       "        vertical-align: top;\n",
       "    }\n",
       "\n",
       "    .dataframe thead th {\n",
       "        text-align: right;\n",
       "    }\n",
       "</style>\n",
       "<table border=\"1\" class=\"dataframe\">\n",
       "  <thead>\n",
       "    <tr style=\"text-align: right;\">\n",
       "      <th></th>\n",
       "      <th>name</th>\n",
       "      <th>age</th>\n",
       "      <th>score</th>\n",
       "      <th>city</th>\n",
       "    </tr>\n",
       "  </thead>\n",
       "  <tbody>\n",
       "    <tr>\n",
       "      <th>0</th>\n",
       "      <td>Alice</td>\n",
       "      <td>25.0</td>\n",
       "      <td>90.0</td>\n",
       "      <td>Seoul</td>\n",
       "    </tr>\n",
       "    <tr>\n",
       "      <th>3</th>\n",
       "      <td>David</td>\n",
       "      <td>22.0</td>\n",
       "      <td>88.0</td>\n",
       "      <td>Incheon</td>\n",
       "    </tr>\n",
       "  </tbody>\n",
       "</table>\n",
       "</div>"
      ],
      "text/plain": [
       "    name   age  score     city\n",
       "0  Alice  25.0   90.0    Seoul\n",
       "3  David  22.0   88.0  Incheon"
      ]
     },
     "execution_count": 82,
     "metadata": {},
     "output_type": "execute_result"
    }
   ],
   "source": [
    "# 결측치 제거\n",
    "df.dropna() #행전체를 제거"
   ]
  },
  {
   "cell_type": "code",
   "execution_count": null,
   "id": "5ff76920",
   "metadata": {},
   "outputs": [
    {
     "data": {
      "text/html": [
       "<div>\n",
       "<style scoped>\n",
       "    .dataframe tbody tr th:only-of-type {\n",
       "        vertical-align: middle;\n",
       "    }\n",
       "\n",
       "    .dataframe tbody tr th {\n",
       "        vertical-align: top;\n",
       "    }\n",
       "\n",
       "    .dataframe thead th {\n",
       "        text-align: right;\n",
       "    }\n",
       "</style>\n",
       "<table border=\"1\" class=\"dataframe\">\n",
       "  <thead>\n",
       "    <tr style=\"text-align: right;\">\n",
       "      <th></th>\n",
       "      <th>name</th>\n",
       "    </tr>\n",
       "  </thead>\n",
       "  <tbody>\n",
       "    <tr>\n",
       "      <th>0</th>\n",
       "      <td>Alice</td>\n",
       "    </tr>\n",
       "    <tr>\n",
       "      <th>1</th>\n",
       "      <td>Bob</td>\n",
       "    </tr>\n",
       "    <tr>\n",
       "      <th>2</th>\n",
       "      <td>Charlie</td>\n",
       "    </tr>\n",
       "    <tr>\n",
       "      <th>3</th>\n",
       "      <td>David</td>\n",
       "    </tr>\n",
       "    <tr>\n",
       "      <th>4</th>\n",
       "      <td>Eva</td>\n",
       "    </tr>\n",
       "  </tbody>\n",
       "</table>\n",
       "</div>"
      ],
      "text/plain": [
       "      name\n",
       "0    Alice\n",
       "1      Bob\n",
       "2  Charlie\n",
       "3    David\n",
       "4      Eva"
      ]
     },
     "execution_count": 88,
     "metadata": {},
     "output_type": "execute_result"
    }
   ],
   "source": [
    "df.dropna(axis=1) #열전체 제거"
   ]
  },
  {
   "cell_type": "code",
   "execution_count": null,
   "id": "d7d83e17",
   "metadata": {},
   "outputs": [
    {
     "data": {
      "text/html": [
       "<div>\n",
       "<style scoped>\n",
       "    .dataframe tbody tr th:only-of-type {\n",
       "        vertical-align: middle;\n",
       "    }\n",
       "\n",
       "    .dataframe tbody tr th {\n",
       "        vertical-align: top;\n",
       "    }\n",
       "\n",
       "    .dataframe thead th {\n",
       "        text-align: right;\n",
       "    }\n",
       "</style>\n",
       "<table border=\"1\" class=\"dataframe\">\n",
       "  <thead>\n",
       "    <tr style=\"text-align: right;\">\n",
       "      <th></th>\n",
       "      <th>name</th>\n",
       "      <th>age</th>\n",
       "      <th>score</th>\n",
       "      <th>city</th>\n",
       "    </tr>\n",
       "  </thead>\n",
       "  <tbody>\n",
       "    <tr>\n",
       "      <th>0</th>\n",
       "      <td>Alice</td>\n",
       "      <td>25.0</td>\n",
       "      <td>90.0</td>\n",
       "      <td>Seoul</td>\n",
       "    </tr>\n",
       "    <tr>\n",
       "      <th>1</th>\n",
       "      <td>Bob</td>\n",
       "      <td>NaN</td>\n",
       "      <td>85.0</td>\n",
       "      <td>Busan</td>\n",
       "    </tr>\n",
       "    <tr>\n",
       "      <th>3</th>\n",
       "      <td>David</td>\n",
       "      <td>22.0</td>\n",
       "      <td>88.0</td>\n",
       "      <td>Incheon</td>\n",
       "    </tr>\n",
       "    <tr>\n",
       "      <th>4</th>\n",
       "      <td>Eva</td>\n",
       "      <td>NaN</td>\n",
       "      <td>95.0</td>\n",
       "      <td>Seoul</td>\n",
       "    </tr>\n",
       "  </tbody>\n",
       "</table>\n",
       "</div>"
      ],
      "text/plain": [
       "    name   age  score     city\n",
       "0  Alice  25.0   90.0    Seoul\n",
       "1    Bob   NaN   85.0    Busan\n",
       "3  David  22.0   88.0  Incheon\n",
       "4    Eva   NaN   95.0    Seoul"
      ]
     },
     "execution_count": 91,
     "metadata": {},
     "output_type": "execute_result"
    }
   ],
   "source": [
    "df.dropna(subset='score') #해당컬럼의 na가 있는 행을 삭제"
   ]
  },
  {
   "cell_type": "code",
   "execution_count": null,
   "id": "be55a829",
   "metadata": {},
   "outputs": [
    {
     "data": {
      "text/html": [
       "<div>\n",
       "<style scoped>\n",
       "    .dataframe tbody tr th:only-of-type {\n",
       "        vertical-align: middle;\n",
       "    }\n",
       "\n",
       "    .dataframe tbody tr th {\n",
       "        vertical-align: top;\n",
       "    }\n",
       "\n",
       "    .dataframe thead th {\n",
       "        text-align: right;\n",
       "    }\n",
       "</style>\n",
       "<table border=\"1\" class=\"dataframe\">\n",
       "  <thead>\n",
       "    <tr style=\"text-align: right;\">\n",
       "      <th></th>\n",
       "      <th>name</th>\n",
       "      <th>age</th>\n",
       "      <th>score</th>\n",
       "      <th>city</th>\n",
       "    </tr>\n",
       "  </thead>\n",
       "  <tbody>\n",
       "    <tr>\n",
       "      <th>0</th>\n",
       "      <td>Alice</td>\n",
       "      <td>25.0</td>\n",
       "      <td>90.0</td>\n",
       "      <td>Seoul</td>\n",
       "    </tr>\n",
       "    <tr>\n",
       "      <th>2</th>\n",
       "      <td>Charlie</td>\n",
       "      <td>30.0</td>\n",
       "      <td>NaN</td>\n",
       "      <td>NaN</td>\n",
       "    </tr>\n",
       "    <tr>\n",
       "      <th>3</th>\n",
       "      <td>David</td>\n",
       "      <td>22.0</td>\n",
       "      <td>88.0</td>\n",
       "      <td>Incheon</td>\n",
       "    </tr>\n",
       "  </tbody>\n",
       "</table>\n",
       "</div>"
      ],
      "text/plain": [
       "      name   age  score     city\n",
       "0    Alice  25.0   90.0    Seoul\n",
       "2  Charlie  30.0    NaN      NaN\n",
       "3    David  22.0   88.0  Incheon"
      ]
     },
     "execution_count": 92,
     "metadata": {},
     "output_type": "execute_result"
    }
   ],
   "source": [
    "df.dropna(subset='age')"
   ]
  },
  {
   "cell_type": "markdown",
   "id": "6a204c71",
   "metadata": {},
   "source": [
    "# 채우기"
   ]
  },
  {
   "cell_type": "code",
   "execution_count": null,
   "id": "6b5207e0",
   "metadata": {},
   "outputs": [
    {
     "data": {
      "text/plain": [
       "0    25.0\n",
       "1     0.0\n",
       "2    30.0\n",
       "3    22.0\n",
       "4     0.0\n",
       "Name: age, dtype: float64"
      ]
     },
     "execution_count": 93,
     "metadata": {},
     "output_type": "execute_result"
    }
   ],
   "source": [
    "# column단위로 채워준다\n",
    "df['age'].fillna(0)"
   ]
  },
  {
   "cell_type": "markdown",
   "id": "bc19d78c",
   "metadata": {},
   "source": [
    "# 수치형 변수의 경우는 대표값: 평균(mena), 중앙값(median), 최빈값(mode)"
   ]
  },
  {
   "cell_type": "code",
   "execution_count": null,
   "id": "7c2c5444",
   "metadata": {},
   "outputs": [
    {
     "data": {
      "text/plain": [
       "0    25.000000\n",
       "1    25.666667\n",
       "2    30.000000\n",
       "3    22.000000\n",
       "4    25.666667\n",
       "Name: age, dtype: float64"
      ]
     },
     "execution_count": 94,
     "metadata": {},
     "output_type": "execute_result"
    }
   ],
   "source": [
    "# mean값을 계산해서 채워준다\n",
    "df['age'].fillna(df['age'].mean())"
   ]
  },
  {
   "cell_type": "code",
   "execution_count": null,
   "id": "709fa47f",
   "metadata": {},
   "outputs": [
    {
     "data": {
      "text/plain": [
       "np.float64(25.666666666666668)"
      ]
     },
     "execution_count": 95,
     "metadata": {},
     "output_type": "execute_result"
    }
   ],
   "source": [
    "df['age'].mean()"
   ]
  },
  {
   "cell_type": "code",
   "execution_count": null,
   "id": "9a366b06",
   "metadata": {},
   "outputs": [
    {
     "data": {
      "text/plain": [
       "0    90.0\n",
       "1    85.0\n",
       "2    89.0\n",
       "3    88.0\n",
       "4    95.0\n",
       "Name: score, dtype: float64"
      ]
     },
     "execution_count": 97,
     "metadata": {},
     "output_type": "execute_result"
    }
   ],
   "source": [
    "df['score'].fillna(df['score'].median())"
   ]
  },
  {
   "cell_type": "code",
   "execution_count": null,
   "id": "cbaf1a3f",
   "metadata": {},
   "outputs": [
    {
     "data": {
      "text/plain": [
       "<bound method Series.median of 0    90.0\n",
       "1    85.0\n",
       "2     NaN\n",
       "3    88.0\n",
       "4    95.0\n",
       "Name: score, dtype: float64>"
      ]
     },
     "execution_count": 99,
     "metadata": {},
     "output_type": "execute_result"
    }
   ],
   "source": [
    "df['score'].median"
   ]
  },
  {
   "cell_type": "code",
   "execution_count": null,
   "id": "1871d160",
   "metadata": {},
   "outputs": [
    {
     "data": {
      "text/plain": [
       "0    25.0\n",
       "1    25.0\n",
       "2    30.0\n",
       "3    22.0\n",
       "4     NaN\n",
       "Name: age, dtype: float64"
      ]
     },
     "execution_count": 107,
     "metadata": {},
     "output_type": "execute_result"
    }
   ],
   "source": [
    "df['age'].fillna(df['age'].mode())"
   ]
  },
  {
   "cell_type": "code",
   "execution_count": null,
   "id": "a6b7d459",
   "metadata": {},
   "outputs": [
    {
     "data": {
      "text/plain": [
       "np.float64(22.0)"
      ]
     },
     "execution_count": 109,
     "metadata": {},
     "output_type": "execute_result"
    }
   ],
   "source": [
    "df['age'].mode().iloc[0]"
   ]
  },
  {
   "cell_type": "code",
   "execution_count": null,
   "id": "82c33ba8",
   "metadata": {},
   "outputs": [
    {
     "data": {
      "text/plain": [
       "0    25.0\n",
       "1    22.0\n",
       "2    30.0\n",
       "3    22.0\n",
       "4    22.0\n",
       "Name: age, dtype: float64"
      ]
     },
     "execution_count": 110,
     "metadata": {},
     "output_type": "execute_result"
    }
   ],
   "source": [
    "df['age'].fillna(df['age'].mode().iloc[0])\n",
    "# 왜 iloc[0] 이지?"
   ]
  },
  {
   "cell_type": "code",
   "execution_count": null,
   "id": "7675872d",
   "metadata": {},
   "outputs": [
    {
     "data": {
      "text/plain": [
       "0      Seoul\n",
       "1      Busan\n",
       "2        NaN\n",
       "3    Incheon\n",
       "4      Seoul\n",
       "Name: city, dtype: object"
      ]
     },
     "execution_count": 105,
     "metadata": {},
     "output_type": "execute_result"
    }
   ],
   "source": [
    "df['city'].fillna(df['city'].mode())"
   ]
  },
  {
   "cell_type": "code",
   "execution_count": null,
   "id": "697f032f",
   "metadata": {},
   "outputs": [
    {
     "data": {
      "text/plain": [
       "0    Seoul\n",
       "Name: city, dtype: object"
      ]
     },
     "execution_count": 106,
     "metadata": {},
     "output_type": "execute_result"
    }
   ],
   "source": [
    "df['city'].mode()"
   ]
  },
  {
   "cell_type": "code",
   "execution_count": null,
   "id": "57bd1f0e",
   "metadata": {},
   "outputs": [
    {
     "data": {
      "text/plain": [
       "0    90.0\n",
       "1    85.0\n",
       "2    85.0\n",
       "3    88.0\n",
       "4    95.0\n",
       "Name: score, dtype: float64"
      ]
     },
     "execution_count": 112,
     "metadata": {},
     "output_type": "execute_result"
    }
   ],
   "source": [
    "#직전값(ffill)으로 채우기\n",
    "df['score'].ffill()"
   ]
  },
  {
   "cell_type": "code",
   "execution_count": null,
   "id": "df23a957",
   "metadata": {},
   "outputs": [
    {
     "data": {
      "text/plain": [
       "0    90.0\n",
       "1    85.0\n",
       "2    88.0\n",
       "3    88.0\n",
       "4    95.0\n",
       "Name: score, dtype: float64"
      ]
     },
     "execution_count": 113,
     "metadata": {},
     "output_type": "execute_result"
    }
   ],
   "source": [
    "# 직후값(bfill)으로 채우기\n",
    "df['score'].bfill()"
   ]
  },
  {
   "cell_type": "code",
   "execution_count": null,
   "id": "bc1f7ca3",
   "metadata": {},
   "outputs": [
    {
     "data": {
      "text/plain": [
       "0    25.0\n",
       "1     NaN\n",
       "2    30.0\n",
       "3    22.0\n",
       "4     NaN\n",
       "Name: age, dtype: float64"
      ]
     },
     "execution_count": 117,
     "metadata": {},
     "output_type": "execute_result"
    }
   ],
   "source": [
    "df['age']<30\n",
    "df['age']"
   ]
  },
  {
   "cell_type": "code",
   "execution_count": null,
   "id": "fed2b59e",
   "metadata": {},
   "outputs": [
    {
     "data": {
      "text/plain": [
       "0    30.0\n",
       "1     NaN\n",
       "2    30.0\n",
       "3    30.0\n",
       "4     NaN\n",
       "Name: age, dtype: float64"
      ]
     },
     "execution_count": 115,
     "metadata": {},
     "output_type": "execute_result"
    }
   ],
   "source": [
    "# 컬럼의 값에 조건을 주어 대체할 때 사용\n",
    "df['age'].mask(df['age']<30, 30)"
   ]
  },
  {
   "cell_type": "code",
   "execution_count": null,
   "id": "4c2f0988",
   "metadata": {},
   "outputs": [
    {
     "data": {
      "text/html": [
       "<div>\n",
       "<style scoped>\n",
       "    .dataframe tbody tr th:only-of-type {\n",
       "        vertical-align: middle;\n",
       "    }\n",
       "\n",
       "    .dataframe tbody tr th {\n",
       "        vertical-align: top;\n",
       "    }\n",
       "\n",
       "    .dataframe thead th {\n",
       "        text-align: right;\n",
       "    }\n",
       "</style>\n",
       "<table border=\"1\" class=\"dataframe\">\n",
       "  <thead>\n",
       "    <tr style=\"text-align: right;\">\n",
       "      <th></th>\n",
       "      <th>PassengerId</th>\n",
       "      <th>Survived</th>\n",
       "      <th>Pclass</th>\n",
       "      <th>Name</th>\n",
       "      <th>Sex</th>\n",
       "      <th>Age</th>\n",
       "      <th>SibSp</th>\n",
       "      <th>Parch</th>\n",
       "      <th>Ticket</th>\n",
       "      <th>Fare</th>\n",
       "      <th>Cabin</th>\n",
       "      <th>Embarked</th>\n",
       "    </tr>\n",
       "  </thead>\n",
       "  <tbody>\n",
       "    <tr>\n",
       "      <th>0</th>\n",
       "      <td>1</td>\n",
       "      <td>0</td>\n",
       "      <td>3</td>\n",
       "      <td>Braund, Mr. Owen Harris</td>\n",
       "      <td>male</td>\n",
       "      <td>22.0</td>\n",
       "      <td>1</td>\n",
       "      <td>0</td>\n",
       "      <td>A/5 21171</td>\n",
       "      <td>7.2500</td>\n",
       "      <td>NaN</td>\n",
       "      <td>S</td>\n",
       "    </tr>\n",
       "    <tr>\n",
       "      <th>1</th>\n",
       "      <td>2</td>\n",
       "      <td>1</td>\n",
       "      <td>1</td>\n",
       "      <td>Cumings, Mrs. John Bradley (Florence Briggs Th...</td>\n",
       "      <td>female</td>\n",
       "      <td>38.0</td>\n",
       "      <td>1</td>\n",
       "      <td>0</td>\n",
       "      <td>PC 17599</td>\n",
       "      <td>71.2833</td>\n",
       "      <td>C85</td>\n",
       "      <td>C</td>\n",
       "    </tr>\n",
       "    <tr>\n",
       "      <th>2</th>\n",
       "      <td>3</td>\n",
       "      <td>1</td>\n",
       "      <td>3</td>\n",
       "      <td>Heikkinen, Miss. Laina</td>\n",
       "      <td>female</td>\n",
       "      <td>26.0</td>\n",
       "      <td>0</td>\n",
       "      <td>0</td>\n",
       "      <td>STON/O2. 3101282</td>\n",
       "      <td>7.9250</td>\n",
       "      <td>NaN</td>\n",
       "      <td>S</td>\n",
       "    </tr>\n",
       "    <tr>\n",
       "      <th>3</th>\n",
       "      <td>4</td>\n",
       "      <td>1</td>\n",
       "      <td>1</td>\n",
       "      <td>Futrelle, Mrs. Jacques Heath (Lily May Peel)</td>\n",
       "      <td>female</td>\n",
       "      <td>35.0</td>\n",
       "      <td>1</td>\n",
       "      <td>0</td>\n",
       "      <td>113803</td>\n",
       "      <td>53.1000</td>\n",
       "      <td>C123</td>\n",
       "      <td>S</td>\n",
       "    </tr>\n",
       "    <tr>\n",
       "      <th>4</th>\n",
       "      <td>5</td>\n",
       "      <td>0</td>\n",
       "      <td>3</td>\n",
       "      <td>Allen, Mr. William Henry</td>\n",
       "      <td>male</td>\n",
       "      <td>35.0</td>\n",
       "      <td>0</td>\n",
       "      <td>0</td>\n",
       "      <td>373450</td>\n",
       "      <td>8.0500</td>\n",
       "      <td>NaN</td>\n",
       "      <td>S</td>\n",
       "    </tr>\n",
       "    <tr>\n",
       "      <th>...</th>\n",
       "      <td>...</td>\n",
       "      <td>...</td>\n",
       "      <td>...</td>\n",
       "      <td>...</td>\n",
       "      <td>...</td>\n",
       "      <td>...</td>\n",
       "      <td>...</td>\n",
       "      <td>...</td>\n",
       "      <td>...</td>\n",
       "      <td>...</td>\n",
       "      <td>...</td>\n",
       "      <td>...</td>\n",
       "    </tr>\n",
       "    <tr>\n",
       "      <th>886</th>\n",
       "      <td>887</td>\n",
       "      <td>0</td>\n",
       "      <td>2</td>\n",
       "      <td>Montvila, Rev. Juozas</td>\n",
       "      <td>male</td>\n",
       "      <td>27.0</td>\n",
       "      <td>0</td>\n",
       "      <td>0</td>\n",
       "      <td>211536</td>\n",
       "      <td>13.0000</td>\n",
       "      <td>NaN</td>\n",
       "      <td>S</td>\n",
       "    </tr>\n",
       "    <tr>\n",
       "      <th>887</th>\n",
       "      <td>888</td>\n",
       "      <td>1</td>\n",
       "      <td>1</td>\n",
       "      <td>Graham, Miss. Margaret Edith</td>\n",
       "      <td>female</td>\n",
       "      <td>19.0</td>\n",
       "      <td>0</td>\n",
       "      <td>0</td>\n",
       "      <td>112053</td>\n",
       "      <td>30.0000</td>\n",
       "      <td>B42</td>\n",
       "      <td>S</td>\n",
       "    </tr>\n",
       "    <tr>\n",
       "      <th>888</th>\n",
       "      <td>889</td>\n",
       "      <td>0</td>\n",
       "      <td>3</td>\n",
       "      <td>Johnston, Miss. Catherine Helen \"Carrie\"</td>\n",
       "      <td>female</td>\n",
       "      <td>NaN</td>\n",
       "      <td>1</td>\n",
       "      <td>2</td>\n",
       "      <td>W./C. 6607</td>\n",
       "      <td>23.4500</td>\n",
       "      <td>NaN</td>\n",
       "      <td>S</td>\n",
       "    </tr>\n",
       "    <tr>\n",
       "      <th>889</th>\n",
       "      <td>890</td>\n",
       "      <td>1</td>\n",
       "      <td>1</td>\n",
       "      <td>Behr, Mr. Karl Howell</td>\n",
       "      <td>male</td>\n",
       "      <td>26.0</td>\n",
       "      <td>0</td>\n",
       "      <td>0</td>\n",
       "      <td>111369</td>\n",
       "      <td>30.0000</td>\n",
       "      <td>C148</td>\n",
       "      <td>C</td>\n",
       "    </tr>\n",
       "    <tr>\n",
       "      <th>890</th>\n",
       "      <td>891</td>\n",
       "      <td>0</td>\n",
       "      <td>3</td>\n",
       "      <td>Dooley, Mr. Patrick</td>\n",
       "      <td>male</td>\n",
       "      <td>32.0</td>\n",
       "      <td>0</td>\n",
       "      <td>0</td>\n",
       "      <td>370376</td>\n",
       "      <td>7.7500</td>\n",
       "      <td>NaN</td>\n",
       "      <td>Q</td>\n",
       "    </tr>\n",
       "  </tbody>\n",
       "</table>\n",
       "<p>891 rows × 12 columns</p>\n",
       "</div>"
      ],
      "text/plain": [
       "     PassengerId  Survived  Pclass  \\\n",
       "0              1         0       3   \n",
       "1              2         1       1   \n",
       "2              3         1       3   \n",
       "3              4         1       1   \n",
       "4              5         0       3   \n",
       "..           ...       ...     ...   \n",
       "886          887         0       2   \n",
       "887          888         1       1   \n",
       "888          889         0       3   \n",
       "889          890         1       1   \n",
       "890          891         0       3   \n",
       "\n",
       "                                                  Name     Sex   Age  SibSp  \\\n",
       "0                              Braund, Mr. Owen Harris    male  22.0      1   \n",
       "1    Cumings, Mrs. John Bradley (Florence Briggs Th...  female  38.0      1   \n",
       "2                               Heikkinen, Miss. Laina  female  26.0      0   \n",
       "3         Futrelle, Mrs. Jacques Heath (Lily May Peel)  female  35.0      1   \n",
       "4                             Allen, Mr. William Henry    male  35.0      0   \n",
       "..                                                 ...     ...   ...    ...   \n",
       "886                              Montvila, Rev. Juozas    male  27.0      0   \n",
       "887                       Graham, Miss. Margaret Edith  female  19.0      0   \n",
       "888           Johnston, Miss. Catherine Helen \"Carrie\"  female   NaN      1   \n",
       "889                              Behr, Mr. Karl Howell    male  26.0      0   \n",
       "890                                Dooley, Mr. Patrick    male  32.0      0   \n",
       "\n",
       "     Parch            Ticket     Fare Cabin Embarked  \n",
       "0        0         A/5 21171   7.2500   NaN        S  \n",
       "1        0          PC 17599  71.2833   C85        C  \n",
       "2        0  STON/O2. 3101282   7.9250   NaN        S  \n",
       "3        0            113803  53.1000  C123        S  \n",
       "4        0            373450   8.0500   NaN        S  \n",
       "..     ...               ...      ...   ...      ...  \n",
       "886      0            211536  13.0000   NaN        S  \n",
       "887      0            112053  30.0000   B42        S  \n",
       "888      2        W./C. 6607  23.4500   NaN        S  \n",
       "889      0            111369  30.0000  C148        C  \n",
       "890      0            370376   7.7500   NaN        Q  \n",
       "\n",
       "[891 rows x 12 columns]"
      ]
     },
     "execution_count": 119,
     "metadata": {},
     "output_type": "execute_result"
    }
   ],
   "source": [
    "# titanic.csv 파일을 불러오고 df_titanic 라는 변수에 할당하기\n",
    "df_titanic = pd.read_csv('abc/data/titanic.csv')\n",
    "df_titanic"
   ]
  },
  {
   "cell_type": "code",
   "execution_count": null,
   "id": "ead5e24b",
   "metadata": {},
   "outputs": [
    {
     "data": {
      "text/plain": [
       "PassengerId      0\n",
       "Survived         0\n",
       "Pclass           0\n",
       "Name             0\n",
       "Sex              0\n",
       "Age            177\n",
       "SibSp            0\n",
       "Parch            0\n",
       "Ticket           0\n",
       "Fare             0\n",
       "Cabin          687\n",
       "Embarked         2\n",
       "dtype: int64"
      ]
     },
     "execution_count": 123,
     "metadata": {},
     "output_type": "execute_result"
    }
   ],
   "source": [
    "# 결측치가 있는 컬럼 확인\n",
    "df_titanic.isnull().sum()"
   ]
  },
  {
   "cell_type": "code",
   "execution_count": null,
   "id": "d111d7e3",
   "metadata": {},
   "outputs": [
    {
     "name": "stdout",
     "output_type": "stream",
     "text": [
      "<class 'pandas.core.frame.DataFrame'>\n",
      "RangeIndex: 891 entries, 0 to 890\n",
      "Data columns (total 12 columns):\n",
      " #   Column       Non-Null Count  Dtype  \n",
      "---  ------       --------------  -----  \n",
      " 0   PassengerId  891 non-null    int64  \n",
      " 1   Survived     891 non-null    int64  \n",
      " 2   Pclass       891 non-null    int64  \n",
      " 3   Name         891 non-null    object \n",
      " 4   Sex          891 non-null    object \n",
      " 5   Age          714 non-null    float64\n",
      " 6   SibSp        891 non-null    int64  \n",
      " 7   Parch        891 non-null    int64  \n",
      " 8   Ticket       891 non-null    object \n",
      " 9   Fare         891 non-null    float64\n",
      " 10  Cabin        204 non-null    object \n",
      " 11  Embarked     889 non-null    object \n",
      "dtypes: float64(2), int64(5), object(5)\n",
      "memory usage: 83.7+ KB\n"
     ]
    }
   ],
   "source": [
    "df_titanic.info()"
   ]
  },
  {
   "cell_type": "code",
   "execution_count": null,
   "id": "41eab486",
   "metadata": {},
   "outputs": [
    {
     "data": {
      "text/plain": [
       "np.float64(29.69911764705882)"
      ]
     },
     "execution_count": 126,
     "metadata": {},
     "output_type": "execute_result"
    }
   ],
   "source": [
    "# age 값을 평균값, 중앙값으로 대체해보기\n",
    "df_titanic['Age'].mean()"
   ]
  },
  {
   "cell_type": "code",
   "execution_count": null,
   "id": "d40fe4fb",
   "metadata": {},
   "outputs": [
    {
     "data": {
      "text/plain": [
       "np.float64(28.0)"
      ]
     },
     "execution_count": 127,
     "metadata": {},
     "output_type": "execute_result"
    }
   ],
   "source": [
    "# 나이처럼 이산형인 숫자는 중앙값으로 대체해서 사용\n",
    "df_titanic['Age'].median()"
   ]
  },
  {
   "cell_type": "code",
   "execution_count": null,
   "id": "6df7f6c4",
   "metadata": {},
   "outputs": [
    {
     "data": {
      "text/plain": [
       "<bound method Series.mean of 0      22.0\n",
       "1      38.0\n",
       "2      26.0\n",
       "3      35.0\n",
       "4      35.0\n",
       "       ... \n",
       "886    27.0\n",
       "887    19.0\n",
       "888    28.0\n",
       "889    26.0\n",
       "890    32.0\n",
       "Name: Age, Length: 891, dtype: float64>"
      ]
     },
     "execution_count": 130,
     "metadata": {},
     "output_type": "execute_result"
    }
   ],
   "source": [
    "#대체 후 값 검증\n",
    "df_titanic['Age'].mean"
   ]
  },
  {
   "cell_type": "code",
   "execution_count": null,
   "id": "71e51a32",
   "metadata": {},
   "outputs": [
    {
     "data": {
      "text/plain": [
       "<Axes: ylabel='Frequency'>"
      ]
     },
     "execution_count": 132,
     "metadata": {},
     "output_type": "execute_result"
    },
    {
     "data": {
      "image/png": "[encoded data removed]",
      "text/plain": [
       "<Figure size 640x480 with 1 Axes>"
      ]
     },
     "metadata": {},
     "output_type": "display_data"
    }
   ],
   "source": [
    "# bins 그래프의 구간을 설정하는 것(숫자가 클수록 더 잘게 쪼게짐)\n",
    "df_titanic['Age'].plot(kind='hist', bins=20)"
   ]
  },
  {
   "cell_type": "code",
   "execution_count": null,
   "id": "1ea06fb8",
   "metadata": {},
   "outputs": [
    {
     "data": {
      "text/plain": [
       "0      unknown\n",
       "1          C85\n",
       "2      unknown\n",
       "3         C123\n",
       "4      unknown\n",
       "        ...   \n",
       "886    unknown\n",
       "887        B42\n",
       "888    unknown\n",
       "889       C148\n",
       "890    unknown\n",
       "Name: Cabin, Length: 891, dtype: object"
      ]
     },
     "execution_count": 143,
     "metadata": {},
     "output_type": "execute_result"
    }
   ],
   "source": [
    "# cabin = 'unknown'\n",
    "df_titanic['Cabin'].fillna('unknown')\n"
   ]
  },
  {
   "cell_type": "code",
   "execution_count": null,
   "id": "eb56af2e",
   "metadata": {},
   "outputs": [],
   "source": []
  },
  {
   "cell_type": "code",
   "execution_count": null,
   "id": "d6aa57aa",
   "metadata": {},
   "outputs": [
    {
     "data": {
      "text/plain": [
       "Cabin\n",
       "G6             4\n",
       "C23 C25 C27    4\n",
       "B96 B98        4\n",
       "F2             3\n",
       "D              3\n",
       "Name: count, dtype: int64"
      ]
     },
     "execution_count": 144,
     "metadata": {},
     "output_type": "execute_result"
    }
   ],
   "source": [
    "df_titanic['Cabin'].value_counts().head()"
   ]
  },
  {
   "cell_type": "code",
   "execution_count": null,
   "id": "a742ba00",
   "metadata": {},
   "outputs": [],
   "source": []
  },
  {
   "cell_type": "code",
   "execution_count": null,
   "id": "52421de1",
   "metadata": {},
   "outputs": [
    {
     "data": {
      "text/plain": [
       "Embarked\n",
       "S    644\n",
       "C    168\n",
       "Q     77\n",
       "Name: count, dtype: int64"
      ]
     },
     "execution_count": 145,
     "metadata": {},
     "output_type": "execute_result"
    }
   ],
   "source": [
    "df_titanic['Embarked'].value_counts()"
   ]
  },
  {
   "cell_type": "code",
   "execution_count": null,
   "id": "0b601b67",
   "metadata": {},
   "outputs": [
    {
     "name": "stdout",
     "output_type": "stream",
     "text": [
      "<class 'pandas.core.frame.DataFrame'>\n",
      "RangeIndex: 891 entries, 0 to 890\n",
      "Data columns (total 12 columns):\n",
      " #   Column       Non-Null Count  Dtype  \n",
      "---  ------       --------------  -----  \n",
      " 0   PassengerId  891 non-null    int64  \n",
      " 1   Survived     891 non-null    int64  \n",
      " 2   Pclass       891 non-null    int64  \n",
      " 3   Name         891 non-null    object \n",
      " 4   Sex          891 non-null    object \n",
      " 5   Age          891 non-null    float64\n",
      " 6   SibSp        891 non-null    int64  \n",
      " 7   Parch        891 non-null    int64  \n",
      " 8   Ticket       891 non-null    object \n",
      " 9   Fare         891 non-null    float64\n",
      " 10  Cabin        204 non-null    object \n",
      " 11  Embarked     891 non-null    object \n",
      "dtypes: float64(2), int64(5), object(5)\n",
      "memory usage: 83.7+ KB\n"
     ]
    }
   ],
   "source": [
    "# Embarked 의 최빈값으로 채우기\n",
    "df_titanic['Embarked'].fillna(df_titanic['Embarked'].mode()[0], inplace=True)\n",
    "df_titanic.info()"
   ]
  },
  {
   "cell_type": "code",
   "execution_count": 7,
   "id": "89721561",
   "metadata": {},
   "outputs": [],
   "source": [
    "df_csm = pd.read_csv('abc/data/CARD_SUBWAY_MONTH_202102.csv', index_col=False)"
   ]
  },
  {
   "cell_type": "code",
   "execution_count": 8,
   "id": "ba1d42c8",
   "metadata": {},
   "outputs": [
    {
     "name": "stdout",
     "output_type": "stream",
     "text": [
      "<class 'pandas.core.frame.DataFrame'>\n",
      "RangeIndex: 16751 entries, 0 to 16750\n",
      "Data columns (total 6 columns):\n",
      " #   Column  Non-Null Count  Dtype \n",
      "---  ------  --------------  ----- \n",
      " 0   사용일자    16751 non-null  int64 \n",
      " 1   노선명     16751 non-null  object\n",
      " 2   역명      16751 non-null  object\n",
      " 3   승차총승객수  16751 non-null  int64 \n",
      " 4   하차총승객수  16751 non-null  int64 \n",
      " 5   등록일자    16751 non-null  int64 \n",
      "dtypes: int64(4), object(2)\n",
      "memory usage: 785.3+ KB\n"
     ]
    }
   ],
   "source": [
    "\n",
    "df_csm.info()"
   ]
  },
  {
   "cell_type": "code",
   "execution_count": 47,
   "id": "bfc50c02",
   "metadata": {},
   "outputs": [
    {
     "data": {
      "text/plain": [
       "(25,)"
      ]
     },
     "execution_count": 47,
     "metadata": {},
     "output_type": "execute_result"
    }
   ],
   "source": [
    "#‘노선명’ 컬럼이 가지고 있는 데이터의 종류와 갯수를 확인하세요\n",
    "df_csm['노선명'].unique().shape"
   ]
  },
  {
   "cell_type": "code",
   "execution_count": 48,
   "id": "c7cf7ca5",
   "metadata": {},
   "outputs": [
    {
     "data": {
      "text/plain": [
       "노선명\n",
       "5호선         1484\n",
       "7호선         1428\n",
       "2호선         1400\n",
       "경부선         1092\n",
       "6호선         1051\n",
       "분당선          967\n",
       "3호선          937\n",
       "경원선          821\n",
       "경의선          737\n",
       "4호선          728\n",
       "9호선          700\n",
       "중앙선          588\n",
       "경인선          560\n",
       "경춘선          532\n",
       "수인선          504\n",
       "8호선          476\n",
       "공항철도 1호선     392\n",
       "안산선          364\n",
       "9호선2~3단계     364\n",
       "우이신설선        364\n",
       "경강선          308\n",
       "일산선          282\n",
       "1호선          280\n",
       "과천선          224\n",
       "장항선          168\n",
       "Name: count, dtype: int64"
      ]
     },
     "execution_count": 48,
     "metadata": {},
     "output_type": "execute_result"
    }
   ],
   "source": [
    "df_csm['노선명'].value_counts()"
   ]
  },
  {
   "cell_type": "code",
   "execution_count": 49,
   "id": "b1a573f6",
   "metadata": {},
   "outputs": [
    {
     "data": {
      "text/html": [
       "<div>\n",
       "<style scoped>\n",
       "    .dataframe tbody tr th:only-of-type {\n",
       "        vertical-align: middle;\n",
       "    }\n",
       "\n",
       "    .dataframe tbody tr th {\n",
       "        vertical-align: top;\n",
       "    }\n",
       "\n",
       "    .dataframe thead th {\n",
       "        text-align: right;\n",
       "    }\n",
       "</style>\n",
       "<table border=\"1\" class=\"dataframe\">\n",
       "  <thead>\n",
       "    <tr style=\"text-align: right;\">\n",
       "      <th></th>\n",
       "      <th>사용일자</th>\n",
       "      <th>노선명</th>\n",
       "      <th>역명</th>\n",
       "      <th>승차총승객수</th>\n",
       "      <th>하차총승객수</th>\n",
       "      <th>등록일자</th>\n",
       "    </tr>\n",
       "  </thead>\n",
       "  <tbody>\n",
       "    <tr>\n",
       "      <th>14984</th>\n",
       "      <td>20210226</td>\n",
       "      <td>2호선</td>\n",
       "      <td>강남</td>\n",
       "      <td>88904</td>\n",
       "      <td>87891</td>\n",
       "      <td>20210301</td>\n",
       "    </tr>\n",
       "    <tr>\n",
       "      <th>10857</th>\n",
       "      <td>20210219</td>\n",
       "      <td>2호선</td>\n",
       "      <td>강남</td>\n",
       "      <td>86800</td>\n",
       "      <td>80948</td>\n",
       "      <td>20210222</td>\n",
       "    </tr>\n",
       "    <tr>\n",
       "      <th>13705</th>\n",
       "      <td>20210223</td>\n",
       "      <td>2호선</td>\n",
       "      <td>강남</td>\n",
       "      <td>84922</td>\n",
       "      <td>83364</td>\n",
       "      <td>20210226</td>\n",
       "    </tr>\n",
       "    <tr>\n",
       "      <th>14314</th>\n",
       "      <td>20210224</td>\n",
       "      <td>2호선</td>\n",
       "      <td>강남</td>\n",
       "      <td>84628</td>\n",
       "      <td>82667</td>\n",
       "      <td>20210227</td>\n",
       "    </tr>\n",
       "    <tr>\n",
       "      <th>14384</th>\n",
       "      <td>20210225</td>\n",
       "      <td>2호선</td>\n",
       "      <td>강남</td>\n",
       "      <td>84374</td>\n",
       "      <td>82960</td>\n",
       "      <td>20210228</td>\n",
       "    </tr>\n",
       "    <tr>\n",
       "      <th>...</th>\n",
       "      <td>...</td>\n",
       "      <td>...</td>\n",
       "      <td>...</td>\n",
       "      <td>...</td>\n",
       "      <td>...</td>\n",
       "      <td>...</td>\n",
       "    </tr>\n",
       "    <tr>\n",
       "      <th>14136</th>\n",
       "      <td>20210224</td>\n",
       "      <td>6호선</td>\n",
       "      <td>신내</td>\n",
       "      <td>1</td>\n",
       "      <td>0</td>\n",
       "      <td>20210227</td>\n",
       "    </tr>\n",
       "    <tr>\n",
       "      <th>4678</th>\n",
       "      <td>20210208</td>\n",
       "      <td>분당선</td>\n",
       "      <td>복정</td>\n",
       "      <td>1</td>\n",
       "      <td>0</td>\n",
       "      <td>20210211</td>\n",
       "    </tr>\n",
       "    <tr>\n",
       "      <th>10025</th>\n",
       "      <td>20210217</td>\n",
       "      <td>경의선</td>\n",
       "      <td>김포공항</td>\n",
       "      <td>1</td>\n",
       "      <td>0</td>\n",
       "      <td>20210220</td>\n",
       "    </tr>\n",
       "    <tr>\n",
       "      <th>414</th>\n",
       "      <td>20210201</td>\n",
       "      <td>6호선</td>\n",
       "      <td>연신내</td>\n",
       "      <td>1</td>\n",
       "      <td>0</td>\n",
       "      <td>20210204</td>\n",
       "    </tr>\n",
       "    <tr>\n",
       "      <th>9213</th>\n",
       "      <td>20210216</td>\n",
       "      <td>경의선</td>\n",
       "      <td>계양</td>\n",
       "      <td>1</td>\n",
       "      <td>0</td>\n",
       "      <td>20210219</td>\n",
       "    </tr>\n",
       "  </tbody>\n",
       "</table>\n",
       "<p>16751 rows × 6 columns</p>\n",
       "</div>"
      ],
      "text/plain": [
       "           사용일자  노선명    역명  승차총승객수  하차총승객수      등록일자\n",
       "14984  20210226  2호선    강남   88904   87891  20210301\n",
       "10857  20210219  2호선    강남   86800   80948  20210222\n",
       "13705  20210223  2호선    강남   84922   83364  20210226\n",
       "14314  20210224  2호선    강남   84628   82667  20210227\n",
       "14384  20210225  2호선    강남   84374   82960  20210228\n",
       "...         ...  ...   ...     ...     ...       ...\n",
       "14136  20210224  6호선    신내       1       0  20210227\n",
       "4678   20210208  분당선    복정       1       0  20210211\n",
       "10025  20210217  경의선  김포공항       1       0  20210220\n",
       "414    20210201  6호선   연신내       1       0  20210204\n",
       "9213   20210216  경의선    계양       1       0  20210219\n",
       "\n",
       "[16751 rows x 6 columns]"
      ]
     },
     "execution_count": 49,
     "metadata": {},
     "output_type": "execute_result"
    }
   ],
   "source": [
    "# ‘승차총승객수’ 컬럼을 기준으로 데이터를 정렬하세요\n",
    "\n",
    "df_csm.sort_values(by=['승차총승객수'], ascending=False)"
   ]
  },
  {
   "cell_type": "code",
   "execution_count": 10,
   "id": "40c70772",
   "metadata": {},
   "outputs": [
    {
     "data": {
      "text/plain": [
       "np.int64(0)"
      ]
     },
     "execution_count": 10,
     "metadata": {},
     "output_type": "execute_result"
    }
   ],
   "source": [
    "df_csm['등록일자'].isnull().sum()"
   ]
  },
  {
   "cell_type": "code",
   "execution_count": 12,
   "id": "75198065",
   "metadata": {},
   "outputs": [
    {
     "data": {
      "text/html": [
       "<div>\n",
       "<style scoped>\n",
       "    .dataframe tbody tr th:only-of-type {\n",
       "        vertical-align: middle;\n",
       "    }\n",
       "\n",
       "    .dataframe tbody tr th {\n",
       "        vertical-align: top;\n",
       "    }\n",
       "\n",
       "    .dataframe thead th {\n",
       "        text-align: right;\n",
       "    }\n",
       "</style>\n",
       "<table border=\"1\" class=\"dataframe\">\n",
       "  <thead>\n",
       "    <tr style=\"text-align: right;\">\n",
       "      <th></th>\n",
       "      <th>사용일자</th>\n",
       "      <th>승차총승객수</th>\n",
       "      <th>하차총승객수</th>\n",
       "      <th>등록일자</th>\n",
       "    </tr>\n",
       "  </thead>\n",
       "  <tbody>\n",
       "    <tr>\n",
       "      <th>count</th>\n",
       "      <td>1.675100e+04</td>\n",
       "      <td>16751.000000</td>\n",
       "      <td>16751.000000</td>\n",
       "      <td>1.675100e+04</td>\n",
       "    </tr>\n",
       "    <tr>\n",
       "      <th>mean</th>\n",
       "      <td>2.021021e+07</td>\n",
       "      <td>8567.344696</td>\n",
       "      <td>8536.474419</td>\n",
       "      <td>2.021023e+07</td>\n",
       "    </tr>\n",
       "    <tr>\n",
       "      <th>std</th>\n",
       "      <td>8.083073e+00</td>\n",
       "      <td>9006.651687</td>\n",
       "      <td>9064.054078</td>\n",
       "      <td>2.749315e+01</td>\n",
       "    </tr>\n",
       "    <tr>\n",
       "      <th>min</th>\n",
       "      <td>2.021020e+07</td>\n",
       "      <td>1.000000</td>\n",
       "      <td>0.000000</td>\n",
       "      <td>2.021020e+07</td>\n",
       "    </tr>\n",
       "    <tr>\n",
       "      <th>25%</th>\n",
       "      <td>2.021021e+07</td>\n",
       "      <td>2652.500000</td>\n",
       "      <td>2594.500000</td>\n",
       "      <td>2.021021e+07</td>\n",
       "    </tr>\n",
       "    <tr>\n",
       "      <th>50%</th>\n",
       "      <td>2.021022e+07</td>\n",
       "      <td>5857.000000</td>\n",
       "      <td>5733.000000</td>\n",
       "      <td>2.021022e+07</td>\n",
       "    </tr>\n",
       "    <tr>\n",
       "      <th>75%</th>\n",
       "      <td>2.021022e+07</td>\n",
       "      <td>11257.000000</td>\n",
       "      <td>11117.000000</td>\n",
       "      <td>2.021022e+07</td>\n",
       "    </tr>\n",
       "    <tr>\n",
       "      <th>max</th>\n",
       "      <td>2.021023e+07</td>\n",
       "      <td>88904.000000</td>\n",
       "      <td>87891.000000</td>\n",
       "      <td>2.021030e+07</td>\n",
       "    </tr>\n",
       "  </tbody>\n",
       "</table>\n",
       "</div>"
      ],
      "text/plain": [
       "               사용일자        승차총승객수        하차총승객수          등록일자\n",
       "count  1.675100e+04  16751.000000  16751.000000  1.675100e+04\n",
       "mean   2.021021e+07   8567.344696   8536.474419  2.021023e+07\n",
       "std    8.083073e+00   9006.651687   9064.054078  2.749315e+01\n",
       "min    2.021020e+07      1.000000      0.000000  2.021020e+07\n",
       "25%    2.021021e+07   2652.500000   2594.500000  2.021021e+07\n",
       "50%    2.021022e+07   5857.000000   5733.000000  2.021022e+07\n",
       "75%    2.021022e+07  11257.000000  11117.000000  2.021022e+07\n",
       "max    2.021023e+07  88904.000000  87891.000000  2.021030e+07"
      ]
     },
     "execution_count": 12,
     "metadata": {},
     "output_type": "execute_result"
    }
   ],
   "source": [
    "# 평균, 표준편차, 사분위수 등 주요 통계 지표 확인\n",
    "df_csm.describe()"
   ]
  },
  {
   "cell_type": "code",
   "execution_count": null,
   "id": "d3989941",
   "metadata": {},
   "outputs": [
    {
     "data": {
      "text/html": [
       "<div>\n",
       "<style scoped>\n",
       "    .dataframe tbody tr th:only-of-type {\n",
       "        vertical-align: middle;\n",
       "    }\n",
       "\n",
       "    .dataframe tbody tr th {\n",
       "        vertical-align: top;\n",
       "    }\n",
       "\n",
       "    .dataframe thead th {\n",
       "        text-align: right;\n",
       "    }\n",
       "</style>\n",
       "<table border=\"1\" class=\"dataframe\">\n",
       "  <thead>\n",
       "    <tr style=\"text-align: right;\">\n",
       "      <th></th>\n",
       "      <th>사용일자</th>\n",
       "      <th>노선명</th>\n",
       "      <th>역명</th>\n",
       "      <th>승차총승객수</th>\n",
       "      <th>하차총승객수</th>\n",
       "      <th>등록일자</th>\n",
       "    </tr>\n",
       "  </thead>\n",
       "  <tbody>\n",
       "    <tr>\n",
       "      <th>532</th>\n",
       "      <td>20210201</td>\n",
       "      <td>2호선</td>\n",
       "      <td>용두(동대문구청)</td>\n",
       "      <td>2365</td>\n",
       "      <td>2430</td>\n",
       "      <td>20210204</td>\n",
       "    </tr>\n",
       "    <tr>\n",
       "      <th>533</th>\n",
       "      <td>20210201</td>\n",
       "      <td>2호선</td>\n",
       "      <td>신정네거리</td>\n",
       "      <td>9269</td>\n",
       "      <td>9599</td>\n",
       "      <td>20210204</td>\n",
       "    </tr>\n",
       "    <tr>\n",
       "      <th>534</th>\n",
       "      <td>20210201</td>\n",
       "      <td>2호선</td>\n",
       "      <td>양천구청</td>\n",
       "      <td>6318</td>\n",
       "      <td>6738</td>\n",
       "      <td>20210204</td>\n",
       "    </tr>\n",
       "    <tr>\n",
       "      <th>535</th>\n",
       "      <td>20210201</td>\n",
       "      <td>2호선</td>\n",
       "      <td>도림천</td>\n",
       "      <td>1434</td>\n",
       "      <td>1469</td>\n",
       "      <td>20210204</td>\n",
       "    </tr>\n",
       "    <tr>\n",
       "      <th>536</th>\n",
       "      <td>20210201</td>\n",
       "      <td>2호선</td>\n",
       "      <td>신설동</td>\n",
       "      <td>3046</td>\n",
       "      <td>3110</td>\n",
       "      <td>20210204</td>\n",
       "    </tr>\n",
       "    <tr>\n",
       "      <th>...</th>\n",
       "      <td>...</td>\n",
       "      <td>...</td>\n",
       "      <td>...</td>\n",
       "      <td>...</td>\n",
       "      <td>...</td>\n",
       "      <td>...</td>\n",
       "    </tr>\n",
       "    <tr>\n",
       "      <th>16207</th>\n",
       "      <td>20210228</td>\n",
       "      <td>2호선</td>\n",
       "      <td>신설동</td>\n",
       "      <td>2806</td>\n",
       "      <td>2830</td>\n",
       "      <td>20210303</td>\n",
       "    </tr>\n",
       "    <tr>\n",
       "      <th>16208</th>\n",
       "      <td>20210228</td>\n",
       "      <td>2호선</td>\n",
       "      <td>도림천</td>\n",
       "      <td>480</td>\n",
       "      <td>477</td>\n",
       "      <td>20210303</td>\n",
       "    </tr>\n",
       "    <tr>\n",
       "      <th>16209</th>\n",
       "      <td>20210228</td>\n",
       "      <td>2호선</td>\n",
       "      <td>양천구청</td>\n",
       "      <td>3234</td>\n",
       "      <td>3281</td>\n",
       "      <td>20210303</td>\n",
       "    </tr>\n",
       "    <tr>\n",
       "      <th>16210</th>\n",
       "      <td>20210228</td>\n",
       "      <td>2호선</td>\n",
       "      <td>신정네거리</td>\n",
       "      <td>4814</td>\n",
       "      <td>4805</td>\n",
       "      <td>20210303</td>\n",
       "    </tr>\n",
       "    <tr>\n",
       "      <th>16211</th>\n",
       "      <td>20210228</td>\n",
       "      <td>2호선</td>\n",
       "      <td>용두(동대문구청)</td>\n",
       "      <td>1069</td>\n",
       "      <td>1029</td>\n",
       "      <td>20210303</td>\n",
       "    </tr>\n",
       "  </tbody>\n",
       "</table>\n",
       "<p>1400 rows × 6 columns</p>\n",
       "</div>"
      ],
      "text/plain": [
       "           사용일자  노선명         역명  승차총승객수  하차총승객수      등록일자\n",
       "532    20210201  2호선  용두(동대문구청)    2365    2430  20210204\n",
       "533    20210201  2호선      신정네거리    9269    9599  20210204\n",
       "534    20210201  2호선       양천구청    6318    6738  20210204\n",
       "535    20210201  2호선        도림천    1434    1469  20210204\n",
       "536    20210201  2호선        신설동    3046    3110  20210204\n",
       "...         ...  ...        ...     ...     ...       ...\n",
       "16207  20210228  2호선        신설동    2806    2830  20210303\n",
       "16208  20210228  2호선        도림천     480     477  20210303\n",
       "16209  20210228  2호선       양천구청    3234    3281  20210303\n",
       "16210  20210228  2호선      신정네거리    4814    4805  20210303\n",
       "16211  20210228  2호선  용두(동대문구청)    1069    1029  20210303\n",
       "\n",
       "[1400 rows x 6 columns]"
      ]
     },
     "execution_count": 16,
     "metadata": {},
     "output_type": "execute_result"
    }
   ],
   "source": [
    "# 2호선만 선택\n",
    "\n",
    "df_csm[df_csm['노선명']=='2호선']"
   ]
  },
  {
   "cell_type": "code",
   "execution_count": 50,
   "id": "a38c815f",
   "metadata": {},
   "outputs": [
    {
     "data": {
      "text/plain": [
       "(1400, 6)"
      ]
     },
     "execution_count": 50,
     "metadata": {},
     "output_type": "execute_result"
    }
   ],
   "source": [
    "df_csm[df_csm['노선명']=='2호선'].shape"
   ]
  },
  {
   "cell_type": "code",
   "execution_count": 52,
   "id": "c3fdaf08",
   "metadata": {},
   "outputs": [
    {
     "data": {
      "text/plain": [
       "array(['구로디지털단지', '신림', '강남', '선릉', '잠실(송파구청)', '역삼', '홍대입구', '삼성(무역센터)'],\n",
       "      dtype=object)"
      ]
     },
     "execution_count": 52,
     "metadata": {},
     "output_type": "execute_result"
    }
   ],
   "source": [
    "# '승차총승객수가' 50000명 이상인 로우의 '역명'을 확인\n",
    "df_csm[df_csm['승차총승객수']>=50000]['역명'].unique()"
   ]
  },
  {
   "cell_type": "code",
   "execution_count": 55,
   "id": "faf0ccf4",
   "metadata": {},
   "outputs": [
    {
     "data": {
      "text/html": [
       "<div>\n",
       "<style scoped>\n",
       "    .dataframe tbody tr th:only-of-type {\n",
       "        vertical-align: middle;\n",
       "    }\n",
       "\n",
       "    .dataframe tbody tr th {\n",
       "        vertical-align: top;\n",
       "    }\n",
       "\n",
       "    .dataframe thead th {\n",
       "        text-align: right;\n",
       "    }\n",
       "</style>\n",
       "<table border=\"1\" class=\"dataframe\">\n",
       "  <thead>\n",
       "    <tr style=\"text-align: right;\">\n",
       "      <th></th>\n",
       "      <th>사용일자</th>\n",
       "      <th>노선명</th>\n",
       "      <th>역명</th>\n",
       "      <th>승차총승객수</th>\n",
       "      <th>하차총승객수</th>\n",
       "    </tr>\n",
       "  </thead>\n",
       "  <tbody>\n",
       "    <tr>\n",
       "      <th>0</th>\n",
       "      <td>20210201</td>\n",
       "      <td>중앙선</td>\n",
       "      <td>용문</td>\n",
       "      <td>1282</td>\n",
       "      <td>1259</td>\n",
       "    </tr>\n",
       "    <tr>\n",
       "      <th>1</th>\n",
       "      <td>20210201</td>\n",
       "      <td>중앙선</td>\n",
       "      <td>지평</td>\n",
       "      <td>48</td>\n",
       "      <td>43</td>\n",
       "    </tr>\n",
       "    <tr>\n",
       "      <th>2</th>\n",
       "      <td>20210201</td>\n",
       "      <td>중앙선</td>\n",
       "      <td>아신</td>\n",
       "      <td>415</td>\n",
       "      <td>413</td>\n",
       "    </tr>\n",
       "    <tr>\n",
       "      <th>3</th>\n",
       "      <td>20210201</td>\n",
       "      <td>중앙선</td>\n",
       "      <td>양수</td>\n",
       "      <td>1463</td>\n",
       "      <td>1466</td>\n",
       "    </tr>\n",
       "    <tr>\n",
       "      <th>4</th>\n",
       "      <td>20210201</td>\n",
       "      <td>중앙선</td>\n",
       "      <td>운길산</td>\n",
       "      <td>495</td>\n",
       "      <td>463</td>\n",
       "    </tr>\n",
       "    <tr>\n",
       "      <th>...</th>\n",
       "      <td>...</td>\n",
       "      <td>...</td>\n",
       "      <td>...</td>\n",
       "      <td>...</td>\n",
       "      <td>...</td>\n",
       "    </tr>\n",
       "    <tr>\n",
       "      <th>16746</th>\n",
       "      <td>20210228</td>\n",
       "      <td>중앙선</td>\n",
       "      <td>오빈</td>\n",
       "      <td>216</td>\n",
       "      <td>236</td>\n",
       "    </tr>\n",
       "    <tr>\n",
       "      <th>16747</th>\n",
       "      <td>20210228</td>\n",
       "      <td>중앙선</td>\n",
       "      <td>양평</td>\n",
       "      <td>3299</td>\n",
       "      <td>3187</td>\n",
       "    </tr>\n",
       "    <tr>\n",
       "      <th>16748</th>\n",
       "      <td>20210228</td>\n",
       "      <td>중앙선</td>\n",
       "      <td>원덕</td>\n",
       "      <td>322</td>\n",
       "      <td>304</td>\n",
       "    </tr>\n",
       "    <tr>\n",
       "      <th>16749</th>\n",
       "      <td>20210228</td>\n",
       "      <td>중앙선</td>\n",
       "      <td>용문</td>\n",
       "      <td>1899</td>\n",
       "      <td>1716</td>\n",
       "    </tr>\n",
       "    <tr>\n",
       "      <th>16750</th>\n",
       "      <td>20210228</td>\n",
       "      <td>중앙선</td>\n",
       "      <td>지평</td>\n",
       "      <td>30</td>\n",
       "      <td>31</td>\n",
       "    </tr>\n",
       "  </tbody>\n",
       "</table>\n",
       "<p>16751 rows × 5 columns</p>\n",
       "</div>"
      ],
      "text/plain": [
       "           사용일자  노선명   역명  승차총승객수  하차총승객수\n",
       "0      20210201  중앙선   용문    1282    1259\n",
       "1      20210201  중앙선   지평      48      43\n",
       "2      20210201  중앙선   아신     415     413\n",
       "3      20210201  중앙선   양수    1463    1466\n",
       "4      20210201  중앙선  운길산     495     463\n",
       "...         ...  ...  ...     ...     ...\n",
       "16746  20210228  중앙선   오빈     216     236\n",
       "16747  20210228  중앙선   양평    3299    3187\n",
       "16748  20210228  중앙선   원덕     322     304\n",
       "16749  20210228  중앙선   용문    1899    1716\n",
       "16750  20210228  중앙선   지평      30      31\n",
       "\n",
       "[16751 rows x 5 columns]"
      ]
     },
     "execution_count": 55,
     "metadata": {},
     "output_type": "execute_result"
    }
   ],
   "source": [
    "# ‘등록일자’ 컬럼을 삭제하세요\n",
    "df_csm1 = df_csm.drop(['등록일자'], axis=1)\n",
    "df_csm1"
   ]
  },
  {
   "cell_type": "code",
   "execution_count": 56,
   "id": "68cd425b",
   "metadata": {},
   "outputs": [
    {
     "data": {
      "text/html": [
       "<div>\n",
       "<style scoped>\n",
       "    .dataframe tbody tr th:only-of-type {\n",
       "        vertical-align: middle;\n",
       "    }\n",
       "\n",
       "    .dataframe tbody tr th {\n",
       "        vertical-align: top;\n",
       "    }\n",
       "\n",
       "    .dataframe thead th {\n",
       "        text-align: right;\n",
       "    }\n",
       "</style>\n",
       "<table border=\"1\" class=\"dataframe\">\n",
       "  <thead>\n",
       "    <tr style=\"text-align: right;\">\n",
       "      <th></th>\n",
       "      <th>사용일자</th>\n",
       "      <th>노선명</th>\n",
       "      <th>역명</th>\n",
       "      <th>승차총승객수</th>\n",
       "      <th>하차총승객수</th>\n",
       "      <th>등록일자</th>\n",
       "      <th>승하차총승객수</th>\n",
       "    </tr>\n",
       "  </thead>\n",
       "  <tbody>\n",
       "    <tr>\n",
       "      <th>0</th>\n",
       "      <td>20210201</td>\n",
       "      <td>중앙선</td>\n",
       "      <td>용문</td>\n",
       "      <td>1282</td>\n",
       "      <td>1259</td>\n",
       "      <td>20210204</td>\n",
       "      <td>23</td>\n",
       "    </tr>\n",
       "    <tr>\n",
       "      <th>1</th>\n",
       "      <td>20210201</td>\n",
       "      <td>중앙선</td>\n",
       "      <td>지평</td>\n",
       "      <td>48</td>\n",
       "      <td>43</td>\n",
       "      <td>20210204</td>\n",
       "      <td>5</td>\n",
       "    </tr>\n",
       "    <tr>\n",
       "      <th>2</th>\n",
       "      <td>20210201</td>\n",
       "      <td>중앙선</td>\n",
       "      <td>아신</td>\n",
       "      <td>415</td>\n",
       "      <td>413</td>\n",
       "      <td>20210204</td>\n",
       "      <td>2</td>\n",
       "    </tr>\n",
       "    <tr>\n",
       "      <th>3</th>\n",
       "      <td>20210201</td>\n",
       "      <td>중앙선</td>\n",
       "      <td>양수</td>\n",
       "      <td>1463</td>\n",
       "      <td>1466</td>\n",
       "      <td>20210204</td>\n",
       "      <td>-3</td>\n",
       "    </tr>\n",
       "    <tr>\n",
       "      <th>4</th>\n",
       "      <td>20210201</td>\n",
       "      <td>중앙선</td>\n",
       "      <td>운길산</td>\n",
       "      <td>495</td>\n",
       "      <td>463</td>\n",
       "      <td>20210204</td>\n",
       "      <td>32</td>\n",
       "    </tr>\n",
       "    <tr>\n",
       "      <th>...</th>\n",
       "      <td>...</td>\n",
       "      <td>...</td>\n",
       "      <td>...</td>\n",
       "      <td>...</td>\n",
       "      <td>...</td>\n",
       "      <td>...</td>\n",
       "      <td>...</td>\n",
       "    </tr>\n",
       "    <tr>\n",
       "      <th>16746</th>\n",
       "      <td>20210228</td>\n",
       "      <td>중앙선</td>\n",
       "      <td>오빈</td>\n",
       "      <td>216</td>\n",
       "      <td>236</td>\n",
       "      <td>20210303</td>\n",
       "      <td>-20</td>\n",
       "    </tr>\n",
       "    <tr>\n",
       "      <th>16747</th>\n",
       "      <td>20210228</td>\n",
       "      <td>중앙선</td>\n",
       "      <td>양평</td>\n",
       "      <td>3299</td>\n",
       "      <td>3187</td>\n",
       "      <td>20210303</td>\n",
       "      <td>112</td>\n",
       "    </tr>\n",
       "    <tr>\n",
       "      <th>16748</th>\n",
       "      <td>20210228</td>\n",
       "      <td>중앙선</td>\n",
       "      <td>원덕</td>\n",
       "      <td>322</td>\n",
       "      <td>304</td>\n",
       "      <td>20210303</td>\n",
       "      <td>18</td>\n",
       "    </tr>\n",
       "    <tr>\n",
       "      <th>16749</th>\n",
       "      <td>20210228</td>\n",
       "      <td>중앙선</td>\n",
       "      <td>용문</td>\n",
       "      <td>1899</td>\n",
       "      <td>1716</td>\n",
       "      <td>20210303</td>\n",
       "      <td>183</td>\n",
       "    </tr>\n",
       "    <tr>\n",
       "      <th>16750</th>\n",
       "      <td>20210228</td>\n",
       "      <td>중앙선</td>\n",
       "      <td>지평</td>\n",
       "      <td>30</td>\n",
       "      <td>31</td>\n",
       "      <td>20210303</td>\n",
       "      <td>-1</td>\n",
       "    </tr>\n",
       "  </tbody>\n",
       "</table>\n",
       "<p>16751 rows × 7 columns</p>\n",
       "</div>"
      ],
      "text/plain": [
       "           사용일자  노선명   역명  승차총승객수  하차총승객수      등록일자  승하차총승객수\n",
       "0      20210201  중앙선   용문    1282    1259  20210204       23\n",
       "1      20210201  중앙선   지평      48      43  20210204        5\n",
       "2      20210201  중앙선   아신     415     413  20210204        2\n",
       "3      20210201  중앙선   양수    1463    1466  20210204       -3\n",
       "4      20210201  중앙선  운길산     495     463  20210204       32\n",
       "...         ...  ...  ...     ...     ...       ...      ...\n",
       "16746  20210228  중앙선   오빈     216     236  20210303      -20\n",
       "16747  20210228  중앙선   양평    3299    3187  20210303      112\n",
       "16748  20210228  중앙선   원덕     322     304  20210303       18\n",
       "16749  20210228  중앙선   용문    1899    1716  20210303      183\n",
       "16750  20210228  중앙선   지평      30      31  20210303       -1\n",
       "\n",
       "[16751 rows x 7 columns]"
      ]
     },
     "execution_count": 56,
     "metadata": {},
     "output_type": "execute_result"
    }
   ],
   "source": [
    "#'승차총승객수’와 ‘하차총승객수’ 컬럼의 차이를 계산한 ‘승하차총승객수차이’ 컬럼을 생성하세요.\n",
    "df_csm['승하차총승객수'] = df_csm['승차총승객수']-df_csm['하차총승객수']\n",
    "df_csm"
   ]
  },
  {
   "cell_type": "code",
   "execution_count": 57,
   "id": "4be33e4c",
   "metadata": {},
   "outputs": [
    {
     "data": {
      "text/html": [
       "<div>\n",
       "<style scoped>\n",
       "    .dataframe tbody tr th:only-of-type {\n",
       "        vertical-align: middle;\n",
       "    }\n",
       "\n",
       "    .dataframe tbody tr th {\n",
       "        vertical-align: top;\n",
       "    }\n",
       "\n",
       "    .dataframe thead th {\n",
       "        text-align: right;\n",
       "    }\n",
       "</style>\n",
       "<table border=\"1\" class=\"dataframe\">\n",
       "  <thead>\n",
       "    <tr style=\"text-align: right;\">\n",
       "      <th></th>\n",
       "      <th>사용일자</th>\n",
       "      <th>노선명</th>\n",
       "      <th>역명</th>\n",
       "      <th>승차총승객수</th>\n",
       "      <th>하차총승객수</th>\n",
       "      <th>등록일자</th>\n",
       "      <th>승하차총승객수차이</th>\n",
       "    </tr>\n",
       "  </thead>\n",
       "  <tbody>\n",
       "    <tr>\n",
       "      <th>0</th>\n",
       "      <td>20210201</td>\n",
       "      <td>중앙선</td>\n",
       "      <td>용문</td>\n",
       "      <td>1282</td>\n",
       "      <td>1259</td>\n",
       "      <td>20210204</td>\n",
       "      <td>23</td>\n",
       "    </tr>\n",
       "    <tr>\n",
       "      <th>1</th>\n",
       "      <td>20210201</td>\n",
       "      <td>중앙선</td>\n",
       "      <td>지평</td>\n",
       "      <td>48</td>\n",
       "      <td>43</td>\n",
       "      <td>20210204</td>\n",
       "      <td>5</td>\n",
       "    </tr>\n",
       "    <tr>\n",
       "      <th>2</th>\n",
       "      <td>20210201</td>\n",
       "      <td>중앙선</td>\n",
       "      <td>아신</td>\n",
       "      <td>415</td>\n",
       "      <td>413</td>\n",
       "      <td>20210204</td>\n",
       "      <td>2</td>\n",
       "    </tr>\n",
       "    <tr>\n",
       "      <th>3</th>\n",
       "      <td>20210201</td>\n",
       "      <td>중앙선</td>\n",
       "      <td>양수</td>\n",
       "      <td>1463</td>\n",
       "      <td>1466</td>\n",
       "      <td>20210204</td>\n",
       "      <td>-3</td>\n",
       "    </tr>\n",
       "    <tr>\n",
       "      <th>4</th>\n",
       "      <td>20210201</td>\n",
       "      <td>중앙선</td>\n",
       "      <td>운길산</td>\n",
       "      <td>495</td>\n",
       "      <td>463</td>\n",
       "      <td>20210204</td>\n",
       "      <td>32</td>\n",
       "    </tr>\n",
       "    <tr>\n",
       "      <th>...</th>\n",
       "      <td>...</td>\n",
       "      <td>...</td>\n",
       "      <td>...</td>\n",
       "      <td>...</td>\n",
       "      <td>...</td>\n",
       "      <td>...</td>\n",
       "      <td>...</td>\n",
       "    </tr>\n",
       "    <tr>\n",
       "      <th>16746</th>\n",
       "      <td>20210228</td>\n",
       "      <td>중앙선</td>\n",
       "      <td>오빈</td>\n",
       "      <td>216</td>\n",
       "      <td>236</td>\n",
       "      <td>20210303</td>\n",
       "      <td>-20</td>\n",
       "    </tr>\n",
       "    <tr>\n",
       "      <th>16747</th>\n",
       "      <td>20210228</td>\n",
       "      <td>중앙선</td>\n",
       "      <td>양평</td>\n",
       "      <td>3299</td>\n",
       "      <td>3187</td>\n",
       "      <td>20210303</td>\n",
       "      <td>112</td>\n",
       "    </tr>\n",
       "    <tr>\n",
       "      <th>16748</th>\n",
       "      <td>20210228</td>\n",
       "      <td>중앙선</td>\n",
       "      <td>원덕</td>\n",
       "      <td>322</td>\n",
       "      <td>304</td>\n",
       "      <td>20210303</td>\n",
       "      <td>18</td>\n",
       "    </tr>\n",
       "    <tr>\n",
       "      <th>16749</th>\n",
       "      <td>20210228</td>\n",
       "      <td>중앙선</td>\n",
       "      <td>용문</td>\n",
       "      <td>1899</td>\n",
       "      <td>1716</td>\n",
       "      <td>20210303</td>\n",
       "      <td>183</td>\n",
       "    </tr>\n",
       "    <tr>\n",
       "      <th>16750</th>\n",
       "      <td>20210228</td>\n",
       "      <td>중앙선</td>\n",
       "      <td>지평</td>\n",
       "      <td>30</td>\n",
       "      <td>31</td>\n",
       "      <td>20210303</td>\n",
       "      <td>-1</td>\n",
       "    </tr>\n",
       "  </tbody>\n",
       "</table>\n",
       "<p>16751 rows × 7 columns</p>\n",
       "</div>"
      ],
      "text/plain": [
       "           사용일자  노선명   역명  승차총승객수  하차총승객수      등록일자  승하차총승객수차이\n",
       "0      20210201  중앙선   용문    1282    1259  20210204         23\n",
       "1      20210201  중앙선   지평      48      43  20210204          5\n",
       "2      20210201  중앙선   아신     415     413  20210204          2\n",
       "3      20210201  중앙선   양수    1463    1466  20210204         -3\n",
       "4      20210201  중앙선  운길산     495     463  20210204         32\n",
       "...         ...  ...  ...     ...     ...       ...        ...\n",
       "16746  20210228  중앙선   오빈     216     236  20210303        -20\n",
       "16747  20210228  중앙선   양평    3299    3187  20210303        112\n",
       "16748  20210228  중앙선   원덕     322     304  20210303         18\n",
       "16749  20210228  중앙선   용문    1899    1716  20210303        183\n",
       "16750  20210228  중앙선   지평      30      31  20210303         -1\n",
       "\n",
       "[16751 rows x 7 columns]"
      ]
     },
     "execution_count": 57,
     "metadata": {},
     "output_type": "execute_result"
    }
   ],
   "source": [
    "df_csm.rename(columns={'승하차총승객수':'승하차총승객수차이'}, inplace=True)\n",
    "df_csm"
   ]
  },
  {
   "cell_type": "code",
   "execution_count": 58,
   "id": "76e9477b",
   "metadata": {},
   "outputs": [
    {
     "data": {
      "text/plain": [
       "np.float64(30.870276401408873)"
      ]
     },
     "execution_count": 58,
     "metadata": {},
     "output_type": "execute_result"
    }
   ],
   "source": [
    "#‘승하차총승객수차이’의 평균값을 계산하세요\n",
    "df_csm['승하차총승객수차이'].mean()"
   ]
  },
  {
   "cell_type": "code",
   "execution_count": 18,
   "id": "28c91092",
   "metadata": {},
   "outputs": [
    {
     "data": {
      "text/html": [
       "<div>\n",
       "<style scoped>\n",
       "    .dataframe tbody tr th:only-of-type {\n",
       "        vertical-align: middle;\n",
       "    }\n",
       "\n",
       "    .dataframe tbody tr th {\n",
       "        vertical-align: top;\n",
       "    }\n",
       "\n",
       "    .dataframe thead th {\n",
       "        text-align: right;\n",
       "    }\n",
       "</style>\n",
       "<table border=\"1\" class=\"dataframe\">\n",
       "  <thead>\n",
       "    <tr style=\"text-align: right;\">\n",
       "      <th></th>\n",
       "      <th>사용일자</th>\n",
       "      <th>노선명</th>\n",
       "      <th>역명</th>\n",
       "      <th>승차총승객수</th>\n",
       "      <th>하차총승객수</th>\n",
       "      <th>등록일자</th>\n",
       "    </tr>\n",
       "  </thead>\n",
       "  <tbody>\n",
       "    <tr>\n",
       "      <th>8573</th>\n",
       "      <td>20210215</td>\n",
       "      <td>공항철도 1호선</td>\n",
       "      <td>영종</td>\n",
       "      <td>2540</td>\n",
       "      <td>2584</td>\n",
       "      <td>20210218</td>\n",
       "    </tr>\n",
       "    <tr>\n",
       "      <th>8205</th>\n",
       "      <td>20210214</td>\n",
       "      <td>4호선</td>\n",
       "      <td>당고개</td>\n",
       "      <td>6298</td>\n",
       "      <td>5901</td>\n",
       "      <td>20210217</td>\n",
       "    </tr>\n",
       "    <tr>\n",
       "      <th>15818</th>\n",
       "      <td>20210227</td>\n",
       "      <td>8호선</td>\n",
       "      <td>잠실(송파구청)</td>\n",
       "      <td>11415</td>\n",
       "      <td>12852</td>\n",
       "      <td>20210302</td>\n",
       "    </tr>\n",
       "    <tr>\n",
       "      <th>5123</th>\n",
       "      <td>20210209</td>\n",
       "      <td>7호선</td>\n",
       "      <td>먹골</td>\n",
       "      <td>9726</td>\n",
       "      <td>9501</td>\n",
       "      <td>20210212</td>\n",
       "    </tr>\n",
       "    <tr>\n",
       "      <th>4464</th>\n",
       "      <td>20210208</td>\n",
       "      <td>8호선</td>\n",
       "      <td>단대오거리</td>\n",
       "      <td>9811</td>\n",
       "      <td>9629</td>\n",
       "      <td>20210211</td>\n",
       "    </tr>\n",
       "    <tr>\n",
       "      <th>9308</th>\n",
       "      <td>20210216</td>\n",
       "      <td>3호선</td>\n",
       "      <td>약수</td>\n",
       "      <td>11914</td>\n",
       "      <td>11586</td>\n",
       "      <td>20210219</td>\n",
       "    </tr>\n",
       "    <tr>\n",
       "      <th>6680</th>\n",
       "      <td>20210212</td>\n",
       "      <td>4호선</td>\n",
       "      <td>충무로</td>\n",
       "      <td>3831</td>\n",
       "      <td>3922</td>\n",
       "      <td>20210215</td>\n",
       "    </tr>\n",
       "    <tr>\n",
       "      <th>415</th>\n",
       "      <td>20210201</td>\n",
       "      <td>6호선</td>\n",
       "      <td>독바위</td>\n",
       "      <td>2492</td>\n",
       "      <td>2658</td>\n",
       "      <td>20210204</td>\n",
       "    </tr>\n",
       "    <tr>\n",
       "      <th>14855</th>\n",
       "      <td>20210225</td>\n",
       "      <td>분당선</td>\n",
       "      <td>미금</td>\n",
       "      <td>14825</td>\n",
       "      <td>15662</td>\n",
       "      <td>20210228</td>\n",
       "    </tr>\n",
       "    <tr>\n",
       "      <th>9364</th>\n",
       "      <td>20210216</td>\n",
       "      <td>중앙선</td>\n",
       "      <td>구리</td>\n",
       "      <td>12200</td>\n",
       "      <td>12558</td>\n",
       "      <td>20210219</td>\n",
       "    </tr>\n",
       "  </tbody>\n",
       "</table>\n",
       "</div>"
      ],
      "text/plain": [
       "           사용일자       노선명        역명  승차총승객수  하차총승객수      등록일자\n",
       "8573   20210215  공항철도 1호선        영종    2540    2584  20210218\n",
       "8205   20210214       4호선       당고개    6298    5901  20210217\n",
       "15818  20210227       8호선  잠실(송파구청)   11415   12852  20210302\n",
       "5123   20210209       7호선        먹골    9726    9501  20210212\n",
       "4464   20210208       8호선     단대오거리    9811    9629  20210211\n",
       "9308   20210216       3호선        약수   11914   11586  20210219\n",
       "6680   20210212       4호선       충무로    3831    3922  20210215\n",
       "415    20210201       6호선       독바위    2492    2658  20210204\n",
       "14855  20210225       분당선        미금   14825   15662  20210228\n",
       "9364   20210216       중앙선        구리   12200   12558  20210219"
      ]
     },
     "execution_count": 18,
     "metadata": {},
     "output_type": "execute_result"
    }
   ],
   "source": [
    "# 전체 중 10개의 아이템을 샘플링해서 데이터프레임을 생성하세요.\n",
    "#.sample()\n",
    "sample_df = df_csm.sample(10)\n",
    "sample_df"
   ]
  },
  {
   "cell_type": "code",
   "execution_count": 19,
   "id": "31542759",
   "metadata": {},
   "outputs": [
    {
     "data": {
      "text/html": [
       "<div>\n",
       "<style scoped>\n",
       "    .dataframe tbody tr th:only-of-type {\n",
       "        vertical-align: middle;\n",
       "    }\n",
       "\n",
       "    .dataframe tbody tr th {\n",
       "        vertical-align: top;\n",
       "    }\n",
       "\n",
       "    .dataframe thead th {\n",
       "        text-align: right;\n",
       "    }\n",
       "</style>\n",
       "<table border=\"1\" class=\"dataframe\">\n",
       "  <thead>\n",
       "    <tr style=\"text-align: right;\">\n",
       "      <th></th>\n",
       "      <th>사용일자</th>\n",
       "      <th>노선명</th>\n",
       "      <th>역명</th>\n",
       "      <th>승차총승객수</th>\n",
       "      <th>하차총승객수</th>\n",
       "      <th>등록일자</th>\n",
       "    </tr>\n",
       "  </thead>\n",
       "  <tbody>\n",
       "    <tr>\n",
       "      <th>8573</th>\n",
       "      <td>20210215</td>\n",
       "      <td>공항철도 1호선</td>\n",
       "      <td>영종</td>\n",
       "      <td>2540</td>\n",
       "      <td>2584</td>\n",
       "      <td>20210218</td>\n",
       "    </tr>\n",
       "    <tr>\n",
       "      <th>8205</th>\n",
       "      <td>20210214</td>\n",
       "      <td>line4</td>\n",
       "      <td>당고개</td>\n",
       "      <td>6298</td>\n",
       "      <td>5901</td>\n",
       "      <td>20210217</td>\n",
       "    </tr>\n",
       "    <tr>\n",
       "      <th>15818</th>\n",
       "      <td>20210227</td>\n",
       "      <td>line8</td>\n",
       "      <td>잠실(송파구청)</td>\n",
       "      <td>11415</td>\n",
       "      <td>12852</td>\n",
       "      <td>20210302</td>\n",
       "    </tr>\n",
       "    <tr>\n",
       "      <th>5123</th>\n",
       "      <td>20210209</td>\n",
       "      <td>line7</td>\n",
       "      <td>먹골</td>\n",
       "      <td>9726</td>\n",
       "      <td>9501</td>\n",
       "      <td>20210212</td>\n",
       "    </tr>\n",
       "    <tr>\n",
       "      <th>4464</th>\n",
       "      <td>20210208</td>\n",
       "      <td>line8</td>\n",
       "      <td>단대오거리</td>\n",
       "      <td>9811</td>\n",
       "      <td>9629</td>\n",
       "      <td>20210211</td>\n",
       "    </tr>\n",
       "    <tr>\n",
       "      <th>9308</th>\n",
       "      <td>20210216</td>\n",
       "      <td>line3</td>\n",
       "      <td>약수</td>\n",
       "      <td>11914</td>\n",
       "      <td>11586</td>\n",
       "      <td>20210219</td>\n",
       "    </tr>\n",
       "    <tr>\n",
       "      <th>6680</th>\n",
       "      <td>20210212</td>\n",
       "      <td>line4</td>\n",
       "      <td>충무로</td>\n",
       "      <td>3831</td>\n",
       "      <td>3922</td>\n",
       "      <td>20210215</td>\n",
       "    </tr>\n",
       "    <tr>\n",
       "      <th>415</th>\n",
       "      <td>20210201</td>\n",
       "      <td>line6</td>\n",
       "      <td>독바위</td>\n",
       "      <td>2492</td>\n",
       "      <td>2658</td>\n",
       "      <td>20210204</td>\n",
       "    </tr>\n",
       "    <tr>\n",
       "      <th>14855</th>\n",
       "      <td>20210225</td>\n",
       "      <td>분당선</td>\n",
       "      <td>미금</td>\n",
       "      <td>14825</td>\n",
       "      <td>15662</td>\n",
       "      <td>20210228</td>\n",
       "    </tr>\n",
       "    <tr>\n",
       "      <th>9364</th>\n",
       "      <td>20210216</td>\n",
       "      <td>중앙선</td>\n",
       "      <td>구리</td>\n",
       "      <td>12200</td>\n",
       "      <td>12558</td>\n",
       "      <td>20210219</td>\n",
       "    </tr>\n",
       "  </tbody>\n",
       "</table>\n",
       "</div>"
      ],
      "text/plain": [
       "           사용일자       노선명        역명  승차총승객수  하차총승객수      등록일자\n",
       "8573   20210215  공항철도 1호선        영종    2540    2584  20210218\n",
       "8205   20210214     line4       당고개    6298    5901  20210217\n",
       "15818  20210227     line8  잠실(송파구청)   11415   12852  20210302\n",
       "5123   20210209     line7        먹골    9726    9501  20210212\n",
       "4464   20210208     line8     단대오거리    9811    9629  20210211\n",
       "9308   20210216     line3        약수   11914   11586  20210219\n",
       "6680   20210212     line4       충무로    3831    3922  20210215\n",
       "415    20210201     line6       독바위    2492    2658  20210204\n",
       "14855  20210225       분당선        미금   14825   15662  20210228\n",
       "9364   20210216       중앙선        구리   12200   12558  20210219"
      ]
     },
     "execution_count": 19,
     "metadata": {},
     "output_type": "execute_result"
    }
   ],
   "source": [
    "#sample_df의 ‘노선명’ 컬럼의 값이 1호선, 2호선, 3호선 4호선을 영어(line1, line2, line3, line4)로 변경하세요\n",
    "\n",
    "def convert_line_name(line):\n",
    "    if '호선' in line:\n",
    "        try:\n",
    "            num = int(line.replace('호선', ''))\n",
    "            if 1<= num <=9:\n",
    "                return f'line{num}'\n",
    "            \n",
    "        except:\n",
    "            pass\n",
    "    return line\n",
    "        \n",
    "sample_df['노선명'] = sample_df['노선명'].apply(convert_line_name)\n",
    "sample_df\n",
    "                \n",
    "                \n",
    "    \n",
    "    \n",
    "    "
   ]
  },
  {
   "cell_type": "markdown",
   "id": "48b365c8",
   "metadata": {},
   "source": [
    "# 시계열 처리"
   ]
  },
  {
   "cell_type": "code",
   "execution_count": 20,
   "id": "876695da",
   "metadata": {},
   "outputs": [
    {
     "data": {
      "text/html": [
       "<div>\n",
       "<style scoped>\n",
       "    .dataframe tbody tr th:only-of-type {\n",
       "        vertical-align: middle;\n",
       "    }\n",
       "\n",
       "    .dataframe tbody tr th {\n",
       "        vertical-align: top;\n",
       "    }\n",
       "\n",
       "    .dataframe thead th {\n",
       "        text-align: right;\n",
       "    }\n",
       "</style>\n",
       "<table border=\"1\" class=\"dataframe\">\n",
       "  <thead>\n",
       "    <tr style=\"text-align: right;\">\n",
       "      <th></th>\n",
       "      <th>노선명</th>\n",
       "      <th>역명</th>\n",
       "      <th>승차총승객수</th>\n",
       "      <th>하차총승객수</th>\n",
       "      <th>등록일자</th>\n",
       "    </tr>\n",
       "    <tr>\n",
       "      <th>사용일자</th>\n",
       "      <th></th>\n",
       "      <th></th>\n",
       "      <th></th>\n",
       "      <th></th>\n",
       "      <th></th>\n",
       "    </tr>\n",
       "  </thead>\n",
       "  <tbody>\n",
       "    <tr>\n",
       "      <th>20210215</th>\n",
       "      <td>공항철도 1호선</td>\n",
       "      <td>영종</td>\n",
       "      <td>2540</td>\n",
       "      <td>2584</td>\n",
       "      <td>20210218</td>\n",
       "    </tr>\n",
       "    <tr>\n",
       "      <th>20210214</th>\n",
       "      <td>line4</td>\n",
       "      <td>당고개</td>\n",
       "      <td>6298</td>\n",
       "      <td>5901</td>\n",
       "      <td>20210217</td>\n",
       "    </tr>\n",
       "    <tr>\n",
       "      <th>20210227</th>\n",
       "      <td>line8</td>\n",
       "      <td>잠실(송파구청)</td>\n",
       "      <td>11415</td>\n",
       "      <td>12852</td>\n",
       "      <td>20210302</td>\n",
       "    </tr>\n",
       "    <tr>\n",
       "      <th>20210209</th>\n",
       "      <td>line7</td>\n",
       "      <td>먹골</td>\n",
       "      <td>9726</td>\n",
       "      <td>9501</td>\n",
       "      <td>20210212</td>\n",
       "    </tr>\n",
       "    <tr>\n",
       "      <th>20210208</th>\n",
       "      <td>line8</td>\n",
       "      <td>단대오거리</td>\n",
       "      <td>9811</td>\n",
       "      <td>9629</td>\n",
       "      <td>20210211</td>\n",
       "    </tr>\n",
       "    <tr>\n",
       "      <th>20210216</th>\n",
       "      <td>line3</td>\n",
       "      <td>약수</td>\n",
       "      <td>11914</td>\n",
       "      <td>11586</td>\n",
       "      <td>20210219</td>\n",
       "    </tr>\n",
       "    <tr>\n",
       "      <th>20210212</th>\n",
       "      <td>line4</td>\n",
       "      <td>충무로</td>\n",
       "      <td>3831</td>\n",
       "      <td>3922</td>\n",
       "      <td>20210215</td>\n",
       "    </tr>\n",
       "    <tr>\n",
       "      <th>20210201</th>\n",
       "      <td>line6</td>\n",
       "      <td>독바위</td>\n",
       "      <td>2492</td>\n",
       "      <td>2658</td>\n",
       "      <td>20210204</td>\n",
       "    </tr>\n",
       "    <tr>\n",
       "      <th>20210225</th>\n",
       "      <td>분당선</td>\n",
       "      <td>미금</td>\n",
       "      <td>14825</td>\n",
       "      <td>15662</td>\n",
       "      <td>20210228</td>\n",
       "    </tr>\n",
       "    <tr>\n",
       "      <th>20210216</th>\n",
       "      <td>중앙선</td>\n",
       "      <td>구리</td>\n",
       "      <td>12200</td>\n",
       "      <td>12558</td>\n",
       "      <td>20210219</td>\n",
       "    </tr>\n",
       "  </tbody>\n",
       "</table>\n",
       "</div>"
      ],
      "text/plain": [
       "               노선명        역명  승차총승객수  하차총승객수      등록일자\n",
       "사용일자                                                  \n",
       "20210215  공항철도 1호선        영종    2540    2584  20210218\n",
       "20210214     line4       당고개    6298    5901  20210217\n",
       "20210227     line8  잠실(송파구청)   11415   12852  20210302\n",
       "20210209     line7        먹골    9726    9501  20210212\n",
       "20210208     line8     단대오거리    9811    9629  20210211\n",
       "20210216     line3        약수   11914   11586  20210219\n",
       "20210212     line4       충무로    3831    3922  20210215\n",
       "20210201     line6       독바위    2492    2658  20210204\n",
       "20210225       분당선        미금   14825   15662  20210228\n",
       "20210216       중앙선        구리   12200   12558  20210219"
      ]
     },
     "execution_count": 20,
     "metadata": {},
     "output_type": "execute_result"
    }
   ],
   "source": [
    "# 인덱스를 '사용일자'로 바꾸어 설정\n",
    "sample_df = sample_df.set_index('사용일자')\n",
    "sample_df\n"
   ]
  },
  {
   "cell_type": "markdown",
   "id": "6ef2e20c",
   "metadata": {},
   "source": []
  },
  {
   "cell_type": "code",
   "execution_count": 24,
   "id": "8e62e2ad",
   "metadata": {},
   "outputs": [
    {
     "data": {
      "text/html": [
       "<div>\n",
       "<style scoped>\n",
       "    .dataframe tbody tr th:only-of-type {\n",
       "        vertical-align: middle;\n",
       "    }\n",
       "\n",
       "    .dataframe tbody tr th {\n",
       "        vertical-align: top;\n",
       "    }\n",
       "\n",
       "    .dataframe thead th {\n",
       "        text-align: right;\n",
       "    }\n",
       "</style>\n",
       "<table border=\"1\" class=\"dataframe\">\n",
       "  <thead>\n",
       "    <tr style=\"text-align: right;\">\n",
       "      <th></th>\n",
       "      <th>노선명</th>\n",
       "      <th>역명</th>\n",
       "      <th>승차총승객수</th>\n",
       "      <th>하차총승객수</th>\n",
       "      <th>등록일자</th>\n",
       "    </tr>\n",
       "    <tr>\n",
       "      <th>사용일자</th>\n",
       "      <th></th>\n",
       "      <th></th>\n",
       "      <th></th>\n",
       "      <th></th>\n",
       "      <th></th>\n",
       "    </tr>\n",
       "  </thead>\n",
       "  <tbody>\n",
       "    <tr>\n",
       "      <th>2021-02-15</th>\n",
       "      <td>공항철도 1호선</td>\n",
       "      <td>영종</td>\n",
       "      <td>2540</td>\n",
       "      <td>2584</td>\n",
       "      <td>20210218</td>\n",
       "    </tr>\n",
       "    <tr>\n",
       "      <th>2021-02-14</th>\n",
       "      <td>line4</td>\n",
       "      <td>당고개</td>\n",
       "      <td>6298</td>\n",
       "      <td>5901</td>\n",
       "      <td>20210217</td>\n",
       "    </tr>\n",
       "    <tr>\n",
       "      <th>2021-02-27</th>\n",
       "      <td>line8</td>\n",
       "      <td>잠실(송파구청)</td>\n",
       "      <td>11415</td>\n",
       "      <td>12852</td>\n",
       "      <td>20210302</td>\n",
       "    </tr>\n",
       "    <tr>\n",
       "      <th>2021-02-09</th>\n",
       "      <td>line7</td>\n",
       "      <td>먹골</td>\n",
       "      <td>9726</td>\n",
       "      <td>9501</td>\n",
       "      <td>20210212</td>\n",
       "    </tr>\n",
       "    <tr>\n",
       "      <th>2021-02-08</th>\n",
       "      <td>line8</td>\n",
       "      <td>단대오거리</td>\n",
       "      <td>9811</td>\n",
       "      <td>9629</td>\n",
       "      <td>20210211</td>\n",
       "    </tr>\n",
       "    <tr>\n",
       "      <th>2021-02-16</th>\n",
       "      <td>line3</td>\n",
       "      <td>약수</td>\n",
       "      <td>11914</td>\n",
       "      <td>11586</td>\n",
       "      <td>20210219</td>\n",
       "    </tr>\n",
       "    <tr>\n",
       "      <th>2021-02-12</th>\n",
       "      <td>line4</td>\n",
       "      <td>충무로</td>\n",
       "      <td>3831</td>\n",
       "      <td>3922</td>\n",
       "      <td>20210215</td>\n",
       "    </tr>\n",
       "    <tr>\n",
       "      <th>2021-02-01</th>\n",
       "      <td>line6</td>\n",
       "      <td>독바위</td>\n",
       "      <td>2492</td>\n",
       "      <td>2658</td>\n",
       "      <td>20210204</td>\n",
       "    </tr>\n",
       "    <tr>\n",
       "      <th>2021-02-25</th>\n",
       "      <td>분당선</td>\n",
       "      <td>미금</td>\n",
       "      <td>14825</td>\n",
       "      <td>15662</td>\n",
       "      <td>20210228</td>\n",
       "    </tr>\n",
       "    <tr>\n",
       "      <th>2021-02-16</th>\n",
       "      <td>중앙선</td>\n",
       "      <td>구리</td>\n",
       "      <td>12200</td>\n",
       "      <td>12558</td>\n",
       "      <td>20210219</td>\n",
       "    </tr>\n",
       "  </tbody>\n",
       "</table>\n",
       "</div>"
      ],
      "text/plain": [
       "                 노선명        역명  승차총승객수  하차총승객수      등록일자\n",
       "사용일자                                                    \n",
       "2021-02-15  공항철도 1호선        영종    2540    2584  20210218\n",
       "2021-02-14     line4       당고개    6298    5901  20210217\n",
       "2021-02-27     line8  잠실(송파구청)   11415   12852  20210302\n",
       "2021-02-09     line7        먹골    9726    9501  20210212\n",
       "2021-02-08     line8     단대오거리    9811    9629  20210211\n",
       "2021-02-16     line3        약수   11914   11586  20210219\n",
       "2021-02-12     line4       충무로    3831    3922  20210215\n",
       "2021-02-01     line6       독바위    2492    2658  20210204\n",
       "2021-02-25       분당선        미금   14825   15662  20210228\n",
       "2021-02-16       중앙선        구리   12200   12558  20210219"
      ]
     },
     "execution_count": 24,
     "metadata": {},
     "output_type": "execute_result"
    }
   ],
   "source": [
    "#'사용일자' 컬럼을 연도-월-일(예: 2021-02-01)의 형태로 표시되도록 수정)\n",
    "sample_df.index = pd.to_datetime(sample_df.index, format='%Y%m%d')\n",
    "sample_df"
   ]
  },
  {
   "cell_type": "code",
   "execution_count": null,
   "id": "34594d40",
   "metadata": {},
   "outputs": [
    {
     "data": {
      "text/plain": [
       "'2021-03-03'"
      ]
     },
     "execution_count": 36,
     "metadata": {},
     "output_type": "execute_result"
    }
   ],
   "source": [
    "#‘사용일자’ 컬럼을 연도-월-일(예:2021-02-01)의 형태로 표시되도록 수정하세요.\n",
    "#UDF 정의 getDate(data)\n",
    "\n",
    "def getDate(data):\n",
    "    dt = str(data)\n",
    "    yy = dt[:4]\n",
    "    mm = dt[4:6]\n",
    "    dd = dt[6:8]\n",
    "    return yy+'-'+mm+'-'+dd\n",
    "\n",
    "d = '20210303'\n",
    "getDate(d)\n",
    "        "
   ]
  },
  {
   "cell_type": "code",
   "execution_count": 42,
   "id": "c2d8695a",
   "metadata": {},
   "outputs": [
    {
     "data": {
      "text/html": [
       "<div>\n",
       "<style scoped>\n",
       "    .dataframe tbody tr th:only-of-type {\n",
       "        vertical-align: middle;\n",
       "    }\n",
       "\n",
       "    .dataframe tbody tr th {\n",
       "        vertical-align: top;\n",
       "    }\n",
       "\n",
       "    .dataframe thead th {\n",
       "        text-align: right;\n",
       "    }\n",
       "</style>\n",
       "<table border=\"1\" class=\"dataframe\">\n",
       "  <thead>\n",
       "    <tr style=\"text-align: right;\">\n",
       "      <th></th>\n",
       "      <th>노선_line3</th>\n",
       "      <th>노선_line4</th>\n",
       "      <th>노선_line6</th>\n",
       "      <th>노선_line7</th>\n",
       "      <th>노선_line8</th>\n",
       "      <th>노선_공항철도 1호선</th>\n",
       "      <th>노선_분당선</th>\n",
       "      <th>노선_중앙선</th>\n",
       "    </tr>\n",
       "    <tr>\n",
       "      <th>사용일자</th>\n",
       "      <th></th>\n",
       "      <th></th>\n",
       "      <th></th>\n",
       "      <th></th>\n",
       "      <th></th>\n",
       "      <th></th>\n",
       "      <th></th>\n",
       "      <th></th>\n",
       "    </tr>\n",
       "  </thead>\n",
       "  <tbody>\n",
       "    <tr>\n",
       "      <th>2021-02-15</th>\n",
       "      <td>0</td>\n",
       "      <td>0</td>\n",
       "      <td>0</td>\n",
       "      <td>0</td>\n",
       "      <td>0</td>\n",
       "      <td>1</td>\n",
       "      <td>0</td>\n",
       "      <td>0</td>\n",
       "    </tr>\n",
       "    <tr>\n",
       "      <th>2021-02-14</th>\n",
       "      <td>0</td>\n",
       "      <td>1</td>\n",
       "      <td>0</td>\n",
       "      <td>0</td>\n",
       "      <td>0</td>\n",
       "      <td>0</td>\n",
       "      <td>0</td>\n",
       "      <td>0</td>\n",
       "    </tr>\n",
       "    <tr>\n",
       "      <th>2021-02-27</th>\n",
       "      <td>0</td>\n",
       "      <td>0</td>\n",
       "      <td>0</td>\n",
       "      <td>0</td>\n",
       "      <td>1</td>\n",
       "      <td>0</td>\n",
       "      <td>0</td>\n",
       "      <td>0</td>\n",
       "    </tr>\n",
       "    <tr>\n",
       "      <th>2021-02-09</th>\n",
       "      <td>0</td>\n",
       "      <td>0</td>\n",
       "      <td>0</td>\n",
       "      <td>1</td>\n",
       "      <td>0</td>\n",
       "      <td>0</td>\n",
       "      <td>0</td>\n",
       "      <td>0</td>\n",
       "    </tr>\n",
       "    <tr>\n",
       "      <th>2021-02-08</th>\n",
       "      <td>0</td>\n",
       "      <td>0</td>\n",
       "      <td>0</td>\n",
       "      <td>0</td>\n",
       "      <td>1</td>\n",
       "      <td>0</td>\n",
       "      <td>0</td>\n",
       "      <td>0</td>\n",
       "    </tr>\n",
       "    <tr>\n",
       "      <th>2021-02-16</th>\n",
       "      <td>1</td>\n",
       "      <td>0</td>\n",
       "      <td>0</td>\n",
       "      <td>0</td>\n",
       "      <td>0</td>\n",
       "      <td>0</td>\n",
       "      <td>0</td>\n",
       "      <td>0</td>\n",
       "    </tr>\n",
       "    <tr>\n",
       "      <th>2021-02-12</th>\n",
       "      <td>0</td>\n",
       "      <td>1</td>\n",
       "      <td>0</td>\n",
       "      <td>0</td>\n",
       "      <td>0</td>\n",
       "      <td>0</td>\n",
       "      <td>0</td>\n",
       "      <td>0</td>\n",
       "    </tr>\n",
       "    <tr>\n",
       "      <th>2021-02-01</th>\n",
       "      <td>0</td>\n",
       "      <td>0</td>\n",
       "      <td>1</td>\n",
       "      <td>0</td>\n",
       "      <td>0</td>\n",
       "      <td>0</td>\n",
       "      <td>0</td>\n",
       "      <td>0</td>\n",
       "    </tr>\n",
       "    <tr>\n",
       "      <th>2021-02-25</th>\n",
       "      <td>0</td>\n",
       "      <td>0</td>\n",
       "      <td>0</td>\n",
       "      <td>0</td>\n",
       "      <td>0</td>\n",
       "      <td>0</td>\n",
       "      <td>1</td>\n",
       "      <td>0</td>\n",
       "    </tr>\n",
       "    <tr>\n",
       "      <th>2021-02-16</th>\n",
       "      <td>0</td>\n",
       "      <td>0</td>\n",
       "      <td>0</td>\n",
       "      <td>0</td>\n",
       "      <td>0</td>\n",
       "      <td>0</td>\n",
       "      <td>0</td>\n",
       "      <td>1</td>\n",
       "    </tr>\n",
       "  </tbody>\n",
       "</table>\n",
       "</div>"
      ],
      "text/plain": [
       "            노선_line3  노선_line4  노선_line6  노선_line7  노선_line8  노선_공항철도 1호선  \\\n",
       "사용일자                                                                        \n",
       "2021-02-15         0         0         0         0         0            1   \n",
       "2021-02-14         0         1         0         0         0            0   \n",
       "2021-02-27         0         0         0         0         1            0   \n",
       "2021-02-09         0         0         0         1         0            0   \n",
       "2021-02-08         0         0         0         0         1            0   \n",
       "2021-02-16         1         0         0         0         0            0   \n",
       "2021-02-12         0         1         0         0         0            0   \n",
       "2021-02-01         0         0         1         0         0            0   \n",
       "2021-02-25         0         0         0         0         0            0   \n",
       "2021-02-16         0         0         0         0         0            0   \n",
       "\n",
       "            노선_분당선  노선_중앙선  \n",
       "사용일자                        \n",
       "2021-02-15       0       0  \n",
       "2021-02-14       0       0  \n",
       "2021-02-27       0       0  \n",
       "2021-02-09       0       0  \n",
       "2021-02-08       0       0  \n",
       "2021-02-16       0       0  \n",
       "2021-02-12       0       0  \n",
       "2021-02-01       0       0  \n",
       "2021-02-25       1       0  \n",
       "2021-02-16       0       1  "
      ]
     },
     "execution_count": 42,
     "metadata": {},
     "output_type": "execute_result"
    }
   ],
   "source": [
    "#원핫인코딩\n",
    "dummies = pd.get_dummies(sample_df['노선명'], prefix='노선')\n",
    "dummies\n",
    "dummies.astype(int)"
   ]
  },
  {
   "cell_type": "code",
   "execution_count": null,
   "id": "ab82f625",
   "metadata": {},
   "outputs": [],
   "source": [
    "df.groupby(['노선명'])['승하차총승객수']"
   ]
  },
  {
   "cell_type": "code",
   "execution_count": 45,
   "id": "a8b9b4dc",
   "metadata": {},
   "outputs": [
    {
     "data": {
      "text/html": [
       "<div>\n",
       "<style scoped>\n",
       "    .dataframe tbody tr th:only-of-type {\n",
       "        vertical-align: middle;\n",
       "    }\n",
       "\n",
       "    .dataframe tbody tr th {\n",
       "        vertical-align: top;\n",
       "    }\n",
       "\n",
       "    .dataframe thead th {\n",
       "        text-align: right;\n",
       "    }\n",
       "</style>\n",
       "<table border=\"1\" class=\"dataframe\">\n",
       "  <thead>\n",
       "    <tr style=\"text-align: right;\">\n",
       "      <th></th>\n",
       "      <th>사용일자</th>\n",
       "      <th>승차총승객수</th>\n",
       "      <th>하차총승객수</th>\n",
       "      <th>등록일자</th>\n",
       "    </tr>\n",
       "    <tr>\n",
       "      <th>노선명</th>\n",
       "      <th></th>\n",
       "      <th></th>\n",
       "      <th></th>\n",
       "      <th></th>\n",
       "    </tr>\n",
       "  </thead>\n",
       "  <tbody>\n",
       "    <tr>\n",
       "      <th>1호선</th>\n",
       "      <td>2.021021e+07</td>\n",
       "      <td>16711.396429</td>\n",
       "      <td>16224.032143</td>\n",
       "      <td>2.021023e+07</td>\n",
       "    </tr>\n",
       "    <tr>\n",
       "      <th>2호선</th>\n",
       "      <td>2.021021e+07</td>\n",
       "      <td>20258.510000</td>\n",
       "      <td>20406.605714</td>\n",
       "      <td>2.021023e+07</td>\n",
       "    </tr>\n",
       "    <tr>\n",
       "      <th>3호선</th>\n",
       "      <td>2.021021e+07</td>\n",
       "      <td>11563.884739</td>\n",
       "      <td>11542.535752</td>\n",
       "      <td>2.021023e+07</td>\n",
       "    </tr>\n",
       "    <tr>\n",
       "      <th>4호선</th>\n",
       "      <td>2.021021e+07</td>\n",
       "      <td>13839.026099</td>\n",
       "      <td>13953.564560</td>\n",
       "      <td>2.021023e+07</td>\n",
       "    </tr>\n",
       "    <tr>\n",
       "      <th>5호선</th>\n",
       "      <td>2.021021e+07</td>\n",
       "      <td>8774.492588</td>\n",
       "      <td>8727.040431</td>\n",
       "      <td>2.021023e+07</td>\n",
       "    </tr>\n",
       "    <tr>\n",
       "      <th>6호선</th>\n",
       "      <td>2.021021e+07</td>\n",
       "      <td>6499.918173</td>\n",
       "      <td>6405.854424</td>\n",
       "      <td>2.021023e+07</td>\n",
       "    </tr>\n",
       "    <tr>\n",
       "      <th>7호선</th>\n",
       "      <td>2.021021e+07</td>\n",
       "      <td>10210.968487</td>\n",
       "      <td>10060.233193</td>\n",
       "      <td>2.021023e+07</td>\n",
       "    </tr>\n",
       "    <tr>\n",
       "      <th>8호선</th>\n",
       "      <td>2.021021e+07</td>\n",
       "      <td>8356.453782</td>\n",
       "      <td>8425.422269</td>\n",
       "      <td>2.021023e+07</td>\n",
       "    </tr>\n",
       "    <tr>\n",
       "      <th>9호선</th>\n",
       "      <td>2.021021e+07</td>\n",
       "      <td>8110.387143</td>\n",
       "      <td>8246.852857</td>\n",
       "      <td>2.021023e+07</td>\n",
       "    </tr>\n",
       "    <tr>\n",
       "      <th>9호선2~3단계</th>\n",
       "      <td>2.021021e+07</td>\n",
       "      <td>5238.137363</td>\n",
       "      <td>5156.379121</td>\n",
       "      <td>2.021023e+07</td>\n",
       "    </tr>\n",
       "    <tr>\n",
       "      <th>경강선</th>\n",
       "      <td>2.021021e+07</td>\n",
       "      <td>1970.116883</td>\n",
       "      <td>1908.357143</td>\n",
       "      <td>2.021023e+07</td>\n",
       "    </tr>\n",
       "    <tr>\n",
       "      <th>경부선</th>\n",
       "      <td>2.021021e+07</td>\n",
       "      <td>8366.500000</td>\n",
       "      <td>8366.444139</td>\n",
       "      <td>2.021023e+07</td>\n",
       "    </tr>\n",
       "    <tr>\n",
       "      <th>경원선</th>\n",
       "      <td>2.021021e+07</td>\n",
       "      <td>5051.796590</td>\n",
       "      <td>4940.018270</td>\n",
       "      <td>2.021023e+07</td>\n",
       "    </tr>\n",
       "    <tr>\n",
       "      <th>경의선</th>\n",
       "      <td>2.021021e+07</td>\n",
       "      <td>2962.963365</td>\n",
       "      <td>2910.443691</td>\n",
       "      <td>2.021023e+07</td>\n",
       "    </tr>\n",
       "    <tr>\n",
       "      <th>경인선</th>\n",
       "      <td>2.021021e+07</td>\n",
       "      <td>10789.323214</td>\n",
       "      <td>10672.037500</td>\n",
       "      <td>2.021023e+07</td>\n",
       "    </tr>\n",
       "    <tr>\n",
       "      <th>경춘선</th>\n",
       "      <td>2.021021e+07</td>\n",
       "      <td>1462.635338</td>\n",
       "      <td>1409.640977</td>\n",
       "      <td>2.021023e+07</td>\n",
       "    </tr>\n",
       "    <tr>\n",
       "      <th>공항철도 1호선</th>\n",
       "      <td>2.021021e+07</td>\n",
       "      <td>5076.122449</td>\n",
       "      <td>4643.492347</td>\n",
       "      <td>2.021023e+07</td>\n",
       "    </tr>\n",
       "    <tr>\n",
       "      <th>과천선</th>\n",
       "      <td>2.021021e+07</td>\n",
       "      <td>8984.544643</td>\n",
       "      <td>8827.571429</td>\n",
       "      <td>2.021023e+07</td>\n",
       "    </tr>\n",
       "    <tr>\n",
       "      <th>분당선</th>\n",
       "      <td>2.021021e+07</td>\n",
       "      <td>7849.137539</td>\n",
       "      <td>8079.867632</td>\n",
       "      <td>2.021023e+07</td>\n",
       "    </tr>\n",
       "    <tr>\n",
       "      <th>수인선</th>\n",
       "      <td>2.021021e+07</td>\n",
       "      <td>2341.289683</td>\n",
       "      <td>2335.438492</td>\n",
       "      <td>2.021023e+07</td>\n",
       "    </tr>\n",
       "    <tr>\n",
       "      <th>안산선</th>\n",
       "      <td>2.021021e+07</td>\n",
       "      <td>6966.684066</td>\n",
       "      <td>6926.851648</td>\n",
       "      <td>2.021023e+07</td>\n",
       "    </tr>\n",
       "    <tr>\n",
       "      <th>우이신설선</th>\n",
       "      <td>2.021021e+07</td>\n",
       "      <td>2559.425824</td>\n",
       "      <td>2508.461538</td>\n",
       "      <td>2.021023e+07</td>\n",
       "    </tr>\n",
       "    <tr>\n",
       "      <th>일산선</th>\n",
       "      <td>2.021021e+07</td>\n",
       "      <td>8072.929078</td>\n",
       "      <td>7861.592199</td>\n",
       "      <td>2.021023e+07</td>\n",
       "    </tr>\n",
       "    <tr>\n",
       "      <th>장항선</th>\n",
       "      <td>2.021021e+07</td>\n",
       "      <td>1495.559524</td>\n",
       "      <td>1447.095238</td>\n",
       "      <td>2.021023e+07</td>\n",
       "    </tr>\n",
       "    <tr>\n",
       "      <th>중앙선</th>\n",
       "      <td>2.021021e+07</td>\n",
       "      <td>3235.462585</td>\n",
       "      <td>3173.188776</td>\n",
       "      <td>2.021023e+07</td>\n",
       "    </tr>\n",
       "  </tbody>\n",
       "</table>\n",
       "</div>"
      ],
      "text/plain": [
       "                  사용일자        승차총승객수        하차총승객수          등록일자\n",
       "노선명                                                             \n",
       "1호선       2.021021e+07  16711.396429  16224.032143  2.021023e+07\n",
       "2호선       2.021021e+07  20258.510000  20406.605714  2.021023e+07\n",
       "3호선       2.021021e+07  11563.884739  11542.535752  2.021023e+07\n",
       "4호선       2.021021e+07  13839.026099  13953.564560  2.021023e+07\n",
       "5호선       2.021021e+07   8774.492588   8727.040431  2.021023e+07\n",
       "6호선       2.021021e+07   6499.918173   6405.854424  2.021023e+07\n",
       "7호선       2.021021e+07  10210.968487  10060.233193  2.021023e+07\n",
       "8호선       2.021021e+07   8356.453782   8425.422269  2.021023e+07\n",
       "9호선       2.021021e+07   8110.387143   8246.852857  2.021023e+07\n",
       "9호선2~3단계  2.021021e+07   5238.137363   5156.379121  2.021023e+07\n",
       "경강선       2.021021e+07   1970.116883   1908.357143  2.021023e+07\n",
       "경부선       2.021021e+07   8366.500000   8366.444139  2.021023e+07\n",
       "경원선       2.021021e+07   5051.796590   4940.018270  2.021023e+07\n",
       "경의선       2.021021e+07   2962.963365   2910.443691  2.021023e+07\n",
       "경인선       2.021021e+07  10789.323214  10672.037500  2.021023e+07\n",
       "경춘선       2.021021e+07   1462.635338   1409.640977  2.021023e+07\n",
       "공항철도 1호선  2.021021e+07   5076.122449   4643.492347  2.021023e+07\n",
       "과천선       2.021021e+07   8984.544643   8827.571429  2.021023e+07\n",
       "분당선       2.021021e+07   7849.137539   8079.867632  2.021023e+07\n",
       "수인선       2.021021e+07   2341.289683   2335.438492  2.021023e+07\n",
       "안산선       2.021021e+07   6966.684066   6926.851648  2.021023e+07\n",
       "우이신설선     2.021021e+07   2559.425824   2508.461538  2.021023e+07\n",
       "일산선       2.021021e+07   8072.929078   7861.592199  2.021023e+07\n",
       "장항선       2.021021e+07   1495.559524   1447.095238  2.021023e+07\n",
       "중앙선       2.021021e+07   3235.462585   3173.188776  2.021023e+07"
      ]
     },
     "execution_count": 45,
     "metadata": {},
     "output_type": "execute_result"
    }
   ],
   "source": [
    "#노선명으로 그룹핑해서 승차,하차 총승객수의 평균을 계산\n",
    "df_csm.groupby(['노선명']).mean(numeric_only=True)\n"
   ]
  },
  {
   "cell_type": "code",
   "execution_count": null,
   "id": "d1feacdd",
   "metadata": {},
   "outputs": [],
   "source": []
  },
  {
   "cell_type": "code",
   "execution_count": null,
   "id": "1324e334",
   "metadata": {},
   "outputs": [],
   "source": []
  },
  {
   "cell_type": "code",
   "execution_count": null,
   "id": "9a751110",
   "metadata": {},
   "outputs": [],
   "source": []
  },
  {
   "cell_type": "code",
   "execution_count": null,
   "id": "6958ffa6",
   "metadata": {},
   "outputs": [],
   "source": []
  }
 ],
 "metadata": {
  "kernelspec": {
   "display_name": "hipython",
   "language": "python",
   "name": "python3"
  },
  "language_info": {
   "codemirror_mode": {
    "name": "ipython",
    "version": 3
   },
   "file_extension": ".py",
   "mimetype": "text/x-python",
   "name": "python",
   "nbconvert_exporter": "python",
   "pygments_lexer": "ipython3",
   "version": "3.12.9"
  }
 },
 "nbformat": 4,
 "nbformat_minor": 5
}
