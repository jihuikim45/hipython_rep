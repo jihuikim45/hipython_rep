{
 "cells": [
  {
   "cell_type": "code",
   "execution_count": null,
   "id": "195f1907-3720-4f0d-9cff-937e3639bada",
   "metadata": {},
   "outputs": [],
   "source": []
  }
 ],
 "metadata": {
  "kernelspec": {
   "display_name": "",
   "name": ""
  },
  "language_info": {
   "name": ""
  }
 },
 "nbformat": 4,
 "nbformat_minor": 5
}
