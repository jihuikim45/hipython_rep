{
 "cells": [
  {
   "cell_type": "code",
   "execution_count": 2,
   "id": "84b73020",
   "metadata": {},
   "outputs": [],
   "source": [
    "import numpy as np\n",
    "import pandas as pd\n",
    "import matplotlib.pyplot as plt\n",
    "import scipy.stats as stats\n",
    "%matplotlib inline\n",
    "plt.rc('figure', figsize=(10, 6))\n",
    "from matplotlib import rcParams\n",
    "rcParams['font.family'] = 'New Gulim'\n",
    "rcParams['font.size'] = 10\n",
    "rcParams['axes.unicode_minus'] = False"
   ]
  },
  {
   "cell_type": "markdown",
   "id": "b4a4be90",
   "metadata": {},
   "source": [
    "# 가설검정 단계"
   ]
  },
  {
   "cell_type": "markdown",
   "id": "d24249e8",
   "metadata": {},
   "source": [
    "대한민국 남성의 "
   ]
  },
  {
   "cell_type": "code",
   "execution_count": 3,
   "id": "876f0e5a",
   "metadata": {},
   "outputs": [
    {
     "name": "stdout",
     "output_type": "stream",
     "text": [
      " 평균: 70.08573280308887\n",
      "p-value: 0.953913826658112\n",
      "검정결과: 귀무가설 채택\n",
      "대한민국 남성의 평균 몸무게는 70kg이다.\n"
     ]
    }
   ],
   "source": [
    "# 1. 가설수립\n",
    "# H0: 대한민국 남성의 평균 몸무게는 70킬로그램이다(차이가 없다)  \n",
    "# H1: 대한민국 남성의 평균 몸무게는 70킬로그렘이 아니다\n",
    "\n",
    "\n",
    "# 2. 통계량 산출 - 데이터 수집\n",
    "\n",
    "np.random.seed(123)\n",
    "weight = np.random.uniform(40, 100, 100)\n",
    "#weight\n",
    "\n",
    "test_result = stats.ttest_1samp(weight, 70)\n",
    "print(f\" 평균: {np.mean(weight)}\")\n",
    "print(f\"p-value: {test_result.pvalue}\")\n",
    "\n",
    "# 3. 기각 / 채택 여부 판단\n",
    "print(f\"검정결과: {'귀무가설 기각' if test_result.pvalue <0.05 else '귀무가설 채택'}\")\n",
    "\n",
    "# 4. 결정\n",
    "if test_result.pvalue<0.05:\n",
    "    print('대한민국 남성의 평균 몸무게는 70kg이 아니다.')\n",
    "else :\n",
    "    print('대한민국 남성의 평균 몸무게는 70kg이다.')"
   ]
  },
  {
   "cell_type": "code",
   "execution_count": 4,
   "id": "7fde94b8",
   "metadata": {},
   "outputs": [
    {
     "name": "stdout",
     "output_type": "stream",
     "text": [
      "t값 = 7.031, p값 = 0.0000000986\n",
      "검정결과: 귀무가설 기각\n"
     ]
    }
   ],
   "source": [
    "# 표본 데이터 (30명)\n",
    "coffee_data = [2.9, 2.4, 2.7, 3.0, 2.6, 2.8, 2.9, 3.1, 2.7, 2.6,\n",
    "               2.8, 2.5, 3.2, 3.0, 2.4, 2.6, 2.7, 3.1, 2.8, 2.7,\n",
    "               2.5, 2.9, 2.6, 2.8, 2.9, 2.5, 2.7, 2.8, 3.0, 2.9]\n",
    "\n",
    "# 단일표본 t-검정\n",
    "t_stat, p_value = stats.ttest_1samp(coffee_data, popmean=2.5)\n",
    "\n",
    "print(f\"t값 = {t_stat:.3f}, p값 = {p_value:.10f}\")\n",
    "\n",
    "print(f\"검정결과: {'귀무가설 기각' if p_value <0.05 else '귀무가설 기각'}\")"
   ]
  },
  {
   "cell_type": "markdown",
   "id": "57f0bf30",
   "metadata": {},
   "source": [
    "t값=7.031은 표본과 모집단 평균 간 차이가 표준오차의 7배라는 통계량 -> 표본의 평균이 모집단 평균 2.5에서 7*표준오차 만큼 떨어져 있다 -> 매우 큰 차이를 보인다.\n",
    "\n",
    "이 통계량은 p-value<0.05 이므로 통계적으로 유의한 차이가 있다고 할 수 있습니다."
   ]
  },
  {
   "cell_type": "code",
   "execution_count": 8,
   "id": "92ab179f",
   "metadata": {},
   "outputs": [
    {
     "name": "stdout",
     "output_type": "stream",
     "text": [
      "t값 = 5.331, p값 = 0.0000604698\n",
      "검정결과: 귀무가설 기각\n"
     ]
    }
   ],
   "source": [
    "group_A = [78, 85, 82, 88, 76, 81, 79, 84, 82, 80]\n",
    "group_B = [72, 75, 78, 74, 71, 77, 70, 76, 75, 73]\n",
    "\n",
    "t_stat, p_value = stats.ttest_ind(group_A, group_B, equal_var=False)\n",
    "print(f\"t값 = {t_stat:.3f}, p값 = {p_value:.10f}\")\n",
    "\n",
    "print(f\"검정결과: {'귀무가설 기각' if p_value <0.05 else '귀무가설 기각'}\")"
   ]
  },
  {
   "cell_type": "markdown",
   "id": "63fb423b",
   "metadata": {},
   "source": [
    "H0 두 그룹의 평균은 차이가 없다\n",
    "H1 차이가 있다\n",
    "\n",
    "통계량: 5.33 즉, 표준오차의 5배 정도 차이가 난다.\n",
    "유의확률: 0.000 < 0.05 이므로\n",
    "\n",
    "귀무가설을 기각한다.\n",
    "결론:  두 그룹의 평균은 유의한 차이가 있다."
   ]
  },
  {
   "cell_type": "code",
   "execution_count": 9,
   "id": "889c7cb2",
   "metadata": {},
   "outputs": [
    {
     "name": "stdout",
     "output_type": "stream",
     "text": [
      "t값 = 25.327, p값 = 0.0000000011\n",
      "검정결과: 귀무가설 기각\n"
     ]
    }
   ],
   "source": [
    "# 대응 표본 t-검정 예제: 약물 투여 전후 혈압 비교\n",
    "before = [120, 122, 143, 130, 135, 118, 127, 140, 132, 125]\n",
    "after = [115, 117, 138, 125, 129, 112, 120, 135, 126, 119]\n",
    "\n",
    "t_stat, p_value = stats.ttest_rel(before, after)\n",
    "print(f\"t값 = {t_stat:.3f}, p값 = {p_value:.10f}\")\n",
    "print(f\"검정결과: {'귀무가설 기각' if p_value <0.05 else '귀무가설 기각'}\")"
   ]
  },
  {
   "cell_type": "markdown",
   "id": "e7b23011",
   "metadata": {},
   "source": [
    "H0 두 그룹의 평균은 차이가 없다\n",
    "H1 차이가 있다\n",
    "\n",
    "통계량: 25.32 즉, 표준오차의 25배 정도 차이가 난다.\n",
    "유의확률: 0.000 < 0.05 이므로\n",
    "\n",
    "귀무가설을 기각한다.\n",
    "결론:  두 그룹의 평균은 유의한 차이가 있다."
   ]
  },
  {
   "cell_type": "code",
   "execution_count": 10,
   "id": "68f89509",
   "metadata": {},
   "outputs": [
    {
     "name": "stdout",
     "output_type": "stream",
     "text": [
      "chi2 = 3.857, p값 = 0.0495346134\n",
      "검정결과: 귀무가설 기각\n"
     ]
    }
   ],
   "source": [
    "# 범주형 변수 - 카기제곱 검정\n",
    "# 성별에 따라 커피를 더 선호하는지?\n",
    "\n",
    "import numpy as np\n",
    "obs = np.array([[40, 10],  # 남자 (좋아함, 안좋아함) 교차표\n",
    "                [30, 20]]) # 여자\n",
    "\n",
    "chi2, p, dof, expected = stats.chi2_contingency(obs)\n",
    "print(f\"chi2 = {chi2:.3f}, p값 = {p:.10f}\")\n",
    "\n",
    "print(f\"검정결과: {'귀무가설 기각' if p_value <0.05 else '귀무가설 기각'}\")"
   ]
  },
  {
   "cell_type": "markdown",
   "id": "9a85eb1c",
   "metadata": {},
   "source": [
    "H0: 두 그룹의 평균은 차이가 없다\n",
    "H1: 차이가 있다\n",
    "\n",
    "통계량: 3.857 즉, 표준오차의 3배 정도 차이가 난다.\n",
    "유의확률: 0.049 < 0.05 이므로\n",
    "\n",
    "귀무가설을 기각한다.\n",
    "결론:  두 그룹의 평균은 유의한 차이가 있다."
   ]
  },
  {
   "cell_type": "code",
   "execution_count": 11,
   "id": "92002f87",
   "metadata": {},
   "outputs": [
    {
     "name": "stdout",
     "output_type": "stream",
     "text": [
      "F값: 24.28, p값: 0.0013\n"
     ]
    }
   ],
   "source": [
    "from scipy.stats import f_oneway\n",
    "\n",
    "# 세 그룹의 점수\n",
    "group1 = [80, 85, 90]\n",
    "group2 = [70, 75, 78]\n",
    "group3 = [60, 65, 62]\n",
    "\n",
    "f_stat, p_value = f_oneway(group1, group2, group3)\n",
    "print(f\"F값: {f_stat:.2f}, p값: {p_value:.4f}\")"
   ]
  },
  {
   "cell_type": "markdown",
   "id": "e0b52fab",
   "metadata": {},
   "source": [
    "h0: 세개 그룹의 평균은 차이가 없다.\n",
    "h1: 적어도 1개 그룹은 다르다.\n",
    "\n",
    "결과: F값 24 - 그룹간 분산의 차이가 그룹내 분산보다 크다\n",
    "p-value = 0.0013 -> 유의수준보다 작다\n",
    "귀무가설을 기각하고, 그룹간 평군은 유의미한 차이가 있다."
   ]
  },
  {
   "cell_type": "markdown",
   "id": "6f1a35c6",
   "metadata": {},
   "source": [
    "문제) 양성진단 -> 실제 암일 확률은?\n",
    "진단의 정확도 95%, 암환자의 비율 10%\n",
    "\n",
    "암 : 사전 P(A)\n",
    "양성 : 사후 P(B)\n",
    "\n",
    "- 5% 오진 (P양성|암') = 0.05 = P(B|A')\n",
    "- 95% 정확(P양성|암) = 0.95 = P(B|A)\n",
    "\n",
    "\n",
    "암 P(A) = 0.1\n",
    "암' P(A') = 0.9  (암이 아닐 때)\n",
    "\n",
    "\n",
    "양성 P(B) = 양성&암 + 양성&암' = 0.095 + 0.045 = 0.14\n",
    "양성&암 = P(B∩A) = P(A)*P(B|A) = 0.1*0.95\n",
    "양성&암' = P(B∩A') = P(A')*P(B|A') = 0.9*0.05\n",
    "\n",
    "\n",
    "베이즈 정리\n",
    "P(A|B) = P(B|A) * P(A) / P(B) =       0.95 * 0.1  / 0.14  = 0.6785"
   ]
  },
  {
   "cell_type": "code",
   "execution_count": 13,
   "id": "bd135988",
   "metadata": {},
   "outputs": [
    {
     "data": {
      "text/plain": [
       "0.6785714285714285"
      ]
     },
     "execution_count": 13,
     "metadata": {},
     "output_type": "execute_result"
    }
   ],
   "source": [
    "P_A = 0.1 #암의 확률\n",
    "P_not_A = 1 - P_A #암이 아닐 확률\n",
    "P_B_given_A = 0.95 #양성판정의 정확도\n",
    "P_B_given_not_A = 0.05 #앙이 아닌데, 양성 판정이 나온 확률\n",
    "\n",
    "#베이즈의 정리\n",
    "P_A_given_B = P_B_given_A * P_A / ((P_B_given_A*P_A)+(P_B_given_not_A * P_not_A))\n",
    "P_A_given_B \n"
   ]
  },
  {
   "cell_type": "code",
   "execution_count": null,
   "id": "46c727d3",
   "metadata": {},
   "outputs": [],
   "source": []
  }
 ],
 "metadata": {
  "kernelspec": {
   "display_name": "hipython",
   "language": "python",
   "name": "python3"
  },
  "language_info": {
   "codemirror_mode": {
    "name": "ipython",
    "version": 3
   },
   "file_extension": ".py",
   "mimetype": "text/x-python",
   "name": "python",
   "nbconvert_exporter": "python",
   "pygments_lexer": "ipython3",
   "version": "3.12.9"
  }
 },
 "nbformat": 4,
 "nbformat_minor": 5
}
