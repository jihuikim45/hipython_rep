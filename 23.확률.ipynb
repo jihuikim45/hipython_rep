{
 "cells": [
  {
   "cell_type": "markdown",
   "id": "1456fc26",
   "metadata": {},
   "source": [
    "# 확률의 계산"
   ]
  },
  {
   "cell_type": "markdown",
   "id": "f1eee548",
   "metadata": {},
   "source": [
    "## 동전 던지기"
   ]
  },
  {
   "cell_type": "code",
   "execution_count": 3,
   "id": "1f0ff894",
   "metadata": {},
   "outputs": [
    {
     "data": {
      "text/plain": [
       "0.5"
      ]
     },
     "execution_count": 3,
     "metadata": {},
     "output_type": "execute_result"
    }
   ],
   "source": [
    "space = ['앞면', '뒷면']\n",
    "event = ['앞면']\n",
    "\n",
    "prob = lambda event, space : len(event) / len(space)\n",
    "prob(event, space)"
   ]
  },
  {
   "cell_type": "code",
   "execution_count": 4,
   "id": "53255d6f",
   "metadata": {},
   "outputs": [
    {
     "data": {
      "text/plain": [
       "0.16666666666666666"
      ]
     },
     "execution_count": 4,
     "metadata": {},
     "output_type": "execute_result"
    }
   ],
   "source": [
    "# 주사위 던지기\n",
    "# 1번 던져 3이 나올 확률\n",
    "\n",
    "space = [1,2,3,4,5,6]\n",
    "event = [3]\n",
    "prob(event, space)"
   ]
  },
  {
   "cell_type": "markdown",
   "id": "487df70c",
   "metadata": {},
   "source": [
    "# 확률의 덧셈"
   ]
  },
  {
   "cell_type": "markdown",
   "id": "b642fe34",
   "metadata": {},
   "source": [
    "# 주사위에서 짝수이거나 4보다 큰 수가 나올 확률"
   ]
  },
  {
   "cell_type": "code",
   "execution_count": 8,
   "id": "3c13566a",
   "metadata": {},
   "outputs": [],
   "source": [
    "space = {1,2,3,4,5,6}\n",
    "event_A = {2,4,6}\n",
    "event_B = {5,6}"
   ]
  },
  {
   "cell_type": "code",
   "execution_count": 9,
   "id": "7723e7d4",
   "metadata": {},
   "outputs": [
    {
     "data": {
      "text/plain": [
       "{2, 4, 5, 6}"
      ]
     },
     "execution_count": 9,
     "metadata": {},
     "output_type": "execute_result"
    }
   ],
   "source": [
    "합집합 = event_A | event_B\n",
    "합집합"
   ]
  },
  {
   "cell_type": "code",
   "execution_count": 11,
   "id": "35508590",
   "metadata": {},
   "outputs": [
    {
     "data": {
      "text/plain": [
       "0.6666666666666666"
      ]
     },
     "execution_count": 11,
     "metadata": {},
     "output_type": "execute_result"
    }
   ],
   "source": [
    "합집합의갯수 = len(합집합)\n",
    "전체경우의수 = len(space)\n",
    "확률_1 = 합집합의갯수 / 전체경우의수\n",
    "확률_1"
   ]
  },
  {
   "cell_type": "markdown",
   "id": "ddfc683e",
   "metadata": {},
   "source": [
    "# 2이하이거나 5이상인 눈이 나올 확률\n"
   ]
  },
  {
   "cell_type": "code",
   "execution_count": 12,
   "id": "21721eb7",
   "metadata": {},
   "outputs": [],
   "source": [
    "space = {1,2,3,4,5,6}\n",
    "event_C = {1,2}\n",
    "event_D = {5,6}"
   ]
  },
  {
   "cell_type": "code",
   "execution_count": 13,
   "id": "b678c91a",
   "metadata": {},
   "outputs": [
    {
     "data": {
      "text/plain": [
       "{1, 2, 5, 6}"
      ]
     },
     "execution_count": 13,
     "metadata": {},
     "output_type": "execute_result"
    }
   ],
   "source": [
    "set_add = event_C | event_D\n",
    "set_add"
   ]
  },
  {
   "cell_type": "code",
   "execution_count": 14,
   "id": "de3f172e",
   "metadata": {},
   "outputs": [
    {
     "data": {
      "text/plain": [
       "0.6666666666666666"
      ]
     },
     "execution_count": 14,
     "metadata": {},
     "output_type": "execute_result"
    }
   ],
   "source": [
    "set_a = len(set_add)\n",
    "whole_n = len(space)\n",
    "r_1 = set_a / whole_n\n",
    "r_1"
   ]
  },
  {
   "cell_type": "markdown",
   "id": "b23935c0",
   "metadata": {},
   "source": [
    "# 확률의 교집합"
   ]
  },
  {
   "cell_type": "code",
   "execution_count": 18,
   "id": "90ed04d9",
   "metadata": {},
   "outputs": [
    {
     "data": {
      "text/plain": [
       "{2}"
      ]
     },
     "execution_count": 18,
     "metadata": {},
     "output_type": "execute_result"
    }
   ],
   "source": [
    "#주사위를 던져 짝수 & 2일 확률\n",
    "#조건부 확률\n",
    "\n",
    "sample_space = {1,2,3,4,5,6}\n",
    "event_A = {2,4,6}\n",
    "event_B = {2}\n",
    "P_A = len(event_A) / len(sample_space) #A일 확률\n",
    "P_B = len(event_B) / len(sample_space) #B일 확률\n",
    "P_B_and_A_ele = event_A & event_B #교집합의 원소\n",
    "P_B_and_A_ele"
   ]
  },
  {
   "cell_type": "code",
   "execution_count": 19,
   "id": "54099068",
   "metadata": {},
   "outputs": [
    {
     "data": {
      "text/plain": [
       "0.16666666666666666"
      ]
     },
     "execution_count": 19,
     "metadata": {},
     "output_type": "execute_result"
    }
   ],
   "source": [
    "P_B_and_A = len(P_B_and_A_ele) / len(sample_space) #교집합이 나올 확률\n",
    "P_B_and_A"
   ]
  },
  {
   "cell_type": "code",
   "execution_count": 20,
   "id": "279d6cd6",
   "metadata": {},
   "outputs": [
    {
     "data": {
      "text/plain": [
       "0.3333333333333333"
      ]
     },
     "execution_count": 20,
     "metadata": {},
     "output_type": "execute_result"
    }
   ],
   "source": [
    "#조건부확률 : 짝수일때 2가 나올 확률\n",
    "#P(B|A) P(B_and_A) P_A\n",
    "P_B_given_A = P_B_and_A / P_A\n",
    "P_B_given_A"
   ]
  },
  {
   "cell_type": "markdown",
   "id": "903348b5",
   "metadata": {},
   "source": [
    "# 우도(가능도, Likelihood)"
   ]
  },
  {
   "cell_type": "code",
   "execution_count": 21,
   "id": "8a46b855",
   "metadata": {},
   "outputs": [],
   "source": [
    "from scipy.stats import binom"
   ]
  },
  {
   "cell_type": "code",
   "execution_count": 22,
   "id": "885bb615",
   "metadata": {},
   "outputs": [
    {
     "data": {
      "text/plain": [
       "(np.float64(0.04394531250000005), np.float64(0.30198988799999993))"
      ]
     },
     "execution_count": 22,
     "metadata": {},
     "output_type": "execute_result"
    }
   ],
   "source": [
    "n = 10\n",
    "k = 8 #앞면의 횟수\n",
    "\n",
    "#가설1 - 공정한 동전일 것이다\n",
    "p1 = 0.5 #앞면이 나올 확률 - 공정할 경우\n",
    "\n",
    "p1_likelihood = binom.pmf(k, n, p1) #조건, 총사건, 확률\n",
    "\n",
    "p2 = 0.8\n",
    "p2_likelihood = binom.pmf(k, n, p2) #조건, 총사건, 확률\n",
    "\n",
    "p1_likelihood,p2_likelihood"
   ]
  },
  {
   "cell_type": "markdown",
   "id": "6031daa7",
   "metadata": {},
   "source": [
    "가설1의 경우, 앞면이 8번 나올 확률은 4.4%   \n",
    "가설2의 경우, 앞면이 8번 나올 확률은 30.2%\n",
    "\n",
    "앞면 8번 나오는 관측값은 p=0.8인 모댈이 더 잘 설명한다. (우도가 크다)"
   ]
  },
  {
   "cell_type": "markdown",
   "id": "0fe15733",
   "metadata": {},
   "source": [
    "# 기대값\n",
    "x의 확률들의 평균"
   ]
  },
  {
   "cell_type": "code",
   "execution_count": 24,
   "id": "99c75161",
   "metadata": {},
   "outputs": [
    {
     "name": "stdout",
     "output_type": "stream",
     "text": [
      "기대값: 2.16667\n"
     ]
    }
   ],
   "source": [
    "x_values = [1,2,3]\n",
    "p_x = [1/6, 3/6, 2/6]\n",
    "\n",
    "exp_value = 0\n",
    "#기대값\n",
    "for i in range(len(x_values)):\n",
    "    exp_value += x_values[i] * p_x[i]\n",
    "\n",
    "print(f'기대값: {exp_value:.5f}')\n"
   ]
  },
  {
   "cell_type": "code",
   "execution_count": 29,
   "id": "4d4db269",
   "metadata": {},
   "outputs": [],
   "source": [
    "from scipy.stats import norm\n",
    "import numpy as np\n",
    "import matplotlib.pyplot as plt"
   ]
  },
  {
   "cell_type": "code",
   "execution_count": 30,
   "id": "c4338995",
   "metadata": {},
   "outputs": [
    {
     "data": {
      "image/png": "[encoded data removed]",
      "text/plain": [
       "<Figure size 640x480 with 1 Axes>"
      ]
     },
     "metadata": {},
     "output_type": "display_data"
    }
   ],
   "source": [
    "mu = 0 #확률\n",
    "sigma = 1 #표준편차\n",
    "\n",
    "x = np.linspace(-4, 4, 1000) #1000개의 값을 균일하게 쪼갬\n",
    "y = norm.pdf(x, loc=mu, scale=sigma)\n",
    "\n",
    "plt.plot(x,y)\n",
    "plt.show()\n"
   ]
  },
  {
   "cell_type": "markdown",
   "id": "0d5e0cd4",
   "metadata": {},
   "source": [
    "평균 = 0\n",
    "평균을 중심으로 좌우 대칭인 정규분포 그래프"
   ]
  },
  {
   "cell_type": "markdown",
   "id": "04f2bd7c",
   "metadata": {},
   "source": [
    "# 표집분포\n"
   ]
  },
  {
   "cell_type": "code",
   "execution_count": 34,
   "id": "2b73ee1c",
   "metadata": {},
   "outputs": [
    {
     "data": {
      "image/png": "[encoded data removed]",
      "text/plain": [
       "<Figure size 640x480 with 1 Axes>"
      ]
     },
     "metadata": {},
     "output_type": "display_data"
    }
   ],
   "source": [
    "np.random.seed(0)\n",
    "x_pop = np.random.exponential(scale=10, size=10000)\n",
    "sample_mean = [np.mean(np.random.choice(x_pop, size=30))\n",
    "               for _ in range(10000)]\n",
    "\n",
    "\n",
    "plt.hist(sample_mean, bins=100, alpha=0.3)\n",
    "plt.show()"
   ]
  },
  {
   "cell_type": "markdown",
   "id": "186446e4",
   "metadata": {},
   "source": [
    "# z점수"
   ]
  },
  {
   "cell_type": "code",
   "execution_count": 35,
   "id": "8e95c062",
   "metadata": {},
   "outputs": [
    {
     "data": {
      "text/plain": [
       "(1.0, 2.5)"
      ]
     },
     "execution_count": 35,
     "metadata": {},
     "output_type": "execute_result"
    }
   ],
   "source": [
    "mu = 100\n",
    "sigma = 10\n",
    "\n",
    "x1 = 110 #z점수를 계산하려고 하는 원래 점수\n",
    "x2 = 125\n",
    "\n",
    "#z점수 = 원점수 - 편균 / 표준편차\n",
    "z_x1 = (x1 - mu) / sigma\n",
    "z_x2 = (x2 - mu) / sigma\n",
    "\n",
    "z_x1, z_x2\n",
    "\n"
   ]
  },
  {
   "cell_type": "markdown",
   "id": "7b102ab9",
   "metadata": {},
   "source": [
    "z_x1 = 0.8413 → #0.5에서 출발하기 때문에 0.3413이다\n",
    "z_x2 = 0.9938 → 0.4938\n",
    "\n",
    "0.4938 - 0.3413 = 0.1525 15%"
   ]
  },
  {
   "cell_type": "markdown",
   "id": "77db50cc",
   "metadata": {},
   "source": [
    "전체 분포에서 x1~x2 사이의 면적"
   ]
  },
  {
   "cell_type": "code",
   "execution_count": 36,
   "id": "ef69aa38",
   "metadata": {},
   "outputs": [
    {
     "data": {
      "text/plain": [
       "np.float64(0.15244558860568092)"
      ]
     },
     "execution_count": 36,
     "metadata": {},
     "output_type": "execute_result"
    }
   ],
   "source": [
    "area_z_x1 = norm.cdf(z_x1) - norm.cdf(0)\n",
    "area_z_x2 = norm.cdf(z_x2) - norm.cdf(0)\n",
    "diff_area = area_z_x2 - area_z_x1\n",
    "diff_area"
   ]
  },
  {
   "cell_type": "code",
   "execution_count": 50,
   "id": "e9f7570f",
   "metadata": {},
   "outputs": [
    {
     "data": {
      "image/png": "[encoded data removed]",
      "text/plain": [
       "<Figure size 640x480 with 1 Axes>"
      ]
     },
     "metadata": {},
     "output_type": "display_data"
    }
   ],
   "source": [
    "#시각화\n",
    "x = np.linspace(mu-4*sigma, mu+4*sigma, 1000)\n",
    "y = norm.pdf(x, mu, sigma)\n",
    "plt.plot(x,y)\n",
    "plt.fill_between(x,y, where=(x>=100)&(x<=110),color='skyblue')\n",
    "plt.fill_between(x,y, where=(x>110)&(x<125),color='lightgreen')\n",
    "plt.show()"
   ]
  },
  {
   "cell_type": "code",
   "execution_count": null,
   "id": "bb3dc9ad",
   "metadata": {},
   "outputs": [],
   "source": []
  }
 ],
 "metadata": {
  "kernelspec": {
   "display_name": "hipython",
   "language": "python",
   "name": "python3"
  },
  "language_info": {
   "codemirror_mode": {
    "name": "ipython",
    "version": 3
   },
   "file_extension": ".py",
   "mimetype": "text/x-python",
   "name": "python",
   "nbconvert_exporter": "python",
   "pygments_lexer": "ipython3",
   "version": "3.12.9"
  }
 },
 "nbformat": 4,
 "nbformat_minor": 5
}
