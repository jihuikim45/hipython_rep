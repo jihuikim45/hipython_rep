{
 "cells": [
  {
   "cell_type": "markdown",
   "id": "37fd4715-ae31-4d48-ae6d-30cce85a5e2e",
   "metadata": {},
   "source": [
    "# while 문"
   ]
  },
  {
   "cell_type": "code",
   "execution_count": 5,
   "id": "3ea68884-526e-48cd-8805-8bca259f40fa",
   "metadata": {},
   "outputs": [
    {
     "data": {
      "text/plain": [
       "6"
      ]
     },
     "execution_count": 5,
     "metadata": {},
     "output_type": "execute_result"
    }
   ],
   "source": [
    "s = 0\n",
    "for i in range(6):\n",
    "    s += 1\n",
    "s"
   ]
  },
  {
   "cell_type": "code",
   "execution_count": 2,
   "id": "1a1d34bc-ba19-420b-9526-91ac41046c4c",
   "metadata": {},
   "outputs": [
    {
     "name": "stdout",
     "output_type": "stream",
     "text": [
      "21\n"
     ]
    }
   ],
   "source": [
    "i = 0\n",
    "ttl = 0\n",
    "# while True:\n",
    "while i < 6:\n",
    "    i += 1\n",
    "    ttl += i\n",
    "print(ttl)"
   ]
  },
  {
   "cell_type": "code",
   "execution_count": 3,
   "id": "6f6504b6-f91c-466c-84df-b357c98c9de3",
   "metadata": {},
   "outputs": [
    {
     "data": {
      "text/plain": [
       "21"
      ]
     },
     "execution_count": 3,
     "metadata": {},
     "output_type": "execute_result"
    }
   ],
   "source": [
    "sum(range(1, 7))"
   ]
  },
  {
   "cell_type": "markdown",
   "id": "b86bc8d6-8641-49e1-bfb1-bae498e9d21a",
   "metadata": {},
   "source": [
    "# 리스트 컴프리헨션\n",
    "` [리스트요소 for <1개> in <반복범위>]`"
   ]
  },
  {
   "cell_type": "code",
   "execution_count": 6,
   "id": "80f60cd4-ae3b-45b9-83ab-55ce7657c5bc",
   "metadata": {},
   "outputs": [
    {
     "data": {
      "text/plain": [
       "[2, 4, 6, 8, 10]"
      ]
     },
     "execution_count": 6,
     "metadata": {},
     "output_type": "execute_result"
    }
   ],
   "source": [
    "numbers = [1, 2, 3, 4, 5]\n",
    "squres = [num*2 for num in numbers]\n",
    "squres\n"
   ]
  },
  {
   "cell_type": "code",
   "execution_count": 8,
   "id": "16b412f5-4664-4d26-8173-abc60d006a12",
   "metadata": {},
   "outputs": [
    {
     "data": {
      "text/plain": [
       "[0, 2, 4, 6, 8, 5, 6, 7, 8, 9]"
      ]
     },
     "execution_count": 8,
     "metadata": {},
     "output_type": "execute_result"
    }
   ],
   "source": [
    "## 조건식 + 리스트 컴프리헨션\n",
    "test_list = [ ]\n",
    "\n",
    "for x in range(10):\n",
    "    if x < 5:\n",
    "        test_list.append(x*2)\n",
    "    else:\n",
    "        test_list.append(x)\n",
    "\n",
    "test_list"
   ]
  },
  {
   "cell_type": "code",
   "execution_count": null,
   "id": "9fb0b233-a69f-44c0-9bd0-cdf8728f7068",
   "metadata": {},
   "outputs": [],
   "source": [
    "[x*2 if x < 5 else x for x in range(10)]"
   ]
  },
  {
   "cell_type": "code",
   "execution_count": 9,
   "id": "07492232-e78e-432e-9c0e-ff4ee72413cd",
   "metadata": {},
   "outputs": [
    {
     "data": {
      "text/plain": [
       "[0, 1, 2, 3, 4]"
      ]
     },
     "execution_count": 9,
     "metadata": {},
     "output_type": "execute_result"
    }
   ],
   "source": [
    "[ x for x in range(10) if x < 5]"
   ]
  },
  {
   "cell_type": "code",
   "execution_count": null,
   "id": "bb959f70-a01c-41bc-a9c6-e61c436e4acd",
   "metadata": {},
   "outputs": [],
   "source": [
    "# 리스트 컴프리헨션을 이용한 변환, 필터"
   ]
  },
  {
   "cell_type": "code",
   "execution_count": 17,
   "id": "ee8a66fb-35a4-428e-84bf-2814c79336d5",
   "metadata": {},
   "outputs": [
    {
     "name": "stdout",
     "output_type": "stream",
     "text": [
      "🎉 당첨 번호 있음! (23)\n"
     ]
    }
   ],
   "source": [
    "#로또 번호 당첨 여부 확인\n",
    "my_numbers = [3, 11, 17, 23, 38, 42]\n",
    "win_numbers = [7, 14, 23, 32, 38, 45]\n",
    "\n",
    "for num in my_numbers:\n",
    "    if num in win_numbers:\n",
    "        print(f\"🎉 당첨 번호 있음! ({num})\")\n",
    "        break\n",
    "else:\n",
    "    print(\"😢 꽝입니다.\")"
   ]
  },
  {
   "cell_type": "code",
   "execution_count": 24,
   "id": "0c7fcab0-7fb3-46a0-b459-f09d1309e94c",
   "metadata": {},
   "outputs": [
    {
     "name": "stdout",
     "output_type": "stream",
     "text": [
      "🎉 당첨 번호 있음! (23)\n",
      "🎉 당첨 번호 있음! (38)\n"
     ]
    },
    {
     "data": {
      "text/plain": [
       "[None, None]"
      ]
     },
     "execution_count": 24,
     "metadata": {},
     "output_type": "execute_result"
    }
   ],
   "source": [
    "my_numbers = [3, 11, 17, 23, 38, 42]\n",
    "win_numbers = [7, 14, 23, 32, 38, 45]\n",
    "\n",
    "[print(f\"🎉 당첨 번호 있음! ({num})\") for num in  my_numbers if num in win_numbers]"
   ]
  },
  {
   "cell_type": "code",
   "execution_count": 25,
   "id": "10f35c23-6bef-4c6f-9a12-014d23464e95",
   "metadata": {},
   "outputs": [
    {
     "name": "stdout",
     "output_type": "stream",
     "text": [
      "[23, 38]\n"
     ]
    }
   ],
   "source": [
    "matched = [num for num in  my_numbers if num in win_numbers] \n",
    "if matched: \n",
    "    print(matched)\n",
    "else:\n",
    "     print(\"😢 꽝입니다.\")\n",
    "print(f'당첨' if matched )"
   ]
  },
  {
   "cell_type": "code",
   "execution_count": null,
   "id": "d9922f6d-c553-4f3a-a04c-ff86c3527d1b",
   "metadata": {},
   "outputs": [],
   "source": [
    "if flavor_count == 1:\n",
    "    print(\"1가지 맛을 골라주세요.\")\n",
    "elif flavor_count == 2:\n",
    "    print(\"2가지 맛을 골라주세요.\")\n",
    "elif flavor_count == 3:\n",
    "    print(\"3가지 맛을 골라주세요.\")"
   ]
  },
  {
   "cell_type": "code",
   "execution_count": null,
   "id": "fce4be24-2f4d-46bb-bb07-dada29345210",
   "metadata": {},
   "outputs": [],
   "source": [
    "print(f\"{flavor_count}가지 맛을 골라주세요.\") if flavor_count in [1, 2, 3] else None"
   ]
  },
  {
   "cell_type": "code",
   "execution_count": 26,
   "id": "a3b175c7-a7ce-4972-ad40-c5e4be27eda8",
   "metadata": {},
   "outputs": [
    {
     "ename": "IndentationError",
     "evalue": "unexpected indent (2389987453.py, line 2)",
     "output_type": "error",
     "traceback": [
      "  \u001b[36mCell\u001b[39m\u001b[36m \u001b[39m\u001b[32mIn[26]\u001b[39m\u001b[32m, line 2\u001b[39m\n\u001b[31m    \u001b[39m\u001b[31mif point_q == 'y':\u001b[39m\n    ^\n\u001b[31mIndentationError\u001b[39m\u001b[31m:\u001b[39m unexpected indent\n"
     ]
    }
   ],
   "source": [
    "point_q = input('포인트 적립하시겠습니까? (Y/N): ').strip().lower()\n",
    "\n",
    "    if point_q == 'y':\n",
    "        membership = input(\"전화번호를 입력해주세요: \")\n",
    "        saved_point = total_price // 100\n",
    "        existing_point = 250\n",
    "        total_point = existing_point + saved_point\n",
    "        print(f\"{saved_point}포인트 적립 완료 → 총 {total_point}포인트\")\n",
    "    else:\n",
    "        membership = \"고객\"\n",
    "\n",
    "    print(f\"\\n{membership}님, 주문 감사합니다! 또 오세요.\")\n",
    "    print(\"=\"*45)"
   ]
  },
  {
   "cell_type": "code",
   "execution_count": null,
   "id": "b69a4181-e3a5-42e6-8fca-5bf2d832db02",
   "metadata": {},
   "outputs": [],
   "source": []
  },
  {
   "cell_type": "code",
   "execution_count": null,
   "id": "39b6b8df-0204-4f22-b0d2-9430b3246ac5",
   "metadata": {},
   "outputs": [],
   "source": []
  },
  {
   "cell_type": "code",
   "execution_count": null,
   "id": "38b7dbdc-8bd4-4467-a6aa-31fa04e27d85",
   "metadata": {},
   "outputs": [],
   "source": []
  },
  {
   "cell_type": "code",
   "execution_count": null,
   "id": "97d1b9ec-e567-4f73-97a8-a61e7056af2e",
   "metadata": {},
   "outputs": [],
   "source": []
  },
  {
   "cell_type": "code",
   "execution_count": null,
   "id": "03cb292a-7b05-4552-89a6-d025c0c5deff",
   "metadata": {},
   "outputs": [],
   "source": []
  },
  {
   "cell_type": "code",
   "execution_count": null,
   "id": "40ce80ac-c747-4463-aa38-e1914a69216d",
   "metadata": {},
   "outputs": [],
   "source": []
  },
  {
   "cell_type": "code",
   "execution_count": null,
   "id": "fdb5fae3-381c-4a55-9e4e-3d72b6e92a70",
   "metadata": {},
   "outputs": [],
   "source": []
  },
  {
   "cell_type": "code",
   "execution_count": null,
   "id": "d1ad81ac-5a3e-41cd-860a-6ad9434e61cb",
   "metadata": {},
   "outputs": [],
   "source": []
  },
  {
   "cell_type": "code",
   "execution_count": null,
   "id": "ad79c01a-539b-47fa-8ff9-2d362e525be4",
   "metadata": {},
   "outputs": [],
   "source": []
  },
  {
   "cell_type": "code",
   "execution_count": null,
   "id": "03c11393-c4a8-4a7e-b179-686ee5e752c8",
   "metadata": {},
   "outputs": [],
   "source": []
  },
  {
   "cell_type": "code",
   "execution_count": null,
   "id": "4715820f-30e3-4084-8dee-7579264f49da",
   "metadata": {},
   "outputs": [],
   "source": []
  }
 ],
 "metadata": {
  "kernelspec": {
   "display_name": "Python 3 (ipykernel)",
   "language": "python",
   "name": "python3"
  },
  "language_info": {
   "codemirror_mode": {
    "name": "ipython",
    "version": 3
   },
   "file_extension": ".py",
   "mimetype": "text/x-python",
   "name": "python",
   "nbconvert_exporter": "python",
   "pygments_lexer": "ipython3",
   "version": "3.12.9"
  }
 },
 "nbformat": 4,
 "nbformat_minor": 5
}
