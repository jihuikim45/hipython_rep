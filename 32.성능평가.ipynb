{
 "cells": [
  {
   "cell_type": "markdown",
   "id": "fadbb530",
   "metadata": {},
   "source": [
    "# 분류기 만들기"
   ]
  },
  {
   "cell_type": "markdown",
   "id": "28ee1f31",
   "metadata": {},
   "source": [
    "## 타이타닉 데이터의 생존여부 분류\n",
    "- 규칙: 성별(sex) = 1 생존하지 않은 것으로 분류"
   ]
  },
  {
   "cell_type": "code",
   "execution_count": 2,
   "id": "3875c84f",
   "metadata": {},
   "outputs": [],
   "source": [
    "# 라이브러리 불러오기\n",
    "from sklearn.base import BaseEstimator\n",
    "from sklearn.model_selection import train_test_split\n",
    "from sklearn.metrics import accuracy_score\n",
    "from sklearn.metrics import confusion_matrix\n",
    "from sklearn.metrics import classification_report\n",
    "import pandas as pd\n",
    "import numpy as np\n",
    "import pandas as pd\n",
    "import seaborn as sns"
   ]
  },
  {
   "cell_type": "code",
   "execution_count": 3,
   "id": "e891076f",
   "metadata": {},
   "outputs": [],
   "source": [
    "\n",
    "class MyDummyClassifier(BaseEstimator):\n",
    "    def fit(self, X, y):\n",
    "        pass\n",
    "    \n",
    "    def predict(self, X):\n",
    "        pred = np.zeros((X.shape[0], 1))\n",
    "        for i in range(X.shape[0]):\n",
    "            if X['Sex'].iloc[i] == 1:\n",
    "                pred[i] = 0\n",
    "            else :\n",
    "                pred[i] = 1\n",
    "        return pred"
   ]
  },
  {
   "cell_type": "markdown",
   "id": "40e7f15a",
   "metadata": {},
   "source": [
    "## 타이타닉 데이터 가져오기"
   ]
  },
  {
   "cell_type": "code",
   "execution_count": 4,
   "id": "a990e948",
   "metadata": {},
   "outputs": [],
   "source": [
    "\n",
    "titanic_df = pd.read_csv('abc/data/titanic.csv')\n",
    "X_titanic_df = titanic_df.drop('Survived', axis=1)\n",
    "y_titanic_df = titanic_df['Survived']"
   ]
  },
  {
   "cell_type": "code",
   "execution_count": 5,
   "id": "6a524624",
   "metadata": {},
   "outputs": [],
   "source": [
    "from sklearn.preprocessing import LabelEncoder\n",
    "\n",
    "# Null 처리 함수\n",
    "def fillna(df):\n",
    "    df['Age'].fillna(df['Age'].mean(), inplace=True)\n",
    "    df['Cabin'].fillna('N', inplace=True)\n",
    "    df['Embarked'].fillna('N', inplace=True)\n",
    "    df['Fare'].fillna(0, inplace=True)\n",
    "    return df\n",
    "\n",
    "# 머신러닝 알고리즘에 불필요한 피처 제거\n",
    "def drop_features(df):\n",
    "    df.drop(['PassengerId', 'Name', 'Ticket'], axis=1, inplace=True)\n",
    "    return df\n",
    "\n",
    "# 레이블 인코딩 수행 함수\n",
    "def format_features(df):\n",
    "    df['Cabin'] = df['Cabin'].str[:1]\n",
    "    features = ['Cabin', 'Sex', 'Embarked']\n",
    "    for feature in features:\n",
    "        le = LabelEncoder()\n",
    "        le = le.fit(df[feature])\n",
    "        df[feature] = le.transform(df[feature])\n",
    "    return df\n",
    "\n",
    "# 앞에서 설정한 데이터 전처리 함수 호출\n",
    "def transform_features(df):\n",
    "    df = fillna(df) \n",
    "    df = drop_features(df)\n",
    "    df = format_features(df)\n",
    "    return df"
   ]
  },
  {
   "cell_type": "code",
   "execution_count": 6,
   "id": "1e65ae59",
   "metadata": {},
   "outputs": [
    {
     "name": "stderr",
     "output_type": "stream",
     "text": [
      "C:\\Users\\LENOVO\\AppData\\Local\\Temp\\ipykernel_24028\\2811512165.py:5: FutureWarning: A value is trying to be set on a copy of a DataFrame or Series through chained assignment using an inplace method.\n",
      "The behavior will change in pandas 3.0. This inplace method will never work because the intermediate object on which we are setting values always behaves as a copy.\n",
      "\n",
      "For example, when doing 'df[col].method(value, inplace=True)', try using 'df.method({col: value}, inplace=True)' or df[col] = df[col].method(value) instead, to perform the operation inplace on the original object.\n",
      "\n",
      "\n",
      "  df['Age'].fillna(df['Age'].mean(), inplace=True)\n",
      "C:\\Users\\LENOVO\\AppData\\Local\\Temp\\ipykernel_24028\\2811512165.py:6: FutureWarning: A value is trying to be set on a copy of a DataFrame or Series through chained assignment using an inplace method.\n",
      "The behavior will change in pandas 3.0. This inplace method will never work because the intermediate object on which we are setting values always behaves as a copy.\n",
      "\n",
      "For example, when doing 'df[col].method(value, inplace=True)', try using 'df.method({col: value}, inplace=True)' or df[col] = df[col].method(value) instead, to perform the operation inplace on the original object.\n",
      "\n",
      "\n",
      "  df['Cabin'].fillna('N', inplace=True)\n",
      "C:\\Users\\LENOVO\\AppData\\Local\\Temp\\ipykernel_24028\\2811512165.py:7: FutureWarning: A value is trying to be set on a copy of a DataFrame or Series through chained assignment using an inplace method.\n",
      "The behavior will change in pandas 3.0. This inplace method will never work because the intermediate object on which we are setting values always behaves as a copy.\n",
      "\n",
      "For example, when doing 'df[col].method(value, inplace=True)', try using 'df.method({col: value}, inplace=True)' or df[col] = df[col].method(value) instead, to perform the operation inplace on the original object.\n",
      "\n",
      "\n",
      "  df['Embarked'].fillna('N', inplace=True)\n",
      "C:\\Users\\LENOVO\\AppData\\Local\\Temp\\ipykernel_24028\\2811512165.py:8: FutureWarning: A value is trying to be set on a copy of a DataFrame or Series through chained assignment using an inplace method.\n",
      "The behavior will change in pandas 3.0. This inplace method will never work because the intermediate object on which we are setting values always behaves as a copy.\n",
      "\n",
      "For example, when doing 'df[col].method(value, inplace=True)', try using 'df.method({col: value}, inplace=True)' or df[col] = df[col].method(value) instead, to perform the operation inplace on the original object.\n",
      "\n",
      "\n",
      "  df['Fare'].fillna(0, inplace=True)\n"
     ]
    }
   ],
   "source": [
    "X_titanic_df = transform_features(X_titanic_df)"
   ]
  },
  {
   "cell_type": "markdown",
   "id": "03456741",
   "metadata": {},
   "source": [
    "# 데이터셋 분할"
   ]
  },
  {
   "cell_type": "code",
   "execution_count": 7,
   "id": "fde39e78",
   "metadata": {},
   "outputs": [],
   "source": [
    "X_train, X_test, y_train, y_test = train_test_split(X_titanic_df,\n",
    "                                                    y_titanic_df, \n",
    "                                                    test_size=0.2, \n",
    "                                                    random_state=0 )"
   ]
  },
  {
   "cell_type": "code",
   "execution_count": 8,
   "id": "c16be1cd",
   "metadata": {},
   "outputs": [],
   "source": [
    "myclf = MyDummyClassifier()\n",
    "myclf.fit(X_train, y_train)"
   ]
  },
  {
   "cell_type": "code",
   "execution_count": 9,
   "id": "8a54ad58",
   "metadata": {},
   "outputs": [
    {
     "data": {
      "text/plain": [
       "0.7877094972067039"
      ]
     },
     "execution_count": 9,
     "metadata": {},
     "output_type": "execute_result"
    }
   ],
   "source": [
    "my_pred = myclf.predict(X_test)\n",
    "accuracy_score(y_test, my_pred)"
   ]
  },
  {
   "cell_type": "code",
   "execution_count": 10,
   "id": "292c3a01",
   "metadata": {},
   "outputs": [
    {
     "data": {
      "text/plain": [
       "array([[92, 18],\n",
       "       [20, 49]])"
      ]
     },
     "execution_count": 10,
     "metadata": {},
     "output_type": "execute_result"
    }
   ],
   "source": [
    "confusion_matrix(y_test, my_pred)\n"
   ]
  },
  {
   "cell_type": "code",
   "execution_count": 11,
   "id": "97159074",
   "metadata": {},
   "outputs": [
    {
     "data": {
      "text/plain": [
       "(np.float64(0.7313432835820896), np.float64(0.7101449275362319))"
      ]
     },
     "execution_count": 11,
     "metadata": {},
     "output_type": "execute_result"
    }
   ],
   "source": [
    "from sklearn.metrics import precision_score, recall_score\n",
    "precision_score(y_test, my_pred), recall_score(y_test, my_pred)"
   ]
  },
  {
   "cell_type": "code",
   "execution_count": 12,
   "id": "50148325",
   "metadata": {},
   "outputs": [],
   "source": [
    "def get_clf_eval(y_test, pred):\n",
    "    confusion = confusion_matrix(y_test, pred)\n",
    "    accuracy = accuracy_score(y_test, pred)\n",
    "    precision = precision_score(y_test, pred)\n",
    "    recall = recall_score(y_test, pred)\n",
    "\n",
    "    print(confusion)\n",
    "    print(accuracy, precision, recall)"
   ]
  },
  {
   "cell_type": "markdown",
   "id": "349a0844",
   "metadata": {},
   "source": [
    "# 로지스틱 회귀"
   ]
  },
  {
   "cell_type": "code",
   "execution_count": 13,
   "id": "31d8c3cf",
   "metadata": {},
   "outputs": [
    {
     "name": "stdout",
     "output_type": "stream",
     "text": [
      "[[92 18]\n",
      " [16 53]]\n",
      "0.8100558659217877 0.7464788732394366 0.7681159420289855\n"
     ]
    }
   ],
   "source": [
    "# 로지스틱회귀 분륨모델 생성\n",
    "from sklearn.linear_model import LogisticRegression\n",
    "\n",
    "lr_clf = LogisticRegression(max_iter=3000)  #수렴\n",
    "lr_clf.fit(X_train, y_train)\n",
    "pred = lr_clf.predict(X_test)\n",
    "\n",
    "# 정확도, 정밀도, 재현율\n",
    "get_clf_eval(y_test, pred)"
   ]
  },
  {
   "cell_type": "markdown",
   "id": "c6743af6",
   "metadata": {},
   "source": [
    "# random forest"
   ]
  },
  {
   "cell_type": "code",
   "execution_count": 14,
   "id": "3fa515b4",
   "metadata": {},
   "outputs": [
    {
     "name": "stdout",
     "output_type": "stream",
     "text": [
      "KNN 모델의 정확도: 0.73743\n",
      "RF 모델의 정확도: 0.81564\n",
      "LR 모델의 정확도: 0.81006\n"
     ]
    }
   ],
   "source": [
    "from sklearn.neighbors import KNeighborsClassifier\n",
    "from sklearn.ensemble import RandomForestClassifier\n",
    "\n",
    "models = {\n",
    "  'KNN': KNeighborsClassifier(n_neighbors=5),\n",
    "  'RF': RandomForestClassifier(),\n",
    "  'LR': LogisticRegression(max_iter=3000)\n",
    "}\n",
    "for name, model in models.items():\n",
    "  model.fit(X_train, y_train)\n",
    "  y_pred = model.predict(X_test)\n",
    "  acc = accuracy_score(y_test, y_pred)\n",
    "  print(f'{name} 모델의 정확도: {acc:.5f}')"
   ]
  },
  {
   "cell_type": "code",
   "execution_count": 15,
   "id": "cb674d48",
   "metadata": {},
   "outputs": [
    {
     "name": "stdout",
     "output_type": "stream",
     "text": [
      "[[86 24]\n",
      " [13 56]]\n",
      "0.7932960893854749 0.7 0.8115942028985508\n"
     ]
    }
   ],
   "source": [
    "pred_proba = lr_clf.predict_proba(X_test) #prova에 X_test를 넣었을 때 0일 확률, 1일 확률\n",
    "pos_proba = pred_proba[:,1] # 양성클래스일 확률\n",
    "threshold = 0.4 # 임계치\n",
    "custom_proba = (pos_proba >= threshold).astype(int) # 임계치보다 크면 1로 넣는다.\n",
    "confusion_matrix(y_test, custom_proba)\n",
    "\n",
    "# 정확도, 정밀도, 재현율\n",
    "get_clf_eval(y_test, custom_proba)"
   ]
  },
  {
   "cell_type": "code",
   "execution_count": 16,
   "id": "1e61c6d2",
   "metadata": {},
   "outputs": [
    {
     "name": "stdout",
     "output_type": "stream",
     "text": [
      "[[92 18]\n",
      " [16 53]]\n",
      "0.8100558659217877 0.7464788732394366 0.7681159420289855\n"
     ]
    }
   ],
   "source": [
    "pred_proba = lr_clf.predict_proba(X_test) #prova에 X_test를 넣었을 때 0일 확률, 1일 확률\n",
    "pos_proba = pred_proba[:,1] # 양성클래스일 확률\n",
    "threshold = 0.5 # 임계치\n",
    "custom_proba = (pos_proba >= threshold).astype(int) # 임계치보다 크면 1로 넣는다.\n",
    "confusion_matrix(y_test, custom_proba)\n",
    "\n",
    "# 정확도, 정밀도, 재현율\n",
    "get_clf_eval(y_test, custom_proba)"
   ]
  },
  {
   "cell_type": "markdown",
   "id": "995033b3",
   "metadata": {},
   "source": [
    "## 정밀도와 재현율의 변화\n",
    "정밀도와 재현율의 불균형이 심할 때,   \n",
    "혹은 비지니스의 요구사항이 있을 때   \n",
    "임계치를 조정해야 한다.\n",
    "\n",
    "임계치를 낮추면, 정밀도는 낮아지고, 재현율은 올라간다."
   ]
  },
  {
   "cell_type": "code",
   "execution_count": 17,
   "id": "5838ba10",
   "metadata": {},
   "outputs": [
    {
     "data": {
      "text/plain": [
       "np.float64(0.7571428571428571)"
      ]
     },
     "execution_count": 17,
     "metadata": {},
     "output_type": "execute_result"
    }
   ],
   "source": [
    "from sklearn.metrics import f1_score\n",
    "f1_score(y_test, pred)"
   ]
  },
  {
   "cell_type": "code",
   "execution_count": null,
   "id": "d43c8d55",
   "metadata": {},
   "outputs": [
    {
     "name": "stdout",
     "output_type": "stream",
     "text": [
      "              precision    recall  f1-score   support\n",
      "\n",
      "           0       0.85      0.84      0.84       110\n",
      "           1       0.75      0.77      0.76        69\n",
      "\n",
      "    accuracy                           0.81       179\n",
      "   macro avg       0.80      0.80      0.80       179\n",
      "weighted avg       0.81      0.81      0.81       179\n",
      "\n"
     ]
    }
   ],
   "source": [
    "print(classification_report(y_test,pred)) # 평가보고서"
   ]
  },
  {
   "cell_type": "code",
   "execution_count": 21,
   "id": "8921a032",
   "metadata": {},
   "outputs": [
    {
     "data": {
      "text/plain": [
       "1   -2.595000\n",
       "0   -0.900603\n",
       "3   -0.368429\n",
       "7   -0.107340\n",
       "6   -0.059145\n",
       "4   -0.059023\n",
       "2   -0.042774\n",
       "5    0.001287\n",
       "dtype: float64"
      ]
     },
     "execution_count": 21,
     "metadata": {},
     "output_type": "execute_result"
    }
   ],
   "source": [
    "pd.Series(lr_clf.coef_[0]).sort_values() #피처의 중요도는 계수"
   ]
  },
  {
   "cell_type": "markdown",
   "id": "e66fa076",
   "metadata": {},
   "source": [
    "# 보팅분류기"
   ]
  },
  {
   "cell_type": "code",
   "execution_count": 22,
   "id": "e54803db",
   "metadata": {},
   "outputs": [],
   "source": [
    "# 라이브러리 불러오기\n",
    "from sklearn.base import BaseEstimator\n",
    "from sklearn.model_selection import train_test_split\n",
    "from sklearn.metrics import accuracy_score\n",
    "from sklearn.metrics import confusion_matrix\n",
    "from sklearn.metrics import classification_report\n",
    "from sklearn.ensemble import VotingClassifier\n",
    "from sklearn.datasets import load_breast_cancer\n",
    "\n",
    "import pandas as pd\n",
    "import numpy as np\n",
    "import pandas as pd\n",
    "import seaborn as sns"
   ]
  },
  {
   "cell_type": "code",
   "execution_count": 23,
   "id": "8fbc1aa8",
   "metadata": {},
   "outputs": [
    {
     "data": {
      "text/html": [
       "<div>\n",
       "<style scoped>\n",
       "    .dataframe tbody tr th:only-of-type {\n",
       "        vertical-align: middle;\n",
       "    }\n",
       "\n",
       "    .dataframe tbody tr th {\n",
       "        vertical-align: top;\n",
       "    }\n",
       "\n",
       "    .dataframe thead th {\n",
       "        text-align: right;\n",
       "    }\n",
       "</style>\n",
       "<table border=\"1\" class=\"dataframe\">\n",
       "  <thead>\n",
       "    <tr style=\"text-align: right;\">\n",
       "      <th></th>\n",
       "      <th>mean radius</th>\n",
       "      <th>mean texture</th>\n",
       "      <th>mean perimeter</th>\n",
       "      <th>mean area</th>\n",
       "      <th>mean smoothness</th>\n",
       "      <th>mean compactness</th>\n",
       "      <th>mean concavity</th>\n",
       "      <th>mean concave points</th>\n",
       "      <th>mean symmetry</th>\n",
       "      <th>mean fractal dimension</th>\n",
       "      <th>...</th>\n",
       "      <th>worst radius</th>\n",
       "      <th>worst texture</th>\n",
       "      <th>worst perimeter</th>\n",
       "      <th>worst area</th>\n",
       "      <th>worst smoothness</th>\n",
       "      <th>worst compactness</th>\n",
       "      <th>worst concavity</th>\n",
       "      <th>worst concave points</th>\n",
       "      <th>worst symmetry</th>\n",
       "      <th>worst fractal dimension</th>\n",
       "    </tr>\n",
       "  </thead>\n",
       "  <tbody>\n",
       "    <tr>\n",
       "      <th>0</th>\n",
       "      <td>17.99</td>\n",
       "      <td>10.38</td>\n",
       "      <td>122.8</td>\n",
       "      <td>1001.0</td>\n",
       "      <td>0.11840</td>\n",
       "      <td>0.27760</td>\n",
       "      <td>0.3001</td>\n",
       "      <td>0.14710</td>\n",
       "      <td>0.2419</td>\n",
       "      <td>0.07871</td>\n",
       "      <td>...</td>\n",
       "      <td>25.38</td>\n",
       "      <td>17.33</td>\n",
       "      <td>184.6</td>\n",
       "      <td>2019.0</td>\n",
       "      <td>0.1622</td>\n",
       "      <td>0.6656</td>\n",
       "      <td>0.7119</td>\n",
       "      <td>0.2654</td>\n",
       "      <td>0.4601</td>\n",
       "      <td>0.11890</td>\n",
       "    </tr>\n",
       "    <tr>\n",
       "      <th>1</th>\n",
       "      <td>20.57</td>\n",
       "      <td>17.77</td>\n",
       "      <td>132.9</td>\n",
       "      <td>1326.0</td>\n",
       "      <td>0.08474</td>\n",
       "      <td>0.07864</td>\n",
       "      <td>0.0869</td>\n",
       "      <td>0.07017</td>\n",
       "      <td>0.1812</td>\n",
       "      <td>0.05667</td>\n",
       "      <td>...</td>\n",
       "      <td>24.99</td>\n",
       "      <td>23.41</td>\n",
       "      <td>158.8</td>\n",
       "      <td>1956.0</td>\n",
       "      <td>0.1238</td>\n",
       "      <td>0.1866</td>\n",
       "      <td>0.2416</td>\n",
       "      <td>0.1860</td>\n",
       "      <td>0.2750</td>\n",
       "      <td>0.08902</td>\n",
       "    </tr>\n",
       "    <tr>\n",
       "      <th>2</th>\n",
       "      <td>19.69</td>\n",
       "      <td>21.25</td>\n",
       "      <td>130.0</td>\n",
       "      <td>1203.0</td>\n",
       "      <td>0.10960</td>\n",
       "      <td>0.15990</td>\n",
       "      <td>0.1974</td>\n",
       "      <td>0.12790</td>\n",
       "      <td>0.2069</td>\n",
       "      <td>0.05999</td>\n",
       "      <td>...</td>\n",
       "      <td>23.57</td>\n",
       "      <td>25.53</td>\n",
       "      <td>152.5</td>\n",
       "      <td>1709.0</td>\n",
       "      <td>0.1444</td>\n",
       "      <td>0.4245</td>\n",
       "      <td>0.4504</td>\n",
       "      <td>0.2430</td>\n",
       "      <td>0.3613</td>\n",
       "      <td>0.08758</td>\n",
       "    </tr>\n",
       "  </tbody>\n",
       "</table>\n",
       "<p>3 rows × 30 columns</p>\n",
       "</div>"
      ],
      "text/plain": [
       "   mean radius  mean texture  mean perimeter  mean area  mean smoothness  \\\n",
       "0        17.99         10.38           122.8     1001.0          0.11840   \n",
       "1        20.57         17.77           132.9     1326.0          0.08474   \n",
       "2        19.69         21.25           130.0     1203.0          0.10960   \n",
       "\n",
       "   mean compactness  mean concavity  mean concave points  mean symmetry  \\\n",
       "0           0.27760          0.3001              0.14710         0.2419   \n",
       "1           0.07864          0.0869              0.07017         0.1812   \n",
       "2           0.15990          0.1974              0.12790         0.2069   \n",
       "\n",
       "   mean fractal dimension  ...  worst radius  worst texture  worst perimeter  \\\n",
       "0                 0.07871  ...         25.38          17.33            184.6   \n",
       "1                 0.05667  ...         24.99          23.41            158.8   \n",
       "2                 0.05999  ...         23.57          25.53            152.5   \n",
       "\n",
       "   worst area  worst smoothness  worst compactness  worst concavity  \\\n",
       "0      2019.0            0.1622             0.6656           0.7119   \n",
       "1      1956.0            0.1238             0.1866           0.2416   \n",
       "2      1709.0            0.1444             0.4245           0.4504   \n",
       "\n",
       "   worst concave points  worst symmetry  worst fractal dimension  \n",
       "0                0.2654          0.4601                  0.11890  \n",
       "1                0.1860          0.2750                  0.08902  \n",
       "2                0.2430          0.3613                  0.08758  \n",
       "\n",
       "[3 rows x 30 columns]"
      ]
     },
     "execution_count": 23,
     "metadata": {},
     "output_type": "execute_result"
    }
   ],
   "source": [
    "cancer = load_breast_cancer()\n",
    "data_df = pd.DataFrame(cancer.data, columns=cancer.feature_names)\n",
    "data_df.head(3)"
   ]
  },
  {
   "cell_type": "markdown",
   "id": "5d3eb580",
   "metadata": {},
   "source": [
    "# 데이터 분할"
   ]
  },
  {
   "cell_type": "code",
   "execution_count": 26,
   "id": "d000b96c",
   "metadata": {},
   "outputs": [],
   "source": [
    "X_train, X_test, y_train, y_test = train_test_split(cancer.data,\n",
    "                                                    cancer.target, \n",
    "                                                    test_size=0.2, \n",
    "                                                    random_state=0 )"
   ]
  },
  {
   "cell_type": "code",
   "execution_count": 28,
   "id": "56747a24",
   "metadata": {},
   "outputs": [],
   "source": [
    "lr_clf = LogisticRegression(solver='liblinear')\n",
    "knn_clf = KNeighborsClassifier(n_neighbors=7)\n",
    "vo_clf = VotingClassifier(estimators=[('LR', lr_clf),('KNN', knn_clf)],\n",
    "                          voting='soft')"
   ]
  },
  {
   "cell_type": "code",
   "execution_count": 29,
   "id": "7490d84e",
   "metadata": {},
   "outputs": [
    {
     "data": {
      "text/plain": [
       "0.956140350877193"
      ]
     },
     "execution_count": 29,
     "metadata": {},
     "output_type": "execute_result"
    }
   ],
   "source": [
    "# 분류기 학습 - 예측\n",
    "vo_clf.fit(X_train, y_train)\n",
    "vo_pred = vo_clf.predict(X_test)\n",
    "accuracy_score(y_test, vo_pred)"
   ]
  },
  {
   "cell_type": "code",
   "execution_count": 30,
   "id": "70c8ff48",
   "metadata": {},
   "outputs": [
    {
     "data": {
      "text/plain": [
       "array([[44,  3],\n",
       "       [ 2, 65]])"
      ]
     },
     "execution_count": 30,
     "metadata": {},
     "output_type": "execute_result"
    }
   ],
   "source": [
    "confusion_matrix(y_test, vo_pred)"
   ]
  },
  {
   "cell_type": "code",
   "execution_count": 31,
   "id": "75bdc0f5",
   "metadata": {},
   "outputs": [
    {
     "name": "stdout",
     "output_type": "stream",
     "text": [
      "              precision    recall  f1-score   support\n",
      "\n",
      "           0       0.96      0.94      0.95        47\n",
      "           1       0.96      0.97      0.96        67\n",
      "\n",
      "    accuracy                           0.96       114\n",
      "   macro avg       0.96      0.95      0.95       114\n",
      "weighted avg       0.96      0.96      0.96       114\n",
      "\n"
     ]
    }
   ],
   "source": [
    "print(classification_report(y_test, vo_pred))"
   ]
  },
  {
   "cell_type": "code",
   "execution_count": 34,
   "id": "8dacdb6c",
   "metadata": {},
   "outputs": [],
   "source": [
    "import pandas as pd\n",
    "\n",
    "def get_new_feature_name_df(old_feature_name_df):\n",
    "    # 중복된 feature 이름 처리: 이름 뒤에 _0, _1, ... 등의 suffix 추가\n",
    "    feature_dup_df = old_feature_name_df.groupby('column_name').cumcount()\n",
    "    new_feature_name_df = old_feature_name_df.copy()\n",
    "    new_feature_name_df['column_name'] = new_feature_name_df['column_name'] + \"_\" + feature_dup_df.astype(str)\n",
    "    return new_feature_name_df\n",
    "\n",
    "def get_human_dataset(base_path='abc/data/UCI-HAR_Dataset/'):\n",
    "    # 피처 이름 로딩\n",
    "    feature_path = base_path + 'features.txt'\n",
    "    feature_name_df = pd.read_csv(feature_path, sep='\\s+', header=None, names=['column_index', 'column_name'])\n",
    "\n",
    "    # 중복 피처명 처리\n",
    "    new_feature_name_df = get_new_feature_name_df(feature_name_df)\n",
    "    feature_names = new_feature_name_df['column_name'].tolist()\n",
    "\n",
    "    # 학습/테스트 데이터 로딩\n",
    "    X_train = pd.read_csv(base_path + 'train/X_train.txt', sep='\\s+', names=feature_names)\n",
    "    X_test = pd.read_csv(base_path + 'test/X_test.txt', sep='\\s+', names=feature_names)\n",
    "\n",
    "    y_train = pd.read_csv(base_path + 'train/y_train.txt', sep='\\s+', header=None, names=['action'])\n",
    "    y_test = pd.read_csv(base_path + 'test/y_test.txt', sep='\\s+', header=None, names=['action'])\n",
    "\n",
    "    return X_train, X_test, y_train, y_test"
   ]
  },
  {
   "cell_type": "code",
   "execution_count": 35,
   "id": "80bef628",
   "metadata": {},
   "outputs": [
    {
     "name": "stdout",
     "output_type": "stream",
     "text": [
      "(7352, 561) (2947, 561)\n",
      "action\n",
      "6    1407\n",
      "5    1374\n",
      "4    1286\n",
      "1    1226\n",
      "2    1073\n",
      "3     986\n",
      "Name: count, dtype: int64\n"
     ]
    }
   ],
   "source": [
    "X_train, X_test, y_train, y_test = get_human_dataset()\n",
    "\n",
    "print(X_train.shape, X_test.shape)\n",
    "print(y_train['action'].value_counts())"
   ]
  },
  {
   "cell_type": "code",
   "execution_count": 60,
   "id": "af619eb1",
   "metadata": {},
   "outputs": [
    {
     "name": "stderr",
     "output_type": "stream",
     "text": [
      "c:\\Users\\LENOVO\\miniconda3\\envs\\hi_ml_env\\lib\\site-packages\\sklearn\\base.py:1474: DataConversionWarning: A column-vector y was passed when a 1d array was expected. Please change the shape of y to (n_samples,), for example using ravel().\n",
      "  return fit_method(estimator, *args, **kwargs)\n"
     ]
    },
    {
     "data": {
      "text/plain": [
       "0.9195792331184255"
      ]
     },
     "execution_count": 60,
     "metadata": {},
     "output_type": "execute_result"
    }
   ],
   "source": [
    "\n",
    "from sklearn.ensemble import RandomForestClassifier\n",
    "rf_clf = RandomForestClassifier(random_state=0, max_depth=8)\n",
    "rf_clf.fit(X_train, y_train)\n",
    "rf_pred = rf_clf.predict(X_test)\n",
    "accuracy_score(y_test, rf_pred)"
   ]
  },
  {
   "cell_type": "markdown",
   "id": "223d9b9d",
   "metadata": {},
   "source": [
    "# GridSearchCV - 하이퍼파라미터 + 교차검증\n",
    "## 랜덤포레스트 모델의 최적의 하이퍼파라미터 조합 찾기"
   ]
  },
  {
   "cell_type": "code",
   "execution_count": 61,
   "id": "4fc4cde0",
   "metadata": {},
   "outputs": [
    {
     "name": "stderr",
     "output_type": "stream",
     "text": [
      "c:\\Users\\LENOVO\\miniconda3\\envs\\hi_ml_env\\lib\\site-packages\\sklearn\\base.py:1474: DataConversionWarning: A column-vector y was passed when a 1d array was expected. Please change the shape of y to (n_samples,), for example using ravel().\n",
      "  return fit_method(estimator, *args, **kwargs)\n"
     ]
    },
    {
     "data": {
      "text/html": [
       "<style>#sk-container-id-2 {\n",
       "  /* Definition of color scheme common for light and dark mode */\n",
       "  --sklearn-color-text: black;\n",
       "  --sklearn-color-line: gray;\n",
       "  /* Definition of color scheme for unfitted estimators */\n",
       "  --sklearn-color-unfitted-level-0: #fff5e6;\n",
       "  --sklearn-color-unfitted-level-1: #f6e4d2;\n",
       "  --sklearn-color-unfitted-level-2: #ffe0b3;\n",
       "  --sklearn-color-unfitted-level-3: chocolate;\n",
       "  /* Definition of color scheme for fitted estimators */\n",
       "  --sklearn-color-fitted-level-0: #f0f8ff;\n",
       "  --sklearn-color-fitted-level-1: #d4ebff;\n",
       "  --sklearn-color-fitted-level-2: #b3dbfd;\n",
       "  --sklearn-color-fitted-level-3: cornflowerblue;\n",
       "\n",
       "  /* Specific color for light theme */\n",
       "  --sklearn-color-text-on-default-background: var(--sg-text-color, var(--theme-code-foreground, var(--jp-content-font-color1, black)));\n",
       "  --sklearn-color-background: var(--sg-background-color, var(--theme-background, var(--jp-layout-color0, white)));\n",
       "  --sklearn-color-border-box: var(--sg-text-color, var(--theme-code-foreground, var(--jp-content-font-color1, black)));\n",
       "  --sklearn-color-icon: #696969;\n",
       "\n",
       "  @media (prefers-color-scheme: dark) {\n",
       "    /* Redefinition of color scheme for dark theme */\n",
       "    --sklearn-color-text-on-default-background: var(--sg-text-color, var(--theme-code-foreground, var(--jp-content-font-color1, white)));\n",
       "    --sklearn-color-background: var(--sg-background-color, var(--theme-background, var(--jp-layout-color0, #111)));\n",
       "    --sklearn-color-border-box: var(--sg-text-color, var(--theme-code-foreground, var(--jp-content-font-color1, white)));\n",
       "    --sklearn-color-icon: #878787;\n",
       "  }\n",
       "}\n",
       "\n",
       "#sk-container-id-2 {\n",
       "  color: var(--sklearn-color-text);\n",
       "}\n",
       "\n",
       "#sk-container-id-2 pre {\n",
       "  padding: 0;\n",
       "}\n",
       "\n",
       "#sk-container-id-2 input.sk-hidden--visually {\n",
       "  border: 0;\n",
       "  clip: rect(1px 1px 1px 1px);\n",
       "  clip: rect(1px, 1px, 1px, 1px);\n",
       "  height: 1px;\n",
       "  margin: -1px;\n",
       "  overflow: hidden;\n",
       "  padding: 0;\n",
       "  position: absolute;\n",
       "  width: 1px;\n",
       "}\n",
       "\n",
       "#sk-container-id-2 div.sk-dashed-wrapped {\n",
       "  border: 1px dashed var(--sklearn-color-line);\n",
       "  margin: 0 0.4em 0.5em 0.4em;\n",
       "  box-sizing: border-box;\n",
       "  padding-bottom: 0.4em;\n",
       "  background-color: var(--sklearn-color-background);\n",
       "}\n",
       "\n",
       "#sk-container-id-2 div.sk-container {\n",
       "  /* jupyter's `normalize.less` sets `[hidden] { display: none; }`\n",
       "     but bootstrap.min.css set `[hidden] { display: none !important; }`\n",
       "     so we also need the `!important` here to be able to override the\n",
       "     default hidden behavior on the sphinx rendered scikit-learn.org.\n",
       "     See: https://github.com/scikit-learn/scikit-learn/issues/21755 */\n",
       "  display: inline-block !important;\n",
       "  position: relative;\n",
       "}\n",
       "\n",
       "#sk-container-id-2 div.sk-text-repr-fallback {\n",
       "  display: none;\n",
       "}\n",
       "\n",
       "div.sk-parallel-item,\n",
       "div.sk-serial,\n",
       "div.sk-item {\n",
       "  /* draw centered vertical line to link estimators */\n",
       "  background-image: linear-gradient(var(--sklearn-color-text-on-default-background), var(--sklearn-color-text-on-default-background));\n",
       "  background-size: 2px 100%;\n",
       "  background-repeat: no-repeat;\n",
       "  background-position: center center;\n",
       "}\n",
       "\n",
       "/* Parallel-specific style estimator block */\n",
       "\n",
       "#sk-container-id-2 div.sk-parallel-item::after {\n",
       "  content: \"\";\n",
       "  width: 100%;\n",
       "  border-bottom: 2px solid var(--sklearn-color-text-on-default-background);\n",
       "  flex-grow: 1;\n",
       "}\n",
       "\n",
       "#sk-container-id-2 div.sk-parallel {\n",
       "  display: flex;\n",
       "  align-items: stretch;\n",
       "  justify-content: center;\n",
       "  background-color: var(--sklearn-color-background);\n",
       "  position: relative;\n",
       "}\n",
       "\n",
       "#sk-container-id-2 div.sk-parallel-item {\n",
       "  display: flex;\n",
       "  flex-direction: column;\n",
       "}\n",
       "\n",
       "#sk-container-id-2 div.sk-parallel-item:first-child::after {\n",
       "  align-self: flex-end;\n",
       "  width: 50%;\n",
       "}\n",
       "\n",
       "#sk-container-id-2 div.sk-parallel-item:last-child::after {\n",
       "  align-self: flex-start;\n",
       "  width: 50%;\n",
       "}\n",
       "\n",
       "#sk-container-id-2 div.sk-parallel-item:only-child::after {\n",
       "  width: 0;\n",
       "}\n",
       "\n",
       "/* Serial-specific style estimator block */\n",
       "\n",
       "#sk-container-id-2 div.sk-serial {\n",
       "  display: flex;\n",
       "  flex-direction: column;\n",
       "  align-items: center;\n",
       "  background-color: var(--sklearn-color-background);\n",
       "  padding-right: 1em;\n",
       "  padding-left: 1em;\n",
       "}\n",
       "\n",
       "\n",
       "/* Toggleable style: style used for estimator/Pipeline/ColumnTransformer box that is\n",
       "clickable and can be expanded/collapsed.\n",
       "- Pipeline and ColumnTransformer use this feature and define the default style\n",
       "- Estimators will overwrite some part of the style using the `sk-estimator` class\n",
       "*/\n",
       "\n",
       "/* Pipeline and ColumnTransformer style (default) */\n",
       "\n",
       "#sk-container-id-2 div.sk-toggleable {\n",
       "  /* Default theme specific background. It is overwritten whether we have a\n",
       "  specific estimator or a Pipeline/ColumnTransformer */\n",
       "  background-color: var(--sklearn-color-background);\n",
       "}\n",
       "\n",
       "/* Toggleable label */\n",
       "#sk-container-id-2 label.sk-toggleable__label {\n",
       "  cursor: pointer;\n",
       "  display: block;\n",
       "  width: 100%;\n",
       "  margin-bottom: 0;\n",
       "  padding: 0.5em;\n",
       "  box-sizing: border-box;\n",
       "  text-align: center;\n",
       "}\n",
       "\n",
       "#sk-container-id-2 label.sk-toggleable__label-arrow:before {\n",
       "  /* Arrow on the left of the label */\n",
       "  content: \"▸\";\n",
       "  float: left;\n",
       "  margin-right: 0.25em;\n",
       "  color: var(--sklearn-color-icon);\n",
       "}\n",
       "\n",
       "#sk-container-id-2 label.sk-toggleable__label-arrow:hover:before {\n",
       "  color: var(--sklearn-color-text);\n",
       "}\n",
       "\n",
       "/* Toggleable content - dropdown */\n",
       "\n",
       "#sk-container-id-2 div.sk-toggleable__content {\n",
       "  max-height: 0;\n",
       "  max-width: 0;\n",
       "  overflow: hidden;\n",
       "  text-align: left;\n",
       "  /* unfitted */\n",
       "  background-color: var(--sklearn-color-unfitted-level-0);\n",
       "}\n",
       "\n",
       "#sk-container-id-2 div.sk-toggleable__content.fitted {\n",
       "  /* fitted */\n",
       "  background-color: var(--sklearn-color-fitted-level-0);\n",
       "}\n",
       "\n",
       "#sk-container-id-2 div.sk-toggleable__content pre {\n",
       "  margin: 0.2em;\n",
       "  border-radius: 0.25em;\n",
       "  color: var(--sklearn-color-text);\n",
       "  /* unfitted */\n",
       "  background-color: var(--sklearn-color-unfitted-level-0);\n",
       "}\n",
       "\n",
       "#sk-container-id-2 div.sk-toggleable__content.fitted pre {\n",
       "  /* unfitted */\n",
       "  background-color: var(--sklearn-color-fitted-level-0);\n",
       "}\n",
       "\n",
       "#sk-container-id-2 input.sk-toggleable__control:checked~div.sk-toggleable__content {\n",
       "  /* Expand drop-down */\n",
       "  max-height: 200px;\n",
       "  max-width: 100%;\n",
       "  overflow: auto;\n",
       "}\n",
       "\n",
       "#sk-container-id-2 input.sk-toggleable__control:checked~label.sk-toggleable__label-arrow:before {\n",
       "  content: \"▾\";\n",
       "}\n",
       "\n",
       "/* Pipeline/ColumnTransformer-specific style */\n",
       "\n",
       "#sk-container-id-2 div.sk-label input.sk-toggleable__control:checked~label.sk-toggleable__label {\n",
       "  color: var(--sklearn-color-text);\n",
       "  background-color: var(--sklearn-color-unfitted-level-2);\n",
       "}\n",
       "\n",
       "#sk-container-id-2 div.sk-label.fitted input.sk-toggleable__control:checked~label.sk-toggleable__label {\n",
       "  background-color: var(--sklearn-color-fitted-level-2);\n",
       "}\n",
       "\n",
       "/* Estimator-specific style */\n",
       "\n",
       "/* Colorize estimator box */\n",
       "#sk-container-id-2 div.sk-estimator input.sk-toggleable__control:checked~label.sk-toggleable__label {\n",
       "  /* unfitted */\n",
       "  background-color: var(--sklearn-color-unfitted-level-2);\n",
       "}\n",
       "\n",
       "#sk-container-id-2 div.sk-estimator.fitted input.sk-toggleable__control:checked~label.sk-toggleable__label {\n",
       "  /* fitted */\n",
       "  background-color: var(--sklearn-color-fitted-level-2);\n",
       "}\n",
       "\n",
       "#sk-container-id-2 div.sk-label label.sk-toggleable__label,\n",
       "#sk-container-id-2 div.sk-label label {\n",
       "  /* The background is the default theme color */\n",
       "  color: var(--sklearn-color-text-on-default-background);\n",
       "}\n",
       "\n",
       "/* On hover, darken the color of the background */\n",
       "#sk-container-id-2 div.sk-label:hover label.sk-toggleable__label {\n",
       "  color: var(--sklearn-color-text);\n",
       "  background-color: var(--sklearn-color-unfitted-level-2);\n",
       "}\n",
       "\n",
       "/* Label box, darken color on hover, fitted */\n",
       "#sk-container-id-2 div.sk-label.fitted:hover label.sk-toggleable__label.fitted {\n",
       "  color: var(--sklearn-color-text);\n",
       "  background-color: var(--sklearn-color-fitted-level-2);\n",
       "}\n",
       "\n",
       "/* Estimator label */\n",
       "\n",
       "#sk-container-id-2 div.sk-label label {\n",
       "  font-family: monospace;\n",
       "  font-weight: bold;\n",
       "  display: inline-block;\n",
       "  line-height: 1.2em;\n",
       "}\n",
       "\n",
       "#sk-container-id-2 div.sk-label-container {\n",
       "  text-align: center;\n",
       "}\n",
       "\n",
       "/* Estimator-specific */\n",
       "#sk-container-id-2 div.sk-estimator {\n",
       "  font-family: monospace;\n",
       "  border: 1px dotted var(--sklearn-color-border-box);\n",
       "  border-radius: 0.25em;\n",
       "  box-sizing: border-box;\n",
       "  margin-bottom: 0.5em;\n",
       "  /* unfitted */\n",
       "  background-color: var(--sklearn-color-unfitted-level-0);\n",
       "}\n",
       "\n",
       "#sk-container-id-2 div.sk-estimator.fitted {\n",
       "  /* fitted */\n",
       "  background-color: var(--sklearn-color-fitted-level-0);\n",
       "}\n",
       "\n",
       "/* on hover */\n",
       "#sk-container-id-2 div.sk-estimator:hover {\n",
       "  /* unfitted */\n",
       "  background-color: var(--sklearn-color-unfitted-level-2);\n",
       "}\n",
       "\n",
       "#sk-container-id-2 div.sk-estimator.fitted:hover {\n",
       "  /* fitted */\n",
       "  background-color: var(--sklearn-color-fitted-level-2);\n",
       "}\n",
       "\n",
       "/* Specification for estimator info (e.g. \"i\" and \"?\") */\n",
       "\n",
       "/* Common style for \"i\" and \"?\" */\n",
       "\n",
       ".sk-estimator-doc-link,\n",
       "a:link.sk-estimator-doc-link,\n",
       "a:visited.sk-estimator-doc-link {\n",
       "  float: right;\n",
       "  font-size: smaller;\n",
       "  line-height: 1em;\n",
       "  font-family: monospace;\n",
       "  background-color: var(--sklearn-color-background);\n",
       "  border-radius: 1em;\n",
       "  height: 1em;\n",
       "  width: 1em;\n",
       "  text-decoration: none !important;\n",
       "  margin-left: 1ex;\n",
       "  /* unfitted */\n",
       "  border: var(--sklearn-color-unfitted-level-1) 1pt solid;\n",
       "  color: var(--sklearn-color-unfitted-level-1);\n",
       "}\n",
       "\n",
       ".sk-estimator-doc-link.fitted,\n",
       "a:link.sk-estimator-doc-link.fitted,\n",
       "a:visited.sk-estimator-doc-link.fitted {\n",
       "  /* fitted */\n",
       "  border: var(--sklearn-color-fitted-level-1) 1pt solid;\n",
       "  color: var(--sklearn-color-fitted-level-1);\n",
       "}\n",
       "\n",
       "/* On hover */\n",
       "div.sk-estimator:hover .sk-estimator-doc-link:hover,\n",
       ".sk-estimator-doc-link:hover,\n",
       "div.sk-label-container:hover .sk-estimator-doc-link:hover,\n",
       ".sk-estimator-doc-link:hover {\n",
       "  /* unfitted */\n",
       "  background-color: var(--sklearn-color-unfitted-level-3);\n",
       "  color: var(--sklearn-color-background);\n",
       "  text-decoration: none;\n",
       "}\n",
       "\n",
       "div.sk-estimator.fitted:hover .sk-estimator-doc-link.fitted:hover,\n",
       ".sk-estimator-doc-link.fitted:hover,\n",
       "div.sk-label-container:hover .sk-estimator-doc-link.fitted:hover,\n",
       ".sk-estimator-doc-link.fitted:hover {\n",
       "  /* fitted */\n",
       "  background-color: var(--sklearn-color-fitted-level-3);\n",
       "  color: var(--sklearn-color-background);\n",
       "  text-decoration: none;\n",
       "}\n",
       "\n",
       "/* Span, style for the box shown on hovering the info icon */\n",
       ".sk-estimator-doc-link span {\n",
       "  display: none;\n",
       "  z-index: 9999;\n",
       "  position: relative;\n",
       "  font-weight: normal;\n",
       "  right: .2ex;\n",
       "  padding: .5ex;\n",
       "  margin: .5ex;\n",
       "  width: min-content;\n",
       "  min-width: 20ex;\n",
       "  max-width: 50ex;\n",
       "  color: var(--sklearn-color-text);\n",
       "  box-shadow: 2pt 2pt 4pt #999;\n",
       "  /* unfitted */\n",
       "  background: var(--sklearn-color-unfitted-level-0);\n",
       "  border: .5pt solid var(--sklearn-color-unfitted-level-3);\n",
       "}\n",
       "\n",
       ".sk-estimator-doc-link.fitted span {\n",
       "  /* fitted */\n",
       "  background: var(--sklearn-color-fitted-level-0);\n",
       "  border: var(--sklearn-color-fitted-level-3);\n",
       "}\n",
       "\n",
       ".sk-estimator-doc-link:hover span {\n",
       "  display: block;\n",
       "}\n",
       "\n",
       "/* \"?\"-specific style due to the `<a>` HTML tag */\n",
       "\n",
       "#sk-container-id-2 a.estimator_doc_link {\n",
       "  float: right;\n",
       "  font-size: 1rem;\n",
       "  line-height: 1em;\n",
       "  font-family: monospace;\n",
       "  background-color: var(--sklearn-color-background);\n",
       "  border-radius: 1rem;\n",
       "  height: 1rem;\n",
       "  width: 1rem;\n",
       "  text-decoration: none;\n",
       "  /* unfitted */\n",
       "  color: var(--sklearn-color-unfitted-level-1);\n",
       "  border: var(--sklearn-color-unfitted-level-1) 1pt solid;\n",
       "}\n",
       "\n",
       "#sk-container-id-2 a.estimator_doc_link.fitted {\n",
       "  /* fitted */\n",
       "  border: var(--sklearn-color-fitted-level-1) 1pt solid;\n",
       "  color: var(--sklearn-color-fitted-level-1);\n",
       "}\n",
       "\n",
       "/* On hover */\n",
       "#sk-container-id-2 a.estimator_doc_link:hover {\n",
       "  /* unfitted */\n",
       "  background-color: var(--sklearn-color-unfitted-level-3);\n",
       "  color: var(--sklearn-color-background);\n",
       "  text-decoration: none;\n",
       "}\n",
       "\n",
       "#sk-container-id-2 a.estimator_doc_link.fitted:hover {\n",
       "  /* fitted */\n",
       "  background-color: var(--sklearn-color-fitted-level-3);\n",
       "}\n",
       "</style><div id=\"sk-container-id-2\" class=\"sk-top-container\"><div class=\"sk-text-repr-fallback\"><pre>GridSearchCV(cv=2, estimator=RandomForestClassifier(n_jobs=-1, random_state=0),\n",
       "             n_jobs=-1,\n",
       "             param_grid={&#x27;max_depth&#x27;: [8, 16, 24, 32],\n",
       "                         &#x27;min_samples_leaf&#x27;: [1, 6, 12],\n",
       "                         &#x27;min_samples_split&#x27;: [2, 8, 16]})</pre><b>In a Jupyter environment, please rerun this cell to show the HTML representation or trust the notebook. <br />On GitHub, the HTML representation is unable to render, please try loading this page with nbviewer.org.</b></div><div class=\"sk-container\" hidden><div class=\"sk-item sk-dashed-wrapped\"><div class=\"sk-label-container\"><div class=\"sk-label fitted sk-toggleable\"><input class=\"sk-toggleable__control sk-hidden--visually\" id=\"sk-estimator-id-4\" type=\"checkbox\" ><label for=\"sk-estimator-id-4\" class=\"sk-toggleable__label fitted sk-toggleable__label-arrow fitted\">&nbsp;&nbsp;GridSearchCV<a class=\"sk-estimator-doc-link fitted\" rel=\"noreferrer\" target=\"_blank\" href=\"https://scikit-learn.org/1.4/modules/generated/sklearn.model_selection.GridSearchCV.html\">?<span>Documentation for GridSearchCV</span></a><span class=\"sk-estimator-doc-link fitted\">i<span>Fitted</span></span></label><div class=\"sk-toggleable__content fitted\"><pre>GridSearchCV(cv=2, estimator=RandomForestClassifier(n_jobs=-1, random_state=0),\n",
       "             n_jobs=-1,\n",
       "             param_grid={&#x27;max_depth&#x27;: [8, 16, 24, 32],\n",
       "                         &#x27;min_samples_leaf&#x27;: [1, 6, 12],\n",
       "                         &#x27;min_samples_split&#x27;: [2, 8, 16]})</pre></div> </div></div><div class=\"sk-parallel\"><div class=\"sk-parallel-item\"><div class=\"sk-item\"><div class=\"sk-label-container\"><div class=\"sk-label fitted sk-toggleable\"><input class=\"sk-toggleable__control sk-hidden--visually\" id=\"sk-estimator-id-5\" type=\"checkbox\" ><label for=\"sk-estimator-id-5\" class=\"sk-toggleable__label fitted sk-toggleable__label-arrow fitted\">estimator: RandomForestClassifier</label><div class=\"sk-toggleable__content fitted\"><pre>RandomForestClassifier(n_jobs=-1, random_state=0)</pre></div> </div></div><div class=\"sk-serial\"><div class=\"sk-item\"><div class=\"sk-estimator fitted sk-toggleable\"><input class=\"sk-toggleable__control sk-hidden--visually\" id=\"sk-estimator-id-6\" type=\"checkbox\" ><label for=\"sk-estimator-id-6\" class=\"sk-toggleable__label fitted sk-toggleable__label-arrow fitted\">&nbsp;RandomForestClassifier<a class=\"sk-estimator-doc-link fitted\" rel=\"noreferrer\" target=\"_blank\" href=\"https://scikit-learn.org/1.4/modules/generated/sklearn.ensemble.RandomForestClassifier.html\">?<span>Documentation for RandomForestClassifier</span></a></label><div class=\"sk-toggleable__content fitted\"><pre>RandomForestClassifier(n_jobs=-1, random_state=0)</pre></div> </div></div></div></div></div></div></div></div></div>"
      ],
      "text/plain": [
       "GridSearchCV(cv=2, estimator=RandomForestClassifier(n_jobs=-1, random_state=0),\n",
       "             n_jobs=-1,\n",
       "             param_grid={'max_depth': [8, 16, 24, 32],\n",
       "                         'min_samples_leaf': [1, 6, 12],\n",
       "                         'min_samples_split': [2, 8, 16]})"
      ]
     },
     "execution_count": 61,
     "metadata": {},
     "output_type": "execute_result"
    }
   ],
   "source": [
    "from sklearn.model_selection import GridSearchCV\n",
    "\n",
    "params = {\n",
    "    'max_depth': [8,16,24, 32],\n",
    "    'min_samples_split' : [2,8,16],\n",
    "    'min_samples_leaf': [1,6,12]\n",
    "}\n",
    "\n",
    "rf_clf = RandomForestClassifier(n_estimators=100, random_state=0, n_jobs=-1)\n",
    "grid_cv = GridSearchCV(rf_clf, param_grid=params, cv=2, n_jobs=-1)\n",
    "grid_cv.fit(X_train, y_train)"
   ]
  },
  {
   "cell_type": "code",
   "execution_count": 62,
   "id": "65e1d228",
   "metadata": {},
   "outputs": [
    {
     "data": {
      "text/plain": [
       "({'max_depth': 16, 'min_samples_leaf': 6, 'min_samples_split': 2},\n",
       " np.float64(0.9164853101196953))"
      ]
     },
     "execution_count": 62,
     "metadata": {},
     "output_type": "execute_result"
    }
   ],
   "source": [
    "grid_cv.best_params_, grid_cv.best_score_"
   ]
  },
  {
   "cell_type": "code",
   "execution_count": 63,
   "id": "0dd09d5c",
   "metadata": {},
   "outputs": [
    {
     "data": {
      "text/plain": [
       "0.9260264675941635"
      ]
     },
     "execution_count": 63,
     "metadata": {},
     "output_type": "execute_result"
    }
   ],
   "source": [
    "best_model = grid_cv.best_estimator_\n",
    "best_pred = best_model.predict(X_test)\n",
    "accuracy_score(y_test, best_pred)"
   ]
  },
  {
   "cell_type": "code",
   "execution_count": 64,
   "id": "f86a7c94",
   "metadata": {},
   "outputs": [],
   "source": [
    "# 피처 중요도 출력\n",
    "import matplotlib.pyplot as plt\n",
    "import numpy as np\n",
    "\n",
    "def plot_feature_importances(model, feature_names, top_n=20):\n",
    "    importances = model.feature_importances_\n",
    "    indices = np.argsort(importances)[::-1][:top_n]\n",
    "    plt.figure(figsize=(10, top_n * 0.4))  # 피처 수에 따라 자동 높이 조절\n",
    "\n",
    "    plt.barh(range(top_n), importances[indices][::-1], align='center')\n",
    "    plt.yticks(range(top_n), np.array(feature_names)[indices][::-1])\n",
    "    plt.xlabel('Feature Importance')\n",
    "    plt.ylabel('Feature')\n",
    "    plt.title(f'Top {top_n} Feature Importances')\n",
    "    plt.tight_layout()\n",
    "    plt.show()"
   ]
  },
  {
   "cell_type": "code",
   "execution_count": 68,
   "id": "21023f2b",
   "metadata": {},
   "outputs": [
    {
     "data": {
      "image/png": "[encoded data removed]",
      "text/plain": [
       "<Figure size 1000x800 with 1 Axes>"
      ]
     },
     "metadata": {},
     "output_type": "display_data"
    }
   ],
   "source": [
    "plot_feature_importances(grid_search.best_estimator_, feature_names=X_train.columns)\n"
   ]
  },
  {
   "cell_type": "markdown",
   "id": "16b827eb",
   "metadata": {},
   "source": [
    "# GBM Gradient Boosting Macine"
   ]
  },
  {
   "cell_type": "code",
   "execution_count": 100,
   "id": "aad58391",
   "metadata": {},
   "outputs": [],
   "source": [
    "import os\n",
    "os.chdir('C:\\githome\\hipython_rep')"
   ]
  },
  {
   "cell_type": "code",
   "execution_count": 101,
   "id": "c3d34e7c",
   "metadata": {},
   "outputs": [],
   "source": [
    "import re\n",
    "def clean_feature_name(name):\n",
    "    # 특수문자 제거: 괄호, 콤마, 하이픈 등\n",
    "    return re.sub('[^A-Za-z0-9_]+', '_', name)"
   ]
  },
  {
   "cell_type": "code",
   "execution_count": 110,
   "id": "8e56581c",
   "metadata": {},
   "outputs": [],
   "source": [
    "def get_new_feature_name_df(old_feature_name_df):\n",
    "    feature_dup_df = pd.DataFrame(data=old_feature_name_df.groupby('column_name').cumcount(),\n",
    "                                  columns=['dup_cnt'])\n",
    "    feature_dup_df = feature_dup_df.reset_index()\n",
    "    new_feature_name_df = pd.merge(old_feature_name_df.reset_index(), feature_dup_df, how='outer')\n",
    "    # new_feature_name_df['column_name'] = new_feature_name_df[['column_name', 'dup_cnt']].apply(lambda x : x[0]+'_'+str(x[1]) \n",
    "    #   \n",
    "    # 중복 이름 처리 + 특수문자 제거\n",
    "    new_feature_name_df['column_name'] = new_feature_name_df[['column_name', 'dup_cnt']].apply(\n",
    "        lambda x: clean_feature_name(x[0] + ('_' + str(x[1]) if x[1] > 0 else '')), axis=1\n",
    "    )\n",
    "    new_feature_name_df = new_feature_name_df.drop(['index'], axis=1)\n",
    "    return new_feature_name_df"
   ]
  },
  {
   "cell_type": "code",
   "execution_count": 111,
   "id": "5e09e8e3",
   "metadata": {},
   "outputs": [
    {
     "name": "stderr",
     "output_type": "stream",
     "text": [
      "C:\\Users\\LENOVO\\AppData\\Local\\Temp\\ipykernel_24028\\3037849969.py:10: FutureWarning: Series.__getitem__ treating keys as positions is deprecated. In a future version, integer keys will always be treated as labels (consistent with DataFrame behavior). To access a value by position, use `ser.iloc[pos]`\n",
      "  lambda x: clean_feature_name(x[0] + ('_' + str(x[1]) if x[1] > 0 else '')), axis=1\n"
     ]
    }
   ],
   "source": [
    "feature_name_df = pd.read_csv('abc/data/UCI-HAR_Dataset/features.txt', sep='\\s+' ,\n",
    "                              header=None, names=['column_index', 'column_name'])\n",
    "\n",
    "new_feature_name_df = get_new_feature_name_df(feature_name_df)\n",
    "\n",
    "X_train = pd.read_csv('abc/data/UCI-HAR_Dataset/train/X_train.txt')\n",
    "X_test =  pd.read_csv('abc/data/UCI-HAR_Dataset/test/X_test.txt')"
   ]
  },
  {
   "cell_type": "code",
   "execution_count": 114,
   "id": "402608a5",
   "metadata": {},
   "outputs": [],
   "source": [
    "import pandas as pd\n",
    "\n",
    "def get_human_dataset( ):\n",
    "  feature_name_df = pd.read_csv('abc/data/UCI-HAR_Dataset/features.txt',sep='\\s+',\n",
    "                        header=None, names=['column_index','column_name'])\n",
    "  new_feature_name_df = get_new_feature_name_df(feature_name_df)\n",
    "  feature_name = new_feature_name_df.iloc[:, 1].values.tolist()\n",
    "  X_train = pd.read_csv('abc/data/UCI-HAR_Dataset/train/X_train.txt',sep='\\s+', names=feature_name )\n",
    "  X_test = pd.read_csv('abc/data/UCI-HAR_Dataset/test/X_test.txt',sep='\\s+', names=feature_name)\n",
    "  y_train = pd.read_csv('abc/data/UCI-HAR_Dataset/train/y_train.txt',sep='\\s+',header=None,names=['action'])\n",
    "  y_test = pd.read_csv('abc/data/UCI-HAR_Dataset/test/y_test.txt',sep='\\s+',header=None,names=['action'])\n",
    "  return X_train, X_test, y_train, y_test\n",
    "  "
   ]
  },
  {
   "cell_type": "code",
   "execution_count": 115,
   "id": "44947920",
   "metadata": {},
   "outputs": [
    {
     "name": "stderr",
     "output_type": "stream",
     "text": [
      "C:\\Users\\LENOVO\\AppData\\Local\\Temp\\ipykernel_24028\\3037849969.py:10: FutureWarning: Series.__getitem__ treating keys as positions is deprecated. In a future version, integer keys will always be treated as labels (consistent with DataFrame behavior). To access a value by position, use `ser.iloc[pos]`\n",
      "  lambda x: clean_feature_name(x[0] + ('_' + str(x[1]) if x[1] > 0 else '')), axis=1\n"
     ]
    },
    {
     "name": "stdout",
     "output_type": "stream",
     "text": [
      "(7352, 561) (2947, 561)\n",
      "action\n",
      "6    1407\n",
      "5    1374\n",
      "4    1286\n",
      "1    1226\n",
      "2    1073\n",
      "3     986\n",
      "Name: count, dtype: int64\n"
     ]
    }
   ],
   "source": [
    "X_train, X_test, y_train, y_test = get_human_dataset()\n",
    "\n",
    "print(X_train.shape, X_test.shape)\n",
    "print(y_train['action'].value_counts())"
   ]
  },
  {
   "cell_type": "code",
   "execution_count": 116,
   "id": "cbcedd96",
   "metadata": {},
   "outputs": [
    {
     "name": "stderr",
     "output_type": "stream",
     "text": [
      "c:\\Users\\LENOVO\\miniconda3\\envs\\hi_ml_env\\lib\\site-packages\\sklearn\\preprocessing\\_label.py:114: DataConversionWarning: A column-vector y was passed when a 1d array was expected. Please change the shape of y to (n_samples, ), for example using ravel().\n",
      "  y = column_or_1d(y, warn=True)\n"
     ]
    },
    {
     "data": {
      "text/plain": [
       "0.9392602646759416"
      ]
     },
     "execution_count": 116,
     "metadata": {},
     "output_type": "execute_result"
    }
   ],
   "source": [
    "\n",
    "gb_clf = GradientBoostingClassifier(random_state=0)\n",
    "gb_clf.fit(X_train, y_train)\n",
    "gb_pred = gb_clf.predict(X_test)\n",
    "accuracy_score(y_test, gb_pred)"
   ]
  },
  {
   "cell_type": "markdown",
   "id": "12b2216a",
   "metadata": {},
   "source": [
    "# XGBOOST"
   ]
  },
  {
   "cell_type": "code",
   "execution_count": 117,
   "id": "b948706c",
   "metadata": {},
   "outputs": [
    {
     "name": "stdout",
     "output_type": "stream",
     "text": [
      "1.6.2\n"
     ]
    }
   ],
   "source": [
    "import xgboost\n",
    "print(xgboost.__version__)"
   ]
  },
  {
   "cell_type": "code",
   "execution_count": 118,
   "id": "421b15b2",
   "metadata": {},
   "outputs": [
    {
     "name": "stderr",
     "output_type": "stream",
     "text": [
      "C:\\Users\\LENOVO\\AppData\\Local\\Temp\\ipykernel_24028\\3037849969.py:10: FutureWarning: Series.__getitem__ treating keys as positions is deprecated. In a future version, integer keys will always be treated as labels (consistent with DataFrame behavior). To access a value by position, use `ser.iloc[pos]`\n",
      "  lambda x: clean_feature_name(x[0] + ('_' + str(x[1]) if x[1] > 0 else '')), axis=1\n"
     ]
    },
    {
     "data": {
      "text/plain": [
       "((7352, 561), (7352, 1))"
      ]
     },
     "execution_count": 118,
     "metadata": {},
     "output_type": "execute_result"
    }
   ],
   "source": [
    "from sklearn.preprocessing import LabelEncoder\n",
    "X_train, X_test, y_train, y_test = get_human_dataset()\n",
    "X_train.shape, y_train.shape\n"
   ]
  },
  {
   "cell_type": "code",
   "execution_count": 119,
   "id": "65f7fe2f",
   "metadata": {},
   "outputs": [
    {
     "name": "stderr",
     "output_type": "stream",
     "text": [
      "c:\\Users\\LENOVO\\miniconda3\\envs\\hi_ml_env\\lib\\site-packages\\sklearn\\preprocessing\\_label.py:114: DataConversionWarning: A column-vector y was passed when a 1d array was expected. Please change the shape of y to (n_samples, ), for example using ravel().\n",
      "  y = column_or_1d(y, warn=True)\n",
      "c:\\Users\\LENOVO\\miniconda3\\envs\\hi_ml_env\\lib\\site-packages\\sklearn\\preprocessing\\_label.py:132: DataConversionWarning: A column-vector y was passed when a 1d array was expected. Please change the shape of y to (n_samples, ), for example using ravel().\n",
      "  y = column_or_1d(y, dtype=self.classes_.dtype, warn=True)\n"
     ]
    }
   ],
   "source": [
    "le = LabelEncoder()\n",
    "y_train_encoded = le.fit_transform(y_train)  # Series → 1D array\n",
    "y_test_encoded = le.transform(y_test)"
   ]
  },
  {
   "cell_type": "code",
   "execution_count": 120,
   "id": "633e22e5",
   "metadata": {},
   "outputs": [
    {
     "name": "stderr",
     "output_type": "stream",
     "text": [
      "c:\\Users\\LENOVO\\miniconda3\\envs\\hi_ml_env\\lib\\site-packages\\xgboost\\sklearn.py:793: UserWarning: `eval_metric` in `fit` method is deprecated for better compatibility with scikit-learn, use `eval_metric` in constructor or`set_params` instead.\n",
      "  warnings.warn(\n",
      "c:\\Users\\LENOVO\\miniconda3\\envs\\hi_ml_env\\lib\\site-packages\\xgboost\\sklearn.py:793: UserWarning: `early_stopping_rounds` in `fit` method is deprecated for better compatibility with scikit-learn, use `early_stopping_rounds` in constructor or`set_params` instead.\n",
      "  warnings.warn(\n"
     ]
    },
    {
     "name": "stdout",
     "output_type": "stream",
     "text": [
      "[0]\tvalidation_0-mlogloss:1.58932\n",
      "[1]\tvalidation_0-mlogloss:1.43267\n",
      "[2]\tvalidation_0-mlogloss:1.30322\n",
      "[3]\tvalidation_0-mlogloss:1.19383\n",
      "[4]\tvalidation_0-mlogloss:1.10067\n",
      "[5]\tvalidation_0-mlogloss:1.01957\n",
      "[6]\tvalidation_0-mlogloss:0.94662\n",
      "[7]\tvalidation_0-mlogloss:0.88249\n",
      "[8]\tvalidation_0-mlogloss:0.82727\n",
      "[9]\tvalidation_0-mlogloss:0.77601\n",
      "[10]\tvalidation_0-mlogloss:0.72925\n",
      "[11]\tvalidation_0-mlogloss:0.68936\n",
      "[12]\tvalidation_0-mlogloss:0.65128\n",
      "[13]\tvalidation_0-mlogloss:0.61844\n",
      "[14]\tvalidation_0-mlogloss:0.58748\n",
      "[15]\tvalidation_0-mlogloss:0.55894\n",
      "[16]\tvalidation_0-mlogloss:0.53410\n",
      "[17]\tvalidation_0-mlogloss:0.50956\n",
      "[18]\tvalidation_0-mlogloss:0.48868\n",
      "[19]\tvalidation_0-mlogloss:0.46809\n",
      "[20]\tvalidation_0-mlogloss:0.45075\n",
      "[21]\tvalidation_0-mlogloss:0.43385\n",
      "[22]\tvalidation_0-mlogloss:0.41768\n",
      "[23]\tvalidation_0-mlogloss:0.40316\n",
      "[24]\tvalidation_0-mlogloss:0.38937\n",
      "[25]\tvalidation_0-mlogloss:0.37645\n",
      "[26]\tvalidation_0-mlogloss:0.36394\n",
      "[27]\tvalidation_0-mlogloss:0.35407\n",
      "[28]\tvalidation_0-mlogloss:0.34354\n",
      "[29]\tvalidation_0-mlogloss:0.33333\n",
      "[30]\tvalidation_0-mlogloss:0.32486\n",
      "[31]\tvalidation_0-mlogloss:0.31667\n",
      "[32]\tvalidation_0-mlogloss:0.30627\n",
      "[33]\tvalidation_0-mlogloss:0.29953\n",
      "[34]\tvalidation_0-mlogloss:0.29340\n",
      "[35]\tvalidation_0-mlogloss:0.28661\n",
      "[36]\tvalidation_0-mlogloss:0.27952\n",
      "[37]\tvalidation_0-mlogloss:0.27353\n",
      "[38]\tvalidation_0-mlogloss:0.26796\n",
      "[39]\tvalidation_0-mlogloss:0.26233\n",
      "[40]\tvalidation_0-mlogloss:0.25772\n",
      "[41]\tvalidation_0-mlogloss:0.25279\n",
      "[42]\tvalidation_0-mlogloss:0.24838\n",
      "[43]\tvalidation_0-mlogloss:0.24271\n",
      "[44]\tvalidation_0-mlogloss:0.23839\n",
      "[45]\tvalidation_0-mlogloss:0.23486\n",
      "[46]\tvalidation_0-mlogloss:0.23099\n",
      "[47]\tvalidation_0-mlogloss:0.22687\n",
      "[48]\tvalidation_0-mlogloss:0.22315\n",
      "[49]\tvalidation_0-mlogloss:0.22017\n",
      "[50]\tvalidation_0-mlogloss:0.21749\n",
      "[51]\tvalidation_0-mlogloss:0.21397\n",
      "[52]\tvalidation_0-mlogloss:0.21145\n",
      "[53]\tvalidation_0-mlogloss:0.20966\n",
      "[54]\tvalidation_0-mlogloss:0.20670\n",
      "[55]\tvalidation_0-mlogloss:0.20510\n",
      "[56]\tvalidation_0-mlogloss:0.20277\n",
      "[57]\tvalidation_0-mlogloss:0.19985\n",
      "[58]\tvalidation_0-mlogloss:0.19818\n",
      "[59]\tvalidation_0-mlogloss:0.19585\n",
      "[60]\tvalidation_0-mlogloss:0.19491\n",
      "[61]\tvalidation_0-mlogloss:0.19256\n",
      "[62]\tvalidation_0-mlogloss:0.19033\n",
      "[63]\tvalidation_0-mlogloss:0.18873\n",
      "[64]\tvalidation_0-mlogloss:0.18706\n",
      "[65]\tvalidation_0-mlogloss:0.18500\n",
      "[66]\tvalidation_0-mlogloss:0.18398\n",
      "[67]\tvalidation_0-mlogloss:0.18175\n",
      "[68]\tvalidation_0-mlogloss:0.18022\n",
      "[69]\tvalidation_0-mlogloss:0.17856\n",
      "[70]\tvalidation_0-mlogloss:0.17689\n",
      "[71]\tvalidation_0-mlogloss:0.17568\n",
      "[72]\tvalidation_0-mlogloss:0.17435\n",
      "[73]\tvalidation_0-mlogloss:0.17259\n",
      "[74]\tvalidation_0-mlogloss:0.17145\n",
      "[75]\tvalidation_0-mlogloss:0.17088\n",
      "[76]\tvalidation_0-mlogloss:0.16982\n",
      "[77]\tvalidation_0-mlogloss:0.16823\n",
      "[78]\tvalidation_0-mlogloss:0.16665\n",
      "[79]\tvalidation_0-mlogloss:0.16537\n",
      "[80]\tvalidation_0-mlogloss:0.16412\n",
      "[81]\tvalidation_0-mlogloss:0.16253\n",
      "[82]\tvalidation_0-mlogloss:0.16184\n",
      "[83]\tvalidation_0-mlogloss:0.16128\n",
      "[84]\tvalidation_0-mlogloss:0.15987\n",
      "[85]\tvalidation_0-mlogloss:0.15909\n",
      "[86]\tvalidation_0-mlogloss:0.15831\n",
      "[87]\tvalidation_0-mlogloss:0.15767\n",
      "[88]\tvalidation_0-mlogloss:0.15719\n",
      "[89]\tvalidation_0-mlogloss:0.15679\n",
      "[90]\tvalidation_0-mlogloss:0.15637\n",
      "[91]\tvalidation_0-mlogloss:0.15583\n",
      "[92]\tvalidation_0-mlogloss:0.15525\n",
      "[93]\tvalidation_0-mlogloss:0.15431\n",
      "[94]\tvalidation_0-mlogloss:0.15365\n",
      "[95]\tvalidation_0-mlogloss:0.15294\n",
      "[96]\tvalidation_0-mlogloss:0.15271\n",
      "[97]\tvalidation_0-mlogloss:0.15216\n",
      "[98]\tvalidation_0-mlogloss:0.15130\n",
      "[99]\tvalidation_0-mlogloss:0.15023\n",
      "[100]\tvalidation_0-mlogloss:0.15017\n",
      "[101]\tvalidation_0-mlogloss:0.14987\n",
      "[102]\tvalidation_0-mlogloss:0.14935\n",
      "[103]\tvalidation_0-mlogloss:0.14943\n",
      "[104]\tvalidation_0-mlogloss:0.14863\n",
      "[105]\tvalidation_0-mlogloss:0.14813\n",
      "[106]\tvalidation_0-mlogloss:0.14792\n",
      "[107]\tvalidation_0-mlogloss:0.14751\n",
      "[108]\tvalidation_0-mlogloss:0.14676\n",
      "[109]\tvalidation_0-mlogloss:0.14572\n",
      "[110]\tvalidation_0-mlogloss:0.14577\n",
      "[111]\tvalidation_0-mlogloss:0.14491\n",
      "[112]\tvalidation_0-mlogloss:0.14464\n",
      "[113]\tvalidation_0-mlogloss:0.14423\n",
      "[114]\tvalidation_0-mlogloss:0.14428\n",
      "[115]\tvalidation_0-mlogloss:0.14429\n",
      "[116]\tvalidation_0-mlogloss:0.14386\n",
      "[117]\tvalidation_0-mlogloss:0.14333\n",
      "[118]\tvalidation_0-mlogloss:0.14346\n",
      "[119]\tvalidation_0-mlogloss:0.14223\n",
      "[120]\tvalidation_0-mlogloss:0.14232\n",
      "[121]\tvalidation_0-mlogloss:0.14201\n",
      "[122]\tvalidation_0-mlogloss:0.14159\n",
      "[123]\tvalidation_0-mlogloss:0.14149\n",
      "[124]\tvalidation_0-mlogloss:0.14080\n",
      "[125]\tvalidation_0-mlogloss:0.14059\n",
      "[126]\tvalidation_0-mlogloss:0.14054\n",
      "[127]\tvalidation_0-mlogloss:0.14050\n",
      "[128]\tvalidation_0-mlogloss:0.14095\n",
      "[129]\tvalidation_0-mlogloss:0.14090\n",
      "[130]\tvalidation_0-mlogloss:0.14069\n",
      "[131]\tvalidation_0-mlogloss:0.14029\n",
      "[132]\tvalidation_0-mlogloss:0.14013\n",
      "[133]\tvalidation_0-mlogloss:0.13989\n",
      "[134]\tvalidation_0-mlogloss:0.13948\n",
      "[135]\tvalidation_0-mlogloss:0.13883\n",
      "[136]\tvalidation_0-mlogloss:0.13937\n",
      "[137]\tvalidation_0-mlogloss:0.13930\n",
      "[138]\tvalidation_0-mlogloss:0.13918\n",
      "[139]\tvalidation_0-mlogloss:0.13908\n",
      "[140]\tvalidation_0-mlogloss:0.13906\n",
      "[141]\tvalidation_0-mlogloss:0.13978\n",
      "[142]\tvalidation_0-mlogloss:0.13942\n",
      "[143]\tvalidation_0-mlogloss:0.13911\n",
      "[144]\tvalidation_0-mlogloss:0.13848\n",
      "[145]\tvalidation_0-mlogloss:0.13840\n",
      "[146]\tvalidation_0-mlogloss:0.13869\n",
      "[147]\tvalidation_0-mlogloss:0.13870\n",
      "[148]\tvalidation_0-mlogloss:0.13882\n",
      "[149]\tvalidation_0-mlogloss:0.13930\n",
      "[150]\tvalidation_0-mlogloss:0.13923\n",
      "[151]\tvalidation_0-mlogloss:0.13938\n",
      "[152]\tvalidation_0-mlogloss:0.13915\n",
      "[153]\tvalidation_0-mlogloss:0.13907\n",
      "[154]\tvalidation_0-mlogloss:0.13880\n",
      "[155]\tvalidation_0-mlogloss:0.13850\n",
      "[156]\tvalidation_0-mlogloss:0.13834\n",
      "[157]\tvalidation_0-mlogloss:0.13810\n",
      "[158]\tvalidation_0-mlogloss:0.13824\n",
      "[159]\tvalidation_0-mlogloss:0.13868\n",
      "[160]\tvalidation_0-mlogloss:0.13881\n",
      "[161]\tvalidation_0-mlogloss:0.13887\n",
      "[162]\tvalidation_0-mlogloss:0.13884\n",
      "[163]\tvalidation_0-mlogloss:0.13888\n",
      "[164]\tvalidation_0-mlogloss:0.13849\n",
      "[165]\tvalidation_0-mlogloss:0.13847\n",
      "[166]\tvalidation_0-mlogloss:0.13756\n",
      "[167]\tvalidation_0-mlogloss:0.13740\n",
      "[168]\tvalidation_0-mlogloss:0.13769\n",
      "[169]\tvalidation_0-mlogloss:0.13711\n",
      "[170]\tvalidation_0-mlogloss:0.13725\n",
      "[171]\tvalidation_0-mlogloss:0.13718\n",
      "[172]\tvalidation_0-mlogloss:0.13692\n",
      "[173]\tvalidation_0-mlogloss:0.13688\n",
      "[174]\tvalidation_0-mlogloss:0.13661\n",
      "[175]\tvalidation_0-mlogloss:0.13750\n",
      "[176]\tvalidation_0-mlogloss:0.13743\n",
      "[177]\tvalidation_0-mlogloss:0.13731\n",
      "[178]\tvalidation_0-mlogloss:0.13702\n",
      "[179]\tvalidation_0-mlogloss:0.13675\n",
      "[180]\tvalidation_0-mlogloss:0.13708\n",
      "[181]\tvalidation_0-mlogloss:0.13695\n",
      "[182]\tvalidation_0-mlogloss:0.13683\n",
      "[183]\tvalidation_0-mlogloss:0.13703\n",
      "[184]\tvalidation_0-mlogloss:0.13684\n",
      "[185]\tvalidation_0-mlogloss:0.13704\n",
      "[186]\tvalidation_0-mlogloss:0.13702\n",
      "[187]\tvalidation_0-mlogloss:0.13706\n",
      "[188]\tvalidation_0-mlogloss:0.13685\n",
      "[189]\tvalidation_0-mlogloss:0.13707\n",
      "[190]\tvalidation_0-mlogloss:0.13672\n",
      "[191]\tvalidation_0-mlogloss:0.13670\n",
      "[192]\tvalidation_0-mlogloss:0.13647\n",
      "[193]\tvalidation_0-mlogloss:0.13675\n",
      "[194]\tvalidation_0-mlogloss:0.13633\n",
      "[195]\tvalidation_0-mlogloss:0.13653\n",
      "[196]\tvalidation_0-mlogloss:0.13653\n",
      "[197]\tvalidation_0-mlogloss:0.13680\n",
      "[198]\tvalidation_0-mlogloss:0.13651\n",
      "[199]\tvalidation_0-mlogloss:0.13684\n",
      "[200]\tvalidation_0-mlogloss:0.13685\n",
      "[201]\tvalidation_0-mlogloss:0.13700\n",
      "[202]\tvalidation_0-mlogloss:0.13691\n",
      "[203]\tvalidation_0-mlogloss:0.13704\n",
      "[204]\tvalidation_0-mlogloss:0.13696\n",
      "[205]\tvalidation_0-mlogloss:0.13681\n",
      "[206]\tvalidation_0-mlogloss:0.13695\n",
      "[207]\tvalidation_0-mlogloss:0.13662\n",
      "[208]\tvalidation_0-mlogloss:0.13655\n",
      "[209]\tvalidation_0-mlogloss:0.13672\n",
      "[210]\tvalidation_0-mlogloss:0.13733\n",
      "[211]\tvalidation_0-mlogloss:0.13729\n",
      "[212]\tvalidation_0-mlogloss:0.13705\n",
      "[213]\tvalidation_0-mlogloss:0.13687\n",
      "[214]\tvalidation_0-mlogloss:0.13651\n",
      "[215]\tvalidation_0-mlogloss:0.13657\n",
      "[216]\tvalidation_0-mlogloss:0.13629\n",
      "[217]\tvalidation_0-mlogloss:0.13602\n",
      "[218]\tvalidation_0-mlogloss:0.13643\n",
      "[219]\tvalidation_0-mlogloss:0.13584\n",
      "[220]\tvalidation_0-mlogloss:0.13600\n",
      "[221]\tvalidation_0-mlogloss:0.13617\n",
      "[222]\tvalidation_0-mlogloss:0.13604\n",
      "[223]\tvalidation_0-mlogloss:0.13631\n",
      "[224]\tvalidation_0-mlogloss:0.13667\n",
      "[225]\tvalidation_0-mlogloss:0.13637\n",
      "[226]\tvalidation_0-mlogloss:0.13647\n",
      "[227]\tvalidation_0-mlogloss:0.13632\n",
      "[228]\tvalidation_0-mlogloss:0.13603\n",
      "[229]\tvalidation_0-mlogloss:0.13574\n",
      "[230]\tvalidation_0-mlogloss:0.13577\n",
      "[231]\tvalidation_0-mlogloss:0.13577\n",
      "[232]\tvalidation_0-mlogloss:0.13601\n",
      "[233]\tvalidation_0-mlogloss:0.13585\n",
      "[234]\tvalidation_0-mlogloss:0.13618\n",
      "[235]\tvalidation_0-mlogloss:0.13636\n",
      "[236]\tvalidation_0-mlogloss:0.13641\n",
      "[237]\tvalidation_0-mlogloss:0.13624\n",
      "[238]\tvalidation_0-mlogloss:0.13596\n",
      "[239]\tvalidation_0-mlogloss:0.13585\n",
      "[240]\tvalidation_0-mlogloss:0.13572\n",
      "[241]\tvalidation_0-mlogloss:0.13570\n",
      "[242]\tvalidation_0-mlogloss:0.13595\n",
      "[243]\tvalidation_0-mlogloss:0.13588\n",
      "[244]\tvalidation_0-mlogloss:0.13548\n",
      "[245]\tvalidation_0-mlogloss:0.13570\n",
      "[246]\tvalidation_0-mlogloss:0.13552\n",
      "[247]\tvalidation_0-mlogloss:0.13558\n",
      "[248]\tvalidation_0-mlogloss:0.13539\n",
      "[249]\tvalidation_0-mlogloss:0.13541\n",
      "[250]\tvalidation_0-mlogloss:0.13509\n",
      "[251]\tvalidation_0-mlogloss:0.13514\n",
      "[252]\tvalidation_0-mlogloss:0.13528\n",
      "[253]\tvalidation_0-mlogloss:0.13522\n",
      "[254]\tvalidation_0-mlogloss:0.13547\n",
      "[255]\tvalidation_0-mlogloss:0.13584\n",
      "[256]\tvalidation_0-mlogloss:0.13557\n",
      "[257]\tvalidation_0-mlogloss:0.13557\n",
      "[258]\tvalidation_0-mlogloss:0.13554\n",
      "[259]\tvalidation_0-mlogloss:0.13557\n",
      "[260]\tvalidation_0-mlogloss:0.13560\n",
      "[261]\tvalidation_0-mlogloss:0.13561\n",
      "[262]\tvalidation_0-mlogloss:0.13560\n",
      "[263]\tvalidation_0-mlogloss:0.13567\n",
      "[264]\tvalidation_0-mlogloss:0.13588\n",
      "[265]\tvalidation_0-mlogloss:0.13557\n",
      "[266]\tvalidation_0-mlogloss:0.13540\n",
      "[267]\tvalidation_0-mlogloss:0.13535\n",
      "[268]\tvalidation_0-mlogloss:0.13537\n",
      "[269]\tvalidation_0-mlogloss:0.13542\n",
      "[270]\tvalidation_0-mlogloss:0.13520\n",
      "[271]\tvalidation_0-mlogloss:0.13493\n",
      "[272]\tvalidation_0-mlogloss:0.13505\n",
      "[273]\tvalidation_0-mlogloss:0.13510\n",
      "[274]\tvalidation_0-mlogloss:0.13502\n",
      "[275]\tvalidation_0-mlogloss:0.13487\n",
      "[276]\tvalidation_0-mlogloss:0.13484\n",
      "[277]\tvalidation_0-mlogloss:0.13501\n",
      "[278]\tvalidation_0-mlogloss:0.13515\n",
      "[279]\tvalidation_0-mlogloss:0.13505\n",
      "[280]\tvalidation_0-mlogloss:0.13478\n",
      "[281]\tvalidation_0-mlogloss:0.13532\n",
      "[282]\tvalidation_0-mlogloss:0.13506\n",
      "[283]\tvalidation_0-mlogloss:0.13499\n",
      "[284]\tvalidation_0-mlogloss:0.13474\n",
      "[285]\tvalidation_0-mlogloss:0.13455\n",
      "[286]\tvalidation_0-mlogloss:0.13497\n",
      "[287]\tvalidation_0-mlogloss:0.13480\n",
      "[288]\tvalidation_0-mlogloss:0.13484\n",
      "[289]\tvalidation_0-mlogloss:0.13479\n",
      "[290]\tvalidation_0-mlogloss:0.13470\n",
      "[291]\tvalidation_0-mlogloss:0.13449\n",
      "[292]\tvalidation_0-mlogloss:0.13482\n",
      "[293]\tvalidation_0-mlogloss:0.13467\n",
      "[294]\tvalidation_0-mlogloss:0.13481\n",
      "[295]\tvalidation_0-mlogloss:0.13487\n",
      "[296]\tvalidation_0-mlogloss:0.13475\n",
      "[297]\tvalidation_0-mlogloss:0.13473\n",
      "[298]\tvalidation_0-mlogloss:0.13468\n",
      "[299]\tvalidation_0-mlogloss:0.13468\n",
      "[300]\tvalidation_0-mlogloss:0.13449\n",
      "[301]\tvalidation_0-mlogloss:0.13452\n",
      "[302]\tvalidation_0-mlogloss:0.13459\n",
      "[303]\tvalidation_0-mlogloss:0.13445\n",
      "[304]\tvalidation_0-mlogloss:0.13487\n",
      "[305]\tvalidation_0-mlogloss:0.13487\n",
      "[306]\tvalidation_0-mlogloss:0.13487\n",
      "[307]\tvalidation_0-mlogloss:0.13512\n",
      "[308]\tvalidation_0-mlogloss:0.13510\n",
      "[309]\tvalidation_0-mlogloss:0.13516\n",
      "[310]\tvalidation_0-mlogloss:0.13511\n",
      "[311]\tvalidation_0-mlogloss:0.13532\n",
      "[312]\tvalidation_0-mlogloss:0.13530\n",
      "[313]\tvalidation_0-mlogloss:0.13516\n",
      "[314]\tvalidation_0-mlogloss:0.13503\n",
      "[315]\tvalidation_0-mlogloss:0.13528\n",
      "[316]\tvalidation_0-mlogloss:0.13512\n",
      "[317]\tvalidation_0-mlogloss:0.13523\n",
      "[318]\tvalidation_0-mlogloss:0.13513\n",
      "[319]\tvalidation_0-mlogloss:0.13500\n",
      "[320]\tvalidation_0-mlogloss:0.13470\n",
      "[321]\tvalidation_0-mlogloss:0.13487\n",
      "[322]\tvalidation_0-mlogloss:0.13492\n",
      "[323]\tvalidation_0-mlogloss:0.13502\n",
      "[324]\tvalidation_0-mlogloss:0.13502\n",
      "[325]\tvalidation_0-mlogloss:0.13492\n",
      "[326]\tvalidation_0-mlogloss:0.13482\n",
      "[327]\tvalidation_0-mlogloss:0.13516\n",
      "[328]\tvalidation_0-mlogloss:0.13509\n",
      "[329]\tvalidation_0-mlogloss:0.13522\n",
      "[330]\tvalidation_0-mlogloss:0.13531\n",
      "[331]\tvalidation_0-mlogloss:0.13515\n",
      "[332]\tvalidation_0-mlogloss:0.13548\n",
      "[333]\tvalidation_0-mlogloss:0.13544\n",
      "[334]\tvalidation_0-mlogloss:0.13544\n",
      "[335]\tvalidation_0-mlogloss:0.13550\n",
      "[336]\tvalidation_0-mlogloss:0.13544\n",
      "[337]\tvalidation_0-mlogloss:0.13522\n",
      "[338]\tvalidation_0-mlogloss:0.13521\n",
      "[339]\tvalidation_0-mlogloss:0.13520\n",
      "[340]\tvalidation_0-mlogloss:0.13526\n",
      "[341]\tvalidation_0-mlogloss:0.13520\n",
      "[342]\tvalidation_0-mlogloss:0.13525\n"
     ]
    },
    {
     "name": "stderr",
     "output_type": "stream",
     "text": [
      "c:\\Users\\LENOVO\\miniconda3\\envs\\hi_ml_env\\lib\\site-packages\\sklearn\\metrics\\_classification.py:1509: UndefinedMetricWarning: Precision is ill-defined and being set to 0.0 in labels with no predicted samples. Use `zero_division` parameter to control this behavior.\n",
      "  _warn_prf(average, modifier, f\"{metric.capitalize()} is\", len(result))\n",
      "c:\\Users\\LENOVO\\miniconda3\\envs\\hi_ml_env\\lib\\site-packages\\sklearn\\metrics\\_classification.py:1509: UndefinedMetricWarning: Recall is ill-defined and being set to 0.0 in labels with no true samples. Use `zero_division` parameter to control this behavior.\n",
      "  _warn_prf(average, modifier, f\"{metric.capitalize()} is\", len(result))\n",
      "c:\\Users\\LENOVO\\miniconda3\\envs\\hi_ml_env\\lib\\site-packages\\sklearn\\metrics\\_classification.py:1509: UndefinedMetricWarning: Precision is ill-defined and being set to 0.0 in labels with no predicted samples. Use `zero_division` parameter to control this behavior.\n",
      "  _warn_prf(average, modifier, f\"{metric.capitalize()} is\", len(result))\n",
      "c:\\Users\\LENOVO\\miniconda3\\envs\\hi_ml_env\\lib\\site-packages\\sklearn\\metrics\\_classification.py:1509: UndefinedMetricWarning: Recall is ill-defined and being set to 0.0 in labels with no true samples. Use `zero_division` parameter to control this behavior.\n",
      "  _warn_prf(average, modifier, f\"{metric.capitalize()} is\", len(result))\n",
      "c:\\Users\\LENOVO\\miniconda3\\envs\\hi_ml_env\\lib\\site-packages\\sklearn\\metrics\\_classification.py:1509: UndefinedMetricWarning: Precision is ill-defined and being set to 0.0 in labels with no predicted samples. Use `zero_division` parameter to control this behavior.\n",
      "  _warn_prf(average, modifier, f\"{metric.capitalize()} is\", len(result))\n",
      "c:\\Users\\LENOVO\\miniconda3\\envs\\hi_ml_env\\lib\\site-packages\\sklearn\\metrics\\_classification.py:1509: UndefinedMetricWarning: Recall is ill-defined and being set to 0.0 in labels with no true samples. Use `zero_division` parameter to control this behavior.\n",
      "  _warn_prf(average, modifier, f\"{metric.capitalize()} is\", len(result))\n"
     ]
    },
    {
     "data": {
      "text/plain": [
       "'              precision    recall  f1-score   support\\n\\n           0       0.00      0.00      0.00         0\\n           1       0.01      0.01      0.01       496\\n           2       0.01      0.01      0.01       471\\n           3       0.00      0.00      0.00       420\\n           4       0.11      0.12      0.12       491\\n           5       0.00      0.00      0.00       532\\n           6       0.00      0.00      0.00       537\\n\\n    accuracy                           0.02      2947\\n   macro avg       0.02      0.02      0.02      2947\\nweighted avg       0.02      0.02      0.02      2947\\n'"
      ]
     },
     "execution_count": 120,
     "metadata": {},
     "output_type": "execute_result"
    }
   ],
   "source": [
    "from xgboost import XGBClassifier\n",
    "evals = [(X_test, y_test_encoded)]\n",
    "xgb = XGBClassifier(n_estimators=400, learning_rate=0.1, max_depth=3, use_label_encoder=False)\n",
    "xgb.fit(X_train, y_train_encoded, early_stopping_rounds=40, \n",
    "        eval_set=evals, eval_metric='mlogloss', verbose=True)\n",
    "xgb_pred = xgb.predict(X_test)\n",
    "classification_report(y_test, xgb_pred)"
   ]
  },
  {
   "cell_type": "code",
   "execution_count": 121,
   "id": "1a70ccb9",
   "metadata": {},
   "outputs": [
    {
     "name": "stdout",
     "output_type": "stream",
     "text": [
      "              precision    recall  f1-score   support\n",
      "\n",
      "           0       0.94      0.99      0.96       496\n",
      "           1       0.94      0.94      0.94       471\n",
      "           2       0.98      0.94      0.96       420\n",
      "           3       0.94      0.87      0.90       491\n",
      "           4       0.89      0.95      0.92       532\n",
      "           5       1.00      1.00      1.00       537\n",
      "\n",
      "    accuracy                           0.95      2947\n",
      "   macro avg       0.95      0.95      0.95      2947\n",
      "weighted avg       0.95      0.95      0.95      2947\n",
      "\n"
     ]
    }
   ],
   "source": [
    "print(classification_report(y_test_encoded, xgb_pred))"
   ]
  },
  {
   "cell_type": "markdown",
   "id": "43466b68",
   "metadata": {},
   "source": [
    "# LGBM"
   ]
  },
  {
   "cell_type": "code",
   "execution_count": 122,
   "id": "ccb4372f",
   "metadata": {},
   "outputs": [
    {
     "name": "stdout",
     "output_type": "stream",
     "text": [
      "3.3.2\n"
     ]
    }
   ],
   "source": [
    "import lightgbm\n",
    "print(lightgbm.__version__)"
   ]
  },
  {
   "cell_type": "code",
   "execution_count": 123,
   "id": "2a08c33e",
   "metadata": {},
   "outputs": [
    {
     "name": "stderr",
     "output_type": "stream",
     "text": [
      "C:\\Users\\LENOVO\\AppData\\Local\\Temp\\ipykernel_24028\\3037849969.py:10: FutureWarning: Series.__getitem__ treating keys as positions is deprecated. In a future version, integer keys will always be treated as labels (consistent with DataFrame behavior). To access a value by position, use `ser.iloc[pos]`\n",
      "  lambda x: clean_feature_name(x[0] + ('_' + str(x[1]) if x[1] > 0 else '')), axis=1\n",
      "c:\\Users\\LENOVO\\miniconda3\\envs\\hi_ml_env\\lib\\site-packages\\sklearn\\preprocessing\\_label.py:114: DataConversionWarning: A column-vector y was passed when a 1d array was expected. Please change the shape of y to (n_samples, ), for example using ravel().\n",
      "  y = column_or_1d(y, warn=True)\n",
      "c:\\Users\\LENOVO\\miniconda3\\envs\\hi_ml_env\\lib\\site-packages\\sklearn\\preprocessing\\_label.py:132: DataConversionWarning: A column-vector y was passed when a 1d array was expected. Please change the shape of y to (n_samples, ), for example using ravel().\n",
      "  y = column_or_1d(y, dtype=self.classes_.dtype, warn=True)\n"
     ]
    }
   ],
   "source": [
    "X_train, X_test, y_train, y_test = get_human_dataset()\n",
    "le = LabelEncoder()\n",
    "y_train_encoded = le.fit_transform(y_train)  # Series → 1D array\n",
    "y_test_encoded = le.transform(y_test)"
   ]
  },
  {
   "cell_type": "code",
   "execution_count": 124,
   "id": "023c6095",
   "metadata": {},
   "outputs": [
    {
     "name": "stderr",
     "output_type": "stream",
     "text": [
      "c:\\Users\\LENOVO\\miniconda3\\envs\\hi_ml_env\\lib\\site-packages\\lightgbm\\sklearn.py:726: UserWarning: 'early_stopping_rounds' argument is deprecated and will be removed in a future release of LightGBM. Pass 'early_stopping()' callback via 'callbacks' argument instead.\n",
      "  _log_warning(\"'early_stopping_rounds' argument is deprecated and will be removed in a future release of LightGBM. \"\n",
      "c:\\Users\\LENOVO\\miniconda3\\envs\\hi_ml_env\\lib\\site-packages\\lightgbm\\sklearn.py:736: UserWarning: 'verbose' argument is deprecated and will be removed in a future release of LightGBM. Pass 'log_evaluation()' callback via 'callbacks' argument instead.\n",
      "  _log_warning(\"'verbose' argument is deprecated and will be removed in a future release of LightGBM. \"\n"
     ]
    },
    {
     "name": "stdout",
     "output_type": "stream",
     "text": [
      "[1]\tvalid_0's multi_logloss: 1.4404\n",
      "[2]\tvalid_0's multi_logloss: 1.21574\n",
      "[3]\tvalid_0's multi_logloss: 1.04795\n",
      "[4]\tvalid_0's multi_logloss: 0.913299\n",
      "[5]\tvalid_0's multi_logloss: 0.812686\n",
      "[6]\tvalid_0's multi_logloss: 0.725964\n",
      "[7]\tvalid_0's multi_logloss: 0.652995\n",
      "[8]\tvalid_0's multi_logloss: 0.591598\n",
      "[9]\tvalid_0's multi_logloss: 0.539383\n",
      "[10]\tvalid_0's multi_logloss: 0.499944\n",
      "[11]\tvalid_0's multi_logloss: 0.462273\n",
      "[12]\tvalid_0's multi_logloss: 0.429676\n",
      "[13]\tvalid_0's multi_logloss: 0.401908\n",
      "[14]\tvalid_0's multi_logloss: 0.377718\n",
      "[15]\tvalid_0's multi_logloss: 0.357455\n",
      "[16]\tvalid_0's multi_logloss: 0.339918\n",
      "[17]\tvalid_0's multi_logloss: 0.325799\n",
      "[18]\tvalid_0's multi_logloss: 0.314716\n",
      "[19]\tvalid_0's multi_logloss: 0.301914\n",
      "[20]\tvalid_0's multi_logloss: 0.292755\n",
      "[21]\tvalid_0's multi_logloss: 0.284754\n",
      "[22]\tvalid_0's multi_logloss: 0.276745\n",
      "[23]\tvalid_0's multi_logloss: 0.270387\n",
      "[24]\tvalid_0's multi_logloss: 0.265765\n",
      "[25]\tvalid_0's multi_logloss: 0.260089\n",
      "[26]\tvalid_0's multi_logloss: 0.256178\n",
      "[27]\tvalid_0's multi_logloss: 0.251189\n",
      "[28]\tvalid_0's multi_logloss: 0.248143\n",
      "[29]\tvalid_0's multi_logloss: 0.246272\n",
      "[30]\tvalid_0's multi_logloss: 0.24341\n",
      "[31]\tvalid_0's multi_logloss: 0.241248\n",
      "[32]\tvalid_0's multi_logloss: 0.24022\n",
      "[33]\tvalid_0's multi_logloss: 0.239652\n",
      "[34]\tvalid_0's multi_logloss: 0.238179\n",
      "[35]\tvalid_0's multi_logloss: 0.23699\n",
      "[36]\tvalid_0's multi_logloss: 0.2361\n",
      "[37]\tvalid_0's multi_logloss: 0.233816\n",
      "[38]\tvalid_0's multi_logloss: 0.233106\n",
      "[39]\tvalid_0's multi_logloss: 0.233421\n",
      "[40]\tvalid_0's multi_logloss: 0.23376\n",
      "[41]\tvalid_0's multi_logloss: 0.234338\n",
      "[42]\tvalid_0's multi_logloss: 0.234543\n",
      "[43]\tvalid_0's multi_logloss: 0.234652\n",
      "[44]\tvalid_0's multi_logloss: 0.233933\n",
      "[45]\tvalid_0's multi_logloss: 0.234656\n",
      "[46]\tvalid_0's multi_logloss: 0.234617\n",
      "[47]\tvalid_0's multi_logloss: 0.235371\n",
      "[48]\tvalid_0's multi_logloss: 0.236855\n",
      "[49]\tvalid_0's multi_logloss: 0.235197\n",
      "[50]\tvalid_0's multi_logloss: 0.236224\n",
      "[51]\tvalid_0's multi_logloss: 0.236696\n",
      "[52]\tvalid_0's multi_logloss: 0.237868\n",
      "[53]\tvalid_0's multi_logloss: 0.236315\n",
      "[54]\tvalid_0's multi_logloss: 0.239717\n",
      "[55]\tvalid_0's multi_logloss: 0.241621\n",
      "[56]\tvalid_0's multi_logloss: 0.243416\n",
      "[57]\tvalid_0's multi_logloss: 0.244416\n",
      "[58]\tvalid_0's multi_logloss: 0.245904\n",
      "[59]\tvalid_0's multi_logloss: 0.244177\n",
      "[60]\tvalid_0's multi_logloss: 0.249222\n",
      "[61]\tvalid_0's multi_logloss: 0.25041\n",
      "[62]\tvalid_0's multi_logloss: 0.250982\n",
      "[63]\tvalid_0's multi_logloss: 0.249934\n",
      "[64]\tvalid_0's multi_logloss: 0.250107\n",
      "[65]\tvalid_0's multi_logloss: 0.252704\n",
      "[66]\tvalid_0's multi_logloss: 0.253061\n",
      "[67]\tvalid_0's multi_logloss: 0.25403\n",
      "[68]\tvalid_0's multi_logloss: 0.254586\n",
      "[69]\tvalid_0's multi_logloss: 0.257923\n",
      "[70]\tvalid_0's multi_logloss: 0.259529\n",
      "[71]\tvalid_0's multi_logloss: 0.259736\n",
      "[72]\tvalid_0's multi_logloss: 0.260189\n",
      "[73]\tvalid_0's multi_logloss: 0.260231\n",
      "[74]\tvalid_0's multi_logloss: 0.261524\n",
      "[75]\tvalid_0's multi_logloss: 0.261289\n",
      "[76]\tvalid_0's multi_logloss: 0.25997\n",
      "[77]\tvalid_0's multi_logloss: 0.259304\n",
      "[78]\tvalid_0's multi_logloss: 0.26109\n"
     ]
    }
   ],
   "source": [
    "from lightgbm import LGBMClassifier\n",
    "evals = [(X_test, y_test_encoded)]\n",
    "lgb = LGBMClassifier(n_estimators=400, objective='multiclass', \n",
    "                     num_class=len(np.unique(y_train_encoded)))\n",
    "lgb.fit(X_train, y_train_encoded, early_stopping_rounds=40, \n",
    "        eval_set=evals, eval_metric='multi_logloss', verbose=True)\n",
    "lgb_pred = lgb.predict(X_test)"
   ]
  },
  {
   "cell_type": "code",
   "execution_count": 125,
   "id": "c8691366",
   "metadata": {},
   "outputs": [
    {
     "name": "stdout",
     "output_type": "stream",
     "text": [
      "              precision    recall  f1-score   support\n",
      "\n",
      "           0       0.91      0.97      0.94       496\n",
      "           1       0.93      0.90      0.92       471\n",
      "           2       0.95      0.92      0.94       420\n",
      "           3       0.92      0.82      0.87       491\n",
      "           4       0.85      0.94      0.89       532\n",
      "           5       1.00      1.00      1.00       537\n",
      "\n",
      "    accuracy                           0.93      2947\n",
      "   macro avg       0.93      0.92      0.93      2947\n",
      "weighted avg       0.93      0.93      0.93      2947\n",
      "\n"
     ]
    }
   ],
   "source": [
    "print(classification_report(y_test_encoded, lgb_pred))"
   ]
  }
 ],
 "metadata": {
  "kernelspec": {
   "display_name": "hi_ml_env",
   "language": "python",
   "name": "python3"
  },
  "language_info": {
   "codemirror_mode": {
    "name": "ipython",
    "version": 3
   },
   "file_extension": ".py",
   "mimetype": "text/x-python",
   "name": "python",
   "nbconvert_exporter": "python",
   "pygments_lexer": "ipython3",
   "version": "3.10.16"
  }
 },
 "nbformat": 4,
 "nbformat_minor": 5
}
