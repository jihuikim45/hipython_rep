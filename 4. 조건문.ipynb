{
 "cells": [
  {
   "cell_type": "code",
   "execution_count": 1,
   "id": "b948895e-7255-4da9-bfc3-8718c76209cc",
   "metadata": {},
   "outputs": [
    {
     "data": {
      "text/plain": [
       "False"
      ]
     },
     "execution_count": 1,
     "metadata": {},
     "output_type": "execute_result"
    }
   ],
   "source": [
    "# 연산자\n",
    "\n",
    "2 + 3       # 산술연산자\n",
    "a = 2       # 대입연산자\n",
    "a > 2       # 비교연산자"
   ]
  },
  {
   "cell_type": "code",
   "execution_count": 5,
   "id": "9cdfbe42-923e-46d4-aa11-882d6becd1ad",
   "metadata": {},
   "outputs": [
    {
     "data": {
      "text/plain": [
       "(2, 2, 2, 2)"
      ]
     },
     "execution_count": 5,
     "metadata": {},
     "output_type": "execute_result"
    }
   ],
   "source": [
    "b = c = d = a\n",
    "a, b, c, d"
   ]
  },
  {
   "cell_type": "code",
   "execution_count": 6,
   "id": "7327e30e-10c0-4c12-a434-035722354397",
   "metadata": {},
   "outputs": [
    {
     "data": {
      "text/plain": [
       "True"
      ]
     },
     "execution_count": 6,
     "metadata": {},
     "output_type": "execute_result"
    }
   ],
   "source": [
    "id(b) == id(c)               #비교연산자"
   ]
  },
  {
   "cell_type": "markdown",
   "id": "a2fa5bbb-9268-4e95-8c16-c11bd0ccbbd6",
   "metadata": {},
   "source": [
    "# 조건문 \n",
    "\n",
    "- 비교연산자를 이용한 bool 값이 출력되어야 함.\n",
    "\n",
    "- 이후 영역표시는 들여쓰기로 맞춰야 함.\n",
    "\n",
    "\n"
   ]
  },
  {
   "cell_type": "code",
   "execution_count": 7,
   "id": "98ed5e0f-da57-40a7-a449-5e2950fc81e2",
   "metadata": {},
   "outputs": [
    {
     "name": "stdout",
     "output_type": "stream",
     "text": [
      "pass\n"
     ]
    }
   ],
   "source": [
    "kor_score = 95\n",
    "\n",
    "#단독 if\n",
    "\n",
    "if kor_score > 90 :      #True일때만 실행\n",
    "    print('pass')"
   ]
  },
  {
   "cell_type": "code",
   "execution_count": 8,
   "id": "c6fc8588-2359-4e6c-a047-d81863aac115",
   "metadata": {},
   "outputs": [
    {
     "name": "stdout",
     "output_type": "stream",
     "text": [
      "pass\n"
     ]
    }
   ],
   "source": [
    "# 한 줄로 작성\n",
    "\n",
    "if kor_score > 90 : print('pass')"
   ]
  },
  {
   "cell_type": "code",
   "execution_count": 9,
   "id": "9e86797a-32ad-4257-aa6b-6bff5629669c",
   "metadata": {},
   "outputs": [
    {
     "name": "stdout",
     "output_type": "stream",
     "text": [
      "pass\n"
     ]
    }
   ],
   "source": [
    "if kor_score > 90 : \n",
    "    print('pass')\n",
    "else : \n",
    "    print('fail')"
   ]
  },
  {
   "cell_type": "code",
   "execution_count": 10,
   "id": "84df3bda-e487-4d9f-a9a8-13ef92bdaab1",
   "metadata": {},
   "outputs": [
    {
     "name": "stdout",
     "output_type": "stream",
     "text": [
      "pass\n"
     ]
    }
   ],
   "source": [
    "# 한 줄로 작성\n",
    "# if kor_score > 90 : print('pass')  elses : print('fail') ❌ 오류\n",
    "# 'True 일 때 실행문' if 조건식 else`False일때 실행문` # ':'이 없음\n",
    "# 비교연산자, 논리연산자 > 조건식\n",
    "\n",
    "\n",
    "print('pass') if kor_score > 90 else print('fail')"
   ]
  },
  {
   "cell_type": "code",
   "execution_count": null,
   "id": "2d6ee7d3-8a48-43a5-83db-541418390baf",
   "metadata": {},
   "outputs": [],
   "source": [
    "#수우미양가\n",
    ">= 90"
   ]
  },
  {
   "cell_type": "code",
   "execution_count": 15,
   "id": "661bb28d-e60c-42b7-9364-e81ae33c2bfa",
   "metadata": {},
   "outputs": [
    {
     "name": "stdin",
     "output_type": "stream",
     "text": [
      "점수를 숫자로 입력하세요 95\n"
     ]
    },
    {
     "ename": "NameError",
     "evalue": "name 'score' is not defined",
     "output_type": "error",
     "traceback": [
      "\u001b[31m---------------------------------------------------------------------------\u001b[39m",
      "\u001b[31mNameError\u001b[39m                                 Traceback (most recent call last)",
      "\u001b[36mCell\u001b[39m\u001b[36m \u001b[39m\u001b[32mIn[15]\u001b[39m\u001b[32m, line 7\u001b[39m\n\u001b[32m      1\u001b[39m \u001b[38;5;28mint\u001b[39m(\u001b[38;5;28minput\u001b[39m(\u001b[33m'\u001b[39m\u001b[33m점수를 숫자로 입력하세요\u001b[39m\u001b[33m'\u001b[39m))\n\u001b[32m      3\u001b[39m \u001b[38;5;66;03m#중첩if (nested if)\u001b[39;00m\n\u001b[32m----> \u001b[39m\u001b[32m7\u001b[39m \u001b[38;5;28;01mif\u001b[39;00m score >= \u001b[32m90\u001b[39m :\n\u001b[32m      8\u001b[39m     \u001b[38;5;28mprint\u001b[39m(\u001b[33m'\u001b[39m\u001b[33m수\u001b[39m\u001b[33m'\u001b[39m)\n\u001b[32m      9\u001b[39m \u001b[38;5;28;01melse\u001b[39;00m: \u001b[38;5;66;03m#89~\u001b[39;00m\n",
      "\u001b[31mNameError\u001b[39m: name 'score' is not defined"
     ]
    }
   ],
   "source": [
    "int(input('점수를 숫자로 입력하세요'))\n",
    "\n",
    "#중첩if (nested if)\n",
    "\n",
    "\n",
    "\n",
    "if score >= 90 :\n",
    "    print('수')\n",
    "else: #89~\n",
    "    if score >= 80 :\n",
    "        print('우')\n",
    "    else: \n",
    "        if score >= 70 :\n",
    "            print('미')\n",
    "        else: \n",
    "            if score >= 60 :\n",
    "                print('양')\n",
    "            else:\n",
    "                if score >= 50 :\n",
    "                    print('가')\n",
    "               \n",
    "                \n",
    "                "
   ]
  },
  {
   "cell_type": "code",
   "execution_count": null,
   "id": "004a8ded-6fb7-44ba-bae0-f4c900a18d08",
   "metadata": {},
   "outputs": [],
   "source": []
  },
  {
   "cell_type": "code",
   "execution_count": 16,
   "id": "0803bbca-fdd5-4de0-a729-6ee2904b4d8a",
   "metadata": {},
   "outputs": [
    {
     "name": "stdin",
     "output_type": "stream",
     "text": [
      "점수를 숫자로 입력하세요:  95\n"
     ]
    },
    {
     "name": "stdout",
     "output_type": "stream",
     "text": [
      "수\n"
     ]
    }
   ],
   "source": [
    "score = int(input('점수를 숫자로 입력하세요: '))\n",
    "\n",
    "# 중첩 if문\n",
    "if score >= 90:\n",
    "    print('수')\n",
    "else:\n",
    "    if score >= 80:\n",
    "        print('우')\n",
    "    else:\n",
    "        if score >= 70:\n",
    "            print('미')\n",
    "        else:\n",
    "            if score >= 60:\n",
    "                print('양')\n",
    "            else:\n",
    "                print('가')  # 60점 미만\n"
   ]
  },
  {
   "cell_type": "code",
   "execution_count": 18,
   "id": "925a614c-8412-450b-80d2-b9ca43e51a2f",
   "metadata": {},
   "outputs": [
    {
     "name": "stdin",
     "output_type": "stream",
     "text": [
      "점수를 숫자로 입력하세요:  85\n"
     ]
    },
    {
     "name": "stdout",
     "output_type": "stream",
     "text": [
      "우\n"
     ]
    }
   ],
   "source": [
    "score = int(input('점수를 숫자로 입력하세요: '))\n",
    "\n",
    "if score >= 90:\n",
    "    print('수')\n",
    "elif score >= 80:\n",
    "    print('우')\n",
    "elif score >= 70:\n",
    "    print('미')\n",
    "elif score >= 60:\n",
    "    print('양')\n",
    "else:\n",
    "    print('가')\n"
   ]
  },
  {
   "cell_type": "code",
   "execution_count": 25,
   "id": "0617082c-a7be-46d1-975f-c52142c101b6",
   "metadata": {},
   "outputs": [
    {
     "name": "stdin",
     "output_type": "stream",
     "text": [
      "수식을 입력하세요. (예. 20 * 40) 20 * 3\n"
     ]
    },
    {
     "data": {
      "text/plain": [
       "('20', '*', '3')"
      ]
     },
     "execution_count": 25,
     "metadata": {},
     "output_type": "execute_result"
    }
   ],
   "source": [
    "formula = input('수식을 입력하세요. (예. 20 * 40)')\n",
    "\n",
    "num1, opr, num2 = formula.split()\n",
    "\n",
    "num1, opr, num2"
   ]
  },
  {
   "cell_type": "code",
   "execution_count": 27,
   "id": "4d4d3139-934f-4da0-a1c8-f637bdbc5418",
   "metadata": {},
   "outputs": [
    {
     "ename": "NameError",
     "evalue": "name 'result' is not defined",
     "output_type": "error",
     "traceback": [
      "\u001b[31m---------------------------------------------------------------------------\u001b[39m",
      "\u001b[31mNameError\u001b[39m                                 Traceback (most recent call last)",
      "\u001b[36mCell\u001b[39m\u001b[36m \u001b[39m\u001b[32mIn[27]\u001b[39m\u001b[32m, line 11\u001b[39m\n\u001b[32m      8\u001b[39m \u001b[38;5;28;01melif\u001b[39;00m opr == \u001b[33m'\u001b[39m\u001b[33m-\u001b[39m\u001b[33m'\u001b[39m:\n\u001b[32m      9\u001b[39m     result = num1 - num2\n\u001b[32m---> \u001b[39m\u001b[32m11\u001b[39m \u001b[38;5;28mprint\u001b[39m (\u001b[33mf\u001b[39m\u001b[33m'\u001b[39m\u001b[38;5;132;01m{\u001b[39;00mnum1\u001b[38;5;132;01m}\u001b[39;00m\u001b[33m \u001b[39m\u001b[38;5;132;01m{\u001b[39;00mopr\u001b[38;5;132;01m}\u001b[39;00m\u001b[33m \u001b[39m\u001b[38;5;132;01m{\u001b[39;00mnum2\u001b[38;5;132;01m}\u001b[39;00m\u001b[33m = \u001b[39m\u001b[38;5;132;01m{\u001b[39;00mresult\u001b[38;5;132;01m}\u001b[39;00m\u001b[33m'\u001b[39m)\n",
      "\u001b[31mNameError\u001b[39m: name 'result' is not defined"
     ]
    }
   ],
   "source": [
    "num1 = float(num1)\n",
    "num2 = float(num2)\n",
    "\n",
    "opr_list = ['+', '-', '*']\n",
    "\n",
    "if opr == '+' :\n",
    "    result = num1 + num2\n",
    "elif opr == '-':\n",
    "    result = num1 - num2\n",
    "\n",
    "print (f'{num1} {opr} {num2} = {result}')"
   ]
  },
  {
   "cell_type": "code",
   "execution_count": 28,
   "id": "cf77a3e2-bd57-40bb-9d7c-682fca9d6472",
   "metadata": {},
   "outputs": [
    {
     "name": "stdin",
     "output_type": "stream",
     "text": [
      "첫 번째 숫자를 입력하세요:  20\n",
      "두 번째 숫자를 입력하세요:  20\n",
      "연산자(+ - * 중 하나)를 입력하세요:  20\n"
     ]
    },
    {
     "name": "stdout",
     "output_type": "stream",
     "text": [
      "20.0 20 20.0 = 지원하지 않는 연산자입니다.\n"
     ]
    }
   ],
   "source": [
    "# 사용자 입력\n",
    "num1 = input(\"첫 번째 숫자를 입력하세요: \")\n",
    "num2 = input(\"두 번째 숫자를 입력하세요: \")\n",
    "opr = input(\"연산자(+ - * 중 하나)를 입력하세요: \")\n",
    "\n",
    "# 숫자형으로 변환\n",
    "num1 = float(num1)\n",
    "num2 = float(num2)\n",
    "\n",
    "opr_list = ['+', '-', '*']\n",
    "\n",
    "# 연산 처리\n",
    "if opr == '+':\n",
    "    result = num1 + num2\n",
    "elif opr == '-':\n",
    "    result = num1 - num2\n",
    "elif opr == '*':\n",
    "    result = num1 * num2\n",
    "else:\n",
    "    result = \"지원하지 않는 연산자입니다.\"\n",
    "\n",
    "print(f'{num1} {opr} {num2} = {result}')\n"
   ]
  },
  {
   "cell_type": "code",
   "execution_count": 41,
   "id": "add96f13-2286-4f70-bd9f-1fa049967c60",
   "metadata": {},
   "outputs": [
    {
     "name": "stdin",
     "output_type": "stream",
     "text": [
      "수식을 입력하세요. (예. 20 * 40) 50 * 9\n"
     ]
    },
    {
     "name": "stdout",
     "output_type": "stream",
     "text": [
      "50.0 * 9.0 = 450.0\n"
     ]
    }
   ],
   "source": [
    "\n",
    "formula = input('수식을 입력하세요. (예. 20 * 40)')\n",
    "\n",
    "num1, opr, num2 = formula.split()\n",
    "\n",
    "num1, opr, num2\n",
    "# 숫자형으로 변환\n",
    "num1 = float(num1)\n",
    "num2 = float(num2)\n",
    "\n",
    "#opr_list = ['+', '-', '*', '/']\n",
    "\n",
    "# 연산 처리\n",
    "if opr == '+':\n",
    "    result = num1 + num2\n",
    "elif opr == '-':\n",
    "    result = num1 - num2\n",
    "elif opr == '*':\n",
    "    result = num1 * num2\n",
    "elif opr == '/':\n",
    "    result = num1 / num2\n",
    "else:\n",
    "    result = None\n",
    "\n",
    "if result == None : \n",
    "    print(\"지원하지 않는 연산자입니다.\")\n",
    "\n",
    "else :\n",
    "\n",
    "    print(f'{num1} {opr} {num2} = {result}')\n"
   ]
  },
  {
   "cell_type": "code",
   "execution_count": 47,
   "id": "6f941eb2-5b3d-4605-b208-5fdab9b64bcd",
   "metadata": {},
   "outputs": [
    {
     "name": "stdin",
     "output_type": "stream",
     "text": [
      "수식을 입력하세요. (예. 20 * 40) 20 // 2\n"
     ]
    },
    {
     "name": "stdout",
     "output_type": "stream",
     "text": [
      "지원하지 않는 연산자입니다.\n"
     ]
    }
   ],
   "source": [
    "formula = input('수식을 입력하세요. (예. 20 * 40)')\n",
    "\n",
    "num1, opr, num2 = formula.split()\n",
    "\n",
    "num1 = float(num1)\n",
    "num2 = float(num2)\n",
    "\n",
    "if opr not in opr_list:\n",
    "    print('지원하지 않는 연산자입니다.')\n",
    "\n",
    "else :\n",
    "    if opr == '+':\n",
    "        result = num1 + num2\n",
    "    elif opr == '-':\n",
    "        result = num1 - num2\n",
    "    elif opr == '*':\n",
    "        result = num1 * num2\n",
    "    elif opr == '/':\n",
    "        result = num1 / num2\n",
    "    print(f'{num1} {opr} {num2} = {result}')"
   ]
  },
  {
   "cell_type": "markdown",
   "id": "8459105c-bfb1-49a3-a2a8-26dd06792308",
   "metadata": {},
   "source": [
    "# 1줄로 쓰기\n",
    "\n"
   ]
  },
  {
   "cell_type": "code",
   "execution_count": 49,
   "id": "acb3ce29-f31a-44b5-b007-e47f765e8e19",
   "metadata": {},
   "outputs": [
    {
     "name": "stdout",
     "output_type": "stream",
     "text": [
      "홀수\n"
     ]
    }
   ],
   "source": [
    "num = 7\n",
    "#if num % 2 : print('짝수') else print('홀수')\n",
    "\n",
    "\n",
    "print('짝수' if num % 2 == 0 else '홀수')"
   ]
  },
  {
   "cell_type": "code",
   "execution_count": 53,
   "id": "77305ce5-34f2-4272-a8f0-c95ef8e3b627",
   "metadata": {},
   "outputs": [
    {
     "name": "stdout",
     "output_type": "stream",
     "text": [
      "쉽시다\n"
     ]
    }
   ],
   "source": [
    "# 졸려 = True - 쉽시다, 아니면 화이팅\n",
    "\n",
    "졸려 = True\n",
    "print('쉽시다' if 졸려 == True  else '화이팅')"
   ]
  },
  {
   "cell_type": "code",
   "execution_count": 56,
   "id": "f65d13b5-b0c9-4b28-a817-d929a71d086d",
   "metadata": {},
   "outputs": [
    {
     "name": "stdout",
     "output_type": "stream",
     "text": [
      "화이팅\n"
     ]
    }
   ],
   "source": [
    "졸려 = False   # 조건식\n",
    "# action = '쉽시다' if 졸려 == True else '화이팅'  ## == True 연산자 쓸 필요가 없어유\n",
    "action = '쉽시다' if 졸려 else '화이팅'\n",
    "print(action)"
   ]
  },
  {
   "cell_type": "code",
   "execution_count": 59,
   "id": "1d771a65-552a-44cb-af18-7072ca18b74f",
   "metadata": {},
   "outputs": [
    {
     "name": "stdout",
     "output_type": "stream",
     "text": [
      "패\n"
     ]
    }
   ],
   "source": [
    "player = '가위'\n",
    "computer = '바위'\n",
    "# result = '승' , '패' , '무승부'\n",
    "result = '승' if (player == '가위' and computer == '보') else '무승부' if player == computer else '패'\n",
    "print(result)"
   ]
  },
  {
   "cell_type": "code",
   "execution_count": 66,
   "id": "bef1f986-43ef-435e-aa03-9d8fbb6dd155",
   "metadata": {},
   "outputs": [
    {
     "name": "stdin",
     "output_type": "stream",
     "text": [
      "학점을 숫자로 입력하세요 : 92\n"
     ]
    },
    {
     "name": "stdout",
     "output_type": "stream",
     "text": [
      "A\n"
     ]
    }
   ],
   "source": [
    "#학점 #A,B,C,D 출력 1줄 조건식\n",
    "s = int(input('학점을 숫자로 입력하세요 :'))\n",
    "\n",
    "score = 'A' if s >= 90 else 'B' if s >= 80 else 'C' if s >= 70 else 'D'\n",
    "print(score)\n",
    "\n",
    "\n",
    "\n"
   ]
  },
  {
   "cell_type": "markdown",
   "id": "54087d41-e8c3-4857-aa28-551072b0012d",
   "metadata": {},
   "source": [
    "# break, continue, pass"
   ]
  },
  {
   "cell_type": "code",
   "execution_count": 67,
   "id": "77f46043-5797-47cd-ade4-5641bc99e67b",
   "metadata": {},
   "outputs": [
    {
     "name": "stdout",
     "output_type": "stream",
     "text": [
      "현재 검사 중인 숫자: 1\n",
      "현재 검사 중인 숫자: 3\n",
      "현재 검사 중인 숫자: 5\n",
      "현재 검사 중인 숫자: 7\n",
      "9를 찾았습니다!\n"
     ]
    }
   ],
   "source": [
    "numbers = [1, 3, 5, 7, 9, 11, 13, 15]\n",
    "search_number = 9\n",
    "\n",
    "for num in numbers:\n",
    "    if num == search_number:\n",
    "        print(f\"{search_number}를 찾았습니다!\")\n",
    "        break # 루프를 끝냄\n",
    "    print(f\"현재 검사 중인 숫자: {num}\")\n"
   ]
  },
  {
   "cell_type": "code",
   "execution_count": 70,
   "id": "5908f704-9433-4dc0-8daa-6bacd5b813b5",
   "metadata": {},
   "outputs": [
    {
     "name": "stdout",
     "output_type": "stream",
     "text": [
      "2\n",
      "4\n",
      "6\n",
      "8\n",
      "10\n"
     ]
    }
   ],
   "source": [
    "for i in range(1, 11):\n",
    "    if i % 2 != 0:  # 홀수인 경우\n",
    "        continue # 나올때까지 계속 찾아요 (출력하지 않고 루프로 돌아가는 형식)\n",
    "    print(i)  # 짝수만 출력\n",
    "\n",
    "\n",
    "\n",
    "\n",
    "    if i * \n"
   ]
  },
  {
   "cell_type": "code",
   "execution_count": 69,
   "id": "b9323a4f-8cb9-4fae-9651-ad8c20bcee1a",
   "metadata": {},
   "outputs": [],
   "source": [
    "condition = True\n",
    "if condition:\n",
    "    pass  # 나중에 구현할 예정\n",
    "else:\n",
    "    print(\"else 구문 실행\")"
   ]
  },
  {
   "cell_type": "code",
   "execution_count": null,
   "id": "9d3d35ab-8f1c-4be7-872a-7fc58a197a61",
   "metadata": {},
   "outputs": [],
   "source": []
  },
  {
   "cell_type": "code",
   "execution_count": null,
   "id": "a84384e2-a5ff-4e2c-a8e8-d6df8241aa22",
   "metadata": {},
   "outputs": [],
   "source": []
  },
  {
   "cell_type": "code",
   "execution_count": null,
   "id": "c9ac85a7-74d3-43ca-bedd-5f46f1302b87",
   "metadata": {},
   "outputs": [],
   "source": []
  },
  {
   "cell_type": "code",
   "execution_count": null,
   "id": "6d28e574-9eca-4026-bf38-79f0ed3acf79",
   "metadata": {},
   "outputs": [],
   "source": []
  },
  {
   "cell_type": "code",
   "execution_count": null,
   "id": "d2056ced-980d-4b45-ba3e-a3eb2ef0973a",
   "metadata": {},
   "outputs": [],
   "source": []
  },
  {
   "cell_type": "code",
   "execution_count": null,
   "id": "2372655e-fad7-4c95-8d46-c0d943be98f4",
   "metadata": {},
   "outputs": [],
   "source": []
  },
  {
   "cell_type": "code",
   "execution_count": null,
   "id": "391c2b72-5ab1-42de-ae07-eb80b6962ec2",
   "metadata": {},
   "outputs": [],
   "source": []
  },
  {
   "cell_type": "code",
   "execution_count": null,
   "id": "efc12bc3-535e-4442-baad-2e7ae65acc62",
   "metadata": {},
   "outputs": [],
   "source": []
  },
  {
   "cell_type": "code",
   "execution_count": null,
   "id": "b451863c-6f40-4a8b-b182-add2ede491e4",
   "metadata": {},
   "outputs": [],
   "source": []
  },
  {
   "cell_type": "code",
   "execution_count": null,
   "id": "d76dd6d8-2014-4b2b-a2cc-4d098d8d1c21",
   "metadata": {},
   "outputs": [],
   "source": []
  }
 ],
 "metadata": {
  "kernelspec": {
   "display_name": "Python 3 (ipykernel)",
   "language": "python",
   "name": "python3"
  },
  "language_info": {
   "codemirror_mode": {
    "name": "ipython",
    "version": 3
   },
   "file_extension": ".py",
   "mimetype": "text/x-python",
   "name": "python",
   "nbconvert_exporter": "python",
   "pygments_lexer": "ipython3",
   "version": "3.12.9"
  }
 },
 "nbformat": 4,
 "nbformat_minor": 5
}
