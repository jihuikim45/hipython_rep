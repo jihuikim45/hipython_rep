{
 "cells": [
  {
   "cell_type": "code",
   "execution_count": 1,
   "id": "6a36ccc2",
   "metadata": {},
   "outputs": [
    {
     "name": "stdout",
     "output_type": "stream",
     "text": [
      "c:\\githome\\hipython_rep\\html\\basic2.html\n",
      "c:\\githome\\hipython_rep/html/basic2.html\n"
     ]
    }
   ],
   "source": [
    "import os\n",
    "file_path = os.getcwd() + '/html/basic2.html'\n",
    "print(os.path.abspath('html/basic2.html'))\n",
    "print(file_path)"
   ]
  },
  {
   "cell_type": "code",
   "execution_count": 2,
   "id": "dc7ec972",
   "metadata": {},
   "outputs": [
    {
     "data": {
      "text/plain": [
       "'file:///c:\\\\githome\\\\hipython_rep/html/basic2.html'"
      ]
     },
     "execution_count": 2,
     "metadata": {},
     "output_type": "execute_result"
    }
   ],
   "source": [
    "url = 'file:///' + file_path\n",
    "url"
   ]
  },
  {
   "cell_type": "code",
   "execution_count": 5,
   "id": "1df2465d",
   "metadata": {},
   "outputs": [],
   "source": [
    "from selenium import webdriver\n",
    "driver = webdriver.Chrome()\n",
    "driver.get(url)"
   ]
  },
  {
   "cell_type": "code",
   "execution_count": 6,
   "id": "eb980bf3",
   "metadata": {},
   "outputs": [],
   "source": [
    "username_el = driver.find_element(by='name', value='username')\n",
    "username_el.send_keys('jhkim')"
   ]
  },
  {
   "cell_type": "code",
   "execution_count": 7,
   "id": "ce14d64d",
   "metadata": {},
   "outputs": [],
   "source": [
    "#passwd 값 설정\n",
    "password = driver.find_element(by='name', value='password')\n",
    "password.send_keys('1234')"
   ]
  },
  {
   "cell_type": "code",
   "execution_count": 9,
   "id": "e272b1e2",
   "metadata": {},
   "outputs": [],
   "source": [
    "# 파이썬 전문가 그룹의 링크값\n",
    "link = driver.find_element(by='link text' , value='파이썬전문가그룹')\n",
    "link.click()"
   ]
  },
  {
   "cell_type": "code",
   "execution_count": 10,
   "id": "ca292bbd",
   "metadata": {},
   "outputs": [],
   "source": [
    "driver.back()"
   ]
  },
  {
   "cell_type": "markdown",
   "id": "eb62c6d2",
   "metadata": {},
   "source": [
    "# 검색 결과 가져오기"
   ]
  },
  {
   "cell_type": "code",
   "execution_count": 11,
   "id": "d0f2d614",
   "metadata": {},
   "outputs": [],
   "source": [
    "from selenium import webdriver\n",
    "\n",
    "driver = webdriver.Chrome()\n",
    "driver.get('https://www.python.org/')"
   ]
  },
  {
   "cell_type": "code",
   "execution_count": null,
   "id": "223d694b",
   "metadata": {},
   "outputs": [],
   "source": [
    "# <input id=\"id-search-field\" name=\"q\" type=\"search\" role=\"textbox\" class=\"search-field\" placeholder=\"Search\" value=\"\" tabindex=\"1\">"
   ]
  },
  {
   "cell_type": "code",
   "execution_count": 18,
   "id": "aca9b441",
   "metadata": {},
   "outputs": [],
   "source": [
    "from selenium.webdriver.common.by import By\n",
    "input_el = driver.find_element(by=By.ID , value='id-search-field')\n",
    "input_el.send_keys('numpy')"
   ]
  },
  {
   "cell_type": "code",
   "execution_count": 20,
   "id": "2a9ccc69",
   "metadata": {},
   "outputs": [
    {
     "data": {
      "text/plain": [
       "'css selector'"
      ]
     },
     "execution_count": 20,
     "metadata": {},
     "output_type": "execute_result"
    }
   ],
   "source": [
    "By.CSS_SELECTOR"
   ]
  },
  {
   "cell_type": "code",
   "execution_count": 25,
   "id": "338480fd",
   "metadata": {},
   "outputs": [],
   "source": [
    "input_el2 = driver.find_element(by='css selector', value='#id-search-field')\n",
    "input_el2.send_keys('hahahah')"
   ]
  },
  {
   "cell_type": "code",
   "execution_count": 28,
   "id": "77dc3f51",
   "metadata": {},
   "outputs": [],
   "source": [
    "from selenium import webdriver\n",
    "from selenium.webdriver.common.keys import Keys\n",
    "\n",
    "driver = webdriver.Chrome()\n",
    "driver.get('https://www.python.org/')\n",
    "input_el = driver.find_element(by=By.ID , value='id-search-field')\n",
    "input_el.send_keys('numpy')\n",
    "input_el.send_keys(Keys.RETURN)"
   ]
  },
  {
   "cell_type": "code",
   "execution_count": 32,
   "id": "2856b275",
   "metadata": {},
   "outputs": [
    {
     "data": {
      "text/plain": [
       "[<selenium.webdriver.remote.webelement.WebElement (session=\"18179758ab52042ab7e8ca342b1995a6\", element=\"f.7A1AC9556A8B8D769F607D31AC15E87B.d.F248E209B400023E6D51865230DEB62F.e.2639\")>,\n",
       " <selenium.webdriver.remote.webelement.WebElement (session=\"18179758ab52042ab7e8ca342b1995a6\", element=\"f.7A1AC9556A8B8D769F607D31AC15E87B.d.F248E209B400023E6D51865230DEB62F.e.2645\")>,\n",
       " <selenium.webdriver.remote.webelement.WebElement (session=\"18179758ab52042ab7e8ca342b1995a6\", element=\"f.7A1AC9556A8B8D769F607D31AC15E87B.d.F248E209B400023E6D51865230DEB62F.e.2651\")>,\n",
       " <selenium.webdriver.remote.webelement.WebElement (session=\"18179758ab52042ab7e8ca342b1995a6\", element=\"f.7A1AC9556A8B8D769F607D31AC15E87B.d.F248E209B400023E6D51865230DEB62F.e.2656\")>,\n",
       " <selenium.webdriver.remote.webelement.WebElement (session=\"18179758ab52042ab7e8ca342b1995a6\", element=\"f.7A1AC9556A8B8D769F607D31AC15E87B.d.F248E209B400023E6D51865230DEB62F.e.2662\")>,\n",
       " <selenium.webdriver.remote.webelement.WebElement (session=\"18179758ab52042ab7e8ca342b1995a6\", element=\"f.7A1AC9556A8B8D769F607D31AC15E87B.d.F248E209B400023E6D51865230DEB62F.e.2669\")>,\n",
       " <selenium.webdriver.remote.webelement.WebElement (session=\"18179758ab52042ab7e8ca342b1995a6\", element=\"f.7A1AC9556A8B8D769F607D31AC15E87B.d.F248E209B400023E6D51865230DEB62F.e.2673\")>,\n",
       " <selenium.webdriver.remote.webelement.WebElement (session=\"18179758ab52042ab7e8ca342b1995a6\", element=\"f.7A1AC9556A8B8D769F607D31AC15E87B.d.F248E209B400023E6D51865230DEB62F.e.2678\")>,\n",
       " <selenium.webdriver.remote.webelement.WebElement (session=\"18179758ab52042ab7e8ca342b1995a6\", element=\"f.7A1AC9556A8B8D769F607D31AC15E87B.d.F248E209B400023E6D51865230DEB62F.e.2683\")>]"
      ]
     },
     "execution_count": 32,
     "metadata": {},
     "output_type": "execute_result"
    }
   ],
   "source": [
    "#content > div > section > form > ul > li:nth-child(3) > h3 > a\n",
    "\n",
    "result_list = driver.find_elements(by='css selector', value='#content form li h3 > a')\n",
    "\n",
    "result_list"
   ]
  },
  {
   "cell_type": "code",
   "execution_count": 33,
   "id": "466401bd",
   "metadata": {},
   "outputs": [
    {
     "name": "stdout",
     "output_type": "stream",
     "text": [
      "9\n",
      "SIG for Built-in Matrix Types in Python\n",
      "Job - Senior Phython Engineer\n",
      "Python Data Plotting Solutions SIG Issues\n",
      "Job - Research Engineer\n",
      "EDU-SIG: Python in Education\n",
      "Python Success Stories\n",
      "Python Success Stories\n",
      "Built-in Package Support in Python 1.5\n",
      "PSF Board Resolutions\n"
     ]
    }
   ],
   "source": [
    "result_list = driver.find_elements(by='css selector', value='#content form li h3 > a')\n",
    "print(len(result_list))\n",
    "for result in result_list:\n",
    "    print(result.text)"
   ]
  },
  {
   "cell_type": "code",
   "execution_count": 1,
   "id": "842d92cb",
   "metadata": {},
   "outputs": [
    {
     "name": "stdout",
     "output_type": "stream",
     "text": [
      "9\n",
      "SIG for Built-in Matrix Types in Python\n",
      "Job - Senior Phython Engineer\n",
      "Python Data Plotting Solutions SIG Issues\n",
      "Job - Research Engineer\n",
      "EDU-SIG: Python in Education\n",
      "Python Success Stories\n",
      "Python Success Stories\n",
      "Built-in Package Support in Python 1.5\n",
      "PSF Board Resolutions\n"
     ]
    }
   ],
   "source": [
    "from selenium import webdriver\n",
    "from selenium.webdriver.common.keys import Keys\n",
    "from selenium.webdriver.common.by import By\n",
    "\n",
    "driver = webdriver.Chrome()\n",
    "driver.get('https://www.python.org/')\n",
    "input_el = driver.find_element(by=By.ID , value='id-search-field')\n",
    "input_el.send_keys('numpy')\n",
    "input_el.send_keys(Keys.RETURN)\n",
    "\n",
    "driver.implicitly_wait(1) # 명시적 대기\n",
    "\n",
    "#content > div > section > form > ul > li:nth-child(3) > h3 > a\n",
    "\n",
    "result_list = driver.find_elements(by='css selector', value='#content form li h3 > a')\n",
    "print(len(result_list))\n",
    "for result in result_list:\n",
    "    print(result.text)"
   ]
  },
  {
   "cell_type": "markdown",
   "id": "2374fc79",
   "metadata": {},
   "source": [
    "# 날씨 정보를 일반적 조건으로 대기해서 가져오기"
   ]
  },
  {
   "cell_type": "code",
   "execution_count": 3,
   "id": "9558148a",
   "metadata": {},
   "outputs": [],
   "source": [
    "import requests"
   ]
  },
  {
   "cell_type": "code",
   "execution_count": 5,
   "id": "a1e5efd7",
   "metadata": {},
   "outputs": [
    {
     "data": {
      "text/plain": [
       "<Response [200]>"
      ]
     },
     "execution_count": 5,
     "metadata": {},
     "output_type": "execute_result"
    }
   ],
   "source": [
    "url = 'https://www.weather.go.kr/w/index.do'\n",
    "\n",
    "res = requests.get(url)\n",
    "res"
   ]
  },
  {
   "cell_type": "code",
   "execution_count": 8,
   "id": "8c8cc7d0",
   "metadata": {},
   "outputs": [
    {
     "data": {
      "text/plain": [
       "[]"
      ]
     },
     "execution_count": 8,
     "metadata": {},
     "output_type": "execute_result"
    }
   ],
   "source": [
    "from bs4 import BeautifulSoup\n",
    "soup = BeautifulSoup(res.text , 'html.parser')\n",
    "soup.select(\".tmp\")"
   ]
  },
  {
   "cell_type": "code",
   "execution_count": null,
   "id": "fa669360",
   "metadata": {},
   "outputs": [],
   "source": [
    "#current-weather > div.cmp-cur-weather.wbg.wbg-type2.BGDB00 > ul.wrap-1 > li.w-icon.w-temp.no-w > span.tmp"
   ]
  },
  {
   "cell_type": "code",
   "execution_count": null,
   "id": "affdaae2",
   "metadata": {},
   "outputs": [
    {
     "data": {
      "text/plain": [
       "'34.8℃'"
      ]
     },
     "execution_count": 9,
     "metadata": {},
     "output_type": "execute_result"
    }
   ],
   "source": [
    "from selenium.webdriver import Chrome\n",
    "import time\n",
    "# res = requests.get(url)\n",
    "driver = Chrome()\n",
    "driver.get(url)\n",
    "time.sleep(3) # 명시적 대기\n",
    "element = driver.find_element(by='css selector', value='div#current-weather span.tmp')\n",
    "element.text"
   ]
  },
  {
   "cell_type": "code",
   "execution_count": 11,
   "id": "e45add4a",
   "metadata": {},
   "outputs": [
    {
     "name": "stdout",
     "output_type": "stream",
     "text": [
      "34.7℃\n"
     ]
    }
   ],
   "source": [
    "# 일반적 대기\n",
    "from selenium.webdriver.support import expected_conditions as EC\n",
    "from selenium.webdriver.support.ui import WebDriverWait\n",
    "driver = Chrome()\n",
    "driver.get(url)\n",
    "\n",
    "wait = WebDriverWait(driver, 3)\n",
    "element_2 = wait.until(\n",
    "    #driver.find_element(by='css selector', value='div#current-weather span.tmp')\n",
    "    EC.presence_of_element_located(('css selector' , 'div#current-weather span.tmp'))\n",
    ")\n",
    "print(element_2.text)\n",
    "driver.close()"
   ]
  },
  {
   "cell_type": "code",
   "execution_count": null,
   "id": "53c5a6c5",
   "metadata": {},
   "outputs": [],
   "source": []
  }
 ],
 "metadata": {
  "kernelspec": {
   "display_name": "webcrawl_env",
   "language": "python",
   "name": "python3"
  },
  "language_info": {
   "codemirror_mode": {
    "name": "ipython",
    "version": 3
   },
   "file_extension": ".py",
   "mimetype": "text/x-python",
   "name": "python",
   "nbconvert_exporter": "python",
   "pygments_lexer": "ipython3",
   "version": "3.10.18"
  }
 },
 "nbformat": 4,
 "nbformat_minor": 5
}
