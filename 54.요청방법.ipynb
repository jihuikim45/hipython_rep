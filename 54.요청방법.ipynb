{
 "cells": [
  {
   "cell_type": "code",
   "execution_count": null,
   "id": "81ea6cbc",
   "metadata": {},
   "outputs": [
    {
     "name": "stdout",
     "output_type": "stream",
     "text": [
      "{\n",
      "  \"args\": {}, \n",
      "  \"headers\": {\n",
      "    \"Accept\": \"*/*\", \n",
      "    \"Accept-Encoding\": \"gzip, deflate\", \n",
      "    \"Host\": \"httpbin.org\", \n",
      "    \"User-Agent\": \"python-requests/2.32.4\", \n",
      "    \"X-Amzn-Trace-Id\": \"Root=1-68870d7b-23db1aac0e327c861ea3a362\"\n",
      "  }, \n",
      "  \"origin\": \"118.36.174.103\", \n",
      "  \"url\": \"https://httpbin.org/get\"\n",
      "}\n",
      "\n"
     ]
    }
   ],
   "source": [
    "import requests\n",
    "url = 'https://httpbin.org/get'\n",
    "response = requests.get('https://httpbin.org/get')\n",
    "response.status_code\n",
    "print(response.text)"
   ]
  },
  {
   "cell_type": "code",
   "execution_count": 6,
   "id": "2db75d37",
   "metadata": {},
   "outputs": [
    {
     "name": "stdout",
     "output_type": "stream",
     "text": [
      "{\n",
      "  \"args\": {\n",
      "    \"age\": \"25\", \n",
      "    \"name\": \"jikim\"\n",
      "  }, \n",
      "  \"headers\": {\n",
      "    \"Accept\": \"*/*\", \n",
      "    \"Accept-Encoding\": \"gzip, deflate\", \n",
      "    \"Host\": \"httpbin.org\", \n",
      "    \"User-Agent\": \"python-requests/2.32.4\", \n",
      "    \"X-Amzn-Trace-Id\": \"Root=1-68870ea2-4fd500875606b6d67b283fac\"\n",
      "  }, \n",
      "  \"origin\": \"118.36.174.103\", \n",
      "  \"url\": \"https://httpbin.org/get?name=jikim&age=25\"\n",
      "}\n",
      "\n"
     ]
    }
   ],
   "source": [
    "params = {\n",
    "    'name' : 'jikim',\n",
    "    'age' : '25'\n",
    "}\n",
    "\n",
    "url = 'https://httpbin.org/get'\n",
    "\n",
    "response = requests.get(url, params=params)\n",
    "print(response.text)"
   ]
  },
  {
   "cell_type": "code",
   "execution_count": 7,
   "id": "d15f32d3",
   "metadata": {},
   "outputs": [
    {
     "name": "stdout",
     "output_type": "stream",
     "text": [
      "{\n",
      "  \"args\": {}, \n",
      "  \"data\": \"\", \n",
      "  \"files\": {}, \n",
      "  \"form\": {\n",
      "    \"key\": \"value\"\n",
      "  }, \n",
      "  \"headers\": {\n",
      "    \"Accept\": \"*/*\", \n",
      "    \"Accept-Encoding\": \"gzip, deflate\", \n",
      "    \"Content-Length\": \"9\", \n",
      "    \"Content-Type\": \"application/x-www-form-urlencoded\", \n",
      "    \"Host\": \"httpbin.org\", \n",
      "    \"User-Agent\": \"python-requests/2.32.4\", \n",
      "    \"X-Amzn-Trace-Id\": \"Root=1-68870ee7-60acd0cf3e5fb9051164b653\"\n",
      "  }, \n",
      "  \"json\": null, \n",
      "  \"origin\": \"118.36.174.103\", \n",
      "  \"url\": \"https://httpbin.org/post\"\n",
      "}\n",
      "\n"
     ]
    }
   ],
   "source": [
    "url = 'https://httpbin.org/post'\n",
    "\n",
    "response = requests.post(url, data = {'key': 'value'})\n",
    "print(response.text)"
   ]
  },
  {
   "cell_type": "code",
   "execution_count": 10,
   "id": "c590d305",
   "metadata": {},
   "outputs": [
    {
     "data": {
      "text/plain": [
       "'application/x-www-form-urlencoded'"
      ]
     },
     "execution_count": 10,
     "metadata": {},
     "output_type": "execute_result"
    }
   ],
   "source": [
    "response.json()['headers']['Content-Type']"
   ]
  },
  {
   "cell_type": "code",
   "execution_count": 11,
   "id": "ab2d54cb",
   "metadata": {},
   "outputs": [
    {
     "data": {
      "text/plain": [
       "'python-requests/2.32.4'"
      ]
     },
     "execution_count": 11,
     "metadata": {},
     "output_type": "execute_result"
    }
   ],
   "source": [
    "response.json()['headers']['User-Agent']"
   ]
  },
  {
   "cell_type": "code",
   "execution_count": 12,
   "id": "d44ce2e1",
   "metadata": {},
   "outputs": [
    {
     "name": "stdout",
     "output_type": "stream",
     "text": [
      "{\n",
      "  \"args\": {}, \n",
      "  \"data\": \"{\\\"key\\\": \\\"value\\\"}\", \n",
      "  \"files\": {}, \n",
      "  \"form\": {}, \n",
      "  \"headers\": {\n",
      "    \"Accept\": \"*/*\", \n",
      "    \"Accept-Encoding\": \"gzip, deflate\", \n",
      "    \"Content-Length\": \"16\", \n",
      "    \"Content-Type\": \"application/json\", \n",
      "    \"Host\": \"httpbin.org\", \n",
      "    \"User-Agent\": \"python-requests/2.32.4\", \n",
      "    \"X-Amzn-Trace-Id\": \"Root=1-68871007-53c8d6d00439138e48c9cb0f\"\n",
      "  }, \n",
      "  \"json\": {\n",
      "    \"key\": \"value\"\n",
      "  }, \n",
      "  \"origin\": \"118.36.174.103\", \n",
      "  \"url\": \"https://httpbin.org/post\"\n",
      "}\n",
      "\n"
     ]
    }
   ],
   "source": [
    "url = 'https://httpbin.org/post'\n",
    "\n",
    "response = requests.post(url, json = {'key': 'value'})\n",
    "print(response.text)"
   ]
  },
  {
   "cell_type": "code",
   "execution_count": 16,
   "id": "7b8e59e3",
   "metadata": {},
   "outputs": [
    {
     "name": "stdout",
     "output_type": "stream",
     "text": [
      "{\n",
      "  \"args\": {}, \n",
      "  \"data\": \"\", \n",
      "  \"files\": {}, \n",
      "  \"form\": {\n",
      "    \"key\": \"value\"\n",
      "  }, \n",
      "  \"headers\": {\n",
      "    \"Accept\": \"*/*\", \n",
      "    \"Accept-Encoding\": \"gzip, deflate\", \n",
      "    \"Content-Length\": \"9\", \n",
      "    \"Content-Type\": \"application/x-www-form-urlencoded\", \n",
      "    \"Host\": \"httpbin.org\", \n",
      "    \"User-Agent\": \"python-requests/2.32.4\", \n",
      "    \"X-Amzn-Trace-Id\": \"Root=1-688710b9-1ea11b5158d3e29b2471ed80\"\n",
      "  }, \n",
      "  \"json\": null, \n",
      "  \"origin\": \"118.36.174.103\", \n",
      "  \"url\": \"https://httpbin.org/put\"\n",
      "}\n",
      "\n"
     ]
    }
   ],
   "source": [
    "response = requests.put('https://httpbin.org/put', data = {'key': 'value'})\n",
    "print(response.text)"
   ]
  },
  {
   "cell_type": "code",
   "execution_count": 17,
   "id": "743d0795",
   "metadata": {},
   "outputs": [
    {
     "name": "stdout",
     "output_type": "stream",
     "text": [
      "{\n",
      "  \"args\": {}, \n",
      "  \"data\": \"\", \n",
      "  \"files\": {}, \n",
      "  \"form\": {\n",
      "    \"key\": \"value\"\n",
      "  }, \n",
      "  \"headers\": {\n",
      "    \"Accept\": \"*/*\", \n",
      "    \"Accept-Encoding\": \"gzip, deflate\", \n",
      "    \"Content-Length\": \"9\", \n",
      "    \"Content-Type\": \"application/x-www-form-urlencoded\", \n",
      "    \"Host\": \"httpbin.org\", \n",
      "    \"User-Agent\": \"python-requests/2.32.4\", \n",
      "    \"X-Amzn-Trace-Id\": \"Root=1-688710c0-38ee27332594400c1b71ba95\"\n",
      "  }, \n",
      "  \"json\": null, \n",
      "  \"origin\": \"118.36.174.103\", \n",
      "  \"url\": \"https://httpbin.org/patch\"\n",
      "}\n",
      "\n"
     ]
    }
   ],
   "source": [
    "response = requests.patch('https://httpbin.org/patch', data = {'key': 'value'})\n",
    "print(response.text)"
   ]
  }
 ],
 "metadata": {
  "kernelspec": {
   "display_name": "webcrawl_env",
   "language": "python",
   "name": "python3"
  },
  "language_info": {
   "codemirror_mode": {
    "name": "ipython",
    "version": 3
   },
   "file_extension": ".py",
   "mimetype": "text/x-python",
   "name": "python",
   "nbconvert_exporter": "python",
   "pygments_lexer": "ipython3",
   "version": "3.10.18"
  }
 },
 "nbformat": 4,
 "nbformat_minor": 5
}
