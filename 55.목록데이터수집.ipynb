{
 "cells": [
  {
   "cell_type": "markdown",
   "id": "71fef0c8",
   "metadata": {},
   "source": [
    "#도서 객체 수집"
   ]
  },
  {
   "cell_type": "code",
   "execution_count": 18,
   "id": "e4d3598d",
   "metadata": {},
   "outputs": [],
   "source": [
    "class Book:\n",
    "    def __init__(self, rank, title, author, price):\n",
    "        self.rank = rank\n",
    "        self.title = title\n",
    "        self.author = author\n",
    "        self.price = price\n",
    "\n",
    "    def __str__(self):\n",
    "        return f\"{self.rank}, {self.title}, {self.author}, {self.price}\"\n",
    "    \n",
    "    def to_dict(self):\n",
    "        return {'rank':self.rank, \n",
    "                'title':self.title, \n",
    "                'author':self.author, \n",
    "                'price':self.price}\n",
    "    \n",
    "    def to_list(self):\n",
    "        return [self.rank, \n",
    "                self.title, \n",
    "                self.author, \n",
    "                self.price]"
   ]
  },
  {
   "cell_type": "code",
   "execution_count": 19,
   "id": "e377082e",
   "metadata": {},
   "outputs": [],
   "source": [
    "#yesBestList > li:nth-child(1) > div > div.item_info"
   ]
  },
  {
   "cell_type": "code",
   "execution_count": 20,
   "id": "c53082ab",
   "metadata": {},
   "outputs": [
    {
     "data": {
      "text/plain": [
       "24"
      ]
     },
     "execution_count": 20,
     "metadata": {},
     "output_type": "execute_result"
    }
   ],
   "source": [
    "import requests\n",
    "from bs4 import BeautifulSoup\n",
    "\n",
    "url = 'https://www.yes24.com/product/category/daybestseller?categoryNumber=001&pageNumber=1&pageSize=24&type=day'\n",
    "res = requests.get(url)\n",
    "soup = BeautifulSoup(res.content, 'html.parser')\n",
    "best_list_el = soup.select('#yesBestList div.item_info')\n",
    "len(best_list_el)\n",
    "\n"
   ]
  },
  {
   "cell_type": "code",
   "execution_count": 21,
   "id": "d491c7e9",
   "metadata": {},
   "outputs": [
    {
     "data": {
      "text/plain": [
       "<div class=\"item_info\">\n",
       "<div class=\"info_row info_keynote\">\n",
       "<span class=\"gd_keynote\" id=\"spanGdKeynote\">\n",
       "<!-- 클래스24 상품일 경우 -->\n",
       "</span>\n",
       "<script type=\"text/javascript\">\n",
       "        if ($('#spanGdKeynote').children().length == 0) {\n",
       "            $('#spanGdKeynote').remove();\n",
       "        }\n",
       "    </script>\n",
       "</div>\n",
       "<div class=\"info_row info_name\">\n",
       "<span class=\"gd_res\">[만화]</span>\n",
       "<a class=\"gd_name\" href=\"/product/goods/150111139\" onclick=\"wiseLogV2('BS', '003_006_001', ''); \">명탐정 코난 107 특장판</a>\n",
       "<span class=\"gd_feature\">\n",
       "                        [\n",
       "<span class=\"feature\">구성 : 극장판 [척안의 잔상] 티저 일러스트 아크릴 스탠드+일러스트 PET 스탠드</span>                        ]\n",
       "                    </span>\n",
       "<a class=\"bgYUI ico_nWin\" href=\"/product/goods/150111139\" onclick=\"wiseLogV2('BS', '003_006_001', ''); \" target=\"_blank\">명탐정 코난 107 특장판 새창이동</a>\n",
       "</div>\n",
       "<div class=\"info_row info_pubGrp\">\n",
       "<span class=\"authPub info_auth\" onclick=\"wiseLogV2('BS', '003_006_002', '');\">\n",
       "<a href=\"https://www.yes24.com/product/search?domain=ALL&amp;query=%25EC%2595%2584%25EC%2598%25A4%25EC%2595%25BC%25EB%25A7%2588%2520%25EA%25B3%25A0%25EC%2587%25BC&amp;authorNo=1503&amp;author=아오야마 고쇼\" target=\"\">아오야마 고쇼</a> 글그림\n",
       "                            </span>\n",
       "<span class=\"authPub info_pub\" onclick=\"wiseLogV2('BS', '003_006_003', '');\"><a href=\"https://www.yes24.com/product/search?&amp;domain=ALL&amp;company=%ec%84%9c%ec%9a%b8%eb%af%b8%eb%94%94%ec%96%b4%ec%bd%94%eb%af%b9%ec%8a%a4(%ec%84%9c%ec%9a%b8%eb%ac%b8%ed%99%94%ec%82%ac)&amp;query=%25EC%2584%259C%25EC%259A%25B8%25EB%25AF%25B8%25EB%2594%2594%25EC%2596%25B4%25EC%25BD%2594%25EB%25AF%25B9%25EC%258A%25A4(%25EC%2584%259C%25EC%259A%25B8%25EB%25AC%25B8%25ED%2599%2594%25EC%2582%25AC)\">서울미디어코믹스(서울문화사)</a></span>\n",
       "<span class=\"authPub info_date\">2025년 07월</span>\n",
       "</div>\n",
       "<dl class=\"info_present\">\n",
       "<dt><em class=\"bgYUI ico_present\">구매혜택</em></dt>\n",
       "<dd>\n",
       "<a href=\"https://event.yes24.com/present?eventNo=238077\">[만화 주간 TOP 100] READER 에코백 (포인트 차감)</a>\n",
       "</dd>\n",
       "</dl>\n",
       "<div class=\"info_row info_price\">\n",
       "<span class=\"txt_sale\"><em class=\"num\">10</em>%</span>\n",
       "<strong class=\"txt_num\"><em class=\"yes_b\">17,100</em>원</strong>\n",
       "<span class=\"txt_num dash\"><em class=\"yes_m\">19,000</em>원</span>\n",
       "<span class=\"yPoint\"><em class=\"bgYUI ico_point\">포인트적립</em>950원</span>\n",
       "</div>\n",
       "<div class=\"info_row info_rating\">\n",
       "<span class=\"saleNum\">\n",
       "                                판매지수 17,490\n",
       "                            </span>\n",
       "<span class=\"rating_rvCount\">\n",
       "<a href=\"https://www.yes24.com/product/goods/150111139?ReviewYn=Y\" onclick=\"wiseLogV2('BS', '003_006_004', '');\"><em class=\"bit\">회원리뷰</em>(<em class=\"txC_blue\">3</em>건)</a>\n",
       "</span>\n",
       "<span class=\"rating_grade\">\n",
       "<span class=\"bgYUI tRating tRating_10\">리뷰 총점</span><em class=\"yes_b\">10.0</em>\n",
       "<span class=\"moreRatingArea\">\n",
       "<span class=\"moreRatingBtn\">\n",
       "<a class=\"bgYUI\" href=\"javascript:void(0);\" onclick=\"toggleLiCont(this,$('.sGLi'),event);\">정보 더 보기/감추기</a>\n",
       "</span>\n",
       "<span class=\"moreRatingLi\">\n",
       "<span class=\"moreRatingLiRow\">\n",
       "<ul class=\"yesAlertLi\">\n",
       "<li><em class=\"bl_dot bgYUI\"> </em>종이책 리뷰 (2건)</li>\n",
       "<li><em class=\"bl_dot bgYUI\"> </em>eBook 리뷰 (0건)</li>\n",
       "<li><em class=\"bl_dot bgYUI\"> </em>종이책 한줄평 (1건)</li>\n",
       "<li><em class=\"bl_dot bgYUI\"> </em>eBook 한줄평 (0건)</li>\n",
       "</ul>\n",
       "</span>\n",
       "</span>\n",
       "</span>\n",
       "</span>\n",
       "</div>\n",
       "<div class=\"info_row info_deli\" name=\"delvTextArea\"></div>\n",
       "<div class=\"info_row info_signature\">\n",
       "                    구성 : 극장판 [척안의 잔상] 티저 일러스트 아크릴 스탠드+일러스트 PET 스탠드\n",
       "                </div>\n",
       "</div>"
      ]
     },
     "execution_count": 21,
     "metadata": {},
     "output_type": "execute_result"
    }
   ],
   "source": [
    "best_list_el[0]"
   ]
  },
  {
   "cell_type": "code",
   "execution_count": 22,
   "id": "41f47141",
   "metadata": {},
   "outputs": [
    {
     "name": "stdout",
     "output_type": "stream",
     "text": [
      "1, 명탐정 코난 107 특장판, 아오야마 고쇼, 17,100원\n",
      "2, 혼모노, 성해나, 16,200원\n",
      "3, 자몽살구클럽, 한로로, 10,800원\n",
      "4, 명탐정 코난 107 일반판, 아오야마 고쇼, 5,400원\n",
      "5, 가공범, 히가시노 게이고, 19,800원\n",
      "6, 조국의 공부, 조국, 16,920원\n",
      "7, 류수영의 평생 레시피, 류수영, 22,500원\n",
      "8, 편안함의 습격, 마이클 이스터, 19,800원\n",
      "9, 2025 큰별쌤 최태성의 별별한국사 기출 500제 한국사능력검정시험 심화(1,2,3급), 최태성, 17,550원\n",
      "10, 안녕이라 그랬어, 김애란, 15,120원\n",
      "11, ETS 토익 정기시험 기출문제집 1000 Vol. 4 RC, ETS, 17,820원\n",
      "12, 박곰희 연금 부자 수업, 박곰희, 18,900원\n",
      "13, 료의 생각 없는 생각, 료, 18,000원\n",
      "14, ETS 토익 정기시험 기출문제집 1000 Vol. 4 LC, ETS, 17,820원\n",
      "15, 다크 심리학, 다크 사이드 프로젝트, 19,710원\n",
      "16, 청춘의 독서, 유시민, 17,010원\n",
      "17, 모순, 양귀자, 11,700원\n",
      "18, 해커스 토익 기출 VOCA (보카), David Cho, 11,610원\n",
      "19, 어른의 행복은 조용하다, 태수, 16,020원\n",
      "20, 2025 큰별쌤 최태성의 별별한국사 한국사능력검정시험 심화(1,2,3급) 상, 최태성, 14,850원\n",
      "21, 단 한 줄만 내 마음에 새긴다고 해도, 나민애, 21,420원\n",
      "22, 2025 큰별쌤 최태성의 별별한국사 한국사능력검정시험 심화(1,2,3급) 하, 최태성, 14,400원\n",
      "23, 2026 유휘운 행정법총론 요약노트+기출문제 (요.플.), 유휘운, 31,500원\n",
      "24, 2026 써니 행정법총론 기본서, 박준철, 38,700원\n"
     ]
    }
   ],
   "source": [
    "book_list = []\n",
    "\n",
    "for i, item in enumerate(best_list_el):\n",
    "    title = item.select_one('div.info_name > a').text\n",
    "    author = item.select_one('.info_auth > a').text #span tag는 입력 안해도 됨\n",
    "    price = item.select_one('div.info_price .txt_num').text #strong class -- strong 여러개일 수 있으니까 '.' 으로 함\n",
    "    \n",
    "    book_list.append(Book(i + 1, title, author,price))\n",
    "\n",
    "for book in book_list:\n",
    "    print(book)\n"
   ]
  },
  {
   "cell_type": "code",
   "execution_count": 23,
   "id": "b2fe16b7",
   "metadata": {},
   "outputs": [],
   "source": [
    "query = '''\n",
    "CREATE TABLE IF NOT EXISTS BOOKS(\n",
    "    RANK INTEGER PRIMARY KEY,\n",
    "    TITLE TEXT,\n",
    "    AUTHOR TEXT,\n",
    "    PRICE INTEGER\n",
    ")\n",
    "'''"
   ]
  },
  {
   "cell_type": "code",
   "execution_count": 24,
   "id": "5d4f59a0",
   "metadata": {},
   "outputs": [],
   "source": [
    "import sqlite3 \n",
    "conn = sqlite3.connect('my_database.db')\n",
    "cursor = conn.cursor()\n",
    "cursor.execute(query)\n",
    "conn.commit()\n",
    "conn.close()"
   ]
  },
  {
   "cell_type": "code",
   "execution_count": 25,
   "id": "7523d2d2",
   "metadata": {},
   "outputs": [],
   "source": [
    "conn = sqlite3.connect('my_database.db')\n",
    "cursor = conn.cursor()"
   ]
  },
  {
   "cell_type": "code",
   "execution_count": 26,
   "id": "29ecfed7",
   "metadata": {},
   "outputs": [],
   "source": [
    "# ✅ 책 수집 코드에서 rank 값이 페이지마다 리셋되지 않도록 아래처럼 유지해야 해\n",
    "rank = 1  # 전체 순위 1부터 시작\n",
    "for page in range(1, 6): \n",
    "    ...\n",
    "    for item in best_list_el:\n",
    "        ...\n",
    "        book_list.append(Book(rank, title, author, price))\n",
    "        rank += 1  # 이게 꼭 있어야 함!!!\n"
   ]
  },
  {
   "cell_type": "code",
   "execution_count": 27,
   "id": "e038bc3f",
   "metadata": {},
   "outputs": [],
   "source": [
    "book_list = []\n",
    "\n",
    "for i, item in enumerate(best_list_el):\n",
    "    title = item.select_one('div.info_name > a').text.strip()\n",
    "    author = item.select_one('.info_auth > a').text.strip()\n",
    "    price = item.select_one('div.info_price .txt_num').text.strip()\n",
    "\n",
    "    book_list.append(Book(i + 1, title, author, price))\n"
   ]
  },
  {
   "cell_type": "code",
   "execution_count": 28,
   "id": "f049c339",
   "metadata": {},
   "outputs": [],
   "source": [
    "def fetch_book_list_from_db():\n",
    "    conn = sqlite3.connect('my_database.db')\n",
    "    cursor = conn.cursor()\n",
    "    try:\n",
    "        cursor.execute('SELECT * FROM books')    \n",
    "        rows = cursor.fetchall()\n",
    "        return rows\n",
    "    finally:\n",
    "        conn.close()"
   ]
  },
  {
   "cell_type": "code",
   "execution_count": 29,
   "id": "c681f25f",
   "metadata": {},
   "outputs": [
    {
     "name": "stdout",
     "output_type": "stream",
     "text": [
      "(1, '혼모노', '성해나', '16,200원')\n",
      "(2, '가공범', '히가시노 게이고', '19,800원')\n",
      "(3, '류수영의 평생 레시피', '류수영', '22,500원')\n",
      "(4, '편안함의 습격', '마이클 이스터', '19,800원')\n",
      "(5, '2025 큰별쌤 최태성의 별별한국사 기출 500제 한국사능력검정시험 심화(1,2,3급)', '최태성', '17,550원')\n",
      "(6, '다크 심리학', '다크 사이드 프로젝트', '19,710원')\n",
      "(7, '자몽살구클럽', '한로로', '10,800원')\n",
      "(8, '박곰희 연금 부자 수업', '박곰희', '18,900원')\n",
      "(9, 'ETS 토익 정기시험 기출문제집 1000 Vol. 4 LC', 'ETS', '17,820원')\n",
      "(10, 'ETS 토익 정기시험 기출문제집 1000 Vol. 4 RC', 'ETS', '17,820원')\n",
      "(11, '2025 큰별쌤 최태성의 별별한국사 한국사능력검정시험 심화(1,2,3급) 상', '최태성', '14,850원')\n",
      "(12, '2025 큰별쌤 최태성의 별별한국사 한국사능력검정시험 심화(1,2,3급) 하', '최태성', '14,400원')\n",
      "(13, '안녕이라 그랬어', '김애란', '15,120원')\n",
      "(14, '사기열전 1,2 세트', '사마천', '45,900원')\n",
      "(15, '푸른 사자 와니니 8', '이현', '12,420원')\n",
      "(16, '마흔, 더 늦기 전에 생각의 틀을 리셋하라', '박근필', '16,020원')\n",
      "(17, '모순', '양귀자', '11,700원')\n",
      "(18, '단 한 줄만 내 마음에 새긴다고 해도', '나민애', '21,420원')\n",
      "(19, '소년이 온다', '한강', '13,500원')\n",
      "(20, '해커스 토익 기출 VOCA (보카)', 'David Cho', '11,610원')\n",
      "(21, '료의 생각 없는 생각', '료', '18,000원')\n",
      "(22, '청춘의 독서', '유시민', '17,010원')\n",
      "(23, '첫 여름, 완주', '김금희', '15,300원')\n",
      "(24, '어른의 행복은 조용하다', '태수', '16,020원')\n"
     ]
    }
   ],
   "source": [
    "books = fetch_book_list_from_db()\n",
    "for book in books:\n",
    "    print(book)"
   ]
  },
  {
   "cell_type": "code",
   "execution_count": 30,
   "id": "356062da",
   "metadata": {},
   "outputs": [
    {
     "data": {
      "text/plain": [
       "24"
      ]
     },
     "execution_count": 30,
     "metadata": {},
     "output_type": "execute_result"
    }
   ],
   "source": [
    "base_url = 'https://www.yes24.com/product/category/daybestseller?categoryNumber=001&pageSize=24&pageNumber='\n",
    "page_no = 3\n",
    "book_list = []\n",
    "for page in range(1, page_no+1):\n",
    "    # 페이지 연결    \n",
    "    url = f'{base_url}{page}'\n",
    "    res = requests.get(url)\n",
    "    soup = BeautifulSoup(res.content, 'html.parser')\n",
    "    best_list_el = soup.select('#yesBestList div.item_info')\n",
    "# 요소추출\n",
    "for i, item in enumerate(best_list_el):\n",
    "    title = item.select_one('div.info_name > a').text\n",
    "    author = item.select_one('.info_auth > a').text #span tag는 입력 안해도 됨\n",
    "    price = item.select_one('div.info_price .txt_num').text #strong class -- strong 여러개일 수 있으니까 '.' 으로 함\n",
    "    \n",
    "    book_list.append(Book(i + 1, title, author,price))\n",
    "    \n",
    "len(book_list)"
   ]
  },
  {
   "cell_type": "code",
   "execution_count": 31,
   "id": "a8a669f3",
   "metadata": {},
   "outputs": [
    {
     "name": "stdout",
     "output_type": "stream",
     "text": [
      "총 수집된 책 수: 100\n"
     ]
    }
   ],
   "source": [
    "\n",
    "\n",
    "import requests\n",
    "from bs4 import BeautifulSoup\n",
    "\n",
    "# book 클래스 정의 : 각 책 정보를 객체로 저장\n",
    "class Book: \n",
    "    def __init__(self, rank, title, author, price):\n",
    "        self.rank = rank\n",
    "        self.title = title\n",
    "        self.author = author\n",
    "        self.price = price\n",
    "\t\t\n",
    "\t\t# to_tuple() 메서드 : DB INSERT용 튜플 변환\n",
    "    def to_tuple(self):\n",
    "        return (self.rank, self.title, self.author, self.price)\n",
    "\n",
    "base_url = 'https://www.yes24.com/product/category/daybestseller?categoryNumber=001&pageSize=24&pageNumber='\n",
    "book_list = []\n",
    "\n",
    "\n",
    "rank = 1  # 전체 순위 1부터 시작\n",
    "for page in range(1, 6):   # 1~5페이지 반복(한 페이지당 24권 × 5 = 최대 120권 확보 가능)\n",
    "    url = f'{base_url}{page}'\n",
    "    res = requests.get(url)\n",
    "    soup = BeautifulSoup(res.content, 'html.parser')\n",
    "    best_list_el = soup.select('#yesBestList div.item_info')\n",
    "\n",
    "    for item in best_list_el:                       #.text.strip(): 불필요한 공백 제거 완벽\n",
    "        title = item.select_one('div.info_name > a').text.strip()    \n",
    "        author = item.select_one('.info_auth > a').text.strip()\n",
    "        price_raw = item.select_one('div.info_price .txt_num').text.strip()\n",
    "        price = int(price_raw.replace(\",\", \"\").replace(\"원\", \"\"))\n",
    "\n",
    "\n",
    "        book_list.append(Book(rank, title, author, price))\n",
    "        rank += 1  # rank 전역 증가 : 전체 순위 1~100 매기기 OK\n",
    "\n",
    "        if rank > 100:    # break 조건 : 100권 도달하면 중단\n",
    "            break \n",
    "    if rank > 100:\n",
    "        break  \n",
    "\n",
    "print(f\"총 수집된 책 수: {len(book_list)}\")\n",
    "\n"
   ]
  },
  {
   "cell_type": "code",
   "execution_count": 33,
   "id": "efed0bd4",
   "metadata": {},
   "outputs": [
    {
     "name": "stdout",
     "output_type": "stream",
     "text": [
      "✅ 전체 삭제 후 재삽입 완료!\n"
     ]
    }
   ],
   "source": [
    "import mysql.connector\n",
    "\n",
    "insert_query = '''\n",
    "INSERT INTO books (book_rank, title, author, price)\n",
    "VALUES (%s, %s, %s, %s)\n",
    "'''\n",
    "\n",
    "# 1. DB 연결\n",
    "conn = mysql.connector.connect(\n",
    "    host=\"localhost\",\n",
    "    user=\"root\",\n",
    "    password=\"Qpswutm45!\",\n",
    "    database=\"my_db\",\n",
    "    charset=\"utf8mb4\"\n",
    ")\n",
    "\n",
    "# 2. 커서 생성\n",
    "cursor = conn.cursor()\n",
    "\n",
    "# 3. 테이블 비우기\n",
    "cursor.execute(\"DELETE FROM books\")\n",
    "\n",
    "# 4. INSERT 반복\n",
    "for book in book_list:\n",
    "    cursor.execute(insert_query, book.to_tuple())\n",
    "\n",
    "# 5. 저장 + 종료\n",
    "conn.commit()\n",
    "conn.close()\n",
    "\n",
    "print(\"✅ 전체 삭제 후 재삽입 완료!\")\n"
   ]
  }
 ],
 "metadata": {
  "kernelspec": {
   "display_name": "webcrawl_env",
   "language": "python",
   "name": "python3"
  },
  "language_info": {
   "codemirror_mode": {
    "name": "ipython",
    "version": 3
   },
   "file_extension": ".py",
   "mimetype": "text/x-python",
   "name": "python",
   "nbconvert_exporter": "python",
   "pygments_lexer": "ipython3",
   "version": "3.10.18"
  }
 },
 "nbformat": 4,
 "nbformat_minor": 5
}
