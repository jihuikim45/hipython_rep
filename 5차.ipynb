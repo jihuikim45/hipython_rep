{
 "cells": [
  {
   "cell_type": "code",
   "execution_count": null,
   "id": "3e65378a-44fb-4ecc-9925-bfffbd72e72e",
   "metadata": {},
   "outputs": [
    {
     "name": "stdout",
     "output_type": "stream",
     "text": [
      "=============================================\n",
      "                 또!젤라또                  \n",
      "=============================================\n",
      "어서오세요 아이스크림을 또 주는 또젤라또입니다\n",
      "\n",
      "1. 또젤라또           1가지맛      3,000원\n",
      "2. 또또젤라또          2가지맛      5,000원\n",
      "3. 또또또젤라또         3가지맛      7,000원\n",
      "=============================================\n"
     ]
    },
    {
     "name": "stdin",
     "output_type": "stream",
     "text": [
      "주문할 메뉴 번호를 입력해주세요:  2\n"
     ]
    },
    {
     "name": "stdout",
     "output_type": "stream",
     "text": [
      "\n",
      "'또또젤라또' 선택 — 2가지 맛을 골라주세요\n",
      "1. 달콤초코봄바람   2. 새콤달콤딸기정원  3. 요거트빛파도    \n",
      "4. 말차소풍      5. 체리팝송      6. 포도에몽      \n",
      "7. 바닐라하모니    8. 쿠키크러쉬     9. 소금바다우유    \n",
      "10. 블루베리썸머    11. 스윗피치      12. 레몬샤워      \n"
     ]
    },
    {
     "name": "stdin",
     "output_type": "stream",
     "text": [
      "\n",
      "맛 번호들을 입력하세요 (예: 1, 3, 5) / 0 입력시 메뉴 선택으로 돌아가기:  1,2\n"
     ]
    },
    {
     "name": "stdout",
     "output_type": "stream",
     "text": [
      "\n",
      "선택한 주문:\n",
      "메뉴: 또또젤라또\n",
      " - 맛 1: 달콤초코봄바람\n",
      " - 맛 2: 새콤달콤딸기정원\n",
      "가격: 5,000원\n"
     ]
    },
    {
     "name": "stdin",
     "output_type": "stream",
     "text": [
      "\n",
      "이 주문을 장바구니에 추가할까요? (Y: 추가 / N: 취소):  5\n"
     ]
    },
    {
     "name": "stdout",
     "output_type": "stream",
     "text": [
      "!(Y/N)로 입력해주세요!\n"
     ]
    },
    {
     "name": "stdin",
     "output_type": "stream",
     "text": [
      "\n",
      "이 주문을 장바구니에 추가할까요? (Y: 추가 / N: 취소):  ㅇ\n"
     ]
    },
    {
     "name": "stdout",
     "output_type": "stream",
     "text": [
      "!(Y/N)로 입력해주세요!\n"
     ]
    },
    {
     "name": "stdin",
     "output_type": "stream",
     "text": [
      "\n",
      "이 주문을 장바구니에 추가할까요? (Y: 추가 / N: 취소):  ㅛ\n"
     ]
    },
    {
     "name": "stdout",
     "output_type": "stream",
     "text": [
      "!(Y/N)로 입력해주세요!\n"
     ]
    },
    {
     "name": "stdin",
     "output_type": "stream",
     "text": [
      "\n",
      "이 주문을 장바구니에 추가할까요? (Y: 추가 / N: 취소):  y\n"
     ]
    },
    {
     "name": "stdout",
     "output_type": "stream",
     "text": [
      "주문이 장바구니에 추가되었습니다.\n",
      "\n",
      "=============================================\n",
      "                 또!젤라또                  \n",
      "=============================================\n",
      "어서오세요 아이스크림을 또 주는 또젤라또입니다\n",
      "\n",
      "1. 또젤라또           1가지맛      3,000원\n",
      "2. 또또젤라또          2가지맛      5,000원\n",
      "3. 또또또젤라또         3가지맛      7,000원\n",
      "=============================================\n"
     ]
    },
    {
     "name": "stdin",
     "output_type": "stream",
     "text": [
      "주문할 메뉴 번호를 입력해주세요:  q\n"
     ]
    },
    {
     "name": "stdout",
     "output_type": "stream",
     "text": [
      "잘못된 입력입니다. 다시 시도해주세요.\n",
      "\n",
      "=============================================\n",
      "                 또!젤라또                  \n",
      "=============================================\n",
      "어서오세요 아이스크림을 또 주는 또젤라또입니다\n",
      "\n",
      "1. 또젤라또           1가지맛      3,000원\n",
      "2. 또또젤라또          2가지맛      5,000원\n",
      "3. 또또또젤라또         3가지맛      7,000원\n",
      "=============================================\n"
     ]
    },
    {
     "name": "stdin",
     "output_type": "stream",
     "text": [
      "주문할 메뉴 번호를 입력해주세요:  1\n"
     ]
    },
    {
     "name": "stdout",
     "output_type": "stream",
     "text": [
      "\n",
      "'또젤라또' 선택 — 1가지 맛을 골라주세요\n",
      "1. 달콤초코봄바람   2. 새콤달콤딸기정원  3. 요거트빛파도    \n",
      "4. 말차소풍      5. 체리팝송      6. 포도에몽      \n",
      "7. 바닐라하모니    8. 쿠키크러쉬     9. 소금바다우유    \n",
      "10. 블루베리썸머    11. 스윗피치      12. 레몬샤워      \n"
     ]
    },
    {
     "name": "stdin",
     "output_type": "stream",
     "text": [
      "\n",
      "맛 번호들을 입력하세요 (예: 1, 3, 5) / 0 입력시 메뉴 선택으로 돌아가기:  2\n"
     ]
    },
    {
     "name": "stdout",
     "output_type": "stream",
     "text": [
      "\n",
      "선택한 주문:\n",
      "메뉴: 또젤라또\n",
      " - 맛 1: 새콤달콤딸기정원\n",
      "가격: 3,000원\n"
     ]
    },
    {
     "name": "stdin",
     "output_type": "stream",
     "text": [
      "\n",
      "이 주문을 장바구니에 추가할까요? (Y: 추가 / N: 취소):  n\n"
     ]
    },
    {
     "name": "stdout",
     "output_type": "stream",
     "text": [
      "주문이 취소되었습니다.\n",
      "\n",
      "=============================================\n",
      "                 또!젤라또                  \n",
      "=============================================\n",
      "어서오세요 아이스크림을 또 주는 또젤라또입니다\n",
      "\n",
      "1. 또젤라또           1가지맛      3,000원\n",
      "2. 또또젤라또          2가지맛      5,000원\n",
      "3. 또또또젤라또         3가지맛      7,000원\n",
      "=============================================\n"
     ]
    },
    {
     "name": "stdin",
     "output_type": "stream",
     "text": [
      "주문할 메뉴 번호를 입력해주세요:  1\n"
     ]
    },
    {
     "name": "stdout",
     "output_type": "stream",
     "text": [
      "\n",
      "'또젤라또' 선택 — 1가지 맛을 골라주세요\n",
      "1. 달콤초코봄바람   2. 새콤달콤딸기정원  3. 요거트빛파도    \n",
      "4. 말차소풍      5. 체리팝송      6. 포도에몽      \n",
      "7. 바닐라하모니    8. 쿠키크러쉬     9. 소금바다우유    \n",
      "10. 블루베리썸머    11. 스윗피치      12. 레몬샤워      \n"
     ]
    },
    {
     "name": "stdin",
     "output_type": "stream",
     "text": [
      "\n",
      "맛 번호들을 입력하세요 (예: 1, 3, 5) / 0 입력시 메뉴 선택으로 돌아가기:  2\n"
     ]
    },
    {
     "name": "stdout",
     "output_type": "stream",
     "text": [
      "\n",
      "선택한 주문:\n",
      "메뉴: 또젤라또\n",
      " - 맛 1: 새콤달콤딸기정원\n",
      "가격: 3,000원\n"
     ]
    },
    {
     "name": "stdin",
     "output_type": "stream",
     "text": [
      "\n",
      "이 주문을 장바구니에 추가할까요? (Y: 추가 / N: 취소):  y\n"
     ]
    },
    {
     "name": "stdout",
     "output_type": "stream",
     "text": [
      "주문이 장바구니에 추가되었습니다.\n",
      "\n",
      "=============================================\n",
      "                 또!젤라또                  \n",
      "=============================================\n",
      "어서오세요 아이스크림을 또 주는 또젤라또입니다\n",
      "\n",
      "1. 또젤라또           1가지맛      3,000원\n",
      "2. 또또젤라또          2가지맛      5,000원\n",
      "3. 또또또젤라또         3가지맛      7,000원\n",
      "=============================================\n"
     ]
    },
    {
     "name": "stdin",
     "output_type": "stream",
     "text": [
      "주문할 메뉴 번호를 입력해주세요:  1\n"
     ]
    },
    {
     "name": "stdout",
     "output_type": "stream",
     "text": [
      "\n",
      "'또젤라또' 선택 — 1가지 맛을 골라주세요\n",
      "1. 달콤초코봄바람   2. 새콤달콤딸기정원  3. 요거트빛파도    \n",
      "4. 말차소풍      5. 체리팝송      6. 포도에몽      \n",
      "7. 바닐라하모니    8. 쿠키크러쉬     9. 소금바다우유    \n",
      "10. 블루베리썸머    11. 스윗피치      12. 레몬샤워      \n"
     ]
    },
    {
     "name": "stdin",
     "output_type": "stream",
     "text": [
      "\n",
      "맛 번호들을 입력하세요 (예: 1, 3, 5) / 0 입력시 메뉴 선택으로 돌아가기:  2\n"
     ]
    },
    {
     "name": "stdout",
     "output_type": "stream",
     "text": [
      "\n",
      "선택한 주문:\n",
      "메뉴: 또젤라또\n",
      " - 맛 1: 새콤달콤딸기정원\n",
      "가격: 3,000원\n"
     ]
    },
    {
     "name": "stdin",
     "output_type": "stream",
     "text": [
      "\n",
      "이 주문을 장바구니에 추가할까요? (Y: 추가 / N: 취소):  n\n"
     ]
    },
    {
     "name": "stdout",
     "output_type": "stream",
     "text": [
      "주문이 취소되었습니다.\n",
      "\n",
      "=============================================\n",
      "                 또!젤라또                  \n",
      "=============================================\n",
      "어서오세요 아이스크림을 또 주는 또젤라또입니다\n",
      "\n",
      "1. 또젤라또           1가지맛      3,000원\n",
      "2. 또또젤라또          2가지맛      5,000원\n",
      "3. 또또또젤라또         3가지맛      7,000원\n",
      "=============================================\n"
     ]
    },
    {
     "name": "stdin",
     "output_type": "stream",
     "text": [
      "주문할 메뉴 번호를 입력해주세요:  1\n"
     ]
    },
    {
     "name": "stdout",
     "output_type": "stream",
     "text": [
      "\n",
      "'또젤라또' 선택 — 1가지 맛을 골라주세요\n",
      "1. 달콤초코봄바람   2. 새콤달콤딸기정원  3. 요거트빛파도    \n",
      "4. 말차소풍      5. 체리팝송      6. 포도에몽      \n",
      "7. 바닐라하모니    8. 쿠키크러쉬     9. 소금바다우유    \n",
      "10. 블루베리썸머    11. 스윗피치      12. 레몬샤워      \n"
     ]
    },
    {
     "name": "stdin",
     "output_type": "stream",
     "text": [
      "\n",
      "맛 번호들을 입력하세요 (예: 1, 3, 5) / 0 입력시 메뉴 선택으로 돌아가기:  3\n"
     ]
    },
    {
     "name": "stdout",
     "output_type": "stream",
     "text": [
      "\n",
      "선택한 주문:\n",
      "메뉴: 또젤라또\n",
      " - 맛 1: 요거트빛파도\n",
      "가격: 3,000원\n"
     ]
    },
    {
     "name": "stdin",
     "output_type": "stream",
     "text": [
      "\n",
      "이 주문을 장바구니에 추가할까요? (Y: 추가 / N: 취소):  n\n"
     ]
    },
    {
     "name": "stdout",
     "output_type": "stream",
     "text": [
      "주문이 취소되었습니다.\n",
      "\n",
      "=============================================\n",
      "                 또!젤라또                  \n",
      "=============================================\n",
      "어서오세요 아이스크림을 또 주는 또젤라또입니다\n",
      "\n",
      "1. 또젤라또           1가지맛      3,000원\n",
      "2. 또또젤라또          2가지맛      5,000원\n",
      "3. 또또또젤라또         3가지맛      7,000원\n",
      "=============================================\n"
     ]
    },
    {
     "name": "stdin",
     "output_type": "stream",
     "text": [
      "주문할 메뉴 번호를 입력해주세요:  2\n"
     ]
    },
    {
     "name": "stdout",
     "output_type": "stream",
     "text": [
      "\n",
      "'또또젤라또' 선택 — 2가지 맛을 골라주세요\n",
      "1. 달콤초코봄바람   2. 새콤달콤딸기정원  3. 요거트빛파도    \n",
      "4. 말차소풍      5. 체리팝송      6. 포도에몽      \n",
      "7. 바닐라하모니    8. 쿠키크러쉬     9. 소금바다우유    \n",
      "10. 블루베리썸머    11. 스윗피치      12. 레몬샤워      \n"
     ]
    },
    {
     "name": "stdin",
     "output_type": "stream",
     "text": [
      "\n",
      "맛 번호들을 입력하세요 (예: 1, 3, 5) / 0 입력시 메뉴 선택으로 돌아가기:  2\n"
     ]
    },
    {
     "name": "stdout",
     "output_type": "stream",
     "text": [
      "정확히 2가지 맛을 정확히 입력해주세요.\n",
      "\n",
      "'또또젤라또' 선택 — 2가지 맛을 골라주세요\n",
      "1. 달콤초코봄바람   2. 새콤달콤딸기정원  3. 요거트빛파도    \n",
      "4. 말차소풍      5. 체리팝송      6. 포도에몽      \n",
      "7. 바닐라하모니    8. 쿠키크러쉬     9. 소금바다우유    \n",
      "10. 블루베리썸머    11. 스윗피치      12. 레몬샤워      \n"
     ]
    },
    {
     "name": "stdin",
     "output_type": "stream",
     "text": [
      "\n",
      "맛 번호들을 입력하세요 (예: 1, 3, 5) / 0 입력시 메뉴 선택으로 돌아가기:  3\n"
     ]
    },
    {
     "name": "stdout",
     "output_type": "stream",
     "text": [
      "정확히 2가지 맛을 정확히 입력해주세요.\n",
      "\n",
      "'또또젤라또' 선택 — 2가지 맛을 골라주세요\n",
      "1. 달콤초코봄바람   2. 새콤달콤딸기정원  3. 요거트빛파도    \n",
      "4. 말차소풍      5. 체리팝송      6. 포도에몽      \n",
      "7. 바닐라하모니    8. 쿠키크러쉬     9. 소금바다우유    \n",
      "10. 블루베리썸머    11. 스윗피치      12. 레몬샤워      \n"
     ]
    },
    {
     "name": "stdin",
     "output_type": "stream",
     "text": [
      "\n",
      "맛 번호들을 입력하세요 (예: 1, 3, 5) / 0 입력시 메뉴 선택으로 돌아가기:  1\n"
     ]
    },
    {
     "name": "stdout",
     "output_type": "stream",
     "text": [
      "정확히 2가지 맛을 정확히 입력해주세요.\n",
      "\n",
      "'또또젤라또' 선택 — 2가지 맛을 골라주세요\n",
      "1. 달콤초코봄바람   2. 새콤달콤딸기정원  3. 요거트빛파도    \n",
      "4. 말차소풍      5. 체리팝송      6. 포도에몽      \n",
      "7. 바닐라하모니    8. 쿠키크러쉬     9. 소금바다우유    \n",
      "10. 블루베리썸머    11. 스윗피치      12. 레몬샤워      \n"
     ]
    },
    {
     "name": "stdin",
     "output_type": "stream",
     "text": [
      "\n",
      "맛 번호들을 입력하세요 (예: 1, 3, 5) / 0 입력시 메뉴 선택으로 돌아가기:  1,2\n"
     ]
    },
    {
     "name": "stdout",
     "output_type": "stream",
     "text": [
      "\n",
      "선택한 주문:\n",
      "메뉴: 또또젤라또\n",
      " - 맛 1: 달콤초코봄바람\n",
      " - 맛 2: 새콤달콤딸기정원\n",
      "가격: 5,000원\n"
     ]
    },
    {
     "name": "stdin",
     "output_type": "stream",
     "text": [
      "\n",
      "이 주문을 장바구니에 추가할까요? (Y: 추가 / N: 취소):  h\n"
     ]
    },
    {
     "name": "stdout",
     "output_type": "stream",
     "text": [
      "!(Y/N)로 입력해주세요!\n"
     ]
    },
    {
     "name": "stdin",
     "output_type": "stream",
     "text": [
      "\n",
      "이 주문을 장바구니에 추가할까요? (Y: 추가 / N: 취소):  n\n"
     ]
    },
    {
     "name": "stdout",
     "output_type": "stream",
     "text": [
      "주문이 취소되었습니다.\n",
      "\n",
      "=============================================\n",
      "                 또!젤라또                  \n",
      "=============================================\n",
      "어서오세요 아이스크림을 또 주는 또젤라또입니다\n",
      "\n",
      "1. 또젤라또           1가지맛      3,000원\n",
      "2. 또또젤라또          2가지맛      5,000원\n",
      "3. 또또또젤라또         3가지맛      7,000원\n",
      "=============================================\n"
     ]
    },
    {
     "name": "stdin",
     "output_type": "stream",
     "text": [
      "주문할 메뉴 번호를 입력해주세요:  1\n"
     ]
    },
    {
     "name": "stdout",
     "output_type": "stream",
     "text": [
      "\n",
      "'또젤라또' 선택 — 1가지 맛을 골라주세요\n",
      "1. 달콤초코봄바람   2. 새콤달콤딸기정원  3. 요거트빛파도    \n",
      "4. 말차소풍      5. 체리팝송      6. 포도에몽      \n",
      "7. 바닐라하모니    8. 쿠키크러쉬     9. 소금바다우유    \n",
      "10. 블루베리썸머    11. 스윗피치      12. 레몬샤워      \n"
     ]
    },
    {
     "name": "stdin",
     "output_type": "stream",
     "text": [
      "\n",
      "맛 번호들을 입력하세요 (예: 1, 3, 5) / 0 입력시 메뉴 선택으로 돌아가기:  1\n"
     ]
    },
    {
     "name": "stdout",
     "output_type": "stream",
     "text": [
      "\n",
      "선택한 주문:\n",
      "메뉴: 또젤라또\n",
      " - 맛 1: 달콤초코봄바람\n",
      "가격: 3,000원\n"
     ]
    },
    {
     "name": "stdin",
     "output_type": "stream",
     "text": [
      "\n",
      "이 주문을 장바구니에 추가할까요? (Y: 추가 / N: 취소):  y\n"
     ]
    },
    {
     "name": "stdout",
     "output_type": "stream",
     "text": [
      "주문이 장바구니에 추가되었습니다.\n",
      "\n",
      "=============================================\n",
      "                 또!젤라또                  \n",
      "=============================================\n",
      "어서오세요 아이스크림을 또 주는 또젤라또입니다\n",
      "\n",
      "1. 또젤라또           1가지맛      3,000원\n",
      "2. 또또젤라또          2가지맛      5,000원\n",
      "3. 또또또젤라또         3가지맛      7,000원\n",
      "=============================================\n"
     ]
    },
    {
     "name": "stdin",
     "output_type": "stream",
     "text": [
      "주문할 메뉴 번호를 입력해주세요:  1\n"
     ]
    },
    {
     "name": "stdout",
     "output_type": "stream",
     "text": [
      "\n",
      "'또젤라또' 선택 — 1가지 맛을 골라주세요\n",
      "1. 달콤초코봄바람   2. 새콤달콤딸기정원  3. 요거트빛파도    \n",
      "4. 말차소풍      5. 체리팝송      6. 포도에몽      \n",
      "7. 바닐라하모니    8. 쿠키크러쉬     9. 소금바다우유    \n",
      "10. 블루베리썸머    11. 스윗피치      12. 레몬샤워      \n"
     ]
    },
    {
     "name": "stdin",
     "output_type": "stream",
     "text": [
      "\n",
      "맛 번호들을 입력하세요 (예: 1, 3, 5) / 0 입력시 메뉴 선택으로 돌아가기:  1\n"
     ]
    },
    {
     "name": "stdout",
     "output_type": "stream",
     "text": [
      "\n",
      "선택한 주문:\n",
      "메뉴: 또젤라또\n",
      " - 맛 1: 달콤초코봄바람\n",
      "가격: 3,000원\n"
     ]
    },
    {
     "name": "stdin",
     "output_type": "stream",
     "text": [
      "\n",
      "이 주문을 장바구니에 추가할까요? (Y: 추가 / N: 취소):  n\n"
     ]
    },
    {
     "name": "stdout",
     "output_type": "stream",
     "text": [
      "주문이 취소되었습니다.\n",
      "\n",
      "=============================================\n",
      "                 또!젤라또                  \n",
      "=============================================\n",
      "어서오세요 아이스크림을 또 주는 또젤라또입니다\n",
      "\n",
      "1. 또젤라또           1가지맛      3,000원\n",
      "2. 또또젤라또          2가지맛      5,000원\n",
      "3. 또또또젤라또         3가지맛      7,000원\n",
      "=============================================\n"
     ]
    },
    {
     "name": "stdin",
     "output_type": "stream",
     "text": [
      "주문할 메뉴 번호를 입력해주세요:  1\n"
     ]
    },
    {
     "name": "stdout",
     "output_type": "stream",
     "text": [
      "\n",
      "'또젤라또' 선택 — 1가지 맛을 골라주세요\n",
      "1. 달콤초코봄바람   2. 새콤달콤딸기정원  3. 요거트빛파도    \n",
      "4. 말차소풍      5. 체리팝송      6. 포도에몽      \n",
      "7. 바닐라하모니    8. 쿠키크러쉬     9. 소금바다우유    \n",
      "10. 블루베리썸머    11. 스윗피치      12. 레몬샤워      \n"
     ]
    },
    {
     "name": "stdin",
     "output_type": "stream",
     "text": [
      "\n",
      "맛 번호들을 입력하세요 (예: 1, 3, 5) / 0 입력시 메뉴 선택으로 돌아가기:  1\n"
     ]
    },
    {
     "name": "stdout",
     "output_type": "stream",
     "text": [
      "\n",
      "선택한 주문:\n",
      "메뉴: 또젤라또\n",
      " - 맛 1: 달콤초코봄바람\n",
      "가격: 3,000원\n"
     ]
    }
   ],
   "source": [
    "store_name = '또!젤라또'\n",
    "\n",
    "menu_list = [\n",
    "    {'name':'또젤라또','count':'1가지맛', 'price':3000},\n",
    "    {'name':'또또젤라또','count':'2가지맛', 'price':5000},\n",
    "    {'name':'또또또젤라또','count':'3가지맛', 'price':7000}\n",
    "]\n",
    "\n",
    "flavor_list = [\n",
    "    {'flavor':'달콤초코봄바람'},\n",
    "    {'flavor':'새콤달콤딸기정원'},\n",
    "    {'flavor':'요거트빛파도'},\n",
    "    {'flavor':'말차소풍'},\n",
    "    {'flavor':'체리팝송'},\n",
    "    {'flavor':'포도에몽'},\n",
    "    {'flavor':'바닐라하모니'},\n",
    "    {'flavor':'쿠키크러쉬'},\n",
    "    {'flavor':'소금바다우유'},\n",
    "    {'flavor':'블루베리썸머'},\n",
    "    {'flavor':'스윗피치'},\n",
    "    {'flavor':'레몬샤워'},\n",
    "]\n",
    "\n",
    "while True:\n",
    "    orders = []\n",
    "\n",
    "    while True:\n",
    "        # 메뉴 선택\n",
    "        print(\"=\"*45)\n",
    "        print(f'{store_name:^40}')\n",
    "        print(\"=\"*45)\n",
    "        print(\"어서오세요 아이스크림을 또 주는 또젤라또입니다\\n\")\n",
    "    \n",
    "        for i, menu in enumerate(menu_list):\n",
    "            print(f'{i + 1}. {menu[\"name\"]:<6} {menu[\"count\"]:>12} {menu[\"price\"]:>10,}원')\n",
    "        print(\"=\"*45)\n",
    "    \n",
    "        order_input = input('주문할 메뉴 번호를 입력해주세요: ').strip().lower()\n",
    "\n",
    "        if not order_input.isdigit() or not (1 <= int(order_input) <= len(menu_list)):\n",
    "            print(\"잘못된 입력입니다. 다시 시도해주세요.\\n\")\n",
    "            continue\n",
    "    \n",
    "        order_num = int(order_input) - 1\n",
    "        selected_menu = menu_list[order_num]\n",
    "        flavor_count = int(selected_menu['count'][0])\n",
    "        \n",
    "\n",
    "        # 맛 선택\n",
    "        while True:\n",
    "            print(f\"\\n'{selected_menu['name']}' 선택 — {flavor_count}가지 맛을 골라주세요\")\n",
    "\n",
    "            cols_per_row = 3\n",
    "            for i, fla in enumerate(flavor_list):\n",
    "                print(f\"{i+1}. {fla['flavor']:<10}\", end='')\n",
    "                if (i + 1) % cols_per_row == 0 or i == len(flavor_list) - 1:\n",
    "                    print() \n",
    "    \n",
    "            flavor_input = input(\"\\n맛 번호들을 입력하세요 (예: 1, 3, 5) / 0 입력시 메뉴 선택으로 돌아가기: \").strip()\n",
    "            if flavor_input == '0':\n",
    "                print(\"맛 선택을 취소하고 메뉴로 돌아갑니다.\\n\")\n",
    "                flavor_canceled = True\n",
    "                break\n",
    "    \n",
    "            parts = flavor_input.split(',')\n",
    "            flavor_nums = [int(p.strip()) - 1 for p in parts if p.strip().isdigit()]\n",
    "    \n",
    "            if len(flavor_nums) != flavor_count or any(i < 0 or i >= len(flavor_list) for i in flavor_nums):\n",
    "                print(f\"정확히 {flavor_count}가지 맛을 정확히 입력해주세요.\")\n",
    "                continue\n",
    "    \n",
    "            selected_flavors = [flavor_list[i]['flavor'] for i in flavor_nums]\n",
    "\n",
    "            # 주문 확인\n",
    "            print(\"\\n선택한 주문:\")\n",
    "            print(f\"메뉴: {selected_menu['name']}\")\n",
    "            for idx, name in enumerate(selected_flavors):\n",
    "                print(f\" - 맛 {idx+1}: {name}\")\n",
    "            print(f\"가격: {selected_menu['price']:,}원\")\n",
    "    \n",
    "            while True:\n",
    "                confirm = input(\"\\n이 주문을 장바구니에 추가할까요? (Y: 추가 / N: 취소): \").strip().lower()\n",
    "                \n",
    "                if confirm == 'y':\n",
    "                    orders.append({\n",
    "                        'menu_name': selected_menu['name'],\n",
    "                        'flavor_names': selected_flavors,\n",
    "                        'price': selected_menu['price']\n",
    "                    })\n",
    "                    print(\"주문이 장바구니에 추가되었습니다.\\n\")\n",
    "                    break  # 루프 탈출\n",
    "                \n",
    "                elif confirm == 'n':\n",
    "                    print(\"주문이 취소되었습니다.\\n\")\n",
    "                    break  # 루프 탈출\n",
    "                \n",
    "                else:\n",
    "                    print('!(Y/N)로 입력해주세요!')\n",
    "                    # 루프 계속 → 다시 입력 받기\n",
    "    \n",
    "            flavor_canceled = False  # 주문 성공 시 취소 아님\n",
    "            break  # 맛 선택 루프 탈출\n",
    "        \n",
    "        # 여기서 flavor_canceled 체크로 추가 주문 여부 생략 가능\n",
    "        if flavor_canceled:\n",
    "            continue\n",
    "        \n",
    "            while True:\n",
    "                another = input(\"추가 주문하시겠습니까? (Y/N): \").strip().lower()\n",
    "\n",
    "                if another == 'y':\n",
    "                    break\n",
    "\n",
    "                elif another == 'n':\n",
    "                    add_more = False\n",
    "                    break\n",
    "\n",
    "                else:\n",
    "                    print('!(Y/N)로 입력해주세요!')\n",
    "\n",
    "    # 주문 내역 확인 및 취소\n",
    "    while True:\n",
    "        print(\"\\n전체 주문 내역:\")\n",
    "        if not orders:\n",
    "            print(\"현재 주문이 없습니다.\")\n",
    "            break\n",
    "    \n",
    "        for i, order in enumerate(orders):\n",
    "            print(f\"{i+1}. {order['menu_name']} — {order['price']:,}원\")\n",
    "            for idx, name in enumerate(order['flavor_names']):\n",
    "                print(f\"   - 맛 {idx+1}: {name}\")\n",
    "    \n",
    "        cancel_q = input(\"\\n주문 내역 중 취소할 주문이 있습니까? (Y/N): \").strip().lower()\n",
    "        if cancel_q == 'n':\n",
    "            break\n",
    "        elif cancel_q != 'y':\n",
    "            print('!(Y/N)로 입력해주세요!')\n",
    "            continue\n",
    "    \n",
    "        del_input = input(\"취소할 주문 번호를 입력하세요 (0 입력시 완료): \").strip()\n",
    "        if del_input == '0':\n",
    "            break\n",
    "        if del_input.isdigit() and 1 <= int(del_input) <= len(orders):\n",
    "            del_index = int(del_input) - 1\n",
    "            removed = orders.pop(del_index)\n",
    "            print(f\"'{removed['menu_name']}' 주문이 삭제되었습니다.\")\n",
    "        else:\n",
    "            print(\"잘못된 번호입니다.\")\n",
    "\n",
    "    # 최종 결제\n",
    "    total_price = sum(order['price'] for order in orders)\n",
    "    print('\\n' + '='*45)\n",
    "    print(f\"총 결제 금액: {total_price:,}원\")\n",
    "\n",
    "    if total_price == 0:\n",
    "        print(\"남은 주문이 없습니다. 처음으로 돌아갑니다.\\n\")\n",
    "        continue\n",
    "\n",
    "    while True:\n",
    "        another = input('포인트 적립하시겠습니까? (Y/N): ').strip().lower()\n",
    "    \n",
    "        if another == 'y':\n",
    "            membership = input(\"전화번호를 입력해주세요: \")\n",
    "            saved_point = total_price // 100\n",
    "            existing_point = 250\n",
    "            total_point = existing_point + saved_point\n",
    "            print(f\"{saved_point}포인트 적립 완료 → 총 {total_point}포인트\")\n",
    "            break\n",
    "    \n",
    "        elif another == 'n':\n",
    "            membership = \"고객\"\n",
    "            break\n",
    "    \n",
    "        else:\n",
    "            print('!(Y/N)로 입력해주세요!')\n",
    "\n",
    "\n",
    "    print(f\"\\n{membership}님, 주문 감사합니다! 또 오세요.\")\n",
    "    print(\"=\"*45)"
   ]
  }
 ],
 "metadata": {
  "kernelspec": {
   "display_name": "Python 3 (ipykernel)",
   "language": "python",
   "name": "python3"
  },
  "language_info": {
   "codemirror_mode": {
    "name": "ipython",
    "version": 3
   },
   "file_extension": ".py",
   "mimetype": "text/x-python",
   "name": "python",
   "nbconvert_exporter": "python",
   "pygments_lexer": "ipython3",
   "version": "3.12.9"
  }
 },
 "nbformat": 4,
 "nbformat_minor": 5
}
