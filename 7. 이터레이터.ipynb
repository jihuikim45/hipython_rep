{
 "cells": [
  {
   "cell_type": "markdown",
   "id": "4b06d879-50a6-46b1-829f-bf12172f84a5",
   "metadata": {},
   "source": [
    "# Iterator, Generator"
   ]
  },
  {
   "cell_type": "markdown",
   "id": "396a3a3d-4d4a-4033-8035-6206b92c6886",
   "metadata": {},
   "source": [
    "- Iterable : for의 in에 나올 수 있는 객체의 유형\n",
    "- Iterator : iter(), enumerate(), for문에서 next() 직접 호출\n",
    "- Generator : 사용자 정의함수 중에서 yield 사용한 패턴 - 일시정지, 메모리 관점에서 효율이 높다. \n",
    "  "
   ]
  },
  {
   "cell_type": "code",
   "execution_count": 1,
   "id": "61e783e0-f62e-484e-a5dd-db182386a478",
   "metadata": {},
   "outputs": [
    {
     "data": {
      "text/plain": [
       "True"
      ]
     },
     "execution_count": 1,
     "metadata": {},
     "output_type": "execute_result"
    }
   ],
   "source": [
    "from collections.abc import Iterable\n",
    "\n",
    "isinstance('hello' , Iterable)"
   ]
  },
  {
   "cell_type": "code",
   "execution_count": 2,
   "id": "c61befc7-ecb4-4ab1-b2bb-baa02f657932",
   "metadata": {
    "collapsed": true,
    "jupyter": {
     "outputs_hidden": true
    }
   },
   "outputs": [
    {
     "data": {
      "text/plain": [
       "['__add__',\n",
       " '__class__',\n",
       " '__contains__',\n",
       " '__delattr__',\n",
       " '__dir__',\n",
       " '__doc__',\n",
       " '__eq__',\n",
       " '__format__',\n",
       " '__ge__',\n",
       " '__getattribute__',\n",
       " '__getitem__',\n",
       " '__getnewargs__',\n",
       " '__getstate__',\n",
       " '__gt__',\n",
       " '__hash__',\n",
       " '__init__',\n",
       " '__init_subclass__',\n",
       " '__iter__',\n",
       " '__le__',\n",
       " '__len__',\n",
       " '__lt__',\n",
       " '__mod__',\n",
       " '__mul__',\n",
       " '__ne__',\n",
       " '__new__',\n",
       " '__reduce__',\n",
       " '__reduce_ex__',\n",
       " '__repr__',\n",
       " '__rmod__',\n",
       " '__rmul__',\n",
       " '__setattr__',\n",
       " '__sizeof__',\n",
       " '__str__',\n",
       " '__subclasshook__',\n",
       " 'capitalize',\n",
       " 'casefold',\n",
       " 'center',\n",
       " 'count',\n",
       " 'encode',\n",
       " 'endswith',\n",
       " 'expandtabs',\n",
       " 'find',\n",
       " 'format',\n",
       " 'format_map',\n",
       " 'index',\n",
       " 'isalnum',\n",
       " 'isalpha',\n",
       " 'isascii',\n",
       " 'isdecimal',\n",
       " 'isdigit',\n",
       " 'isidentifier',\n",
       " 'islower',\n",
       " 'isnumeric',\n",
       " 'isprintable',\n",
       " 'isspace',\n",
       " 'istitle',\n",
       " 'isupper',\n",
       " 'join',\n",
       " 'ljust',\n",
       " 'lower',\n",
       " 'lstrip',\n",
       " 'maketrans',\n",
       " 'partition',\n",
       " 'removeprefix',\n",
       " 'removesuffix',\n",
       " 'replace',\n",
       " 'rfind',\n",
       " 'rindex',\n",
       " 'rjust',\n",
       " 'rpartition',\n",
       " 'rsplit',\n",
       " 'rstrip',\n",
       " 'split',\n",
       " 'splitlines',\n",
       " 'startswith',\n",
       " 'strip',\n",
       " 'swapcase',\n",
       " 'title',\n",
       " 'translate',\n",
       " 'upper',\n",
       " 'zfill']"
      ]
     },
     "execution_count": 2,
     "metadata": {},
     "output_type": "execute_result"
    }
   ],
   "source": [
    "itr_test_str = 'hello'\n",
    "dir(itr_test_str)"
   ]
  },
  {
   "cell_type": "code",
   "execution_count": 21,
   "id": "a5a227a6-9554-42f7-83d5-bccceec67ff2",
   "metadata": {},
   "outputs": [
    {
     "data": {
      "text/plain": [
       "['__class__',\n",
       " '__delattr__',\n",
       " '__dir__',\n",
       " '__doc__',\n",
       " '__eq__',\n",
       " '__format__',\n",
       " '__ge__',\n",
       " '__getattribute__',\n",
       " '__getstate__',\n",
       " '__gt__',\n",
       " '__hash__',\n",
       " '__init__',\n",
       " '__init_subclass__',\n",
       " '__iter__',\n",
       " '__le__',\n",
       " '__length_hint__',\n",
       " '__lt__',\n",
       " '__ne__',\n",
       " '__new__',\n",
       " '__next__',\n",
       " '__reduce__',\n",
       " '__reduce_ex__',\n",
       " '__repr__',\n",
       " '__setattr__',\n",
       " '__setstate__',\n",
       " '__sizeof__',\n",
       " '__str__',\n",
       " '__subclasshook__']"
      ]
     },
     "execution_count": 21,
     "metadata": {},
     "output_type": "execute_result"
    }
   ],
   "source": [
    "itr_obj = iter(itr_test_str)\n",
    "dir(itr_obj)"
   ]
  },
  {
   "cell_type": "code",
   "execution_count": 22,
   "id": "51e4f862-0600-4aa6-958d-f5dcc75fee07",
   "metadata": {},
   "outputs": [
    {
     "data": {
      "text/plain": [
       "'h'"
      ]
     },
     "execution_count": 22,
     "metadata": {},
     "output_type": "execute_result"
    }
   ],
   "source": [
    "itr_obj.__next__()"
   ]
  },
  {
   "cell_type": "code",
   "execution_count": 27,
   "id": "03bff0da-2eab-480a-a2c4-dc53508dcac6",
   "metadata": {},
   "outputs": [
    {
     "data": {
      "text/plain": [
       "['__class__',\n",
       " '__delattr__',\n",
       " '__dir__',\n",
       " '__doc__',\n",
       " '__eq__',\n",
       " '__format__',\n",
       " '__ge__',\n",
       " '__getattribute__',\n",
       " '__getstate__',\n",
       " '__gt__',\n",
       " '__hash__',\n",
       " '__init__',\n",
       " '__init_subclass__',\n",
       " '__iter__',\n",
       " '__le__',\n",
       " '__length_hint__',\n",
       " '__lt__',\n",
       " '__ne__',\n",
       " '__new__',\n",
       " '__next__',\n",
       " '__reduce__',\n",
       " '__reduce_ex__',\n",
       " '__repr__',\n",
       " '__setattr__',\n",
       " '__setstate__',\n",
       " '__sizeof__',\n",
       " '__str__',\n",
       " '__subclasshook__']"
      ]
     },
     "execution_count": 27,
     "metadata": {},
     "output_type": "execute_result"
    }
   ],
   "source": [
    "itr_test_list = [10, 20, 30]\n",
    "itr_obj1 = iter(itr_test_list)\n",
    "dir(itr_obj1)"
   ]
  },
  {
   "cell_type": "code",
   "execution_count": 28,
   "id": "2308b300-7879-4474-a3e8-c94f20b18d7c",
   "metadata": {},
   "outputs": [
    {
     "data": {
      "text/plain": [
       "10"
      ]
     },
     "execution_count": 28,
     "metadata": {},
     "output_type": "execute_result"
    }
   ],
   "source": [
    "itr_obj1.__next__()"
   ]
  },
  {
   "cell_type": "code",
   "execution_count": 16,
   "id": "7bc55288-d439-4fbb-8653-826cda44b30f",
   "metadata": {},
   "outputs": [
    {
     "ename": "SyntaxError",
     "evalue": "invalid syntax (1728344205.py, line 1)",
     "output_type": "error",
     "traceback": [
      "  \u001b[36mCell\u001b[39m\u001b[36m \u001b[39m\u001b[32mIn[16]\u001b[39m\u001b[32m, line 1\u001b[39m\n\u001b[31m    \u001b[39m\u001b[31mnext(itr_obj1.)\u001b[39m\n                  ^\n\u001b[31mSyntaxError\u001b[39m\u001b[31m:\u001b[39m invalid syntax\n"
     ]
    }
   ],
   "source": [
    "next(itr_obj1.)"
   ]
  },
  {
   "cell_type": "code",
   "execution_count": 25,
   "id": "1a54be83-5f4c-44e2-8b9e-94ffc6d57bd6",
   "metadata": {},
   "outputs": [
    {
     "name": "stdout",
     "output_type": "stream",
     "text": [
      "h\n",
      "e\n",
      "l\n",
      "l\n",
      "o\n"
     ]
    }
   ],
   "source": [
    "itr_obj1 = iter(itr_test_str)\n",
    "for i in itr_obj1:\n",
    "    print(i)"
   ]
  },
  {
   "cell_type": "code",
   "execution_count": 30,
   "id": "118894e1-32b5-4980-9a49-4e4328196f11",
   "metadata": {},
   "outputs": [
    {
     "name": "stdout",
     "output_type": "stream",
     "text": [
      "0 10\n",
      "1 20\n",
      "2 30\n"
     ]
    }
   ],
   "source": [
    "for i, item in enumerate(itr_test_list):\n",
    "    print(i, item)"
   ]
  },
  {
   "cell_type": "code",
   "execution_count": 33,
   "id": "a29e00a0-ccd9-4797-ba92-e0eb17a67d91",
   "metadata": {},
   "outputs": [
    {
     "name": "stdout",
     "output_type": "stream",
     "text": [
      "(0, 'h')\n",
      "(1, 'e')\n",
      "(2, 'l')\n",
      "(3, 'l')\n",
      "(4, 'o')\n"
     ]
    }
   ],
   "source": [
    "msg = 'hello'\n",
    "for i in enumerate(msg):\n",
    "    print(i)"
   ]
  },
  {
   "cell_type": "code",
   "execution_count": 35,
   "id": "18612712-7401-4e32-8d31-0b1d1499aaf9",
   "metadata": {},
   "outputs": [
    {
     "data": {
      "text/plain": [
       "<generator object gen_자판기 at 0x0000022778FD2FB0>"
      ]
     },
     "execution_count": 35,
     "metadata": {},
     "output_type": "execute_result"
    }
   ],
   "source": [
    "def gen_자판기():\n",
    "    yield '바나나1'\n",
    "    yield '바나나2'\n",
    "    yield '바나나3'\n",
    "\n",
    "gen_자판기()"
   ]
  },
  {
   "cell_type": "code",
   "execution_count": 37,
   "id": "44f479fc-3852-4f3a-95a7-2df3002c9f2c",
   "metadata": {},
   "outputs": [
    {
     "data": {
      "text/plain": [
       "'바나나1'"
      ]
     },
     "execution_count": 37,
     "metadata": {},
     "output_type": "execute_result"
    }
   ],
   "source": [
    "gen = gen_자판기()\n",
    "next(gen)"
   ]
  },
  {
   "cell_type": "code",
   "execution_count": 38,
   "id": "22f18b56-67e5-4a77-b893-411a2ec3eada",
   "metadata": {},
   "outputs": [
    {
     "data": {
      "text/plain": [
       "'바나나2'"
      ]
     },
     "execution_count": 38,
     "metadata": {},
     "output_type": "execute_result"
    }
   ],
   "source": [
    "next(gen)"
   ]
  },
  {
   "cell_type": "code",
   "execution_count": 39,
   "id": "bb2111eb-8f6b-4bc1-9f05-4bfea7c2b53d",
   "metadata": {},
   "outputs": [
    {
     "data": {
      "text/plain": [
       "'바나나3'"
      ]
     },
     "execution_count": 39,
     "metadata": {},
     "output_type": "execute_result"
    }
   ],
   "source": [
    "next(gen)"
   ]
  },
  {
   "cell_type": "code",
   "execution_count": 53,
   "id": "c201d55c-70c3-479b-9178-262e14ee5bfc",
   "metadata": {},
   "outputs": [],
   "source": [
    "def 제곱머신():\n",
    "    for x in range(10):\n",
    "        yield x**2\n",
    "\n",
    "g_m = 제곱머신()"
   ]
  },
  {
   "cell_type": "code",
   "execution_count": 54,
   "id": "182c4f17-49f9-4739-865f-03d046f918dc",
   "metadata": {},
   "outputs": [
    {
     "data": {
      "text/plain": [
       "0"
      ]
     },
     "execution_count": 54,
     "metadata": {},
     "output_type": "execute_result"
    }
   ],
   "source": [
    "next(g_m)"
   ]
  },
  {
   "cell_type": "code",
   "execution_count": 51,
   "id": "3a56e6c5-9001-4672-95f6-9b838f6c96f1",
   "metadata": {},
   "outputs": [
    {
     "name": "stdout",
     "output_type": "stream",
     "text": [
      "25\n",
      "36\n",
      "49\n",
      "64\n",
      "81\n"
     ]
    }
   ],
   "source": [
    "for n in g_m:\n",
    "    print(n)"
   ]
  },
  {
   "cell_type": "code",
   "execution_count": 56,
   "id": "f4d039e4-8713-4c87-be78-427fb47f66e8",
   "metadata": {},
   "outputs": [
    {
     "name": "stdout",
     "output_type": "stream",
     "text": [
      "0 : ['apple', 'banana', 'orange']\n",
      "1 : ['apple', 'banana', 'orange']\n",
      "2 : ['apple', 'banana', 'orange']\n"
     ]
    }
   ],
   "source": [
    "fruits = ['apple', 'banana', 'orange']\n",
    "for index , fruit in enumerate(fruits):\n",
    "    print(f'{index} : {fruits}')"
   ]
  },
  {
   "cell_type": "code",
   "execution_count": null,
   "id": "86df6c1c-21c5-4bb7-b014-cbe687ae3e65",
   "metadata": {},
   "outputs": [],
   "source": []
  },
  {
   "cell_type": "code",
   "execution_count": null,
   "id": "e7612ac0-0f81-4925-b838-b8417861d161",
   "metadata": {},
   "outputs": [],
   "source": []
  },
  {
   "cell_type": "code",
   "execution_count": null,
   "id": "85700113-14cd-430f-b4f5-5e6388d973ff",
   "metadata": {},
   "outputs": [],
   "source": []
  }
 ],
 "metadata": {
  "kernelspec": {
   "display_name": "Python 3 (ipykernel)",
   "language": "python",
   "name": "python3"
  },
  "language_info": {
   "codemirror_mode": {
    "name": "ipython",
    "version": 3
   },
   "file_extension": ".py",
   "mimetype": "text/x-python",
   "name": "python",
   "nbconvert_exporter": "python",
   "pygments_lexer": "ipython3",
   "version": "3.12.9"
  }
 },
 "nbformat": 4,
 "nbformat_minor": 5
}
