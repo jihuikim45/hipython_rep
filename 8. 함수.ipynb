{
 "cells": [
  {
   "cell_type": "markdown",
   "id": "d97546ae-194a-4440-a9d4-ab63c5ac7df8",
   "metadata": {},
   "source": [
    "# 함수\n",
    "\n",
    "-\n",
    "- 인자 = 매개변수, 입력, 파라미터\n",
    "- 반환갓 = 리턴값, 결과값\n",
    "- 함수이름 결정\n",
    "\n",
    "\n",
    "- 함수 정의 (def) > 호출\n",
    " "
   ]
  },
  {
   "cell_type": "code",
   "execution_count": 1,
   "id": "c3dc9b31-d2be-4232-8a3f-57be385be263",
   "metadata": {},
   "outputs": [],
   "source": [
    "# return이 없는 경우\n",
    "def my_func():\n",
    "    print('my first function')\n",
    "    print('hello')\n",
    "    print('good job')"
   ]
  },
  {
   "cell_type": "code",
   "execution_count": 2,
   "id": "e69765e9-7eb7-471c-a0f9-bcfc0baf64f3",
   "metadata": {},
   "outputs": [
    {
     "name": "stdout",
     "output_type": "stream",
     "text": [
      "my first function\n",
      "hello\n",
      "good job\n"
     ]
    }
   ],
   "source": [
    "#call\n",
    "my_func()"
   ]
  },
  {
   "cell_type": "code",
   "execution_count": 3,
   "id": "9ed3282e-814f-43d2-b701-dd29df0ba212",
   "metadata": {},
   "outputs": [
    {
     "data": {
      "text/plain": [
       "function"
      ]
     },
     "execution_count": 3,
     "metadata": {},
     "output_type": "execute_result"
    }
   ],
   "source": [
    "type(my_func)"
   ]
  },
  {
   "cell_type": "code",
   "execution_count": 4,
   "id": "18841647-8ea1-46a8-98b1-08ea65aced19",
   "metadata": {},
   "outputs": [
    {
     "name": "stdout",
     "output_type": "stream",
     "text": [
      "my first function\n",
      "hello\n",
      "good job\n"
     ]
    }
   ],
   "source": [
    "my_func_var = my_func()\n",
    "my_func_var"
   ]
  },
  {
   "cell_type": "code",
   "execution_count": 5,
   "id": "b2bc637a-5c30-4bef-9d0a-553adbca4930",
   "metadata": {},
   "outputs": [
    {
     "name": "stdout",
     "output_type": "stream",
     "text": [
      "None\n"
     ]
    }
   ],
   "source": [
    "print(my_func_var)"
   ]
  },
  {
   "cell_type": "code",
   "execution_count": 10,
   "id": "e12f6656-c6d8-4291-91c1-b8f04b81bc7f",
   "metadata": {},
   "outputs": [],
   "source": [
    "# return이 있는 경우\n",
    "def my_func1():\n",
    "    print('my first function')\n",
    "    print('hello')\n",
    "    print('good job')\n",
    "    return 'hello'"
   ]
  },
  {
   "cell_type": "code",
   "execution_count": 11,
   "id": "44f343ba-f1c7-41ab-b890-c62013be2962",
   "metadata": {},
   "outputs": [
    {
     "name": "stdout",
     "output_type": "stream",
     "text": [
      "my first function\n",
      "hello\n",
      "good job\n"
     ]
    },
    {
     "data": {
      "text/plain": [
       "'hello'"
      ]
     },
     "execution_count": 11,
     "metadata": {},
     "output_type": "execute_result"
    }
   ],
   "source": [
    "my_func1()"
   ]
  },
  {
   "cell_type": "code",
   "execution_count": 12,
   "id": "dd455f5e-a31a-4ea2-88dc-386740b10ac6",
   "metadata": {},
   "outputs": [
    {
     "name": "stdout",
     "output_type": "stream",
     "text": [
      "my first function\n",
      "hello\n",
      "good job\n"
     ]
    }
   ],
   "source": [
    "my_func_var2 = my_func1()\n"
   ]
  },
  {
   "cell_type": "code",
   "execution_count": 13,
   "id": "62b02814-bd59-4fb8-8566-ced4746c79cd",
   "metadata": {},
   "outputs": [
    {
     "data": {
      "text/plain": [
       "'hello'"
      ]
     },
     "execution_count": 13,
     "metadata": {},
     "output_type": "execute_result"
    }
   ],
   "source": [
    "my_func_var2"
   ]
  },
  {
   "cell_type": "markdown",
   "id": "e5feb3b8-f58e-4f12-9291-bab2c3e55beb",
   "metadata": {},
   "source": [
    "# 매개변수\n",
    "\n",
    "- 입력값이 있는 함수\n",
    "\n",
    "##  입력값의 타입 : 수치형 vs (리스트)객체형\n",
    "\n",
    "- 수치형: 값에 의한 전달 call by value\n",
    "- 객체형: 값(참조)의 전달 call by reference > 같은 객체를 다룬다."
   ]
  },
  {
   "cell_type": "code",
   "execution_count": 14,
   "id": "a0780e81-705d-4eba-936f-c875071a08e1",
   "metadata": {},
   "outputs": [],
   "source": [
    "def my_calc(x):\n",
    "    print(f'{x} 를 계산합니다.')"
   ]
  },
  {
   "cell_type": "code",
   "execution_count": 15,
   "id": "00576b41-2f07-479a-b6e1-02d6ff22b418",
   "metadata": {},
   "outputs": [
    {
     "name": "stdout",
     "output_type": "stream",
     "text": [
      "10 를 계산합니다.\n"
     ]
    }
   ],
   "source": [
    "my_calc(10)"
   ]
  },
  {
   "cell_type": "code",
   "execution_count": 17,
   "id": "75b511ae-4304-4aa0-b159-0f1f593d018e",
   "metadata": {},
   "outputs": [],
   "source": [
    "def my_calc(x):\n",
    "    print(f'{x} 를 계산합니다.')\n",
    "    z = x*20\n",
    "    return z"
   ]
  },
  {
   "cell_type": "code",
   "execution_count": 19,
   "id": "1a7f61fa-e494-4bb5-b28b-edc0e87a6800",
   "metadata": {},
   "outputs": [
    {
     "name": "stdout",
     "output_type": "stream",
     "text": [
      "10 를 계산합니다.\n",
      "200\n"
     ]
    }
   ],
   "source": [
    "result = my_calc(10)\n",
    "print(result)"
   ]
  },
  {
   "cell_type": "code",
   "execution_count": 49,
   "id": "029e78b0-e2e7-484e-b5a8-2ae2f314d598",
   "metadata": {},
   "outputs": [],
   "source": [
    "def my_calc2(x,y):\n",
    "    print(f'{x}와 {y} 를 계산합니다.')\n",
    "    add_result = x + y\n",
    "    mul_result = x * y\n",
    "    return add_result, mul_result"
   ]
  },
  {
   "cell_type": "code",
   "execution_count": 50,
   "id": "0109a47a-461c-42cc-bd08-9bc14f3ad102",
   "metadata": {},
   "outputs": [
    {
     "name": "stdout",
     "output_type": "stream",
     "text": [
      "10와 20 를 계산합니다.\n"
     ]
    },
    {
     "data": {
      "text/plain": [
       "(30, 200)"
      ]
     },
     "execution_count": 50,
     "metadata": {},
     "output_type": "execute_result"
    }
   ],
   "source": [
    "my_calc2(10, 20)"
   ]
  },
  {
   "cell_type": "code",
   "execution_count": 51,
   "id": "9208db8b-8a21-419d-bf7b-02957c623d89",
   "metadata": {},
   "outputs": [
    {
     "name": "stdout",
     "output_type": "stream",
     "text": [
      "10와 20 를 계산합니다.\n"
     ]
    },
    {
     "data": {
      "text/plain": [
       "30"
      ]
     },
     "execution_count": 51,
     "metadata": {},
     "output_type": "execute_result"
    }
   ],
   "source": [
    "func_result1, f2 = my_calc2(10, 20)\n",
    "func_result1"
   ]
  },
  {
   "cell_type": "code",
   "execution_count": 48,
   "id": "d0fab683-d8dd-47c8-ad13-22f34206da1c",
   "metadata": {},
   "outputs": [
    {
     "data": {
      "text/plain": [
       "200"
      ]
     },
     "execution_count": 48,
     "metadata": {},
     "output_type": "execute_result"
    }
   ],
   "source": [
    "f2"
   ]
  },
  {
   "cell_type": "code",
   "execution_count": 35,
   "id": "a213e341-39bf-4736-a966-c1494aedb305",
   "metadata": {},
   "outputs": [],
   "source": [
    "# 리스트 매개변수의 실행\n",
    "\n",
    "def my_calc3(a, lst1):\n",
    "    a += 1\n",
    "    lst1.append(a)\n",
    "    return a"
   ]
  },
  {
   "cell_type": "code",
   "execution_count": 39,
   "id": "ae07e240-19c4-4cf6-b4d9-e9ba42d78aab",
   "metadata": {},
   "outputs": [
    {
     "name": "stdout",
     "output_type": "stream",
     "text": [
      "before : 10, [1, 2, '12']\n",
      "after: 10, [1, 2, '12', 11]\n"
     ]
    }
   ],
   "source": [
    "num = 10\n",
    "lst_num = [1, 2, '12']\n",
    "print(f'before : {num}, {lst_num}')\n",
    "\n",
    "my_calc3(num, lst_num)\n",
    "print(f'after: {num}, {lst_num}')"
   ]
  },
  {
   "cell_type": "code",
   "execution_count": 40,
   "id": "e2e554c6-0189-4ed0-87ef-315c09f0b49b",
   "metadata": {},
   "outputs": [
    {
     "ename": "TypeError",
     "evalue": "'int' object is not iterable",
     "output_type": "error",
     "traceback": [
      "\u001b[31m---------------------------------------------------------------------------\u001b[39m",
      "\u001b[31mTypeError\u001b[39m                                 Traceback (most recent call last)",
      "\u001b[36mCell\u001b[39m\u001b[36m \u001b[39m\u001b[32mIn[40]\u001b[39m\u001b[32m, line 1\u001b[39m\n\u001b[32m----> \u001b[39m\u001b[32m1\u001b[39m my_calc3(lst_num, num)\n",
      "\u001b[36mCell\u001b[39m\u001b[36m \u001b[39m\u001b[32mIn[35]\u001b[39m\u001b[32m, line 4\u001b[39m, in \u001b[36mmy_calc3\u001b[39m\u001b[34m(a, lst1)\u001b[39m\n\u001b[32m      3\u001b[39m \u001b[38;5;28;01mdef\u001b[39;00m\u001b[38;5;250m \u001b[39m\u001b[34mmy_calc3\u001b[39m(a, lst1):\n\u001b[32m----> \u001b[39m\u001b[32m4\u001b[39m     a += \u001b[32m1\u001b[39m\n\u001b[32m      5\u001b[39m     lst1.append(a)\n\u001b[32m      6\u001b[39m     \u001b[38;5;28;01mreturn\u001b[39;00m a\n",
      "\u001b[31mTypeError\u001b[39m: 'int' object is not iterable"
     ]
    }
   ],
   "source": [
    "my_calc3(lst_num, num)"
   ]
  },
  {
   "cell_type": "code",
   "execution_count": 43,
   "id": "22f108c5-8b58-4975-976e-6b60e826576f",
   "metadata": {},
   "outputs": [
    {
     "data": {
      "text/plain": [
       "11"
      ]
     },
     "execution_count": 43,
     "metadata": {},
     "output_type": "execute_result"
    }
   ],
   "source": [
    "my_calc3(a=num, lst1=lst_num)"
   ]
  },
  {
   "cell_type": "code",
   "execution_count": 44,
   "id": "1c32d1c9-6cf0-4a29-af3a-e2c096109322",
   "metadata": {},
   "outputs": [
    {
     "data": {
      "text/plain": [
       "11"
      ]
     },
     "execution_count": 44,
     "metadata": {},
     "output_type": "execute_result"
    }
   ],
   "source": [
    "my_calc3(lst1=lst_num, a=num)"
   ]
  },
  {
   "cell_type": "markdown",
   "id": "98340db7-ba1f-4014-9987-7fadb6aa81c0",
   "metadata": {},
   "source": [
    "- 키워드 매개변수 : 함수의 매개변수 목록은 변수명이 매개변수 명이다.  \n",
    "매개변수명을 이용한 호출은 매개변수의 순서와 무관하다."
   ]
  },
  {
   "cell_type": "code",
   "execution_count": 57,
   "id": "2713dd07-7d1c-4cc5-ba10-e7d8e3f53396",
   "metadata": {},
   "outputs": [
    {
     "name": "stdout",
     "output_type": "stream",
     "text": [
      "hello, , minsu님!\n"
     ]
    }
   ],
   "source": [
    "#기본값, 기본인자\n",
    "\n",
    "def greeting(name, greeting=hello):\n",
    "    print(f'{greeting}, {name}님!')\n",
    "\n",
    "greeting('minsu' , 'hello, ')\n"
   ]
  },
  {
   "cell_type": "code",
   "execution_count": 58,
   "id": "f2b27f61-bc4e-4586-89b4-e13a9caf98e3",
   "metadata": {},
   "outputs": [
    {
     "name": "stdout",
     "output_type": "stream",
     "text": [
      "hi, alice님!\n"
     ]
    }
   ],
   "source": [
    "greeting('alice', 'hi')"
   ]
  },
  {
   "cell_type": "code",
   "execution_count": 60,
   "id": "d9d6fa25-f6a4-4709-b452-cb602a68d28c",
   "metadata": {},
   "outputs": [],
   "source": [
    "# 가변인자(가변매개변수)\n",
    "def sum_all(*args):             #값, 변수의 목록 (리스트 ❌)\n",
    "    return sum(args)"
   ]
  },
  {
   "cell_type": "code",
   "execution_count": 61,
   "id": "d22f7254-388b-435b-a2b2-b82f535e5e85",
   "metadata": {},
   "outputs": [
    {
     "data": {
      "text/plain": [
       "15"
      ]
     },
     "execution_count": 61,
     "metadata": {},
     "output_type": "execute_result"
    }
   ],
   "source": [
    "sum_all(1, 2, 3, 4, 5)"
   ]
  },
  {
   "cell_type": "code",
   "execution_count": 67,
   "id": "d219a090-34e1-4d77-b0bc-a69c184bea58",
   "metadata": {},
   "outputs": [],
   "source": [
    "def sum_all(arg1, arg2, *args):\n",
    "    print(args)                 # 타입 출력 모양 확인 : 튜플\n",
    "    result = arg1 + arg2 + sum(args)\n",
    "    return result"
   ]
  },
  {
   "cell_type": "code",
   "execution_count": 68,
   "id": "3df220f1-37da-4b80-afed-f01869ac6ca4",
   "metadata": {},
   "outputs": [
    {
     "name": "stdout",
     "output_type": "stream",
     "text": [
      "(3, 4, 5)\n"
     ]
    },
    {
     "data": {
      "text/plain": [
       "15"
      ]
     },
     "execution_count": 68,
     "metadata": {},
     "output_type": "execute_result"
    }
   ],
   "source": [
    "sum_all(1, 2, 3, 4, 5)"
   ]
  },
  {
   "cell_type": "markdown",
   "id": "881c7ade-e799-4c92-a7e3-f84fbf080f72",
   "metadata": {},
   "source": [
    "## 매개변수의 순서가 중요\n",
    "\n"
   ]
  },
  {
   "cell_type": "code",
   "execution_count": 69,
   "id": "5057906b-cb17-4ac6-a291-76f1042cde8a",
   "metadata": {},
   "outputs": [],
   "source": [
    "## **kwargs\n",
    "def print_info(**kwards):\n",
    "    for k , v in kwards.items():\n",
    "        print(f'{k}, {v}')"
   ]
  },
  {
   "cell_type": "code",
   "execution_count": 71,
   "id": "af978b2d-d72e-4439-9072-44a070658231",
   "metadata": {},
   "outputs": [
    {
     "name": "stdout",
     "output_type": "stream",
     "text": [
      "name, hong\n",
      "age, 20\n",
      "city, seoul\n",
      "food, chicken\n"
     ]
    }
   ],
   "source": [
    "print_info(name = 'hong', age = 20, city = 'seoul' , food = 'chicken')"
   ]
  },
  {
   "cell_type": "markdown",
   "id": "a38d3076-007d-4d07-a536-a27f1ac06e92",
   "metadata": {},
   "source": [
    "# 요일 구하는 함수 정의\n",
    "- 입력 : year, month, day\n",
    "- 출력 : '월요일'\n",
    "- 함수명 : 요일찾기()"
   ]
  },
  {
   "cell_type": "code",
   "execution_count": 116,
   "id": "f16caf35-93f8-4a59-9fc1-63ec4e782e61",
   "metadata": {},
   "outputs": [],
   "source": [
    "year=2025\n",
    "month = 6\n",
    "day = 12"
   ]
  },
  {
   "cell_type": "code",
   "execution_count": 117,
   "id": "195fe259-17f5-4600-ab7a-d88cfc86afd0",
   "metadata": {},
   "outputs": [
    {
     "name": "stdout",
     "output_type": "stream",
     "text": [
      "739251\n",
      "739402\n",
      "739414\n",
      "목요일\n"
     ]
    }
   ],
   "source": [
    "# 날짜 - 연,월,일  year=2025 month=06, day=05\n",
    "\n",
    "total_days = 0\n",
    "#년도일수 입력년도-1 * 365\n",
    "#윤년인지 체크\n",
    "#2월이 29일\n",
    "\n",
    "for i in range(1,year):\n",
    "    #윤년: 400으로 나누어 나머지가 0, 4로 나누어 나머지가 0\n",
    "    #평년: 100으로 나누어 나머지가 0\n",
    "\n",
    "    if i%400 == 0:\n",
    "        total_days += 366\n",
    "    elif i%100 == 0:\n",
    "        total_days += 365\n",
    "    elif i%4 == 0:\n",
    "        total_days += 366\n",
    "    else:\n",
    "        total_days += 365\n",
    "\n",
    "print(total_days)\n",
    "#월일수 입력한 월 -1 * 30\n",
    "#월별 일수\n",
    "month_days = [0,31,28,31,30,31,30,31,31,30,31,30,31]\n",
    "for m in range(1,month):\n",
    "    total_days += month_days[m]\n",
    "\n",
    "#올해가 윤년인지\n",
    "if month>=3 :\n",
    "    if year%400 == 0:\n",
    "        total_days += 1\n",
    "    elif year%100 == 0:\n",
    "        total_days += 0\n",
    "    elif year%4 == 0:\n",
    "        total_days += 1\n",
    "    else:\n",
    "        total_days += 0\n",
    "        \n",
    "print(total_days)\n",
    "\n",
    "#일수 입력한 일\n",
    "total_days += day\n",
    "\n",
    "print(total_days)\n",
    "\n",
    "#요일정하기\n",
    "remain_days = total_days % 7\n",
    "\n",
    "if remain_days == 1:\n",
    "    print('월요일')\n",
    "elif remain_days == 2:\n",
    "    print('화요일')\n",
    "elif remain_days == 3:\n",
    "    print('수요일')\n",
    "elif remain_days == 4:\n",
    "    print('목요일')\n",
    "elif remain_days == 5:\n",
    "    print('금요일')\n",
    "elif remain_days == 6:\n",
    "    print('토요일')\n",
    "else:\n",
    "    print('일요일')"
   ]
  },
  {
   "cell_type": "code",
   "execution_count": 118,
   "id": "1d821c3a-b44f-4b59-b0de-b5a3f410d22d",
   "metadata": {},
   "outputs": [],
   "source": [
    "def 윤년체크(year):\n",
    "    #윤년: 400으로 나누어 나머지가 0, 4로 나누어 나머지가 0\n",
    "    #평년: 100으로 나누어 나머지가 0\n",
    "   \n",
    "    if year%400 == 0:\n",
    "        return True\n",
    "    elif year%100 == 0:\n",
    "        return False\n",
    "    elif year%4 == 0:\n",
    "        return True\n",
    "    else:\n",
    "        return False\n",
    "    "
   ]
  },
  {
   "cell_type": "code",
   "execution_count": 119,
   "id": "dcf43c2b-4518-41c9-87a1-5737bb7fb319",
   "metadata": {},
   "outputs": [
    {
     "data": {
      "text/plain": [
       "True"
      ]
     },
     "execution_count": 119,
     "metadata": {},
     "output_type": "execute_result"
    }
   ],
   "source": [
    "윤년체크(2028)"
   ]
  },
  {
   "cell_type": "code",
   "execution_count": 120,
   "id": "64761a07-88f5-4d07-8077-2e2178a18f52",
   "metadata": {},
   "outputs": [],
   "source": [
    "def 요일찾기(year, month, day):\n",
    "    week_day_name = '일요일'\n",
    "    total_days = 0\n",
    "    \n",
    "    for i in range(1,year):\n",
    "\n",
    "        if 윤년체크(i):\n",
    "            total_days += 366\n",
    "        else :\n",
    "            total_days += 365\n",
    "        \n",
    "    #print(total_days)\n",
    "    \n",
    "    #월일수 입력한 월 -1 * 30\n",
    "    #월별 일수\n",
    "    month_days = [0,31,28,31,30,31,30,31,31,30,31,30,31]\n",
    "    for m in range(1,month):\n",
    "        total_days += month_days[m]\n",
    "    \n",
    "    #올해가 윤년인지\n",
    "    if month>=3 :\n",
    "        if 윤년체크(year):\n",
    "            total_days += 1\n",
    "            \n",
    "    #print(total_days)\n",
    "    \n",
    "    #일수 입력한 일\n",
    "    total_days += day\n",
    "    \n",
    "    #print(total_days)\n",
    "    \n",
    "    #요일정하기\n",
    "    remain_days = total_days % 7\n",
    "    \n",
    "    day_names = ['일요일','월요일','화요일','수요일','목요일','금요일','토요일']\n",
    "    week_day_name = day_names[remain_days]\n",
    "    \n",
    "        \n",
    "    return week_day_name"
   ]
  },
  {
   "cell_type": "code",
   "execution_count": 121,
   "id": "4ca0c5e8-e628-451e-a357-6336315c1c9d",
   "metadata": {},
   "outputs": [
    {
     "name": "stdout",
     "output_type": "stream",
     "text": [
      "입력하신 날짜는 수요일입니다.\n"
     ]
    }
   ],
   "source": [
    "year=2025\n",
    "month=6\n",
    "day=4\n",
    "\n",
    "day_name = 요일찾기(year, month, day)\n",
    "print(f'입력하신 날짜는 {day_name}입니다.')"
   ]
  },
  {
   "cell_type": "code",
   "execution_count": 122,
   "id": "a90ecda3-838f-449b-a886-5cc2fb8a6309",
   "metadata": {},
   "outputs": [
    {
     "data": {
      "text/plain": [
       "3"
      ]
     },
     "execution_count": 122,
     "metadata": {},
     "output_type": "execute_result"
    }
   ],
   "source": [
    "import datetime\n",
    "today = datetime.date(2025,6,5)\n",
    "#type(today)\n",
    "#dir(today)\n",
    "today.weekday()"
   ]
  },
  {
   "cell_type": "code",
   "execution_count": 123,
   "id": "7eb5f2e4-14b9-46c2-83ad-8a30fefa9d0f",
   "metadata": {},
   "outputs": [],
   "source": [
    "year=2025\n",
    "month = 6\n",
    "day = 12"
   ]
  },
  {
   "cell_type": "code",
   "execution_count": 108,
   "id": "c3309f27-82ea-44f7-b925-d694f4c158ad",
   "metadata": {},
   "outputs": [],
   "source": [
    "def 요일찾기(year, month, day):\n",
    "    # 1. 1년 1월 1일부터 year-1년까지의 전체 일수\n",
    "    total_days = 0\n",
    "    for y in range(1, year):\n",
    "        total_days += 366 if 윤년체크(y) else 365\n",
    "\n",
    "    # 2. 해당 연도의 1월부터 month-1월까지의 일수\n",
    "    month_days = [0, 31, 28, 31, 30, 31, 30, 31, 31, 30, 31, 30, 31]\n",
    "    for m in range(1, month):\n",
    "        total_days += month_days[m]\n",
    "    \n",
    "    # 3. 윤년일 경우, 3월 이후라면 하루 추가\n",
    "    if month > 2 and 윤년체크(year):\n",
    "        total_days += 1\n",
    "\n",
    "    # 4. 해당 월의 day만큼 추가\n",
    "    total_days += day\n",
    "\n",
    "    # 5. 요일 구하기\n",
    "    remain_days = total_days % 7\n",
    "    day_names = ['일요일', '월요일', '화요일', '수요일', '목요일', '금요일', '토요일']\n",
    "    요일 = day_names[remain_days]\n",
    "\n",
    "    # 👉 여기서 출력도 하고\n",
    "    print(f\"{year}년 {month}월 {day}일은 {요일}입니다.\")\n",
    "\n",
    "    # 👉 요일값도 return함\n",
    "    return 요일\n"
   ]
  },
  {
   "cell_type": "markdown",
   "id": "19c580a3-97c5-44a3-aa2c-c50337856ca2",
   "metadata": {},
   "source": [
    "# 성적처리 시스템\n",
    "\n",
    "- calc_total()\n",
    "- cal_average()\n",
    "- cal_order()\n",
    "\n",
    "- print_student(students): 전학생의 성적을 출력\n",
    "- print_class() : 반평균, 각 과목별 출력"
   ]
  },
  {
   "cell_type": "code",
   "execution_count": 194,
   "id": "e1b410bb-ca3c-4ad9-a00d-22214e9eca05",
   "metadata": {},
   "outputs": [],
   "source": [
    "students = [\n",
    "               {'num':'1','name':'김철수','kor':90,'eng':80,'math':85,'total':0,'avg':0.0,'order':0 },\n",
    "               {'num':'2','name':'박제동','kor':90,'eng':85,'math':90,'total':0,'avg':0.0,'order':0 },\n",
    "               {'num':'3','name':'홍길동','kor':80,'eng':80,'math':80,'total':0,'avg':0.0,'order':0 }\n",
    "           ]"
   ]
  },
  {
   "cell_type": "code",
   "execution_count": 203,
   "id": "b7ad9d43-d5ba-4c6b-affc-7ae254275f79",
   "metadata": {},
   "outputs": [],
   "source": [
    "def calc_total(stus):\n",
    "    for s in stus:\n",
    "        s['total'] = s['kor'] + s['eng'] + s['math']"
   ]
  },
  {
   "cell_type": "code",
   "execution_count": 204,
   "id": "44d63872-85f8-4e38-badc-b315abdd36b6",
   "metadata": {},
   "outputs": [],
   "source": [
    "def calc_average(stus):\n",
    "    for s in stus:\n",
    "        s['avg'] = (s['kor'] + s['eng'] + s['math']) /3"
   ]
  },
  {
   "cell_type": "code",
   "execution_count": 211,
   "id": "1fbc6de3-17bb-470e-a1d4-d970b5bd94c5",
   "metadata": {},
   "outputs": [],
   "source": [
    " def calc_order(stus):\n",
    "    \n",
    "    for student in stus:\n",
    "        rank = 1\n",
    "        for other in stus:\n",
    "            if other['total'] > student['total']:  \n",
    "             rank += 1\n",
    "        student['order'] = rank\n",
    "        "
   ]
  },
  {
   "cell_type": "code",
   "execution_count": 212,
   "id": "08405ed1-0426-4cde-97f6-3e3848033f65",
   "metadata": {
    "scrolled": true
   },
   "outputs": [
    {
     "data": {
      "text/plain": [
       "[{'num': '1',\n",
       "  'name': '김철수',\n",
       "  'kor': 90,\n",
       "  'eng': 80,\n",
       "  'math': 85,\n",
       "  'total': 255,\n",
       "  'avg': 85.0,\n",
       "  'order': 0},\n",
       " {'num': '2',\n",
       "  'name': '박제동',\n",
       "  'kor': 90,\n",
       "  'eng': 85,\n",
       "  'math': 90,\n",
       "  'total': 265,\n",
       "  'avg': 88.33333333333333,\n",
       "  'order': 0},\n",
       " {'num': '3',\n",
       "  'name': '홍길동',\n",
       "  'kor': 80,\n",
       "  'eng': 80,\n",
       "  'math': 80,\n",
       "  'total': 240,\n",
       "  'avg': 80.0,\n",
       "  'order': 0}]"
      ]
     },
     "execution_count": 212,
     "metadata": {},
     "output_type": "execute_result"
    }
   ],
   "source": [
    "calc_total(students)\n",
    "students"
   ]
  },
  {
   "cell_type": "code",
   "execution_count": 213,
   "id": "66a78899-1bf4-44b0-b0eb-dce83e97b564",
   "metadata": {},
   "outputs": [
    {
     "name": "stdout",
     "output_type": "stream",
     "text": [
      "반 평균 및 과목별 평균\n",
      "국어평균 : 86.67\n",
      "영어평균 : 81.67\n",
      "수학평균 : 85.00\n",
      "반 평균 : 84.44\n"
     ]
    }
   ],
   "source": [
    "\n",
    "\n",
    "def print_class():\n",
    "    total_kor = 0\n",
    "    total_eng = 0\n",
    "    total_math = 0\n",
    "    total_total = 0\n",
    "    count = len(students)\n",
    "\n",
    "\n",
    "    for stu in students:\n",
    "        stu['total'] = stu['kor'] + stu['eng'] + stu['math']\n",
    "        stu['avg'] = stu['total'] /3\n",
    "    \n",
    "        total_kor += stu['kor']\n",
    "        total_eng += stu['eng']\n",
    "        total_math += stu['math']\n",
    "        total_total += stu['avg']\n",
    "    \n",
    "    avg_kor = total_kor / count\n",
    "    avg_eng = total_eng / count\n",
    "    avg_math = total_math / count\n",
    "    class_avg = total_total / count\n",
    "    \n",
    "    \n",
    "    print(\"반 평균 및 과목별 평균\")\n",
    "    print(f\"국어평균 : {avg_kor:.2f}\")\n",
    "    print(f\"영어평균 : {avg_eng:.2f}\")\n",
    "    print(f\"수학평균 : {avg_math:.2f}\")\n",
    "    print(f\"반 평균 : {class_avg:.2f}\")\n",
    "\n",
    "print_class()"
   ]
  },
  {
   "cell_type": "code",
   "execution_count": 214,
   "id": "2d97129d-c0b6-4b94-a5bb-2e7c46e552c5",
   "metadata": {},
   "outputs": [],
   "source": [
    "def print_student(stus):\n",
    "    for s in stus:\n",
    "        print(f'이름: {s['name']} 국어: {s['kor']} 영어: {s['eng']} 수학: {s['math']} 등수: { s['order']}')"
   ]
  },
  {
   "cell_type": "code",
   "execution_count": 228,
   "id": "e69761d9-7525-46f1-95b8-231ff2f7e622",
   "metadata": {},
   "outputs": [],
   "source": [
    "def print_class(stus):\n",
    "    #반평균\n",
    "    class_avg =0\n",
    "    kor_avg =0\n",
    "    eng_avg = 0\n",
    "    math_avg = 0\n",
    "    #각 과목별 평균 출력\n",
    "    print(f'반평균: {class_avg} 국어: {kor_avg} 영어: {eng_avg} 수학: {math_avg}')"
   ]
  },
  {
   "cell_type": "code",
   "execution_count": 229,
   "id": "219beb97-a717-4694-93fb-bf0490ac8988",
   "metadata": {},
   "outputs": [
    {
     "name": "stdout",
     "output_type": "stream",
     "text": [
      "이름: 김철수 국어: 90 영어: 80 수학: 85 등수: 2\n",
      "이름: 박제동 국어: 90 영어: 85 수학: 90 등수: 1\n",
      "이름: 홍길동 국어: 80 영어: 80 수학: 80 등수: 3\n",
      "반평균: 0 국어: 0 영어: 0 수학: 0\n"
     ]
    }
   ],
   "source": [
    "calc_total(students)\n",
    "calc_average(students)\n",
    "calc_order(students)\n",
    "print_student(students)\n",
    "print_class(students)"
   ]
  },
  {
   "cell_type": "code",
   "execution_count": null,
   "id": "e19227c5-8ee5-4e83-914a-be07063fe120",
   "metadata": {},
   "outputs": [],
   "source": [
    "#람다 함수\n",
    "\n",
    "#선언\n",
    "lambda <매개변수> : code\n",
    "\n",
    "#호출\n",
    "(lambda <매개변수> : code) (매개변수값)\n"
   ]
  },
  {
   "cell_type": "code",
   "execution_count": 1,
   "id": "7c483ae5-d1f3-4d6f-b88b-c296c3a0f5e3",
   "metadata": {},
   "outputs": [],
   "source": [
    "def aaa(a):\n",
    "    result = a+1\n",
    "    return result"
   ]
  },
  {
   "cell_type": "code",
   "execution_count": 2,
   "id": "5c176e18-4fed-41df-b9ab-126ee90dc503",
   "metadata": {},
   "outputs": [
    {
     "data": {
      "text/plain": [
       "<function __main__.<lambda>(a)>"
      ]
     },
     "execution_count": 2,
     "metadata": {},
     "output_type": "execute_result"
    }
   ],
   "source": [
    "lambda a : a+1"
   ]
  },
  {
   "cell_type": "code",
   "execution_count": 3,
   "id": "2a4081c1-b45b-472d-8e5b-139c33721732",
   "metadata": {},
   "outputs": [
    {
     "data": {
      "text/plain": [
       "3"
      ]
     },
     "execution_count": 3,
     "metadata": {},
     "output_type": "execute_result"
    }
   ],
   "source": [
    "#람다의 정의 즉시 호출\n",
    "(lambda a : a+1)(2) "
   ]
  },
  {
   "cell_type": "code",
   "execution_count": 4,
   "id": "d58e3f1a-da6f-4b8b-8216-308d5a3b21b6",
   "metadata": {},
   "outputs": [
    {
     "data": {
      "text/plain": [
       "4"
      ]
     },
     "execution_count": 4,
     "metadata": {},
     "output_type": "execute_result"
    }
   ],
   "source": [
    "#람다의 재정의\n",
    "my_lambda  = lambda a : a+1   \n",
    "my_lambda(3)"
   ]
  },
  {
   "cell_type": "code",
   "execution_count": 5,
   "id": "7c898c7b-2e52-4731-9479-e82b0ec7cfdb",
   "metadata": {},
   "outputs": [
    {
     "data": {
      "text/plain": [
       "5"
      ]
     },
     "execution_count": 5,
     "metadata": {},
     "output_type": "execute_result"
    }
   ],
   "source": [
    "def sum1(a,b):\n",
    "    return a+b\n",
    "sum1(2,3)"
   ]
  },
  {
   "cell_type": "code",
   "execution_count": 6,
   "id": "9146a481-4165-403b-9711-f1720fc3b9c2",
   "metadata": {},
   "outputs": [
    {
     "data": {
      "text/plain": [
       "5"
      ]
     },
     "execution_count": 6,
     "metadata": {},
     "output_type": "execute_result"
    }
   ],
   "source": [
    "(lambda a,b : a+b)(2,3)"
   ]
  },
  {
   "cell_type": "code",
   "execution_count": 7,
   "id": "e179bd67-a520-4ba2-91c7-6f948c54ad9f",
   "metadata": {},
   "outputs": [
    {
     "data": {
      "text/plain": [
       "5"
      ]
     },
     "execution_count": 7,
     "metadata": {},
     "output_type": "execute_result"
    }
   ],
   "source": [
    "lambda1 = lambda a,b : a+b\n",
    "lambda1(2,3)"
   ]
  },
  {
   "cell_type": "code",
   "execution_count": 9,
   "id": "0b7ddbef-9fa7-4e2c-8489-786ec77ace9c",
   "metadata": {},
   "outputs": [],
   "source": [
    "# 람다는 기존 함수의 매개변수로 활용한다.\n",
    "def calc_func(a,b, opr_func):\n",
    "    result = opr_func(a,b)\n",
    "    return result"
   ]
  },
  {
   "cell_type": "code",
   "execution_count": 13,
   "id": "71cd3302-0b2b-42f5-aa57-86e04af1afe4",
   "metadata": {},
   "outputs": [
    {
     "data": {
      "text/plain": [
       "3"
      ]
     },
     "execution_count": 13,
     "metadata": {},
     "output_type": "execute_result"
    }
   ],
   "source": [
    "#사칙연산\n",
    "calc_func(1,2, lambda x,y: x+y)"
   ]
  },
  {
   "cell_type": "code",
   "execution_count": 18,
   "id": "cfd14371-3834-4de3-acb1-0a7b66123e2c",
   "metadata": {},
   "outputs": [
    {
     "data": {
      "text/plain": [
       "['APPLE', 'BANANA', 'CHERRY']"
      ]
     },
     "execution_count": 18,
     "metadata": {},
     "output_type": "execute_result"
    }
   ],
   "source": [
    "#map 함수\n",
    "fruits = ['apple', 'banana', 'cherry']\n",
    "#fruits[0].upper()\n",
    "list(map(str.upper, fruits))"
   ]
  },
  {
   "cell_type": "code",
   "execution_count": 19,
   "id": "16e4eb04-6482-4951-b164-9f184ae724ad",
   "metadata": {},
   "outputs": [
    {
     "data": {
      "text/plain": [
       "['1', '2', '3', '4', '5']"
      ]
     },
     "execution_count": 19,
     "metadata": {},
     "output_type": "execute_result"
    }
   ],
   "source": [
    "str_number = '12345'\n",
    "list(str_number) #문자열리스트"
   ]
  },
  {
   "cell_type": "code",
   "execution_count": 22,
   "id": "e9a3d883-649e-449b-9497-27afb82e66ba",
   "metadata": {},
   "outputs": [
    {
     "data": {
      "text/plain": [
       "[1, 2, 3, 4, 5]"
      ]
     },
     "execution_count": 22,
     "metadata": {},
     "output_type": "execute_result"
    }
   ],
   "source": [
    "str_number = '12345'\n",
    "list(map(int, str_number))"
   ]
  },
  {
   "cell_type": "code",
   "execution_count": 30,
   "id": "b50eb2ba-f135-4cae-9e76-9f24cc39dfce",
   "metadata": {},
   "outputs": [
    {
     "data": {
      "text/plain": [
       "[1, 4, 9, 16, 25]"
      ]
     },
     "execution_count": 30,
     "metadata": {},
     "output_type": "execute_result"
    }
   ],
   "source": [
    "# 꺼낸 값을 2배\n",
    "\n",
    "numbers = list(map(int, str_number))\n",
    "list(map(lambda x : x**2, numbers))"
   ]
  },
  {
   "cell_type": "code",
   "execution_count": 31,
   "id": "2bca7dd9-d103-456e-82b3-7fdea1b59732",
   "metadata": {},
   "outputs": [
    {
     "data": {
      "text/plain": [
       "[5, 7, 9]"
      ]
     },
     "execution_count": 31,
     "metadata": {},
     "output_type": "execute_result"
    }
   ],
   "source": [
    "kor_score = [1,2,3]\n",
    "eng_score = [4,5,6]\n",
    "\n",
    "list(map(lambda x,y : x+y , kor_score, eng_score))"
   ]
  },
  {
   "cell_type": "code",
   "execution_count": 1,
   "id": "3e52a4ea-dc09-487e-963e-3591a34fc916",
   "metadata": {},
   "outputs": [
    {
     "data": {
      "text/plain": [
       "[12, 15, 18]"
      ]
     },
     "execution_count": 1,
     "metadata": {},
     "output_type": "execute_result"
    }
   ],
   "source": [
    "kor_score = [1,2,3]\n",
    "eng_score = [4,5,6]\n",
    "math_score = [7,8,9]\n",
    "\n",
    "total = list(map(lambda x,y,z : x+y+z, kor_score, eng_score, math_score))\n",
    "total"
   ]
  },
  {
   "cell_type": "code",
   "execution_count": 4,
   "id": "3d9a4b35-4117-4b61-a448-e7548142ed5c",
   "metadata": {},
   "outputs": [
    {
     "name": "stdout",
     "output_type": "stream",
     "text": [
      "평균: 15.0\n",
      "최소: 12\n",
      "최대: 18\n"
     ]
    }
   ],
   "source": [
    "avg = sum(total) / len(total)\n",
    "min_score = min(total)\n",
    "max_score = max(total)\n",
    "\n",
    "print(f\"평균: {avg}\")\n",
    "print(f\"최소: {min_score}\")\n",
    "print(f\"최대: {max_score}\")\n"
   ]
  },
  {
   "cell_type": "code",
   "execution_count": 49,
   "id": "bbd8fe82-a045-432c-aa71-b027139f7676",
   "metadata": {},
   "outputs": [
    {
     "data": {
      "text/plain": [
       "[12, 15, 18]"
      ]
     },
     "execution_count": 49,
     "metadata": {},
     "output_type": "execute_result"
    }
   ],
   "source": [
    "list(map(lambda s : sum(s), zip(kor_score, eng_score, math_score)))"
   ]
  },
  {
   "cell_type": "code",
   "execution_count": 6,
   "id": "3f11c127-3ab2-4197-b30d-8fd58ebf3194",
   "metadata": {},
   "outputs": [
    {
     "data": {
      "text/plain": [
       "[1, 2, 3]"
      ]
     },
     "execution_count": 6,
     "metadata": {},
     "output_type": "execute_result"
    }
   ],
   "source": [
    "list(map(lambda s : min(s), zip(kor_score, eng_score, math_score)))"
   ]
  },
  {
   "cell_type": "code",
   "execution_count": 7,
   "id": "d6f0edbd-7ca3-4723-b442-279314bf607e",
   "metadata": {},
   "outputs": [
    {
     "data": {
      "text/plain": [
       "[7, 8, 9]"
      ]
     },
     "execution_count": 7,
     "metadata": {},
     "output_type": "execute_result"
    }
   ],
   "source": [
    "list(map(lambda s : max(s), zip(kor_score, eng_score, math_score)))"
   ]
  },
  {
   "cell_type": "code",
   "execution_count": 10,
   "id": "2fada7d7-2aa3-4e43-b97c-92e1dfbd3f58",
   "metadata": {},
   "outputs": [
    {
     "data": {
      "text/plain": [
       "[4.0, 5.0, 6.0]"
      ]
     },
     "execution_count": 10,
     "metadata": {},
     "output_type": "execute_result"
    }
   ],
   "source": [
    "list(map(lambda s : sum(s) / len(s), zip(kor_score, eng_score, math_score)))"
   ]
  }
 ],
 "metadata": {
  "kernelspec": {
   "display_name": "Python 3 (ipykernel)",
   "language": "python",
   "name": "python3"
  },
  "language_info": {
   "codemirror_mode": {
    "name": "ipython",
    "version": 3
   },
   "file_extension": ".py",
   "mimetype": "text/x-python",
   "name": "python",
   "nbconvert_exporter": "python",
   "pygments_lexer": "ipython3",
   "version": "3.12.9"
  }
 },
 "nbformat": 4,
 "nbformat_minor": 5
}
