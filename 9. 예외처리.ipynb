{
 "cells": [
  {
   "cell_type": "markdown",
   "id": "fde60293-0a1e-4cdc-bd8c-d96cb8090944",
   "metadata": {},
   "source": [
    "# 예외의 종류\n",
    "\n",
    "1. 문법오류: SyntaxError, NameError, TypeError\n",
    "2. 논리오류\n",
    "3. 예외상황"
   ]
  },
  {
   "cell_type": "code",
   "execution_count": 2,
   "id": "0541f2cc-f5ab-4e43-a1e6-6f3a430f4152",
   "metadata": {},
   "outputs": [
    {
     "ename": "SyntaxError",
     "evalue": "expected ':' (508021833.py, line 1)",
     "output_type": "error",
     "traceback": [
      "  \u001b[36mCell\u001b[39m\u001b[36m \u001b[39m\u001b[32mIn[2]\u001b[39m\u001b[32m, line 1\u001b[39m\n\u001b[31m    \u001b[39m\u001b[31mwhile True\u001b[39m\n              ^\n\u001b[31mSyntaxError\u001b[39m\u001b[31m:\u001b[39m expected ':'\n"
     ]
    }
   ],
   "source": [
    "# 문법오류\n",
    "while True\n",
    "print('hello')"
   ]
  },
  {
   "cell_type": "code",
   "execution_count": 4,
   "id": "e38bdba3-f4c7-468d-9643-bb57c8709af2",
   "metadata": {},
   "outputs": [
    {
     "ename": "NameError",
     "evalue": "name 'am' is not defined",
     "output_type": "error",
     "traceback": [
      "\u001b[31m---------------------------------------------------------------------------\u001b[39m",
      "\u001b[31mNameError\u001b[39m                                 Traceback (most recent call last)",
      "\u001b[36mCell\u001b[39m\u001b[36m \u001b[39m\u001b[32mIn[4]\u001b[39m\u001b[32m, line 1\u001b[39m\n\u001b[32m----> \u001b[39m\u001b[32m1\u001b[39m \u001b[32m4\u001b[39m + \u001b[32m2\u001b[39m*am\n",
      "\u001b[31mNameError\u001b[39m: name 'am' is not defined"
     ]
    }
   ],
   "source": [
    "4 + 2*am"
   ]
  },
  {
   "cell_type": "code",
   "execution_count": 2,
   "id": "fd46ccc6-84db-493b-935d-17a2f7b1d778",
   "metadata": {},
   "outputs": [
    {
     "ename": "TypeError",
     "evalue": "unsupported operand type(s) for +: 'int' and 'str'",
     "output_type": "error",
     "traceback": [
      "\u001b[31m---------------------------------------------------------------------------\u001b[39m",
      "\u001b[31mTypeError\u001b[39m                                 Traceback (most recent call last)",
      "\u001b[36mCell\u001b[39m\u001b[36m \u001b[39m\u001b[32mIn[2]\u001b[39m\u001b[32m, line 1\u001b[39m\n\u001b[32m----> \u001b[39m\u001b[32m1\u001b[39m \u001b[32m2\u001b[39m + \u001b[33m'\u001b[39m\u001b[33m2\u001b[39m\u001b[33m'\u001b[39m\n",
      "\u001b[31mTypeError\u001b[39m: unsupported operand type(s) for +: 'int' and 'str'"
     ]
    }
   ],
   "source": [
    "2 + '2'"
   ]
  },
  {
   "cell_type": "markdown",
   "id": "29169871-6c10-481b-9b01-a98e3d89abf0",
   "metadata": {},
   "source": [
    "# try :\n",
    "\n",
    "except"
   ]
  },
  {
   "cell_type": "code",
   "execution_count": null,
   "id": "2c0e267e-5af1-49ea-baa2-d82fcd8e2169",
   "metadata": {},
   "outputs": [],
   "source": [
    "# 10/0 #ZeroDivisionError"
   ]
  },
  {
   "cell_type": "code",
   "execution_count": 3,
   "id": "229e68e9-055d-4f3d-aafc-0e1cc49c6378",
   "metadata": {},
   "outputs": [],
   "source": [
    "def divide(m,n):\n",
    "    return m/n\n"
   ]
  },
  {
   "cell_type": "code",
   "execution_count": 4,
   "id": "f4726806-01b9-480e-b995-5e96964bf057",
   "metadata": {},
   "outputs": [
    {
     "data": {
      "text/plain": [
       "1.5"
      ]
     },
     "execution_count": 4,
     "metadata": {},
     "output_type": "execute_result"
    }
   ],
   "source": [
    "result = divide(3,2)\n",
    "result"
   ]
  },
  {
   "cell_type": "code",
   "execution_count": 5,
   "id": "83ac2d53-b1d8-4349-a7c6-87d95e59d1f2",
   "metadata": {},
   "outputs": [
    {
     "ename": "ZeroDivisionError",
     "evalue": "division by zero",
     "output_type": "error",
     "traceback": [
      "\u001b[31m---------------------------------------------------------------------------\u001b[39m",
      "\u001b[31mZeroDivisionError\u001b[39m                         Traceback (most recent call last)",
      "\u001b[36mCell\u001b[39m\u001b[36m \u001b[39m\u001b[32mIn[5]\u001b[39m\u001b[32m, line 1\u001b[39m\n\u001b[32m----> \u001b[39m\u001b[32m1\u001b[39m result = divide(\u001b[32m3\u001b[39m,\u001b[32m0\u001b[39m)\n\u001b[32m      2\u001b[39m result\n",
      "\u001b[36mCell\u001b[39m\u001b[36m \u001b[39m\u001b[32mIn[3]\u001b[39m\u001b[32m, line 2\u001b[39m, in \u001b[36mdivide\u001b[39m\u001b[34m(m, n)\u001b[39m\n\u001b[32m      1\u001b[39m \u001b[38;5;28;01mdef\u001b[39;00m\u001b[38;5;250m \u001b[39m\u001b[34mdivide\u001b[39m(m,n):\n\u001b[32m----> \u001b[39m\u001b[32m2\u001b[39m     \u001b[38;5;28;01mreturn\u001b[39;00m m/n\n",
      "\u001b[31mZeroDivisionError\u001b[39m: division by zero"
     ]
    }
   ],
   "source": [
    "result = divide(3,0)\n",
    "result"
   ]
  },
  {
   "cell_type": "code",
   "execution_count": 28,
   "id": "02fdac80-46df-4de6-8b41-d0348d03aa82",
   "metadata": {},
   "outputs": [],
   "source": [
    "def divide(m,n):\n",
    "    try: \n",
    "        result = m/n\n",
    "        \n",
    "        return result\n",
    "    except (ValueError, ZeroDivisionError):\n",
    "        print('❌ 0으로 나눌 수 없습니다.')\n",
    "        return None\n",
    "    except : # 나머지 모든 에러 받기\n",
    "        print('다른 에러가 발생했습니다.')\n",
    "        return None\n",
    "\n",
    "    finally:\n",
    "        print(\"항상 실행되는 코드입니다.\")"
   ]
  },
  {
   "cell_type": "code",
   "execution_count": 29,
   "id": "9818b193-cd86-4114-b94a-926b9946ae6a",
   "metadata": {},
   "outputs": [
    {
     "name": "stdout",
     "output_type": "stream",
     "text": [
      "❌ 0으로 나눌 수 없습니다.\n",
      "항상 실행되는 코드입니다.\n"
     ]
    }
   ],
   "source": [
    "result = divide(3,0)\n",
    "result"
   ]
  },
  {
   "cell_type": "code",
   "execution_count": 30,
   "id": "a08b97e2-27cd-40bc-b69f-2a77a4293dbd",
   "metadata": {},
   "outputs": [
    {
     "name": "stdout",
     "output_type": "stream",
     "text": [
      "다른 에러가 발생했습니다.\n",
      "항상 실행되는 코드입니다.\n"
     ]
    }
   ],
   "source": [
    "divide(None, 0)"
   ]
  },
  {
   "cell_type": "code",
   "execution_count": 31,
   "id": "a690aaff-c450-4e2b-b0bb-d5ad6578f6f5",
   "metadata": {},
   "outputs": [
    {
     "name": "stdout",
     "output_type": "stream",
     "text": [
      "정수로 변환할 수 없습니다.\n"
     ]
    }
   ],
   "source": [
    "try:\n",
    "    n = int(\"abc\")\n",
    "except ValueError:\n",
    "    print(\"정수로 변환할 수 없습니다.\")\n"
   ]
  },
  {
   "cell_type": "markdown",
   "id": "1fd12b0f-98ba-4de1-a210-384d1f214c9e",
   "metadata": {},
   "source": [
    "# 예외 발생시키기"
   ]
  },
  {
   "cell_type": "code",
   "execution_count": 33,
   "id": "253126ef-c0c4-4ce3-a142-e2827b30d9e4",
   "metadata": {},
   "outputs": [
    {
     "ename": "TypeError",
     "evalue": "입력값 오류",
     "output_type": "error",
     "traceback": [
      "\u001b[31m---------------------------------------------------------------------------\u001b[39m",
      "\u001b[31mTypeError\u001b[39m                                 Traceback (most recent call last)",
      "\u001b[36mCell\u001b[39m\u001b[36m \u001b[39m\u001b[32mIn[33]\u001b[39m\u001b[32m, line 1\u001b[39m\n\u001b[32m----> \u001b[39m\u001b[32m1\u001b[39m \u001b[38;5;28;01mraise\u001b[39;00m \u001b[38;5;167;01mTypeError\u001b[39;00m(\u001b[33m'\u001b[39m\u001b[33m입력값 오류\u001b[39m\u001b[33m'\u001b[39m)\n",
      "\u001b[31mTypeError\u001b[39m: 입력값 오류"
     ]
    }
   ],
   "source": [
    "raise TypeError('입력값 오류')"
   ]
  },
  {
   "cell_type": "code",
   "execution_count": 34,
   "id": "dd367bbe-ecf8-4224-9f87-79851641a5fb",
   "metadata": {},
   "outputs": [
    {
     "name": "stdout",
     "output_type": "stream",
     "text": [
      "('입력값 오류',)\n"
     ]
    }
   ],
   "source": [
    "try:\n",
    "    raise TypeError('입력값 오류')\n",
    "except TypeError as e : \n",
    "    print(e.args)"
   ]
  },
  {
   "cell_type": "markdown",
   "id": "6afab039-872a-45d1-8c94-eb3cd8e260da",
   "metadata": {},
   "source": [
    "# 내가 정의하는 예외\n",
    "\n",
    "1. 예외 클래스 작성 : 각 예외상황에 맞는 메시지를 작성\n",
    "2. 호출할 때 try : except 로 받아줍니다."
   ]
  },
  {
   "cell_type": "code",
   "execution_count": 41,
   "id": "18197463-ba81-4251-a634-a8637fd41813",
   "metadata": {},
   "outputs": [],
   "source": [
    "class AgeException(Exception):\n",
    "    def init(self, msg):\n",
    "        self._message = msg\n",
    "\n",
    "def input_age():\n",
    "    age = int(input('나이를 입력하세요 : '))\n",
    "\n",
    "    if age < 0 :\n",
    "        raise AgeException('나이는 양수입니다.')\n",
    "    elif age > 150:\n",
    "        raise AgeException('150세 이상??')\n",
    "    else :\n",
    "        return age"
   ]
  },
  {
   "cell_type": "code",
   "execution_count": null,
   "id": "872a5bff-aace-4415-ac0c-773075378302",
   "metadata": {},
   "outputs": [],
   "source": [
    "input_age()"
   ]
  },
  {
   "cell_type": "code",
   "execution_count": 42,
   "id": "3e1d02c0-97e8-4c0e-9227-c93ed3ab0fae",
   "metadata": {},
   "outputs": [
    {
     "name": "stdin",
     "output_type": "stream",
     "text": [
      "나이를 입력하세요 :  20\n"
     ]
    },
    {
     "name": "stdout",
     "output_type": "stream",
     "text": [
      "입력하신 나이는 20 입니다. \n"
     ]
    }
   ],
   "source": [
    "try:\n",
    "    age = input_age()\n",
    "except AgeException as e:\n",
    "    print(e.args[0])\n",
    "\n",
    "else:\n",
    "    print(f'입력하신 나이는 {age} 입니다. ')"
   ]
  },
  {
   "cell_type": "code",
   "execution_count": null,
   "id": "077b0a44-26ba-40a0-a297-9b14c57ae66a",
   "metadata": {},
   "outputs": [],
   "source": []
  },
  {
   "cell_type": "code",
   "execution_count": null,
   "id": "203a9e89-a57b-4a99-bedb-06d4f2da539a",
   "metadata": {},
   "outputs": [],
   "source": [
    "\n"
   ]
  },
  {
   "cell_type": "code",
   "execution_count": null,
   "id": "f2b33b43-851e-4c00-b994-99278ab78bab",
   "metadata": {},
   "outputs": [],
   "source": []
  },
  {
   "cell_type": "code",
   "execution_count": null,
   "id": "718e5dc2-8c89-43f5-b1e7-ee54fb11d05b",
   "metadata": {},
   "outputs": [],
   "source": []
  },
  {
   "cell_type": "code",
   "execution_count": null,
   "id": "0cf01f67-d66c-45fb-ae43-210261d9894b",
   "metadata": {},
   "outputs": [],
   "source": []
  }
 ],
 "metadata": {
  "kernelspec": {
   "display_name": "Python 3 (ipykernel)",
   "language": "python",
   "name": "python3"
  },
  "language_info": {
   "codemirror_mode": {
    "name": "ipython",
    "version": 3
   },
   "file_extension": ".py",
   "mimetype": "text/x-python",
   "name": "python",
   "nbconvert_exporter": "python",
   "pygments_lexer": "ipython3",
   "version": "3.12.9"
  }
 },
 "nbformat": 4,
 "nbformat_minor": 5
}
