{
 "cells": [
  {
   "cell_type": "code",
   "execution_count": 1,
   "id": "f3ff2db6-9b10-4e18-8a32-49ef207189d6",
   "metadata": {},
   "outputs": [
    {
     "name": "stdout",
     "output_type": "stream",
     "text": [
      "Requirement already satisfied: pandas in c:\\users\\lenovo\\miniconda3\\envs\\hipython\\lib\\site-packages (2.3.0)\n",
      "Collecting mysql-connector-python\n",
      "  Downloading mysql_connector_python-9.3.0-cp312-cp312-win_amd64.whl.metadata (7.7 kB)\n",
      "Requirement already satisfied: numpy>=1.26.0 in c:\\users\\lenovo\\miniconda3\\envs\\hipython\\lib\\site-packages (from pandas) (2.3.0)\n",
      "Requirement already satisfied: python-dateutil>=2.8.2 in c:\\users\\lenovo\\miniconda3\\envs\\hipython\\lib\\site-packages (from pandas) (2.9.0.post0)\n",
      "Requirement already satisfied: pytz>=2020.1 in c:\\users\\lenovo\\miniconda3\\envs\\hipython\\lib\\site-packages (from pandas) (2025.2)\n",
      "Requirement already satisfied: tzdata>=2022.7 in c:\\users\\lenovo\\miniconda3\\envs\\hipython\\lib\\site-packages (from pandas) (2025.2)\n",
      "Requirement already satisfied: six>=1.5 in c:\\users\\lenovo\\miniconda3\\envs\\hipython\\lib\\site-packages (from python-dateutil>=2.8.2->pandas) (1.17.0)\n",
      "Downloading mysql_connector_python-9.3.0-cp312-cp312-win_amd64.whl (16.4 MB)\n",
      "   ---------------------------------------- 0.0/16.4 MB ? eta -:--:--\n",
      "   --------- ------------------------------ 3.9/16.4 MB 29.4 MB/s eta 0:00:01\n",
      "   ----------------- ---------------------- 7.3/16.4 MB 20.6 MB/s eta 0:00:01\n",
      "   ------------------------------ --------- 12.6/16.4 MB 24.6 MB/s eta 0:00:01\n",
      "   ------------------------------- -------- 12.8/16.4 MB 18.7 MB/s eta 0:00:01\n",
      "   ---------------------------------------- 16.4/16.4 MB 16.9 MB/s eta 0:00:00\n",
      "Installing collected packages: mysql-connector-python\n",
      "Successfully installed mysql-connector-python-9.3.0\n"
     ]
    }
   ],
   "source": [
    "!pip install pandas mysql-connector-python\n"
   ]
  },
  {
   "cell_type": "code",
   "execution_count": 3,
   "id": "e3e201d5-9dbb-4ba1-8674-17ed678eed88",
   "metadata": {},
   "outputs": [],
   "source": [
    "import pandas as pd\n",
    "import mysql.connector\n",
    "\n",
    "# 1. MySQL 연결\n",
    "conn = mysql.connector.connect(\n",
    "    host=\"localhost\",\n",
    "    user=\"root\",\n",
    "    password=\"Qpswutm45!\",\n",
    "    database=\"분석실습\"\n",
    ")\n",
    "cursor = conn.cursor()"
   ]
  },
  {
   "cell_type": "code",
   "execution_count": 6,
   "id": "837ea8d7-e6a4-4a35-95a8-3ae5b88fd576",
   "metadata": {},
   "outputs": [
    {
     "data": {
      "text/plain": [
       "(5369, 8)"
      ]
     },
     "execution_count": 6,
     "metadata": {},
     "output_type": "execute_result"
    }
   ],
   "source": [
    "# 2. 파일에서 데이터프레임으로 읽기 (탭 구분자라고 가정)\n",
    "df_customer = pd.read_csv(\"../data_migration/customer.txt\", sep=\"\\t\", dtype=str,  encoding='cp949')\n",
    "df_customer.shape\n",
    "#(5369, 8)"
   ]
  },
  {
   "cell_type": "code",
   "execution_count": 9,
   "id": "d84894a8-439e-4ab2-ad30-e7355eecdd34",
   "metadata": {},
   "outputs": [
    {
     "data": {
      "text/plain": [
       "(541909, 8)"
      ]
     },
     "execution_count": 9,
     "metadata": {},
     "output_type": "execute_result"
    }
   ],
   "source": [
    "df_sales = pd.read_csv(\"../data_migration/sales.txt\", sep=\"\\t\", dtype=str,  encoding='cp949')\n",
    "df_sales.shape\n",
    "#(541909, 8)"
   ]
  },
  {
   "cell_type": "code",
   "execution_count": 10,
   "id": "728bac67-4708-4a22-807f-76b22b53f332",
   "metadata": {},
   "outputs": [
    {
     "name": "stdout",
     "output_type": "stream",
     "text": [
      "총 5369건 삽입 완료\n"
     ]
    }
   ],
   "source": [
    "# 3. CUSTOMER INSERT\n",
    "for row in df_customer.itertuples(index=False, name=None):\n",
    "    cursor.execute(\"\"\"\n",
    "        INSERT INTO CUSTOMER (mem_no, last_name, first_name, gd, birth_dt, entr_dt, grade, sign_up_ch)\n",
    "        VALUES (%s, %s, %s, %s, %s, %s, %s, %s)\n",
    "    \"\"\", row)\n",
    "    \n",
    "conn.commit()  # 변경사항 저장\n",
    "\n",
    "cursor.execute(\"SELECT COUNT(*) FROM CUSTOMER\")\n",
    "print(f\"총 {cursor.fetchone()[0]}건 삽입 완료\")"
   ]
  },
  {
   "cell_type": "code",
   "execution_count": 11,
   "id": "b26985fe-896c-4bca-8d0d-0c6c7388dcc6",
   "metadata": {},
   "outputs": [
    {
     "data": {
      "text/plain": [
       "InvoiceNo      0\n",
       "StockCode      0\n",
       "Description    0\n",
       "Quantity       0\n",
       "InvoiceDate    0\n",
       "UnitPrice      0\n",
       "CustomerID     0\n",
       "Country        0\n",
       "dtype: int64"
      ]
     },
     "execution_count": 11,
     "metadata": {},
     "output_type": "execute_result"
    }
   ],
   "source": [
    "# 4. SALES 데이터전처리\n",
    "df_sales = df_sales.dropna(subset=[\"CustomerID\"])\n",
    "df_sales[\"CustomerID\"] = df_sales[\"CustomerID\"].astype(int)\n",
    "\n",
    "# 날짜 및 숫자 변환\n",
    "df_sales[\"Quantity\"] = df_sales[\"Quantity\"].astype(int)\n",
    "df_sales[\"UnitPrice\"] = df_sales[\"UnitPrice\"].astype(float)\n",
    "df_sales[\"CustomerID\"] = df_sales[\"CustomerID\"].astype(int)\n",
    "\n",
    "# DATETIME 변환\n",
    "df_sales[\"InvoiceDate\"] = pd.to_datetime(df_sales[\"InvoiceDate\"], errors='coerce')\n",
    "df_sales[\"InvoiceDate\"] = df_sales[\"InvoiceDate\"].dt.strftime('%Y-%m-%d %H:%M:%S')\n",
    "df_sales.isna().sum()"
   ]
  },
  {
   "cell_type": "code",
   "execution_count": 12,
   "id": "bf6d6dd2-67cb-41c0-a1e7-679cfdb9742b",
   "metadata": {},
   "outputs": [
    {
     "name": "stdout",
     "output_type": "stream",
     "text": [
      "총 406829건 삽입 완료\n"
     ]
    }
   ],
   "source": [
    "# 5. SALES INSERT\n",
    "df_sales = df_sales.astype(object)\n",
    "rows = [tuple(x) for x in df_sales.to_records(index=False)]\n",
    "cursor.executemany(\"\"\"\n",
    "    INSERT INTO SALES (InvoiceNo, StockCode, Description, Quantity, InvoiceDate, UnitPrice, CustomerID, Country)\n",
    "    VALUES (%s, %s, %s, %s, %s, %s, %s, %s)\n",
    "\"\"\", rows)\n",
    "\n",
    "conn.commit()\n",
    "\n",
    "cursor.execute(\"SELECT COUNT(*) FROM SALES\")\n",
    "print(f\"총 {cursor.fetchone()[0]}건 삽입 완료\")"
   ]
  },
  {
   "cell_type": "code",
   "execution_count": 13,
   "id": "9521c91e-5ef6-46cb-88f8-44c12b97fe1b",
   "metadata": {},
   "outputs": [
    {
     "name": "stdout",
     "output_type": "stream",
     "text": [
      "데이터 삽입 완료\n"
     ]
    }
   ],
   "source": [
    "# 6. 종료\n",
    "cursor.close()\n",
    "conn.close()\n",
    "print(\"데이터 삽입 완료\")\n"
   ]
  }
 ],
 "metadata": {
  "kernelspec": {
   "display_name": "Python 3 (ipykernel)",
   "language": "python",
   "name": "python3"
  },
  "language_info": {
   "codemirror_mode": {
    "name": "ipython",
    "version": 3
   },
   "file_extension": ".py",
   "mimetype": "text/x-python",
   "name": "python",
   "nbconvert_exporter": "python",
   "pygments_lexer": "ipython3",
   "version": "3.12.9"
  }
 },
 "nbformat": 4,
 "nbformat_minor": 5
}
