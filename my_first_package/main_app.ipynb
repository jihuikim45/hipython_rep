{
 "cells": [
  {
   "cell_type": "code",
   "execution_count": 1,
   "id": "d0dede43-d718-4eb0-bfad-70493943129a",
   "metadata": {},
   "outputs": [
    {
     "name": "stdout",
     "output_type": "stream",
     "text": [
      "magic calc loaded\n",
      "15\n"
     ]
    }
   ],
   "source": [
    "#방법1\n",
    "import magic_calc\n",
    "\n",
    "\n",
    "result_add = magic_calc.basic_ops.add(10,5)\n",
    "print(result_add)"
   ]
  },
  {
   "cell_type": "code",
   "execution_count": 2,
   "id": "1aec53ed-9a9f-4306-8ef1-81df198d5620",
   "metadata": {},
   "outputs": [
    {
     "data": {
      "text/plain": [
       "56"
      ]
     },
     "execution_count": 2,
     "metadata": {},
     "output_type": "execute_result"
    }
   ],
   "source": [
    "import magic_calc.advanced_ops as adops\n",
    "adops.magic_multiply(7,8)"
   ]
  },
  {
   "cell_type": "code",
   "execution_count": 3,
   "id": "1a59a4f4-d2bd-4806-b4e4-e41a5c5f4c56",
   "metadata": {},
   "outputs": [
    {
     "name": "stdout",
     "output_type": "stream",
     "text": [
      "70\n"
     ]
    }
   ],
   "source": [
    "#방법2\n",
    "from magic_calc import basic_ops, advanced_ops\n",
    "result_sub = basic_ops.subtract(100, 30)\n",
    "print(result_sub)"
   ]
  },
  {
   "cell_type": "code",
   "execution_count": 6,
   "id": "36942497-3ace-4b59-8f78-6c5ec3434677",
   "metadata": {},
   "outputs": [
    {
     "name": "stdout",
     "output_type": "stream",
     "text": [
      "45\n"
     ]
    }
   ],
   "source": [
    "#방법2\n",
    "from magic_calc import basic_ops, advanced_ops\n",
    "result_sub = basic_ops.subtract(90, 45)\n",
    "print(result_sub)"
   ]
  },
  {
   "cell_type": "code",
   "execution_count": 7,
   "id": "fc09099b-1300-43d8-9c5f-b6285c2de110",
   "metadata": {},
   "outputs": [
    {
     "name": "stdout",
     "output_type": "stream",
     "text": [
      "\n",
      "--- 방법3: multiply, divide, power 직접 사용 ---\n",
      "10 * 20 = 200\n"
     ]
    }
   ],
   "source": [
    "#방법 3\n",
    "from magic_calc.basic_ops import multiply, divide\n",
    "from magic_calc.advanced_ops import power\n",
    "\n",
    "print(\"\\n--- 방법3: multiply, divide, power 직접 사용 ---\")\n",
    "result_mul = multiply(10, 20)\n",
    "print(f\"10 * 20 = {result_mul}\")"
   ]
  },
  {
   "cell_type": "code",
   "execution_count": 8,
   "id": "b49dc5e9-5174-49fb-bb8e-9e4d96a2156c",
   "metadata": {},
   "outputs": [
    {
     "name": "stdout",
     "output_type": "stream",
     "text": [
      "\n",
      "--- 방법 3: multiply, divide, power 직접 사용 ---\n",
      "7 * 8 = 56\n"
     ]
    }
   ],
   "source": [
    "# 방법 3: 패키지 내 모듈에서 특정 함수 직접 임포트\n",
    "from magic_calc.basic_ops import multiply, divide\n",
    "from magic_calc.advanced_ops import power\n",
    "\n",
    "print(\"\\n--- 방법 3: multiply, divide, power 직접 사용 ---\")\n",
    "result_mul = multiply(7, 8)\n",
    "print(f\"7 * 8 = {result_mul}\")"
   ]
  },
  {
   "cell_type": "code",
   "execution_count": null,
   "id": "9c208117-8c23-42ed-bd04-93201e7c38cb",
   "metadata": {},
   "outputs": [],
   "source": []
  },
  {
   "cell_type": "code",
   "execution_count": null,
   "id": "d271d6e9-189e-4c9a-a87a-25f9ff0cf407",
   "metadata": {},
   "outputs": [],
   "source": []
  }
 ],
 "metadata": {
  "kernelspec": {
   "display_name": "Python 3 (ipykernel)",
   "language": "python",
   "name": "python3"
  },
  "language_info": {
   "codemirror_mode": {
    "name": "ipython",
    "version": 3
   },
   "file_extension": ".py",
   "mimetype": "text/x-python",
   "name": "python",
   "nbconvert_exporter": "python",
   "pygments_lexer": "ipython3",
   "version": "3.12.9"
  }
 },
 "nbformat": 4,
 "nbformat_minor": 5
}
