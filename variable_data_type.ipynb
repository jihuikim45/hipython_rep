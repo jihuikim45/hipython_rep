{
 "cells": [
  {
   "cell_type": "markdown",
   "id": "1b4000e6-3427-4a92-847c-dd8291520f12",
   "metadata": {},
   "source": [
    "# 들어가기 : 주석"
   ]
  },
  {
   "cell_type": "code",
   "execution_count": null,
   "id": "df01a4ce-aa49-485e-88fd-cc964237c3fa",
   "metadata": {
    "scrolled": true
   },
   "outputs": [],
   "source": [
    "print('hello')"
   ]
  },
  {
   "cell_type": "code",
   "execution_count": null,
   "id": "b264f34a-d57f-47a0-ae6a-a24628f97188",
   "metadata": {},
   "outputs": [],
   "source": [
    "# hello 출력해보세요."
   ]
  },
  {
   "cell_type": "code",
   "execution_count": null,
   "id": "bf72b90c-698e-4ea7-9108-ba90ace333fa",
   "metadata": {},
   "outputs": [],
   "source": [
    "# age : 변수\n",
    "# input : 예약어 (*** 예약어란?: )\n",
    "# input(\" 함수내용 즉, 명령어 \")\n",
    "\n",
    "age = input(\"나이를 입력하세요.\") # ㅁ code shell"
   ]
  },
  {
   "cell_type": "code",
   "execution_count": 4,
   "id": "8413da28-2db8-4c84-b8b3-4c8e57149afe",
   "metadata": {},
   "outputs": [
    {
     "name": "stdout",
     "output_type": "stream",
     "text": [
      "7\n"
     ]
    }
   ],
   "source": [
    "def calculate_sum(a, b) :  # : 과 들여쓰기는 '짝꿍~'\n",
    "    result = a + b         #변수 대입 함수\n",
    "    return result          # 함수 종료 명령어 반환할 값\n",
    "print(calculate_sum(3, 4)) # 값을 보고 싶은 것, 변수가 아니라면 () 넣어주기"
   ]
  },
  {
   "cell_type": "markdown",
   "id": "186438d6-b205-426a-9d74-23c8fe0e1ca1",
   "metadata": {},
   "source": [
    "# 표준 입력과 표준 출력"
   ]
  },
  {
   "cell_type": "code",
   "execution_count": 1,
   "id": "0885170c-c4dc-4ce5-9df3-fabeda531d31",
   "metadata": {},
   "outputs": [
    {
     "data": {
      "text/plain": [
       "10"
      ]
     },
     "execution_count": 1,
     "metadata": {},
     "output_type": "execute_result"
    }
   ],
   "source": [
    "12345\n",
    "10\n",
    "# ipython 라이브러리의 기본 기능\n"
   ]
  },
  {
   "cell_type": "code",
   "execution_count": 2,
   "id": "4f2fe8f8-84d3-49d1-b202-1d380dbfaa9f",
   "metadata": {},
   "outputs": [
    {
     "data": {
      "text/plain": [
       "int"
      ]
     },
     "execution_count": 2,
     "metadata": {},
     "output_type": "execute_result"
    }
   ],
   "source": [
    "'12345'\n",
    "type(12345)"
   ]
  },
  {
   "cell_type": "code",
   "execution_count": 3,
   "id": "05ce1b91-24bb-417c-a1e2-c58bc0399064",
   "metadata": {},
   "outputs": [
    {
     "data": {
      "text/plain": [
       "str"
      ]
     },
     "execution_count": 3,
     "metadata": {},
     "output_type": "execute_result"
    }
   ],
   "source": [
    "12345\n",
    "type('12345')"
   ]
  },
  {
   "cell_type": "code",
   "execution_count": 4,
   "id": "5d5a808f-970f-48dc-9fdd-4c12932058b4",
   "metadata": {},
   "outputs": [
    {
     "data": {
      "text/plain": [
       "'123451234512345'"
      ]
     },
     "execution_count": 4,
     "metadata": {},
     "output_type": "execute_result"
    }
   ],
   "source": [
    "\"12345\" * 3"
   ]
  },
  {
   "cell_type": "code",
   "execution_count": 7,
   "id": "561a5ae8-d37b-4b7d-ac4c-e7fbeb85fbd4",
   "metadata": {},
   "outputs": [
    {
     "name": "stdin",
     "output_type": "stream",
     "text": [
      "당신의 이름을 입력하세요 지희\n"
     ]
    },
    {
     "data": {
      "text/plain": [
       "'지희'"
      ]
     },
     "execution_count": 7,
     "metadata": {},
     "output_type": "execute_result"
    }
   ],
   "source": [
    "input('당신의 이름을 입력하세요')"
   ]
  },
  {
   "cell_type": "code",
   "execution_count": 8,
   "id": "9e25fdec-10fa-40d2-81c5-9dc5d310fe54",
   "metadata": {},
   "outputs": [
    {
     "name": "stdin",
     "output_type": "stream",
     "text": [
      "당신의 나이를 입력하세요 23\n"
     ]
    },
    {
     "data": {
      "text/plain": [
       "'23'"
      ]
     },
     "execution_count": 8,
     "metadata": {},
     "output_type": "execute_result"
    }
   ],
   "source": [
    "input('당신의 나이를 입력하세요')"
   ]
  },
  {
   "cell_type": "code",
   "execution_count": 9,
   "id": "51b44bf2-9964-48fd-a9b3-aa0c2fdfd120",
   "metadata": {},
   "outputs": [
    {
     "name": "stdin",
     "output_type": "stream",
     "text": [
      "당신의 나이를 입력하세요 24\n"
     ]
    },
    {
     "data": {
      "text/plain": [
       "'24'"
      ]
     },
     "execution_count": 9,
     "metadata": {},
     "output_type": "execute_result"
    }
   ],
   "source": [
    "age = input('당신의 나이를 입력하세요')\n",
    "age"
   ]
  },
  {
   "cell_type": "code",
   "execution_count": 10,
   "id": "864768ac-7d3b-4e10-b33e-60bdac419ead",
   "metadata": {},
   "outputs": [
    {
     "data": {
      "text/plain": [
       "'24'"
      ]
     },
     "execution_count": 10,
     "metadata": {},
     "output_type": "execute_result"
    }
   ],
   "source": [
    "age"
   ]
  },
  {
   "cell_type": "code",
   "execution_count": 12,
   "id": "d6a08fa7-eb9e-4b0d-8d6a-08ad26cc6e99",
   "metadata": {},
   "outputs": [
    {
     "name": "stdin",
     "output_type": "stream",
     "text": [
      "당신의 이름을 입력하세요 지희\n"
     ]
    },
    {
     "data": {
      "text/plain": [
       "'지희'"
      ]
     },
     "execution_count": 12,
     "metadata": {},
     "output_type": "execute_result"
    }
   ],
   "source": [
    "input('당신의 이름을 입력하세요')"
   ]
  },
  {
   "cell_type": "code",
   "execution_count": 13,
   "id": "9e22fb1b-e384-47fe-90d4-a216faa6c374",
   "metadata": {},
   "outputs": [
    {
     "name": "stdin",
     "output_type": "stream",
     "text": [
      "당신의 이름을 입력하세요 지희\n"
     ]
    },
    {
     "data": {
      "text/plain": [
       "'지희'"
      ]
     },
     "execution_count": 13,
     "metadata": {},
     "output_type": "execute_result"
    }
   ],
   "source": [
    "name = input('당신의 이름을 입력하세요')\n",
    "name"
   ]
  },
  {
   "cell_type": "code",
   "execution_count": 14,
   "id": "d2de6493-ce8e-4e22-a448-0707e6f43844",
   "metadata": {},
   "outputs": [
    {
     "data": {
      "text/plain": [
       "'지희'"
      ]
     },
     "execution_count": 14,
     "metadata": {},
     "output_type": "execute_result"
    }
   ],
   "source": [
    "name"
   ]
  },
  {
   "cell_type": "code",
   "execution_count": 15,
   "id": "6e0e7f4c-c511-4c56-84e7-b12bd40311c2",
   "metadata": {},
   "outputs": [
    {
     "data": {
      "text/plain": [
       "('24', '지희')"
      ]
     },
     "execution_count": 15,
     "metadata": {},
     "output_type": "execute_result"
    }
   ],
   "source": [
    "age, name"
   ]
  },
  {
   "cell_type": "code",
   "execution_count": 16,
   "id": "0a5e9480-a5c3-4971-951a-63ffadf67d3b",
   "metadata": {},
   "outputs": [
    {
     "name": "stdout",
     "output_type": "stream",
     "text": [
      "24 지희\n"
     ]
    }
   ],
   "source": [
    "print(age, name)"
   ]
  },
  {
   "cell_type": "code",
   "execution_count": 17,
   "id": "0fd3d577-683c-4c89-b0ca-f49838c51644",
   "metadata": {},
   "outputs": [
    {
     "name": "stdout",
     "output_type": "stream",
     "text": [
      "나는 지희이고 나이는 24 입니다.\n"
     ]
    }
   ],
   "source": [
    "print('나는 '+name+'이고 나이는' ,age, '입니다.')"
   ]
  },
  {
   "cell_type": "code",
   "execution_count": 18,
   "id": "90ab842f-7b51-4afa-86f8-008b2df64f55",
   "metadata": {},
   "outputs": [
    {
     "data": {
      "text/plain": [
       "str"
      ]
     },
     "execution_count": 18,
     "metadata": {},
     "output_type": "execute_result"
    }
   ],
   "source": [
    "type(age)"
   ]
  },
  {
   "cell_type": "code",
   "execution_count": 19,
   "id": "b0f16991-f611-4dbe-951e-f142b99284f7",
   "metadata": {},
   "outputs": [
    {
     "data": {
      "text/plain": [
       "24"
      ]
     },
     "execution_count": 19,
     "metadata": {},
     "output_type": "execute_result"
    }
   ],
   "source": [
    "int(age)"
   ]
  },
  {
   "cell_type": "code",
   "execution_count": 20,
   "id": "c6d71bfa-bd36-4706-bde6-1b9b453fb2ea",
   "metadata": {},
   "outputs": [
    {
     "name": "stdout",
     "output_type": "stream",
     "text": [
      "24\n"
     ]
    },
    {
     "data": {
      "text/plain": [
       "int"
      ]
     },
     "execution_count": 20,
     "metadata": {},
     "output_type": "execute_result"
    }
   ],
   "source": [
    "age = int(age)\n",
    "print(age)\n",
    "type(age)"
   ]
  },
  {
   "cell_type": "code",
   "execution_count": 21,
   "id": "7fc42b12-855a-438c-8a01-3154353ca43c",
   "metadata": {},
   "outputs": [
    {
     "name": "stdout",
     "output_type": "stream",
     "text": [
      "34\n"
     ]
    }
   ],
   "source": [
    "print(age + 10)"
   ]
  },
  {
   "cell_type": "markdown",
   "id": "5ecde97b-bd9d-4286-9189-96282dc25176",
   "metadata": {},
   "source": [
    "# 연습"
   ]
  },
  {
   "cell_type": "code",
   "execution_count": 22,
   "id": "68b7a2aa-496f-4222-9ccf-22245111f625",
   "metadata": {},
   "outputs": [
    {
     "name": "stdout",
     "output_type": "stream",
     "text": [
      "김 : 김치볶음밥을 제일 잘하고\n",
      "지 : 지각은 안 하는데\n",
      "희 : 희한하게 게으른 사람\n"
     ]
    }
   ],
   "source": [
    "# 자기 이름으로 삼행시 짓기\n",
    "\n",
    "\n",
    "print('김 : 김치볶음밥을 제일 잘하고')\n",
    "print('지 : 지각은 안 하는데')\n",
    "print('희 : 희한하게 게으른 사람')"
   ]
  },
  {
   "cell_type": "code",
   "execution_count": 28,
   "id": "70f03583-85d0-446c-9e01-93eb272cefe8",
   "metadata": {},
   "outputs": [
    {
     "name": "stdin",
     "output_type": "stream",
     "text": [
      "김 :  김치볶음밥을 제일 잘하고\n",
      "지 :  지각도 안하는데\n",
      "희 :  희한하게 게으른 사람\n"
     ]
    },
    {
     "name": "stdout",
     "output_type": "stream",
     "text": [
      "김치볶음밥을 제일 잘하고! 지각도 안하는데! 희한하게 게으른 사람\n"
     ]
    }
   ],
   "source": [
    "line1 = input('김 : ')\n",
    "line2 = input('지 : ')\n",
    "line3 = input('희 : ')\n",
    "print(line1 ,line2, line3, sep='! ')"
   ]
  },
  {
   "cell_type": "code",
   "execution_count": 31,
   "id": "09ceb34e-6909-43ff-b42a-8c19e098ae78",
   "metadata": {},
   "outputs": [
    {
     "name": "stdout",
     "output_type": "stream",
     "text": [
      "김치볶음밥을 제일 잘하고\n",
      " 지각도 안하는데\n",
      " 희한하게 게으른 사람\n"
     ]
    }
   ],
   "source": [
    "print(line1 ,line2, line3, sep='\\n ')   # \\n  줄바꿈 기호"
   ]
  },
  {
   "cell_type": "markdown",
   "id": "e7d0df19-d98f-4357-9d2c-68fa41f3de1c",
   "metadata": {},
   "source": [
    "### 문자열의 시작이 \\(역슬래시) --> 이스케이프 문자, 특수 문자\n",
    "### \\n \\t \\\\ "
   ]
  },
  {
   "cell_type": "code",
   "execution_count": 33,
   "id": "f9e09563-ee02-4b80-be52-0906622e3452",
   "metadata": {},
   "outputs": [
    {
     "name": "stdout",
     "output_type": "stream",
     "text": [
      "김치볶음밥을 제일 잘하고\n",
      "지각도 안하는데\n",
      "희한하게 게으른 사람\n"
     ]
    }
   ],
   "source": [
    "삼행시 = line1 +'\\n'+ line2 +'\\n'+ line3\n",
    "print(삼행시)"
   ]
  },
  {
   "cell_type": "markdown",
   "id": "22ad3d81-a3a2-4c47-a60b-3a3df54956f5",
   "metadata": {},
   "source": [
    "# 변수"
   ]
  },
  {
   "cell_type": "markdown",
   "id": "b9fb095d-2344-4a63-a9e0-7a1b55f5519d",
   "metadata": {},
   "source": [
    "변수 type safe : 변수를 선언할 때 타입(유형)을 지정하지 않아도 되는 특성   \n",
    "변수명 = 값"
   ]
  },
  {
   "cell_type": "markdown",
   "id": "92822f4a-31dc-4fe5-b831-aa93bf9a230b",
   "metadata": {},
   "source": [
    "\n",
    "## 변수의 명명규칙\n",
    "1. 문자, 숫자, 밑줄(언더스케이프'_')을 활용하여 생성\n",
    "2. 숫자로 시작할 수 없음\n",
    "3. 대소문자를 구분\n",
    "4. 예약어, 특수기호, 공백 안 됨"
   ]
  },
  {
   "cell_type": "code",
   "execution_count": 34,
   "id": "74a69670-a9cd-438c-90cc-70955feef72f",
   "metadata": {},
   "outputs": [
    {
     "data": {
      "text/plain": [
       "(10, 'hello', 3.141592)"
      ]
     },
     "execution_count": 34,
     "metadata": {},
     "output_type": "execute_result"
    }
   ],
   "source": [
    "x = 10\n",
    "y = 'hello'\n",
    "z = 3.141592\n",
    "\n",
    "x,y,z"
   ]
  },
  {
   "cell_type": "code",
   "execution_count": 38,
   "id": "70a2d344-8daa-49cf-80ba-1d098fcb04a5",
   "metadata": {},
   "outputs": [
    {
     "data": {
      "text/plain": [
       "(int, str, float)"
      ]
     },
     "execution_count": 38,
     "metadata": {},
     "output_type": "execute_result"
    }
   ],
   "source": [
    "type(x) , type(y) , type(z)"
   ]
  },
  {
   "cell_type": "code",
   "execution_count": 40,
   "id": "53f85788-53c5-426e-9250-a422bb177a01",
   "metadata": {},
   "outputs": [
    {
     "name": "stdout",
     "output_type": "stream",
     "text": [
      "<class 'int'> <class 'str'> <class 'float'>\n"
     ]
    }
   ],
   "source": [
    "print(type(x) , type(y) , type(z))"
   ]
  },
  {
   "cell_type": "code",
   "execution_count": 45,
   "id": "dae63550-932f-41df-86a7-b94e95bab219",
   "metadata": {},
   "outputs": [
    {
     "name": "stdout",
     "output_type": "stream",
     "text": [
      "10 30 20\n"
     ]
    }
   ],
   "source": [
    "a,b,c = 10,20,30\n",
    "print((a),(c),(b))"
   ]
  },
  {
   "cell_type": "code",
   "execution_count": 46,
   "id": "e7d66d33-7978-4dbf-ad82-7fc7979d5253",
   "metadata": {},
   "outputs": [
    {
     "data": {
      "text/plain": [
       "(40, 40, 40)"
      ]
     },
     "execution_count": 46,
     "metadata": {},
     "output_type": "execute_result"
    }
   ],
   "source": [
    "a = b = c = 40\n",
    "a,b,c"
   ]
  },
  {
   "cell_type": "code",
   "execution_count": 49,
   "id": "6c83dbe7-ae7a-43bb-a8f9-d106080dd5f4",
   "metadata": {},
   "outputs": [
    {
     "name": "stdout",
     "output_type": "stream",
     "text": [
      "True None\n"
     ]
    }
   ],
   "source": [
    "d = True    #bool형\n",
    "e = None    #type이 없음, NoneType\n",
    "print(d,e)"
   ]
  },
  {
   "cell_type": "code",
   "execution_count": 57,
   "id": "87d9bf34-6584-4cad-a593-e57edd7df135",
   "metadata": {},
   "outputs": [
    {
     "name": "stdout",
     "output_type": "stream",
     "text": [
      "10 10\n",
      "140724063906520 140724063906520\n",
      "True\n"
     ]
    }
   ],
   "source": [
    "aa = 10\n",
    "bb = a\n",
    "print(a, b)\n",
    "print(id(a), id(b))\n",
    "print(aa == bb)"
   ]
  },
  {
   "cell_type": "code",
   "execution_count": 58,
   "id": "1f18888d-210b-4441-a894-14f637c9d75e",
   "metadata": {},
   "outputs": [
    {
     "name": "stdout",
     "output_type": "stream",
     "text": [
      "20 10\n"
     ]
    }
   ],
   "source": [
    "aa = 20\n",
    "print(aa, bb)"
   ]
  },
  {
   "cell_type": "code",
   "execution_count": null,
   "id": "9594c60e-3f3e-417f-9733-3b52b8dc8bb1",
   "metadata": {},
   "outputs": [],
   "source": [
    "# 의미 부여 하기 어려운 변수명\n",
    "x = 100\n",
    "y = 100\n",
    "\n",
    "#의미 있는 변수명\n",
    "age = 20\n",
    "name = '김지희'\n",
    "user_name = 'Alic'\n",
    "admin_name = 'Bob'\n",
    "\n",
    "#대문자 Upper-case 상수에만 사용\n",
    "PI = 3.141592\n",
    "MAX_CONNECTIONS = 10 #최대 연결 수\n",
    "MIN_VALUE = 0 #최소값\n",
    "\n",
    "\n"
   ]
  },
  {
   "cell_type": "markdown",
   "id": "9e3a9c28-6e7e-45ff-81fd-5b1e8415d632",
   "metadata": {},
   "source": [
    "## NAME_SPACE\n",
    "\n",
    "변수가 최초로 정의된 영역에 따른 유효 범위가 결정.\n",
    "\n",
    "- 지역변수 (Local Variable) :   \n",
    "   함수나 블록 내부에서 정의된 변수. (해당 함수 안에서만 유효하며, 함수가 끝나면 사라짐)\n",
    "- 전역변수 (Global Variable) :   \n",
    "   함수 밖에서 정의된 변수. (프로그램 전체에서 접근 가능, 단 함수 안에서 수정하려면 global 키워드 필요.)\n",
    "- 정적변수 (Static Variable) :   \n",
    "   함수가 여러 번 호출되어도 값이 유지되는 변수.   \n",
    "   파이썬에는 직접적인 static 키워드는 없지만, (함수 속 속성이나 클래스 변수로 비슷하게 구현할 수 있음.)\n",
    "\n",
    "  "
   ]
  },
  {
   "cell_type": "code",
   "execution_count": 110,
   "id": "32e2b848-636b-447a-a7a4-ae9d16a16d35",
   "metadata": {},
   "outputs": [
    {
     "name": "stdout",
     "output_type": "stream",
     "text": [
      "여기는 함수의 영역입니다. 100\n",
      "100\n"
     ]
    }
   ],
   "source": [
    "# 지역변수\n",
    "# lacal_example 을 실행해야만 사용 가능\n",
    "\n",
    "# def lacal_example():\n",
    "#     local_var = 100\n",
    "#     print('여기는 함수의 영역입니다. '+ local_var)\n",
    "# local_var #NameError: name 'local_var' is not defined\n",
    "\n",
    "\n",
    "def local_example():\n",
    "    local_var = 100\n",
    "    print('여기는 함수의 영역입니다.', local_var)\n",
    "    return local_var  # 함수 바깥으로 값 전달\n",
    "\n",
    "local_var = local_example()  # 함수 호출 + 결과 저장\n",
    "print(local_var)  # 100\n"
   ]
  },
  {
   "cell_type": "code",
   "execution_count": 66,
   "id": "4fbac2d5-84ec-4cdd-a531-682878fd6189",
   "metadata": {},
   "outputs": [
    {
     "name": "stdout",
     "output_type": "stream",
     "text": [
      "여기는 함수의 영역입니다. 100\n"
     ]
    },
    {
     "data": {
      "text/plain": [
       "100"
      ]
     },
     "execution_count": 66,
     "metadata": {},
     "output_type": "execute_result"
    }
   ],
   "source": [
    "# 전역변수\n",
    "# global_var = '나는 전역이다'\n",
    "# print(global_var)\n",
    "\n",
    "\n",
    "global_var = '나는 전역이다'\n",
    "\n",
    "def global_example():\n",
    "    local_var = 100\n",
    "    print('여기는 함수의 영역입니다.', local_var)\n",
    "    return local_var  # 함수 안에서도 전역 변수 사용 가능\n",
    "\n",
    "global_example()  # 출력: 나는 전역이다\n",
    "\n"
   ]
  },
  {
   "cell_type": "code",
   "execution_count": 70,
   "id": "e029715f-9e0a-4676-89af-4312cf771b75",
   "metadata": {},
   "outputs": [
    {
     "name": "stdout",
     "output_type": "stream",
     "text": [
      "나는 전역이다\n",
      "여기는 함수의 영역입니다. 100\n",
      "100\n"
     ]
    }
   ],
   "source": [
    "var_test = '나는 전역이다'\n",
    "print(var_test)\n",
    "\n",
    "def global_example():\n",
    "    global var_test \n",
    "    var_test = 100\n",
    "    print('여기는 함수의 영역입니다.', var_test)\n",
    "    return local_var  # 함수 안에서도 전역 변수 사용 가능\n",
    "\n",
    "global_example()\n",
    "\n",
    "print(var_test)"
   ]
  },
  {
   "cell_type": "code",
   "execution_count": 90,
   "id": "f5e24e94-6265-4249-bbbf-9a68ddb35ed8",
   "metadata": {
    "scrolled": true
   },
   "outputs": [
    {
     "name": "stdout",
     "output_type": "stream",
     "text": [
      "카운터 :  1\n",
      "카운터 :  2\n",
      "카운터 :  3\n"
     ]
    },
    {
     "data": {
      "text/plain": [
       "3"
      ]
     },
     "execution_count": 90,
     "metadata": {},
     "output_type": "execute_result"
    }
   ],
   "source": [
    "# 변수 영역 연습\n",
    "\n",
    "counter = 0 #global\n",
    "\n",
    "\n",
    "def increment_counter():\n",
    "    # counter = counter + 1\n",
    "    global counter\n",
    "    counter += 1\n",
    "    print('카운터 : ', counter)\n",
    "    return counter\n",
    "\n",
    "\n",
    "increment_counter()\n",
    "increment_counter()\n",
    "increment_counter()\n",
    "\n",
    "    "
   ]
  },
  {
   "cell_type": "code",
   "execution_count": 86,
   "id": "287d2d16-da17-4323-b463-2d77110239d8",
   "metadata": {},
   "outputs": [
    {
     "name": "stdout",
     "output_type": "stream",
     "text": [
      "카운터 : 1\n",
      "카운터 : 2\n",
      "카운터 : 3\n"
     ]
    }
   ],
   "source": [
    "def increment_counter(counter):\n",
    "    counter += 1\n",
    "    print('카운터 :', counter)\n",
    "    return counter\n",
    "\n",
    "counter = 0\n",
    "counter = increment_counter(counter) \n",
    "counter = increment_counter(counter) \n",
    "counter = increment_counter(counter) "
   ]
  },
  {
   "cell_type": "markdown",
   "id": "926a24b2-ca82-4df2-84e6-f58262319444",
   "metadata": {},
   "source": [
    "## 교재 변수 연습"
   ]
  },
  {
   "cell_type": "code",
   "execution_count": 94,
   "id": "3256ebcf-3a26-4d53-b1af-90a6f88c9bd7",
   "metadata": {},
   "outputs": [
    {
     "name": "stdout",
     "output_type": "stream",
     "text": [
      "naver;kakao;sk;samsung\n"
     ]
    }
   ],
   "source": [
    "#print() 함수를 사용하여 다음과 같이 출력하세요.\n",
    "#naver;kakao;sk;samsung\n",
    "\n",
    "print (\"naver\", \"kakao\", \"sk\", \"samsung\", sep=\";\")"
   ]
  },
  {
   "cell_type": "code",
   "execution_count": 95,
   "id": "26beca4b-22e6-45c4-87da-d41427490bd3",
   "metadata": {},
   "outputs": [
    {
     "name": "stdout",
     "output_type": "stream",
     "text": [
      "naver/kakao/sk/samsung\n"
     ]
    }
   ],
   "source": [
    "#print() 함수를 사용하여 다음과 같이 출력하세요.\n",
    "#naver/kakao/sk/samsung\n",
    "\n",
    "print (\"naver\", \"kakao\", \"sk\", \"samsung\", sep=\"/\")"
   ]
  },
  {
   "cell_type": "code",
   "execution_count": 100,
   "id": "93b51624-617d-4255-9ee3-9c6d34db2f8c",
   "metadata": {},
   "outputs": [
    {
     "name": "stdout",
     "output_type": "stream",
     "text": [
      "firstsecond\n"
     ]
    }
   ],
   "source": [
    "print(\"first\", end=\"\"); print(\"second\")"
   ]
  },
  {
   "cell_type": "code",
   "execution_count": 105,
   "id": "dc0b9921-fe23-4f1d-82e0-e2500704403c",
   "metadata": {},
   "outputs": [
    {
     "name": "stdout",
     "output_type": "stream",
     "text": [
      "500000\n"
     ]
    }
   ],
   "source": [
    "#삼성전자라는 변수로 50,000원을 바인딩해보세요. 삼성전자 주식 10주를 보유하고 있을 때 총 평가금액을 출력하세요.\n",
    "\n",
    "\n",
    "삼성전자 = 50000\n",
    "총평가금액 = 삼성전자 * 10\n",
    "print(총평가금액)"
   ]
  },
  {
   "cell_type": "code",
   "execution_count": 109,
   "id": "032ed0b2-be02-4fc4-8345-cc3f6170509b",
   "metadata": {},
   "outputs": [
    {
     "name": "stdout",
     "output_type": "stream",
     "text": [
      "2980000000000 <class 'int'>\n",
      "50000 <class 'int'>\n",
      "15.79 <class 'float'>\n"
     ]
    }
   ],
   "source": [
    "# 삼성전자의 일부 투자정보입니다. 변수를 사용해서 시가총액, 현재가, PER 등을 바인딩해보세요.\n",
    "\n",
    "# 항목\t값\n",
    "# 시가총액\t298조\n",
    "# 현재가\t50,000원\n",
    "# PER\t15.79\n",
    "\n",
    "\n",
    "시가총액 = 2980000000000\n",
    "현재가 = 50000\n",
    "PER = 15.79\n",
    "\n",
    "print(시가총액 , type(시가총액))\n",
    "print(현재가 , type(현재가))\n",
    "print(PER , type(PER))\n"
   ]
  },
  {
   "cell_type": "markdown",
   "id": "5576dd1c-4c84-44cf-889d-b9ac244c3008",
   "metadata": {},
   "source": [
    "## 자료형\n",
    "\n",
    "- 기본 자료형 : 숫자형, 문자열 str, bool형\n",
    "- 복합 자료형 : 리스트, 셋, 튜플, 딕셔너리\n",
    "\n",
    "  |type| 설명| 예|\n",
    "  |---|---|---|\n",
    "  정수형(int) |정수를 저장하는 자료형| 1, -5, 100\n",
    "  실수형(float)|소수점이 있는 숫자를 저장하는 자료형|3.15, -0.001, 2.0\n",
    "  문자열(str)| 텍스트를 저장하는 자료형 |\"Hello\" , \"파이썬\"\n",
    "  논리형(bool) |참 / 거짓 값을 저장하는 자료형 |True, False"
   ]
  },
  {
   "cell_type": "markdown",
   "id": "30c43f7a-dfed-4e71-84e6-5ed3a1599af3",
   "metadata": {},
   "source": [
    "- 수정 불가능한 데이터 타입 : 수치형, bool형, 문자열, 튜플\n",
    "- 수정 가능한 데이터 타입 : 리스트, 딕셔너리, 셋"
   ]
  },
  {
   "cell_type": "code",
   "execution_count": 112,
   "id": "d32be3b0-d7ee-491d-919d-e079c973d14c",
   "metadata": {},
   "outputs": [
    {
     "data": {
      "text/plain": [
       "(20, int)"
      ]
     },
     "execution_count": 112,
     "metadata": {},
     "output_type": "execute_result"
    }
   ],
   "source": [
    "# 수치형 - int\n",
    "20, type(20)"
   ]
  },
  {
   "cell_type": "code",
   "execution_count": 113,
   "id": "8c0b00a3-610b-4cfb-9519-1e6fe59c7d9c",
   "metadata": {},
   "outputs": [
    {
     "data": {
      "text/plain": [
       "int"
      ]
     },
     "execution_count": 113,
     "metadata": {},
     "output_type": "execute_result"
    }
   ],
   "source": [
    "age = 20\n",
    "type(age)"
   ]
  },
  {
   "cell_type": "markdown",
   "id": "3de88104-5564-41c2-aae9-7960f94cbd7d",
   "metadata": {},
   "source": [
    "1. 진법 : 10진법, 2진수, 8진수, 16진수\n",
    "2. 입력하는 방법은 다르지만, print() 결과는 동일하다. "
   ]
  },
  {
   "cell_type": "code",
   "execution_count": 115,
   "id": "170eb1ae-f349-4299-84a0-10e92cc5af74",
   "metadata": {},
   "outputs": [
    {
     "data": {
      "text/plain": [
       "(10, 5)"
      ]
     },
     "execution_count": 115,
     "metadata": {},
     "output_type": "execute_result"
    }
   ],
   "source": [
    "a = 10\n",
    "b = 0b0101 #2진수 - 0과 1로 표현하는 방법 --> 0101 -> 2^3 + 2^2 + 2^1 + 2^0 = \n",
    "a,b"
   ]
  },
  {
   "cell_type": "code",
   "execution_count": 118,
   "id": "0b38ae0f-ed9b-4fcc-8498-481b66ac9c3b",
   "metadata": {},
   "outputs": [
    {
     "data": {
      "text/plain": [
       "8"
      ]
     },
     "execution_count": 118,
     "metadata": {},
     "output_type": "execute_result"
    }
   ],
   "source": [
    "c = 0o10 # 0o 8진수 10 -> 8^1 + 8^0 = 8*1 + 0*0 = 8\n",
    "c"
   ]
  },
  {
   "cell_type": "code",
   "execution_count": 119,
   "id": "cacdd399-2254-47dc-8783-bdc34138a98d",
   "metadata": {},
   "outputs": [
    {
     "data": {
      "text/plain": [
       "8"
      ]
     },
     "execution_count": 119,
     "metadata": {},
     "output_type": "execute_result"
    }
   ],
   "source": [
    "d = 0b1000\n",
    "d"
   ]
  },
  {
   "cell_type": "code",
   "execution_count": 124,
   "id": "e07fa2d5-374f-48e7-9b1e-ad3f0c4fb8a6",
   "metadata": {},
   "outputs": [
    {
     "data": {
      "text/plain": [
       "(256, 96, 365)"
      ]
     },
     "execution_count": 124,
     "metadata": {},
     "output_type": "execute_result"
    }
   ],
   "source": [
    "e = 0x16d # 1*16^2 + 6 * 16^1 + d(13)*16^0 = 256 + 96 +16, e \n",
    "16**2 , 16*6 , e"
   ]
  },
  {
   "cell_type": "code",
   "execution_count": 125,
   "id": "c1ef7ea5-d879-41e0-b1e2-872fcf52b666",
   "metadata": {},
   "outputs": [
    {
     "data": {
      "text/plain": [
       "(3.14, float)"
      ]
     },
     "execution_count": 125,
     "metadata": {},
     "output_type": "execute_result"
    }
   ],
   "source": [
    "# float\n",
    "b = 3.14\n",
    "b, type(b)"
   ]
  },
  {
   "cell_type": "markdown",
   "id": "d845a1e5-3c42-43cc-868b-db25896ada31",
   "metadata": {},
   "source": [
    "지수의 표기\n",
    "\n",
    "숫자e2 -> 10^2 = 10**2\n",
    "숫자e-2 -> 10^-2 = 10**-2\n"
   ]
  },
  {
   "cell_type": "markdown",
   "id": "4aa00deb-74e1-4324-95e5-a968ffcaa37c",
   "metadata": {},
   "source": [
    "숫자 e2 -> 10^2의 곱 = 10**2\n",
    "숫자 e-2 -> 10^-2의 곱 = 10**-2"
   ]
  },
  {
   "cell_type": "code",
   "execution_count": 170,
   "id": "d660411f-a74b-4606-9193-dcc8720ad71e",
   "metadata": {},
   "outputs": [
    {
     "data": {
      "text/plain": [
       "(1000.0, 1000)"
      ]
     },
     "execution_count": 170,
     "metadata": {},
     "output_type": "execute_result"
    }
   ],
   "source": [
    "fa = 10e2\n",
    "fa, 10* 10**2 \n",
    "\n"
   ]
  },
  {
   "cell_type": "code",
   "execution_count": 127,
   "id": "31babd96-bc8c-4132-89d7-b8423a062e52",
   "metadata": {},
   "outputs": [
    {
     "data": {
      "text/plain": [
       "0.1"
      ]
     },
     "execution_count": 127,
     "metadata": {},
     "output_type": "execute_result"
    }
   ],
   "source": [
    "fb = 10e-2\n",
    "fb"
   ]
  },
  {
   "cell_type": "code",
   "execution_count": 135,
   "id": "f20719ca-af78-4d35-8362-6fc5c10b0546",
   "metadata": {},
   "outputs": [
    {
     "data": {
      "text/plain": [
       "3141500000.0"
      ]
     },
     "execution_count": 135,
     "metadata": {},
     "output_type": "execute_result"
    }
   ],
   "source": [
    "fc = 3.1415e9\n",
    "fc"
   ]
  },
  {
   "cell_type": "markdown",
   "id": "487f07c7-bddb-4c0d-859a-41f1377b63ec",
   "metadata": {},
   "source": [
    "# booleanr값 - True , False\n",
    "\n",
    "논리연산, 비교연산\n",
    "\n"
   ]
  },
  {
   "cell_type": "code",
   "execution_count": 136,
   "id": "2d358ca3-a4ef-4341-bcc4-df096819bff6",
   "metadata": {},
   "outputs": [],
   "source": [
    "# 사칙연산 + - * / // %\n",
    "\n",
    "a = 2\n",
    "b = 3"
   ]
  },
  {
   "cell_type": "code",
   "execution_count": 140,
   "id": "1cbf632b-d431-4e4b-81d9-9cdd285aff21",
   "metadata": {},
   "outputs": [
    {
     "data": {
      "text/plain": [
       "(0.6666666666666666, 0, 2)"
      ]
     },
     "execution_count": 140,
     "metadata": {},
     "output_type": "execute_result"
    }
   ],
   "source": [
    "a+b\n",
    "a-b\n",
    "a*b\n",
    "a/b , a//b , a%b   #나누기 #몫 , #나머지"
   ]
  },
  {
   "cell_type": "code",
   "execution_count": 142,
   "id": "5efd2912-7b24-4ed0-ab30-ea769662b4c5",
   "metadata": {},
   "outputs": [
    {
     "data": {
      "text/plain": [
       "False"
      ]
     },
     "execution_count": 142,
     "metadata": {},
     "output_type": "execute_result"
    }
   ],
   "source": [
    "# 비교 연산자\n",
    "\n",
    "1+2 == 3\n",
    "1+2 != 3"
   ]
  },
  {
   "cell_type": "code",
   "execution_count": 143,
   "id": "6ff6735c-909d-410c-a429-d6b73eae51da",
   "metadata": {},
   "outputs": [
    {
     "data": {
      "text/plain": [
       "True"
      ]
     },
     "execution_count": 143,
     "metadata": {},
     "output_type": "execute_result"
    }
   ],
   "source": [
    "1+3 > 3"
   ]
  },
  {
   "cell_type": "code",
   "execution_count": 144,
   "id": "a47761ac-891c-4a94-bf22-c9fb40677c98",
   "metadata": {},
   "outputs": [
    {
     "data": {
      "text/plain": [
       "True"
      ]
     },
     "execution_count": 144,
     "metadata": {},
     "output_type": "execute_result"
    }
   ],
   "source": [
    "# 비교연산자와 논리연산자의 결합\n",
    "\n",
    "10%2 == 0 and 12%3 == 0"
   ]
  },
  {
   "cell_type": "code",
   "execution_count": 147,
   "id": "440aeada-9718-4fe5-b963-d627ec91b2ac",
   "metadata": {},
   "outputs": [
    {
     "data": {
      "text/plain": [
       "21"
      ]
     },
     "execution_count": 147,
     "metadata": {},
     "output_type": "execute_result"
    }
   ],
   "source": [
    "a = 20\n",
    "a += 1 #a = a + 1\n",
    "a"
   ]
  },
  {
   "cell_type": "code",
   "execution_count": 148,
   "id": "6dae2bd8-3a3b-4a88-a8d8-ae636477b057",
   "metadata": {},
   "outputs": [
    {
     "data": {
      "text/plain": [
       "20"
      ]
     },
     "execution_count": 148,
     "metadata": {},
     "output_type": "execute_result"
    }
   ],
   "source": [
    "a -= 1\n",
    "a"
   ]
  },
  {
   "cell_type": "code",
   "execution_count": 151,
   "id": "cb2e614e-63e9-413c-9a0b-ab251880f03b",
   "metadata": {},
   "outputs": [
    {
     "data": {
      "text/plain": [
       "7"
      ]
     },
     "execution_count": 151,
     "metadata": {},
     "output_type": "execute_result"
    }
   ],
   "source": [
    "a = 3 \n",
    "b = 2\n",
    "a += 2 + b\n",
    "a\n"
   ]
  },
  {
   "cell_type": "markdown",
   "id": "eccdb3c3-c6d9-40a8-ba60-4eee0563549b",
   "metadata": {},
   "source": [
    "# 문자열 str\n",
    "\n",
    "' ' , \" \" , \"\"\"  \"\"\" ,  '''  '''  docstring"
   ]
  },
  {
   "cell_type": "code",
   "execution_count": 152,
   "id": "846d26c1-d995-4914-a8d0-71ad23a09439",
   "metadata": {},
   "outputs": [
    {
     "data": {
      "text/plain": [
       "'hellopython'"
      ]
     },
     "execution_count": 152,
     "metadata": {},
     "output_type": "execute_result"
    }
   ],
   "source": [
    "a = 'hello'\n",
    "b = 'python'\n",
    "a + b"
   ]
  },
  {
   "cell_type": "code",
   "execution_count": 154,
   "id": "4492df8d-7ed9-4738-8a1e-63bc8ad67ec9",
   "metadata": {},
   "outputs": [
    {
     "name": "stdout",
     "output_type": "stream",
     "text": [
      "**********\n"
     ]
    },
    {
     "data": {
      "text/plain": [
       "str"
      ]
     },
     "execution_count": 154,
     "metadata": {},
     "output_type": "execute_result"
    }
   ],
   "source": [
    "c = '*'\n",
    "print(c * 10)\n",
    "type(c)"
   ]
  },
  {
   "cell_type": "code",
   "execution_count": 156,
   "id": "793de366-e8b5-4cd4-b81e-59329914e42b",
   "metadata": {},
   "outputs": [
    {
     "data": {
      "text/plain": [
       "\"kim's famliy\""
      ]
     },
     "execution_count": 156,
     "metadata": {},
     "output_type": "execute_result"
    }
   ],
   "source": [
    "d = \"kim's famliy\"\n",
    "d"
   ]
  },
  {
   "cell_type": "code",
   "execution_count": 157,
   "id": "8b59b4e9-d3de-4d41-baa5-92b2c363cbe5",
   "metadata": {},
   "outputs": [
    {
     "data": {
      "text/plain": [
       "True"
      ]
     },
     "execution_count": 157,
     "metadata": {},
     "output_type": "execute_result"
    }
   ],
   "source": [
    "e = '1'\n",
    "e == '1'\n"
   ]
  },
  {
   "cell_type": "code",
   "execution_count": 159,
   "id": "a52b40d8-9ec2-4f37-8d05-0a2de8d2e07d",
   "metadata": {},
   "outputs": [
    {
     "data": {
      "text/plain": [
       "'2'"
      ]
     },
     "execution_count": 159,
     "metadata": {},
     "output_type": "execute_result"
    }
   ],
   "source": [
    "# 문자열은 리스트, 열거형\n",
    "a = '20010331Rabcd'\n",
    "a[0] # 숫자 자리수 > 인덱스"
   ]
  },
  {
   "cell_type": "code",
   "execution_count": 160,
   "id": "7f246ccf-26e3-4b0a-b905-699d32e91890",
   "metadata": {},
   "outputs": [
    {
     "data": {
      "text/plain": [
       "'1'"
      ]
     },
     "execution_count": 160,
     "metadata": {},
     "output_type": "execute_result"
    }
   ],
   "source": [
    "a[3]"
   ]
  },
  {
   "cell_type": "code",
   "execution_count": 161,
   "id": "45be1f09-62a1-49f2-9272-1a178e257c34",
   "metadata": {},
   "outputs": [
    {
     "data": {
      "text/plain": [
       "'d'"
      ]
     },
     "execution_count": 161,
     "metadata": {},
     "output_type": "execute_result"
    }
   ],
   "source": [
    "a[-1]"
   ]
  },
  {
   "cell_type": "code",
   "execution_count": 162,
   "id": "f8a8e7e6-a830-4b7a-9e7b-fe57327a69cb",
   "metadata": {},
   "outputs": [
    {
     "data": {
      "text/plain": [
       "'2001'"
      ]
     },
     "execution_count": 162,
     "metadata": {},
     "output_type": "execute_result"
    }
   ],
   "source": [
    "a[:4]"
   ]
  },
  {
   "cell_type": "code",
   "execution_count": 164,
   "id": "9c2f3448-af1e-4675-a1b8-341b5b566ea3",
   "metadata": {},
   "outputs": [
    {
     "data": {
      "text/plain": [
       "'Rab'"
      ]
     },
     "execution_count": 164,
     "metadata": {},
     "output_type": "execute_result"
    }
   ],
   "source": [
    "a[-5:-2]"
   ]
  },
  {
   "cell_type": "code",
   "execution_count": 166,
   "id": "b56a4e54-2cc5-4120-a995-8dc4acd6a355",
   "metadata": {},
   "outputs": [
    {
     "data": {
      "text/plain": [
       "'abcd'"
      ]
     },
     "execution_count": 166,
     "metadata": {},
     "output_type": "execute_result"
    }
   ],
   "source": [
    "a[-4:]"
   ]
  },
  {
   "cell_type": "code",
   "execution_count": 167,
   "id": "34679ec0-7ca3-4676-b19c-26621d1d3c84",
   "metadata": {},
   "outputs": [
    {
     "data": {
      "text/plain": [
       "True"
      ]
     },
     "execution_count": 167,
     "metadata": {},
     "output_type": "execute_result"
    }
   ],
   "source": [
    "s = 'abc'\n",
    "a = s\n",
    "a is s"
   ]
  },
  {
   "cell_type": "code",
   "execution_count": 168,
   "id": "e372ae63-fa99-49c3-87cf-0f90f57b390f",
   "metadata": {},
   "outputs": [
    {
     "data": {
      "text/plain": [
       "True"
      ]
     },
     "execution_count": 168,
     "metadata": {},
     "output_type": "execute_result"
    }
   ],
   "source": [
    "b = s[:]\n",
    "a is b"
   ]
  },
  {
   "cell_type": "code",
   "execution_count": null,
   "id": "2f74dad5-439f-4c02-bc6d-661db4ceea0c",
   "metadata": {},
   "outputs": [],
   "source": []
  },
  {
   "cell_type": "code",
   "execution_count": null,
   "id": "1be58c25-dfb4-473d-9629-1492f12223e4",
   "metadata": {},
   "outputs": [],
   "source": []
  }
 ],
 "metadata": {
  "kernelspec": {
   "display_name": "Python 3 (ipykernel)",
   "language": "python",
   "name": "python3"
  },
  "language_info": {
   "codemirror_mode": {
    "name": "ipython",
    "version": 3
   },
   "file_extension": ".py",
   "mimetype": "text/x-python",
   "name": "python",
   "nbconvert_exporter": "python",
   "pygments_lexer": "ipython3",
   "version": "3.12.9"
  }
 },
 "nbformat": 4,
 "nbformat_minor": 5
}
