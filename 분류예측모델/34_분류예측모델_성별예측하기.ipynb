{
 "cells": [
  {
   "cell_type": "markdown",
   "metadata": {
    "id": "nTXGJAoU91gM"
   },
   "source": [
    "# 🚀 머신러닝 실습 : 고객 구매 데이터로 성별 예측 모델링 (분류 문제)\n",
    "\n",
    "* 주어진 데이터는 백화점 고객의 1년 간 구매 데이터입니다.\n",
    "* 고객 3,500명에 대한 학습용 데이터(y.csv, X.csv)를 이용하여 성별예측 모형을 만들어보세요.\n",
    "* 모델의 성능은 자유롭게 측정해봅니다!"
   ]
  },
  {
   "cell_type": "markdown",
   "metadata": {
    "id": "nTWGcHCx91gP"
   },
   "source": [
    "## [실습 프로세스]\n",
    "1. 데이터 불러오기  \n",
    "2. 데이터 탐색\n",
    "3. 데이터 전처리  \n",
    "4. 학습/테스트 데이터 분리  \n",
    "5. 모델 선택 및 학습  \n",
    "6. 예측 및 평가  "
   ]
  },
  {
   "cell_type": "markdown",
   "metadata": {
    "id": "fMR3GxUg91gQ"
   },
   "source": [
    "\n",
    "<br/>\n",
    "\n",
    "---\n",
    "\n",
    "<br/>\n",
    "<br/>\n",
    "\n",
    "# 0. 라이브러리 불러오기"
   ]
  },
  {
   "cell_type": "markdown",
   "metadata": {
    "id": "Se9SJeEb91gQ"
   },
   "source": [
    "* 라이브러리를 가져와서 과정을 준비합니다"
   ]
  },
  {
   "cell_type": "code",
   "execution_count": 99,
   "metadata": {
    "id": "pWfHfOGW91gR"
   },
   "outputs": [],
   "source": [
    "import numpy as np\n",
    "import pandas as pd\n",
    "import matplotlib.pyplot as plt\n",
    "\n",
    "import warnings\n",
    "warnings.filterwarnings(action='ignore')"
   ]
  },
  {
   "cell_type": "markdown",
   "metadata": {
    "id": "cOi88-PZ91gS"
   },
   "source": [
    "<br/>\n",
    "\n",
    "---\n",
    "\n",
    "<br/>\n",
    "<br/>\n",
    "\n",
    "# 1. 데이터 불러오기\n",
    "* 데이터를 가져와서 과정을 준비합시다.\n",
    "- 인코딩 방식은 'euc-kr' 을 활용하세요.\n",
    "- 데이터 출처 : 한국데이터산업진흥원 빅데이터분석기사 실기 공개 예시 문항\n",
    "\n",
    "- 독립 변수 데이터셋 : ./data/X.csv\n",
    "- 종속 변수 데이터셋 : ./data/y.csv"
   ]
  },
  {
   "cell_type": "markdown",
   "metadata": {
    "id": "70290e1a"
   },
   "source": [
    "\n",
    "데이터 파일을 불러옵니다. 보통 CSV 파일을 pandas로 읽어옵니다."
   ]
  },
  {
   "cell_type": "code",
   "execution_count": 100,
   "metadata": {},
   "outputs": [
    {
     "name": "stdout",
     "output_type": "stream",
     "text": [
      "변경 후: C:\\githome\\hipython_rep\n"
     ]
    }
   ],
   "source": [
    "import os\n",
    "# 노트북 파일이 있는 폴더로 이동 (예시)\n",
    "os.chdir(r'C:\\githome\\hipython_rep')\n",
    "\n",
    "# 변경 후 확인\n",
    "print(\"변경 후:\", os.getcwd())"
   ]
  },
  {
   "cell_type": "code",
   "execution_count": 101,
   "metadata": {
    "id": "rd7D3p2U91gS"
   },
   "outputs": [],
   "source": [
    "X = pd.read_csv('./data1/X.csv', encoding='euc-kr')\n",
    "y = pd.read_csv('./data1/y.csv', encoding='euc-kr')"
   ]
  },
  {
   "cell_type": "markdown",
   "metadata": {
    "id": "juTPghw191gT"
   },
   "source": [
    "<br/>\n",
    "\n",
    "---\n",
    "\n",
    "<br/>\n",
    "<br/>\n",
    "\n",
    "# 2. 데이터 탐색하기\n",
    "* 데이터를 이해할 수 있도록 탐색과정을 수행해봅시다."
   ]
  },
  {
   "cell_type": "markdown",
   "metadata": {
    "id": "a20f7f93"
   },
   "source": [
    "\n",
    "데이터의 상위 몇 개 행을 출력하여 전체 구조를 미리 확인합니다."
   ]
  },
  {
   "cell_type": "markdown",
   "metadata": {
    "id": "61a879c4"
   },
   "source": [
    "\n",
    "데이터의 요약 정보나 통계 정보를 출력해 변수들의 유형과 분포를 확인합니다."
   ]
  },
  {
   "cell_type": "markdown",
   "metadata": {
    "id": "7968371f"
   },
   "source": [
    "\n",
    "데이터의 요약 정보나 통계 정보를 출력해 변수들의 유형과 분포를 확인합니다."
   ]
  },
  {
   "cell_type": "code",
   "execution_count": 102,
   "metadata": {},
   "outputs": [
    {
     "data": {
      "text/html": [
       "<div>\n",
       "<style scoped>\n",
       "    .dataframe tbody tr th:only-of-type {\n",
       "        vertical-align: middle;\n",
       "    }\n",
       "\n",
       "    .dataframe tbody tr th {\n",
       "        vertical-align: top;\n",
       "    }\n",
       "\n",
       "    .dataframe thead th {\n",
       "        text-align: right;\n",
       "    }\n",
       "</style>\n",
       "<table border=\"1\" class=\"dataframe\">\n",
       "  <thead>\n",
       "    <tr style=\"text-align: right;\">\n",
       "      <th></th>\n",
       "      <th>cust_id</th>\n",
       "      <th>총구매액</th>\n",
       "      <th>최대구매액</th>\n",
       "      <th>환불금액</th>\n",
       "      <th>주구매상품</th>\n",
       "      <th>주구매지점</th>\n",
       "      <th>내점일수</th>\n",
       "      <th>내점당구매건수</th>\n",
       "      <th>주말방문비율</th>\n",
       "      <th>구매주기</th>\n",
       "    </tr>\n",
       "  </thead>\n",
       "  <tbody>\n",
       "    <tr>\n",
       "      <th>0</th>\n",
       "      <td>0</td>\n",
       "      <td>68282840</td>\n",
       "      <td>11264000</td>\n",
       "      <td>6860000.0</td>\n",
       "      <td>기타</td>\n",
       "      <td>강남점</td>\n",
       "      <td>19</td>\n",
       "      <td>3.894737</td>\n",
       "      <td>0.527027</td>\n",
       "      <td>17</td>\n",
       "    </tr>\n",
       "    <tr>\n",
       "      <th>1</th>\n",
       "      <td>1</td>\n",
       "      <td>2136000</td>\n",
       "      <td>2136000</td>\n",
       "      <td>300000.0</td>\n",
       "      <td>스포츠</td>\n",
       "      <td>잠실점</td>\n",
       "      <td>2</td>\n",
       "      <td>1.500000</td>\n",
       "      <td>0.000000</td>\n",
       "      <td>1</td>\n",
       "    </tr>\n",
       "    <tr>\n",
       "      <th>2</th>\n",
       "      <td>2</td>\n",
       "      <td>3197000</td>\n",
       "      <td>1639000</td>\n",
       "      <td>NaN</td>\n",
       "      <td>남성 캐주얼</td>\n",
       "      <td>관악점</td>\n",
       "      <td>2</td>\n",
       "      <td>2.000000</td>\n",
       "      <td>0.000000</td>\n",
       "      <td>1</td>\n",
       "    </tr>\n",
       "  </tbody>\n",
       "</table>\n",
       "</div>"
      ],
      "text/plain": [
       "   cust_id      총구매액     최대구매액       환불금액   주구매상품 주구매지점  내점일수   내점당구매건수  \\\n",
       "0        0  68282840  11264000  6860000.0      기타   강남점    19  3.894737   \n",
       "1        1   2136000   2136000   300000.0     스포츠   잠실점     2  1.500000   \n",
       "2        2   3197000   1639000        NaN  남성 캐주얼   관악점     2  2.000000   \n",
       "\n",
       "     주말방문비율  구매주기  \n",
       "0  0.527027    17  \n",
       "1  0.000000     1  \n",
       "2  0.000000     1  "
      ]
     },
     "execution_count": 102,
     "metadata": {},
     "output_type": "execute_result"
    }
   ],
   "source": [
    "X.head(3)"
   ]
  },
  {
   "cell_type": "code",
   "execution_count": 103,
   "metadata": {},
   "outputs": [
    {
     "data": {
      "text/html": [
       "<div>\n",
       "<style scoped>\n",
       "    .dataframe tbody tr th:only-of-type {\n",
       "        vertical-align: middle;\n",
       "    }\n",
       "\n",
       "    .dataframe tbody tr th {\n",
       "        vertical-align: top;\n",
       "    }\n",
       "\n",
       "    .dataframe thead th {\n",
       "        text-align: right;\n",
       "    }\n",
       "</style>\n",
       "<table border=\"1\" class=\"dataframe\">\n",
       "  <thead>\n",
       "    <tr style=\"text-align: right;\">\n",
       "      <th></th>\n",
       "      <th>cust_id</th>\n",
       "      <th>gender</th>\n",
       "    </tr>\n",
       "  </thead>\n",
       "  <tbody>\n",
       "    <tr>\n",
       "      <th>0</th>\n",
       "      <td>0</td>\n",
       "      <td>0</td>\n",
       "    </tr>\n",
       "    <tr>\n",
       "      <th>1</th>\n",
       "      <td>1</td>\n",
       "      <td>0</td>\n",
       "    </tr>\n",
       "    <tr>\n",
       "      <th>2</th>\n",
       "      <td>2</td>\n",
       "      <td>1</td>\n",
       "    </tr>\n",
       "  </tbody>\n",
       "</table>\n",
       "</div>"
      ],
      "text/plain": [
       "   cust_id  gender\n",
       "0        0       0\n",
       "1        1       0\n",
       "2        2       1"
      ]
     },
     "execution_count": 103,
     "metadata": {},
     "output_type": "execute_result"
    }
   ],
   "source": [
    "y.head(3)"
   ]
  },
  {
   "cell_type": "code",
   "execution_count": 104,
   "metadata": {},
   "outputs": [
    {
     "data": {
      "text/plain": [
       "cust_id       0\n",
       "총구매액          0\n",
       "최대구매액         0\n",
       "환불금액       2295\n",
       "주구매상품         0\n",
       "주구매지점         0\n",
       "내점일수          0\n",
       "내점당구매건수       0\n",
       "주말방문비율        0\n",
       "구매주기          0\n",
       "dtype: int64"
      ]
     },
     "execution_count": 104,
     "metadata": {},
     "output_type": "execute_result"
    }
   ],
   "source": [
    "X.isna().sum()"
   ]
  },
  {
   "cell_type": "code",
   "execution_count": 105,
   "metadata": {},
   "outputs": [
    {
     "data": {
      "text/plain": [
       "주구매상품\n",
       "가공식품      1.979173e+07\n",
       "가구        1.011060e+07\n",
       "건강식품      1.277410e+07\n",
       "골프        2.146390e+07\n",
       "구두        3.320762e+06\n",
       "기타        1.719766e+07\n",
       "남성 캐주얼    6.450662e+06\n",
       "남성 트랜디    2.512380e+07\n",
       "남성정장      4.507000e+06\n",
       "농산물       2.263326e+07\n",
       "대형가전      9.732867e+07\n",
       "디자이너      7.049435e+07\n",
       "란제리/내의    2.240960e+07\n",
       "명품        3.892411e+07\n",
       "모피/피혁     5.531688e+06\n",
       "보석                 NaN\n",
       "생활잡화      6.528000e+06\n",
       "섬유잡화      6.353624e+06\n",
       "셔츠        3.964160e+06\n",
       "소형가전               NaN\n",
       "수산품       8.470131e+06\n",
       "스포츠       9.834013e+06\n",
       "시티웨어      1.811968e+07\n",
       "식기        4.255000e+07\n",
       "아동        3.021707e+07\n",
       "악기                 NaN\n",
       "액세서리      6.888000e+06\n",
       "육류        1.163039e+07\n",
       "일용잡화      9.641162e+06\n",
       "젓갈/반찬     1.470748e+07\n",
       "주류        5.600000e+03\n",
       "주방가전      9.446430e+07\n",
       "주방용품      6.425075e+06\n",
       "차/커피      6.920356e+06\n",
       "축산가공      1.087173e+07\n",
       "침구/수예     3.175245e+07\n",
       "캐주얼       2.077980e+07\n",
       "커리어       2.447445e+07\n",
       "통신/컴퓨터             NaN\n",
       "트래디셔널     6.542200e+06\n",
       "피혁잡화      3.356925e+06\n",
       "화장품       2.198165e+07\n",
       "Name: 환불금액, dtype: float64"
      ]
     },
     "execution_count": 105,
     "metadata": {},
     "output_type": "execute_result"
    }
   ],
   "source": [
    "temp = X.groupby('주구매상품')['환불금액'].mean()\n",
    "temp"
   ]
  },
  {
   "cell_type": "code",
   "execution_count": 106,
   "metadata": {},
   "outputs": [
    {
     "data": {
      "text/plain": [
       "0        기타\n",
       "1       스포츠\n",
       "2    남성 캐주얼\n",
       "3        기타\n",
       "4        보석\n",
       "Name: 주구매상품, dtype: object"
      ]
     },
     "execution_count": 106,
     "metadata": {},
     "output_type": "execute_result"
    }
   ],
   "source": [
    "X['주구매상품'].head()"
   ]
  },
  {
   "cell_type": "markdown",
   "metadata": {
    "id": "vJ1cHqu591gW"
   },
   "source": [
    "<br/>\n",
    "\n",
    "---\n",
    "\n",
    "<br/>\n",
    "<br/>\n",
    "\n",
    "# 3. 데이터 전처리\n",
    "* 전처리 과정을 통해서 머신러닝에 사용할 수 있는 형태의 데이터 준비"
   ]
  },
  {
   "cell_type": "markdown",
   "metadata": {
    "id": "_ZZfaw8wRK0q"
   },
   "source": [
    "* 단순히 1부터의 숫자를 부여한 'cust_id'를 수치형 변수로 받아들이면, 결과가 왜곡될 수 있으니 컬럼을 제거합니다."
   ]
  },
  {
   "cell_type": "markdown",
   "metadata": {
    "id": "6f732fc5"
   },
   "source": [
    "- 데이터에 결측치가 있는지 확인해보세요\n"
   ]
  },
  {
   "cell_type": "markdown",
   "metadata": {
    "id": "JCUDSOz5S4Uj"
   },
   "source": [
    "- 결측치에 0으로 채워 넣어 모델 학습에 지장이 없도록 합니다."
   ]
  },
  {
   "cell_type": "markdown",
   "metadata": {
    "id": "4c4576cb"
   },
   "source": [
    "\n",
    "문자형 범주 데이터를 숫자로 바꾸기 위한 인코딩을 수행합니다."
   ]
  },
  {
   "cell_type": "markdown",
   "metadata": {
    "id": "6a007ad3"
   },
   "source": [
    "각 데이터에 표준화를 적용하여 데이터의 스케일(크기 차이)을 맞춰줍니다.\n",
    "- 평균을 0, 표준편차를 1로 맞춰서 → 데이터가 정규 분포 형태로 변환되도록 하세요"
   ]
  },
  {
   "cell_type": "code",
   "execution_count": 107,
   "metadata": {},
   "outputs": [],
   "source": [
    "temp = X.groupby('주구매상품')['환불금액'].transform('mean')\n",
    "X['환불금액'] = X['환불금액'].mask(X['환불금액'].isna(), temp)"
   ]
  },
  {
   "cell_type": "code",
   "execution_count": 108,
   "metadata": {},
   "outputs": [
    {
     "data": {
      "text/plain": [
       "np.int64(0)"
      ]
     },
     "execution_count": 108,
     "metadata": {},
     "output_type": "execute_result"
    }
   ],
   "source": [
    "X['환불금액'] = X['환불금액'].fillna(X['환불금액'].mean())\n",
    "X.isna().sum().sum()"
   ]
  },
  {
   "cell_type": "code",
   "execution_count": 109,
   "metadata": {},
   "outputs": [
    {
     "data": {
      "text/html": [
       "<div>\n",
       "<style scoped>\n",
       "    .dataframe tbody tr th:only-of-type {\n",
       "        vertical-align: middle;\n",
       "    }\n",
       "\n",
       "    .dataframe tbody tr th {\n",
       "        vertical-align: top;\n",
       "    }\n",
       "\n",
       "    .dataframe thead th {\n",
       "        text-align: right;\n",
       "    }\n",
       "</style>\n",
       "<table border=\"1\" class=\"dataframe\">\n",
       "  <thead>\n",
       "    <tr style=\"text-align: right;\">\n",
       "      <th></th>\n",
       "      <th>cust_id</th>\n",
       "      <th>총구매액</th>\n",
       "      <th>최대구매액</th>\n",
       "      <th>환불금액</th>\n",
       "      <th>내점일수</th>\n",
       "      <th>내점당구매건수</th>\n",
       "      <th>주말방문비율</th>\n",
       "      <th>구매주기</th>\n",
       "    </tr>\n",
       "  </thead>\n",
       "  <tbody>\n",
       "    <tr>\n",
       "      <th>cust_id</th>\n",
       "      <td>1.000000</td>\n",
       "      <td>-0.008004</td>\n",
       "      <td>-0.005883</td>\n",
       "      <td>0.036162</td>\n",
       "      <td>-0.025234</td>\n",
       "      <td>-0.004840</td>\n",
       "      <td>0.001900</td>\n",
       "      <td>0.020070</td>\n",
       "    </tr>\n",
       "    <tr>\n",
       "      <th>총구매액</th>\n",
       "      <td>-0.008004</td>\n",
       "      <td>1.000000</td>\n",
       "      <td>0.700080</td>\n",
       "      <td>0.366023</td>\n",
       "      <td>0.659084</td>\n",
       "      <td>0.090022</td>\n",
       "      <td>0.014396</td>\n",
       "      <td>-0.212944</td>\n",
       "    </tr>\n",
       "    <tr>\n",
       "      <th>최대구매액</th>\n",
       "      <td>-0.005883</td>\n",
       "      <td>0.700080</td>\n",
       "      <td>1.000000</td>\n",
       "      <td>0.356716</td>\n",
       "      <td>0.374147</td>\n",
       "      <td>0.018980</td>\n",
       "      <td>0.022277</td>\n",
       "      <td>-0.115837</td>\n",
       "    </tr>\n",
       "    <tr>\n",
       "      <th>환불금액</th>\n",
       "      <td>0.036162</td>\n",
       "      <td>0.366023</td>\n",
       "      <td>0.356716</td>\n",
       "      <td>1.000000</td>\n",
       "      <td>0.237056</td>\n",
       "      <td>-0.040541</td>\n",
       "      <td>-0.038327</td>\n",
       "      <td>-0.086858</td>\n",
       "    </tr>\n",
       "    <tr>\n",
       "      <th>내점일수</th>\n",
       "      <td>-0.025234</td>\n",
       "      <td>0.659084</td>\n",
       "      <td>0.374147</td>\n",
       "      <td>0.237056</td>\n",
       "      <td>1.000000</td>\n",
       "      <td>0.225264</td>\n",
       "      <td>-0.010325</td>\n",
       "      <td>-0.293200</td>\n",
       "    </tr>\n",
       "    <tr>\n",
       "      <th>내점당구매건수</th>\n",
       "      <td>-0.004840</td>\n",
       "      <td>0.090022</td>\n",
       "      <td>0.018980</td>\n",
       "      <td>-0.040541</td>\n",
       "      <td>0.225264</td>\n",
       "      <td>1.000000</td>\n",
       "      <td>0.007659</td>\n",
       "      <td>-0.091151</td>\n",
       "    </tr>\n",
       "    <tr>\n",
       "      <th>주말방문비율</th>\n",
       "      <td>0.001900</td>\n",
       "      <td>0.014396</td>\n",
       "      <td>0.022277</td>\n",
       "      <td>-0.038327</td>\n",
       "      <td>-0.010325</td>\n",
       "      <td>0.007659</td>\n",
       "      <td>1.000000</td>\n",
       "      <td>0.003372</td>\n",
       "    </tr>\n",
       "    <tr>\n",
       "      <th>구매주기</th>\n",
       "      <td>0.020070</td>\n",
       "      <td>-0.212944</td>\n",
       "      <td>-0.115837</td>\n",
       "      <td>-0.086858</td>\n",
       "      <td>-0.293200</td>\n",
       "      <td>-0.091151</td>\n",
       "      <td>0.003372</td>\n",
       "      <td>1.000000</td>\n",
       "    </tr>\n",
       "  </tbody>\n",
       "</table>\n",
       "</div>"
      ],
      "text/plain": [
       "          cust_id      총구매액     최대구매액      환불금액      내점일수   내점당구매건수    주말방문비율  \\\n",
       "cust_id  1.000000 -0.008004 -0.005883  0.036162 -0.025234 -0.004840  0.001900   \n",
       "총구매액    -0.008004  1.000000  0.700080  0.366023  0.659084  0.090022  0.014396   \n",
       "최대구매액   -0.005883  0.700080  1.000000  0.356716  0.374147  0.018980  0.022277   \n",
       "환불금액     0.036162  0.366023  0.356716  1.000000  0.237056 -0.040541 -0.038327   \n",
       "내점일수    -0.025234  0.659084  0.374147  0.237056  1.000000  0.225264 -0.010325   \n",
       "내점당구매건수 -0.004840  0.090022  0.018980 -0.040541  0.225264  1.000000  0.007659   \n",
       "주말방문비율   0.001900  0.014396  0.022277 -0.038327 -0.010325  0.007659  1.000000   \n",
       "구매주기     0.020070 -0.212944 -0.115837 -0.086858 -0.293200 -0.091151  0.003372   \n",
       "\n",
       "             구매주기  \n",
       "cust_id  0.020070  \n",
       "총구매액    -0.212944  \n",
       "최대구매액   -0.115837  \n",
       "환불금액    -0.086858  \n",
       "내점일수    -0.293200  \n",
       "내점당구매건수 -0.091151  \n",
       "주말방문비율   0.003372  \n",
       "구매주기     1.000000  "
      ]
     },
     "execution_count": 109,
     "metadata": {},
     "output_type": "execute_result"
    }
   ],
   "source": [
    "X.corr(numeric_only=True)"
   ]
  },
  {
   "cell_type": "code",
   "execution_count": 110,
   "metadata": {},
   "outputs": [
    {
     "data": {
      "text/plain": [
       "gender\n",
       "0    0.624\n",
       "1    0.376\n",
       "Name: proportion, dtype: float64"
      ]
     },
     "execution_count": 110,
     "metadata": {},
     "output_type": "execute_result"
    }
   ],
   "source": [
    "temp = y['gender'].value_counts(normalize=True)\n",
    "temp"
   ]
  },
  {
   "cell_type": "code",
   "execution_count": 111,
   "metadata": {},
   "outputs": [
    {
     "data": {
      "text/plain": [
       "array(['강남점', '잠실점', '관악점', '광주점', '본  점', '일산점', '대전점', '부산본점', '분당점',\n",
       "       '영등포점', '미아점', '청량리점', '안양점', '부평점', '동래점', '포항점', '노원점', '창원점',\n",
       "       '센텀시티점', '인천점', '대구점', '전주점', '울산점', '상인점'], dtype=object)"
      ]
     },
     "execution_count": 111,
     "metadata": {},
     "output_type": "execute_result"
    }
   ],
   "source": [
    "A = X['주구매지점'].unique()\n",
    "A"
   ]
  },
  {
   "cell_type": "code",
   "execution_count": 112,
   "metadata": {},
   "outputs": [
    {
     "data": {
      "text/plain": [
       "array(['기타', '스포츠', '남성 캐주얼', '보석', '디자이너', '시티웨어', '명품', '농산물', '화장품',\n",
       "       '골프', '구두', '가공식품', '수산품', '아동', '차/커피', '캐주얼', '섬유잡화', '육류',\n",
       "       '축산가공', '젓갈/반찬', '액세서리', '피혁잡화', '일용잡화', '주방가전', '주방용품', '건강식품',\n",
       "       '가구', '주류', '모피/피혁', '남성 트랜디', '셔츠', '남성정장', '생활잡화', '트래디셔널',\n",
       "       '란제리/내의', '커리어', '침구/수예', '대형가전', '통신/컴퓨터', '식기', '소형가전', '악기'],\n",
       "      dtype=object)"
      ]
     },
     "execution_count": 112,
     "metadata": {},
     "output_type": "execute_result"
    }
   ],
   "source": [
    "B = X['주구매상품'].unique()\n",
    "B"
   ]
  },
  {
   "cell_type": "code",
   "execution_count": 113,
   "metadata": {},
   "outputs": [],
   "source": [
    "X['주구매지점'] = X['주구매지점'].astype('category').cat.codes\n",
    "X['주구매상품'] = X['주구매상품'].astype('category').cat.codes"
   ]
  },
  {
   "cell_type": "markdown",
   "metadata": {
    "id": "ZvGAVRwM91gZ"
   },
   "source": [
    "<br/>\n",
    "\n",
    "---\n",
    "\n",
    "<br/>\n",
    "<br/>\n",
    "\n",
    "# 5-1. 모델링 - LogisticRegression\n",
    "\n",
    "* 본격적으로 모델을 선언하고 학습시킵니다."
   ]
  },
  {
   "cell_type": "markdown",
   "metadata": {
    "id": "9ff4c1c6"
   },
   "source": [
    "\n",
    "필요한 라이브러리를 불러옵니다."
   ]
  },
  {
   "cell_type": "markdown",
   "metadata": {
    "id": "041ddb99"
   },
   "source": [
    "모델을 선언하여 객체화시킵니다."
   ]
  },
  {
   "cell_type": "markdown",
   "metadata": {
    "id": "af2d6884"
   },
   "source": [
    "\n",
    "모델을 학습 데이터에 맞춰 학습시킵니다."
   ]
  },
  {
   "cell_type": "code",
   "execution_count": 114,
   "metadata": {},
   "outputs": [],
   "source": [
    "from sklearn.linear_model import LogisticRegression"
   ]
  },
  {
   "cell_type": "code",
   "execution_count": 115,
   "metadata": {},
   "outputs": [],
   "source": [
    "lr_clf = LogisticRegression(solver='liblinear')\n",
    "knn_clf = KNeighborsClassifier(n_neighbors=7)\n",
    "vo_clf = VotingClassifier(estimators=[('LR', lr_clf),('KNN', knn_clf)],\n",
    "                          voting='soft')"
   ]
  },
  {
   "cell_type": "code",
   "execution_count": 116,
   "metadata": {},
   "outputs": [
    {
     "data": {
      "text/plain": [
       "0.6214285714285714"
      ]
     },
     "execution_count": 116,
     "metadata": {},
     "output_type": "execute_result"
    }
   ],
   "source": [
    "vo_clf.fit(X_train, y_train)\n",
    "vo_pred = vo_clf.predict(X_test)\n",
    "accuracy_score(y_test, vo_pred)"
   ]
  },
  {
   "cell_type": "code",
   "execution_count": 117,
   "metadata": {},
   "outputs": [
    {
     "data": {
      "text/plain": [
       "array([[363,  88],\n",
       "       [177,  72]])"
      ]
     },
     "execution_count": 117,
     "metadata": {},
     "output_type": "execute_result"
    }
   ],
   "source": [
    "confusion_matrix(y_test, vo_pred)"
   ]
  },
  {
   "cell_type": "code",
   "execution_count": 118,
   "metadata": {},
   "outputs": [
    {
     "name": "stdout",
     "output_type": "stream",
     "text": [
      "              precision    recall  f1-score   support\n",
      "\n",
      "           0       0.67      0.80      0.73       451\n",
      "           1       0.45      0.29      0.35       249\n",
      "\n",
      "    accuracy                           0.62       700\n",
      "   macro avg       0.56      0.55      0.54       700\n",
      "weighted avg       0.59      0.62      0.60       700\n",
      "\n"
     ]
    }
   ],
   "source": [
    "print(classification_report(y_test, vo_pred))"
   ]
  },
  {
   "cell_type": "markdown",
   "metadata": {
    "id": "ZFuzRBOi91gq"
   },
   "source": [
    "# 6-1. 예측 성능 확인해보기 - LogisticRegression\n",
    "\n",
    "- 학습된 모델로 테스트 데이터에 대한 예측을 수행합니다."
   ]
  },
  {
   "cell_type": "markdown",
   "metadata": {
    "id": "abdb560b"
   },
   "source": [
    "- 학습시킨 모델의 성능을 알아봅니다\n",
    "- 각 평가지표로 모델의 성능을 수치화하여 확인합니다.\n",
    "- 필요한 라이브러리를 import 하고 성능을 확인해보세요 (정확도, 정밀도, 재현율, f1, confusion_matrix)"
   ]
  },
  {
   "cell_type": "code",
   "execution_count": 119,
   "metadata": {},
   "outputs": [],
   "source": [
    "def get_clf_eval(y_test, pred):\n",
    "    confusion = confusion_matrix(y_test, pred)\n",
    "    accuracy = accuracy_score(y_test, pred)\n",
    "    precision = precision_score(y_test, pred)\n",
    "    recall = recall_score(y_test, pred)\n",
    "\n",
    "    print(confusion)\n",
    "    print(accuracy, precision, recall)"
   ]
  },
  {
   "cell_type": "code",
   "execution_count": 120,
   "metadata": {},
   "outputs": [
    {
     "name": "stdout",
     "output_type": "stream",
     "text": [
      "KNN 모델의 정확도: 0.63143\n",
      "RF 모델의 정확도: 0.65714\n",
      "LR 모델의 정확도: 0.64429\n"
     ]
    }
   ],
   "source": [
    "from sklearn.neighbors import KNeighborsClassifier\n",
    "from sklearn.ensemble import RandomForestClassifier\n",
    "\n",
    "models = {\n",
    "  'KNN': KNeighborsClassifier(n_neighbors=5),\n",
    "  'RF': RandomForestClassifier(500, max_depth=6,random_state=0),\n",
    "  'LR': LogisticRegression(max_iter=3000)\n",
    "}\n",
    "for name, model in models.items():\n",
    "  model.fit(X_train, y_train)\n",
    "  y_pred = model.predict(X_test)\n",
    "  acc = accuracy_score(y_test, y_pred)\n",
    "  print(f'{name} 모델의 정확도: {acc:.5f}')"
   ]
  },
  {
   "cell_type": "code",
   "execution_count": 121,
   "metadata": {},
   "outputs": [
    {
     "name": "stdout",
     "output_type": "stream",
     "text": [
      "[[265 186]\n",
      " [108 141]]\n",
      "0.58 0.43119266055045874 0.5662650602409639\n"
     ]
    }
   ],
   "source": [
    "pred_proba = vo_clf.predict_proba(X_test) #prova에 X_test를 넣었을 때 0일 확률, 1일 확률\n",
    "pos_proba = pred_proba[:,1] # 양성클래스일 확률\n",
    "threshold = 0.4 # 임계치\n",
    "custom_proba = (pos_proba >= threshold).astype(int) # 임계치보다 크면 1로 넣는다.\n",
    "confusion_matrix(y_test, custom_proba)\n",
    "\n",
    "# 정확도, 정밀도, 재현율\n",
    "get_clf_eval(y_test, custom_proba)"
   ]
  },
  {
   "cell_type": "markdown",
   "metadata": {
    "id": "dQuSbLz84nro"
   },
   "source": [
    "\n",
    "<br/>\n",
    "\n",
    "---\n",
    "\n",
    "<br/>\n",
    "<br/>\n",
    "\n",
    "# 5-2. 모델링 - DecisionTreeClassifier\n",
    "\n",
    "* 본격적으로 모델을 선언하고 학습시킵니다."
   ]
  },
  {
   "cell_type": "markdown",
   "metadata": {
    "id": "aVO9QGP_NqVL"
   },
   "source": [
    "\n",
    "필요한 라이브러리를 불러옵니다."
   ]
  },
  {
   "cell_type": "markdown",
   "metadata": {
    "id": "dvCbouLY4n-p"
   },
   "source": [
    "모델을 선언하여 객체화시킵니다."
   ]
  },
  {
   "cell_type": "markdown",
   "metadata": {
    "id": "rOcWcPPH4oMc"
   },
   "source": [
    "모델을 학습 데이터에 맞춰 학습시킵니다."
   ]
  },
  {
   "cell_type": "code",
   "execution_count": 122,
   "metadata": {},
   "outputs": [
    {
     "data": {
      "text/html": [
       "<style>#sk-container-id-2 {\n",
       "  /* Definition of color scheme common for light and dark mode */\n",
       "  --sklearn-color-text: black;\n",
       "  --sklearn-color-line: gray;\n",
       "  /* Definition of color scheme for unfitted estimators */\n",
       "  --sklearn-color-unfitted-level-0: #fff5e6;\n",
       "  --sklearn-color-unfitted-level-1: #f6e4d2;\n",
       "  --sklearn-color-unfitted-level-2: #ffe0b3;\n",
       "  --sklearn-color-unfitted-level-3: chocolate;\n",
       "  /* Definition of color scheme for fitted estimators */\n",
       "  --sklearn-color-fitted-level-0: #f0f8ff;\n",
       "  --sklearn-color-fitted-level-1: #d4ebff;\n",
       "  --sklearn-color-fitted-level-2: #b3dbfd;\n",
       "  --sklearn-color-fitted-level-3: cornflowerblue;\n",
       "\n",
       "  /* Specific color for light theme */\n",
       "  --sklearn-color-text-on-default-background: var(--sg-text-color, var(--theme-code-foreground, var(--jp-content-font-color1, black)));\n",
       "  --sklearn-color-background: var(--sg-background-color, var(--theme-background, var(--jp-layout-color0, white)));\n",
       "  --sklearn-color-border-box: var(--sg-text-color, var(--theme-code-foreground, var(--jp-content-font-color1, black)));\n",
       "  --sklearn-color-icon: #696969;\n",
       "\n",
       "  @media (prefers-color-scheme: dark) {\n",
       "    /* Redefinition of color scheme for dark theme */\n",
       "    --sklearn-color-text-on-default-background: var(--sg-text-color, var(--theme-code-foreground, var(--jp-content-font-color1, white)));\n",
       "    --sklearn-color-background: var(--sg-background-color, var(--theme-background, var(--jp-layout-color0, #111)));\n",
       "    --sklearn-color-border-box: var(--sg-text-color, var(--theme-code-foreground, var(--jp-content-font-color1, white)));\n",
       "    --sklearn-color-icon: #878787;\n",
       "  }\n",
       "}\n",
       "\n",
       "#sk-container-id-2 {\n",
       "  color: var(--sklearn-color-text);\n",
       "}\n",
       "\n",
       "#sk-container-id-2 pre {\n",
       "  padding: 0;\n",
       "}\n",
       "\n",
       "#sk-container-id-2 input.sk-hidden--visually {\n",
       "  border: 0;\n",
       "  clip: rect(1px 1px 1px 1px);\n",
       "  clip: rect(1px, 1px, 1px, 1px);\n",
       "  height: 1px;\n",
       "  margin: -1px;\n",
       "  overflow: hidden;\n",
       "  padding: 0;\n",
       "  position: absolute;\n",
       "  width: 1px;\n",
       "}\n",
       "\n",
       "#sk-container-id-2 div.sk-dashed-wrapped {\n",
       "  border: 1px dashed var(--sklearn-color-line);\n",
       "  margin: 0 0.4em 0.5em 0.4em;\n",
       "  box-sizing: border-box;\n",
       "  padding-bottom: 0.4em;\n",
       "  background-color: var(--sklearn-color-background);\n",
       "}\n",
       "\n",
       "#sk-container-id-2 div.sk-container {\n",
       "  /* jupyter's `normalize.less` sets `[hidden] { display: none; }`\n",
       "     but bootstrap.min.css set `[hidden] { display: none !important; }`\n",
       "     so we also need the `!important` here to be able to override the\n",
       "     default hidden behavior on the sphinx rendered scikit-learn.org.\n",
       "     See: https://github.com/scikit-learn/scikit-learn/issues/21755 */\n",
       "  display: inline-block !important;\n",
       "  position: relative;\n",
       "}\n",
       "\n",
       "#sk-container-id-2 div.sk-text-repr-fallback {\n",
       "  display: none;\n",
       "}\n",
       "\n",
       "div.sk-parallel-item,\n",
       "div.sk-serial,\n",
       "div.sk-item {\n",
       "  /* draw centered vertical line to link estimators */\n",
       "  background-image: linear-gradient(var(--sklearn-color-text-on-default-background), var(--sklearn-color-text-on-default-background));\n",
       "  background-size: 2px 100%;\n",
       "  background-repeat: no-repeat;\n",
       "  background-position: center center;\n",
       "}\n",
       "\n",
       "/* Parallel-specific style estimator block */\n",
       "\n",
       "#sk-container-id-2 div.sk-parallel-item::after {\n",
       "  content: \"\";\n",
       "  width: 100%;\n",
       "  border-bottom: 2px solid var(--sklearn-color-text-on-default-background);\n",
       "  flex-grow: 1;\n",
       "}\n",
       "\n",
       "#sk-container-id-2 div.sk-parallel {\n",
       "  display: flex;\n",
       "  align-items: stretch;\n",
       "  justify-content: center;\n",
       "  background-color: var(--sklearn-color-background);\n",
       "  position: relative;\n",
       "}\n",
       "\n",
       "#sk-container-id-2 div.sk-parallel-item {\n",
       "  display: flex;\n",
       "  flex-direction: column;\n",
       "}\n",
       "\n",
       "#sk-container-id-2 div.sk-parallel-item:first-child::after {\n",
       "  align-self: flex-end;\n",
       "  width: 50%;\n",
       "}\n",
       "\n",
       "#sk-container-id-2 div.sk-parallel-item:last-child::after {\n",
       "  align-self: flex-start;\n",
       "  width: 50%;\n",
       "}\n",
       "\n",
       "#sk-container-id-2 div.sk-parallel-item:only-child::after {\n",
       "  width: 0;\n",
       "}\n",
       "\n",
       "/* Serial-specific style estimator block */\n",
       "\n",
       "#sk-container-id-2 div.sk-serial {\n",
       "  display: flex;\n",
       "  flex-direction: column;\n",
       "  align-items: center;\n",
       "  background-color: var(--sklearn-color-background);\n",
       "  padding-right: 1em;\n",
       "  padding-left: 1em;\n",
       "}\n",
       "\n",
       "\n",
       "/* Toggleable style: style used for estimator/Pipeline/ColumnTransformer box that is\n",
       "clickable and can be expanded/collapsed.\n",
       "- Pipeline and ColumnTransformer use this feature and define the default style\n",
       "- Estimators will overwrite some part of the style using the `sk-estimator` class\n",
       "*/\n",
       "\n",
       "/* Pipeline and ColumnTransformer style (default) */\n",
       "\n",
       "#sk-container-id-2 div.sk-toggleable {\n",
       "  /* Default theme specific background. It is overwritten whether we have a\n",
       "  specific estimator or a Pipeline/ColumnTransformer */\n",
       "  background-color: var(--sklearn-color-background);\n",
       "}\n",
       "\n",
       "/* Toggleable label */\n",
       "#sk-container-id-2 label.sk-toggleable__label {\n",
       "  cursor: pointer;\n",
       "  display: block;\n",
       "  width: 100%;\n",
       "  margin-bottom: 0;\n",
       "  padding: 0.5em;\n",
       "  box-sizing: border-box;\n",
       "  text-align: center;\n",
       "}\n",
       "\n",
       "#sk-container-id-2 label.sk-toggleable__label-arrow:before {\n",
       "  /* Arrow on the left of the label */\n",
       "  content: \"▸\";\n",
       "  float: left;\n",
       "  margin-right: 0.25em;\n",
       "  color: var(--sklearn-color-icon);\n",
       "}\n",
       "\n",
       "#sk-container-id-2 label.sk-toggleable__label-arrow:hover:before {\n",
       "  color: var(--sklearn-color-text);\n",
       "}\n",
       "\n",
       "/* Toggleable content - dropdown */\n",
       "\n",
       "#sk-container-id-2 div.sk-toggleable__content {\n",
       "  max-height: 0;\n",
       "  max-width: 0;\n",
       "  overflow: hidden;\n",
       "  text-align: left;\n",
       "  /* unfitted */\n",
       "  background-color: var(--sklearn-color-unfitted-level-0);\n",
       "}\n",
       "\n",
       "#sk-container-id-2 div.sk-toggleable__content.fitted {\n",
       "  /* fitted */\n",
       "  background-color: var(--sklearn-color-fitted-level-0);\n",
       "}\n",
       "\n",
       "#sk-container-id-2 div.sk-toggleable__content pre {\n",
       "  margin: 0.2em;\n",
       "  border-radius: 0.25em;\n",
       "  color: var(--sklearn-color-text);\n",
       "  /* unfitted */\n",
       "  background-color: var(--sklearn-color-unfitted-level-0);\n",
       "}\n",
       "\n",
       "#sk-container-id-2 div.sk-toggleable__content.fitted pre {\n",
       "  /* unfitted */\n",
       "  background-color: var(--sklearn-color-fitted-level-0);\n",
       "}\n",
       "\n",
       "#sk-container-id-2 input.sk-toggleable__control:checked~div.sk-toggleable__content {\n",
       "  /* Expand drop-down */\n",
       "  max-height: 200px;\n",
       "  max-width: 100%;\n",
       "  overflow: auto;\n",
       "}\n",
       "\n",
       "#sk-container-id-2 input.sk-toggleable__control:checked~label.sk-toggleable__label-arrow:before {\n",
       "  content: \"▾\";\n",
       "}\n",
       "\n",
       "/* Pipeline/ColumnTransformer-specific style */\n",
       "\n",
       "#sk-container-id-2 div.sk-label input.sk-toggleable__control:checked~label.sk-toggleable__label {\n",
       "  color: var(--sklearn-color-text);\n",
       "  background-color: var(--sklearn-color-unfitted-level-2);\n",
       "}\n",
       "\n",
       "#sk-container-id-2 div.sk-label.fitted input.sk-toggleable__control:checked~label.sk-toggleable__label {\n",
       "  background-color: var(--sklearn-color-fitted-level-2);\n",
       "}\n",
       "\n",
       "/* Estimator-specific style */\n",
       "\n",
       "/* Colorize estimator box */\n",
       "#sk-container-id-2 div.sk-estimator input.sk-toggleable__control:checked~label.sk-toggleable__label {\n",
       "  /* unfitted */\n",
       "  background-color: var(--sklearn-color-unfitted-level-2);\n",
       "}\n",
       "\n",
       "#sk-container-id-2 div.sk-estimator.fitted input.sk-toggleable__control:checked~label.sk-toggleable__label {\n",
       "  /* fitted */\n",
       "  background-color: var(--sklearn-color-fitted-level-2);\n",
       "}\n",
       "\n",
       "#sk-container-id-2 div.sk-label label.sk-toggleable__label,\n",
       "#sk-container-id-2 div.sk-label label {\n",
       "  /* The background is the default theme color */\n",
       "  color: var(--sklearn-color-text-on-default-background);\n",
       "}\n",
       "\n",
       "/* On hover, darken the color of the background */\n",
       "#sk-container-id-2 div.sk-label:hover label.sk-toggleable__label {\n",
       "  color: var(--sklearn-color-text);\n",
       "  background-color: var(--sklearn-color-unfitted-level-2);\n",
       "}\n",
       "\n",
       "/* Label box, darken color on hover, fitted */\n",
       "#sk-container-id-2 div.sk-label.fitted:hover label.sk-toggleable__label.fitted {\n",
       "  color: var(--sklearn-color-text);\n",
       "  background-color: var(--sklearn-color-fitted-level-2);\n",
       "}\n",
       "\n",
       "/* Estimator label */\n",
       "\n",
       "#sk-container-id-2 div.sk-label label {\n",
       "  font-family: monospace;\n",
       "  font-weight: bold;\n",
       "  display: inline-block;\n",
       "  line-height: 1.2em;\n",
       "}\n",
       "\n",
       "#sk-container-id-2 div.sk-label-container {\n",
       "  text-align: center;\n",
       "}\n",
       "\n",
       "/* Estimator-specific */\n",
       "#sk-container-id-2 div.sk-estimator {\n",
       "  font-family: monospace;\n",
       "  border: 1px dotted var(--sklearn-color-border-box);\n",
       "  border-radius: 0.25em;\n",
       "  box-sizing: border-box;\n",
       "  margin-bottom: 0.5em;\n",
       "  /* unfitted */\n",
       "  background-color: var(--sklearn-color-unfitted-level-0);\n",
       "}\n",
       "\n",
       "#sk-container-id-2 div.sk-estimator.fitted {\n",
       "  /* fitted */\n",
       "  background-color: var(--sklearn-color-fitted-level-0);\n",
       "}\n",
       "\n",
       "/* on hover */\n",
       "#sk-container-id-2 div.sk-estimator:hover {\n",
       "  /* unfitted */\n",
       "  background-color: var(--sklearn-color-unfitted-level-2);\n",
       "}\n",
       "\n",
       "#sk-container-id-2 div.sk-estimator.fitted:hover {\n",
       "  /* fitted */\n",
       "  background-color: var(--sklearn-color-fitted-level-2);\n",
       "}\n",
       "\n",
       "/* Specification for estimator info (e.g. \"i\" and \"?\") */\n",
       "\n",
       "/* Common style for \"i\" and \"?\" */\n",
       "\n",
       ".sk-estimator-doc-link,\n",
       "a:link.sk-estimator-doc-link,\n",
       "a:visited.sk-estimator-doc-link {\n",
       "  float: right;\n",
       "  font-size: smaller;\n",
       "  line-height: 1em;\n",
       "  font-family: monospace;\n",
       "  background-color: var(--sklearn-color-background);\n",
       "  border-radius: 1em;\n",
       "  height: 1em;\n",
       "  width: 1em;\n",
       "  text-decoration: none !important;\n",
       "  margin-left: 1ex;\n",
       "  /* unfitted */\n",
       "  border: var(--sklearn-color-unfitted-level-1) 1pt solid;\n",
       "  color: var(--sklearn-color-unfitted-level-1);\n",
       "}\n",
       "\n",
       ".sk-estimator-doc-link.fitted,\n",
       "a:link.sk-estimator-doc-link.fitted,\n",
       "a:visited.sk-estimator-doc-link.fitted {\n",
       "  /* fitted */\n",
       "  border: var(--sklearn-color-fitted-level-1) 1pt solid;\n",
       "  color: var(--sklearn-color-fitted-level-1);\n",
       "}\n",
       "\n",
       "/* On hover */\n",
       "div.sk-estimator:hover .sk-estimator-doc-link:hover,\n",
       ".sk-estimator-doc-link:hover,\n",
       "div.sk-label-container:hover .sk-estimator-doc-link:hover,\n",
       ".sk-estimator-doc-link:hover {\n",
       "  /* unfitted */\n",
       "  background-color: var(--sklearn-color-unfitted-level-3);\n",
       "  color: var(--sklearn-color-background);\n",
       "  text-decoration: none;\n",
       "}\n",
       "\n",
       "div.sk-estimator.fitted:hover .sk-estimator-doc-link.fitted:hover,\n",
       ".sk-estimator-doc-link.fitted:hover,\n",
       "div.sk-label-container:hover .sk-estimator-doc-link.fitted:hover,\n",
       ".sk-estimator-doc-link.fitted:hover {\n",
       "  /* fitted */\n",
       "  background-color: var(--sklearn-color-fitted-level-3);\n",
       "  color: var(--sklearn-color-background);\n",
       "  text-decoration: none;\n",
       "}\n",
       "\n",
       "/* Span, style for the box shown on hovering the info icon */\n",
       ".sk-estimator-doc-link span {\n",
       "  display: none;\n",
       "  z-index: 9999;\n",
       "  position: relative;\n",
       "  font-weight: normal;\n",
       "  right: .2ex;\n",
       "  padding: .5ex;\n",
       "  margin: .5ex;\n",
       "  width: min-content;\n",
       "  min-width: 20ex;\n",
       "  max-width: 50ex;\n",
       "  color: var(--sklearn-color-text);\n",
       "  box-shadow: 2pt 2pt 4pt #999;\n",
       "  /* unfitted */\n",
       "  background: var(--sklearn-color-unfitted-level-0);\n",
       "  border: .5pt solid var(--sklearn-color-unfitted-level-3);\n",
       "}\n",
       "\n",
       ".sk-estimator-doc-link.fitted span {\n",
       "  /* fitted */\n",
       "  background: var(--sklearn-color-fitted-level-0);\n",
       "  border: var(--sklearn-color-fitted-level-3);\n",
       "}\n",
       "\n",
       ".sk-estimator-doc-link:hover span {\n",
       "  display: block;\n",
       "}\n",
       "\n",
       "/* \"?\"-specific style due to the `<a>` HTML tag */\n",
       "\n",
       "#sk-container-id-2 a.estimator_doc_link {\n",
       "  float: right;\n",
       "  font-size: 1rem;\n",
       "  line-height: 1em;\n",
       "  font-family: monospace;\n",
       "  background-color: var(--sklearn-color-background);\n",
       "  border-radius: 1rem;\n",
       "  height: 1rem;\n",
       "  width: 1rem;\n",
       "  text-decoration: none;\n",
       "  /* unfitted */\n",
       "  color: var(--sklearn-color-unfitted-level-1);\n",
       "  border: var(--sklearn-color-unfitted-level-1) 1pt solid;\n",
       "}\n",
       "\n",
       "#sk-container-id-2 a.estimator_doc_link.fitted {\n",
       "  /* fitted */\n",
       "  border: var(--sklearn-color-fitted-level-1) 1pt solid;\n",
       "  color: var(--sklearn-color-fitted-level-1);\n",
       "}\n",
       "\n",
       "/* On hover */\n",
       "#sk-container-id-2 a.estimator_doc_link:hover {\n",
       "  /* unfitted */\n",
       "  background-color: var(--sklearn-color-unfitted-level-3);\n",
       "  color: var(--sklearn-color-background);\n",
       "  text-decoration: none;\n",
       "}\n",
       "\n",
       "#sk-container-id-2 a.estimator_doc_link.fitted:hover {\n",
       "  /* fitted */\n",
       "  background-color: var(--sklearn-color-fitted-level-3);\n",
       "}\n",
       "</style><div id=\"sk-container-id-2\" class=\"sk-top-container\"><div class=\"sk-text-repr-fallback\"><pre>GridSearchCV(cv=2, estimator=RandomForestClassifier(n_jobs=-1, random_state=0),\n",
       "             n_jobs=-1,\n",
       "             param_grid={&#x27;max_depth&#x27;: [6], &#x27;min_samples_leaf&#x27;: [1, 6],\n",
       "                         &#x27;min_samples_split&#x27;: [2, 5]})</pre><b>In a Jupyter environment, please rerun this cell to show the HTML representation or trust the notebook. <br />On GitHub, the HTML representation is unable to render, please try loading this page with nbviewer.org.</b></div><div class=\"sk-container\" hidden><div class=\"sk-item sk-dashed-wrapped\"><div class=\"sk-label-container\"><div class=\"sk-label fitted sk-toggleable\"><input class=\"sk-toggleable__control sk-hidden--visually\" id=\"sk-estimator-id-4\" type=\"checkbox\" ><label for=\"sk-estimator-id-4\" class=\"sk-toggleable__label fitted sk-toggleable__label-arrow fitted\">&nbsp;&nbsp;GridSearchCV<a class=\"sk-estimator-doc-link fitted\" rel=\"noreferrer\" target=\"_blank\" href=\"https://scikit-learn.org/1.4/modules/generated/sklearn.model_selection.GridSearchCV.html\">?<span>Documentation for GridSearchCV</span></a><span class=\"sk-estimator-doc-link fitted\">i<span>Fitted</span></span></label><div class=\"sk-toggleable__content fitted\"><pre>GridSearchCV(cv=2, estimator=RandomForestClassifier(n_jobs=-1, random_state=0),\n",
       "             n_jobs=-1,\n",
       "             param_grid={&#x27;max_depth&#x27;: [6], &#x27;min_samples_leaf&#x27;: [1, 6],\n",
       "                         &#x27;min_samples_split&#x27;: [2, 5]})</pre></div> </div></div><div class=\"sk-parallel\"><div class=\"sk-parallel-item\"><div class=\"sk-item\"><div class=\"sk-label-container\"><div class=\"sk-label fitted sk-toggleable\"><input class=\"sk-toggleable__control sk-hidden--visually\" id=\"sk-estimator-id-5\" type=\"checkbox\" ><label for=\"sk-estimator-id-5\" class=\"sk-toggleable__label fitted sk-toggleable__label-arrow fitted\">estimator: RandomForestClassifier</label><div class=\"sk-toggleable__content fitted\"><pre>RandomForestClassifier(n_jobs=-1, random_state=0)</pre></div> </div></div><div class=\"sk-serial\"><div class=\"sk-item\"><div class=\"sk-estimator fitted sk-toggleable\"><input class=\"sk-toggleable__control sk-hidden--visually\" id=\"sk-estimator-id-6\" type=\"checkbox\" ><label for=\"sk-estimator-id-6\" class=\"sk-toggleable__label fitted sk-toggleable__label-arrow fitted\">&nbsp;RandomForestClassifier<a class=\"sk-estimator-doc-link fitted\" rel=\"noreferrer\" target=\"_blank\" href=\"https://scikit-learn.org/1.4/modules/generated/sklearn.ensemble.RandomForestClassifier.html\">?<span>Documentation for RandomForestClassifier</span></a></label><div class=\"sk-toggleable__content fitted\"><pre>RandomForestClassifier(n_jobs=-1, random_state=0)</pre></div> </div></div></div></div></div></div></div></div></div>"
      ],
      "text/plain": [
       "GridSearchCV(cv=2, estimator=RandomForestClassifier(n_jobs=-1, random_state=0),\n",
       "             n_jobs=-1,\n",
       "             param_grid={'max_depth': [6], 'min_samples_leaf': [1, 6],\n",
       "                         'min_samples_split': [2, 5]})"
      ]
     },
     "execution_count": 122,
     "metadata": {},
     "output_type": "execute_result"
    }
   ],
   "source": [
    "from sklearn.model_selection import GridSearchCV\n",
    "\n",
    "params = {\n",
    "    'max_depth': [6],\n",
    "    'min_samples_split' : [2,5],\n",
    "    'min_samples_leaf': [1,6]\n",
    "}\n",
    "\n",
    "rf_clf = RandomForestClassifier(\n",
    "    n_estimators=100, \n",
    "    random_state=0, \n",
    "    n_jobs=-1)\n",
    "grid_cv = GridSearchCV(rf_clf, \n",
    "                       param_grid=params, \n",
    "                       cv=2, \n",
    "                       n_jobs=-1)\n",
    "grid_cv.fit(X_train, y_train)"
   ]
  },
  {
   "cell_type": "code",
   "execution_count": 123,
   "metadata": {},
   "outputs": [
    {
     "data": {
      "text/plain": [
       "({'max_depth': 6, 'min_samples_leaf': 1, 'min_samples_split': 5},\n",
       " np.float64(0.65))"
      ]
     },
     "execution_count": 123,
     "metadata": {},
     "output_type": "execute_result"
    }
   ],
   "source": [
    "grid_cv.best_params_, grid_cv.best_score_"
   ]
  },
  {
   "cell_type": "code",
   "execution_count": 124,
   "metadata": {},
   "outputs": [
    {
     "data": {
      "text/plain": [
       "0.6457142857142857"
      ]
     },
     "execution_count": 124,
     "metadata": {},
     "output_type": "execute_result"
    }
   ],
   "source": [
    "from sklearn.metrics import accuracy_score\n",
    "best_model = grid_cv.best_estimator_\n",
    "best_pred = best_model.predict(X_test)\n",
    "accuracy_score(y_test, best_pred)"
   ]
  },
  {
   "cell_type": "markdown",
   "metadata": {
    "id": "ac15ROBr4oZs"
   },
   "source": [
    "\n",
    "\n",
    "<br/>\n",
    "<br/>\n",
    "\n",
    "# 6-2. 예측 성능 확인해보기 - DecisionTreeClassifier\n",
    "\n",
    "- 학습된 모델로 테스트 데이터에 대한 예측을 수행합니다."
   ]
  },
  {
   "cell_type": "markdown",
   "metadata": {
    "id": "p2DDla4S4qNl"
   },
   "source": [
    "- 학습시킨 모델의 성능을 알아봅니다\n",
    "- 각 평가지표로 모델의 성능을 수치화하여 확인합니다.\n",
    "- 필요한 라이브러리를 import 하고 성능을 확인해보세요 (정확도, 정밀도, 재현율, f1, confusion_matrix)"
   ]
  },
  {
   "cell_type": "code",
   "execution_count": 154,
   "metadata": {},
   "outputs": [],
   "source": [
    "from sklearn.tree import DecisionTreeClassifier\n",
    "from sklearn.metrics import accuracy_score, classification_report, confusion_matrix"
   ]
  },
  {
   "cell_type": "code",
   "execution_count": 155,
   "metadata": {},
   "outputs": [
    {
     "name": "stdout",
     "output_type": "stream",
     "text": [
      "Decision Tree 정확도: 64.57%\n",
      "\n",
      "[분류 리포트]\n",
      "              precision    recall  f1-score   support\n",
      "\n",
      "           0       0.69      0.81      0.75       451\n",
      "           1       0.50      0.35      0.41       249\n",
      "\n",
      "    accuracy                           0.65       700\n",
      "   macro avg       0.60      0.58      0.58       700\n",
      "weighted avg       0.63      0.65      0.63       700\n",
      "\n",
      "\n",
      "[혼동 행렬]\n",
      "[[365  86]\n",
      " [162  87]]\n"
     ]
    }
   ],
   "source": [
    "# 1. 모델 생성 (최대 깊이 제한 걸어서 과적합 방지)\n",
    "dt_clf = DecisionTreeClassifier(max_depth=5, random_state=42)\n",
    "\n",
    "# 2. 학습\n",
    "dt_clf.fit(X_train, y_train)\n",
    "\n",
    "# 3. 예측\n",
    "dt_pred = dt_clf.predict(X_test)\n",
    "\n",
    "# 4. 정확도 평가\n",
    "acc = accuracy_score(y_test, dt_pred)\n",
    "print(f'Decision Tree 정확도: {acc * 100:.2f}%')\n",
    "\n",
    "# 5. 정밀도, 재현율 등 추가 지표 출력\n",
    "print(\"\\n[분류 리포트]\")\n",
    "print(classification_report(y_test, dt_pred))\n",
    "\n",
    "# 6. 혼동 행렬 확인\n",
    "print(\"\\n[혼동 행렬]\")\n",
    "print(confusion_matrix(y_test, dt_pred))\n"
   ]
  },
  {
   "cell_type": "markdown",
   "metadata": {
    "id": "91o2dDXpGboM"
   },
   "source": [
    "\n",
    "\n",
    "<br/>\n",
    "<br/>\n",
    "\n",
    "# 6-3. 예측 성능 확인해보기 - RandomForestClassifier\n",
    "\n",
    "- 학습된 모델로 테스트 데이터에 대한 예측을 수행합니다."
   ]
  },
  {
   "cell_type": "markdown",
   "metadata": {
    "id": "v1CmG6a6Gb_6"
   },
   "source": [
    "- 학습시킨 모델의 성능을 알아봅니다\n",
    "- 각 평가지표로 모델의 성능을 수치화하여 확인합니다.\n",
    "- 필요한 라이브러리를 import 하고 성능을 확인해보세요 (정확도, 정밀도, 재현율, f1, confusion_matrix)"
   ]
  },
  {
   "cell_type": "code",
   "execution_count": 153,
   "metadata": {},
   "outputs": [
    {
     "name": "stdout",
     "output_type": "stream",
     "text": [
      "{'max_depth': 6, 'min_samples_leaf': 6, 'min_samples_split': 2}\n",
      "최종 모델 정확도: 0.6228571428571429\n"
     ]
    }
   ],
   "source": [
    "from sklearn.model_selection import GridSearchCV\n",
    "\n",
    "# 1. GridSearch로 최적 파라미터 찾기\n",
    "grid_cv = GridSearchCV(rf_clf, param_grid=params, cv=5)\n",
    "grid_cv.fit(X_train, y_train)\n",
    "\n",
    "# 2. 최적 파라미터 확인\n",
    "print(grid_cv.best_params_)  # 여기에 기반해 아래 모델 설정\n",
    "\n",
    "# 3. 최적 파라미터로 모델 재학습 (지금 질문한 코드)\n",
    "rf = RandomForestClassifier(random_state=42, \n",
    "                            n_estimators=350, \n",
    "                            max_depth=20, \n",
    "                            min_samples_split=3, \n",
    "                            n_jobs=-1)\n",
    "\n",
    "rf.fit(X_train, y_train)\n",
    "rf_pred = rf.predict(X_test)\n",
    "accuracy_score(y_test, rf_pred)\n",
    "\n",
    "# 4. 최종 정확도 평가\n",
    "print(f'최종 모델 정확도: {accuracy_score(y_test, rf_pred)}')\n"
   ]
  },
  {
   "cell_type": "markdown",
   "metadata": {
    "id": "7gpDH5mSInJW"
   },
   "source": [
    "\n",
    "\n",
    "<br/>\n",
    "<br/>\n",
    "\n",
    "# 6-4. 예측 성능 확인해보기 - XGBoost\n",
    "\n",
    "- 학습된 모델로 테스트 데이터에 대한 예측을 수행합니다."
   ]
  },
  {
   "cell_type": "markdown",
   "metadata": {
    "id": "gmaIdV_4Inj4"
   },
   "source": [
    "- 학습시킨 모델의 성능을 알아봅니다\n",
    "- 각 평가지표로 모델의 성능을 수치화하여 확인합니다.\n",
    "- 필요한 라이브러리를 import 하고 성능을 확인해보세요 (정확도, 정밀도, 재현율, f1, confusion_matrix)"
   ]
  },
  {
   "cell_type": "code",
   "execution_count": 132,
   "metadata": {},
   "outputs": [
    {
     "name": "stdout",
     "output_type": "stream",
     "text": [
      "정확도: 59.00%\n"
     ]
    }
   ],
   "source": [
    "from xgboost import XGBClassifier\n",
    "from sklearn.metrics import accuracy_score\n",
    "\n",
    "xgb = XGBClassifier(n_estimators=300, max_depth=6, learning_rate=0.1, use_label_encoder=False, eval_metric='logloss')\n",
    "xgb.fit(X_train, y_train)\n",
    "pred = xgb.predict(X_test)\n",
    "print(f'정확도: {accuracy_score(y_test, pred) * 100:.2f}%')\n"
   ]
  },
  {
   "cell_type": "code",
   "execution_count": 133,
   "metadata": {},
   "outputs": [
    {
     "name": "stdout",
     "output_type": "stream",
     "text": [
      "              precision    recall  f1-score   support\n",
      "\n",
      "           0       0.67      0.73      0.70       451\n",
      "           1       0.41      0.33      0.37       249\n",
      "\n",
      "    accuracy                           0.59       700\n",
      "   macro avg       0.54      0.53      0.53       700\n",
      "weighted avg       0.57      0.59      0.58       700\n",
      "\n"
     ]
    }
   ],
   "source": [
    "from sklearn.metrics import classification_report\n",
    "print(classification_report(y_test, pred))"
   ]
  },
  {
   "cell_type": "code",
   "execution_count": null,
   "metadata": {},
   "outputs": [],
   "source": [
    "from sklearn.preprocessing import OneHotEncoder\n",
    "from sklearn.compose import ColumnTransformer\n",
    "\n",
    "categorical_cols = ['주구매지점', '주구매상품'] \n",
    "ct = ColumnTransformer(transformers=[\n",
    "    ('cat', OneHotEncoder(handle_unknown='ignore'), categorical_cols)\n",
    "], remainder='passthrough')\n",
    "\n",
    "X_train_encoded = ct.fit_transform(X_train)\n",
    "X_test_encoded = ct.transform(X_test)\n"
   ]
  },
  {
   "cell_type": "code",
   "execution_count": 136,
   "metadata": {},
   "outputs": [
    {
     "name": "stdout",
     "output_type": "stream",
     "text": [
      "정확도: 59.00%\n"
     ]
    }
   ],
   "source": [
    "from xgboost import XGBClassifier\n",
    "from sklearn.metrics import accuracy_score\n",
    "\n",
    "xgb = XGBClassifier(\n",
    "    n_estimators=300,\n",
    "    max_depth=6,\n",
    "    learning_rate=0.1,\n",
    "    use_label_encoder=False,\n",
    "    eval_metric='logloss',\n",
    "    random_state=42\n",
    ")\n",
    "\n",
    "xgb.fit(X_train, y_train)\n",
    "pred = xgb.predict(X_test)\n",
    "print(f'정확도: {accuracy_score(y_test, pred) * 100:.2f}%')\n"
   ]
  },
  {
   "cell_type": "markdown",
   "metadata": {
    "id": "0oXz-hAO4hWc"
   },
   "source": [
    "<br/>\n",
    "\n",
    "---\n",
    "\n",
    "\n",
    "<br/>\n",
    "\n",
    "## 7.  위 4가지 모델의 학습 & 예측 & 평가 결과를 확인하고 최고 성능을 내는 모델을 찾아봅시다!\n",
    "\n",
    "- 어떤 모델이 가장 성능이 좋은가요 ?\n",
    "DecisionTreeClassifier : 64%\n",
    "LogisticRegression : 62%\n",
    "RandomForestClassifier : 62%\n",
    "XGBClassifier : 59%"
   ]
  }
 ],
 "metadata": {
  "colab": {
   "provenance": []
  },
  "kernelspec": {
   "display_name": "hi_ml_env",
   "language": "python",
   "name": "python3"
  },
  "language_info": {
   "codemirror_mode": {
    "name": "ipython",
    "version": 3
   },
   "file_extension": ".py",
   "mimetype": "text/x-python",
   "name": "python",
   "nbconvert_exporter": "python",
   "pygments_lexer": "ipython3",
   "version": "3.10.16"
  }
 },
 "nbformat": 4,
 "nbformat_minor": 0
}
