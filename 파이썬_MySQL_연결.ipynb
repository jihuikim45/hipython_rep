{
 "cells": [
  {
   "cell_type": "code",
   "execution_count": 7,
   "id": "6755353b",
   "metadata": {},
   "outputs": [
    {
     "name": "stdout",
     "output_type": "stream",
     "text": [
      "패키지 모두 설치 완료! MySQL 연결 준비 OK\n"
     ]
    }
   ],
   "source": [
    "import pymysql\n",
    "import cryptography  # ← 설치 확인용\n",
    "print(\"패키지 모두 설치 완료! MySQL 연결 준비 OK\")\n"
   ]
  },
  {
   "cell_type": "code",
   "execution_count": 31,
   "id": "1f449cd6",
   "metadata": {},
   "outputs": [
    {
     "name": "stdout",
     "output_type": "stream",
     "text": [
      "MySQL 버전: 9.4.0\n",
      "데이터베이스 목록:\n",
      "- information_schema\n",
      "- mydb\n",
      "- mysql\n",
      "- performance_schema\n",
      "- sys\n"
     ]
    }
   ],
   "source": [
    "import pymysql\n",
    "\n",
    "# MySQL 연결 설정\n",
    "connection = pymysql.connect(\n",
    "    host='192.168.203.131',  # 도커 컨테이너가 로컬에서 실행 중이므로 localhost\n",
    "    port=3308,         # 도커 실행 시 매핑한 포트 (3307:3306)\n",
    "    user='root',       # MySQL 사용자 이름\n",
    "    password='Qpswutm45!',   # 도커 실행 시 설정한 루트 비밀번호\n",
    "    database='mydb'   # 기본 데이터베이스 (없으면 생성한 데이터베이스 이름)\n",
    ")\n",
    "\n",
    "try:\n",
    "    # 커서 생성\n",
    "    with connection.cursor() as cursor:\n",
    "        # SQL 쿼리 실행\n",
    "        cursor.execute(\"SELECT VERSION()\")\n",
    "        # 결과 가져오기\n",
    "        result = cursor.fetchone()\n",
    "        print(f\"MySQL 버전: {result[0]}\")\n",
    "        \n",
    "        # 데이터베이스 목록 조회\n",
    "        cursor.execute(\"SHOW DATABASES\")\n",
    "        databases = cursor.fetchall()\n",
    "        print(\"데이터베이스 목록:\")\n",
    "        for db in databases:\n",
    "            print(f\"- {db[0]}\")\n",
    "            \n",
    "finally:\n",
    "    # 연결 종료\n",
    "    connection.close()\n"
   ]
  },
  {
   "cell_type": "code",
   "execution_count": 32,
   "id": "4ef43cec",
   "metadata": {},
   "outputs": [
    {
     "name": "stdout",
     "output_type": "stream",
     "text": [
      "my_database_db 데이터베이스 생성 완료!\n",
      "books 테이블 생성 완료!\n",
      "✅ 데이터 삽입 완료!\n"
     ]
    }
   ],
   "source": [
    "import pymysql\n",
    "\n",
    "# MySQL 연결 설정\n",
    "connection = pymysql.connect(\n",
    "    host='192.168.203.131',  # 도커 컨테이너가 로컬에서 실행 중이므로 localhost\n",
    "    port=3308,         # 도커 실행 시 매핑한 포트 (3307:3306)\n",
    "    user='root',       # MySQL 사용자 이름\n",
    "    password='Qpswutm45!',   # 도커 실행 시 설정한 루트 비밀번호\n",
    "    database='mydb',  # 기본 데이터베이스 (없으면 생성한 데이터베이스 이름)\n",
    "    charset='utf8mb4'\n",
    ")\n",
    "\n",
    "# 2. 데이터베이스 생성\n",
    "with connection.cursor() as cursor:\n",
    "    cursor.execute(\"CREATE DATABASE IF NOT EXISTS mydb;\")\n",
    "    print(\"my_database_db 데이터베이스 생성 완료!\")\n",
    "    \n",
    "\n",
    "# 3. 테이블 생성\n",
    "with connection.cursor() as cursor:\n",
    "    cursor.execute(\"USE mydb;\")\n",
    "    cursor.execute(\"\"\"\n",
    "        CREATE TABLE IF NOT EXISTS books (\n",
    "            id INT AUTO_INCREMENT PRIMARY KEY,\n",
    "            title VARCHAR(255),\n",
    "            author VARCHAR(255),\n",
    "            price INT\n",
    "        );\n",
    "    \"\"\")\n",
    "    print(\"books 테이블 생성 완료!\")\n",
    "\n",
    "\n",
    "# 4. 데이터 삽입\n",
    "    sql = \"INSERT INTO books (title, author, price) VALUES (%s, %s, %s);\"\n",
    "    \n",
    "    try:\n",
    "            cursor.execute(sql, (\"데이터 플랫폼 설계와 구축\", \"박종하\", \"30000\"))\n",
    "            connection.commit()\n",
    "            print(\"✅ 데이터 삽입 완료!\")\n",
    "    except pymysql.MySQLError as e:\n",
    "        print(\"❌ MySQL 오류 발생:\", e)\n",
    "        connection.rollback()\n",
    "\n",
    "    except Exception as e:\n",
    "        print(\"❌ 연결 오류:\", e)\n",
    "\n",
    "    finally:\n",
    "        if connection:\n",
    "            connection.close()\n",
    "\n",
    "\n",
    "\n"
   ]
  },
  {
   "cell_type": "markdown",
   "id": "3937e805",
   "metadata": {},
   "source": [
    "팁: 연결은 블록마다 새로 여는 게 좋아요\n",
    "MySQL과 Python 연동 시에는 셀 하나에서 연결 열고 닫고,\n",
    "다음 셀에서 작업할 때는 다시 연결 열기 패턴을 추천해요."
   ]
  },
  {
   "cell_type": "code",
   "execution_count": null,
   "id": "e67333ec",
   "metadata": {},
   "outputs": [],
   "source": []
  }
 ],
 "metadata": {
  "kernelspec": {
   "display_name": "hi_ml_env",
   "language": "python",
   "name": "python3"
  },
  "language_info": {
   "codemirror_mode": {
    "name": "ipython",
    "version": 3
   },
   "file_extension": ".py",
   "mimetype": "text/x-python",
   "name": "python",
   "nbconvert_exporter": "python",
   "pygments_lexer": "ipython3",
   "version": "3.10.16"
  }
 },
 "nbformat": 4,
 "nbformat_minor": 5
}
